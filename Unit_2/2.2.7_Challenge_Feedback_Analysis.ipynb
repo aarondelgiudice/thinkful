{
 "cells": [
  {
   "cell_type": "markdown",
   "metadata": {},
   "source": [
    "# Challenge: Feedback analysis\n",
    "Unit 2 / Lesson 2 / Project 7\n",
    "\n",
    "Now that you've spent some time tinkering with an example Naive Bayes Classifier, it's time to build your own.\n",
    "\n",
    "We've mentioned that Naive Bayes is particularly good for text classification problems.\n",
    "Before we made a spam filter and now we'll perform a sentiment analysis, classifying whether feedback left on a website is either positive or negative.\n",
    "\n",
    "Again the UCI Machine Learning database has a nice labeled [dataset of sentiment labelled sentences](https://archive.ics.uci.edu/ml/datasets/Sentiment+Labelled+Sentences) for us to use.\n",
    "This dataset was created for the paper [From Group to Individual Labels using Deep Features](http://mdenil.com/media/papers/2015-deep-multi-instance-learning.pdf), Kotzias et. al., KDD 2015.\n",
    "\n",
    "Pick one of the company data files and build your own classifier.\n",
    "When you're satisfied with its performance (use the accuracy measure shown in the example), test it on one of the other datasets to see how well these kinds of classifiers translate from one context to another.\n",
    "\n",
    "Submit your model and a brief writeup of your feature engineering and selection process."
   ]
  },
  {
   "cell_type": "code",
   "execution_count": 1,
   "metadata": {
    "collapsed": true
   },
   "outputs": [],
   "source": [
    "%matplotlib inline\n",
    "import numpy as np\n",
    "import pandas as pd\n",
    "import scipy\n",
    "import sklearn\n",
    "import matplotlib.pyplot as plt\n",
    "import seaborn as sns"
   ]
  },
  {
   "cell_type": "code",
   "execution_count": 2,
   "metadata": {},
   "outputs": [
    {
     "name": "stdout",
     "output_type": "stream",
     "text": [
      "1000\n",
      "748\n",
      "1000\n"
     ]
    },
    {
     "data": {
      "text/html": [
       "<div>\n",
       "<style scoped>\n",
       "    .dataframe tbody tr th:only-of-type {\n",
       "        vertical-align: middle;\n",
       "    }\n",
       "\n",
       "    .dataframe tbody tr th {\n",
       "        vertical-align: top;\n",
       "    }\n",
       "\n",
       "    .dataframe thead th {\n",
       "        text-align: right;\n",
       "    }\n",
       "</style>\n",
       "<table border=\"1\" class=\"dataframe\">\n",
       "  <thead>\n",
       "    <tr style=\"text-align: right;\">\n",
       "      <th></th>\n",
       "      <th>sentence</th>\n",
       "      <th>score</th>\n",
       "    </tr>\n",
       "  </thead>\n",
       "  <tbody>\n",
       "    <tr>\n",
       "      <th>0</th>\n",
       "      <td>So there is no way for me to plug it in here i...</td>\n",
       "      <td>0</td>\n",
       "    </tr>\n",
       "    <tr>\n",
       "      <th>1</th>\n",
       "      <td>Good case, Excellent value.</td>\n",
       "      <td>1</td>\n",
       "    </tr>\n",
       "    <tr>\n",
       "      <th>2</th>\n",
       "      <td>Great for the jawbone.</td>\n",
       "      <td>1</td>\n",
       "    </tr>\n",
       "    <tr>\n",
       "      <th>3</th>\n",
       "      <td>Tied to charger for conversations lasting more...</td>\n",
       "      <td>0</td>\n",
       "    </tr>\n",
       "    <tr>\n",
       "      <th>4</th>\n",
       "      <td>The mic is great.</td>\n",
       "      <td>1</td>\n",
       "    </tr>\n",
       "  </tbody>\n",
       "</table>\n",
       "</div>"
      ],
      "text/plain": [
       "                                            sentence  score\n",
       "0  So there is no way for me to plug it in here i...      0\n",
       "1                        Good case, Excellent value.      1\n",
       "2                             Great for the jawbone.      1\n",
       "3  Tied to charger for conversations lasting more...      0\n",
       "4                                  The mic is great.      1"
      ]
     },
     "execution_count": 2,
     "metadata": {},
     "output_type": "execute_result"
    }
   ],
   "source": [
    "# Grab and process the raw data.\n",
    "PATH_amzn = ('https://raw.githubusercontent.com/Thinkful-Ed/data-201-resources/master/sentiment_labelled_sentences/amazon_cells_labelled.txt')\n",
    "PATH_imdb = ('https://raw.githubusercontent.com/Thinkful-Ed/data-201-resources/master/sentiment_labelled_sentences/imdb_labelled.txt')\n",
    "PATH_yelp = ('https://raw.githubusercontent.com/Thinkful-Ed/data-201-resources/master/sentiment_labelled_sentences/yelp_labelled.txt')\n",
    "\n",
    "amzn = pd.read_csv(PATH_amzn, delimiter='\\t', header=None)\n",
    "imdb = pd.read_csv(PATH_imdb, delimiter='\\t', header=None)\n",
    "yelp = pd.read_csv(PATH_yelp, delimiter='\\t', header=None)\n",
    "\n",
    "for i in [amzn, imdb, yelp]:\n",
    "    i.columns = ['sentence', 'score']\n",
    "    print(len(i))\n",
    "\n",
    "amzn.head()"
   ]
  },
  {
   "cell_type": "markdown",
   "metadata": {},
   "source": [
    "We have three data sets, each with a sentence and a score.\n",
    "\n",
    "Score is either 1 (for positive) or 0 (for negative)\t\n",
    "The sentences come from three different websites/fields: \n",
    "- imdb.com \n",
    "- amazon.com \n",
    "- yelp.com \n",
    "\n",
    "For each website, there exist 500 positive and 500 negative sentences.\n",
    "The sentences were extracted from reviews of products, movies, and restaurants.\n",
    "Those were selected randomly for larger datasets of reviews. \n",
    "The sentences were selected to have a clearly positive or negative connotaton, the goal was for no neutral sentences to be selected.\n",
    "\n",
    "Let's start our analysis by comparing the sentences to a list of words with a distinct positive or negative correlation."
   ]
  },
  {
   "cell_type": "code",
   "execution_count": 34,
   "metadata": {},
   "outputs": [],
   "source": [
    "# create a list of positive and negative words\n",
    "positive = ['great', 'good', 'love', 'awesome', 'easy', 'helpful', 'useful', 'simple',\n",
    "            'worth', 'thanks', 'amazing', 'perfect', 'price', 'everything', 'ever', 'must',\n",
    "           'recommend', 'always', 'learn']\n",
    "\n",
    "negative = ['waste', 'money', 'crashes', 'tried', 'useless', 'nothing', \"didn't\", 'stupid']"
   ]
  },
  {
   "cell_type": "code",
   "execution_count": 35,
   "metadata": {},
   "outputs": [
    {
     "data": {
      "image/png": "[encoded data removed]",
      "text/plain": [
       "<Figure size 432x288 with 2 Axes>"
      ]
     },
     "metadata": {
      "needs_background": "light"
     },
     "output_type": "display_data"
    }
   ],
   "source": [
    "# create a feature for each item in positive list\n",
    "for i in positive:\n",
    "    amzn[str(i)] = amzn.sentence.str.contains(\n",
    "        str(i),\n",
    "        case=False\n",
    "    )\n",
    "\n",
    "# create a heatmap to view correlation\n",
    "sns.heatmap(amzn.corr());"
   ]
  },
  {
   "cell_type": "code",
   "execution_count": 36,
   "metadata": {},
   "outputs": [
    {
     "data": {
      "text/html": [
       "<div>\n",
       "<style scoped>\n",
       "    .dataframe tbody tr th:only-of-type {\n",
       "        vertical-align: middle;\n",
       "    }\n",
       "\n",
       "    .dataframe tbody tr th {\n",
       "        vertical-align: top;\n",
       "    }\n",
       "\n",
       "    .dataframe thead th {\n",
       "        text-align: right;\n",
       "    }\n",
       "</style>\n",
       "<table border=\"1\" class=\"dataframe\">\n",
       "  <thead>\n",
       "    <tr style=\"text-align: right;\">\n",
       "      <th></th>\n",
       "      <th>sentence</th>\n",
       "      <th>score</th>\n",
       "      <th>great</th>\n",
       "      <th>good</th>\n",
       "      <th>love</th>\n",
       "      <th>awesome</th>\n",
       "      <th>easy</th>\n",
       "      <th>helpful</th>\n",
       "      <th>useful</th>\n",
       "      <th>simple</th>\n",
       "      <th>...</th>\n",
       "      <th>must</th>\n",
       "      <th>recommend</th>\n",
       "      <th>always</th>\n",
       "      <th>learn</th>\n",
       "      <th>waste</th>\n",
       "      <th>money</th>\n",
       "      <th>tried</th>\n",
       "      <th>useless</th>\n",
       "      <th>nothing</th>\n",
       "      <th>didn't</th>\n",
       "    </tr>\n",
       "  </thead>\n",
       "  <tbody>\n",
       "    <tr>\n",
       "      <th>0</th>\n",
       "      <td>So there is no way for me to plug it in here i...</td>\n",
       "      <td>0</td>\n",
       "      <td>False</td>\n",
       "      <td>False</td>\n",
       "      <td>False</td>\n",
       "      <td>False</td>\n",
       "      <td>False</td>\n",
       "      <td>False</td>\n",
       "      <td>False</td>\n",
       "      <td>False</td>\n",
       "      <td>...</td>\n",
       "      <td>False</td>\n",
       "      <td>False</td>\n",
       "      <td>False</td>\n",
       "      <td>False</td>\n",
       "      <td>True</td>\n",
       "      <td>True</td>\n",
       "      <td>True</td>\n",
       "      <td>True</td>\n",
       "      <td>True</td>\n",
       "      <td>True</td>\n",
       "    </tr>\n",
       "    <tr>\n",
       "      <th>1</th>\n",
       "      <td>Good case, Excellent value.</td>\n",
       "      <td>1</td>\n",
       "      <td>False</td>\n",
       "      <td>True</td>\n",
       "      <td>False</td>\n",
       "      <td>False</td>\n",
       "      <td>False</td>\n",
       "      <td>False</td>\n",
       "      <td>False</td>\n",
       "      <td>False</td>\n",
       "      <td>...</td>\n",
       "      <td>False</td>\n",
       "      <td>False</td>\n",
       "      <td>False</td>\n",
       "      <td>False</td>\n",
       "      <td>True</td>\n",
       "      <td>True</td>\n",
       "      <td>True</td>\n",
       "      <td>True</td>\n",
       "      <td>True</td>\n",
       "      <td>True</td>\n",
       "    </tr>\n",
       "    <tr>\n",
       "      <th>2</th>\n",
       "      <td>Great for the jawbone.</td>\n",
       "      <td>1</td>\n",
       "      <td>True</td>\n",
       "      <td>False</td>\n",
       "      <td>False</td>\n",
       "      <td>False</td>\n",
       "      <td>False</td>\n",
       "      <td>False</td>\n",
       "      <td>False</td>\n",
       "      <td>False</td>\n",
       "      <td>...</td>\n",
       "      <td>False</td>\n",
       "      <td>False</td>\n",
       "      <td>False</td>\n",
       "      <td>False</td>\n",
       "      <td>True</td>\n",
       "      <td>True</td>\n",
       "      <td>True</td>\n",
       "      <td>True</td>\n",
       "      <td>True</td>\n",
       "      <td>True</td>\n",
       "    </tr>\n",
       "    <tr>\n",
       "      <th>3</th>\n",
       "      <td>Tied to charger for conversations lasting more...</td>\n",
       "      <td>0</td>\n",
       "      <td>False</td>\n",
       "      <td>False</td>\n",
       "      <td>False</td>\n",
       "      <td>False</td>\n",
       "      <td>False</td>\n",
       "      <td>False</td>\n",
       "      <td>False</td>\n",
       "      <td>False</td>\n",
       "      <td>...</td>\n",
       "      <td>False</td>\n",
       "      <td>False</td>\n",
       "      <td>False</td>\n",
       "      <td>False</td>\n",
       "      <td>True</td>\n",
       "      <td>True</td>\n",
       "      <td>True</td>\n",
       "      <td>True</td>\n",
       "      <td>True</td>\n",
       "      <td>True</td>\n",
       "    </tr>\n",
       "    <tr>\n",
       "      <th>4</th>\n",
       "      <td>The mic is great.</td>\n",
       "      <td>1</td>\n",
       "      <td>True</td>\n",
       "      <td>False</td>\n",
       "      <td>False</td>\n",
       "      <td>False</td>\n",
       "      <td>False</td>\n",
       "      <td>False</td>\n",
       "      <td>False</td>\n",
       "      <td>False</td>\n",
       "      <td>...</td>\n",
       "      <td>False</td>\n",
       "      <td>False</td>\n",
       "      <td>False</td>\n",
       "      <td>False</td>\n",
       "      <td>True</td>\n",
       "      <td>True</td>\n",
       "      <td>True</td>\n",
       "      <td>True</td>\n",
       "      <td>True</td>\n",
       "      <td>True</td>\n",
       "    </tr>\n",
       "  </tbody>\n",
       "</table>\n",
       "<p>5 rows × 26 columns</p>\n",
       "</div>"
      ],
      "text/plain": [
       "                                            sentence  score  great   good  \\\n",
       "0  So there is no way for me to plug it in here i...      0  False  False   \n",
       "1                        Good case, Excellent value.      1  False   True   \n",
       "2                             Great for the jawbone.      1   True  False   \n",
       "3  Tied to charger for conversations lasting more...      0  False  False   \n",
       "4                                  The mic is great.      1   True  False   \n",
       "\n",
       "    love  awesome   easy  helpful  useful  simple   ...     must  recommend  \\\n",
       "0  False    False  False    False   False   False   ...    False      False   \n",
       "1  False    False  False    False   False   False   ...    False      False   \n",
       "2  False    False  False    False   False   False   ...    False      False   \n",
       "3  False    False  False    False   False   False   ...    False      False   \n",
       "4  False    False  False    False   False   False   ...    False      False   \n",
       "\n",
       "   always  learn  waste  money  tried  useless  nothing  didn't  \n",
       "0   False  False   True   True   True     True     True    True  \n",
       "1   False  False   True   True   True     True     True    True  \n",
       "2   False  False   True   True   True     True     True    True  \n",
       "3   False  False   True   True   True     True     True    True  \n",
       "4   False  False   True   True   True     True     True    True  \n",
       "\n",
       "[5 rows x 26 columns]"
      ]
     },
     "execution_count": 36,
     "metadata": {},
     "output_type": "execute_result"
    }
   ],
   "source": [
    "# drop any features that exhibit correlation\n",
    "amzn = amzn.drop('everything', axis=1)\n",
    "amzn.head()"
   ]
  },
  {
   "cell_type": "code",
   "execution_count": 40,
   "metadata": {},
   "outputs": [],
   "source": [
    "#perform naive bayes model\n",
    "data = amzn.iloc[:,2:]\n",
    "target = amzn['score']"
   ]
  },
  {
   "cell_type": "code",
   "execution_count": 41,
   "metadata": {},
   "outputs": [
    {
     "name": "stdout",
     "output_type": "stream",
     "text": [
      "Number of mislabeled points out of a total 1000 points: 295\n"
     ]
    }
   ],
   "source": [
    "# Our data is binary / boolean, so we're importing the Bernoulli classifier.\n",
    "from sklearn.naive_bayes import BernoulliNB\n",
    "\n",
    "# instantiate our model and store it in a new variable\n",
    "bnb = BernoulliNB()\n",
    "\n",
    "# fit our model to the data\n",
    "bnb.fit(data, target)\n",
    "\n",
    "# classify, storing the result in a new variable\n",
    "y_pred = bnb.predict(data)\n",
    "\n",
    "# display our results\n",
    "print('Number of mislabeled points out of a total {} points: {}'.format(\n",
    "    data.shape[0],\n",
    "    (target != y_pred).sum()\n",
    "    ))"
   ]
  },
  {
   "cell_type": "markdown",
   "metadata": {},
   "source": [
    "Looks like our model has roughly a 70% success rate. Not _that_ great.\n",
    "Let's see if we can improve our model performance with the addition of negative words."
   ]
  },
  {
   "cell_type": "code",
   "execution_count": 47,
   "metadata": {},
   "outputs": [
    {
     "data": {
      "image/png": "[encoded data removed]",
      "text/plain": [
       "<Figure size 432x288 with 2 Axes>"
      ]
     },
     "metadata": {
      "needs_background": "light"
     },
     "output_type": "display_data"
    }
   ],
   "source": [
    "# create a feature for each item in positive list\n",
    "for i in negative:\n",
    "    amzn[str(i)] = ~amzn.sentence.str.contains(\n",
    "        str(i),\n",
    "        case=False\n",
    "    )\n",
    "\n",
    "# create a heatmap to view any possible correlation\n",
    "sns.heatmap(amzn.corr());"
   ]
  },
  {
   "cell_type": "code",
   "execution_count": 49,
   "metadata": {},
   "outputs": [
    {
     "data": {
      "text/html": [
       "<div>\n",
       "<style scoped>\n",
       "    .dataframe tbody tr th:only-of-type {\n",
       "        vertical-align: middle;\n",
       "    }\n",
       "\n",
       "    .dataframe tbody tr th {\n",
       "        vertical-align: top;\n",
       "    }\n",
       "\n",
       "    .dataframe thead th {\n",
       "        text-align: right;\n",
       "    }\n",
       "</style>\n",
       "<table border=\"1\" class=\"dataframe\">\n",
       "  <thead>\n",
       "    <tr style=\"text-align: right;\">\n",
       "      <th></th>\n",
       "      <th>sentence</th>\n",
       "      <th>score</th>\n",
       "      <th>great</th>\n",
       "      <th>good</th>\n",
       "      <th>love</th>\n",
       "      <th>awesome</th>\n",
       "      <th>easy</th>\n",
       "      <th>helpful</th>\n",
       "      <th>useful</th>\n",
       "      <th>simple</th>\n",
       "      <th>...</th>\n",
       "      <th>must</th>\n",
       "      <th>recommend</th>\n",
       "      <th>always</th>\n",
       "      <th>learn</th>\n",
       "      <th>waste</th>\n",
       "      <th>money</th>\n",
       "      <th>tried</th>\n",
       "      <th>useless</th>\n",
       "      <th>nothing</th>\n",
       "      <th>didn't</th>\n",
       "    </tr>\n",
       "  </thead>\n",
       "  <tbody>\n",
       "    <tr>\n",
       "      <th>0</th>\n",
       "      <td>So there is no way for me to plug it in here i...</td>\n",
       "      <td>0</td>\n",
       "      <td>False</td>\n",
       "      <td>False</td>\n",
       "      <td>False</td>\n",
       "      <td>False</td>\n",
       "      <td>False</td>\n",
       "      <td>False</td>\n",
       "      <td>False</td>\n",
       "      <td>False</td>\n",
       "      <td>...</td>\n",
       "      <td>False</td>\n",
       "      <td>False</td>\n",
       "      <td>False</td>\n",
       "      <td>False</td>\n",
       "      <td>True</td>\n",
       "      <td>True</td>\n",
       "      <td>True</td>\n",
       "      <td>True</td>\n",
       "      <td>True</td>\n",
       "      <td>True</td>\n",
       "    </tr>\n",
       "    <tr>\n",
       "      <th>1</th>\n",
       "      <td>Good case, Excellent value.</td>\n",
       "      <td>1</td>\n",
       "      <td>False</td>\n",
       "      <td>True</td>\n",
       "      <td>False</td>\n",
       "      <td>False</td>\n",
       "      <td>False</td>\n",
       "      <td>False</td>\n",
       "      <td>False</td>\n",
       "      <td>False</td>\n",
       "      <td>...</td>\n",
       "      <td>False</td>\n",
       "      <td>False</td>\n",
       "      <td>False</td>\n",
       "      <td>False</td>\n",
       "      <td>True</td>\n",
       "      <td>True</td>\n",
       "      <td>True</td>\n",
       "      <td>True</td>\n",
       "      <td>True</td>\n",
       "      <td>True</td>\n",
       "    </tr>\n",
       "    <tr>\n",
       "      <th>2</th>\n",
       "      <td>Great for the jawbone.</td>\n",
       "      <td>1</td>\n",
       "      <td>True</td>\n",
       "      <td>False</td>\n",
       "      <td>False</td>\n",
       "      <td>False</td>\n",
       "      <td>False</td>\n",
       "      <td>False</td>\n",
       "      <td>False</td>\n",
       "      <td>False</td>\n",
       "      <td>...</td>\n",
       "      <td>False</td>\n",
       "      <td>False</td>\n",
       "      <td>False</td>\n",
       "      <td>False</td>\n",
       "      <td>True</td>\n",
       "      <td>True</td>\n",
       "      <td>True</td>\n",
       "      <td>True</td>\n",
       "      <td>True</td>\n",
       "      <td>True</td>\n",
       "    </tr>\n",
       "    <tr>\n",
       "      <th>3</th>\n",
       "      <td>Tied to charger for conversations lasting more...</td>\n",
       "      <td>0</td>\n",
       "      <td>False</td>\n",
       "      <td>False</td>\n",
       "      <td>False</td>\n",
       "      <td>False</td>\n",
       "      <td>False</td>\n",
       "      <td>False</td>\n",
       "      <td>False</td>\n",
       "      <td>False</td>\n",
       "      <td>...</td>\n",
       "      <td>False</td>\n",
       "      <td>False</td>\n",
       "      <td>False</td>\n",
       "      <td>False</td>\n",
       "      <td>True</td>\n",
       "      <td>True</td>\n",
       "      <td>True</td>\n",
       "      <td>True</td>\n",
       "      <td>True</td>\n",
       "      <td>True</td>\n",
       "    </tr>\n",
       "    <tr>\n",
       "      <th>4</th>\n",
       "      <td>The mic is great.</td>\n",
       "      <td>1</td>\n",
       "      <td>True</td>\n",
       "      <td>False</td>\n",
       "      <td>False</td>\n",
       "      <td>False</td>\n",
       "      <td>False</td>\n",
       "      <td>False</td>\n",
       "      <td>False</td>\n",
       "      <td>False</td>\n",
       "      <td>...</td>\n",
       "      <td>False</td>\n",
       "      <td>False</td>\n",
       "      <td>False</td>\n",
       "      <td>False</td>\n",
       "      <td>True</td>\n",
       "      <td>True</td>\n",
       "      <td>True</td>\n",
       "      <td>True</td>\n",
       "      <td>True</td>\n",
       "      <td>True</td>\n",
       "    </tr>\n",
       "  </tbody>\n",
       "</table>\n",
       "<p>5 rows × 26 columns</p>\n",
       "</div>"
      ],
      "text/plain": [
       "                                            sentence  score  great   good  \\\n",
       "0  So there is no way for me to plug it in here i...      0  False  False   \n",
       "1                        Good case, Excellent value.      1  False   True   \n",
       "2                             Great for the jawbone.      1   True  False   \n",
       "3  Tied to charger for conversations lasting more...      0  False  False   \n",
       "4                                  The mic is great.      1   True  False   \n",
       "\n",
       "    love  awesome   easy  helpful  useful  simple   ...     must  recommend  \\\n",
       "0  False    False  False    False   False   False   ...    False      False   \n",
       "1  False    False  False    False   False   False   ...    False      False   \n",
       "2  False    False  False    False   False   False   ...    False      False   \n",
       "3  False    False  False    False   False   False   ...    False      False   \n",
       "4  False    False  False    False   False   False   ...    False      False   \n",
       "\n",
       "   always  learn  waste  money  tried  useless  nothing  didn't  \n",
       "0   False  False   True   True   True     True     True    True  \n",
       "1   False  False   True   True   True     True     True    True  \n",
       "2   False  False   True   True   True     True     True    True  \n",
       "3   False  False   True   True   True     True     True    True  \n",
       "4   False  False   True   True   True     True     True    True  \n",
       "\n",
       "[5 rows x 26 columns]"
      ]
     },
     "execution_count": 49,
     "metadata": {},
     "output_type": "execute_result"
    }
   ],
   "source": [
    "# drop any features that exhibit correlation\n",
    "amzn = amzn.drop('crashes', axis=1)\n",
    "amzn = amzn.drop('stupid', axis=1)\n",
    "amzn.head()"
   ]
  },
  {
   "cell_type": "code",
   "execution_count": 50,
   "metadata": {
    "collapsed": true
   },
   "outputs": [],
   "source": [
    "# perform another naive bayes model\n",
    "data = amzn.iloc[:,2:]\n",
    "target = amzn['score']"
   ]
  },
  {
   "cell_type": "code",
   "execution_count": 51,
   "metadata": {},
   "outputs": [
    {
     "name": "stdout",
     "output_type": "stream",
     "text": [
      "Number of mislabeled points out of a total 1000 points: 295\n"
     ]
    }
   ],
   "source": [
    "# Our data is binary / boolean, so we're importing the Bernoulli classifier.\n",
    "from sklearn.naive_bayes import BernoulliNB\n",
    "\n",
    "# instantiate our model and store it in a new variable\n",
    "bnb = BernoulliNB()\n",
    "\n",
    "# fit our model to the data\n",
    "bnb.fit(data, target)\n",
    "\n",
    "# classify, storing the result in a new variable\n",
    "y_pred = bnb.predict(data)\n",
    "\n",
    "# display our results\n",
    "print('Number of mislabeled points out of a total {} points: {}'.format(\n",
    "    data.shape[0],\n",
    "    (target != y_pred).sum()\n",
    "    ))"
   ]
  },
  {
   "cell_type": "markdown",
   "metadata": {},
   "source": [
    "It looks like the addition of negative word features to our model didn't improve our success rate at all.\n",
    "\n",
    "It's possible our model will be more successful when applied to a different data set.\n",
    "Let's try our model on the yelp data"
   ]
  },
  {
   "cell_type": "code",
   "execution_count": 52,
   "metadata": {},
   "outputs": [
    {
     "data": {
      "image/png": "[encoded data removed]",
      "text/plain": [
       "<Figure size 432x288 with 2 Axes>"
      ]
     },
     "metadata": {
      "needs_background": "light"
     },
     "output_type": "display_data"
    }
   ],
   "source": [
    "# create a feature for each item in positive list\n",
    "for i in positive:\n",
    "    yelp[str(i)] = yelp.sentence.str.contains(\n",
    "        str(i),\n",
    "        case=False\n",
    "    )\n",
    "\n",
    "sns.heatmap(yelp.corr());"
   ]
  },
  {
   "cell_type": "code",
   "execution_count": 53,
   "metadata": {},
   "outputs": [
    {
     "data": {
      "text/html": [
       "<div>\n",
       "<style scoped>\n",
       "    .dataframe tbody tr th:only-of-type {\n",
       "        vertical-align: middle;\n",
       "    }\n",
       "\n",
       "    .dataframe tbody tr th {\n",
       "        vertical-align: top;\n",
       "    }\n",
       "\n",
       "    .dataframe thead th {\n",
       "        text-align: right;\n",
       "    }\n",
       "</style>\n",
       "<table border=\"1\" class=\"dataframe\">\n",
       "  <thead>\n",
       "    <tr style=\"text-align: right;\">\n",
       "      <th></th>\n",
       "      <th>sentence</th>\n",
       "      <th>score</th>\n",
       "      <th>great</th>\n",
       "      <th>good</th>\n",
       "      <th>love</th>\n",
       "      <th>awesome</th>\n",
       "      <th>helpful</th>\n",
       "      <th>simple</th>\n",
       "      <th>worth</th>\n",
       "      <th>thanks</th>\n",
       "      <th>...</th>\n",
       "      <th>must</th>\n",
       "      <th>recommend</th>\n",
       "      <th>always</th>\n",
       "      <th>learn</th>\n",
       "      <th>waste</th>\n",
       "      <th>money</th>\n",
       "      <th>tried</th>\n",
       "      <th>nothing</th>\n",
       "      <th>didn't</th>\n",
       "      <th>stupid</th>\n",
       "    </tr>\n",
       "  </thead>\n",
       "  <tbody>\n",
       "    <tr>\n",
       "      <th>0</th>\n",
       "      <td>Wow... Loved this place.</td>\n",
       "      <td>1</td>\n",
       "      <td>False</td>\n",
       "      <td>False</td>\n",
       "      <td>True</td>\n",
       "      <td>False</td>\n",
       "      <td>False</td>\n",
       "      <td>False</td>\n",
       "      <td>False</td>\n",
       "      <td>False</td>\n",
       "      <td>...</td>\n",
       "      <td>False</td>\n",
       "      <td>False</td>\n",
       "      <td>False</td>\n",
       "      <td>False</td>\n",
       "      <td>True</td>\n",
       "      <td>True</td>\n",
       "      <td>True</td>\n",
       "      <td>True</td>\n",
       "      <td>True</td>\n",
       "      <td>True</td>\n",
       "    </tr>\n",
       "    <tr>\n",
       "      <th>1</th>\n",
       "      <td>Crust is not good.</td>\n",
       "      <td>0</td>\n",
       "      <td>False</td>\n",
       "      <td>True</td>\n",
       "      <td>False</td>\n",
       "      <td>False</td>\n",
       "      <td>False</td>\n",
       "      <td>False</td>\n",
       "      <td>False</td>\n",
       "      <td>False</td>\n",
       "      <td>...</td>\n",
       "      <td>False</td>\n",
       "      <td>False</td>\n",
       "      <td>False</td>\n",
       "      <td>False</td>\n",
       "      <td>True</td>\n",
       "      <td>True</td>\n",
       "      <td>True</td>\n",
       "      <td>True</td>\n",
       "      <td>True</td>\n",
       "      <td>True</td>\n",
       "    </tr>\n",
       "    <tr>\n",
       "      <th>2</th>\n",
       "      <td>Not tasty and the texture was just nasty.</td>\n",
       "      <td>0</td>\n",
       "      <td>False</td>\n",
       "      <td>False</td>\n",
       "      <td>False</td>\n",
       "      <td>False</td>\n",
       "      <td>False</td>\n",
       "      <td>False</td>\n",
       "      <td>False</td>\n",
       "      <td>False</td>\n",
       "      <td>...</td>\n",
       "      <td>False</td>\n",
       "      <td>False</td>\n",
       "      <td>False</td>\n",
       "      <td>False</td>\n",
       "      <td>True</td>\n",
       "      <td>True</td>\n",
       "      <td>True</td>\n",
       "      <td>True</td>\n",
       "      <td>True</td>\n",
       "      <td>True</td>\n",
       "    </tr>\n",
       "    <tr>\n",
       "      <th>3</th>\n",
       "      <td>Stopped by during the late May bank holiday of...</td>\n",
       "      <td>1</td>\n",
       "      <td>False</td>\n",
       "      <td>False</td>\n",
       "      <td>True</td>\n",
       "      <td>False</td>\n",
       "      <td>False</td>\n",
       "      <td>False</td>\n",
       "      <td>False</td>\n",
       "      <td>False</td>\n",
       "      <td>...</td>\n",
       "      <td>False</td>\n",
       "      <td>True</td>\n",
       "      <td>False</td>\n",
       "      <td>False</td>\n",
       "      <td>True</td>\n",
       "      <td>True</td>\n",
       "      <td>True</td>\n",
       "      <td>True</td>\n",
       "      <td>True</td>\n",
       "      <td>True</td>\n",
       "    </tr>\n",
       "    <tr>\n",
       "      <th>4</th>\n",
       "      <td>The selection on the menu was great and so wer...</td>\n",
       "      <td>1</td>\n",
       "      <td>True</td>\n",
       "      <td>False</td>\n",
       "      <td>False</td>\n",
       "      <td>False</td>\n",
       "      <td>False</td>\n",
       "      <td>False</td>\n",
       "      <td>False</td>\n",
       "      <td>False</td>\n",
       "      <td>...</td>\n",
       "      <td>False</td>\n",
       "      <td>False</td>\n",
       "      <td>False</td>\n",
       "      <td>False</td>\n",
       "      <td>True</td>\n",
       "      <td>True</td>\n",
       "      <td>True</td>\n",
       "      <td>True</td>\n",
       "      <td>True</td>\n",
       "      <td>True</td>\n",
       "    </tr>\n",
       "  </tbody>\n",
       "</table>\n",
       "<p>5 rows × 25 columns</p>\n",
       "</div>"
      ],
      "text/plain": [
       "                                            sentence  score  great   good  \\\n",
       "0                           Wow... Loved this place.      1  False  False   \n",
       "1                                 Crust is not good.      0  False   True   \n",
       "2          Not tasty and the texture was just nasty.      0  False  False   \n",
       "3  Stopped by during the late May bank holiday of...      1  False  False   \n",
       "4  The selection on the menu was great and so wer...      1   True  False   \n",
       "\n",
       "    love  awesome  helpful  simple  worth  thanks   ...     must  recommend  \\\n",
       "0   True    False    False   False  False   False   ...    False      False   \n",
       "1  False    False    False   False  False   False   ...    False      False   \n",
       "2  False    False    False   False  False   False   ...    False      False   \n",
       "3   True    False    False   False  False   False   ...    False       True   \n",
       "4  False    False    False   False  False   False   ...    False      False   \n",
       "\n",
       "   always  learn  waste  money  tried  nothing  didn't  stupid  \n",
       "0   False  False   True   True   True     True    True    True  \n",
       "1   False  False   True   True   True     True    True    True  \n",
       "2   False  False   True   True   True     True    True    True  \n",
       "3   False  False   True   True   True     True    True    True  \n",
       "4   False  False   True   True   True     True    True    True  \n",
       "\n",
       "[5 rows x 25 columns]"
      ]
     },
     "execution_count": 53,
     "metadata": {},
     "output_type": "execute_result"
    }
   ],
   "source": [
    "#drop any correlated features\n",
    "yelp = yelp.drop('easy', axis=1)\n",
    "yelp = yelp.drop('useful', axis=1)\n",
    "yelp.head()"
   ]
  },
  {
   "cell_type": "code",
   "execution_count": 54,
   "metadata": {
    "collapsed": true
   },
   "outputs": [],
   "source": [
    "# perform a naive bayes model on the yelp dataset\n",
    "data = yelp.iloc[:,2:]\n",
    "target = yelp['score']"
   ]
  },
  {
   "cell_type": "code",
   "execution_count": 55,
   "metadata": {
    "scrolled": true
   },
   "outputs": [
    {
     "name": "stdout",
     "output_type": "stream",
     "text": [
      "Number of mislabeled points out of a total 1000 points: 320\n"
     ]
    }
   ],
   "source": [
    "# Our data is binary / boolean, so we're importing the Bernoulli classifier.\n",
    "from sklearn.naive_bayes import BernoulliNB\n",
    "\n",
    "# instantiate our model and store it in a new variable\n",
    "bnb = BernoulliNB()\n",
    "\n",
    "# fit our model to the data\n",
    "bnb.fit(data, target)\n",
    "\n",
    "# classify, storing the result in a new variable\n",
    "y_pred = bnb.predict(data)\n",
    "\n",
    "# display our results\n",
    "print('Number of mislabeled points out of a total {} points: {}'.format(\n",
    "    data.shape[0],\n",
    "    (target != y_pred).sum()\n",
    "    ))"
   ]
  },
  {
   "cell_type": "markdown",
   "metadata": {},
   "source": [
    "Looks like our model was even less successful with the yelp dataset.\n",
    "Let's see if the addition of the negative words features improves performance."
   ]
  },
  {
   "cell_type": "code",
   "execution_count": 57,
   "metadata": {},
   "outputs": [
    {
     "data": {
      "image/png": "[encoded data removed]",
      "text/plain": [
       "<Figure size 432x288 with 2 Axes>"
      ]
     },
     "metadata": {
      "needs_background": "light"
     },
     "output_type": "display_data"
    }
   ],
   "source": [
    "for i in negative:\n",
    "    yelp[str(i)] = ~yelp.sentence.str.contains(\n",
    "        str(i),\n",
    "        case=False\n",
    "    )\n",
    "\n",
    "sns.heatmap(yelp.corr());"
   ]
  },
  {
   "cell_type": "code",
   "execution_count": 58,
   "metadata": {},
   "outputs": [
    {
     "data": {
      "text/html": [
       "<div>\n",
       "<style scoped>\n",
       "    .dataframe tbody tr th:only-of-type {\n",
       "        vertical-align: middle;\n",
       "    }\n",
       "\n",
       "    .dataframe tbody tr th {\n",
       "        vertical-align: top;\n",
       "    }\n",
       "\n",
       "    .dataframe thead th {\n",
       "        text-align: right;\n",
       "    }\n",
       "</style>\n",
       "<table border=\"1\" class=\"dataframe\">\n",
       "  <thead>\n",
       "    <tr style=\"text-align: right;\">\n",
       "      <th></th>\n",
       "      <th>sentence</th>\n",
       "      <th>score</th>\n",
       "      <th>great</th>\n",
       "      <th>good</th>\n",
       "      <th>love</th>\n",
       "      <th>awesome</th>\n",
       "      <th>helpful</th>\n",
       "      <th>simple</th>\n",
       "      <th>worth</th>\n",
       "      <th>thanks</th>\n",
       "      <th>...</th>\n",
       "      <th>must</th>\n",
       "      <th>recommend</th>\n",
       "      <th>always</th>\n",
       "      <th>learn</th>\n",
       "      <th>waste</th>\n",
       "      <th>money</th>\n",
       "      <th>tried</th>\n",
       "      <th>nothing</th>\n",
       "      <th>didn't</th>\n",
       "      <th>stupid</th>\n",
       "    </tr>\n",
       "  </thead>\n",
       "  <tbody>\n",
       "    <tr>\n",
       "      <th>0</th>\n",
       "      <td>Wow... Loved this place.</td>\n",
       "      <td>1</td>\n",
       "      <td>False</td>\n",
       "      <td>False</td>\n",
       "      <td>True</td>\n",
       "      <td>False</td>\n",
       "      <td>False</td>\n",
       "      <td>False</td>\n",
       "      <td>False</td>\n",
       "      <td>False</td>\n",
       "      <td>...</td>\n",
       "      <td>False</td>\n",
       "      <td>False</td>\n",
       "      <td>False</td>\n",
       "      <td>False</td>\n",
       "      <td>True</td>\n",
       "      <td>True</td>\n",
       "      <td>True</td>\n",
       "      <td>True</td>\n",
       "      <td>True</td>\n",
       "      <td>True</td>\n",
       "    </tr>\n",
       "    <tr>\n",
       "      <th>1</th>\n",
       "      <td>Crust is not good.</td>\n",
       "      <td>0</td>\n",
       "      <td>False</td>\n",
       "      <td>True</td>\n",
       "      <td>False</td>\n",
       "      <td>False</td>\n",
       "      <td>False</td>\n",
       "      <td>False</td>\n",
       "      <td>False</td>\n",
       "      <td>False</td>\n",
       "      <td>...</td>\n",
       "      <td>False</td>\n",
       "      <td>False</td>\n",
       "      <td>False</td>\n",
       "      <td>False</td>\n",
       "      <td>True</td>\n",
       "      <td>True</td>\n",
       "      <td>True</td>\n",
       "      <td>True</td>\n",
       "      <td>True</td>\n",
       "      <td>True</td>\n",
       "    </tr>\n",
       "    <tr>\n",
       "      <th>2</th>\n",
       "      <td>Not tasty and the texture was just nasty.</td>\n",
       "      <td>0</td>\n",
       "      <td>False</td>\n",
       "      <td>False</td>\n",
       "      <td>False</td>\n",
       "      <td>False</td>\n",
       "      <td>False</td>\n",
       "      <td>False</td>\n",
       "      <td>False</td>\n",
       "      <td>False</td>\n",
       "      <td>...</td>\n",
       "      <td>False</td>\n",
       "      <td>False</td>\n",
       "      <td>False</td>\n",
       "      <td>False</td>\n",
       "      <td>True</td>\n",
       "      <td>True</td>\n",
       "      <td>True</td>\n",
       "      <td>True</td>\n",
       "      <td>True</td>\n",
       "      <td>True</td>\n",
       "    </tr>\n",
       "    <tr>\n",
       "      <th>3</th>\n",
       "      <td>Stopped by during the late May bank holiday of...</td>\n",
       "      <td>1</td>\n",
       "      <td>False</td>\n",
       "      <td>False</td>\n",
       "      <td>True</td>\n",
       "      <td>False</td>\n",
       "      <td>False</td>\n",
       "      <td>False</td>\n",
       "      <td>False</td>\n",
       "      <td>False</td>\n",
       "      <td>...</td>\n",
       "      <td>False</td>\n",
       "      <td>True</td>\n",
       "      <td>False</td>\n",
       "      <td>False</td>\n",
       "      <td>True</td>\n",
       "      <td>True</td>\n",
       "      <td>True</td>\n",
       "      <td>True</td>\n",
       "      <td>True</td>\n",
       "      <td>True</td>\n",
       "    </tr>\n",
       "    <tr>\n",
       "      <th>4</th>\n",
       "      <td>The selection on the menu was great and so wer...</td>\n",
       "      <td>1</td>\n",
       "      <td>True</td>\n",
       "      <td>False</td>\n",
       "      <td>False</td>\n",
       "      <td>False</td>\n",
       "      <td>False</td>\n",
       "      <td>False</td>\n",
       "      <td>False</td>\n",
       "      <td>False</td>\n",
       "      <td>...</td>\n",
       "      <td>False</td>\n",
       "      <td>False</td>\n",
       "      <td>False</td>\n",
       "      <td>False</td>\n",
       "      <td>True</td>\n",
       "      <td>True</td>\n",
       "      <td>True</td>\n",
       "      <td>True</td>\n",
       "      <td>True</td>\n",
       "      <td>True</td>\n",
       "    </tr>\n",
       "  </tbody>\n",
       "</table>\n",
       "<p>5 rows × 25 columns</p>\n",
       "</div>"
      ],
      "text/plain": [
       "                                            sentence  score  great   good  \\\n",
       "0                           Wow... Loved this place.      1  False  False   \n",
       "1                                 Crust is not good.      0  False   True   \n",
       "2          Not tasty and the texture was just nasty.      0  False  False   \n",
       "3  Stopped by during the late May bank holiday of...      1  False  False   \n",
       "4  The selection on the menu was great and so wer...      1   True  False   \n",
       "\n",
       "    love  awesome  helpful  simple  worth  thanks   ...     must  recommend  \\\n",
       "0   True    False    False   False  False   False   ...    False      False   \n",
       "1  False    False    False   False  False   False   ...    False      False   \n",
       "2  False    False    False   False  False   False   ...    False      False   \n",
       "3   True    False    False   False  False   False   ...    False       True   \n",
       "4  False    False    False   False  False   False   ...    False      False   \n",
       "\n",
       "   always  learn  waste  money  tried  nothing  didn't  stupid  \n",
       "0   False  False   True   True   True     True    True    True  \n",
       "1   False  False   True   True   True     True    True    True  \n",
       "2   False  False   True   True   True     True    True    True  \n",
       "3   False  False   True   True   True     True    True    True  \n",
       "4   False  False   True   True   True     True    True    True  \n",
       "\n",
       "[5 rows x 25 columns]"
      ]
     },
     "execution_count": 58,
     "metadata": {},
     "output_type": "execute_result"
    }
   ],
   "source": [
    "# drop correlated features\n",
    "yelp = yelp.drop('crashes', axis=1)\n",
    "yelp = yelp.drop('useless', axis=1)\n",
    "\n",
    "yelp.head()"
   ]
  },
  {
   "cell_type": "code",
   "execution_count": 59,
   "metadata": {
    "collapsed": true
   },
   "outputs": [],
   "source": [
    "data = yelp.iloc[:,2:]\n",
    "target = yelp['score']"
   ]
  },
  {
   "cell_type": "code",
   "execution_count": 60,
   "metadata": {},
   "outputs": [
    {
     "name": "stdout",
     "output_type": "stream",
     "text": [
      "Number of mislabeled points out of a total 1000 points: 320\n"
     ]
    }
   ],
   "source": [
    "# Our data is binary / boolean, so we're importing the Bernoulli classifier.\n",
    "from sklearn.naive_bayes import BernoulliNB\n",
    "\n",
    "# instantiate our model and store it in a new variable\n",
    "bnb = BernoulliNB()\n",
    "\n",
    "# fit our model to the data\n",
    "bnb.fit(data, target)\n",
    "\n",
    "# classify, storing the result in a new variable\n",
    "y_pred = bnb.predict(data)\n",
    "\n",
    "# display our results\n",
    "print('Number of mislabeled points out of a total {} points: {}'.format(\n",
    "    data.shape[0],\n",
    "    (target != y_pred).sum()\n",
    "    ))"
   ]
  },
  {
   "cell_type": "markdown",
   "metadata": {},
   "source": [
    "Looks like our performance wasn't improved again.\n",
    "Let's try it with a different dataset.\n",
    "The Atlantic published an article about the [happiest words in the english language](https://www.theatlantic.com/technology/archive/2016/07/the-200-happiest-words-in-literature/490916/), that sounds like a new place to start."
   ]
  },
  {
   "cell_type": "code",
   "execution_count": 26,
   "metadata": {},
   "outputs": [
    {
     "name": "stdout",
     "output_type": "stream",
     "text": [
      "1000\n"
     ]
    },
    {
     "data": {
      "text/html": [
       "<div>\n",
       "<style scoped>\n",
       "    .dataframe tbody tr th:only-of-type {\n",
       "        vertical-align: middle;\n",
       "    }\n",
       "\n",
       "    .dataframe tbody tr th {\n",
       "        vertical-align: top;\n",
       "    }\n",
       "\n",
       "    .dataframe thead th {\n",
       "        text-align: right;\n",
       "    }\n",
       "</style>\n",
       "<table border=\"1\" class=\"dataframe\">\n",
       "  <thead>\n",
       "    <tr style=\"text-align: right;\">\n",
       "      <th></th>\n",
       "      <th>sentence</th>\n",
       "      <th>score</th>\n",
       "    </tr>\n",
       "  </thead>\n",
       "  <tbody>\n",
       "    <tr>\n",
       "      <th>0</th>\n",
       "      <td>So there is no way for me to plug it in here i...</td>\n",
       "      <td>0</td>\n",
       "    </tr>\n",
       "    <tr>\n",
       "      <th>1</th>\n",
       "      <td>Good case, Excellent value.</td>\n",
       "      <td>1</td>\n",
       "    </tr>\n",
       "    <tr>\n",
       "      <th>2</th>\n",
       "      <td>Great for the jawbone.</td>\n",
       "      <td>1</td>\n",
       "    </tr>\n",
       "    <tr>\n",
       "      <th>3</th>\n",
       "      <td>Tied to charger for conversations lasting more...</td>\n",
       "      <td>0</td>\n",
       "    </tr>\n",
       "    <tr>\n",
       "      <th>4</th>\n",
       "      <td>The mic is great.</td>\n",
       "      <td>1</td>\n",
       "    </tr>\n",
       "  </tbody>\n",
       "</table>\n",
       "</div>"
      ],
      "text/plain": [
       "                                            sentence  score\n",
       "0  So there is no way for me to plug it in here i...      0\n",
       "1                        Good case, Excellent value.      1\n",
       "2                             Great for the jawbone.      1\n",
       "3  Tied to charger for conversations lasting more...      0\n",
       "4                                  The mic is great.      1"
      ]
     },
     "execution_count": 26,
     "metadata": {},
     "output_type": "execute_result"
    }
   ],
   "source": [
    "#initiate a new dataframe\n",
    "amzn_new = pd.read_csv(PATH_amzn, delimiter='\\t', header=None)\n",
    "amzn_new.columns = ['sentence', 'score']\n",
    "\n",
    "print(len(amzn_new))\n",
    "\n",
    "amzn_new.head()"
   ]
  },
  {
   "cell_type": "code",
   "execution_count": 27,
   "metadata": {},
   "outputs": [
    {
     "name": "stdout",
     "output_type": "stream",
     "text": [
      "150\n"
     ]
    },
    {
     "data": {
      "text/plain": [
       "127"
      ]
     },
     "execution_count": 27,
     "metadata": {},
     "output_type": "execute_result"
    }
   ],
   "source": [
    "# create a new list of positive words\n",
    "pos_new = ['laughter', 'love', 'happy', 'laugh',\n",
    "           'excellent', 'joy', 'success', 'win', 'rainbow', 'smile', 'won',\n",
    "           'pleasure', 'smile', 'rainbow', 'celebrate', 'enjoy', 'health',\n",
    "           'music', 'weekend', 'comedy',\n",
    "           'joke', 'rich', 'victory', 'Christmas', 'free', 'friend', 'fun', 'holiday',\n",
    "           'love', 'beach', 'kiss', 'sunshine', 'delicious',\n",
    "           'friend', 'funny', 'outstanding', 'paradise', 'sweet', 'vacation', 'butterfly',\n",
    "           'freedom', 'flower', 'great', 'sunlight', 'sweetheart', 'award',\n",
    "           'chocolate', 'heaven', 'peace', 'splendid',\n",
    "           'kiss', 'attract', 'hero', 'hug', 'positive', 'sun', 'birthday',\n",
    "           'bless', 'fantastic', 'delight', 'beauty', 'entertain',\n",
    "           'fun', 'honest', 'sky', 'wonder', 'glory',\n",
    "           'promote', 'family', 'gift', 'humor', 'romantic', 'cupcake', 'festival',\n",
    "           'honour', 'relax', 'weekend', 'angel', 'bonus', 'brilliant',\n",
    "           'diamond', 'holiday', 'lucky', 'mother', 'super', 'amazing', 'angel', 'enjoy',\n",
    "           'friend', 'profit', 'fine', 'champion', 'kitten',\n",
    "           'miracle', 'bright', 'cute', 'excite', 'joke',\n",
    "           'million', 'prize', 'shine', 'awesome', 'genius',\n",
    "           'achieve', 'cake', 'cheer', 'excite', 'good', 'hug', 'income', 'party', 'puppy',\n",
    "           'song', 'tasty', 'billion', 'easy', 'flower', 'gold', 'merry',\n",
    "           'handsome', 'affection', 'candy', 'diamond', 'earn', 'interest', 'peace',\n",
    "           'praise', 'relax', 'rose', 'Saturday', 'faith', 'heaven', 'cherish', 'comfort',\n",
    "           'congrat', 'cupcake', 'earn', 'extraordinary', 'glory', 'hilarious', 'moonlight',\n",
    "           'optimist', 'romance', 'feast', 'attractive', 'glad', 'internet', 'pleasant',\n",
    "           'profit', 'smart']\n",
    "\n",
    "# let's try to drop all the duplicates\n",
    "print(len(pos_new))\n",
    "pos_new = set(pos_new)\n",
    "pos_new = list(pos_new)\n",
    "len(pos_new)"
   ]
  },
  {
   "cell_type": "code",
   "execution_count": 28,
   "metadata": {
    "scrolled": true
   },
   "outputs": [
    {
     "data": {
      "image/png": "[encoded data removed]",
      "text/plain": [
       "<Figure size 432x288 with 2 Axes>"
      ]
     },
     "metadata": {
      "needs_background": "light"
     },
     "output_type": "display_data"
    }
   ],
   "source": [
    "# create a feature for each word in pos_new\n",
    "for i in pos_new:\n",
    "    amzn_new[str(i)] = amzn_new.sentence.str.contains(\n",
    "        str(i),\n",
    "        case=False\n",
    "    )\n",
    "\n",
    "# check for correlation\n",
    "sns.heatmap(amzn_new.corr());"
   ]
  },
  {
   "cell_type": "code",
   "execution_count": 29,
   "metadata": {},
   "outputs": [
    {
     "data": {
      "image/png": "[encoded data removed]",
      "text/plain": [
       "<Figure size 432x288 with 2 Axes>"
      ]
     },
     "metadata": {
      "needs_background": "light"
     },
     "output_type": "display_data"
    }
   ],
   "source": [
    "# drop correlated values\n",
    "list_drop = ['Saturday', 'lucky', 'achieve', 'outstanding', 'honest', 'flower', 'comedy',\n",
    "             'promote', 'miracle', 'chocolate', 'tasty', 'faith', 'delight', 'kiss',\n",
    "             'rainbow', 'smile', 'champion', 'sunshine', 'relax', 'cupcake', 'million',\n",
    "             'diamond', 'affection', 'handsome', 'heaven', 'success', 'award', 'candy',\n",
    "             'splendid', 'hero', 'bonus', 'bright', 'pleasure', 'beach', 'genius', 'vacation',\n",
    "             'butterfly', 'rose', 'weekend', 'honour', 'positive', 'rich', 'peace', 'income',\n",
    "             'health', 'delicious', 'praise', 'bless', 'billion', 'birthday', 'victory','gold',\n",
    "             'humor', 'beauty', 'glory', 'romantic', 'merry', 'extraordinary', 'hilarious',\n",
    "             'holiday', 'prize', 'moonlight', 'profit', 'sunlight', 'cake', 'cheer', 'congrat',\n",
    "             'kitten', 'celebrate', 'festival', 'sweetheart', 'cherish', 'romance', 'puppy',\n",
    "             'gift', 'optimist', 'laughter', 'paradise', 'feast']\n",
    "\n",
    "for i in list_drop:\n",
    "    amzn_new = amzn_new.drop(i, axis=1)\n",
    "\n",
    "amzn_new.head()\n",
    "\n",
    "sns.heatmap(amzn_new.corr());"
   ]
  },
  {
   "cell_type": "code",
   "execution_count": 30,
   "metadata": {},
   "outputs": [
    {
     "data": {
      "image/png": "[encoded data removed]",
      "text/plain": [
       "<Figure size 432x288 with 2 Axes>"
      ]
     },
     "metadata": {
      "needs_background": "light"
     },
     "output_type": "display_data"
    }
   ],
   "source": [
    "list_new = ['excite','attractive', 'enjoy', 'won', 'Christmas']\n",
    "\n",
    "for i in list_new:\n",
    "    amzn_new = amzn_new.drop(i, axis=1)\n",
    "\n",
    "amzn_new.head()\n",
    "\n",
    "sns.heatmap(amzn_new.corr());"
   ]
  },
  {
   "cell_type": "markdown",
   "metadata": {},
   "source": [
    "Now we have a much larger set of features to work with.\n",
    "Let's run a naive bayes model again and see what our results are."
   ]
  },
  {
   "cell_type": "code",
   "execution_count": 31,
   "metadata": {
    "collapsed": true
   },
   "outputs": [],
   "source": [
    "data = amzn_new.iloc[:,2:]\n",
    "target = amzn_new['score']"
   ]
  },
  {
   "cell_type": "code",
   "execution_count": 32,
   "metadata": {},
   "outputs": [
    {
     "name": "stdout",
     "output_type": "stream",
     "text": [
      "Number of mislabeled points out of a total 1000 points: 265\n"
     ]
    }
   ],
   "source": [
    "# Our data is binary / boolean, so we're importing the Bernoulli classifier.\n",
    "from sklearn.naive_bayes import BernoulliNB\n",
    "\n",
    "# instantiate our model and store it in a new variable\n",
    "bnb = BernoulliNB()\n",
    "\n",
    "# fit our model to the data\n",
    "bnb.fit(data, target)\n",
    "\n",
    "# classify, storing the result in a new variable\n",
    "y_pred = bnb.predict(data)\n",
    "\n",
    "# display our results\n",
    "print('Number of mislabeled points out of a total {} points: {}'.format(\n",
    "    data.shape[0],\n",
    "    (target != y_pred).sum()\n",
    "    ))"
   ]
  },
  {
   "cell_type": "markdown",
   "metadata": {},
   "source": [
    "So our success rate incresed to ~75%.\n",
    "That's better than our previous success rate of 70%, but with the addition of many, many more features."
   ]
  },
  {
   "cell_type": "code",
   "execution_count": null,
   "metadata": {},
   "outputs": [],
   "source": []
  },
  {
   "cell_type": "code",
   "execution_count": null,
   "metadata": {},
   "outputs": [],
   "source": []
  },
  {
   "cell_type": "code",
   "execution_count": null,
   "metadata": {
    "collapsed": true
   },
   "outputs": [],
   "source": []
  }
 ],
 "metadata": {
  "kernelspec": {
   "display_name": "Python 3",
   "language": "python",
   "name": "python3"
  },
  "language_info": {
   "codemirror_mode": {
    "name": "ipython",
    "version": 3
   },
   "file_extension": ".py",
   "mimetype": "text/x-python",
   "name": "python",
   "nbconvert_exporter": "python",
   "pygments_lexer": "ipython3",
   "version": "3.7.1"
  }
 },
 "nbformat": 4,
 "nbformat_minor": 2
}
