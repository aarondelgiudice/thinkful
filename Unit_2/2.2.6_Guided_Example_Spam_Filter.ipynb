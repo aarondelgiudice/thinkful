{
 "cells": [
  {
   "cell_type": "markdown",
   "metadata": {},
   "source": [
    "# Guided Example: Spam Filter\n",
    "Unit 2 / Lesson 2 / Assignment 6\n",
    "\n",
    "Here we're going to go through a basic __Naive Bayes classifier__.\n",
    "Specifically we're going to build a spam filter.\n",
    "As we've said before, this is a classic use for this kind of __classifier__ and it's not too difficult to set up.\n",
    "The dataset we'll work with is UC Irvine's [SMS spam dataset](https://archive.ics.uci.edu/ml/datasets/SMS+Spam+Collection).\n",
    "\n",
    "This dataset has a few nice attributes.\n",
    "It's pre-labelled, which is great for our purposes as we don't have to make our own spam/ham labels ('ham' being the common term to denote a message that is not spam).\n",
    "The dataset also is relatively small, which will allow us to show off one of the great things about __Naive Bayes__, its ability to train on relatively little data while achieving reasonable accuracy."
   ]
  },
  {
   "cell_type": "code",
   "execution_count": 1,
   "metadata": {
    "collapsed": true
   },
   "outputs": [],
   "source": [
    "%matplotlib inline\n",
    "import numpy as np\n",
    "import pandas as pd\n",
    "import scipy\n",
    "import sklearn\n",
    "import matplotlib.pyplot as plt\n",
    "import seaborn as sns"
   ]
  },
  {
   "cell_type": "code",
   "execution_count": 2,
   "metadata": {},
   "outputs": [
    {
     "name": "stdout",
     "output_type": "stream",
     "text": [
      "5572\n"
     ]
    },
    {
     "data": {
      "text/html": [
       "<div>\n",
       "<style scoped>\n",
       "    .dataframe tbody tr th:only-of-type {\n",
       "        vertical-align: middle;\n",
       "    }\n",
       "\n",
       "    .dataframe tbody tr th {\n",
       "        vertical-align: top;\n",
       "    }\n",
       "\n",
       "    .dataframe thead th {\n",
       "        text-align: right;\n",
       "    }\n",
       "</style>\n",
       "<table border=\"1\" class=\"dataframe\">\n",
       "  <thead>\n",
       "    <tr style=\"text-align: right;\">\n",
       "      <th></th>\n",
       "      <th>spam</th>\n",
       "      <th>message</th>\n",
       "    </tr>\n",
       "  </thead>\n",
       "  <tbody>\n",
       "    <tr>\n",
       "      <th>0</th>\n",
       "      <td>ham</td>\n",
       "      <td>Go until jurong point, crazy.. Available only ...</td>\n",
       "    </tr>\n",
       "    <tr>\n",
       "      <th>1</th>\n",
       "      <td>ham</td>\n",
       "      <td>Ok lar... Joking wif u oni...</td>\n",
       "    </tr>\n",
       "    <tr>\n",
       "      <th>2</th>\n",
       "      <td>spam</td>\n",
       "      <td>Free entry in 2 a wkly comp to win FA Cup fina...</td>\n",
       "    </tr>\n",
       "    <tr>\n",
       "      <th>3</th>\n",
       "      <td>ham</td>\n",
       "      <td>U dun say so early hor... U c already then say...</td>\n",
       "    </tr>\n",
       "    <tr>\n",
       "      <th>4</th>\n",
       "      <td>ham</td>\n",
       "      <td>Nah I don't think he goes to usf, he lives aro...</td>\n",
       "    </tr>\n",
       "  </tbody>\n",
       "</table>\n",
       "</div>"
      ],
      "text/plain": [
       "   spam                                            message\n",
       "0   ham  Go until jurong point, crazy.. Available only ...\n",
       "1   ham                      Ok lar... Joking wif u oni...\n",
       "2  spam  Free entry in 2 a wkly comp to win FA Cup fina...\n",
       "3   ham  U dun say so early hor... U c already then say...\n",
       "4   ham  Nah I don't think he goes to usf, he lives aro..."
      ]
     },
     "execution_count": 2,
     "metadata": {},
     "output_type": "execute_result"
    }
   ],
   "source": [
    "# Grab and process the raw data.\n",
    "PATH = (\"https://raw.githubusercontent.com/Thinkful-Ed/data-201-resources/\"\n",
    "             \"master/sms_spam_collection/SMSSpamCollection\"\n",
    "            )\n",
    "sms_raw = pd.read_csv(PATH, delimiter='\\t', header=None)\n",
    "sms_raw.columns = ['spam', 'message']\n",
    "\n",
    "print(len(sms_raw))\n",
    "sms_raw.head()"
   ]
  },
  {
   "cell_type": "markdown",
   "metadata": {},
   "source": [
    "So we've loaded up the dataset and we have two columns, a label and a message.\n",
    "\n",
    "Now, a message isn't really a feature and if you tried to make it one it'd be pretty useless.\n",
    "However, we can engineer features from the message field relatively easily.\n",
    "This kind of _feature engineering_ is a basic version of what we'll cover in the NLP section.\n",
    "\n",
    "At the most obvious level, a feature from the message can be whether it contains a given word, so let's add those columns to our dataframe.\n",
    "The words chosen below are simply intuited as possibly having something to do with spam.\n",
    "\n",
    "Try some of your own ideas too!"
   ]
  },
  {
   "cell_type": "code",
   "execution_count": 3,
   "metadata": {
    "collapsed": true
   },
   "outputs": [],
   "source": [
    "keywords = ['click', 'offer', 'winner', 'buy', 'free', 'cash', 'urgent']\n",
    "\n",
    "for key in keywords:\n",
    "    # Note that we add spaces around the key so that we're getting the word,\n",
    "    # not just pattern matching.\n",
    "    sms_raw[str(key)] = sms_raw.message.str.contains(\n",
    "        ' ' + str(key) + ' ',\n",
    "        case=False\n",
    "    )\n"
   ]
  },
  {
   "cell_type": "markdown",
   "metadata": {},
   "source": [
    "Note that you could add new features to the dataframe simply by adding them to the keywords list.\n",
    "That's much nicer than doing each word manually.\n",
    "If it were more complicated it would probably be worth making a function as well.\n",
    "\n",
    "Another feature option would be if the message is all uppercase.\n",
    "That seems kind of spammy doesn't it?"
   ]
  },
  {
   "cell_type": "code",
   "execution_count": 4,
   "metadata": {
    "collapsed": true
   },
   "outputs": [],
   "source": [
    "sms_raw['allcaps'] = sms_raw.message.str.isupper()"
   ]
  },
  {
   "cell_type": "markdown",
   "metadata": {},
   "source": [
    "Before we go further, let's turn the spam column into a boolean so we can easily do some statistics to prepare for modeling."
   ]
  },
  {
   "cell_type": "code",
   "execution_count": 5,
   "metadata": {
    "collapsed": true
   },
   "outputs": [],
   "source": [
    "sms_raw['spam'] = (sms_raw['spam'] == 'spam')\n",
    "\n",
    "# Note that if you run this cell a second time everything will become false.\n",
    "# So... Don't.\n",
    "\n",
    "# after running this cell comment out the above code to prevent cell from running again"
   ]
  },
  {
   "cell_type": "markdown",
   "metadata": {},
   "source": [
    "Now, as we covered before one of the main assumptions of __Naive Bayes__ is that the variables fed into the model are _independent of each other_.\n",
    "Let's check to see how true that is in this case using Pandas' built in correlation matrix function, corr(), and the heatmap from seaborn."
   ]
  },
  {
   "cell_type": "code",
   "execution_count": 6,
   "metadata": {},
   "outputs": [
    {
     "data": {
      "image/png": "[encoded data removed]",
      "text/plain": [
       "<Figure size 432x288 with 2 Axes>"
      ]
     },
     "metadata": {
      "needs_background": "light"
     },
     "output_type": "display_data"
    }
   ],
   "source": [
    "sns.heatmap(sms_raw.corr());"
   ]
  },
  {
   "cell_type": "markdown",
   "metadata": {},
   "source": [
    "That is a great looking plot for us, most of the words show strong independence from each other.\n",
    "The only exceptions are `free:offer` and `cash:winner`.\n",
    "For now, let's keep everything in the dataset.\n",
    "\n",
    "Before we actually run the model we have to build out our training data.\n",
    "SKLearn required you to specify an outcome (y or dependent variable) and your inputs (x or independent variables).\n",
    "We'll do that below under the titles data and target.\n",
    "\n",
    "### Bernoulli Classifier"
   ]
  },
  {
   "cell_type": "code",
   "execution_count": 7,
   "metadata": {
    "collapsed": true
   },
   "outputs": [],
   "source": [
    "data = sms_raw[keywords + ['allcaps']]\n",
    "target = sms_raw['spam']"
   ]
  },
  {
   "cell_type": "code",
   "execution_count": 8,
   "metadata": {},
   "outputs": [
    {
     "name": "stdout",
     "output_type": "stream",
     "text": [
      "Number of mislabeled points out of a total 5572 points: 604\n"
     ]
    }
   ],
   "source": [
    "# Our data is binary / boolean, so we're importing the Bernoulli classifier.\n",
    "from sklearn.naive_bayes import BernoulliNB\n",
    "\n",
    "# instantiate our model and store it in a new variable\n",
    "bnb = BernoulliNB()\n",
    "\n",
    "# fit our model to the data\n",
    "bnb.fit(data, target)\n",
    "\n",
    "# classify, storing the result in a new variable\n",
    "y_pred = bnb.predict(data)\n",
    "\n",
    "# display our results\n",
    "print('Number of mislabeled points out of a total {} points: {}'.format(\n",
    "    data.shape[0],\n",
    "    (target != y_pred).sum()\n",
    "    ))"
   ]
  },
  {
   "cell_type": "markdown",
   "metadata": {},
   "source": [
    "Now try adding some of your own _features_ and see if you can improve the model's performance.\n",
    "Also try comparing the other types of __Naive Bayes Classifier__ and see which one is best.\n",
    "You can find the function names for training other kinds of __Naive Bayes__ in the [documentation](https://scikit-learn.org/stable/modules/naive_bayes.html).\n",
    "\n",
    "### Gaussian Classifier"
   ]
  },
  {
   "cell_type": "code",
   "execution_count": 9,
   "metadata": {},
   "outputs": [
    {
     "name": "stdout",
     "output_type": "stream",
     "text": [
      "Gaussion number of mislabeled points out of a total 5572 points: 604\n"
     ]
    }
   ],
   "source": [
    "# let's try our Naive Bayes model again with the Gaussian classifier\n",
    "from sklearn.naive_bayes import GaussianNB\n",
    "\n",
    "# instantiate our model and store it as a new variable\n",
    "gnb = GaussianNB()\n",
    "\n",
    "# fit our model to the date\n",
    "gnb.fit(data, target)\n",
    "\n",
    "# classify and store result in a new variable\n",
    "y_pred_gnb = gnb.predict(data)\n",
    "\n",
    "# display results\n",
    "print('Gaussion number of mislabeled points out of a total {} points: {}'.format(\n",
    "    data.shape[0],\n",
    "    (target != y_pred_gnb).sum()\n",
    "    ))"
   ]
  },
  {
   "cell_type": "markdown",
   "metadata": {},
   "source": [
    "### Multinomial Classifier"
   ]
  },
  {
   "cell_type": "code",
   "execution_count": 10,
   "metadata": {},
   "outputs": [
    {
     "name": "stdout",
     "output_type": "stream",
     "text": [
      "Multinomial number of mislabeled points out of a total 5572 points: 693\n"
     ]
    }
   ],
   "source": [
    "# let's try our Naive Bayes model again with the Multinomial classifier\n",
    "from sklearn.naive_bayes import MultinomialNB\n",
    "\n",
    "# instantiate our mode and store it as a new variable\n",
    "mnb = MultinomialNB()\n",
    "\n",
    "# fit model to the data\n",
    "mnb.fit(data, target)\n",
    "\n",
    "# classify and store result in a new variable\n",
    "y_pred_mnb = mnb.predict(data)\n",
    "\n",
    "# display results\n",
    "print('Multinomial number of mislabeled points out of a total {} points: {}'.format(\n",
    "    data.shape[0],\n",
    "    (target != y_pred_mnb).sum()\n",
    "    ))"
   ]
  },
  {
   "cell_type": "markdown",
   "metadata": {},
   "source": [
    "Looks like we achieved similar results with our three different __Naive Bayes classifiers__.\n",
    "We had slightly better results with the __Bernoulli__ and __Gaussian classifiers__, and we know from binary/boolean nature of our data, the __Bernoulli__ is the most appropriate __classifier__.\n",
    "\n",
    "So let's see if we can improve our results with a few new features.\n",
    "Let's update our list of keywords with the most common words found in spam emails from this article from [Forbes](https://www.forbes.com/sites/firewall/2010/03/17/the-most-common-words-in-spam-email/#458425377d80)."
   ]
  },
  {
   "cell_type": "code",
   "execution_count": 11,
   "metadata": {
    "collapsed": true
   },
   "outputs": [],
   "source": [
    "# add new spam keywords to improve our model\n",
    "\n",
    "keywords = ['click', 'offer', 'winner', 'buy', 'free', 'cash', 'urgent']\n",
    "keywords = keywords + ['shipping!', 'today!', 'here!', 'available', 'fingertips!','online!']\n",
    "\n",
    "for key in keywords:\n",
    "    # Note that we add spaces around the key so that we're getting the word,\n",
    "    # not just pattern matching.\n",
    "    sms_raw[str(key)] = sms_raw.message.str.contains(\n",
    "        ' ' + str(key) + ' ',\n",
    "        case=False\n",
    "    )"
   ]
  },
  {
   "cell_type": "code",
   "execution_count": 12,
   "metadata": {},
   "outputs": [
    {
     "data": {
      "image/png": "[encoded data removed]",
      "text/plain": [
       "<Figure size 432x288 with 2 Axes>"
      ]
     },
     "metadata": {
      "needs_background": "light"
     },
     "output_type": "display_data"
    }
   ],
   "source": [
    "# let's see if any of our new keywords are highly correlated\n",
    "sns.heatmap(sms_raw.corr());"
   ]
  },
  {
   "cell_type": "code",
   "execution_count": 13,
   "metadata": {},
   "outputs": [],
   "source": [
    "# let's drop the '!' from 'shipping' and 'fingertips'\n",
    "# and see if that improves our results\n",
    "\n",
    "keywords.remove('shipping!')\n",
    "keywords.remove('fingertips!')\n",
    "keywords = keywords + ['shipping', 'fingertips']\n",
    "\n",
    "for key in keywords:\n",
    "    # Note that we add spaces around the key so that we're getting the word,\n",
    "    # not just pattern matching.\n",
    "    sms_raw[str(key)] = sms_raw.message.str.contains(\n",
    "        ' ' + str(key) + ' ',\n",
    "        case=False\n",
    "    )"
   ]
  },
  {
   "cell_type": "code",
   "execution_count": 14,
   "metadata": {},
   "outputs": [
    {
     "data": {
      "image/png": "[encoded data removed]",
      "text/plain": [
       "<Figure size 432x288 with 2 Axes>"
      ]
     },
     "metadata": {
      "needs_background": "light"
     },
     "output_type": "display_data"
    }
   ],
   "source": [
    "sms_raw = sms_raw.drop('shipping!', axis=1)\n",
    "sms_raw = sms_raw.drop('fingertips!', axis=1)\n",
    "\n",
    "sns.heatmap(sms_raw.corr());"
   ]
  },
  {
   "cell_type": "markdown",
   "metadata": {},
   "source": [
    "This looks better, but it looks like `fingertips` doesn't have any matches to our spam messages.\n",
    "Let's remove that feature and conduct our __Bernoulli__ model again."
   ]
  },
  {
   "cell_type": "code",
   "execution_count": 15,
   "metadata": {},
   "outputs": [],
   "source": [
    "sms_raw = sms_raw.drop('fingertips', axis=1)\n",
    "\n",
    "keywords.remove('fingertips')\n",
    "\n",
    "data = sms_raw[keywords + ['allcaps']]\n",
    "target = sms_raw['spam']"
   ]
  },
  {
   "cell_type": "code",
   "execution_count": 16,
   "metadata": {},
   "outputs": [
    {
     "name": "stdout",
     "output_type": "stream",
     "text": [
      "Number of mislabeled points out of a total 5572 points: 599\n"
     ]
    }
   ],
   "source": [
    "# Our data is binary / boolean, so we're importing the Bernoulli classifier.\n",
    "from sklearn.naive_bayes import BernoulliNB\n",
    "\n",
    "# instantiate our model and store it in a new variable\n",
    "bnb = BernoulliNB()\n",
    "\n",
    "# fit our model to the data\n",
    "bnb.fit(data, target)\n",
    "\n",
    "# classify, storing the result in a new variable\n",
    "y_pred = bnb.predict(data)\n",
    "\n",
    "# display our results\n",
    "print('Number of mislabeled points out of a total {} points: {}'.format(\n",
    "    data.shape[0],\n",
    "    (target != y_pred).sum()\n",
    "    ))"
   ]
  },
  {
   "cell_type": "markdown",
   "metadata": {},
   "source": [
    "Well we _technically_ improved our model.\n",
    "Not by much.\n",
    "\n",
    "\n",
    "### Bayesian Poisoning\n",
    "\n",
    "When implementing __Naive Bayes__, there is one more thing you must be aware of.\n",
    "__Naive Bayes__ relies on probabilities and these probabilities are often based around obvious keywords.\n",
    "This makes the model vulnerable to manipulation.\n",
    "We people manipulate a __Naive Bayes__ model it's called _Bayesian Poisoning_.\n",
    "\n",
    "In spam, this would be done through including words in your spam message that would be highly unlikely to be part of a spam message.\n",
    "This would convince the model that the message is legitimate and let it into your inbox or wherever.\n",
    "\n",
    "Can you think of how you could do that here? Look at some spam messages that your model correctly identified and see if you can reword or rework them to get them classified as ham."
   ]
  },
  {
   "cell_type": "code",
   "execution_count": null,
   "metadata": {
    "collapsed": true
   },
   "outputs": [],
   "source": []
  }
 ],
 "metadata": {
  "kernelspec": {
   "display_name": "Python 3",
   "language": "python",
   "name": "python3"
  },
  "language_info": {
   "codemirror_mode": {
    "name": "ipython",
    "version": 3
   },
   "file_extension": ".py",
   "mimetype": "text/x-python",
   "name": "python",
   "nbconvert_exporter": "python",
   "pygments_lexer": "ipython3",
   "version": "3.7.1"
  }
 },
 "nbformat": 4,
 "nbformat_minor": 2
}
