{
 "cells": [
  {
   "cell_type": "markdown",
   "metadata": {},
   "source": [
    "# Drill: Formulating Good Research Questions\n",
    "Unit 2 / Lesson 1 / Project 3\n",
    "\n",
    "Categorize each of the following research questions as \"good\" or \"bad\", and provide alternative formulations for the bad ones.\n",
    "\n",
    "- What is the 1994 rate of juvenile delinquency in the U.S.?\n",
    "- What can we do to reduce juvenile delinquency in the U.S.?\n",
    "- Does education play a role in reducing juvenile delinquents' return to crime?\n",
    "- How many customers does AT&T currently serve in Washington, DC?\n",
    "- What factors lead consumers to choose AT&T over other service providers?\n",
    "- How can AT&T attract more customers?\n",
    "- Why did the Challenger Shuttle explode?\n",
    "- Which genes are associated with increased risk of breast cancer?\n",
    "- Is it better to read to children at night or in the morning?\n",
    "- How does Google’s search algorithm work?"
   ]
  },
  {
   "cell_type": "markdown",
   "metadata": {},
   "source": [
    "### What is the 1994 rate of juvenile delinquency in the U.S.?\n",
    "\"Good\"\n",
    "This research question (RQ) asks for a specific piece of information which we can easily find with crime rate data.\n",
    "\n",
    "\n",
    "### What can we do to reduce juvenile delinquency in the U.S.?\n",
    "\"Bad\"\n",
    "This question is too vague and will require more specification to answer.\n",
    "A better RQ would be \"what factors cause juvenile delinquency in the US to increase?\"\n",
    "With this RQ we can look at juvenile delinquency rates in the US year-over-year and determine at what factors have the greatest effect on the data.\n",
    "We can then use our findings to to say \"based on our findings, by reducing these factors, we may reduce juvenile delinquency in the US\"\n",
    "\n",
    "\n",
    "### Does education play a role in reducing juvenile delinquents' return to crime?\n",
    "\"Bad\"\n",
    "A better RQ would be \"how much of an effect does education have on reducing juvenile delinquency?\".\n",
    "We could even further improve this RQ by specifying what type of education we're measuring.\n",
    "Comparing juvenile deliquency rates between k-12 students and people who have obtained masters degrees might be too broad to give us any meaningful insight.\n",
    "Limiting our analysis to juveniles who have or have not completed high school will give us a more precise effect to measure.\n",
    "\n",
    "\n",
    "### How many customers does AT&T currently serve in Washington, DC?\n",
    "\"Good\"\n",
    "We can easily find this information by modeling AT&T customer demographic data by region and specify Washington DC.\n",
    "\n",
    "\n",
    "### What factors lead consumers to choose AT&T over other service providers?\n",
    "\"Good\"\n",
    "With this RQ we could poll new customers on what features of AT&T's service attracted them to AT&T over competitors.\n",
    "\n",
    "\n",
    "### How can AT&T attract more customers?\n",
    "\"Bad\"\n",
    "A better RQ would focus on what areas of AT&T's business have the fastest growing customer base and which areas are lagging compared to competitors.\n",
    "We could model the conversion rate of new customers and determine what products those customers are buying, new cellphones, family plans, etc.\n",
    "Based on our model, we could recomend what areas AT&T should invest more resources into to attract more customers. \n",
    "\n",
    "\n",
    "### Why did the Challenger Shuttle explode?\n",
    "\"Bad\"\n",
    "A better RQ would be 'what factors may have caused the challenger shuttle to explode?'.\n",
    "With this RQ we can look at all the systems involved in the launch of a space shuttle and compare the challengers system operations to several successful shuttle launches.\n",
    "We could then isolate discrepencies and assert that they may have had an effect on the failed launch.\n",
    "\n",
    "\n",
    "### Which genes are associated with increased risk of breast cancer?\n",
    "\"Good\"\n",
    "With this RQ we can model people with a high risk of breast cancer, then differentiate our data based on the patient's genetic profile.\n",
    "We could see which common genes are present in patients with a high risk of breast cancer.\n",
    "\n",
    "\n",
    "### Is it better to read to children at night or in the morning?\n",
    "\"Bad\"\n",
    "A better RQ would include a desired outcome by defining what constitutes 'better'.\n",
    "Does this model want to measure grades at school, emotional well being, etc.?\n",
    "Since the question is categorical (night/morning) it would be easy to model, but hard to qualify our results without defining 'better'.\n",
    "\n",
    "\n",
    "### How does Google’s search algorithm work?\n",
    "\"Bad\"\n",
    "This RQ would be better if it qualified 'work', such as 'how does google's search algorithm work differently from other search engines?' or 'how does google's search algorithm determine what information to return?'\n",
    "We could compare different search engines and see how they function compared to google's.\n",
    "Or we could test search results over multiple search engines and see what information google returns compared to competing search engines.\n",
    "\n"
   ]
  },
  {
   "cell_type": "code",
   "execution_count": null,
   "metadata": {
    "collapsed": true
   },
   "outputs": [],
   "source": []
  }
 ],
 "metadata": {
  "kernelspec": {
   "display_name": "Python 3",
   "language": "python",
   "name": "python3"
  },
  "language_info": {
   "codemirror_mode": {
    "name": "ipython",
    "version": 3
   },
   "file_extension": ".py",
   "mimetype": "text/x-python",
   "name": "python",
   "nbconvert_exporter": "python",
   "pygments_lexer": "ipython3",
   "version": "3.7.1"
  }
 },
 "nbformat": 4,
 "nbformat_minor": 2
}
