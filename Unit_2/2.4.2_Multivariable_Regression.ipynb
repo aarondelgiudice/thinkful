{
 "cells": [
  {
   "cell_type": "markdown",
   "metadata": {},
   "source": [
    "# Multivariable Regression\n",
    "Unit 2 / Lesson 4 / Project 2\n",
    "\n",
    "We've covered __simple linear regression__, but that model is rather limited.\n",
    "It deals with only one outcome variable and one input.\n",
    "Most of the time we're interested in a relationship between more than two variables.\n",
    "So what can __least squares regression__ do in that circumstance?\n",
    "\n",
    "The answer is it can still do quite a lot.\n",
    "__Least squares regression__ can handle almost any functional form you pass into it, it will simply estimate the coefficients."
   ]
  },
  {
   "cell_type": "markdown",
   "metadata": {},
   "source": [
    "### Multivariable Least Squares\n",
    "\n",
    "When a __least squares regression__ has more than one independent variable (or input) it is called __multivariable least squares linear regression__, __multiple linear regression__, or just __multivariable regression__.\n",
    "\n",
    "[Note that this is different from \"multivariate\" regression, which involves more than one _dependent_ variable.]\n",
    "\n",
    "This type of model is used when _there are multiple variables affecting your outcome_.\n",
    "\n",
    "For example, let's think about rental costs.\n",
    "If we wanted to model the monthly rental cost of an apartment there are several factors that matter.\n",
    "\n",
    "We could do something simple, say:\n",
    "$$ Rent = \\alpha + SquareFootage $$\n",
    "\n",
    "And that might not be a terrible model.\n",
    "It makes sense that as square footage of an apartment goes up so would the cost of rent.\n",
    "However, there's probably more to the story than that.\n",
    "\n",
    "$$ Rent = \\alpha + SquareFootage + Bedrooms + Bathrooms + YearBuilt $$\n",
    "\n",
    "This would seem like a much more robust model.\n",
    "Now all of these relationships are still linear, meaning each additional bedroom affects rent in the same way.\n",
    "The delta to rent will be equivalent for moving from 1 to 2 bedrooms and from 11 to 12.\n",
    "Again, this is the nature of __linear regression__.\n",
    "As with the simpler models, here again the __linear regression__ algorithm arrives at estimates for coefficients in front of each variable that minimize the sum of squared errors.\n",
    "\n",
    "We'll cover how that algorithm functions in more detail later."
   ]
  },
  {
   "cell_type": "markdown",
   "metadata": {},
   "source": [
    "### Categorical Variables\n",
    "\n",
    "Not all variables have an obvious linear relationship, however.\n",
    "__Categorical variables__, for one, pose a unique problem here.\n",
    "A __categorical variable__, much like the outcomes we studied when working with classifiers, is a type or category.\n",
    "This can be something like a boolean {True, False} or state {WA, CA, OR, NV...}.\n",
    "Implying a single __linear relationship__ between all of these values wouldn't make sense.\n",
    "Instead we treat each of them individually, allowing for each value to have its own associated coefficient.\n",
    "So if we wanted to include neighborhood in our example model we could do something like:\n",
    "\n",
    "$$ Rent = \\alpha + SquareFootage + Bedrooms + Bathrooms + YearBuilt + Neighborhood $$\n",
    "\n",
    "In some languages, such as R, this is functionally sufficient and the algorithm will break neighborhood into categories for the various neighborhoods passed into the model.\n",
    "For Python, however, we have to do a little more work.\n",
    "These different categories are not linearly related, so SKLearn wants separate binary __indicators__ for each.\n",
    "So for every categorical value we have to create a column that is 0 or 1 indicating if the observation is of that category.\n",
    "\n",
    "To continue with our rent example, let's say our town was broken into three neighborhoods: Downtown, South, and North.\n",
    "Then our specification would look something like:\n",
    "\n",
    "$$ Rent = \\alpha + SquareFootage + Bedrooms + Bathrooms + YearBuilt + Downtown + South $$\n",
    "\n",
    "There are a few things to note here.\n",
    "Firstly, one category will always be excluded.\n",
    "That's because it will be incorporated into the intercept (the $\\alpha$) and we would otherwise run into collinearity problems, which we'll cover more in the next section.\n",
    "Also, each of these categories would typically be mutually exclusive, which makes sense.\n",
    "If a house is in the South, it shouldn't simultaneously be in the North.\n",
    "\n",
    "Python offers you two real ways to deal with creating these indicators. The first is to do it manually.\n",
    "If this seems hard or complicated to you THEN YOU SHOULD ABSOLUTELY DO IT!\n",
    "It's good programming practice.\n",
    "However, SKLearn (of course) has a [built in function](http://scikit-learn.org/stable/modules/preprocessing.html) called `OneHotEncoder` that will also do this kind of data preparation."
   ]
  },
  {
   "cell_type": "markdown",
   "metadata": {},
   "source": [
    "### Linear doesn't have to mean lines...\n",
    "\n",
    "Now it is worth noting that the model assumes a __linear relationship__ between the predictors and the outcome, but the predictors themselves can take on more complicated forms.\n",
    "\n",
    "For example, if you specified a functional form of:\n",
    "\n",
    "$$ y = \\alpha + x + x^2 $$\n",
    "\n",
    "That is perfectly doable in __multivariable regression__ as long as you pass through a dataframe where one column is $x$ and the other column is $x^2$.\n",
    "It is not uncommon to see things like `sine` or `cosine` when dealing with a seasonal time series.\n",
    "You can get as complicated as you want, though be careful.\n",
    "Adding a lot of terms can destroy your model by violating the assumptions of __OLS__.\n",
    "\n",
    "We'll get into those assumptions in the next lesson."
   ]
  }
 ],
 "metadata": {
  "kernelspec": {
   "display_name": "Python 3",
   "language": "python",
   "name": "python3"
  },
  "language_info": {
   "codemirror_mode": {
    "name": "ipython",
    "version": 3
   },
   "file_extension": ".py",
   "mimetype": "text/x-python",
   "name": "python",
   "nbconvert_exporter": "python",
   "pygments_lexer": "ipython3",
   "version": "3.7.1"
  }
 },
 "nbformat": 4,
 "nbformat_minor": 2
}
