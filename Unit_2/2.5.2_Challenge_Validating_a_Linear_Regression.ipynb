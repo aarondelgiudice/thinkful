{
 "cells": [
  {
   "cell_type": "markdown",
   "metadata": {},
   "source": [
    "# Challenge: Validating a linear regression\n",
    "Unit 2 / Lesson 5 / Project 2\n",
    "\n",
    "### Validating regression models for prediction\n",
    "Statistical tests are useful for making sure a model is a good fit to the test data, and that all the features are useful to the model.\n",
    "However, to make sure a model has good predictive validity for new data, it is necessary to assess the performance of the model on new datasets.\n",
    "\n",
    "The procedure is the same as what you learned in the Naive Bayes lesson – the holdout method and cross-validation method are both available.\n",
    "You've already had experience writing code to run these kinds of validation models for Naive Bayes: now you can try it again with linear regression.\n",
    "\n",
    "__In this case, your goal is to achieve a model with a consistent R2 and only statistically significant parameters across multiple samples.__\n",
    "\n",
    "We'll use the property crime model you've been working on with, based on the FBI:UCR data.\n",
    "Since your model formulation to date has used the entire New York State 2013 dataset, you'll need to validate it using some of the other crime datasets available at the FBI:UCR website.\n",
    "\n",
    "Options include [other states crime rates in 2013](https://ucr.fbi.gov/crime-in-the-u.s/2013/crime-in-the-u.s.-2013/tables/table-8/table_8_offenses_known_to_law_enforcement_by_state_by_city_2013.xls/view) or [crime rates in New York State in other years](https://ucr.fbi.gov/crime-in-the-u.s/2014/crime-in-the-u.s.-2014/tables/table-8/table-8-by-state/Table_8_Offenses_Known_to_Law_Enforcement_by_New_York_by_City_2014.xls) or a combination of these."
   ]
  },
  {
   "cell_type": "markdown",
   "metadata": {},
   "source": [
    "### Iterate\n",
    "Based on the results of your validation test, create a revised model, and then test both old and new models on a new holdout or set of folds.\n",
    "\n",
    "Include your model(s) and a brief writeup of the reasoning behind the validation method you chose and the changes you made to submit and review with your mentor."
   ]
  },
  {
   "cell_type": "code",
   "execution_count": 1,
   "metadata": {
    "collapsed": true
   },
   "outputs": [],
   "source": [
    "import math\n",
    "\n",
    "from matplotlib import pyplot as plt\n",
    "import numpy as np\n",
    "import pandas as pd\n",
    "import seaborn as sns\n",
    "from sklearn import linear_model\n",
    "\n",
    "pd.options.display.float_format = '{:.3f}'.format\n",
    "\n",
    "import statsmodels.formula.api as smf\n",
    "from statsmodels.sandbox.regression.predstd import wls_prediction_std\n",
    "\n",
    "%matplotlib inline\n",
    "sns.set_style('white')\n",
    "\n",
    "# suppress annoying harmless error\n",
    "import warnings\n",
    "warnings.filterwarnings(action='ignore', module='scipy', message='^internal gelsd')\n",
    "warnings.filterwarnings(\"ignore\",category =RuntimeWarning)"
   ]
  },
  {
   "cell_type": "code",
   "execution_count": 2,
   "metadata": {},
   "outputs": [
    {
     "data": {
      "text/html": [
       "<div>\n",
       "<style scoped>\n",
       "    .dataframe tbody tr th:only-of-type {\n",
       "        vertical-align: middle;\n",
       "    }\n",
       "\n",
       "    .dataframe tbody tr th {\n",
       "        vertical-align: top;\n",
       "    }\n",
       "\n",
       "    .dataframe thead th {\n",
       "        text-align: right;\n",
       "    }\n",
       "</style>\n",
       "<table border=\"1\" class=\"dataframe\">\n",
       "  <thead>\n",
       "    <tr style=\"text-align: right;\">\n",
       "      <th></th>\n",
       "      <th>city</th>\n",
       "      <th>pop</th>\n",
       "      <th>violent_crime</th>\n",
       "      <th>murder</th>\n",
       "      <th>rape</th>\n",
       "      <th>robbery</th>\n",
       "      <th>assault</th>\n",
       "      <th>property_crime</th>\n",
       "      <th>burglary</th>\n",
       "      <th>larceny</th>\n",
       "      <th>gta</th>\n",
       "      <th>arson</th>\n",
       "    </tr>\n",
       "  </thead>\n",
       "  <tbody>\n",
       "    <tr>\n",
       "      <th>0</th>\n",
       "      <td>Adams Village</td>\n",
       "      <td>1861</td>\n",
       "      <td>0</td>\n",
       "      <td>0</td>\n",
       "      <td>0</td>\n",
       "      <td>0</td>\n",
       "      <td>0</td>\n",
       "      <td>12</td>\n",
       "      <td>2</td>\n",
       "      <td>10</td>\n",
       "      <td>0</td>\n",
       "      <td>0.000</td>\n",
       "    </tr>\n",
       "    <tr>\n",
       "      <th>1</th>\n",
       "      <td>Addison Town and Village</td>\n",
       "      <td>2577</td>\n",
       "      <td>3</td>\n",
       "      <td>0</td>\n",
       "      <td>0</td>\n",
       "      <td>0</td>\n",
       "      <td>3</td>\n",
       "      <td>24</td>\n",
       "      <td>3</td>\n",
       "      <td>20</td>\n",
       "      <td>1</td>\n",
       "      <td>0.000</td>\n",
       "    </tr>\n",
       "    <tr>\n",
       "      <th>2</th>\n",
       "      <td>Akron Village</td>\n",
       "      <td>2846</td>\n",
       "      <td>3</td>\n",
       "      <td>0</td>\n",
       "      <td>0</td>\n",
       "      <td>0</td>\n",
       "      <td>3</td>\n",
       "      <td>16</td>\n",
       "      <td>1</td>\n",
       "      <td>15</td>\n",
       "      <td>0</td>\n",
       "      <td>0.000</td>\n",
       "    </tr>\n",
       "    <tr>\n",
       "      <th>3</th>\n",
       "      <td>Albany</td>\n",
       "      <td>97956</td>\n",
       "      <td>791</td>\n",
       "      <td>8</td>\n",
       "      <td>30</td>\n",
       "      <td>227</td>\n",
       "      <td>526</td>\n",
       "      <td>4090</td>\n",
       "      <td>705</td>\n",
       "      <td>3243</td>\n",
       "      <td>142</td>\n",
       "      <td>0.000</td>\n",
       "    </tr>\n",
       "    <tr>\n",
       "      <th>4</th>\n",
       "      <td>Albion Village</td>\n",
       "      <td>6388</td>\n",
       "      <td>23</td>\n",
       "      <td>0</td>\n",
       "      <td>3</td>\n",
       "      <td>4</td>\n",
       "      <td>16</td>\n",
       "      <td>223</td>\n",
       "      <td>53</td>\n",
       "      <td>165</td>\n",
       "      <td>5</td>\n",
       "      <td>0.000</td>\n",
       "    </tr>\n",
       "  </tbody>\n",
       "</table>\n",
       "</div>"
      ],
      "text/plain": [
       "                       city    pop  violent_crime  murder  rape  robbery  \\\n",
       "0             Adams Village   1861              0       0     0        0   \n",
       "1  Addison Town and Village   2577              3       0     0        0   \n",
       "2             Akron Village   2846              3       0     0        0   \n",
       "3                    Albany  97956            791       8    30      227   \n",
       "4            Albion Village   6388             23       0     3        4   \n",
       "\n",
       "   assault  property_crime  burglary  larceny  gta  arson  \n",
       "0        0              12         2       10    0  0.000  \n",
       "1        3              24         3       20    1  0.000  \n",
       "2        3              16         1       15    0  0.000  \n",
       "3      526            4090       705     3243  142  0.000  \n",
       "4       16             223        53      165    5  0.000  "
      ]
     },
     "execution_count": 2,
     "metadata": {},
     "output_type": "execute_result"
    }
   ],
   "source": [
    "# load data\n",
    "PATH1 = ('assets/ny_crime_data_2013.xls'\n",
    "        )\n",
    "PATH2 = ('assets/ny_crime_data_2014.xls'\n",
    "        )\n",
    "PATH3 = ('assets/cali_crime_data_2013.xls'\n",
    "        )\n",
    "\n",
    "# drop 'Rape\\n(revised\\ndefinition)1' column\n",
    "ny_2013_raw = pd.read_excel(PATH1, header=4, skipfooter=3).drop(\n",
    "    'Rape\\n(revised\\ndefinition)1', axis=1)\n",
    "ny_2014_raw = pd.read_excel(PATH2, header=4, skipfooter=3).drop(\n",
    "    'Rape\\n(revised\\ndefinition)1', axis=1)\n",
    "ca_2013_raw = pd.read_excel(PATH1, header=4, skipfooter=3).drop(\n",
    "    'Rape\\n(revised\\ndefinition)1', axis=1)\n",
    "\n",
    "col_list = ['city', 'pop', 'violent_crime', 'murder', 'rape', 'robbery', 'assault',\n",
    "           'property_crime', 'burglary', 'larceny', 'gta', 'arson']\n",
    "\n",
    "# rename columns and fill NaN values with 0\n",
    "for i in [ny_2013_raw, ny_2014_raw, ca_2013_raw]:\n",
    "    i.columns = col_list\n",
    "    i.fillna(value=0, axis=0, inplace=True)\n",
    "\n",
    "ny_2013_raw.head()"
   ]
  },
  {
   "cell_type": "code",
   "execution_count": 3,
   "metadata": {},
   "outputs": [
    {
     "data": {
      "text/html": [
       "<div>\n",
       "<style scoped>\n",
       "    .dataframe tbody tr th:only-of-type {\n",
       "        vertical-align: middle;\n",
       "    }\n",
       "\n",
       "    .dataframe tbody tr th {\n",
       "        vertical-align: top;\n",
       "    }\n",
       "\n",
       "    .dataframe thead th {\n",
       "        text-align: right;\n",
       "    }\n",
       "</style>\n",
       "<table border=\"1\" class=\"dataframe\">\n",
       "  <thead>\n",
       "    <tr style=\"text-align: right;\">\n",
       "      <th></th>\n",
       "      <th>pop</th>\n",
       "      <th>violent_crime</th>\n",
       "      <th>murder</th>\n",
       "      <th>rape</th>\n",
       "      <th>robbery</th>\n",
       "      <th>assault</th>\n",
       "      <th>property_crime</th>\n",
       "      <th>burglary</th>\n",
       "      <th>larceny</th>\n",
       "      <th>gta</th>\n",
       "      <th>arson</th>\n",
       "      <th>log_pop</th>\n",
       "      <th>log_pcrime</th>\n",
       "    </tr>\n",
       "  </thead>\n",
       "  <tbody>\n",
       "    <tr>\n",
       "      <th>0</th>\n",
       "      <td>1861</td>\n",
       "      <td>0</td>\n",
       "      <td>0</td>\n",
       "      <td>0</td>\n",
       "      <td>0</td>\n",
       "      <td>0</td>\n",
       "      <td>12</td>\n",
       "      <td>1</td>\n",
       "      <td>1</td>\n",
       "      <td>0</td>\n",
       "      <td>0</td>\n",
       "      <td>7.529</td>\n",
       "      <td>2.565</td>\n",
       "    </tr>\n",
       "    <tr>\n",
       "      <th>1</th>\n",
       "      <td>2577</td>\n",
       "      <td>3</td>\n",
       "      <td>0</td>\n",
       "      <td>0</td>\n",
       "      <td>0</td>\n",
       "      <td>1</td>\n",
       "      <td>24</td>\n",
       "      <td>1</td>\n",
       "      <td>1</td>\n",
       "      <td>1</td>\n",
       "      <td>0</td>\n",
       "      <td>7.855</td>\n",
       "      <td>3.219</td>\n",
       "    </tr>\n",
       "    <tr>\n",
       "      <th>2</th>\n",
       "      <td>2846</td>\n",
       "      <td>3</td>\n",
       "      <td>0</td>\n",
       "      <td>0</td>\n",
       "      <td>0</td>\n",
       "      <td>1</td>\n",
       "      <td>16</td>\n",
       "      <td>1</td>\n",
       "      <td>1</td>\n",
       "      <td>0</td>\n",
       "      <td>0</td>\n",
       "      <td>7.954</td>\n",
       "      <td>2.833</td>\n",
       "    </tr>\n",
       "    <tr>\n",
       "      <th>3</th>\n",
       "      <td>97956</td>\n",
       "      <td>791</td>\n",
       "      <td>1</td>\n",
       "      <td>1</td>\n",
       "      <td>1</td>\n",
       "      <td>1</td>\n",
       "      <td>4090</td>\n",
       "      <td>1</td>\n",
       "      <td>1</td>\n",
       "      <td>1</td>\n",
       "      <td>0</td>\n",
       "      <td>11.492</td>\n",
       "      <td>8.317</td>\n",
       "    </tr>\n",
       "    <tr>\n",
       "      <th>4</th>\n",
       "      <td>6388</td>\n",
       "      <td>23</td>\n",
       "      <td>0</td>\n",
       "      <td>1</td>\n",
       "      <td>1</td>\n",
       "      <td>1</td>\n",
       "      <td>223</td>\n",
       "      <td>1</td>\n",
       "      <td>1</td>\n",
       "      <td>1</td>\n",
       "      <td>0</td>\n",
       "      <td>8.762</td>\n",
       "      <td>5.412</td>\n",
       "    </tr>\n",
       "  </tbody>\n",
       "</table>\n",
       "</div>"
      ],
      "text/plain": [
       "     pop  violent_crime  murder  rape  robbery  assault  property_crime  \\\n",
       "0   1861              0       0     0        0        0              12   \n",
       "1   2577              3       0     0        0        1              24   \n",
       "2   2846              3       0     0        0        1              16   \n",
       "3  97956            791       1     1        1        1            4090   \n",
       "4   6388             23       0     1        1        1             223   \n",
       "\n",
       "   burglary  larceny  gta  arson  log_pop  log_pcrime  \n",
       "0         1        1    0      0    7.529       2.565  \n",
       "1         1        1    1      0    7.855       3.219  \n",
       "2         1        1    0      0    7.954       2.833  \n",
       "3         1        1    1      0   11.492       8.317  \n",
       "4         1        1    1      0    8.762       5.412  "
      ]
     },
     "execution_count": 3,
     "metadata": {},
     "output_type": "execute_result"
    }
   ],
   "source": [
    "# create feature dataframes\n",
    "ny13_features = ny_2013_raw.iloc[:,1:]\n",
    "ny14_features = ny_2014_raw.iloc[:,1:] \n",
    "ca13_features = ca_2013_raw.iloc[:,1:] \n",
    "\n",
    "# convert continuous data into categorical\n",
    "for i in [ny13_features, ny14_features, ca13_features]:\n",
    "    for n in ['murder', 'rape', 'robbery', 'assault', 'burglary', 'larceny', 'gta', 'arson']:\n",
    "        i[str(n)] = np.where(i[str(n)] >= 1, 1, 0)\n",
    "\n",
    "# add 1 and perform log transformation on\n",
    "# 'population' and 'property crime' features\n",
    "for i in [ny13_features, ny14_features, ca13_features]:\n",
    "    i['log_pop'] = np.log1p(i['pop']) \n",
    "    i['log_pcrime'] = np.log1p(i['property_crime'])\n",
    "\n",
    "ny13_features.head()"
   ]
  },
  {
   "cell_type": "code",
   "execution_count": 4,
   "metadata": {
    "scrolled": true
   },
   "outputs": [
    {
     "name": "stdout",
     "output_type": "stream",
     "text": [
      "\n",
      "Coefficients: \n",
      " [[0.94054499 0.25780529 0.88702551]]\n",
      "\n",
      "Intercept: \n",
      " [-4.26034]\n",
      "\n",
      "R-squared:\n",
      "0.8017442686613627\n"
     ]
    }
   ],
   "source": [
    "# Instantiate and fit our model\n",
    "regr = linear_model.LinearRegression()\n",
    "Y = ny13_features['log_pcrime'].values.reshape(-1, 1)\n",
    "X = ny13_features[['log_pop','murder','robbery']]\n",
    "regr.fit(X, Y)\n",
    "\n",
    "# Inspect the results\n",
    "print('\\nCoefficients: \\n', regr.coef_)\n",
    "print('\\nIntercept: \\n', regr.intercept_)\n",
    "print('\\nR-squared:')\n",
    "print(regr.score(X, Y))"
   ]
  },
  {
   "cell_type": "markdown",
   "metadata": {},
   "source": [
    "### Measure model performance.\n",
    "\n",
    "Now that we have our model... \n",
    "$$ log(Property Crime) = \\alpha + log(Population) + Murder + Robbery$$\n",
    "\n",
    "Let's verify that our parameters are all significant and perform a cross-validation test to determine the consistency of our $R^2$"
   ]
  },
  {
   "cell_type": "code",
   "execution_count": 5,
   "metadata": {
    "scrolled": true
   },
   "outputs": [
    {
     "data": {
      "text/plain": [
       "Intercept   -4.260\n",
       "log_pop      0.941\n",
       "murder       0.258\n",
       "robbery      0.887\n",
       "dtype: float64"
      ]
     },
     "metadata": {},
     "output_type": "display_data"
    },
    {
     "data": {
      "text/plain": [
       "Intercept   0.000\n",
       "log_pop     0.000\n",
       "murder      0.057\n",
       "robbery     0.000\n",
       "dtype: float64"
      ]
     },
     "metadata": {},
     "output_type": "display_data"
    },
    {
     "data": {
      "text/plain": [
       "0.8017442686613627"
      ]
     },
     "metadata": {},
     "output_type": "display_data"
    },
    {
     "data": {
      "text/html": [
       "<div>\n",
       "<style scoped>\n",
       "    .dataframe tbody tr th:only-of-type {\n",
       "        vertical-align: middle;\n",
       "    }\n",
       "\n",
       "    .dataframe tbody tr th {\n",
       "        vertical-align: top;\n",
       "    }\n",
       "\n",
       "    .dataframe thead th {\n",
       "        text-align: right;\n",
       "    }\n",
       "</style>\n",
       "<table border=\"1\" class=\"dataframe\">\n",
       "  <thead>\n",
       "    <tr style=\"text-align: right;\">\n",
       "      <th></th>\n",
       "      <th>0</th>\n",
       "      <th>1</th>\n",
       "    </tr>\n",
       "  </thead>\n",
       "  <tbody>\n",
       "    <tr>\n",
       "      <th>Intercept</th>\n",
       "      <td>-4.970</td>\n",
       "      <td>-3.551</td>\n",
       "    </tr>\n",
       "    <tr>\n",
       "      <th>log_pop</th>\n",
       "      <td>0.854</td>\n",
       "      <td>1.027</td>\n",
       "    </tr>\n",
       "    <tr>\n",
       "      <th>murder</th>\n",
       "      <td>-0.007</td>\n",
       "      <td>0.523</td>\n",
       "    </tr>\n",
       "    <tr>\n",
       "      <th>robbery</th>\n",
       "      <td>0.687</td>\n",
       "      <td>1.087</td>\n",
       "    </tr>\n",
       "  </tbody>\n",
       "</table>\n",
       "</div>"
      ],
      "text/plain": [
       "               0      1\n",
       "Intercept -4.970 -3.551\n",
       "log_pop    0.854  1.027\n",
       "murder    -0.007  0.523\n",
       "robbery    0.687  1.087"
      ]
     },
     "metadata": {},
     "output_type": "display_data"
    }
   ],
   "source": [
    "# Write out the model formula.\n",
    "# Your dependent variable on the right, independent variables on the left\n",
    "# Use a ~ to represent an '=' from the functional form\n",
    "linear_formula = 'log_pcrime ~ log_pop+murder+robbery'\n",
    "\n",
    "# Fit the model to our data using the formula.\n",
    "lm = smf.ols(formula=linear_formula, data=ny13_features).fit()\n",
    "\n",
    "display(lm.params, lm.pvalues, lm.rsquared, lm.conf_int())"
   ]
  },
  {
   "cell_type": "code",
   "execution_count": 6,
   "metadata": {},
   "outputs": [
    {
     "name": "stdout",
     "output_type": "stream",
     "text": [
      "20% Holdout: 0.7924927380502749\n",
      "Testing on Sample: 0.8017442686613627\n"
     ]
    }
   ],
   "source": [
    "# cross validate our model\n",
    "from sklearn.model_selection import train_test_split\n",
    "from sklearn import linear_model\n",
    "\n",
    "data = ny13_features[['log_pop','murder','robbery']]\n",
    "target = ny13_features.log_pcrime\n",
    "\n",
    "reg = linear_model.LinearRegression()\n",
    "reg.fit(data, target)\n",
    "\n",
    "X_train, X_test, y_train, y_test = train_test_split(data, target, test_size=0.5, random_state=20)\n",
    "print('20% Holdout: ' + str(reg.fit(X_train, y_train).score(X_test, y_test)))\n",
    "print('Testing on Sample: ' + str(reg.fit(data, target).score(data, target)))"
   ]
  },
  {
   "cell_type": "markdown",
   "metadata": {},
   "source": [
    "It looks like all of our parameters `log(Population)`, `Murder` and `Robbery` are statistically significant to our model.\n",
    "Though the `Murder` parameter is the least signifcant, so let's see if we can update our model and improve its performance.\n",
    "\n",
    "Our cross-validation test produced consistent $R^2$ values within a range of `0.792` - `0.801`."
   ]
  },
  {
   "cell_type": "markdown",
   "metadata": {},
   "source": [
    "### Update our model\n",
    "\n",
    "Let's create a new iteration of our model with updated parameters and see if we can improve its performance."
   ]
  },
  {
   "cell_type": "code",
   "execution_count": 7,
   "metadata": {},
   "outputs": [
    {
     "name": "stdout",
     "output_type": "stream",
     "text": [
      "\n",
      "Coefficients: \n",
      " [[0.70932519 0.2670883  0.55215992 0.49046513 0.32189333 0.69560068\n",
      "  1.72952349 0.2895029  0.20410819]]\n",
      "\n",
      "Intercept: \n",
      " [-5.04561881]\n",
      "\n",
      "R-squared:\n",
      "0.8789640993335986\n"
     ]
    }
   ],
   "source": [
    "# Instantiate and fit our new model\n",
    "regr = linear_model.LinearRegression()\n",
    "Y = ny13_features['log_pcrime'].values.reshape(-1, 1)\n",
    "X = ny13_features[['log_pop','murder','robbery', 'rape', 'assault', 'burglary',\n",
    "                   'larceny', 'gta', 'arson']]\n",
    "regr.fit(X, Y)\n",
    "\n",
    "# Inspect the results\n",
    "print('\\nCoefficients: \\n', regr.coef_)\n",
    "print('\\nIntercept: \\n', regr.intercept_)\n",
    "print('\\nR-squared:')\n",
    "print(regr.score(X, Y))"
   ]
  },
  {
   "cell_type": "markdown",
   "metadata": {},
   "source": [
    "### Compare new model performance.\n",
    "\n",
    "Now we have our new model... \n",
    "$$ log(Property Crime) = \\alpha + log(Population) + Murder + Robbery + Rape + Assault + Burglary + Larceny + Auto-vehicalTheft + Arson$$\n",
    "\n",
    "Let's test our new parameters and our $R^2$"
   ]
  },
  {
   "cell_type": "code",
   "execution_count": 8,
   "metadata": {},
   "outputs": [
    {
     "data": {
      "text/plain": [
       "Intercept   -5.046\n",
       "log_pop      0.709\n",
       "murder       0.267\n",
       "robbery      0.552\n",
       "rape         0.490\n",
       "assault      0.322\n",
       "burglary     0.696\n",
       "larceny      1.730\n",
       "gta          0.290\n",
       "arson        0.204\n",
       "dtype: float64"
      ]
     },
     "metadata": {},
     "output_type": "display_data"
    },
    {
     "data": {
      "text/plain": [
       "Intercept   0.000\n",
       "log_pop     0.000\n",
       "murder      0.014\n",
       "robbery     0.000\n",
       "rape        0.000\n",
       "assault     0.001\n",
       "burglary    0.000\n",
       "larceny     0.000\n",
       "gta         0.001\n",
       "arson       0.030\n",
       "dtype: float64"
      ]
     },
     "metadata": {},
     "output_type": "display_data"
    },
    {
     "data": {
      "text/plain": [
       "0.8789640993335988"
      ]
     },
     "metadata": {},
     "output_type": "display_data"
    },
    {
     "data": {
      "text/html": [
       "<div>\n",
       "<style scoped>\n",
       "    .dataframe tbody tr th:only-of-type {\n",
       "        vertical-align: middle;\n",
       "    }\n",
       "\n",
       "    .dataframe tbody tr th {\n",
       "        vertical-align: top;\n",
       "    }\n",
       "\n",
       "    .dataframe thead th {\n",
       "        text-align: right;\n",
       "    }\n",
       "</style>\n",
       "<table border=\"1\" class=\"dataframe\">\n",
       "  <thead>\n",
       "    <tr style=\"text-align: right;\">\n",
       "      <th></th>\n",
       "      <th>0</th>\n",
       "      <th>1</th>\n",
       "    </tr>\n",
       "  </thead>\n",
       "  <tbody>\n",
       "    <tr>\n",
       "      <th>Intercept</th>\n",
       "      <td>-5.748</td>\n",
       "      <td>-4.343</td>\n",
       "    </tr>\n",
       "    <tr>\n",
       "      <th>log_pop</th>\n",
       "      <td>0.632</td>\n",
       "      <td>0.787</td>\n",
       "    </tr>\n",
       "    <tr>\n",
       "      <th>murder</th>\n",
       "      <td>0.054</td>\n",
       "      <td>0.480</td>\n",
       "    </tr>\n",
       "    <tr>\n",
       "      <th>robbery</th>\n",
       "      <td>0.383</td>\n",
       "      <td>0.722</td>\n",
       "    </tr>\n",
       "    <tr>\n",
       "      <th>rape</th>\n",
       "      <td>0.330</td>\n",
       "      <td>0.650</td>\n",
       "    </tr>\n",
       "    <tr>\n",
       "      <th>assault</th>\n",
       "      <td>0.129</td>\n",
       "      <td>0.514</td>\n",
       "    </tr>\n",
       "    <tr>\n",
       "      <th>burglary</th>\n",
       "      <td>0.373</td>\n",
       "      <td>1.018</td>\n",
       "    </tr>\n",
       "    <tr>\n",
       "      <th>larceny</th>\n",
       "      <td>1.212</td>\n",
       "      <td>2.247</td>\n",
       "    </tr>\n",
       "    <tr>\n",
       "      <th>gta</th>\n",
       "      <td>0.117</td>\n",
       "      <td>0.462</td>\n",
       "    </tr>\n",
       "    <tr>\n",
       "      <th>arson</th>\n",
       "      <td>0.020</td>\n",
       "      <td>0.388</td>\n",
       "    </tr>\n",
       "  </tbody>\n",
       "</table>\n",
       "</div>"
      ],
      "text/plain": [
       "               0      1\n",
       "Intercept -5.748 -4.343\n",
       "log_pop    0.632  0.787\n",
       "murder     0.054  0.480\n",
       "robbery    0.383  0.722\n",
       "rape       0.330  0.650\n",
       "assault    0.129  0.514\n",
       "burglary   0.373  1.018\n",
       "larceny    1.212  2.247\n",
       "gta        0.117  0.462\n",
       "arson      0.020  0.388"
      ]
     },
     "metadata": {},
     "output_type": "display_data"
    }
   ],
   "source": [
    "# Write out the model formula.\n",
    "# Your dependent variable on the right, independent variables on the left\n",
    "# Use a ~ to represent an '=' from the functional form\n",
    "linear_formula = 'log_pcrime ~ log_pop+murder+robbery+rape+assault+burglary+larceny+gta+arson'\n",
    "\n",
    "# Fit the model to our data using the formula.\n",
    "lm = smf.ols(formula=linear_formula, data=ny13_features).fit()\n",
    "\n",
    "display(lm.params, lm.pvalues, lm.rsquared, lm.conf_int())"
   ]
  },
  {
   "cell_type": "markdown",
   "metadata": {},
   "source": [
    "Right away, looking at our $P-values$ it looks like we can drop `Arson`, as it doesn't meet our threshold of `< 0.05`.\n",
    "\n",
    "Looking at our parameters, it looks like `log(Population)`, `larceny`, `burglary`, `robbery` and `rape` are have the greatest affect on `property crimes`.\n",
    "This is not surprising, as `property crimes` is a composite of `larceny`, `burglary`, `robbery` and `auto-vehical theft`.\n",
    "\n",
    "Let's make sure these values aren't exhibiting any correlation before we proceed."
   ]
  },
  {
   "cell_type": "code",
   "execution_count": 9,
   "metadata": {},
   "outputs": [
    {
     "data": {
      "text/html": [
       "<div>\n",
       "<style scoped>\n",
       "    .dataframe tbody tr th:only-of-type {\n",
       "        vertical-align: middle;\n",
       "    }\n",
       "\n",
       "    .dataframe tbody tr th {\n",
       "        vertical-align: top;\n",
       "    }\n",
       "\n",
       "    .dataframe thead th {\n",
       "        text-align: right;\n",
       "    }\n",
       "</style>\n",
       "<table border=\"1\" class=\"dataframe\">\n",
       "  <thead>\n",
       "    <tr style=\"text-align: right;\">\n",
       "      <th></th>\n",
       "      <th>log_pop</th>\n",
       "      <th>murder</th>\n",
       "      <th>robbery</th>\n",
       "      <th>rape</th>\n",
       "      <th>assault</th>\n",
       "      <th>burglary</th>\n",
       "      <th>larceny</th>\n",
       "      <th>gta</th>\n",
       "    </tr>\n",
       "  </thead>\n",
       "  <tbody>\n",
       "    <tr>\n",
       "      <th>log_pop</th>\n",
       "      <td>1.000</td>\n",
       "      <td>0.503</td>\n",
       "      <td>0.582</td>\n",
       "      <td>0.554</td>\n",
       "      <td>0.425</td>\n",
       "      <td>0.359</td>\n",
       "      <td>0.212</td>\n",
       "      <td>0.483</td>\n",
       "    </tr>\n",
       "    <tr>\n",
       "      <th>murder</th>\n",
       "      <td>0.503</td>\n",
       "      <td>1.000</td>\n",
       "      <td>0.313</td>\n",
       "      <td>0.381</td>\n",
       "      <td>0.196</td>\n",
       "      <td>0.103</td>\n",
       "      <td>0.058</td>\n",
       "      <td>0.226</td>\n",
       "    </tr>\n",
       "    <tr>\n",
       "      <th>robbery</th>\n",
       "      <td>0.582</td>\n",
       "      <td>0.313</td>\n",
       "      <td>1.000</td>\n",
       "      <td>0.471</td>\n",
       "      <td>0.429</td>\n",
       "      <td>0.286</td>\n",
       "      <td>0.176</td>\n",
       "      <td>0.449</td>\n",
       "    </tr>\n",
       "    <tr>\n",
       "      <th>rape</th>\n",
       "      <td>0.554</td>\n",
       "      <td>0.381</td>\n",
       "      <td>0.471</td>\n",
       "      <td>1.000</td>\n",
       "      <td>0.302</td>\n",
       "      <td>0.213</td>\n",
       "      <td>0.120</td>\n",
       "      <td>0.283</td>\n",
       "    </tr>\n",
       "    <tr>\n",
       "      <th>assault</th>\n",
       "      <td>0.425</td>\n",
       "      <td>0.196</td>\n",
       "      <td>0.429</td>\n",
       "      <td>0.302</td>\n",
       "      <td>1.000</td>\n",
       "      <td>0.339</td>\n",
       "      <td>0.296</td>\n",
       "      <td>0.404</td>\n",
       "    </tr>\n",
       "    <tr>\n",
       "      <th>burglary</th>\n",
       "      <td>0.359</td>\n",
       "      <td>0.103</td>\n",
       "      <td>0.286</td>\n",
       "      <td>0.213</td>\n",
       "      <td>0.339</td>\n",
       "      <td>1.000</td>\n",
       "      <td>0.479</td>\n",
       "      <td>0.338</td>\n",
       "    </tr>\n",
       "    <tr>\n",
       "      <th>larceny</th>\n",
       "      <td>0.212</td>\n",
       "      <td>0.058</td>\n",
       "      <td>0.176</td>\n",
       "      <td>0.120</td>\n",
       "      <td>0.296</td>\n",
       "      <td>0.479</td>\n",
       "      <td>1.000</td>\n",
       "      <td>0.237</td>\n",
       "    </tr>\n",
       "    <tr>\n",
       "      <th>gta</th>\n",
       "      <td>0.483</td>\n",
       "      <td>0.226</td>\n",
       "      <td>0.449</td>\n",
       "      <td>0.283</td>\n",
       "      <td>0.404</td>\n",
       "      <td>0.338</td>\n",
       "      <td>0.237</td>\n",
       "      <td>1.000</td>\n",
       "    </tr>\n",
       "  </tbody>\n",
       "</table>\n",
       "</div>"
      ],
      "text/plain": [
       "          log_pop  murder  robbery  rape  assault  burglary  larceny   gta\n",
       "log_pop     1.000   0.503    0.582 0.554    0.425     0.359    0.212 0.483\n",
       "murder      0.503   1.000    0.313 0.381    0.196     0.103    0.058 0.226\n",
       "robbery     0.582   0.313    1.000 0.471    0.429     0.286    0.176 0.449\n",
       "rape        0.554   0.381    0.471 1.000    0.302     0.213    0.120 0.283\n",
       "assault     0.425   0.196    0.429 0.302    1.000     0.339    0.296 0.404\n",
       "burglary    0.359   0.103    0.286 0.213    0.339     1.000    0.479 0.338\n",
       "larceny     0.212   0.058    0.176 0.120    0.296     0.479    1.000 0.237\n",
       "gta         0.483   0.226    0.449 0.283    0.404     0.338    0.237 1.000"
      ]
     },
     "metadata": {},
     "output_type": "display_data"
    },
    {
     "data": {
      "image/png": "[encoded data removed]",
      "text/plain": [
       "<Figure size 432x288 with 2 Axes>"
      ]
     },
     "metadata": {
      "needs_background": "light"
     },
     "output_type": "display_data"
    }
   ],
   "source": [
    "#check for correlation\n",
    "X = ny13_features[['log_pop','murder','robbery', 'rape', 'assault', 'burglary',\n",
    "                   'larceny', 'gta']]\n",
    "correlation_matrix = X.corr()\n",
    "display(correlation_matrix)\n",
    "sns.heatmap(X.corr());"
   ]
  },
  {
   "cell_type": "markdown",
   "metadata": {},
   "source": [
    "It looks like these some slight correlation between `robbery` and `log(Population)`, but not enough to be concerned about.\n",
    "\n",
    "Let's test our parameters and $R^2$ again and perform a cross-validation test on our new model."
   ]
  },
  {
   "cell_type": "code",
   "execution_count": 10,
   "metadata": {},
   "outputs": [
    {
     "data": {
      "text/plain": [
       "Intercept   -5.101\n",
       "log_pop      0.717\n",
       "murder       0.283\n",
       "robbery      0.551\n",
       "rape         0.511\n",
       "assault      0.341\n",
       "burglary     0.679\n",
       "larceny      1.730\n",
       "gta          0.294\n",
       "dtype: float64"
      ]
     },
     "metadata": {},
     "output_type": "display_data"
    },
    {
     "data": {
      "text/plain": [
       "Intercept   0.000\n",
       "log_pop     0.000\n",
       "murder      0.010\n",
       "robbery     0.000\n",
       "rape        0.000\n",
       "assault     0.001\n",
       "burglary    0.000\n",
       "larceny     0.000\n",
       "gta         0.001\n",
       "dtype: float64"
      ]
     },
     "metadata": {},
     "output_type": "display_data"
    },
    {
     "data": {
      "text/plain": [
       "0.877265014687678"
      ]
     },
     "metadata": {},
     "output_type": "display_data"
    },
    {
     "data": {
      "text/html": [
       "<div>\n",
       "<style scoped>\n",
       "    .dataframe tbody tr th:only-of-type {\n",
       "        vertical-align: middle;\n",
       "    }\n",
       "\n",
       "    .dataframe tbody tr th {\n",
       "        vertical-align: top;\n",
       "    }\n",
       "\n",
       "    .dataframe thead th {\n",
       "        text-align: right;\n",
       "    }\n",
       "</style>\n",
       "<table border=\"1\" class=\"dataframe\">\n",
       "  <thead>\n",
       "    <tr style=\"text-align: right;\">\n",
       "      <th></th>\n",
       "      <th>0</th>\n",
       "      <th>1</th>\n",
       "    </tr>\n",
       "  </thead>\n",
       "  <tbody>\n",
       "    <tr>\n",
       "      <th>Intercept</th>\n",
       "      <td>-5.806</td>\n",
       "      <td>-4.397</td>\n",
       "    </tr>\n",
       "    <tr>\n",
       "      <th>log_pop</th>\n",
       "      <td>0.640</td>\n",
       "      <td>0.795</td>\n",
       "    </tr>\n",
       "    <tr>\n",
       "      <th>murder</th>\n",
       "      <td>0.069</td>\n",
       "      <td>0.496</td>\n",
       "    </tr>\n",
       "    <tr>\n",
       "      <th>robbery</th>\n",
       "      <td>0.381</td>\n",
       "      <td>0.722</td>\n",
       "    </tr>\n",
       "    <tr>\n",
       "      <th>rape</th>\n",
       "      <td>0.352</td>\n",
       "      <td>0.671</td>\n",
       "    </tr>\n",
       "    <tr>\n",
       "      <th>assault</th>\n",
       "      <td>0.148</td>\n",
       "      <td>0.534</td>\n",
       "    </tr>\n",
       "    <tr>\n",
       "      <th>burglary</th>\n",
       "      <td>0.355</td>\n",
       "      <td>1.002</td>\n",
       "    </tr>\n",
       "    <tr>\n",
       "      <th>larceny</th>\n",
       "      <td>1.210</td>\n",
       "      <td>2.251</td>\n",
       "    </tr>\n",
       "    <tr>\n",
       "      <th>gta</th>\n",
       "      <td>0.120</td>\n",
       "      <td>0.467</td>\n",
       "    </tr>\n",
       "  </tbody>\n",
       "</table>\n",
       "</div>"
      ],
      "text/plain": [
       "               0      1\n",
       "Intercept -5.806 -4.397\n",
       "log_pop    0.640  0.795\n",
       "murder     0.069  0.496\n",
       "robbery    0.381  0.722\n",
       "rape       0.352  0.671\n",
       "assault    0.148  0.534\n",
       "burglary   0.355  1.002\n",
       "larceny    1.210  2.251\n",
       "gta        0.120  0.467"
      ]
     },
     "metadata": {},
     "output_type": "display_data"
    }
   ],
   "source": [
    "# Write out the new model formula\n",
    "linear_formula = 'log_pcrime ~ log_pop+murder+robbery+rape+assault+burglary+larceny+gta'\n",
    "\n",
    "# Fit the model to our data using the formula.\n",
    "lm = smf.ols(formula=linear_formula, data=ny13_features).fit()\n",
    "\n",
    "display(lm.params, lm.pvalues, lm.rsquared, lm.conf_int())"
   ]
  },
  {
   "cell_type": "markdown",
   "metadata": {},
   "source": [
    "Now we can see `murder` has $P-value$ too high to be included in our model.\n",
    "Let's drop that and run our model again."
   ]
  },
  {
   "cell_type": "code",
   "execution_count": 11,
   "metadata": {
    "scrolled": true
   },
   "outputs": [
    {
     "data": {
      "text/plain": [
       "Intercept   -5.351\n",
       "log_pop      0.753\n",
       "robbery      0.554\n",
       "rape         0.541\n",
       "assault      0.338\n",
       "burglary     0.645\n",
       "larceny      1.721\n",
       "gta          0.293\n",
       "dtype: float64"
      ]
     },
     "metadata": {},
     "output_type": "display_data"
    },
    {
     "data": {
      "text/plain": [
       "Intercept   0.000\n",
       "log_pop     0.000\n",
       "robbery     0.000\n",
       "rape        0.000\n",
       "assault     0.001\n",
       "burglary    0.000\n",
       "larceny     0.000\n",
       "gta         0.001\n",
       "dtype: float64"
      ]
     },
     "metadata": {},
     "output_type": "display_data"
    },
    {
     "data": {
      "text/plain": [
       "0.8748089340590908"
      ]
     },
     "metadata": {},
     "output_type": "display_data"
    },
    {
     "data": {
      "text/html": [
       "<div>\n",
       "<style scoped>\n",
       "    .dataframe tbody tr th:only-of-type {\n",
       "        vertical-align: middle;\n",
       "    }\n",
       "\n",
       "    .dataframe tbody tr th {\n",
       "        vertical-align: top;\n",
       "    }\n",
       "\n",
       "    .dataframe thead th {\n",
       "        text-align: right;\n",
       "    }\n",
       "</style>\n",
       "<table border=\"1\" class=\"dataframe\">\n",
       "  <thead>\n",
       "    <tr style=\"text-align: right;\">\n",
       "      <th></th>\n",
       "      <th>0</th>\n",
       "      <th>1</th>\n",
       "    </tr>\n",
       "  </thead>\n",
       "  <tbody>\n",
       "    <tr>\n",
       "      <th>Intercept</th>\n",
       "      <td>-6.035</td>\n",
       "      <td>-4.667</td>\n",
       "    </tr>\n",
       "    <tr>\n",
       "      <th>log_pop</th>\n",
       "      <td>0.680</td>\n",
       "      <td>0.826</td>\n",
       "    </tr>\n",
       "    <tr>\n",
       "      <th>robbery</th>\n",
       "      <td>0.382</td>\n",
       "      <td>0.726</td>\n",
       "    </tr>\n",
       "    <tr>\n",
       "      <th>rape</th>\n",
       "      <td>0.382</td>\n",
       "      <td>0.701</td>\n",
       "    </tr>\n",
       "    <tr>\n",
       "      <th>assault</th>\n",
       "      <td>0.143</td>\n",
       "      <td>0.532</td>\n",
       "    </tr>\n",
       "    <tr>\n",
       "      <th>burglary</th>\n",
       "      <td>0.320</td>\n",
       "      <td>0.970</td>\n",
       "    </tr>\n",
       "    <tr>\n",
       "      <th>larceny</th>\n",
       "      <td>1.196</td>\n",
       "      <td>2.246</td>\n",
       "    </tr>\n",
       "    <tr>\n",
       "      <th>gta</th>\n",
       "      <td>0.118</td>\n",
       "      <td>0.468</td>\n",
       "    </tr>\n",
       "  </tbody>\n",
       "</table>\n",
       "</div>"
      ],
      "text/plain": [
       "               0      1\n",
       "Intercept -6.035 -4.667\n",
       "log_pop    0.680  0.826\n",
       "robbery    0.382  0.726\n",
       "rape       0.382  0.701\n",
       "assault    0.143  0.532\n",
       "burglary   0.320  0.970\n",
       "larceny    1.196  2.246\n",
       "gta        0.118  0.468"
      ]
     },
     "metadata": {},
     "output_type": "display_data"
    }
   ],
   "source": [
    "# Write out the new model formula\n",
    "linear_formula = 'log_pcrime ~ log_pop+robbery+rape+assault+burglary+larceny+gta'\n",
    "\n",
    "# Fit the model to our data using the formula.\n",
    "lm = smf.ols(formula=linear_formula, data=ny13_features).fit()\n",
    "\n",
    "display(lm.params, lm.pvalues, lm.rsquared, lm.conf_int())"
   ]
  },
  {
   "cell_type": "code",
   "execution_count": 12,
   "metadata": {},
   "outputs": [
    {
     "data": {
      "image/png": "[encoded data removed]",
      "text/plain": [
       "<Figure size 432x288 with 1 Axes>"
      ]
     },
     "metadata": {
      "needs_background": "light"
     },
     "output_type": "display_data"
    }
   ],
   "source": [
    "prstd, iv_l, iv_u = wls_prediction_std(lm)\n",
    "\n",
    "plt.figure()\n",
    "plt.plot(iv_u[0:15], 'o', color='r')\n",
    "plt.plot(iv_l[0:15], 'o', color='r')\n",
    "plt.plot(lm.fittedvalues[0:15], 'o', color='b')\n",
    "plt.title('blue: predicted, red: 95% CI')\n",
    "plt.show()"
   ]
  },
  {
   "cell_type": "markdown",
   "metadata": {},
   "source": [
    "All our parameters look good, our $R^2$ looks good, and all our variables are statistically signifcant.\n",
    "Let's proceed with cross-validation our new model."
   ]
  },
  {
   "cell_type": "code",
   "execution_count": 13,
   "metadata": {},
   "outputs": [
    {
     "name": "stdout",
     "output_type": "stream",
     "text": [
      "20% Holdout: 0.8685225597726475\n",
      "Testing on Sample: 0.8748089340590908\n"
     ]
    }
   ],
   "source": [
    "# cross validate our model\n",
    "# we already imported train_test_split and linear_model\n",
    "# from sklearn\n",
    "\n",
    "data = ny13_features[['log_pop', 'robbery', 'rape', 'assault', 'burglary', 'larceny', 'gta']]\n",
    "target = ny13_features.log_pcrime\n",
    "\n",
    "reg = linear_model.LinearRegression()\n",
    "reg.fit(data, target)\n",
    "\n",
    "X_train, X_test, y_train, y_test = train_test_split(data, target, test_size=0.5, random_state=20)\n",
    "print('20% Holdout: ' + str(reg.fit(X_train, y_train).score(X_test, y_test)))\n",
    "print('Testing on Sample: ' + str(reg.fit(data, target).score(data, target)))"
   ]
  },
  {
   "cell_type": "markdown",
   "metadata": {},
   "source": [
    "Our $R^2$ values are consistent withing a range of `0.868` - `0.874`.\n",
    "This looks like a strong enough model to continue."
   ]
  },
  {
   "cell_type": "markdown",
   "metadata": {},
   "source": [
    "### cross validate model with other state data\n",
    "Now that we have a consistent and statistically significant model, let's use it to analyze similar crime data from another state to compare performance.\n",
    "\n",
    "We'll use crime data again from 2013, but this time from California instead of New York state."
   ]
  },
  {
   "cell_type": "code",
   "execution_count": 14,
   "metadata": {},
   "outputs": [
    {
     "name": "stdout",
     "output_type": "stream",
     "text": [
      "\n",
      "Coefficients: \n",
      " [[0.74240388 0.55475881 0.51682683 0.3172345  0.66472933 1.72041419\n",
      "  0.28824719 0.21941791]]\n",
      "\n",
      "Intercept: \n",
      " [-5.27648977]\n",
      "\n",
      "R-squared:\n",
      "0.8767811036437985\n"
     ]
    }
   ],
   "source": [
    "# Instantiate and fit our model to California data\n",
    "regr = linear_model.LinearRegression()\n",
    "Y = ca13_features['log_pcrime'].values.reshape(-1, 1)\n",
    "X = ca13_features[['log_pop','robbery', 'rape', 'assault', 'burglary',\n",
    "                   'larceny', 'gta', 'arson']]\n",
    "regr.fit(X, Y)\n",
    "\n",
    "# Inspect the results\n",
    "print('\\nCoefficients: \\n', regr.coef_)\n",
    "print('\\nIntercept: \\n', regr.intercept_)\n",
    "print('\\nR-squared:')\n",
    "print(regr.score(X, Y))"
   ]
  },
  {
   "cell_type": "code",
   "execution_count": 15,
   "metadata": {},
   "outputs": [
    {
     "data": {
      "text/plain": [
       "Intercept   -5.351\n",
       "log_pop      0.753\n",
       "robbery      0.554\n",
       "rape         0.541\n",
       "assault      0.338\n",
       "burglary     0.645\n",
       "larceny      1.721\n",
       "gta          0.293\n",
       "dtype: float64"
      ]
     },
     "metadata": {},
     "output_type": "display_data"
    },
    {
     "data": {
      "text/plain": [
       "Intercept   0.000\n",
       "log_pop     0.000\n",
       "robbery     0.000\n",
       "rape        0.000\n",
       "assault     0.001\n",
       "burglary    0.000\n",
       "larceny     0.000\n",
       "gta         0.001\n",
       "dtype: float64"
      ]
     },
     "metadata": {},
     "output_type": "display_data"
    },
    {
     "data": {
      "text/plain": [
       "0.8748089340590908"
      ]
     },
     "metadata": {},
     "output_type": "display_data"
    },
    {
     "data": {
      "text/html": [
       "<div>\n",
       "<style scoped>\n",
       "    .dataframe tbody tr th:only-of-type {\n",
       "        vertical-align: middle;\n",
       "    }\n",
       "\n",
       "    .dataframe tbody tr th {\n",
       "        vertical-align: top;\n",
       "    }\n",
       "\n",
       "    .dataframe thead th {\n",
       "        text-align: right;\n",
       "    }\n",
       "</style>\n",
       "<table border=\"1\" class=\"dataframe\">\n",
       "  <thead>\n",
       "    <tr style=\"text-align: right;\">\n",
       "      <th></th>\n",
       "      <th>0</th>\n",
       "      <th>1</th>\n",
       "    </tr>\n",
       "  </thead>\n",
       "  <tbody>\n",
       "    <tr>\n",
       "      <th>Intercept</th>\n",
       "      <td>-6.035</td>\n",
       "      <td>-4.667</td>\n",
       "    </tr>\n",
       "    <tr>\n",
       "      <th>log_pop</th>\n",
       "      <td>0.680</td>\n",
       "      <td>0.826</td>\n",
       "    </tr>\n",
       "    <tr>\n",
       "      <th>robbery</th>\n",
       "      <td>0.382</td>\n",
       "      <td>0.726</td>\n",
       "    </tr>\n",
       "    <tr>\n",
       "      <th>rape</th>\n",
       "      <td>0.382</td>\n",
       "      <td>0.701</td>\n",
       "    </tr>\n",
       "    <tr>\n",
       "      <th>assault</th>\n",
       "      <td>0.143</td>\n",
       "      <td>0.532</td>\n",
       "    </tr>\n",
       "    <tr>\n",
       "      <th>burglary</th>\n",
       "      <td>0.320</td>\n",
       "      <td>0.970</td>\n",
       "    </tr>\n",
       "    <tr>\n",
       "      <th>larceny</th>\n",
       "      <td>1.196</td>\n",
       "      <td>2.246</td>\n",
       "    </tr>\n",
       "    <tr>\n",
       "      <th>gta</th>\n",
       "      <td>0.118</td>\n",
       "      <td>0.468</td>\n",
       "    </tr>\n",
       "  </tbody>\n",
       "</table>\n",
       "</div>"
      ],
      "text/plain": [
       "               0      1\n",
       "Intercept -6.035 -4.667\n",
       "log_pop    0.680  0.826\n",
       "robbery    0.382  0.726\n",
       "rape       0.382  0.701\n",
       "assault    0.143  0.532\n",
       "burglary   0.320  0.970\n",
       "larceny    1.196  2.246\n",
       "gta        0.118  0.468"
      ]
     },
     "metadata": {},
     "output_type": "display_data"
    }
   ],
   "source": [
    "# Write out the new model formula\n",
    "linear_formula = 'log_pcrime ~ log_pop+robbery+rape+assault+burglary+larceny+gta'\n",
    "\n",
    "# Fit the model to our data using the formula.\n",
    "lm = smf.ols(formula=linear_formula, data=ca13_features).fit()\n",
    "\n",
    "display(lm.params, lm.pvalues, lm.rsquared, lm.conf_int())"
   ]
  },
  {
   "cell_type": "code",
   "execution_count": 16,
   "metadata": {},
   "outputs": [
    {
     "data": {
      "image/png": "[encoded data removed]",
      "text/plain": [
       "<Figure size 432x288 with 1 Axes>"
      ]
     },
     "metadata": {
      "needs_background": "light"
     },
     "output_type": "display_data"
    }
   ],
   "source": [
    "prstd, iv_l, iv_u = wls_prediction_std(lm)\n",
    "\n",
    "plt.figure()\n",
    "plt.plot(iv_u[0:15], 'o', color='r')\n",
    "plt.plot(iv_l[0:15], 'o', color='r')\n",
    "plt.plot(lm.fittedvalues[0:15], 'o', color='b')\n",
    "plt.title('blue: predicted, red: 95% CI')\n",
    "plt.show()"
   ]
  },
  {
   "cell_type": "code",
   "execution_count": 17,
   "metadata": {
    "scrolled": true
   },
   "outputs": [
    {
     "data": {
      "text/html": [
       "<div>\n",
       "<style scoped>\n",
       "    .dataframe tbody tr th:only-of-type {\n",
       "        vertical-align: middle;\n",
       "    }\n",
       "\n",
       "    .dataframe tbody tr th {\n",
       "        vertical-align: top;\n",
       "    }\n",
       "\n",
       "    .dataframe thead th {\n",
       "        text-align: right;\n",
       "    }\n",
       "</style>\n",
       "<table border=\"1\" class=\"dataframe\">\n",
       "  <thead>\n",
       "    <tr style=\"text-align: right;\">\n",
       "      <th></th>\n",
       "      <th>log_pop</th>\n",
       "      <th>robbery</th>\n",
       "      <th>rape</th>\n",
       "      <th>assault</th>\n",
       "      <th>burglary</th>\n",
       "      <th>larceny</th>\n",
       "      <th>gta</th>\n",
       "      <th>arson</th>\n",
       "    </tr>\n",
       "  </thead>\n",
       "  <tbody>\n",
       "    <tr>\n",
       "      <th>log_pop</th>\n",
       "      <td>1.000</td>\n",
       "      <td>0.582</td>\n",
       "      <td>0.554</td>\n",
       "      <td>0.425</td>\n",
       "      <td>0.359</td>\n",
       "      <td>0.212</td>\n",
       "      <td>0.483</td>\n",
       "      <td>0.285</td>\n",
       "    </tr>\n",
       "    <tr>\n",
       "      <th>robbery</th>\n",
       "      <td>0.582</td>\n",
       "      <td>1.000</td>\n",
       "      <td>0.471</td>\n",
       "      <td>0.429</td>\n",
       "      <td>0.286</td>\n",
       "      <td>0.176</td>\n",
       "      <td>0.449</td>\n",
       "      <td>0.204</td>\n",
       "    </tr>\n",
       "    <tr>\n",
       "      <th>rape</th>\n",
       "      <td>0.554</td>\n",
       "      <td>0.471</td>\n",
       "      <td>1.000</td>\n",
       "      <td>0.302</td>\n",
       "      <td>0.213</td>\n",
       "      <td>0.120</td>\n",
       "      <td>0.283</td>\n",
       "      <td>0.268</td>\n",
       "    </tr>\n",
       "    <tr>\n",
       "      <th>assault</th>\n",
       "      <td>0.425</td>\n",
       "      <td>0.429</td>\n",
       "      <td>0.302</td>\n",
       "      <td>1.000</td>\n",
       "      <td>0.339</td>\n",
       "      <td>0.296</td>\n",
       "      <td>0.404</td>\n",
       "      <td>0.207</td>\n",
       "    </tr>\n",
       "    <tr>\n",
       "      <th>burglary</th>\n",
       "      <td>0.359</td>\n",
       "      <td>0.286</td>\n",
       "      <td>0.213</td>\n",
       "      <td>0.339</td>\n",
       "      <td>1.000</td>\n",
       "      <td>0.479</td>\n",
       "      <td>0.338</td>\n",
       "      <td>0.075</td>\n",
       "    </tr>\n",
       "    <tr>\n",
       "      <th>larceny</th>\n",
       "      <td>0.212</td>\n",
       "      <td>0.176</td>\n",
       "      <td>0.120</td>\n",
       "      <td>0.296</td>\n",
       "      <td>0.479</td>\n",
       "      <td>1.000</td>\n",
       "      <td>0.237</td>\n",
       "      <td>0.061</td>\n",
       "    </tr>\n",
       "    <tr>\n",
       "      <th>gta</th>\n",
       "      <td>0.483</td>\n",
       "      <td>0.449</td>\n",
       "      <td>0.283</td>\n",
       "      <td>0.404</td>\n",
       "      <td>0.338</td>\n",
       "      <td>0.237</td>\n",
       "      <td>1.000</td>\n",
       "      <td>0.169</td>\n",
       "    </tr>\n",
       "    <tr>\n",
       "      <th>arson</th>\n",
       "      <td>0.285</td>\n",
       "      <td>0.204</td>\n",
       "      <td>0.268</td>\n",
       "      <td>0.207</td>\n",
       "      <td>0.075</td>\n",
       "      <td>0.061</td>\n",
       "      <td>0.169</td>\n",
       "      <td>1.000</td>\n",
       "    </tr>\n",
       "  </tbody>\n",
       "</table>\n",
       "</div>"
      ],
      "text/plain": [
       "          log_pop  robbery  rape  assault  burglary  larceny   gta  arson\n",
       "log_pop     1.000    0.582 0.554    0.425     0.359    0.212 0.483  0.285\n",
       "robbery     0.582    1.000 0.471    0.429     0.286    0.176 0.449  0.204\n",
       "rape        0.554    0.471 1.000    0.302     0.213    0.120 0.283  0.268\n",
       "assault     0.425    0.429 0.302    1.000     0.339    0.296 0.404  0.207\n",
       "burglary    0.359    0.286 0.213    0.339     1.000    0.479 0.338  0.075\n",
       "larceny     0.212    0.176 0.120    0.296     0.479    1.000 0.237  0.061\n",
       "gta         0.483    0.449 0.283    0.404     0.338    0.237 1.000  0.169\n",
       "arson       0.285    0.204 0.268    0.207     0.075    0.061 0.169  1.000"
      ]
     },
     "metadata": {},
     "output_type": "display_data"
    },
    {
     "data": {
      "image/png": "[encoded data removed]",
      "text/plain": [
       "<Figure size 432x288 with 2 Axes>"
      ]
     },
     "metadata": {
      "needs_background": "light"
     },
     "output_type": "display_data"
    }
   ],
   "source": [
    "#check for correlation\n",
    "correlation_matrix = X.corr()\n",
    "display(correlation_matrix)\n",
    "sns.heatmap(X.corr());"
   ]
  },
  {
   "cell_type": "code",
   "execution_count": 18,
   "metadata": {},
   "outputs": [
    {
     "name": "stdout",
     "output_type": "stream",
     "text": [
      "20% Holdout: 0.8685225597726475\n",
      "Testing on Sample: 0.8748089340590908\n"
     ]
    }
   ],
   "source": [
    "# cross validate our model\n",
    "# we already imported train_test_split and linear_model\n",
    "# from sklearn\n",
    "\n",
    "data = ca13_features[['log_pop', 'robbery', 'rape', 'assault', 'burglary', 'larceny', 'gta']]\n",
    "target = ca13_features.log_pcrime\n",
    "\n",
    "reg = linear_model.LinearRegression()\n",
    "reg.fit(data, target)\n",
    "\n",
    "X_train, X_test, y_train, y_test = train_test_split(data, target, test_size=0.5, random_state=20)\n",
    "print('20% Holdout: ' + str(reg.fit(X_train, y_train).score(X_test, y_test)))\n",
    "print('Testing on Sample: ' + str(reg.fit(data, target).score(data, target)))"
   ]
  },
  {
   "cell_type": "markdown",
   "metadata": {},
   "source": [
    "It looks like our model performed consistently across data from multiple states.\n",
    "Here is our final linear formula...\n",
    "$$ log(Property Crime) = \\alpha + log(Population) + Robbery + Rape + Assault + Burglary + Larceny + Auto-vehical Theft$$"
   ]
  },
  {
   "cell_type": "code",
   "execution_count": null,
   "metadata": {
    "collapsed": true
   },
   "outputs": [],
   "source": []
  }
 ],
 "metadata": {
  "kernelspec": {
   "display_name": "Python 3",
   "language": "python",
   "name": "python3"
  },
  "language_info": {
   "codemirror_mode": {
    "name": "ipython",
    "version": 3
   },
   "file_extension": ".py",
   "mimetype": "text/x-python",
   "name": "python",
   "nbconvert_exporter": "python",
   "pygments_lexer": "ipython3",
   "version": "3.7.1"
  }
 },
 "nbformat": 4,
 "nbformat_minor": 2
}
