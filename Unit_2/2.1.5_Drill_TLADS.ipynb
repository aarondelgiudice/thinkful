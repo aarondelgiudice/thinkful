{
 "cells": [
  {
   "cell_type": "markdown",
   "metadata": {},
   "source": [
    "TLADS Drill\n",
    "Categorize each of the variables in the ESS dataset as categorical or continuous, and if continuous as ordinal, interval, or ratio variables. Check your work with your mentor, and discuss what that information might imply for feature engineering with this data.\n",
    "\n",
    "Country: country\n",
    "Year: ratio variable\n",
    "ID Number: interval variable\n",
    "Total TV: ratio variable\n",
    "People Trust: ratio variable\n",
    "People Fair: ratio variable\n",
    "People Help: ratio variable\n",
    "Happy: interval variable\n",
    "Social: ratio variable\n",
    "Activites: ratio variable\n",
    "Gender: categorical variable\n",
    "Age: ratio variable\n",
    "Partner: categorical variable"
   ]
  }
 ],
 "metadata": {
  "kernelspec": {
   "display_name": "Python 3",
   "language": "python",
   "name": "python3"
  },
  "language_info": {
   "codemirror_mode": {
    "name": "ipython",
    "version": 3
   },
   "file_extension": ".py",
   "mimetype": "text/x-python",
   "name": "python",
   "nbconvert_exporter": "python",
   "pygments_lexer": "ipython3",
   "version": "3.7.1"
  }
 },
 "nbformat": 4,
 "nbformat_minor": 2
}
