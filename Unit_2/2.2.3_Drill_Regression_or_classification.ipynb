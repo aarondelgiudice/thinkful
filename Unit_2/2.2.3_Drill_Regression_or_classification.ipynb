{
 "cells": [
  {
   "cell_type": "markdown",
   "metadata": {},
   "source": [
    "# Drill: Regression or Classification\n",
    "Unit 2 / Lesson 2 / Project 3\n",
    "\n",
    "For each of the following situations, decide if you would model using a regression or classification model.\n",
    "\n",
    "- The amount a person will spend on a given site in the next 24 months.\n",
    "- What color car someone is going to buy.\n",
    "- How many children a family will have.\n",
    "- If someone will sign up for a service.\n",
    "- The number of times someone will get sick in a year.\n",
    "- The probability someone will get sick in the next month.\n",
    "- Which medicine will work best for a given patient."
   ]
  },
  {
   "cell_type": "markdown",
   "metadata": {},
   "source": [
    "### The amount a person will spend on a given site in the next 24 months.\n",
    "__Regression__. The measure of time would be continuous.\n",
    "People could spend as little as 0 minutes on a site and up to every possible moment of every day for 24 months."
   ]
  },
  {
   "cell_type": "markdown",
   "metadata": {},
   "source": [
    "### What color car someone is going to buy.\n",
    "__Classification__. This would measure which color from a pre-defined set of options a consumer would choose."
   ]
  },
  {
   "cell_type": "markdown",
   "metadata": {},
   "source": [
    "### How many children a family will have.\n",
    "__Classification__. Though this could also possibly be a regession, as a family _could_ have potentially umlimited children, it would likely measure the probability of a set of numbers, such as `[1,2,3,4,5]`"
   ]
  },
  {
   "cell_type": "markdown",
   "metadata": {},
   "source": [
    "### If someone will sign up for a service.\n",
    "__Classification__. It measures the probability of a yes/no categorical value."
   ]
  },
  {
   "cell_type": "markdown",
   "metadata": {},
   "source": [
    "### The number of times someone will get sick in a year\n",
    "__Regression__. Though this could be a classification as well, as most people will get sick a small number of times each year. A regression would let us better model outlier values that fall outside of the range that we could measure with a classification model."
   ]
  },
  {
   "cell_type": "markdown",
   "metadata": {},
   "source": [
    "### The probability someone will get sick in the next month.\n",
    "__Classification__. This model will measure the probability of a yes/no variable."
   ]
  },
  {
   "cell_type": "markdown",
   "metadata": {},
   "source": [
    "### Which medicine will work best for a given patient.\n",
    "__Classification__. This model would measure the probability of success of a medicine from a set list of options."
   ]
  },
  {
   "cell_type": "code",
   "execution_count": null,
   "metadata": {
    "collapsed": true
   },
   "outputs": [],
   "source": []
  }
 ],
 "metadata": {
  "kernelspec": {
   "display_name": "Python 3",
   "language": "python",
   "name": "python3"
  },
  "language_info": {
   "codemirror_mode": {
    "name": "ipython",
    "version": 3
   },
   "file_extension": ".py",
   "mimetype": "text/x-python",
   "name": "python",
   "nbconvert_exporter": "python",
   "pygments_lexer": "ipython3",
   "version": "3.7.1"
  }
 },
 "nbformat": 4,
 "nbformat_minor": 2
}
