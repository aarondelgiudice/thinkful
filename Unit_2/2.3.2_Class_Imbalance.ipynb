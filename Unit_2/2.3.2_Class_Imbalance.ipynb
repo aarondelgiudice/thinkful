{
 "cells": [
  {
   "cell_type": "markdown",
   "metadata": {},
   "source": [
    "# Class Imbalance\n",
    "Unit 2 / Lesson 3 / Assignment 2\n",
    "\n",
    "\n",
    "Let's return our spam model.\n",
    "We had accuracy of about 89%.\n",
    "This sounds pretty impressive, it means we predict incorrectly roughly one time out of ten.\n",
    "Is that accuracy actually a good standard? Turns out not so much.\n",
    "This scenario is an example of a __class imbalance problem__, _where one kind of outcome is much more common than the other, skewing the model_.\n",
    "\n",
    "In this assignment we'll describe what class imbalance is and how to deal with it from a practical perspective."
   ]
  },
  {
   "cell_type": "markdown",
   "metadata": {},
   "source": [
    "### Class Imbalance\n",
    "\n",
    "In an ideal world, your training data would contain an equal number of all possible outcomes so you can find what features truly indicate a propensity for a certain category of outcome.\n",
    "However, that is rarely the case.\n",
    "\n",
    "A small imbalance in your outcome classes doesn't tend to make much of a difference.\n",
    "A large __class imbalance__, however, can _hugely affect your model_.\n",
    "That's because when one class makes up a large portion of the data, it can be pretty successful for a model to _simply choose the dominant class every time_.\n",
    "\n",
    "When you think about it, this makes sense.\n",
    "A rare event will have to have distinguishing traits in order to accurately predict it.\n",
    "If those traits that tend to define a rare event are often seen in the dominant class as well, then your model is probably going to predict the dominant class.\n",
    "\n",
    "We can also recall the different types of errors we focused on before.\n",
    "For instance, if we were trying to find people who may have a deadly disease, we'd want to avoid false negatives, or Type II errors, and telling someone they were healthy when they're actually dying.\n",
    "If that disease is a rare event we could fall into the class imbalance problem.\n",
    "Another area that sees a lot of class imbalance problems is fraud detection."
   ]
  },
  {
   "cell_type": "markdown",
   "metadata": {},
   "source": [
    "### Baseline Performance\n",
    "\n",
    "So how can we come up with a good __baseline for performance__?\n",
    "\n",
    "One of the simplest ways is _through the dominant class rate_.\n",
    "By __dominant class__ we mean _the most common outcome for our __target variable___.\n",
    "The simplest version of a __classifier__, like what we've talked about so far, is to just _always predict that the result will be the most likely outcome_.\n",
    "\n",
    "Therefore it's useful to think about your model's success rate relative to that dominant class rate.\n",
    "If you predict something correctly 99% of the time, but it's 99% dominated by a single class, that isn't an impressive prediction.\n",
    "\n",
    "In the case of our spam filter, only 13.4% of the trials were \"spam\".\n",
    "This means that a model that always predicted \"ham\" would have an 86.6% accuracy rate... yet be completely useless for its intended purpose of filtering out spam.\n",
    "\n",
    "Since we can get 86.6% accuracy with a completely useless model we know we'll need to do better than that for our model to be worth anything."
   ]
  },
  {
   "cell_type": "markdown",
   "metadata": {},
   "source": [
    "### Dealing with Class Imbalance\n",
    "\n",
    "There are a few things you can do to deal with this kind of problem.\n",
    "\n",
    "The easiest is to just ignore it.\n",
    "If we really only care about the absolute accuracy of the model and our sample is representative of the population we aim to predict, this can be a reasonable strategy.\n",
    "Try to _engineer features that strongly identify the minority class_ and this can turn out ok.\n",
    "\n",
    "You can also change your sampling.\n",
    "If you deliberately _oversample the minority class_ or _undersample the majority class_ you can create a more balanced training set.\n",
    "This is particularly useful if the goal of your model is to _correctly identify the minority class_.\n",
    "This can also be done by creating synthetic samples to try to make your data more balanced or weighting samples to balance out your classes.\n",
    "Here is [one of the more popular synthetic sampling techniques](https://www.jair.org/index.php/jair) (__LINK BROKEN__).\n",
    "\n",
    "Probability outputs offer another way to deal with __class imbalance__.\n",
    "Although Naive Bayes' probability outputs are generally inaccurate and not to be used, other models will give you a more accurate probability of a certain class.\n",
    "Things like logistic regression or support vector machines (\"SVM\") can be good at this.\n",
    "Instead of just taking the most likely outcome you can set up a specific cutoff or a more complex rule.\n",
    "In the binary case it could be going with the minority case if it has a priority greater than some threshold.\n",
    "\n",
    "Lastly, you can create cost functions for errors.\n",
    "This effectively quantifies ways in which errors are not equal.\n",
    "You find some functional form to scale the cost of an error up or down.\n",
    "This can mean something like a Type II error being twice as bad as a Type I error, or a hundred times as bad, or however you choose to quantify that relationship.\n",
    "\n",
    "SKLearn's Naive Bayes model does not have an easy built-in way to do this, but it's a good thing to keep in mind and something we'll use later in the course."
   ]
  },
  {
   "cell_type": "code",
   "execution_count": null,
   "metadata": {
    "collapsed": true
   },
   "outputs": [],
   "source": []
  }
 ],
 "metadata": {
  "kernelspec": {
   "display_name": "Python 3",
   "language": "python",
   "name": "python3"
  },
  "language_info": {
   "codemirror_mode": {
    "name": "ipython",
    "version": 3
   },
   "file_extension": ".py",
   "mimetype": "text/x-python",
   "name": "python",
   "nbconvert_exporter": "python",
   "pygments_lexer": "ipython3",
   "version": "3.7.1"
  }
 },
 "nbformat": 4,
 "nbformat_minor": 2
}
