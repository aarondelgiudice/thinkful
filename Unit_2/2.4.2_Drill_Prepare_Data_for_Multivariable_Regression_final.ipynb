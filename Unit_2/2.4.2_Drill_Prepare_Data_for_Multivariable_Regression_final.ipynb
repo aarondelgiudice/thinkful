{
 "cells": [
  {
   "cell_type": "markdown",
   "metadata": {},
   "source": [
    "# DRILL: Prepare the Data\n",
    "Unit 2 / Lesson 4 / Project 2\n",
    "\n",
    "[Download the Excel file here](https://ucr.fbi.gov/crime-in-the-u.s/2013/crime-in-the-u.s.-2013/tables/table-8/table-8-state-cuts/table_8_offenses_known_to_law_enforcement_new_york_by_city_2013.xls) on crime data in New York State in 2013, provided by the FBI: UCR ([Thinkful mirror](https://raw.githubusercontent.com/Thinkful-Ed/data-201-resources/master/New_York_offenses/NEW_YORK-Offenses_Known_to_Law_Enforcement_by_City_2013%20-%2013tbl8ny.csv)).\n",
    "\n",
    "Prepare this data to model with multivariable regression (including data cleaning if necessary) according to this specification:\n",
    "\n",
    "$$ Property crime = \\alpha + Population + Population^2 + Murder + Robbery$$\n",
    "\n",
    "The 'population' variable is already set for you, but you will need to create the last three features. \n",
    "Robbery and Murder are currently continuous variables. \n",
    "For this model, please use these variables to create  categorical features where values greater than 0 are coded 1, and values equal to 0 are coded 0.\n",
    "You'll use this data and model in a later assignment- for now, just write the code you need to get the data ready.\n",
    "\n",
    "Don't forget basic data cleaning procedures, either!\n",
    "Do some graphing to see if there are any anomalous cases, and decide how you want to deal with them."
   ]
  },
  {
   "cell_type": "code",
   "execution_count": null,
   "metadata": {
    "collapsed": true
   },
   "outputs": [],
   "source": [
    "import pandas as pd\n",
    "from matplotlib import pyplot as plt\n",
    "import numpy as np\n",
    "from sklearn import linear_model\n",
    "%matplotlib inline\n",
    "pd.options.display.float_format = '{:.3f}'.format\n",
    "\n",
    "# suppress annoying harmless error\n",
    "import warnings\n",
    "warnings.filterwarnings(action='ignore', module='scipy', message='^internal gelsd')\n",
    "warnings.filterwarnings(\"ignore\",category =RuntimeWarning)"
   ]
  },
  {
   "cell_type": "code",
   "execution_count": 2,
   "metadata": {},
   "outputs": [
    {
     "data": {
      "text/html": [
       "<div>\n",
       "<style scoped>\n",
       "    .dataframe tbody tr th:only-of-type {\n",
       "        vertical-align: middle;\n",
       "    }\n",
       "\n",
       "    .dataframe tbody tr th {\n",
       "        vertical-align: top;\n",
       "    }\n",
       "\n",
       "    .dataframe thead th {\n",
       "        text-align: right;\n",
       "    }\n",
       "</style>\n",
       "<table border=\"1\" class=\"dataframe\">\n",
       "  <thead>\n",
       "    <tr style=\"text-align: right;\">\n",
       "      <th></th>\n",
       "      <th>city</th>\n",
       "      <th>pop</th>\n",
       "      <th>murder</th>\n",
       "      <th>robbery</th>\n",
       "      <th>property_crime</th>\n",
       "    </tr>\n",
       "  </thead>\n",
       "  <tbody>\n",
       "    <tr>\n",
       "      <th>0</th>\n",
       "      <td>Adams Village</td>\n",
       "      <td>1,861</td>\n",
       "      <td>0.000</td>\n",
       "      <td>0</td>\n",
       "      <td>12</td>\n",
       "    </tr>\n",
       "    <tr>\n",
       "      <th>1</th>\n",
       "      <td>Addison Town and Village</td>\n",
       "      <td>2,577</td>\n",
       "      <td>0.000</td>\n",
       "      <td>0</td>\n",
       "      <td>24</td>\n",
       "    </tr>\n",
       "    <tr>\n",
       "      <th>2</th>\n",
       "      <td>Akron Village</td>\n",
       "      <td>2,846</td>\n",
       "      <td>0.000</td>\n",
       "      <td>0</td>\n",
       "      <td>16</td>\n",
       "    </tr>\n",
       "    <tr>\n",
       "      <th>3</th>\n",
       "      <td>Albany</td>\n",
       "      <td>97,956</td>\n",
       "      <td>8.000</td>\n",
       "      <td>227</td>\n",
       "      <td>4,090</td>\n",
       "    </tr>\n",
       "    <tr>\n",
       "      <th>4</th>\n",
       "      <td>Albion Village</td>\n",
       "      <td>6,388</td>\n",
       "      <td>0.000</td>\n",
       "      <td>4</td>\n",
       "      <td>223</td>\n",
       "    </tr>\n",
       "  </tbody>\n",
       "</table>\n",
       "</div>"
      ],
      "text/plain": [
       "                       city     pop  murder robbery property_crime\n",
       "0             Adams Village   1,861   0.000       0             12\n",
       "1  Addison Town and Village   2,577   0.000       0             24\n",
       "2             Akron Village   2,846   0.000       0             16\n",
       "3                    Albany  97,956   8.000     227          4,090\n",
       "4            Albion Village   6,388   0.000       4            223"
      ]
     },
     "execution_count": 2,
     "metadata": {},
     "output_type": "execute_result"
    }
   ],
   "source": [
    "# load data into a data frame\n",
    "PATH = ('https://raw.githubusercontent.com/Thinkful-Ed/data-201-resources/master/New_York_offenses/NEW_YORK-Offenses_Known_to_Law_Enforcement_by_City_2013%20-%2013tbl8ny.csv')\n",
    "\n",
    "df_raw = pd.read_csv(PATH, skiprows=[0,1,2,3])\n",
    "\n",
    "# rename columns\n",
    "df_raw.columns = ['city', 'pop', 'violent_crime', 'murder', 'rape_revised', 'rape_legacy',\n",
    "              'robbery', 'assault', 'property_crime', 'burglary', 'larceny',\n",
    "              'vehical_theft', 'arson']\n",
    "# subset the data frame for the columns we need\n",
    "df = df_raw.loc[:,['city', 'pop', 'murder', 'robbery', 'property_crime']]\n",
    "\n",
    "# view data\n",
    "df.head()"
   ]
  },
  {
   "cell_type": "code",
   "execution_count": 3,
   "metadata": {},
   "outputs": [
    {
     "data": {
      "text/plain": [
       "count       348.000\n",
       "mean      40037.632\n",
       "std      450037.368\n",
       "min         526.000\n",
       "25%        3003.000\n",
       "50%        7233.500\n",
       "75%       18427.500\n",
       "max     8396126.000\n",
       "Name: pop, dtype: float64"
      ]
     },
     "execution_count": 3,
     "metadata": {},
     "output_type": "execute_result"
    }
   ],
   "source": [
    "# clean population data\n",
    "df['pop'] = df['pop'].str.replace(',','')\n",
    "\n",
    "#df['pop'].value_counts()\n",
    "\n",
    "df['pop'] = df['pop'].apply(pd.to_numeric, errors='coerce')\n",
    "\n",
    "df['pop'].describe()"
   ]
  },
  {
   "cell_type": "code",
   "execution_count": 4,
   "metadata": {},
   "outputs": [
    {
     "data": {
      "text/plain": [
       "count      348.000\n",
       "mean       792.606\n",
       "std       7659.725\n",
       "min          0.000\n",
       "25%         40.500\n",
       "50%        112.500\n",
       "75%        341.000\n",
       "max     141971.000\n",
       "Name: property_crime, dtype: float64"
      ]
     },
     "execution_count": 4,
     "metadata": {},
     "output_type": "execute_result"
    }
   ],
   "source": [
    "# clean property_crime data\n",
    "df['property_crime'] = df['property_crime'].str.replace(',','')\n",
    "\n",
    "#df['property_crime'].value_counts()\n",
    "\n",
    "df['property_crime'] = df['property_crime'].apply(pd.to_numeric, errors='coerce')\n",
    "\n",
    "df['property_crime'].describe()"
   ]
  },
  {
   "cell_type": "code",
   "execution_count": 5,
   "metadata": {},
   "outputs": [
    {
     "data": {
      "text/plain": [
       "count   348.000\n",
       "mean      1.566\n",
       "std      18.304\n",
       "min       0.000\n",
       "25%       0.000\n",
       "50%       0.000\n",
       "75%       0.000\n",
       "max     335.000\n",
       "Name: murder, dtype: float64"
      ]
     },
     "metadata": {},
     "output_type": "display_data"
    },
    {
     "data": {
      "text/plain": [
       "count   351.000\n",
       "mean      0.140\n",
       "std       0.347\n",
       "min       0.000\n",
       "25%       0.000\n",
       "50%       0.000\n",
       "75%       0.000\n",
       "max       1.000\n",
       "Name: murder, dtype: float64"
      ]
     },
     "execution_count": 5,
     "metadata": {},
     "output_type": "execute_result"
    }
   ],
   "source": [
    "# create a categorical murder feature\n",
    "df['murder_raw'] = df['murder']\n",
    "\n",
    "display(df['murder'].describe())\n",
    "\n",
    "df['murder'] = np.where(df['murder_raw'] >= 1, 1, 0)\n",
    "\n",
    "df['murder'].describe()"
   ]
  },
  {
   "cell_type": "code",
   "execution_count": 14,
   "metadata": {},
   "outputs": [
    {
     "data": {
      "text/plain": [
       "count   346.000\n",
       "mean     14.098\n",
       "std      64.046\n",
       "min       0.000\n",
       "25%       0.000\n",
       "50%       1.000\n",
       "75%       5.000\n",
       "max     918.000\n",
       "Name: robbery, dtype: float64"
      ]
     },
     "metadata": {},
     "output_type": "display_data"
    },
    {
     "data": {
      "text/plain": [
       "count   346.000\n",
       "mean      0.598\n",
       "std       0.491\n",
       "min       0.000\n",
       "25%       0.000\n",
       "50%       1.000\n",
       "75%       1.000\n",
       "max       1.000\n",
       "Name: robbery, dtype: float64"
      ]
     },
     "execution_count": 14,
     "metadata": {},
     "output_type": "execute_result"
    }
   ],
   "source": [
    "# create a categorical robbery feature\n",
    "df['robbery'] = df['robbery'].apply(pd.to_numeric, errors='coerce')\n",
    "\n",
    "df['robbery_raw'] = df['robbery']\n",
    "\n",
    "display(df['robbery'].describe())\n",
    "\n",
    "df['robbery'] = np.where(df['robbery_raw'] >= 1, 1, 0)\n",
    "\n",
    "df['robbery'].describe()"
   ]
  },
  {
   "cell_type": "code",
   "execution_count": 15,
   "metadata": {
    "collapsed": true
   },
   "outputs": [],
   "source": [
    "# create a populaton squared feature\n",
    "df['pop_sq'] = df['pop']**2"
   ]
  },
  {
   "cell_type": "code",
   "execution_count": 16,
   "metadata": {
    "collapsed": true
   },
   "outputs": [],
   "source": [
    "# drop any NaN values\n",
    "df = df.dropna()"
   ]
  },
  {
   "cell_type": "code",
   "execution_count": 29,
   "metadata": {
    "scrolled": true
   },
   "outputs": [
    {
     "data": {
      "text/html": [
       "<div>\n",
       "<style scoped>\n",
       "    .dataframe tbody tr th:only-of-type {\n",
       "        vertical-align: middle;\n",
       "    }\n",
       "\n",
       "    .dataframe tbody tr th {\n",
       "        vertical-align: top;\n",
       "    }\n",
       "\n",
       "    .dataframe thead th {\n",
       "        text-align: right;\n",
       "    }\n",
       "</style>\n",
       "<table border=\"1\" class=\"dataframe\">\n",
       "  <thead>\n",
       "    <tr style=\"text-align: right;\">\n",
       "      <th></th>\n",
       "      <th>city</th>\n",
       "      <th>pop</th>\n",
       "      <th>murder</th>\n",
       "      <th>robbery</th>\n",
       "      <th>property_crime</th>\n",
       "      <th>murder_raw</th>\n",
       "      <th>robbery_raw</th>\n",
       "      <th>pop_sq</th>\n",
       "      <th>log_pcrime</th>\n",
       "    </tr>\n",
       "  </thead>\n",
       "  <tbody>\n",
       "    <tr>\n",
       "      <th>272</th>\n",
       "      <td>Rochester</td>\n",
       "      <td>210562.000</td>\n",
       "      <td>1</td>\n",
       "      <td>1</td>\n",
       "      <td>10051.000</td>\n",
       "      <td>42.000</td>\n",
       "      <td>918.000</td>\n",
       "      <td>44336355844.000</td>\n",
       "      <td>9.215</td>\n",
       "    </tr>\n",
       "    <tr>\n",
       "      <th>310</th>\n",
       "      <td>Syracuse</td>\n",
       "      <td>143834.000</td>\n",
       "      <td>1</td>\n",
       "      <td>1</td>\n",
       "      <td>6473.000</td>\n",
       "      <td>21.000</td>\n",
       "      <td>400.000</td>\n",
       "      <td>20688219556.000</td>\n",
       "      <td>8.775</td>\n",
       "    </tr>\n",
       "    <tr>\n",
       "      <th>346</th>\n",
       "      <td>Yonkers</td>\n",
       "      <td>199134.000</td>\n",
       "      <td>1</td>\n",
       "      <td>1</td>\n",
       "      <td>2368.000</td>\n",
       "      <td>6.000</td>\n",
       "      <td>390.000</td>\n",
       "      <td>39654349956.000</td>\n",
       "      <td>7.770</td>\n",
       "    </tr>\n",
       "  </tbody>\n",
       "</table>\n",
       "</div>"
      ],
      "text/plain": [
       "          city        pop  murder  robbery  property_crime  murder_raw  \\\n",
       "272  Rochester 210562.000       1        1       10051.000      42.000   \n",
       "310   Syracuse 143834.000       1        1        6473.000      21.000   \n",
       "346    Yonkers 199134.000       1        1        2368.000       6.000   \n",
       "\n",
       "     robbery_raw          pop_sq  log_pcrime  \n",
       "272      918.000 44336355844.000       9.215  \n",
       "310      400.000 20688219556.000       8.775  \n",
       "346      390.000 39654349956.000       7.770  "
      ]
     },
     "metadata": {},
     "output_type": "display_data"
    },
    {
     "data": {
      "text/html": [
       "<div>\n",
       "<style scoped>\n",
       "    .dataframe tbody tr th:only-of-type {\n",
       "        vertical-align: middle;\n",
       "    }\n",
       "\n",
       "    .dataframe tbody tr th {\n",
       "        vertical-align: top;\n",
       "    }\n",
       "\n",
       "    .dataframe thead th {\n",
       "        text-align: right;\n",
       "    }\n",
       "</style>\n",
       "<table border=\"1\" class=\"dataframe\">\n",
       "  <thead>\n",
       "    <tr style=\"text-align: right;\">\n",
       "      <th></th>\n",
       "      <th>city</th>\n",
       "      <th>pop</th>\n",
       "      <th>murder</th>\n",
       "      <th>robbery</th>\n",
       "      <th>property_crime</th>\n",
       "      <th>murder_raw</th>\n",
       "      <th>robbery_raw</th>\n",
       "      <th>pop_sq</th>\n",
       "      <th>log_pcrime</th>\n",
       "    </tr>\n",
       "  </thead>\n",
       "  <tbody>\n",
       "    <tr>\n",
       "      <th>140</th>\n",
       "      <td>Hempstead Village</td>\n",
       "      <td>55198.000</td>\n",
       "      <td>1</td>\n",
       "      <td>1</td>\n",
       "      <td>958.000</td>\n",
       "      <td>10.000</td>\n",
       "      <td>204.000</td>\n",
       "      <td>3046819204.000</td>\n",
       "      <td>6.865</td>\n",
       "    </tr>\n",
       "    <tr>\n",
       "      <th>272</th>\n",
       "      <td>Rochester</td>\n",
       "      <td>210562.000</td>\n",
       "      <td>1</td>\n",
       "      <td>1</td>\n",
       "      <td>10051.000</td>\n",
       "      <td>42.000</td>\n",
       "      <td>918.000</td>\n",
       "      <td>44336355844.000</td>\n",
       "      <td>9.215</td>\n",
       "    </tr>\n",
       "    <tr>\n",
       "      <th>310</th>\n",
       "      <td>Syracuse</td>\n",
       "      <td>143834.000</td>\n",
       "      <td>1</td>\n",
       "      <td>1</td>\n",
       "      <td>6473.000</td>\n",
       "      <td>21.000</td>\n",
       "      <td>400.000</td>\n",
       "      <td>20688219556.000</td>\n",
       "      <td>8.775</td>\n",
       "    </tr>\n",
       "  </tbody>\n",
       "</table>\n",
       "</div>"
      ],
      "text/plain": [
       "                  city        pop  murder  robbery  property_crime  \\\n",
       "140  Hempstead Village  55198.000       1        1         958.000   \n",
       "272          Rochester 210562.000       1        1       10051.000   \n",
       "310           Syracuse 143834.000       1        1        6473.000   \n",
       "\n",
       "     murder_raw  robbery_raw          pop_sq  log_pcrime  \n",
       "140      10.000      204.000  3046819204.000       6.865  \n",
       "272      42.000      918.000 44336355844.000       9.215  \n",
       "310      21.000      400.000 20688219556.000       8.775  "
      ]
     },
     "metadata": {},
     "output_type": "display_data"
    },
    {
     "data": {
      "text/html": [
       "<div>\n",
       "<style scoped>\n",
       "    .dataframe tbody tr th:only-of-type {\n",
       "        vertical-align: middle;\n",
       "    }\n",
       "\n",
       "    .dataframe tbody tr th {\n",
       "        vertical-align: top;\n",
       "    }\n",
       "\n",
       "    .dataframe thead th {\n",
       "        text-align: right;\n",
       "    }\n",
       "</style>\n",
       "<table border=\"1\" class=\"dataframe\">\n",
       "  <thead>\n",
       "    <tr style=\"text-align: right;\">\n",
       "      <th></th>\n",
       "      <th>city</th>\n",
       "      <th>pop</th>\n",
       "      <th>murder</th>\n",
       "      <th>robbery</th>\n",
       "      <th>property_crime</th>\n",
       "      <th>murder_raw</th>\n",
       "      <th>robbery_raw</th>\n",
       "      <th>pop_sq</th>\n",
       "      <th>log_pcrime</th>\n",
       "    </tr>\n",
       "  </thead>\n",
       "  <tbody>\n",
       "    <tr>\n",
       "      <th>3</th>\n",
       "      <td>Albany</td>\n",
       "      <td>97956.000</td>\n",
       "      <td>1</td>\n",
       "      <td>1</td>\n",
       "      <td>4090.000</td>\n",
       "      <td>8.000</td>\n",
       "      <td>227.000</td>\n",
       "      <td>9595377936.000</td>\n",
       "      <td>8.316</td>\n",
       "    </tr>\n",
       "    <tr>\n",
       "      <th>140</th>\n",
       "      <td>Hempstead Village</td>\n",
       "      <td>55198.000</td>\n",
       "      <td>1</td>\n",
       "      <td>1</td>\n",
       "      <td>958.000</td>\n",
       "      <td>10.000</td>\n",
       "      <td>204.000</td>\n",
       "      <td>3046819204.000</td>\n",
       "      <td>6.865</td>\n",
       "    </tr>\n",
       "    <tr>\n",
       "      <th>206</th>\n",
       "      <td>Mount Vernon</td>\n",
       "      <td>68071.000</td>\n",
       "      <td>1</td>\n",
       "      <td>1</td>\n",
       "      <td>1436.000</td>\n",
       "      <td>2.000</td>\n",
       "      <td>228.000</td>\n",
       "      <td>4633661041.000</td>\n",
       "      <td>7.270</td>\n",
       "    </tr>\n",
       "    <tr>\n",
       "      <th>272</th>\n",
       "      <td>Rochester</td>\n",
       "      <td>210562.000</td>\n",
       "      <td>1</td>\n",
       "      <td>1</td>\n",
       "      <td>10051.000</td>\n",
       "      <td>42.000</td>\n",
       "      <td>918.000</td>\n",
       "      <td>44336355844.000</td>\n",
       "      <td>9.215</td>\n",
       "    </tr>\n",
       "    <tr>\n",
       "      <th>285</th>\n",
       "      <td>Schenectady</td>\n",
       "      <td>66041.000</td>\n",
       "      <td>1</td>\n",
       "      <td>1</td>\n",
       "      <td>2800.000</td>\n",
       "      <td>8.000</td>\n",
       "      <td>203.000</td>\n",
       "      <td>4361413681.000</td>\n",
       "      <td>7.937</td>\n",
       "    </tr>\n",
       "    <tr>\n",
       "      <th>310</th>\n",
       "      <td>Syracuse</td>\n",
       "      <td>143834.000</td>\n",
       "      <td>1</td>\n",
       "      <td>1</td>\n",
       "      <td>6473.000</td>\n",
       "      <td>21.000</td>\n",
       "      <td>400.000</td>\n",
       "      <td>20688219556.000</td>\n",
       "      <td>8.775</td>\n",
       "    </tr>\n",
       "    <tr>\n",
       "      <th>346</th>\n",
       "      <td>Yonkers</td>\n",
       "      <td>199134.000</td>\n",
       "      <td>1</td>\n",
       "      <td>1</td>\n",
       "      <td>2368.000</td>\n",
       "      <td>6.000</td>\n",
       "      <td>390.000</td>\n",
       "      <td>39654349956.000</td>\n",
       "      <td>7.770</td>\n",
       "    </tr>\n",
       "  </tbody>\n",
       "</table>\n",
       "</div>"
      ],
      "text/plain": [
       "                  city        pop  murder  robbery  property_crime  \\\n",
       "3               Albany  97956.000       1        1        4090.000   \n",
       "140  Hempstead Village  55198.000       1        1         958.000   \n",
       "206       Mount Vernon  68071.000       1        1        1436.000   \n",
       "272          Rochester 210562.000       1        1       10051.000   \n",
       "285        Schenectady  66041.000       1        1        2800.000   \n",
       "310           Syracuse 143834.000       1        1        6473.000   \n",
       "346            Yonkers 199134.000       1        1        2368.000   \n",
       "\n",
       "     murder_raw  robbery_raw          pop_sq  log_pcrime  \n",
       "3         8.000      227.000  9595377936.000       8.316  \n",
       "140      10.000      204.000  3046819204.000       6.865  \n",
       "206       2.000      228.000  4633661041.000       7.270  \n",
       "272      42.000      918.000 44336355844.000       9.215  \n",
       "285       8.000      203.000  4361413681.000       7.937  \n",
       "310      21.000      400.000 20688219556.000       8.775  \n",
       "346       6.000      390.000 39654349956.000       7.770  "
      ]
     },
     "metadata": {},
     "output_type": "display_data"
    }
   ],
   "source": [
    "# deal with outliers\n",
    "\n",
    "display(df.query('pop > 118296'))\n",
    "display(df.query('murder_raw > 8'))\n",
    "display(df.query('robbery_raw > 200'))"
   ]
  },
  {
   "cell_type": "markdown",
   "metadata": {},
   "source": [
    "It appears most of our outliers are highly-populated cities, such as New York, Albany, Buffalo, etc.\n",
    "While the prescence of outliers may affect the performance of our model, keeping data on these cities is necessary for our model to have any meaning.\n",
    "A model attempting to analyze cr"
   ]
  },
  {
   "cell_type": "code",
   "execution_count": 25,
   "metadata": {
    "scrolled": true
   },
   "outputs": [
    {
     "name": "stdout",
     "output_type": "stream",
     "text": [
      "\n",
      "Coefficients: \n",
      " [[1.74484222e-02 1.84108343e+02 6.20590973e+01 7.28298915e-08]]\n",
      "\n",
      "Intercept: \n",
      " [-35.4533232]\n",
      "\n",
      "R-squared:\n",
      "0.7572767492305856\n"
     ]
    }
   ],
   "source": [
    "# Instantiate and fit our model.\n",
    "regr = linear_model.LinearRegression()\n",
    "Y = df['property_crime'].values.reshape(-1, 1)\n",
    "X = df[['pop','murder','robbery', 'pop_sq']]\n",
    "regr.fit(X, Y)\n",
    "\n",
    "# Inspect the results.\n",
    "print('\\nCoefficients: \\n', regr.coef_)\n",
    "print('\\nIntercept: \\n', regr.intercept_)\n",
    "print('\\nR-squared:')\n",
    "print(regr.score(X, Y))"
   ]
  },
  {
   "cell_type": "markdown",
   "metadata": {},
   "source": [
    "The model where the outcome `Property Crime` is predicted by the features `Murder`, `Robbery`, and `Population**2` explains 75.7% of the variance in `Property Crime`.\n",
    "\n",
    "Looking at the coefficients, there appears to be a negative base rate of `Property Crime` that happens even when no murders or robberies occur (intercept: -35.453) and it looks like `Robbery` has the highest per-unit effect on `Property Crime` (6.20590973e+01)."
   ]
  },
  {
   "cell_type": "code",
   "execution_count": 26,
   "metadata": {},
   "outputs": [
    {
     "data": {
      "image/png": "[encoded data removed]",
      "text/plain": [
       "<Figure size 432x288 with 1 Axes>"
      ]
     },
     "metadata": {
      "needs_background": "light"
     },
     "output_type": "display_data"
    }
   ],
   "source": [
    "# Extract predicted values.\n",
    "predicted = regr.predict(X).ravel()\n",
    "actual = df['property_crime']\n",
    "\n",
    "# Calculate the error, also called the residual.\n",
    "residual = actual - predicted\n",
    "\n",
    "# view the residual\n",
    "plt.hist(residual)\n",
    "plt.title('Residual counts')\n",
    "plt.xlabel('Residual')\n",
    "plt.ylabel('Count')\n",
    "plt.show()"
   ]
  },
  {
   "cell_type": "code",
   "execution_count": 27,
   "metadata": {},
   "outputs": [
    {
     "data": {
      "image/png": "[encoded data removed]",
      "text/plain": [
       "<Figure size 432x288 with 1 Axes>"
      ]
     },
     "metadata": {
      "needs_background": "light"
     },
     "output_type": "display_data"
    }
   ],
   "source": [
    "# check for homoscedascity\n",
    "plt.scatter(predicted, residual)\n",
    "plt.xlabel('Predicted')\n",
    "plt.ylabel('Residual')\n",
    "plt.axhline(y=0)\n",
    "plt.title('Residual vs. Predicted')\n",
    "plt.show()"
   ]
  },
  {
   "cell_type": "code",
   "execution_count": 28,
   "metadata": {},
   "outputs": [
    {
     "data": {
      "text/html": [
       "<div>\n",
       "<style scoped>\n",
       "    .dataframe tbody tr th:only-of-type {\n",
       "        vertical-align: middle;\n",
       "    }\n",
       "\n",
       "    .dataframe tbody tr th {\n",
       "        vertical-align: top;\n",
       "    }\n",
       "\n",
       "    .dataframe thead th {\n",
       "        text-align: right;\n",
       "    }\n",
       "</style>\n",
       "<table border=\"1\" class=\"dataframe\">\n",
       "  <thead>\n",
       "    <tr style=\"text-align: right;\">\n",
       "      <th></th>\n",
       "      <th>pop</th>\n",
       "      <th>murder</th>\n",
       "      <th>robbery</th>\n",
       "      <th>pop_sq</th>\n",
       "    </tr>\n",
       "  </thead>\n",
       "  <tbody>\n",
       "    <tr>\n",
       "      <th>pop</th>\n",
       "      <td>1.000</td>\n",
       "      <td>0.505</td>\n",
       "      <td>0.369</td>\n",
       "      <td>0.881</td>\n",
       "    </tr>\n",
       "    <tr>\n",
       "      <th>murder</th>\n",
       "      <td>0.505</td>\n",
       "      <td>1.000</td>\n",
       "      <td>0.308</td>\n",
       "      <td>0.355</td>\n",
       "    </tr>\n",
       "    <tr>\n",
       "      <th>robbery</th>\n",
       "      <td>0.369</td>\n",
       "      <td>0.308</td>\n",
       "      <td>1.000</td>\n",
       "      <td>0.171</td>\n",
       "    </tr>\n",
       "    <tr>\n",
       "      <th>pop_sq</th>\n",
       "      <td>0.881</td>\n",
       "      <td>0.355</td>\n",
       "      <td>0.171</td>\n",
       "      <td>1.000</td>\n",
       "    </tr>\n",
       "  </tbody>\n",
       "</table>\n",
       "</div>"
      ],
      "text/plain": [
       "          pop  murder  robbery  pop_sq\n",
       "pop     1.000   0.505    0.369   0.881\n",
       "murder  0.505   1.000    0.308   0.355\n",
       "robbery 0.369   0.308    1.000   0.171\n",
       "pop_sq  0.881   0.355    0.171   1.000"
      ]
     },
     "metadata": {},
     "output_type": "display_data"
    }
   ],
   "source": [
    "# check for correlation\n",
    "correlation_matrix = X.corr()\n",
    "display(correlation_matrix)"
   ]
  },
  {
   "cell_type": "markdown",
   "metadata": {},
   "source": [
    "Looking at our diagnostic plots, it looks like we can improve upon our model.\n",
    "The it looks like our model is suffering from a non-normal distribution and heteroscedascity.\n",
    "Looking at our correlation matrix, it looks like `population` and `population**2` are highly correlated (0.881), which can be expected."
   ]
  },
  {
   "cell_type": "code",
   "execution_count": null,
   "metadata": {
    "collapsed": true
   },
   "outputs": [],
   "source": []
  }
 ],
 "metadata": {
  "kernelspec": {
   "display_name": "Python 3",
   "language": "python",
   "name": "python3"
  },
  "language_info": {
   "codemirror_mode": {
    "name": "ipython",
    "version": 3
   },
   "file_extension": ".py",
   "mimetype": "text/x-python",
   "name": "python",
   "nbconvert_exporter": "python",
   "pygments_lexer": "ipython3",
   "version": "3.7.1"
  }
 },
 "nbformat": 4,
 "nbformat_minor": 2
}
