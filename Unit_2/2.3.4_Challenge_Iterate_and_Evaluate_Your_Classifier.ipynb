{
 "cells": [
  {
   "cell_type": "markdown",
   "metadata": {},
   "source": [
    "# Challenge: Iterate and Evaluate Your Classifier\n",
    "Unit 2 / Lesson 3 / Project 4\n",
    "\n",
    "It's time to revisit your classifier from the previous assignment.\n",
    "Using the evaluation techniques we've covered here, look at your classifier's performance in more detail.\n",
    "Then go back and iterate by engineering new features, removing poor features, or tuning parameters.\n",
    "Repeat this process until you have five different versions of your classifier.\n",
    "\n",
    "Once you've iterated, answer these questions to compare the performance of each:\n",
    "- Do any of your classifiers seem to overfit?\n",
    "- Which seem to perform the best? Why?\n",
    "- Which features seemed to be most impactful to performance?"
   ]
  },
  {
   "cell_type": "code",
   "execution_count": 1,
   "metadata": {
    "collapsed": true
   },
   "outputs": [],
   "source": [
    "%matplotlib inline\n",
    "import numpy as np\n",
    "import pandas as pd\n",
    "import scipy\n",
    "import sklearn\n",
    "import matplotlib.pyplot as plt\n",
    "import seaborn as sns"
   ]
  },
  {
   "cell_type": "markdown",
   "metadata": {},
   "source": [
    "### Revisit Our Classifier"
   ]
  },
  {
   "cell_type": "code",
   "execution_count": 9,
   "metadata": {},
   "outputs": [
    {
     "name": "stdout",
     "output_type": "stream",
     "text": [
      "1000\n",
      "748\n",
      "1000\n"
     ]
    },
    {
     "data": {
      "text/html": [
       "<div>\n",
       "<style scoped>\n",
       "    .dataframe tbody tr th:only-of-type {\n",
       "        vertical-align: middle;\n",
       "    }\n",
       "\n",
       "    .dataframe tbody tr th {\n",
       "        vertical-align: top;\n",
       "    }\n",
       "\n",
       "    .dataframe thead th {\n",
       "        text-align: right;\n",
       "    }\n",
       "</style>\n",
       "<table border=\"1\" class=\"dataframe\">\n",
       "  <thead>\n",
       "    <tr style=\"text-align: right;\">\n",
       "      <th></th>\n",
       "      <th>sentence</th>\n",
       "      <th>score</th>\n",
       "    </tr>\n",
       "  </thead>\n",
       "  <tbody>\n",
       "    <tr>\n",
       "      <th>0</th>\n",
       "      <td>So there is no way for me to plug it in here i...</td>\n",
       "      <td>0</td>\n",
       "    </tr>\n",
       "    <tr>\n",
       "      <th>1</th>\n",
       "      <td>Good case, Excellent value.</td>\n",
       "      <td>1</td>\n",
       "    </tr>\n",
       "    <tr>\n",
       "      <th>2</th>\n",
       "      <td>Great for the jawbone.</td>\n",
       "      <td>1</td>\n",
       "    </tr>\n",
       "    <tr>\n",
       "      <th>3</th>\n",
       "      <td>Tied to charger for conversations lasting more...</td>\n",
       "      <td>0</td>\n",
       "    </tr>\n",
       "    <tr>\n",
       "      <th>4</th>\n",
       "      <td>The mic is great.</td>\n",
       "      <td>1</td>\n",
       "    </tr>\n",
       "  </tbody>\n",
       "</table>\n",
       "</div>"
      ],
      "text/plain": [
       "                                            sentence  score\n",
       "0  So there is no way for me to plug it in here i...      0\n",
       "1                        Good case, Excellent value.      1\n",
       "2                             Great for the jawbone.      1\n",
       "3  Tied to charger for conversations lasting more...      0\n",
       "4                                  The mic is great.      1"
      ]
     },
     "execution_count": 9,
     "metadata": {},
     "output_type": "execute_result"
    }
   ],
   "source": [
    "# Grab and process the raw data.\n",
    "PATH_amzn = ('https://raw.githubusercontent.com/Thinkful-Ed/data-201-resources/master/sentiment_labelled_sentences/amazon_cells_labelled.txt')\n",
    "PATH_imdb = ('https://raw.githubusercontent.com/Thinkful-Ed/data-201-resources/master/sentiment_labelled_sentences/imdb_labelled.txt')\n",
    "PATH_yelp = ('https://raw.githubusercontent.com/Thinkful-Ed/data-201-resources/master/sentiment_labelled_sentences/yelp_labelled.txt')\n",
    "\n",
    "amzn = pd.read_csv(PATH_amzn, delimiter='\\t', header=None)\n",
    "imdb = pd.read_csv(PATH_imdb, delimiter='\\t', header=None)\n",
    "yelp = pd.read_csv(PATH_yelp, delimiter='\\t', header=None)\n",
    "\n",
    "for i in [amzn, imdb, yelp]:\n",
    "    i.columns = ['sentence', 'score']\n",
    "    print(len(i))\n",
    "\n",
    "amzn.head()"
   ]
  },
  {
   "cell_type": "code",
   "execution_count": 10,
   "metadata": {
    "collapsed": true
   },
   "outputs": [],
   "source": [
    "pos_list = ['happy', 'great', 'music', 'glad', 'smart', 'friend', 'family',\n",
    "            'interest', 'laugh', 'fun', 'entertain', 'joke', 'excellent',\n",
    "            'cute', 'super', 'brilliant', 'mother', 'love', 'internet', 'freedom',\n",
    "            'attract', 'awesome', 'fantastic', 'win', 'easy', 'sky', 'comfort',\n",
    "            'sweet', 'angel', 'wonder', 'free', 'song', 'funny' 'pleasant',\n",
    "            'joy', 'fine', 'party', 'amazing', 'hug', 'shine', 'sun', 'earn', 'good']"
   ]
  },
  {
   "cell_type": "code",
   "execution_count": 13,
   "metadata": {},
   "outputs": [
    {
     "data": {
      "image/png": "[encoded data removed]",
      "text/plain": [
       "<Figure size 432x288 with 2 Axes>"
      ]
     },
     "metadata": {
      "needs_background": "light"
     },
     "output_type": "display_data"
    }
   ],
   "source": [
    "# create a feature for each word in pos_new\n",
    "for i in pos_list:\n",
    "    amzn[str(i)] = amzn.sentence.str.contains(\n",
    "        str(i),\n",
    "        case=False\n",
    "    )\n",
    "\n",
    "# check for correlation\n",
    "sns.heatmap(amzn.corr());"
   ]
  },
  {
   "cell_type": "code",
   "execution_count": 19,
   "metadata": {},
   "outputs": [
    {
     "name": "stdout",
     "output_type": "stream",
     "text": [
      "Number of mislabeled points out of a total 1000 points: 266\n",
      "Success rate of our model: 73.4 %\n"
     ]
    }
   ],
   "source": [
    "data = amzn.iloc[:,2:]\n",
    "target = amzn['score']\n",
    "\n",
    "# Our data is binary / boolean, so we're importing the Bernoulli classifier.\n",
    "from sklearn.naive_bayes import BernoulliNB\n",
    "\n",
    "# instantiate our model and store it in a new variable\n",
    "bnb = BernoulliNB()\n",
    "\n",
    "# fit our model to the data\n",
    "bnb.fit(data, target)\n",
    "\n",
    "# classify, storing the result in a new variable\n",
    "y_pred = bnb.predict(data)\n",
    "\n",
    "# display our results\n",
    "print('Number of mislabeled points out of a total {} points: {}'.format(\n",
    "    data.shape[0],\n",
    "    (target != y_pred).sum()\n",
    "    ))\n",
    "\n",
    "print('Success rate of our model: {}'\n",
    "      .format((data.shape[0] - (target != y_pred).sum())/data.shape[0]*100), '%')"
   ]
  },
  {
   "cell_type": "markdown",
   "metadata": {},
   "source": [
    "### Evaluate Classifer's Peformance"
   ]
  },
  {
   "cell_type": "code",
   "execution_count": 20,
   "metadata": {},
   "outputs": [
    {
     "name": "stdout",
     "output_type": "stream",
     "text": [
      "[[462  38]\n",
      " [228 272]]\n"
     ]
    }
   ],
   "source": [
    "# let's look at a confusion matrix\n",
    "from sklearn.metrics import confusion_matrix\n",
    "cf = confusion_matrix(target, y_pred)\n",
    "print(cf)"
   ]
  },
  {
   "cell_type": "code",
   "execution_count": 22,
   "metadata": {},
   "outputs": [
    {
     "name": "stdout",
     "output_type": "stream",
     "text": [
      "228 false positive sentences identified\n",
      "38 false negative sentences identified\n",
      "\n",
      "Sensitivity: 54.400000000000006 %\n",
      "272 percent of total 500 positives correctly identified\n",
      "\n",
      "Specificity: 92.4 %\n",
      "462 percent of total 500 negatives correctly identified\n"
     ]
    }
   ],
   "source": [
    "print('{} false positive sentences identified'\n",
    "      .format(cf[1,0]))\n",
    "print('{} false negative sentences identified'\n",
    "      .format(cf[0,1]))\n",
    "print()\n",
    "\n",
    "sen = (cf[1,1]/cf[1].sum()*100)\n",
    "print('Sensitivity:', sen, '%')\n",
    "print('{} percent of total {} positives correctly identified'\n",
    "      .format(cf[1,1], cf[1].sum() ))\n",
    "print()\n",
    "\n",
    "spe = (cf[0,0]/cf[0].sum()*100)\n",
    "print('Specificity:', spe, '%')\n",
    "print('{} percent of total {} negatives correctly identified'\n",
    "      .format(cf[0,0], cf[0].sum() ))"
   ]
  },
  {
   "cell_type": "markdown",
   "metadata": {},
   "source": [
    "Looks like our model is particularly good at identifying negative sentences, with a success rate of 92.4%.\n",
    "Our model falls short when identifying positive sentences, only correctly identifying them 54.4% of the time."
   ]
  },
  {
   "cell_type": "code",
   "execution_count": 23,
   "metadata": {},
   "outputs": [
    {
     "name": "stdout",
     "output_type": "stream",
     "text": [
      "with 20% holdout: 0.685\n",
      "testing on sample: 0.734\n"
     ]
    }
   ],
   "source": [
    "# Test your model with different holdout groups.\n",
    "\n",
    "from sklearn.model_selection import train_test_split\n",
    "\n",
    "# Use train_test_split to create the necessary training and test groups\n",
    "X_train, X_test, Y_train, Y_test = train_test_sfrom sklearn.model_selection import cross_val_score\n",
    "\n",
    "cross_val_score(bnb, data, target, cv=10)plit(data, target, test_size=0.2, random_state=20)\n",
    "\n",
    "print('with 20% holdout: ' +\n",
    "      str(bnb.fit(X_train, Y_train).score(X_test, Y_test)) )\n",
    "print('testing on sample: ' + \n",
    "     str(bnb.fit(data, target).score(data,target)) )"
   ]
  },
  {
   "cell_type": "markdown",
   "metadata": {},
   "source": [
    "It looks like our model isn't overfitting, _thanks in part to the independent nature of a Naive Bayes model_.\n",
    "\n",
    "Let's see if we can gain more insight in our model performance with cross validation."
   ]
  },
  {
   "cell_type": "code",
   "execution_count": 33,
   "metadata": {},
   "outputs": [
    {
     "name": "stdout",
     "output_type": "stream",
     "text": [
      "[0.73 0.72 0.77 0.75 0.71 0.71 0.74 0.66 0.72 0.74]\n",
      "Average cross_val_score: 72.5 %\n"
     ]
    }
   ],
   "source": [
    "from sklearn.model_selection import cross_val_score\n",
    "\n",
    "cvs = cross_val_score(bnb, data, target, cv=10)\n",
    "print(cvs)\n",
    "print('Average cross_val_score: {}'\n",
    "      .format(sum(cvs)/len(cvs)*100), '%')"
   ]
  },
  {
   "cell_type": "markdown",
   "metadata": {},
   "source": [
    "It looks like are cross validation scores are pretty consistent, so we've confirmed our model isn't overfitting our data.\n",
    "\n",
    "Our data is 50% positive sentences and 50% negative sentences, so our model as a baseline rate of 50%, any prediction has a 50% chance of success.\n",
    "This means that our model is 22.5% more successful than the baseline.\n",
    "\n",
    "We saw in our confusion matrix that our model has a 92.4% success rate when predicting negative sentences.\n",
    "This means our model is 42.4% better than the baseline at predicting negative sentences.\n",
    "\n",
    "Unfortunately, our model only has a 54.4% success rate when predicting positive sentences.\n",
    "This means our model is only 4.4% better than the baseline at predicting positive sentences."
   ]
  },
  {
   "cell_type": "markdown",
   "metadata": {},
   "source": [
    "### Create Five New Classifiers"
   ]
  },
  {
   "cell_type": "code",
   "execution_count": null,
   "metadata": {},
   "outputs": [],
   "source": []
  },
  {
   "cell_type": "code",
   "execution_count": null,
   "metadata": {
    "collapsed": true
   },
   "outputs": [],
   "source": []
  },
  {
   "cell_type": "code",
   "execution_count": null,
   "metadata": {
    "collapsed": true
   },
   "outputs": [],
   "source": []
  }
 ],
 "metadata": {
  "kernelspec": {
   "display_name": "Python 3",
   "language": "python",
   "name": "python3"
  },
  "language_info": {
   "codemirror_mode": {
    "name": "ipython",
    "version": 3
   },
   "file_extension": ".py",
   "mimetype": "text/x-python",
   "name": "python",
   "nbconvert_exporter": "python",
   "pygments_lexer": "ipython3",
   "version": "3.7.1"
  }
 },
 "nbformat": 4,
 "nbformat_minor": 2
}
