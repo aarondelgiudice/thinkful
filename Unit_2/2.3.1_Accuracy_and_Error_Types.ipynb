{
 "cells": [
  {
   "cell_type": "markdown",
   "metadata": {},
   "source": [
    "# Evaluating classifiers\n",
    "Unit 2 / Lesson 3\n",
    "\n",
    "\n",
    "So you’ve made your first classifier!\n",
    "Now the tough question: is it any good?\n",
    "Evaluating models is an essential part of the data science process, and it can get as detailed or complex as the data scientist wants it to.\n",
    "\n",
    "In this lesson we’ll cover some of the ways you could evaluate a classifier, using the spam filter from the previous lesson as the key example."
   ]
  },
  {
   "cell_type": "markdown",
   "metadata": {},
   "source": [
    "# Accuracy and Error Types\n",
    "Unit 2 / Lesson 3 / Assignment 1\n",
    "\n",
    "\n",
    "### Reload our Naive Bayes Classifier from 2.2\n",
    "\n",
    "Here we'll quickly reload the Naive Bayes classifier from our last lesson.\n",
    "This is all code you've seen before, but it is worth noting how little code is actually required to generate this model.\n",
    "It's a relatively simple exercise, and SKLearn makes it impressively easy."
   ]
  },
  {
   "cell_type": "code",
   "execution_count": 1,
   "metadata": {
    "collapsed": true
   },
   "outputs": [],
   "source": [
    "%matplotlib inline\n",
    "import numpy as np\n",
    "import pandas as pd\n",
    "import scipy\n",
    "import sklearn\n",
    "import matplotlib.pyplot as plt\n",
    "import seaborn as sns"
   ]
  },
  {
   "cell_type": "code",
   "execution_count": 16,
   "metadata": {},
   "outputs": [
    {
     "data": {
      "text/html": [
       "<div>\n",
       "<style scoped>\n",
       "    .dataframe tbody tr th:only-of-type {\n",
       "        vertical-align: middle;\n",
       "    }\n",
       "\n",
       "    .dataframe tbody tr th {\n",
       "        vertical-align: top;\n",
       "    }\n",
       "\n",
       "    .dataframe thead th {\n",
       "        text-align: right;\n",
       "    }\n",
       "</style>\n",
       "<table border=\"1\" class=\"dataframe\">\n",
       "  <thead>\n",
       "    <tr style=\"text-align: right;\">\n",
       "      <th></th>\n",
       "      <th>spam</th>\n",
       "      <th>message</th>\n",
       "      <th>click</th>\n",
       "      <th>offer</th>\n",
       "      <th>winner</th>\n",
       "      <th>buy</th>\n",
       "      <th>free</th>\n",
       "      <th>cash</th>\n",
       "      <th>urgent</th>\n",
       "      <th>allcaps</th>\n",
       "    </tr>\n",
       "  </thead>\n",
       "  <tbody>\n",
       "    <tr>\n",
       "      <th>0</th>\n",
       "      <td>False</td>\n",
       "      <td>Go until jurong point, crazy.. Available only ...</td>\n",
       "      <td>False</td>\n",
       "      <td>False</td>\n",
       "      <td>False</td>\n",
       "      <td>False</td>\n",
       "      <td>False</td>\n",
       "      <td>False</td>\n",
       "      <td>False</td>\n",
       "      <td>False</td>\n",
       "    </tr>\n",
       "    <tr>\n",
       "      <th>1</th>\n",
       "      <td>False</td>\n",
       "      <td>Ok lar... Joking wif u oni...</td>\n",
       "      <td>False</td>\n",
       "      <td>False</td>\n",
       "      <td>False</td>\n",
       "      <td>False</td>\n",
       "      <td>False</td>\n",
       "      <td>False</td>\n",
       "      <td>False</td>\n",
       "      <td>False</td>\n",
       "    </tr>\n",
       "    <tr>\n",
       "      <th>2</th>\n",
       "      <td>True</td>\n",
       "      <td>Free entry in 2 a wkly comp to win FA Cup fina...</td>\n",
       "      <td>False</td>\n",
       "      <td>False</td>\n",
       "      <td>False</td>\n",
       "      <td>False</td>\n",
       "      <td>False</td>\n",
       "      <td>False</td>\n",
       "      <td>False</td>\n",
       "      <td>False</td>\n",
       "    </tr>\n",
       "    <tr>\n",
       "      <th>3</th>\n",
       "      <td>False</td>\n",
       "      <td>U dun say so early hor... U c already then say...</td>\n",
       "      <td>False</td>\n",
       "      <td>False</td>\n",
       "      <td>False</td>\n",
       "      <td>False</td>\n",
       "      <td>False</td>\n",
       "      <td>False</td>\n",
       "      <td>False</td>\n",
       "      <td>False</td>\n",
       "    </tr>\n",
       "    <tr>\n",
       "      <th>4</th>\n",
       "      <td>False</td>\n",
       "      <td>Nah I don't think he goes to usf, he lives aro...</td>\n",
       "      <td>False</td>\n",
       "      <td>False</td>\n",
       "      <td>False</td>\n",
       "      <td>False</td>\n",
       "      <td>False</td>\n",
       "      <td>False</td>\n",
       "      <td>False</td>\n",
       "      <td>False</td>\n",
       "    </tr>\n",
       "  </tbody>\n",
       "</table>\n",
       "</div>"
      ],
      "text/plain": [
       "    spam                                            message  click  offer  \\\n",
       "0  False  Go until jurong point, crazy.. Available only ...  False  False   \n",
       "1  False                      Ok lar... Joking wif u oni...  False  False   \n",
       "2   True  Free entry in 2 a wkly comp to win FA Cup fina...  False  False   \n",
       "3  False  U dun say so early hor... U c already then say...  False  False   \n",
       "4  False  Nah I don't think he goes to usf, he lives aro...  False  False   \n",
       "\n",
       "   winner    buy   free   cash  urgent  allcaps  \n",
       "0   False  False  False  False   False    False  \n",
       "1   False  False  False  False   False    False  \n",
       "2   False  False  False  False   False    False  \n",
       "3   False  False  False  False   False    False  \n",
       "4   False  False  False  False   False    False  "
      ]
     },
     "execution_count": 16,
     "metadata": {},
     "output_type": "execute_result"
    }
   ],
   "source": [
    "# Grab and process the raw data\n",
    "PATH = (\"https://raw.githubusercontent.com/Thinkful-Ed/data-201-resources/\"\n",
    "             \"master/sms_spam_collection/SMSSpamCollection\"\n",
    "       )\n",
    "\n",
    "sms_raw = pd.read_csv(PATH, delimiter='\\t', header=None)\n",
    "sms_raw.columns = ['spam', 'message']\n",
    "\n",
    "# enumerate spam keywords\n",
    "keywords = ['click', 'offer', 'winner', 'buy', 'free', 'cash', 'urgent']\n",
    "\n",
    "for i in keywords:\n",
    "    sms_raw[str(i)] = sms_raw.message.str.contains(\n",
    "        ' ' + str(i) + ' ',\n",
    "        case=False\n",
    "    )\n",
    "\n",
    "sms_raw['allcaps'] = sms_raw.message.str.isupper()\n",
    "sms_raw['spam'] = (sms_raw['spam'] == 'spam')\n",
    "\n",
    "sms_raw.head()"
   ]
  },
  {
   "cell_type": "code",
   "execution_count": 17,
   "metadata": {},
   "outputs": [
    {
     "name": "stdout",
     "output_type": "stream",
     "text": [
      "Number of mislabeled points out of a total 5572: 604\n",
      "Model accuracy: 89.16008614501077 %\n"
     ]
    }
   ],
   "source": [
    "data = sms_raw[keywords + ['allcaps']]\n",
    "target = sms_raw['spam']\n",
    "\n",
    "from sklearn.naive_bayes import BernoulliNB\n",
    "bnb = BernoulliNB()\n",
    "y_pred = bnb.fit(data, target).predict(data)\n",
    "\n",
    "# display results\n",
    "print('Number of mislabeled points out of a total {}: {}'.format(\n",
    "    data.shape[0], (target != y_pred).sum()\n",
    "))\n",
    "print('Model accuracy:',\n",
    "      ((data.shape[0] - (target != y_pred).sum()) / data.shape[0]*100),\n",
    "      '%')"
   ]
  },
  {
   "cell_type": "markdown",
   "metadata": {},
   "source": [
    "### Success Rate\n",
    "\n",
    "Now we have our __model__ as well as our returned predictions.\n",
    "\n",
    "The first thing to note is _what data is directly comparable for model evaluation:_ our __target__ and __y_pred variables__.\n",
    "___Target__ is the actual outcomes_, whether something was spam or ham.\n",
    "_The __y_pred__ is the predicted outcomes from our classifier_.\n",
    "Both are ordered arrays with the results from each row of the dataframe.\n",
    "When the two agree that means our model was able to successfully predict whether a given message was spam or ham.\n",
    "When they disagree our model was incorrect.\n",
    "\n",
    "_The most basic measure of __success__, then, is how often our model was correct._\n",
    "This is called the __accuracy__.\n",
    "It's a metric you've seen before as it was our method of evaluation in the past lesson, but translated from a count to a rate or percentage.\n",
    "\n",
    "Now __success rate__ is a popular way to evaluate a model, and what most people get excited about when discussing a model.\n",
    "However, for a data scientist, success rate is usually not sufficient.\n",
    "\n",
    "Not all errors are created equal.\n",
    "Think of the situation we're currently working with: a spam filter.\n",
    "Are all types of errors equal here?\n",
    "If you were using this to remove messages from your inbox, letting in a spam message is not nearly as egregious as throwing out a real (and quite possibly very important) message.\n",
    "Knowing more about the kinds of errors you're generating can therefore be incredibly useful.\n",
    "\n",
    "Understanding how your model is failing can be key to improving it.\n",
    "If a certain outcome is not being predicted accurately you may want to focus on engineering more features to identify that outcome."
   ]
  },
  {
   "cell_type": "markdown",
   "metadata": {},
   "source": [
    "### Confusion Matrix\n",
    "\n",
    "The next level of analysis of your __classifier__ is often something called a __Confusion Matrix__.\n",
    "This is a matrix that _shows the count of each possible permutation of target and prediction._\n",
    "So in our case, it will show the counts for when a message was ham and we predicted ham, when a message was ham and we predicted spam, when a message was spam and we predicted ham, and when a message was spam and we predicted spam.\n",
    "\n",
    "SKLearn has a built in __confusion matrix__ function."
   ]
  },
  {
   "cell_type": "code",
   "execution_count": 8,
   "metadata": {},
   "outputs": [
    {
     "data": {
      "text/plain": [
       "array([[4770,   55],\n",
       "       [ 549,  198]], dtype=int64)"
      ]
     },
     "execution_count": 8,
     "metadata": {},
     "output_type": "execute_result"
    }
   ],
   "source": [
    "from sklearn.metrics import confusion_matrix\n",
    "confusion_matrix(target, y_pred)"
   ]
  },
  {
   "cell_type": "markdown",
   "metadata": {},
   "source": [
    "Here the columns are prediction and the rows are actual.\n",
    "\n",
    "So what do we learn?\n",
    "\n",
    "We learn the majority of our error is coming from times where we failed to identify a spam message.\n",
    "549 of our 604 errors are from failing to identify spam.\n",
    "So we need to get a little bit better at identifying spam messages.\n",
    "\n",
    "But before we move on or iterate on the model, let's talk about some key terms that you may run into when thinking about this kind of matrix.\n",
    "\n",
    "Let's assume our goal is to identify spam (rather than identify ham).\n",
    "\n",
    "Firstly, when we talk about errors in a binary classifier (where there are only two outcomes) we're generally referring to two kinds of errors.\n",
    "A __false positive__ is when we identify something as spam that is not. In this case we had 55 of these. _This is sometimes also called a \"Type I Error\" or a \"false alarm\"_.\n",
    "\n",
    "A __false negative__ is therefore when we mistakenly identify something as not spam when it is. We had 549 of these. _This is also called a \"Type II Error\" or a \"miss\"_.\n",
    "\n",
    "This also brings us to a conversation of sensitivity vs specificity.\n",
    "\n",
    "__Sensitivity__ is the percentage of positives correctly identified, in our case 198/747 or 27%. This shows how good we are at catching positives, or how sensitive our model is to identifying positives.\n",
    "\n",
    "__Specificity__ is just the opposite, the percentage of negatives correctly identified, 4770/4825 or 99%.\n",
    "\n",
    "Again this confirms that we're not great at identifying spam, though we do label ham quite accurately. You should get familiar with these terms as in the practicing world they will often be used with little explanation and you will be expected to understand them."
   ]
  },
  {
   "cell_type": "markdown",
   "metadata": {},
   "source": [
    "### DRILL:\n",
    "\n",
    "It's worth calculating these with code so that you fully understand how these statistics work.\n",
    "Manually generate (__meaning don't use the SKLearn function__) your own confusion matrix and print it along with the sensitivity and specificity."
   ]
  },
  {
   "cell_type": "code",
   "execution_count": 28,
   "metadata": {},
   "outputs": [
    {
     "data": {
      "text/html": [
       "<div>\n",
       "<style scoped>\n",
       "    .dataframe tbody tr th:only-of-type {\n",
       "        vertical-align: middle;\n",
       "    }\n",
       "\n",
       "    .dataframe tbody tr th {\n",
       "        vertical-align: top;\n",
       "    }\n",
       "\n",
       "    .dataframe thead th {\n",
       "        text-align: right;\n",
       "    }\n",
       "</style>\n",
       "<table border=\"1\" class=\"dataframe\">\n",
       "  <thead>\n",
       "    <tr style=\"text-align: right;\">\n",
       "      <th>predicted</th>\n",
       "      <th>False</th>\n",
       "      <th>True</th>\n",
       "      <th>All</th>\n",
       "    </tr>\n",
       "    <tr>\n",
       "      <th>actual</th>\n",
       "      <th></th>\n",
       "      <th></th>\n",
       "      <th></th>\n",
       "    </tr>\n",
       "  </thead>\n",
       "  <tbody>\n",
       "    <tr>\n",
       "      <th>False</th>\n",
       "      <td>4770</td>\n",
       "      <td>55</td>\n",
       "      <td>4825</td>\n",
       "    </tr>\n",
       "    <tr>\n",
       "      <th>True</th>\n",
       "      <td>549</td>\n",
       "      <td>198</td>\n",
       "      <td>747</td>\n",
       "    </tr>\n",
       "    <tr>\n",
       "      <th>All</th>\n",
       "      <td>5319</td>\n",
       "      <td>253</td>\n",
       "      <td>5572</td>\n",
       "    </tr>\n",
       "  </tbody>\n",
       "</table>\n",
       "</div>"
      ],
      "text/plain": [
       "predicted  False  True   All\n",
       "actual                      \n",
       "False       4770    55  4825\n",
       "True         549   198   747\n",
       "All         5319   253  5572"
      ]
     },
     "execution_count": 28,
     "metadata": {},
     "output_type": "execute_result"
    }
   ],
   "source": [
    "y_actu = pd.Series(sms_raw['spam'], name='actual')\n",
    "y_pred = pd.Series(y_pred, name='predicted')\n",
    "df_confusion = pd.crosstab(y_actu, y_pred,\n",
    "                           rownames=['actual'], colnames=['predicted'], margins=True)\n",
    "df_confusion"
   ]
  },
  {
   "cell_type": "code",
   "execution_count": null,
   "metadata": {
    "collapsed": true
   },
   "outputs": [],
   "source": []
  }
 ],
 "metadata": {
  "kernelspec": {
   "display_name": "Python 3",
   "language": "python",
   "name": "python3"
  },
  "language_info": {
   "codemirror_mode": {
    "name": "ipython",
    "version": 3
   },
   "file_extension": ".py",
   "mimetype": "text/x-python",
   "name": "python",
   "nbconvert_exporter": "python",
   "pygments_lexer": "ipython3",
   "version": "3.7.1"
  }
 },
 "nbformat": 4,
 "nbformat_minor": 2
}
