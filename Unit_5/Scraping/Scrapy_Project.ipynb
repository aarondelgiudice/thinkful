{
  "nbformat": 4,
  "nbformat_minor": 0,
  "metadata": {
    "colab": {
      "name": "Scrapy_Project.ipynb",
      "version": "0.3.2",
      "provenance": [],
      "include_colab_link": true
    },
    "language_info": {
      "codemirror_mode": {
        "name": "ipython",
        "version": 3
      },
      "file_extension": ".py",
      "mimetype": "text/x-python",
      "name": "python",
      "nbconvert_exporter": "python",
      "pygments_lexer": "ipython3",
      "version": "3.6.4"
    },
    "kernelspec": {
      "display_name": "Python 3",
      "language": "python",
      "name": "python3"
    }
  },
  "cells": [
    {
      "cell_type": "markdown",
      "metadata": {
        "id": "view-in-github",
        "colab_type": "text"
      },
      "source": [
        "<a href=\"https://colab.research.google.com/github/aarondelgiudice/thinkful_data_bootcamp/blob/master/Unit_5/Scraping/Scrapy_Project.ipynb\" target=\"_parent\"><img src=\"https://colab.research.google.com/assets/colab-badge.svg\" alt=\"Open In Colab\"/></a>"
      ]
    },
    {
      "cell_type": "markdown",
      "metadata": {
        "id": "2XRXV_omoQIg",
        "colab_type": "text"
      },
      "source": [
        "# API Challenge\n",
        "Unit 5 / Lesson 2 / Project 4\n",
        "\n",
        "Do a little scraping or API-calling of your own. Pick a new website and see what you can get out of it. Expect that you'll run into bugs and blind alleys, and rely on your mentor to help you get through.\n",
        "\n",
        "Formally, your goal is to write a scraper that will:\n",
        "\n",
        "1. Return specific pieces of information (rather than just downloading a whole page)\n",
        "2. Iterate over multiple pages/queries\n",
        "3. Save the data to your computer\n",
        "\n",
        "Once you have your data, compute some statistical summaries and/or visualizations that give you some new insights into your scraping topic of interest. Write up a report from scraping code to summary and share it with your mentor."
      ]
    },
    {
      "cell_type": "code",
      "metadata": {
        "id": "oSJckT0MoQIt",
        "colab_type": "code",
        "colab": {}
      },
      "source": [
        "import requests\n",
        "from bs4 import BeautifulSoup\n",
        "from urllib.request import urlopen\n",
        "import pandas as pd\n",
        "import numpy as np\n",
        "import matplotlib.pyplot as plt\n",
        "import seaborn as sns\n",
        "%matplotlib inline"
      ],
      "execution_count": 0,
      "outputs": []
    },
    {
      "cell_type": "code",
      "metadata": {
        "id": "IqhbKDI-oQI8",
        "colab_type": "code",
        "colab": {}
      },
      "source": [
        "#Establish site for scraping\n",
        "url = 'https://en.wikipedia.org/wiki/List_of_2019_box_office_number-one_films_in_the_United_States'\n",
        "html = urlopen(url)"
      ],
      "execution_count": 0,
      "outputs": []
    },
    {
      "cell_type": "code",
      "metadata": {
        "id": "edtTQUDgoQJG",
        "colab_type": "code",
        "outputId": "0210006e-22fc-4342-9a1f-9fb348fb0cdc",
        "colab": {
          "base_uri": "https://localhost:8080/",
          "height": 34
        }
      },
      "source": [
        "#Parse our html\n",
        "soup = BeautifulSoup(html, 'lxml')\n",
        "print(type(soup))"
      ],
      "execution_count": 26,
      "outputs": [
        {
          "output_type": "stream",
          "text": [
            "<class 'bs4.BeautifulSoup'>\n"
          ],
          "name": "stdout"
        }
      ]
    },
    {
      "cell_type": "code",
      "metadata": {
        "id": "FNq0uH4coQJa",
        "colab_type": "code",
        "outputId": "6bc164b8-0557-47ef-8ad3-41f4bdd7c03a",
        "colab": {
          "base_uri": "https://localhost:8080/",
          "height": 632
        }
      },
      "source": [
        "trows = soup.find_all('tr')\n",
        "print(trows[:5])"
      ],
      "execution_count": 27,
      "outputs": [
        {
          "output_type": "stream",
          "text": [
            "[<tr>\n",
            "<th width=\"5%\">#\n",
            "</th>\n",
            "<th width=\"15%\">Date\n",
            "</th>\n",
            "<th width=\"30%\">Film\n",
            "</th>\n",
            "<th width=\"15%\">Gross\n",
            "</th>\n",
            "<th width=\"35%\">Note(s)\n",
            "</th></tr>, <tr>\n",
            "<td>1</td>\n",
            "<td><span data-sort-value=\"000000002019-01-06-0000\" style=\"white-space:nowrap\">January 6, 2019</span></td>\n",
            "<td><i><a href=\"/wiki/Aquaman_(film)\" title=\"Aquaman (film)\">Aquaman</a></i></td>\n",
            "<td>$31,003,280</td>\n",
            "<td><i>Aquaman</i><span class=\"nowrap\" style=\"padding-left:0.1em;\">'</span>s worldwide gross ($940 million) surpassed <i><a href=\"/wiki/Batman_v_Superman:_Dawn_of_Justice\" title=\"Batman v Superman: Dawn of Justice\">Batman v Superman: Dawn of Justice</a></i> ($873.6 million) as the highest grossing film globally in the <a href=\"/wiki/DC_Extended_Universe\" title=\"DC Extended Universe\">DC Extended Universe</a>. Its international gross ($680 million) also surpassed <i><a href=\"/wiki/The_Dark_Knight_Rises\" title=\"The Dark Knight Rises\">The Dark Knight Rises</a></i><span class=\"nowrap\" style=\"padding-left:0.1em;\">'</span> ($636.8 million) as the highest grossing international gross for a film based on a <a href=\"/wiki/DC_Comics\" title=\"DC Comics\">DC Comics</a> property.\n",
            "</td></tr>, <tr>\n",
            "<td>2</td>\n",
            "<td><span data-sort-value=\"000000002019-01-13-0000\" style=\"white-space:nowrap\">January 13, 2019</span></td>\n",
            "<td><i><a href=\"/wiki/The_Upside\" title=\"The Upside\">The Upside</a></i></td>\n",
            "<td>$20,355,000</td>\n",
            "<td><i>Aquaman</i> became the first film in the <a href=\"/wiki/DC_Extended_Universe\" title=\"DC Extended Universe\">DC Extended Universe</a> to gross $1 billion worldwide.\n",
            "</td></tr>, <tr>\n",
            "<td>3</td>\n",
            "<td><span data-sort-value=\"000000002019-01-20-0000\" style=\"white-space:nowrap\">January 20, 2019</span></td>\n",
            "<td><i><a href=\"/wiki/Glass_(2019_film)\" title=\"Glass (2019 film)\">Glass</a></i></td>\n",
            "<td>$40,328,920</td>\n",
            "<td>\n",
            "</td></tr>, <tr>\n",
            "<td>4</td>\n",
            "<td><span data-sort-value=\"000000002019-01-27-0000\" style=\"white-space:nowrap\">January 27, 2019</span></td>\n",
            "<td><i>Glass</i></td>\n",
            "<td>$18,884,440</td>\n",
            "<td>During the weekend, <i>Aquaman</i><span class=\"nowrap\" style=\"padding-left:0.1em;\">'</span>s worldwide total ($1.091 billion) surpassed <i><a href=\"/wiki/The_Dark_Knight_Rises\" title=\"The Dark Knight Rises\">The Dark Knight Rises</a></i> ($1,084.9 billion) as the all-time highest-grossing film based on a DC Comics property.\n",
            "</td></tr>]\n"
          ],
          "name": "stdout"
        }
      ]
    },
    {
      "cell_type": "code",
      "metadata": {
        "id": "KTRViRmBoQJo",
        "colab_type": "code",
        "outputId": "f4d5865b-8e8a-4b41-af56-3c9029208a25",
        "colab": {
          "base_uri": "https://localhost:8080/",
          "height": 71
        }
      },
      "source": [
        "#Print out each cell of each table row\n",
        "\n",
        "for trow in trows:\n",
        "    trow_td = trow.find_all('td')\n",
        "print(trow_td)\n",
        "type(trow_td)"
      ],
      "execution_count": 28,
      "outputs": [
        {
          "output_type": "stream",
          "text": [
            "[<td class=\"navbox-abovebelow\" colspan=\"2\"><div><img alt=\"Category\" data-file-height=\"31\" data-file-width=\"36\" decoding=\"async\" height=\"14\" src=\"//upload.wikimedia.org/wikipedia/en/thumb/4/48/Folder_Hexagonal_Icon.svg/16px-Folder_Hexagonal_Icon.svg.png\" srcset=\"//upload.wikimedia.org/wikipedia/en/thumb/4/48/Folder_Hexagonal_Icon.svg/24px-Folder_Hexagonal_Icon.svg.png 1.5x, //upload.wikimedia.org/wikipedia/en/thumb/4/48/Folder_Hexagonal_Icon.svg/32px-Folder_Hexagonal_Icon.svg.png 2x\" title=\"Category\" width=\"16\"/> <b><a href=\"/wiki/Category:Lists_of_box_office_number-one_films\" title=\"Category:Lists of box office number-one films\">Category</a></b></div></td>]\n"
          ],
          "name": "stdout"
        },
        {
          "output_type": "execute_result",
          "data": {
            "text/plain": [
              "bs4.element.ResultSet"
            ]
          },
          "metadata": {
            "tags": []
          },
          "execution_count": 28
        }
      ]
    },
    {
      "cell_type": "code",
      "metadata": {
        "id": "Lo_IIQVUoQJz",
        "colab_type": "code",
        "outputId": "f9c3f79d-f4ed-4399-b5a1-a0f6677e46cb",
        "colab": {
          "base_uri": "https://localhost:8080/",
          "height": 54
        }
      },
      "source": [
        "#Get text from each tr and td\n",
        "list_trows = []\n",
        "\n",
        "for trow in trows:\n",
        "    cells = trow.find_all('td')\n",
        "    str_cells = str(cells)\n",
        "    cleantext = BeautifulSoup(str_cells, \"lxml\").get_text()\n",
        "    list_trows.append(cleantext)\n",
        "print(list_trows)"
      ],
      "execution_count": 29,
      "outputs": [
        {
          "output_type": "stream",
          "text": [
            "['[]', \"[1, January 6, 2019, Aquaman, $31,003,280, Aquaman's worldwide gross ($940 million) surpassed Batman v Superman: Dawn of Justice ($873.6 million) as the highest grossing film globally in the DC Extended Universe. Its international gross ($680 million) also surpassed The Dark Knight Rises' ($636.8 million) as the highest grossing international gross for a film based on a DC Comics property.\\n]\", '[2, January 13, 2019, The Upside, $20,355,000, Aquaman became the first film in the DC Extended Universe to gross $1 billion worldwide.\\n]', '[3, January 20, 2019, Glass, $40,328,920, \\n]', \"[4, January 27, 2019, Glass, $18,884,440, During the weekend, Aquaman's worldwide total ($1.091 billion) surpassed The Dark Knight Rises ($1,084.9 billion) as the all-time highest-grossing film based on a DC Comics property.\\n]\", '[5, February 3, 2019, Glass, $9,548,795, Glass became the first film in 2019 to top the box office for three consecutive weekends.\\n]', '[6, February 10, 2019, The Lego Movie 2: The Second Part, $34,115,335, \\n]', '[7, February 17, 2019, Alita: Battle Angel, $28,525,613, \\n]', '[8, February 24, 2019, How to Train Your Dragon: The Hidden World, $55,022,245, \\n]', '[9, March 3, 2019, How to Train Your Dragon: The Hidden World, $30,028,540, \\n]', \"[10, March 10, 2019, Captain Marvel, $153,433,423, Captain Marvel broke Wonder Woman's record ($103.2 million) for the highest debut for a female-led superhero film and a film helmed by a female director.\\n]\", '[11, March 17, 2019, Captain Marvel, $67,988,130, \\n]', \"[12, March 24, 2019, Us, $71,117,625, Us broke Ted's record ($54.4 million) for the highest opening for an original R-rated film and A Quiet Place's record ($50.2 million) for the highest opening for an original horror film.\\n]\", '[13, March 31, 2019, Dumbo, $45,990,748, \\n]', '[14, April 7, 2019, Shazam!, $53,505,326, \\n]', '[15, April 14, 2019, Shazam!, $24,453,514, \\n]', '[16, April 21, 2019, The Curse of La Llorona, $26,347,631, \\n]', \"[17, April 28, 2019, Avengers: Endgame, $357,115,007, Avengers: Endgame's $60 million gross from Thursday night preview showings broke Star Wars: The Force Awakens' record ($57 million) for the highest gross from Thursday night previews. The film's opening day gross of $157 million broke Star Wars: The Force Awakens' record ($119.1 million) for the highest opening and single day gross of all time. It also broke its predecessor Avengers: Infinity War's records ($257.7 million) for the highest weekend debut in April, a spring release, a superhero film, a 3D film, and of all time. It also became the first film to gross over $300 million for an opening weekend and currently has the highest weekend gross of 2019. Its $1.2 billion worldwide opening weekend broke Avengers: Infinity War's record ($640.5 million) for the highest worldwide opening weekend debut for a comic book film and for the highest worldwide opening of all time. It also broke Avengers: Infinity War's record (11 days) for the fastest film to reach $1 billion worldwide, doing so in 5 days.\\n]\", \"[18, May 5, 2019, Avengers: Endgame, $147,383,211, Avengers: Endgame broke Avatar's record (47 days) for the fastest film to reach $2 billion worldwide, doing so in 11 days.\\n]\", \"[19, May 12, 2019, Avengers: Endgame, $63,299,066, Avengers: Endgame ($723.5 million) passed Black Panther ($700.1 million) for the highest grossing superhero film domestically. In second place, Pokémon Detective Pikachu's $54.4 million opening weekend broke Lara Croft: Tomb Raider's record ($47.7 million) for the highest weekend debut for a video game adaptation.\\n]\", '[20, May 19, 2019, John Wick: Chapter 3 – Parabellum, $56,818,067, \\n]', '[]', '[1., Avengers: Endgame, Disney, $777,431,486\\n]', '[2., Captain Marvel, $425,305,703\\n]', '[3., Us, Universal, $174,720,910\\n]', '[4., How to Train Your Dragon: The Hidden World, $160,379,270\\n]', '[5., Shazam!, Warner Bros., $138,162,595\\n]', '[6., Dumbo, Disney, $111,600,148\\n]', '[7., Glass, Universal, $111,035,005\\n]', '[8., The Upside, STX Entertainment, $108,252,517\\n]', '[9., The Lego Movie 2: The Second Part, Warner Bros., $105,806,508\\n]', '[10., Pokémon Detective Pikachu, $99,547,694\\n]', '[G, Apollo 11\\n]', '[PG, How to Train Your Dragon: The Hidden World\\n]', '[PG-13, Avengers: Endgame\\n]', '[R, Us\\n]', '[NC-17, N/A\\n]', '[]', '[Argentina\\n2003\\n2016\\n2017\\n2018\\n2019\\nBrazil\\n2007\\n2008\\n2009\\n2010\\n2016\\n2017\\n2018\\n2019\\nCanada\\n2002\\n2003\\n2004\\n2005\\n2006\\n2007\\n2008\\n2009\\n2010\\nChile\\n2007\\n2008\\n2009\\nColombia\\n2011\\n2016\\n2017\\n2018\\n2019\\nEcuador\\n2009\\n2010\\n2011\\n2012\\nMexico (Mexican)\\n2002\\n2003\\n2004\\n2007\\n2008\\n2009\\n2010\\n2011\\n2012\\n2013\\n2014\\n2015\\n2016\\n2017\\n2018\\n2019\\nParaguay\\n2019\\nUnited States(Records)\\n1982\\n1983\\n1984\\n1985\\n1986\\n1987\\n1988\\n1989\\n1990\\n1991\\n1992\\n1993\\n1994\\n1995\\n1996\\n1997\\n1998\\n1999\\n2000\\n2001\\n2002\\n2003\\n2004\\n2005\\n2006\\n2007\\n2008\\n2009\\n2010\\n2011\\n2012\\n2013\\n2014\\n2015\\n2016\\n2017\\n2018\\n2019\\nVenezuela\\n2009\\n2010\\n2011\\n2012\\n2013\\n2014\\n2015\\n2016\\n, \\n2003\\n2016\\n2017\\n2018\\n2019\\n, \\n2007\\n2008\\n2009\\n2010\\n2016\\n2017\\n2018\\n2019\\n, \\n2002\\n2003\\n2004\\n2005\\n2006\\n2007\\n2008\\n2009\\n2010\\n, \\n2007\\n2008\\n2009\\n, \\n2011\\n2016\\n2017\\n2018\\n2019\\n, \\n2009\\n2010\\n2011\\n2012\\n, \\n2002\\n2003\\n2004\\n2007\\n2008\\n2009\\n2010\\n2011\\n2012\\n2013\\n2014\\n2015\\n2016\\n2017\\n2018\\n2019\\n, \\n2019\\n, \\n1982\\n1983\\n1984\\n1985\\n1986\\n1987\\n1988\\n1989\\n1990\\n1991\\n1992\\n1993\\n1994\\n1995\\n1996\\n1997\\n1998\\n1999\\n2000\\n2001\\n2002\\n2003\\n2004\\n2005\\n2006\\n2007\\n2008\\n2009\\n2010\\n2011\\n2012\\n2013\\n2014\\n2015\\n2016\\n2017\\n2018\\n2019\\n, \\n2009\\n2010\\n2011\\n2012\\n2013\\n2014\\n2015\\n2016\\n]', '[\\n2003\\n2016\\n2017\\n2018\\n2019\\n]', '[\\n2007\\n2008\\n2009\\n2010\\n2016\\n2017\\n2018\\n2019\\n]', '[\\n2002\\n2003\\n2004\\n2005\\n2006\\n2007\\n2008\\n2009\\n2010\\n]', '[\\n2007\\n2008\\n2009\\n]', '[\\n2011\\n2016\\n2017\\n2018\\n2019\\n]', '[\\n2009\\n2010\\n2011\\n2012\\n]', '[\\n2002\\n2003\\n2004\\n2007\\n2008\\n2009\\n2010\\n2011\\n2012\\n2013\\n2014\\n2015\\n2016\\n2017\\n2018\\n2019\\n]', '[\\n2019\\n]', '[\\n1982\\n1983\\n1984\\n1985\\n1986\\n1987\\n1988\\n1989\\n1990\\n1991\\n1992\\n1993\\n1994\\n1995\\n1996\\n1997\\n1998\\n1999\\n2000\\n2001\\n2002\\n2003\\n2004\\n2005\\n2006\\n2007\\n2008\\n2009\\n2010\\n2011\\n2012\\n2013\\n2014\\n2015\\n2016\\n2017\\n2018\\n2019\\n]', '[\\n2009\\n2010\\n2011\\n2012\\n2013\\n2014\\n2015\\n2016\\n]', '[Australia\\n1997\\n1998\\n1999\\n2000\\n2001\\n2002\\n2003\\n2004\\n2005\\n2006\\n2007\\n2008\\n2009\\n2010\\n2011\\n2012\\n2013\\n2014\\n2015\\n2016\\n2017\\n2018\\n2019\\nChina (Hong Kong)\\n2013\\n2014\\n2015\\n2016\\n2017\\n2018\\n2019\\nIndia\\nIndian\\noverseas\\nBengali\\nHindi\\nTelugu\\nJapan\\n2005\\n2006\\n2007\\n2008\\n2009\\n2010\\n2011\\n2012\\n2013\\n2014\\n2015\\n2016\\n2017\\n2018\\n2019\\nPhilippines (Filipino)\\n2008\\n2009\\n2010\\n2011\\n2012\\n2013\\n2014\\n2015\\nSouth Korea\\n2006\\n2007\\n2008\\n2009\\n2010\\n2011\\n2012\\n2013\\n2014\\n2015\\n2016\\n2017\\n2018\\n2019\\nTaiwan\\n2014\\n2016\\n2017\\n2018\\n2019\\nTaipei\\n2016\\n2017\\n2018\\n2019\\nThailand\\n2015\\n2016\\n2017\\n2018\\n2019\\n, \\n1997\\n1998\\n1999\\n2000\\n2001\\n2002\\n2003\\n2004\\n2005\\n2006\\n2007\\n2008\\n2009\\n2010\\n2011\\n2012\\n2013\\n2014\\n2015\\n2016\\n2017\\n2018\\n2019\\n, \\n2013\\n2014\\n2015\\n2016\\n2017\\n2018\\n2019\\n, \\nIndian\\noverseas\\nBengali\\nHindi\\nTelugu\\n, \\n2005\\n2006\\n2007\\n2008\\n2009\\n2010\\n2011\\n2012\\n2013\\n2014\\n2015\\n2016\\n2017\\n2018\\n2019\\n, \\n2008\\n2009\\n2010\\n2011\\n2012\\n2013\\n2014\\n2015\\n, \\n2006\\n2007\\n2008\\n2009\\n2010\\n2011\\n2012\\n2013\\n2014\\n2015\\n2016\\n2017\\n2018\\n2019\\n, \\n2014\\n2016\\n2017\\n2018\\n2019\\nTaipei\\n2016\\n2017\\n2018\\n2019\\n, \\n2014\\n2016\\n2017\\n2018\\n2019\\n, \\n2016\\n2017\\n2018\\n2019\\n, \\n2015\\n2016\\n2017\\n2018\\n2019\\n]', '[\\n1997\\n1998\\n1999\\n2000\\n2001\\n2002\\n2003\\n2004\\n2005\\n2006\\n2007\\n2008\\n2009\\n2010\\n2011\\n2012\\n2013\\n2014\\n2015\\n2016\\n2017\\n2018\\n2019\\n]', '[\\n2013\\n2014\\n2015\\n2016\\n2017\\n2018\\n2019\\n]', '[\\nIndian\\noverseas\\nBengali\\nHindi\\nTelugu\\n]', '[\\n2005\\n2006\\n2007\\n2008\\n2009\\n2010\\n2011\\n2012\\n2013\\n2014\\n2015\\n2016\\n2017\\n2018\\n2019\\n]', '[\\n2008\\n2009\\n2010\\n2011\\n2012\\n2013\\n2014\\n2015\\n]', '[\\n2006\\n2007\\n2008\\n2009\\n2010\\n2011\\n2012\\n2013\\n2014\\n2015\\n2016\\n2017\\n2018\\n2019\\n]', '[\\n2014\\n2016\\n2017\\n2018\\n2019\\nTaipei\\n2016\\n2017\\n2018\\n2019\\n, \\n2014\\n2016\\n2017\\n2018\\n2019\\n, \\n2016\\n2017\\n2018\\n2019\\n]', '[\\n2014\\n2016\\n2017\\n2018\\n2019\\n]', '[\\n2016\\n2017\\n2018\\n2019\\n]', '[\\n2015\\n2016\\n2017\\n2018\\n2019\\n]', '[Belgium\\n2007\\n2008\\n2009\\n2017\\n2018\\n2019\\nFrance\\n2011\\n2012\\n2013\\n2014\\n2015\\n2016\\n2017\\n2018\\n2019\\nGreece (Greek)\\n2013\\nIreland\\n2011\\nItaly\\n2009\\n2010\\n2011\\n2012\\n2013\\n2016\\n2017\\n2018\\n2019\\nNetherlands\\n2009\\nSee also\\nCrystal Films\\nGolden Films\\nPlatinum Films\\nDiamond Films\\nPoland\\n2010\\n2011\\n2013\\nRomania\\n2008\\n2009\\n2010\\n2011\\n2012\\n2013\\n2014\\n2015\\n2016\\n2017\\n2018\\n2019\\nSpain\\n2007\\n2008\\n2009\\n2010\\n2011\\n2012\\n2013\\n2014\\n2015\\n2016\\n2017\\n2018\\n2019\\nTurkey\\n2011\\n2012\\n2013\\n2014\\n2015\\n2016\\n2017\\n2018\\n2019\\nUnited Kingdom\\n1991\\n1992\\n1993\\n1994\\n1995\\n1996\\n1997\\n1998\\n1999\\n2000\\n2001\\n2002\\n2003\\n2004\\n2005\\n2006\\n2007\\n2008\\n2009\\n2010\\n2011\\n2012\\n2013\\n2014\\n2015\\n2016\\n2017\\n2018\\n2019\\n, \\n2007\\n2008\\n2009\\n2017\\n2018\\n2019\\n, \\n2011\\n2012\\n2013\\n2014\\n2015\\n2016\\n2017\\n2018\\n2019\\n, \\n2013\\n, \\n2011\\n, \\n2009\\n2010\\n2011\\n2012\\n2013\\n2016\\n2017\\n2018\\n2019\\n, \\n2009\\nSee also\\nCrystal Films\\nGolden Films\\nPlatinum Films\\nDiamond Films\\n, \\n2009\\n, \\nCrystal Films\\nGolden Films\\nPlatinum Films\\nDiamond Films\\n, \\n2010\\n2011\\n2013\\n, \\n2008\\n2009\\n2010\\n2011\\n2012\\n2013\\n2014\\n2015\\n2016\\n2017\\n2018\\n2019\\n, \\n2007\\n2008\\n2009\\n2010\\n2011\\n2012\\n2013\\n2014\\n2015\\n2016\\n2017\\n2018\\n2019\\n, \\n2011\\n2012\\n2013\\n2014\\n2015\\n2016\\n2017\\n2018\\n2019\\n, \\n1991\\n1992\\n1993\\n1994\\n1995\\n1996\\n1997\\n1998\\n1999\\n2000\\n2001\\n2002\\n2003\\n2004\\n2005\\n2006\\n2007\\n2008\\n2009\\n2010\\n2011\\n2012\\n2013\\n2014\\n2015\\n2016\\n2017\\n2018\\n2019\\n]', '[\\n2007\\n2008\\n2009\\n2017\\n2018\\n2019\\n]', '[\\n2011\\n2012\\n2013\\n2014\\n2015\\n2016\\n2017\\n2018\\n2019\\n]', '[\\n2013\\n]', '[\\n2011\\n]', '[\\n2009\\n2010\\n2011\\n2012\\n2013\\n2016\\n2017\\n2018\\n2019\\n]', '[\\n2009\\nSee also\\nCrystal Films\\nGolden Films\\nPlatinum Films\\nDiamond Films\\n, \\n2009\\n, \\nCrystal Films\\nGolden Films\\nPlatinum Films\\nDiamond Films\\n]', '[\\n2009\\n]', '[\\nCrystal Films\\nGolden Films\\nPlatinum Films\\nDiamond Films\\n]', '[\\n2010\\n2011\\n2013\\n]', '[\\n2008\\n2009\\n2010\\n2011\\n2012\\n2013\\n2014\\n2015\\n2016\\n2017\\n2018\\n2019\\n]', '[\\n2007\\n2008\\n2009\\n2010\\n2011\\n2012\\n2013\\n2014\\n2015\\n2016\\n2017\\n2018\\n2019\\n]', '[\\n2011\\n2012\\n2013\\n2014\\n2015\\n2016\\n2017\\n2018\\n2019\\n]', '[\\n1991\\n1992\\n1993\\n1994\\n1995\\n1996\\n1997\\n1998\\n1999\\n2000\\n2001\\n2002\\n2003\\n2004\\n2005\\n2006\\n2007\\n2008\\n2009\\n2010\\n2011\\n2012\\n2013\\n2014\\n2015\\n2016\\n2017\\n2018\\n2019\\n]', '[ Category]']\n"
          ],
          "name": "stdout"
        }
      ]
    },
    {
      "cell_type": "code",
      "metadata": {
        "id": "8YtXTHdPoQJ_",
        "colab_type": "code",
        "outputId": "b213419b-b10f-4930-94d0-f4ebdccbf33b",
        "colab": {
          "base_uri": "https://localhost:8080/",
          "height": 204
        }
      },
      "source": [
        "#Create dataframe from output\n",
        "\n",
        "df = pd.DataFrame(list_trows)\n",
        "df.head(5)"
      ],
      "execution_count": 81,
      "outputs": [
        {
          "output_type": "execute_result",
          "data": {
            "text/html": [
              "<div>\n",
              "<style scoped>\n",
              "    .dataframe tbody tr th:only-of-type {\n",
              "        vertical-align: middle;\n",
              "    }\n",
              "\n",
              "    .dataframe tbody tr th {\n",
              "        vertical-align: top;\n",
              "    }\n",
              "\n",
              "    .dataframe thead th {\n",
              "        text-align: right;\n",
              "    }\n",
              "</style>\n",
              "<table border=\"1\" class=\"dataframe\">\n",
              "  <thead>\n",
              "    <tr style=\"text-align: right;\">\n",
              "      <th></th>\n",
              "      <th>0</th>\n",
              "    </tr>\n",
              "  </thead>\n",
              "  <tbody>\n",
              "    <tr>\n",
              "      <th>0</th>\n",
              "      <td>[]</td>\n",
              "    </tr>\n",
              "    <tr>\n",
              "      <th>1</th>\n",
              "      <td>[1, January 6, 2019, Aquaman, $31,003,280, Aqu...</td>\n",
              "    </tr>\n",
              "    <tr>\n",
              "      <th>2</th>\n",
              "      <td>[2, January 13, 2019, The Upside, $20,355,000,...</td>\n",
              "    </tr>\n",
              "    <tr>\n",
              "      <th>3</th>\n",
              "      <td>[3, January 20, 2019, Glass, $40,328,920, \\n]</td>\n",
              "    </tr>\n",
              "    <tr>\n",
              "      <th>4</th>\n",
              "      <td>[4, January 27, 2019, Glass, $18,884,440, Duri...</td>\n",
              "    </tr>\n",
              "  </tbody>\n",
              "</table>\n",
              "</div>"
            ],
            "text/plain": [
              "                                                   0\n",
              "0                                                 []\n",
              "1  [1, January 6, 2019, Aquaman, $31,003,280, Aqu...\n",
              "2  [2, January 13, 2019, The Upside, $20,355,000,...\n",
              "3      [3, January 20, 2019, Glass, $40,328,920, \\n]\n",
              "4  [4, January 27, 2019, Glass, $18,884,440, Duri..."
            ]
          },
          "metadata": {
            "tags": []
          },
          "execution_count": 81
        }
      ]
    },
    {
      "cell_type": "code",
      "metadata": {
        "id": "2iPYABfqoQKL",
        "colab_type": "code",
        "outputId": "b6be9b65-269a-4868-9095-cea6bc4df8f6",
        "colab": {
          "base_uri": "https://localhost:8080/",
          "height": 597
        }
      },
      "source": [
        "#split data on ',' \n",
        "\n",
        "df = df[0].str.split(',', expand=True)\n",
        "df.head(10)"
      ],
      "execution_count": 82,
      "outputs": [
        {
          "output_type": "execute_result",
          "data": {
            "text/html": [
              "<div>\n",
              "<style scoped>\n",
              "    .dataframe tbody tr th:only-of-type {\n",
              "        vertical-align: middle;\n",
              "    }\n",
              "\n",
              "    .dataframe tbody tr th {\n",
              "        vertical-align: top;\n",
              "    }\n",
              "\n",
              "    .dataframe thead th {\n",
              "        text-align: right;\n",
              "    }\n",
              "</style>\n",
              "<table border=\"1\" class=\"dataframe\">\n",
              "  <thead>\n",
              "    <tr style=\"text-align: right;\">\n",
              "      <th></th>\n",
              "      <th>0</th>\n",
              "      <th>1</th>\n",
              "      <th>2</th>\n",
              "      <th>3</th>\n",
              "      <th>4</th>\n",
              "      <th>5</th>\n",
              "      <th>6</th>\n",
              "      <th>7</th>\n",
              "      <th>8</th>\n",
              "      <th>9</th>\n",
              "      <th>10</th>\n",
              "      <th>11</th>\n",
              "      <th>12</th>\n",
              "      <th>13</th>\n",
              "    </tr>\n",
              "  </thead>\n",
              "  <tbody>\n",
              "    <tr>\n",
              "      <th>0</th>\n",
              "      <td>[]</td>\n",
              "      <td>None</td>\n",
              "      <td>None</td>\n",
              "      <td>None</td>\n",
              "      <td>None</td>\n",
              "      <td>None</td>\n",
              "      <td>None</td>\n",
              "      <td>None</td>\n",
              "      <td>None</td>\n",
              "      <td>None</td>\n",
              "      <td>None</td>\n",
              "      <td>None</td>\n",
              "      <td>None</td>\n",
              "      <td>None</td>\n",
              "    </tr>\n",
              "    <tr>\n",
              "      <th>1</th>\n",
              "      <td>[1</td>\n",
              "      <td>January 6</td>\n",
              "      <td>2019</td>\n",
              "      <td>Aquaman</td>\n",
              "      <td>$31</td>\n",
              "      <td>003</td>\n",
              "      <td>280</td>\n",
              "      <td>Aquaman's worldwide gross ($940 million) surp...</td>\n",
              "      <td>None</td>\n",
              "      <td>None</td>\n",
              "      <td>None</td>\n",
              "      <td>None</td>\n",
              "      <td>None</td>\n",
              "      <td>None</td>\n",
              "    </tr>\n",
              "    <tr>\n",
              "      <th>2</th>\n",
              "      <td>[2</td>\n",
              "      <td>January 13</td>\n",
              "      <td>2019</td>\n",
              "      <td>The Upside</td>\n",
              "      <td>$20</td>\n",
              "      <td>355</td>\n",
              "      <td>000</td>\n",
              "      <td>Aquaman became the first film in the DC Exten...</td>\n",
              "      <td>None</td>\n",
              "      <td>None</td>\n",
              "      <td>None</td>\n",
              "      <td>None</td>\n",
              "      <td>None</td>\n",
              "      <td>None</td>\n",
              "    </tr>\n",
              "    <tr>\n",
              "      <th>3</th>\n",
              "      <td>[3</td>\n",
              "      <td>January 20</td>\n",
              "      <td>2019</td>\n",
              "      <td>Glass</td>\n",
              "      <td>$40</td>\n",
              "      <td>328</td>\n",
              "      <td>920</td>\n",
              "      <td>\\n]</td>\n",
              "      <td>None</td>\n",
              "      <td>None</td>\n",
              "      <td>None</td>\n",
              "      <td>None</td>\n",
              "      <td>None</td>\n",
              "      <td>None</td>\n",
              "    </tr>\n",
              "    <tr>\n",
              "      <th>4</th>\n",
              "      <td>[4</td>\n",
              "      <td>January 27</td>\n",
              "      <td>2019</td>\n",
              "      <td>Glass</td>\n",
              "      <td>$18</td>\n",
              "      <td>884</td>\n",
              "      <td>440</td>\n",
              "      <td>During the weekend</td>\n",
              "      <td>Aquaman's worldwide total ($1.091 billion) su...</td>\n",
              "      <td>084.9 billion) as the all-time highest-grossin...</td>\n",
              "      <td>None</td>\n",
              "      <td>None</td>\n",
              "      <td>None</td>\n",
              "      <td>None</td>\n",
              "    </tr>\n",
              "    <tr>\n",
              "      <th>5</th>\n",
              "      <td>[5</td>\n",
              "      <td>February 3</td>\n",
              "      <td>2019</td>\n",
              "      <td>Glass</td>\n",
              "      <td>$9</td>\n",
              "      <td>548</td>\n",
              "      <td>795</td>\n",
              "      <td>Glass became the first film in 2019 to top th...</td>\n",
              "      <td>None</td>\n",
              "      <td>None</td>\n",
              "      <td>None</td>\n",
              "      <td>None</td>\n",
              "      <td>None</td>\n",
              "      <td>None</td>\n",
              "    </tr>\n",
              "    <tr>\n",
              "      <th>6</th>\n",
              "      <td>[6</td>\n",
              "      <td>February 10</td>\n",
              "      <td>2019</td>\n",
              "      <td>The Lego Movie 2: The Second Part</td>\n",
              "      <td>$34</td>\n",
              "      <td>115</td>\n",
              "      <td>335</td>\n",
              "      <td>\\n]</td>\n",
              "      <td>None</td>\n",
              "      <td>None</td>\n",
              "      <td>None</td>\n",
              "      <td>None</td>\n",
              "      <td>None</td>\n",
              "      <td>None</td>\n",
              "    </tr>\n",
              "    <tr>\n",
              "      <th>7</th>\n",
              "      <td>[7</td>\n",
              "      <td>February 17</td>\n",
              "      <td>2019</td>\n",
              "      <td>Alita: Battle Angel</td>\n",
              "      <td>$28</td>\n",
              "      <td>525</td>\n",
              "      <td>613</td>\n",
              "      <td>\\n]</td>\n",
              "      <td>None</td>\n",
              "      <td>None</td>\n",
              "      <td>None</td>\n",
              "      <td>None</td>\n",
              "      <td>None</td>\n",
              "      <td>None</td>\n",
              "    </tr>\n",
              "    <tr>\n",
              "      <th>8</th>\n",
              "      <td>[8</td>\n",
              "      <td>February 24</td>\n",
              "      <td>2019</td>\n",
              "      <td>How to Train Your Dragon: The Hidden World</td>\n",
              "      <td>$55</td>\n",
              "      <td>022</td>\n",
              "      <td>245</td>\n",
              "      <td>\\n]</td>\n",
              "      <td>None</td>\n",
              "      <td>None</td>\n",
              "      <td>None</td>\n",
              "      <td>None</td>\n",
              "      <td>None</td>\n",
              "      <td>None</td>\n",
              "    </tr>\n",
              "    <tr>\n",
              "      <th>9</th>\n",
              "      <td>[9</td>\n",
              "      <td>March 3</td>\n",
              "      <td>2019</td>\n",
              "      <td>How to Train Your Dragon: The Hidden World</td>\n",
              "      <td>$30</td>\n",
              "      <td>028</td>\n",
              "      <td>540</td>\n",
              "      <td>\\n]</td>\n",
              "      <td>None</td>\n",
              "      <td>None</td>\n",
              "      <td>None</td>\n",
              "      <td>None</td>\n",
              "      <td>None</td>\n",
              "      <td>None</td>\n",
              "    </tr>\n",
              "  </tbody>\n",
              "</table>\n",
              "</div>"
            ],
            "text/plain": [
              "   0             1      2   ...    11    12    13\n",
              "0  []          None   None  ...  None  None  None\n",
              "1  [1     January 6   2019  ...  None  None  None\n",
              "2  [2    January 13   2019  ...  None  None  None\n",
              "3  [3    January 20   2019  ...  None  None  None\n",
              "4  [4    January 27   2019  ...  None  None  None\n",
              "5  [5    February 3   2019  ...  None  None  None\n",
              "6  [6   February 10   2019  ...  None  None  None\n",
              "7  [7   February 17   2019  ...  None  None  None\n",
              "8  [8   February 24   2019  ...  None  None  None\n",
              "9  [9       March 3   2019  ...  None  None  None\n",
              "\n",
              "[10 rows x 14 columns]"
            ]
          },
          "metadata": {
            "tags": []
          },
          "execution_count": 82
        }
      ]
    },
    {
      "cell_type": "code",
      "metadata": {
        "id": "fcKPU6QatCLi",
        "colab_type": "code",
        "colab": {
          "base_uri": "https://localhost:8080/",
          "height": 289
        },
        "outputId": "e328dd83-b22e-4f7d-e6c9-4158cca65936"
      },
      "source": [
        "# drop first row and first column\n",
        "df = df.drop(0, axis=1)\n",
        "df = df.drop(0, axis=0)\n",
        "df.head()"
      ],
      "execution_count": 83,
      "outputs": [
        {
          "output_type": "execute_result",
          "data": {
            "text/html": [
              "<div>\n",
              "<style scoped>\n",
              "    .dataframe tbody tr th:only-of-type {\n",
              "        vertical-align: middle;\n",
              "    }\n",
              "\n",
              "    .dataframe tbody tr th {\n",
              "        vertical-align: top;\n",
              "    }\n",
              "\n",
              "    .dataframe thead th {\n",
              "        text-align: right;\n",
              "    }\n",
              "</style>\n",
              "<table border=\"1\" class=\"dataframe\">\n",
              "  <thead>\n",
              "    <tr style=\"text-align: right;\">\n",
              "      <th></th>\n",
              "      <th>1</th>\n",
              "      <th>2</th>\n",
              "      <th>3</th>\n",
              "      <th>4</th>\n",
              "      <th>5</th>\n",
              "      <th>6</th>\n",
              "      <th>7</th>\n",
              "      <th>8</th>\n",
              "      <th>9</th>\n",
              "      <th>10</th>\n",
              "      <th>11</th>\n",
              "      <th>12</th>\n",
              "      <th>13</th>\n",
              "    </tr>\n",
              "  </thead>\n",
              "  <tbody>\n",
              "    <tr>\n",
              "      <th>1</th>\n",
              "      <td>January 6</td>\n",
              "      <td>2019</td>\n",
              "      <td>Aquaman</td>\n",
              "      <td>$31</td>\n",
              "      <td>003</td>\n",
              "      <td>280</td>\n",
              "      <td>Aquaman's worldwide gross ($940 million) surp...</td>\n",
              "      <td>None</td>\n",
              "      <td>None</td>\n",
              "      <td>None</td>\n",
              "      <td>None</td>\n",
              "      <td>None</td>\n",
              "      <td>None</td>\n",
              "    </tr>\n",
              "    <tr>\n",
              "      <th>2</th>\n",
              "      <td>January 13</td>\n",
              "      <td>2019</td>\n",
              "      <td>The Upside</td>\n",
              "      <td>$20</td>\n",
              "      <td>355</td>\n",
              "      <td>000</td>\n",
              "      <td>Aquaman became the first film in the DC Exten...</td>\n",
              "      <td>None</td>\n",
              "      <td>None</td>\n",
              "      <td>None</td>\n",
              "      <td>None</td>\n",
              "      <td>None</td>\n",
              "      <td>None</td>\n",
              "    </tr>\n",
              "    <tr>\n",
              "      <th>3</th>\n",
              "      <td>January 20</td>\n",
              "      <td>2019</td>\n",
              "      <td>Glass</td>\n",
              "      <td>$40</td>\n",
              "      <td>328</td>\n",
              "      <td>920</td>\n",
              "      <td>\\n]</td>\n",
              "      <td>None</td>\n",
              "      <td>None</td>\n",
              "      <td>None</td>\n",
              "      <td>None</td>\n",
              "      <td>None</td>\n",
              "      <td>None</td>\n",
              "    </tr>\n",
              "    <tr>\n",
              "      <th>4</th>\n",
              "      <td>January 27</td>\n",
              "      <td>2019</td>\n",
              "      <td>Glass</td>\n",
              "      <td>$18</td>\n",
              "      <td>884</td>\n",
              "      <td>440</td>\n",
              "      <td>During the weekend</td>\n",
              "      <td>Aquaman's worldwide total ($1.091 billion) su...</td>\n",
              "      <td>084.9 billion) as the all-time highest-grossin...</td>\n",
              "      <td>None</td>\n",
              "      <td>None</td>\n",
              "      <td>None</td>\n",
              "      <td>None</td>\n",
              "    </tr>\n",
              "    <tr>\n",
              "      <th>5</th>\n",
              "      <td>February 3</td>\n",
              "      <td>2019</td>\n",
              "      <td>Glass</td>\n",
              "      <td>$9</td>\n",
              "      <td>548</td>\n",
              "      <td>795</td>\n",
              "      <td>Glass became the first film in 2019 to top th...</td>\n",
              "      <td>None</td>\n",
              "      <td>None</td>\n",
              "      <td>None</td>\n",
              "      <td>None</td>\n",
              "      <td>None</td>\n",
              "      <td>None</td>\n",
              "    </tr>\n",
              "  </tbody>\n",
              "</table>\n",
              "</div>"
            ],
            "text/plain": [
              "            1      2            3     4   ...    10    11    12    13\n",
              "1    January 6   2019      Aquaman   $31  ...  None  None  None  None\n",
              "2   January 13   2019   The Upside   $20  ...  None  None  None  None\n",
              "3   January 20   2019        Glass   $40  ...  None  None  None  None\n",
              "4   January 27   2019        Glass   $18  ...  None  None  None  None\n",
              "5   February 3   2019        Glass    $9  ...  None  None  None  None\n",
              "\n",
              "[5 rows x 13 columns]"
            ]
          },
          "metadata": {
            "tags": []
          },
          "execution_count": 83
        }
      ]
    },
    {
      "cell_type": "code",
      "metadata": {
        "id": "MG-lY2s4ts8v",
        "colab_type": "code",
        "colab": {
          "base_uri": "https://localhost:8080/",
          "height": 359
        },
        "outputId": "7cf48147-e93b-4f92-86c1-1882de17ac55"
      },
      "source": [
        "#split data on ' ' \n",
        "\n",
        "df_date = df[1].str.split(' ', expand=True)\n",
        "df_date = df_date.iloc[:,[1,2]]\n",
        "df_date.columns = ['month', 'day']\n",
        "df_date.head(10)"
      ],
      "execution_count": 84,
      "outputs": [
        {
          "output_type": "execute_result",
          "data": {
            "text/html": [
              "<div>\n",
              "<style scoped>\n",
              "    .dataframe tbody tr th:only-of-type {\n",
              "        vertical-align: middle;\n",
              "    }\n",
              "\n",
              "    .dataframe tbody tr th {\n",
              "        vertical-align: top;\n",
              "    }\n",
              "\n",
              "    .dataframe thead th {\n",
              "        text-align: right;\n",
              "    }\n",
              "</style>\n",
              "<table border=\"1\" class=\"dataframe\">\n",
              "  <thead>\n",
              "    <tr style=\"text-align: right;\">\n",
              "      <th></th>\n",
              "      <th>month</th>\n",
              "      <th>day</th>\n",
              "    </tr>\n",
              "  </thead>\n",
              "  <tbody>\n",
              "    <tr>\n",
              "      <th>1</th>\n",
              "      <td>January</td>\n",
              "      <td>6</td>\n",
              "    </tr>\n",
              "    <tr>\n",
              "      <th>2</th>\n",
              "      <td>January</td>\n",
              "      <td>13</td>\n",
              "    </tr>\n",
              "    <tr>\n",
              "      <th>3</th>\n",
              "      <td>January</td>\n",
              "      <td>20</td>\n",
              "    </tr>\n",
              "    <tr>\n",
              "      <th>4</th>\n",
              "      <td>January</td>\n",
              "      <td>27</td>\n",
              "    </tr>\n",
              "    <tr>\n",
              "      <th>5</th>\n",
              "      <td>February</td>\n",
              "      <td>3</td>\n",
              "    </tr>\n",
              "    <tr>\n",
              "      <th>6</th>\n",
              "      <td>February</td>\n",
              "      <td>10</td>\n",
              "    </tr>\n",
              "    <tr>\n",
              "      <th>7</th>\n",
              "      <td>February</td>\n",
              "      <td>17</td>\n",
              "    </tr>\n",
              "    <tr>\n",
              "      <th>8</th>\n",
              "      <td>February</td>\n",
              "      <td>24</td>\n",
              "    </tr>\n",
              "    <tr>\n",
              "      <th>9</th>\n",
              "      <td>March</td>\n",
              "      <td>3</td>\n",
              "    </tr>\n",
              "    <tr>\n",
              "      <th>10</th>\n",
              "      <td>March</td>\n",
              "      <td>10</td>\n",
              "    </tr>\n",
              "  </tbody>\n",
              "</table>\n",
              "</div>"
            ],
            "text/plain": [
              "       month day\n",
              "1    January   6\n",
              "2    January  13\n",
              "3    January  20\n",
              "4    January  27\n",
              "5   February   3\n",
              "6   February  10\n",
              "7   February  17\n",
              "8   February  24\n",
              "9      March   3\n",
              "10     March  10"
            ]
          },
          "metadata": {
            "tags": []
          },
          "execution_count": 84
        }
      ]
    },
    {
      "cell_type": "code",
      "metadata": {
        "id": "npJam9ALvbsR",
        "colab_type": "code",
        "colab": {
          "base_uri": "https://localhost:8080/",
          "height": 272
        },
        "outputId": "478e671d-1294-4230-c634-be8b4c8a8878"
      },
      "source": [
        "df = df.drop(1, axis=1)\n",
        "df[['month', 'day']] = df_date[['month', 'day']]\n",
        "#df = df_date + df\n",
        "df.head()"
      ],
      "execution_count": 85,
      "outputs": [
        {
          "output_type": "execute_result",
          "data": {
            "text/html": [
              "<div>\n",
              "<style scoped>\n",
              "    .dataframe tbody tr th:only-of-type {\n",
              "        vertical-align: middle;\n",
              "    }\n",
              "\n",
              "    .dataframe tbody tr th {\n",
              "        vertical-align: top;\n",
              "    }\n",
              "\n",
              "    .dataframe thead th {\n",
              "        text-align: right;\n",
              "    }\n",
              "</style>\n",
              "<table border=\"1\" class=\"dataframe\">\n",
              "  <thead>\n",
              "    <tr style=\"text-align: right;\">\n",
              "      <th></th>\n",
              "      <th>2</th>\n",
              "      <th>3</th>\n",
              "      <th>4</th>\n",
              "      <th>5</th>\n",
              "      <th>6</th>\n",
              "      <th>7</th>\n",
              "      <th>8</th>\n",
              "      <th>9</th>\n",
              "      <th>10</th>\n",
              "      <th>11</th>\n",
              "      <th>12</th>\n",
              "      <th>13</th>\n",
              "      <th>month</th>\n",
              "      <th>day</th>\n",
              "    </tr>\n",
              "  </thead>\n",
              "  <tbody>\n",
              "    <tr>\n",
              "      <th>1</th>\n",
              "      <td>2019</td>\n",
              "      <td>Aquaman</td>\n",
              "      <td>$31</td>\n",
              "      <td>003</td>\n",
              "      <td>280</td>\n",
              "      <td>Aquaman's worldwide gross ($940 million) surp...</td>\n",
              "      <td>None</td>\n",
              "      <td>None</td>\n",
              "      <td>None</td>\n",
              "      <td>None</td>\n",
              "      <td>None</td>\n",
              "      <td>None</td>\n",
              "      <td>January</td>\n",
              "      <td>6</td>\n",
              "    </tr>\n",
              "    <tr>\n",
              "      <th>2</th>\n",
              "      <td>2019</td>\n",
              "      <td>The Upside</td>\n",
              "      <td>$20</td>\n",
              "      <td>355</td>\n",
              "      <td>000</td>\n",
              "      <td>Aquaman became the first film in the DC Exten...</td>\n",
              "      <td>None</td>\n",
              "      <td>None</td>\n",
              "      <td>None</td>\n",
              "      <td>None</td>\n",
              "      <td>None</td>\n",
              "      <td>None</td>\n",
              "      <td>January</td>\n",
              "      <td>13</td>\n",
              "    </tr>\n",
              "    <tr>\n",
              "      <th>3</th>\n",
              "      <td>2019</td>\n",
              "      <td>Glass</td>\n",
              "      <td>$40</td>\n",
              "      <td>328</td>\n",
              "      <td>920</td>\n",
              "      <td>\\n]</td>\n",
              "      <td>None</td>\n",
              "      <td>None</td>\n",
              "      <td>None</td>\n",
              "      <td>None</td>\n",
              "      <td>None</td>\n",
              "      <td>None</td>\n",
              "      <td>January</td>\n",
              "      <td>20</td>\n",
              "    </tr>\n",
              "    <tr>\n",
              "      <th>4</th>\n",
              "      <td>2019</td>\n",
              "      <td>Glass</td>\n",
              "      <td>$18</td>\n",
              "      <td>884</td>\n",
              "      <td>440</td>\n",
              "      <td>During the weekend</td>\n",
              "      <td>Aquaman's worldwide total ($1.091 billion) su...</td>\n",
              "      <td>084.9 billion) as the all-time highest-grossin...</td>\n",
              "      <td>None</td>\n",
              "      <td>None</td>\n",
              "      <td>None</td>\n",
              "      <td>None</td>\n",
              "      <td>January</td>\n",
              "      <td>27</td>\n",
              "    </tr>\n",
              "    <tr>\n",
              "      <th>5</th>\n",
              "      <td>2019</td>\n",
              "      <td>Glass</td>\n",
              "      <td>$9</td>\n",
              "      <td>548</td>\n",
              "      <td>795</td>\n",
              "      <td>Glass became the first film in 2019 to top th...</td>\n",
              "      <td>None</td>\n",
              "      <td>None</td>\n",
              "      <td>None</td>\n",
              "      <td>None</td>\n",
              "      <td>None</td>\n",
              "      <td>None</td>\n",
              "      <td>February</td>\n",
              "      <td>3</td>\n",
              "    </tr>\n",
              "  </tbody>\n",
              "</table>\n",
              "</div>"
            ],
            "text/plain": [
              "       2            3     4    5    6  ...    11    12    13     month day\n",
              "1   2019      Aquaman   $31  003  280  ...  None  None  None   January   6\n",
              "2   2019   The Upside   $20  355  000  ...  None  None  None   January  13\n",
              "3   2019        Glass   $40  328  920  ...  None  None  None   January  20\n",
              "4   2019        Glass   $18  884  440  ...  None  None  None   January  27\n",
              "5   2019        Glass    $9  548  795  ...  None  None  None  February   3\n",
              "\n",
              "[5 rows x 14 columns]"
            ]
          },
          "metadata": {
            "tags": []
          },
          "execution_count": 85
        }
      ]
    },
    {
      "cell_type": "code",
      "metadata": {
        "id": "ayfmN9ufvnVG",
        "colab_type": "code",
        "colab": {
          "base_uri": "https://localhost:8080/",
          "height": 272
        },
        "outputId": "81864fcb-5465-40bc-9372-6df25593e775"
      },
      "source": [
        "#\n",
        "df['gross'] = df[df.columns[2:5]].apply(\n",
        "    lambda x: ','.join(x.dropna().astype(str)), axis=1)\n",
        "#\n",
        "df = df.drop(df.columns[2:5], axis=1)\n",
        "df.head()"
      ],
      "execution_count": 101,
      "outputs": [
        {
          "output_type": "execute_result",
          "data": {
            "text/html": [
              "<div>\n",
              "<style scoped>\n",
              "    .dataframe tbody tr th:only-of-type {\n",
              "        vertical-align: middle;\n",
              "    }\n",
              "\n",
              "    .dataframe tbody tr th {\n",
              "        vertical-align: top;\n",
              "    }\n",
              "\n",
              "    .dataframe thead th {\n",
              "        text-align: right;\n",
              "    }\n",
              "</style>\n",
              "<table border=\"1\" class=\"dataframe\">\n",
              "  <thead>\n",
              "    <tr style=\"text-align: right;\">\n",
              "      <th></th>\n",
              "      <th>2</th>\n",
              "      <th>3</th>\n",
              "      <th>7</th>\n",
              "      <th>8</th>\n",
              "      <th>9</th>\n",
              "      <th>10</th>\n",
              "      <th>11</th>\n",
              "      <th>12</th>\n",
              "      <th>13</th>\n",
              "      <th>month</th>\n",
              "      <th>day</th>\n",
              "      <th>gross</th>\n",
              "    </tr>\n",
              "  </thead>\n",
              "  <tbody>\n",
              "    <tr>\n",
              "      <th>1</th>\n",
              "      <td>2019</td>\n",
              "      <td>Aquaman</td>\n",
              "      <td>Aquaman's worldwide gross ($940 million) surp...</td>\n",
              "      <td>None</td>\n",
              "      <td>None</td>\n",
              "      <td>None</td>\n",
              "      <td>None</td>\n",
              "      <td>None</td>\n",
              "      <td>None</td>\n",
              "      <td>January</td>\n",
              "      <td>6</td>\n",
              "      <td>$31,003,280</td>\n",
              "    </tr>\n",
              "    <tr>\n",
              "      <th>2</th>\n",
              "      <td>2019</td>\n",
              "      <td>The Upside</td>\n",
              "      <td>Aquaman became the first film in the DC Exten...</td>\n",
              "      <td>None</td>\n",
              "      <td>None</td>\n",
              "      <td>None</td>\n",
              "      <td>None</td>\n",
              "      <td>None</td>\n",
              "      <td>None</td>\n",
              "      <td>January</td>\n",
              "      <td>13</td>\n",
              "      <td>$20,355,000</td>\n",
              "    </tr>\n",
              "    <tr>\n",
              "      <th>3</th>\n",
              "      <td>2019</td>\n",
              "      <td>Glass</td>\n",
              "      <td>\\n]</td>\n",
              "      <td>None</td>\n",
              "      <td>None</td>\n",
              "      <td>None</td>\n",
              "      <td>None</td>\n",
              "      <td>None</td>\n",
              "      <td>None</td>\n",
              "      <td>January</td>\n",
              "      <td>20</td>\n",
              "      <td>$40,328,920</td>\n",
              "    </tr>\n",
              "    <tr>\n",
              "      <th>4</th>\n",
              "      <td>2019</td>\n",
              "      <td>Glass</td>\n",
              "      <td>During the weekend</td>\n",
              "      <td>Aquaman's worldwide total ($1.091 billion) su...</td>\n",
              "      <td>084.9 billion) as the all-time highest-grossin...</td>\n",
              "      <td>None</td>\n",
              "      <td>None</td>\n",
              "      <td>None</td>\n",
              "      <td>None</td>\n",
              "      <td>January</td>\n",
              "      <td>27</td>\n",
              "      <td>$18,884,440</td>\n",
              "    </tr>\n",
              "    <tr>\n",
              "      <th>5</th>\n",
              "      <td>2019</td>\n",
              "      <td>Glass</td>\n",
              "      <td>Glass became the first film in 2019 to top th...</td>\n",
              "      <td>None</td>\n",
              "      <td>None</td>\n",
              "      <td>None</td>\n",
              "      <td>None</td>\n",
              "      <td>None</td>\n",
              "      <td>None</td>\n",
              "      <td>February</td>\n",
              "      <td>3</td>\n",
              "      <td>$9,548,795</td>\n",
              "    </tr>\n",
              "  </tbody>\n",
              "</table>\n",
              "</div>"
            ],
            "text/plain": [
              "       2            3  ... day         gross\n",
              "1   2019      Aquaman  ...   6   $31,003,280\n",
              "2   2019   The Upside  ...  13   $20,355,000\n",
              "3   2019        Glass  ...  20   $40,328,920\n",
              "4   2019        Glass  ...  27   $18,884,440\n",
              "5   2019        Glass  ...   3    $9,548,795\n",
              "\n",
              "[5 rows x 12 columns]"
            ]
          },
          "metadata": {
            "tags": []
          },
          "execution_count": 101
        }
      ]
    },
    {
      "cell_type": "code",
      "metadata": {
        "id": "FISd1btNoQK9",
        "colab_type": "code",
        "colab": {}
      },
      "source": [
        "#Rename table headers as we accidentally parsed position into the team column\n",
        "df.columns = df.columns = ['Year', 'Title','Note', 'None', 'None', 'None', 'None', 'None', 'None', 'Month', 'Day', 'Gross']"
      ],
      "execution_count": 0,
      "outputs": []
    },
    {
      "cell_type": "code",
      "metadata": {
        "id": "BMAeCU4uoQLP",
        "colab_type": "code",
        "colab": {}
      },
      "source": [
        "#\n",
        "df = df[:20]"
      ],
      "execution_count": 0,
      "outputs": []
    },
    {
      "cell_type": "code",
      "metadata": {
        "id": "wKBLasn60UKl",
        "colab_type": "code",
        "colab": {
          "base_uri": "https://localhost:8080/",
          "height": 374
        },
        "outputId": "33bb2230-e935-45ec-fe59-88ba06acd457"
      },
      "source": [
        "#\n",
        "df['Gross'] = df['Gross'].str.strip('\\n]')\n",
        "df['Gross'] = df['Gross'].str.replace('$', '')\n",
        "df['Gross'] = df['Gross'].str.replace(',', '')\n",
        "df['Gross'] = df['Gross'].astype('float', errors='ignore')\n",
        "df['Gross']"
      ],
      "execution_count": 129,
      "outputs": [
        {
          "output_type": "execute_result",
          "data": {
            "text/plain": [
              "1      31003280.0\n",
              "2      20355000.0\n",
              "3      40328920.0\n",
              "4      18884440.0\n",
              "5       9548795.0\n",
              "6      34115335.0\n",
              "7      28525613.0\n",
              "8      55022245.0\n",
              "9      30028540.0\n",
              "10    153433423.0\n",
              "11     67988130.0\n",
              "12     71117625.0\n",
              "13     45990748.0\n",
              "14     53505326.0\n",
              "15     24453514.0\n",
              "16     26347631.0\n",
              "17    357115007.0\n",
              "18    147383211.0\n",
              "19     63299066.0\n",
              "20     56818067.0\n",
              "Name: Gross, dtype: float64"
            ]
          },
          "metadata": {
            "tags": []
          },
          "execution_count": 129
        }
      ]
    },
    {
      "cell_type": "code",
      "metadata": {
        "id": "F-Pw0XltoQLk",
        "colab_type": "code",
        "outputId": "184bfe7d-e994-4b12-aee6-142059a0b844",
        "colab": {
          "base_uri": "https://localhost:8080/",
          "height": 295
        }
      },
      "source": [
        "# Plot histograms for all continuous data\n",
        "df['Gross'].hist()\n",
        "plt.title(\"2019 Movie Gross\")\n",
        "plt.xlabel(\"Values\")\n",
        "plt.ylabel(\"Count\")\n",
        "plt.show()"
      ],
      "execution_count": 130,
      "outputs": [
        {
          "output_type": "display_data",
          "data": {
            "image/png": "[encoded data removed]",
            "text/plain": [
              "<Figure size 432x288 with 1 Axes>"
            ]
          },
          "metadata": {
            "tags": []
          }
        }
      ]
    },
    {
      "cell_type": "code",
      "metadata": {
        "id": "PCuX1XZsoQL0",
        "colab_type": "code",
        "colab": {}
      },
      "source": [
        ""
      ],
      "execution_count": 0,
      "outputs": []
    }
  ]
}