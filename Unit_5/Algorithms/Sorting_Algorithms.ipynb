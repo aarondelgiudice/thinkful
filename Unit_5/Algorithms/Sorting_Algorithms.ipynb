{
  "nbformat": 4,
  "nbformat_minor": 0,
  "metadata": {
    "colab": {
      "name": "5.1.2 Sorting Algorithms.ipynb",
      "version": "0.3.2",
      "provenance": [],
      "collapsed_sections": [],
      "include_colab_link": true
    },
    "language_info": {
      "codemirror_mode": {
        "name": "ipython",
        "version": 3
      },
      "file_extension": ".py",
      "mimetype": "text/x-python",
      "name": "python",
      "nbconvert_exporter": "python",
      "pygments_lexer": "ipython3",
      "version": "3.7.1"
    },
    "kernelspec": {
      "display_name": "Python 3",
      "language": "python",
      "name": "python3"
    }
  },
  "cells": [
    {
      "cell_type": "markdown",
      "metadata": {
        "id": "view-in-github",
        "colab_type": "text"
      },
      "source": [
        "<a href=\"https://colab.research.google.com/github/aarondelgiudice/thinkful_data_bootcamp/blob/master/Unit_5/Algorithms/Sorting_Algorithms.ipynb\" target=\"_parent\"><img src=\"https://colab.research.google.com/assets/colab-badge.svg\" alt=\"Open In Colab\"/></a>"
      ]
    },
    {
      "cell_type": "code",
      "metadata": {
        "id": "jMQICBS3DaQs",
        "colab_type": "code",
        "colab": {}
      },
      "source": [
        "import time\n",
        "import random\n",
        "\n",
        "# Set seed.\n",
        "random.seed(a=100)\n",
        "\n",
        "# Create our default list.\n",
        "short_list = list(random.sample(range(1000000), 10))\n",
        "long_list = list(random.sample(range(1000000), 10000))"
      ],
      "execution_count": 0,
      "outputs": []
    },
    {
      "cell_type": "markdown",
      "metadata": {
        "id": "1DRQCVs2DaQ_",
        "colab_type": "text"
      },
      "source": [
        "Now that we've covered some basic data structures, let's get into the things we can _do_ with those structures a little more. Sure, we've covered some basic operations like adding and deleting elements, but what about more complex processes?\n",
        "\n",
        "These processes are called algorithms. (Ok, they're actually all technically within the class of algorithms, but these are algorithms we really think of as algorithms, rather than just single steps).\n",
        "\n",
        "Algorithms lend themselves to a lot of comparisons to try to illustrate what they are. Some people call them recipes. Others call them directions. The key is this: it's the set of steps necessary for a computer to accomplish a specific task.\n",
        "\n",
        "But what kind of task?\n",
        "\n",
        "Really any kind of task you want. But the most common to discuss (and the most common to show up in interviews) is sorting. Now, there are many many kinds of sorting algorithms, a brief summary of which you can get from the [Sorting Algorithm wiki page](https://en.wikipedia.org/wiki/Sorting_algorithm).\n",
        "\n",
        "We won't cover all of them here, but we'll talk about a few of them to draw out differences in performance, efficiency, and style.\n",
        "\n",
        "As a note, above we're defining `short_list` and `long_list` which will be our default random lists. The short one will be used to validate that our algorithm works, and the long list to compare computation times across sorting strategies. Standardizing both will let us use them as the same baselines for each algorithm we explore. We're also only going to use lists here, but this does generalize more broadly."
      ]
    },
    {
      "cell_type": "markdown",
      "metadata": {
        "id": "wpzeMqkADaRD",
        "colab_type": "text"
      },
      "source": [
        "## The Task of Sorting\n",
        "\n",
        "Just for completeness, let's briefly review what we mean by sorting. The most common example used to talk about methods of sorting is a hand of cards. When you get a hand of cards in a game you want to organize them is some kind of reasonable fashion. This makes it easier to know what cards are in your hand, and to find and access the cards you want.\n",
        "\n",
        "Now, there are many different ways to sort. Everyone kind of has their own method. Some will pick cards up one and a time and sequence them as they go. Others will move through their hand reorganizing card by card. You could even just randomly shuffle them again and again until they are sorted (though this would not be a very efficient approach). Different methods work best in different games and with different sized hands. These same general concepts apply to sorting lists.\n",
        "\n",
        "All of our lists will have a set of values, in our case integers ranging from 0 to 1,000,000. Our goal is to return this list ordered from smallest to largest in the least amount of time. In situations where there are duplicates, those duplicates will maintain their original order (this preserves _stability_ in our algorithm). Our goal is to sort the list as efficiently as possible. This will be _measured_ in runtime, but also _discussed_ in terms of steps."
      ]
    },
    {
      "cell_type": "markdown",
      "metadata": {
        "id": "FPaRXSNXDaRG",
        "colab_type": "text"
      },
      "source": [
        "## Insertion Sort\n",
        "\n",
        "One of the simplest methods of sorting is the _insertion sort_. In this case we maintain two lists. First is our original list. Then we have a new list, which will be ordered. To add elements to that list, we take an element from our original list and then move through our new list, stopping and inserting it in the appropriate place. We do this by placing it in the position ahead of the first element in the new list that is larger than our chosen element. If none are larger then it is added to the end.\n",
        "\n",
        "This gives the nice property that our result will always be a sorted list which will grow to encompass the entire original set.\n",
        "\n",
        "Let's write it up quickly."
      ]
    },
    {
      "cell_type": "code",
      "metadata": {
        "id": "U8Gav9YbDaRJ",
        "colab_type": "code",
        "colab": {}
      },
      "source": [
        "def insert_sort(input_list):\n",
        "    # Copy the input to a new list so we don't modify the original.\n",
        "    new_list = input_list\n",
        "    \n",
        "    # Iterate through the list.\n",
        "    for i in range(len(new_list)):\n",
        "        # Assign place to a new variable.\n",
        "        j = i\n",
        "        \n",
        "        # Move through the list as long as the previous position is larger\n",
        "        # than the current element of list.\n",
        "        while j > 0 and new_list[j - 1] > new_list[j]:\n",
        "            \n",
        "            # Swap places.\n",
        "            new_list[j - 1], new_list[j] = new_list[j], new_list[j - 1]\n",
        "            \n",
        "            # Reduce j by one.\n",
        "            j = j - 1\n",
        "    return new_list"
      ],
      "execution_count": 0,
      "outputs": []
    },
    {
      "cell_type": "markdown",
      "metadata": {
        "id": "s-pQw23vDaRV",
        "colab_type": "text"
      },
      "source": [
        "You can think about insertion sort as being like organizing a poker hand from left to right, where you scan your hand from left to right, picking up out of place cards when you see them and moving them to the left as far as they need to go. Here is an visualization from Wikipedia:\n",
        "\n",
        "![Animated insertion sort visualization](https://upload.wikimedia.org/wikipedia/commons/0/0f/Insertion-sort-example-300px.gif)\n",
        "\n",
        "If you want to play around with insertion sort or other algorithms visually, check out [VisuAlgo](https://visualgo.net/en/sorting). Feel free to escape out of the slides and tinker directly with the visualizations.\n",
        "\n",
        "The Python function above implements this algorithm and makes each individual _step_ clear. Lets apply it to our short and long lists."
      ]
    },
    {
      "cell_type": "code",
      "metadata": {
        "id": "zIzJt6KMDaRa",
        "colab_type": "code",
        "colab": {
          "base_uri": "https://localhost:8080/",
          "height": 51
        },
        "outputId": "14014061-0bd1-4470-f554-556be46dfeb5"
      },
      "source": [
        "# Start the timer.\n",
        "start_time = time.time()\n",
        "\n",
        "# Run our insertion sort.\n",
        "insert_sort(short_list)\n",
        "\n",
        "# Print time to show runtime.\n",
        "print(\"--- %s seconds ---\" % (time.time() - start_time))\n",
        "print(insert_sort(short_list))"
      ],
      "execution_count": 3,
      "outputs": [
        {
          "output_type": "stream",
          "text": [
            "--- 0.00010371208190917969 seconds ---\n",
            "[152745, 183236, 366725, 412125, 477025, 481850, 739784, 767514, 808225, 997948]\n"
          ],
          "name": "stdout"
        }
      ]
    },
    {
      "cell_type": "code",
      "metadata": {
        "id": "fqWEFfd7DaRy",
        "colab_type": "code",
        "colab": {
          "base_uri": "https://localhost:8080/",
          "height": 34
        },
        "outputId": "42b3bfa8-2927-4726-ba9d-63221dee1063"
      },
      "source": [
        "# Test on the long list.\n",
        "start_time = time.time()\n",
        "\n",
        "insert_sort(long_list)\n",
        "\n",
        "print(\"--- %s seconds ---\" % (time.time() - start_time))"
      ],
      "execution_count": 4,
      "outputs": [
        {
          "output_type": "stream",
          "text": [
            "--- 8.56622862815857 seconds ---\n"
          ],
          "name": "stdout"
        }
      ]
    },
    {
      "cell_type": "markdown",
      "metadata": {
        "id": "78tmIrglDaSD",
        "colab_type": "text"
      },
      "source": [
        "So that seems to work! We've created a resonable insertion sort that works through the list piecewise and inserts each element in the appropriate spot.\n",
        "\n",
        "However this also revealed something else important about insertion sort: it doesn't scale well. We noticed that it took 11 seconds on the long list. That's an unacceptably long amount of time. This is because its best case time is very different from its worst case.\n",
        "\n",
        "If the list is already ordered this kind of sort takes n steps to complete. It simply iterates through the list. However, if your list is perfectly out of order it can take asymptotically n-squared steps (in big-O notation, $\\mathcal{O}(n^2)$) as we have $n$ elements and our algorithm will potentially look through each element in the sorted list before inserting the element. This means computation can get more intensive quite quickly, as evidenced by the runtime of our long list. Think about what a square function looks like if you graph it. It grows at an ever increasing rate. The [wiki for Insertion Sort](https://en.wikipedia.org/wiki/Insertion_sort#Best.2C_worst.2C_and_average_cases) includes this lovely animation showing this method and the challenge that comes from it.\n",
        "\n",
        "![Insertion sort](https://upload.wikimedia.org/wikipedia/commons/4/42/Insertion_sort.gif)\n",
        "\n",
        "So, how could we do better?"
      ]
    },
    {
      "cell_type": "markdown",
      "metadata": {
        "id": "RPDR0UQLDaSG",
        "colab_type": "text"
      },
      "source": [
        "## Merge Sort\n",
        "\n",
        "One method for improving this is to use a _merge sort_. Merge sort takes advantage of fact that merging two small sorted lists into one large sorted list is fast. Merge sort starts by breaking our large list into single element sublists. It's a bit wonky, but if you think about it these single-element lists are each inherently ordered. Then we merge those single-element lists together into ordered pairs, reading from a single end to preserve their order. We repeat this process and arrive ultimately at a sorted list.\n",
        "\n",
        "This will look much more complex in code but the concept is easier to understand with an example. Let's try it first with a very basic manual walkthrough.\n",
        "\n",
        "If our list were `[3, 7, 2, 4]` The algorithm would first break it up into four pieces `[3], [7], [2], [4]`. Then we could split that into two groups and merge each by order, resulting in `[3, 7], [2, 4]`. Finally we bring those two lists together to get `[2, 3, 4, 7]`. It's more efficient because in any merge we only have to look at the leading entry from each prior list. For that final merge in the first step we're only comparing 3 to 2 and 4 to 7, since we already know 4 and 7 are larger than their prior entries.\n",
        "\n",
        "Why does that give us an advantage? It's because we won't have to handle large unordered data. We always know what's next in any merge is from one of two places (the next element in each of our two lists we're merging). It's over really long lists that this advantage becomes decidedly worthwhile. This technique is called _divide and conquer_. Our insertion sort tries to solve the whole problem in one piece. Sometimes that's great. But in the case of sorting a long list, that process is inefficient. By breaking our task into smaller ones, in this case sorting small lists and then merging those ordered lists together, we make significant gains in efficiency. Here's a bigger example.\n",
        "\n",
        "![Animated merge sort](https://upload.wikimedia.org/wikipedia/commons/c/cc/Merge-sort-example-300px.gif)\n",
        "\n",
        "This tradeoff is a common feature of algorithms. It's often easiest to write something that tries to solve the problem all in one go. The logic is often easier to visualize. However, thinking about how to break one big problem into several smaller problems is a common way to gain efficiency.\n",
        "\n",
        "Here's what the code for a merge sort looks like (with `merge` written as a separate function):"
      ]
    },
    {
      "cell_type": "code",
      "metadata": {
        "id": "Np898ivGDaSK",
        "colab_type": "code",
        "colab": {}
      },
      "source": [
        "# Our merge function takes two ordered lists and merges them together into one ordered list\n",
        "\n",
        "def merge(a, b):\n",
        "    # Check for empty list.\n",
        "    if len(a) == 0 or len(b) == 0:\n",
        "        return a or b\n",
        "    \n",
        "    # Start with an empty result.\n",
        "    result = []\n",
        "    # Track two indexes.\n",
        "    i, j = 0, 0\n",
        "    # Set a while condition to ensure we iterate only for the length of our two lists.\n",
        "    while (len(result) < len(a) + len(b)):\n",
        "        # If a's next element is lower append that element to our result.\n",
        "        if a[i] < b[j]:\n",
        "            result.append(a[i])\n",
        "            i += 1\n",
        "        # Otherwise append b's next element.\n",
        "        else:\n",
        "            result.append(b[j])\n",
        "            j += 1\n",
        "        # When one list is empty just append everything from the other list and stop.\n",
        "        if i == len(a) or j == len(b):\n",
        "            result.extend(a[i:] or b[j:])\n",
        "            break \n",
        "\n",
        "    return result\n",
        "\n",
        "def merge_sort(lst):\n",
        "    if len(lst) < 2:\n",
        "        return lst\n",
        "\n",
        "    mid = int(len(lst) / 2)\n",
        "    a = merge_sort(lst[:mid])\n",
        "    b = merge_sort(lst[mid:])\n",
        "\n",
        "    return merge(a, b)\n"
      ],
      "execution_count": 0,
      "outputs": []
    },
    {
      "cell_type": "code",
      "metadata": {
        "id": "69rkVlwWDaSW",
        "colab_type": "code",
        "colab": {
          "base_uri": "https://localhost:8080/",
          "height": 51
        },
        "outputId": "a88f962a-c09e-4b36-a969-06b5fdf14191"
      },
      "source": [
        "# Test on short list.\n",
        "# Start timer.\n",
        "start_time = time.time()\n",
        "\n",
        "# Run our insertion sort.\n",
        "merge_sort(short_list)\n",
        "\n",
        "# Print time to show runtime.\n",
        "print(\"--- %s seconds ---\" % (time.time() - start_time))\n",
        "print(insert_sort(short_list))"
      ],
      "execution_count": 6,
      "outputs": [
        {
          "output_type": "stream",
          "text": [
            "--- 0.00020194053649902344 seconds ---\n",
            "[152745, 183236, 366725, 412125, 477025, 481850, 739784, 767514, 808225, 997948]\n"
          ],
          "name": "stdout"
        }
      ]
    },
    {
      "cell_type": "code",
      "metadata": {
        "id": "B3MCJ_OFDaSn",
        "colab_type": "code",
        "colab": {
          "base_uri": "https://localhost:8080/",
          "height": 34
        },
        "outputId": "e1f5ceed-0354-4aa1-e054-048eb385904d"
      },
      "source": [
        "# Test on long list.\n",
        "start_time = time.time()\n",
        "\n",
        "merge_sort(long_list)\n",
        "\n",
        "print(\"--- %s seconds ---\" % (time.time() - start_time))"
      ],
      "execution_count": 7,
      "outputs": [
        {
          "output_type": "stream",
          "text": [
            "--- 0.0615544319152832 seconds ---\n"
          ],
          "name": "stdout"
        }
      ]
    },
    {
      "cell_type": "markdown",
      "metadata": {
        "id": "BiDxaetzDaS2",
        "colab_type": "text"
      },
      "source": [
        "Now, this algorithm is implemented _recursively_, meaning the function nests within itself, running multiple times until a stopping condition is met. This is how we create multiple layers of lists to merge together. Recursion, again, is a common feature of algorithms. It's a way of nesting an algorithm within itself so that it keeps going until the problem is actually solved and you don't have to specify how many times something should run.\n",
        "\n",
        "It is also much, much faster, a tenth of a second instead of 11 seconds, and less complex: $\\mathcal{O}(n\\log{}n)$ instead of $\\mathcal{O}(n^2))$.\n",
        "\n",
        "This break-down-and-merge method means that when combining shorter lists into longer lists, we can use the knowledge that the shorter lists are already sorted to cut down on the number of comparisons we need to make.  As a result, we don't have to potentially look through all other sorted elements in order to place a single element of our list. It no longer scales quadtratically, but in quasilinear time."
      ]
    },
    {
      "cell_type": "markdown",
      "metadata": {
        "id": "gUA2W4OJDaS5",
        "colab_type": "text"
      },
      "source": [
        "## The Default Sort Method\n",
        "\n",
        "Now, all of this is fine and dandy, but it's not the only way to sort things.\n",
        "\n",
        "We also have a simpler way. Kind of a cheating way. Python lists have a built in `.sort()` method and there's also the built-in `sorted()` function. Let's see how that performs."
      ]
    },
    {
      "cell_type": "code",
      "metadata": {
        "id": "87Rv-_PODaS9",
        "colab_type": "code",
        "colab": {
          "base_uri": "https://localhost:8080/",
          "height": 34
        },
        "outputId": "438c5fdf-77cf-4e28-e7df-779e741fc883"
      },
      "source": [
        "# Start Timer\n",
        "start_time = time.time()\n",
        "\n",
        "# Sort the default list. Note that .sort() will sort in place, which would alter default_list.\n",
        "sorted(long_list)\n",
        "\n",
        "# Print time to show runtime\n",
        "print(\"--- %s seconds ---\" % (time.time() - start_time))"
      ],
      "execution_count": 8,
      "outputs": [
        {
          "output_type": "stream",
          "text": [
            "--- 0.0011975765228271484 seconds ---\n"
          ],
          "name": "stdout"
        }
      ]
    },
    {
      "cell_type": "markdown",
      "metadata": {
        "id": "b_v2Quz7DaTO",
        "colab_type": "text"
      },
      "source": [
        "Now that is much faster than either of ours, so for most cases it's worth just using the built ins. The reasons for this efficiency are many and partially have to do with the fact that it isn't actually written in Python, but Cython, which allows it to run in a version of C from Python that is much faster than generic Python.\n",
        "\n",
        "So why are you learning slow ways to sort that take a lot of work to implement? It's worth understanding how these algorithms function at their most basic level and how we can work with them to build our own bespoke tools. The more complex algorithms you'll implement later will rely on these fundamentals."
      ]
    },
    {
      "cell_type": "markdown",
      "metadata": {
        "id": "xkp2GCQZDaTR",
        "colab_type": "text"
      },
      "source": [
        "## DRILL\n",
        "\n",
        "Return to the [sorting wiki page](https://en.wikipedia.org/wiki/Sorting_algorithm) and pick an algorithm we haven't covered here (you probably want to pick one of the simpler ones, but it's up to you. Implement it in Python below and see how it compares in sorting our short and long lists. You should be able to easily find guides on how to implement any of the algorithms. Can you figure out why it runs faster or slower than our other sorting algorithms?\n",
        "\n",
        "Some good sorts to try are:\n",
        "* Heap Sort\n",
        "* Selection Sort\n",
        "* QuickSort"
      ]
    },
    {
      "cell_type": "markdown",
      "metadata": {
        "id": "LfAhkHamGA17",
        "colab_type": "text"
      },
      "source": [
        "### Heap Sort\n",
        "Heapsort is a much more efficient version of selection sort.\n",
        "It also works by determining the largest (or smallest) element of the list, placing that at the end (or beginning) of the list, then continuing with the rest of the list, but accomplishes this task efficiently by using a data structure called a heap, a special type of binary tree.\n",
        "Once the data list has been made into a heap, the root node is guaranteed to be the largest (or smallest) element.\n",
        "When it is removed and placed at the end of the list, the heap is rearranged so the largest element remaining moves to the root.\n",
        "Using the heap, finding the next largest element takes $\\mathcal{O}(\\log{}n)$ time, instead of $\\mathcal{O}(n)$ for a linear scan as in simple selection sort.\n",
        "This allows Heapsort to run in $\\mathcal{O}(n\\log{}n)$  time, and this is also the worst case complexity."
      ]
    },
    {
      "cell_type": "code",
      "metadata": {
        "id": "yhMMFsoADaTV",
        "colab_type": "code",
        "colab": {}
      },
      "source": [
        "# Heap sort\n",
        "\n",
        "# Python program for implementation of heap Sort \n",
        "  \n",
        "# To heapify subtree rooted at index i. \n",
        "# n is size of heap \n",
        "def heapify(arr, n, i): \n",
        "    largest = i # Initialize largest as root \n",
        "    l = 2 * i + 1     # left = 2*i + 1 \n",
        "    r = 2 * i + 2     # right = 2*i + 2 \n",
        "  \n",
        "    # See if left child of root exists and is \n",
        "    # greater than root \n",
        "    if l < n and arr[i] < arr[l]: \n",
        "        largest = l \n",
        "  \n",
        "    # See if right child of root exists and is \n",
        "    # greater than root \n",
        "    if r < n and arr[largest] < arr[r]: \n",
        "        largest = r \n",
        "  \n",
        "    # Change root, if needed \n",
        "    if largest != i: \n",
        "        arr[i],arr[largest] = arr[largest],arr[i] # swap \n",
        "  \n",
        "        # Heapify the root. \n",
        "        heapify(arr, n, largest) \n",
        "  \n",
        "# The main function to sort an array of given size \n",
        "def heapSort(arr): \n",
        "    n = len(arr) \n",
        "  \n",
        "    # Build a maxheap. \n",
        "    for i in range(n, -1, -1): \n",
        "        heapify(arr, n, i) \n",
        "  \n",
        "    # One by one extract elements \n",
        "    for i in range(n-1, 0, -1): \n",
        "        arr[i], arr[0] = arr[0], arr[i] # swap \n",
        "        heapify(arr, i, 0) "
      ],
      "execution_count": 0,
      "outputs": []
    },
    {
      "cell_type": "code",
      "metadata": {
        "id": "Zd7DdIjjHQVw",
        "colab_type": "code",
        "colab": {
          "base_uri": "https://localhost:8080/",
          "height": 34
        },
        "outputId": "59c7c943-59c3-4f1a-df9f-a4ae6e03b1c7"
      },
      "source": [
        "# Start Timer\n",
        "start_time = time.time()\n",
        "\n",
        "# Sort the default list. Note that .sort() will sort in place, which would alter default_list.\n",
        "heapSort(short_list)\n",
        "\n",
        "# Print time to show runtime\n",
        "print(\"--- %s seconds ---\" % (time.time() - start_time))"
      ],
      "execution_count": 10,
      "outputs": [
        {
          "output_type": "stream",
          "text": [
            "--- 0.000152587890625 seconds ---\n"
          ],
          "name": "stdout"
        }
      ]
    },
    {
      "cell_type": "code",
      "metadata": {
        "id": "Wb1hdgC3G9PY",
        "colab_type": "code",
        "colab": {
          "base_uri": "https://localhost:8080/",
          "height": 34
        },
        "outputId": "4258a961-ebf2-4b35-a7f0-1409db4dfd2e"
      },
      "source": [
        "# Start Timer\n",
        "start_time = time.time()\n",
        "\n",
        "# Sort the default list. Note that .sort() will sort in place, which would alter default_list.\n",
        "heapSort(long_list)\n",
        "\n",
        "# Print time to show runtime\n",
        "print(\"--- %s seconds ---\" % (time.time() - start_time))"
      ],
      "execution_count": 11,
      "outputs": [
        {
          "output_type": "stream",
          "text": [
            "--- 0.10286903381347656 seconds ---\n"
          ],
          "name": "stdout"
        }
      ]
    },
    {
      "cell_type": "markdown",
      "metadata": {
        "id": "1-4aOqj1HrVx",
        "colab_type": "text"
      },
      "source": [
        "The **Heap Sort** method was very fast, but still not as fast as Python's built-in function.\n",
        "\n",
        "### Selection Sort\n",
        "Selection sort is an in-place comparison sort.\n",
        "It has $O(n^2)$ complexity, making it inefficient on large lists, and generally performs worse than the similar insertion sort.\n",
        "Selection sort is noted for its simplicity, and also has performance advantages over more complicated algorithms in certain situations.\n",
        "\n",
        "The algorithm finds the minimum value, swaps it with the value in the first position, and repeats these steps for the remainder of the list. It does no more than $n$ swaps, and thus is useful where swapping is very expensive."
      ]
    },
    {
      "cell_type": "code",
      "metadata": {
        "id": "FFvfTq4zHvm7",
        "colab_type": "code",
        "colab": {}
      },
      "source": [
        "# Python program for implementation of Selection \n",
        "# Sort \n",
        "import sys \n",
        "def SelectionSort(arg):\n",
        "  # Traverse through all array elements \n",
        "  for i in range(len(arg)): \n",
        "    # Find the minimum element in remaining  \n",
        "    # unsorted array \n",
        "    min_idx = i \n",
        "    for j in range(i+1, len(arg)): \n",
        "        if arg[min_idx] > arg[j]: \n",
        "            min_idx = j \n",
        "    # Swap the found minimum element with  \n",
        "    # the first element         \n",
        "    arg[i], arg[min_idx] = arg[min_idx], arg[i]"
      ],
      "execution_count": 0,
      "outputs": []
    },
    {
      "cell_type": "code",
      "metadata": {
        "id": "hUJ7a7LhJ3pJ",
        "colab_type": "code",
        "colab": {
          "base_uri": "https://localhost:8080/",
          "height": 34
        },
        "outputId": "7f885f84-e1a8-42ba-e23c-03fa639d2f9a"
      },
      "source": [
        "# Start Timer\n",
        "start_time = time.time()\n",
        "\n",
        "# Sort the default list. Note that .sort() will sort in place, which would alter default_list.\n",
        "SelectionSort(short_list)\n",
        "\n",
        "# Print time to show runtime\n",
        "print(\"--- %s seconds ---\" % (time.time() - start_time))"
      ],
      "execution_count": 13,
      "outputs": [
        {
          "output_type": "stream",
          "text": [
            "--- 0.0005137920379638672 seconds ---\n"
          ],
          "name": "stdout"
        }
      ]
    },
    {
      "cell_type": "code",
      "metadata": {
        "id": "Wszvj9kWJ32V",
        "colab_type": "code",
        "colab": {
          "base_uri": "https://localhost:8080/",
          "height": 34
        },
        "outputId": "c0787411-bb5a-43b5-9b30-64c5d2b667ab"
      },
      "source": [
        "# Start Timer\n",
        "start_time = time.time()\n",
        "\n",
        "# Sort the default list. Note that .sort() will sort in place, which would alter default_list.\n",
        "SelectionSort(long_list)\n",
        "\n",
        "# Print time to show runtime\n",
        "print(\"--- %s seconds ---\" % (time.time() - start_time))"
      ],
      "execution_count": 14,
      "outputs": [
        {
          "output_type": "stream",
          "text": [
            "--- 4.871181964874268 seconds ---\n"
          ],
          "name": "stdout"
        }
      ]
    },
    {
      "cell_type": "markdown",
      "metadata": {
        "id": "W0iWRlzqHutT",
        "colab_type": "text"
      },
      "source": [
        "The **Selction Sort** method was just as inefficient as the Insertion Sort method.\n",
        "\n",
        "### Quicksort\n",
        "Quicksort is a divide and conquer algorithm which relies on a partition operation: to partition an array an element called a pivot is selected.\n",
        "All elements smaller than the pivot are moved before it and all greater elements are moved after it.\n",
        "This can be done efficiently in linear time and in-place.\n",
        "The lesser and greater sublists are then recursively sorted.\n",
        "This yields average time complexity of $O(n \\log n)$, with low overhead, and thus this is a popular algorithm.\n",
        "Efficient implementations of quicksort (with in-place partitioning) are typically unstable sorts and somewhat complex, but are among the fastest sorting algorithms in practice.\n",
        "Together with its modest $O(\\log n)$ space usage, quicksort is one of the most popular sorting algorithms and is available in many standard programming libraries.\n",
        "\n",
        "The important caveat about quicksort is that its worst-case performance is $O(n^2)$; while this is rare, in naive implementations (choosing the first or last element as pivot) this occurs for sorted data, which is a common case.\n",
        "The most complex issue in quicksort is thus choosing a good pivot element, as consistently poor choices of pivots can result in drastically slower $O(n^2)$ performance, but good choice of pivots yields $O(n \\log n)$ performance, which is asymptotically optimal.\n",
        "For example, if at each step the median is chosen as the pivot then the algorithm works in $O(n \\log n)$.\n",
        "Finding the median, such as by the median of medians selection algorithm is however an $O(n)$ operation on unsorted lists and therefore exacts significant overhead with sorting.\n",
        "In practice choosing a random pivot almost certainly yields $O(n \\log n)$ performance."
      ]
    },
    {
      "cell_type": "code",
      "metadata": {
        "id": "HDOWMZwvHedU",
        "colab_type": "code",
        "colab": {}
      },
      "source": [
        "# This function takes last element as pivot, places \n",
        "# the pivot element at its correct position in sorted \n",
        "# array, and places all smaller (smaller than pivot) \n",
        "# to left of pivot and all greater elements to right \n",
        "# of pivot \n",
        "def partition(arr,low,high): \n",
        "    i = ( low-1 )         # index of smaller element \n",
        "    pivot = arr[high]     # pivot \n",
        "  \n",
        "    for j in range(low , high): \n",
        "  \n",
        "        # If current element is smaller than or \n",
        "        # equal to pivot \n",
        "        if   arr[j] <= pivot: \n",
        "          \n",
        "            # increment index of smaller element \n",
        "            i = i+1 \n",
        "            arr[i],arr[j] = arr[j],arr[i] \n",
        "  \n",
        "    arr[i+1],arr[high] = arr[high],arr[i+1] \n",
        "    return ( i+1 ) \n",
        "  \n",
        "# The main function that implements QuickSort \n",
        "# arr[] --> Array to be sorted, \n",
        "# low  --> Starting index, \n",
        "# high  --> Ending index \n",
        "  \n",
        "# Function to do Quick sort \n",
        "def quickSort(arr,low,high): \n",
        "    if low < high: \n",
        "  \n",
        "        # pi is partitioning index, arr[p] is now \n",
        "        # at right place \n",
        "        pi = partition(arr,low,high) \n",
        "  \n",
        "        # Separately sort elements before \n",
        "        # partition and after partition \n",
        "        quickSort(arr, low, pi-1) \n",
        "        quickSort(arr, pi+1, high) "
      ],
      "execution_count": 0,
      "outputs": []
    },
    {
      "cell_type": "code",
      "metadata": {
        "id": "e8-LHuq0KVDB",
        "colab_type": "code",
        "colab": {
          "base_uri": "https://localhost:8080/",
          "height": 34
        },
        "outputId": "35bca9cb-f16c-450a-8668-ea6d35734f56"
      },
      "source": [
        "# Start Timer\n",
        "start_time = time.time()\n",
        "\n",
        "# Sort the default list. Note that .sort() will sort in place, which would alter default_list.\n",
        "n = len(short_list)\n",
        "quickSort(short_list, 0, n-1)\n",
        "\n",
        "# Print time to show runtime\n",
        "print(\"--- %s seconds ---\" % (time.time() - start_time))"
      ],
      "execution_count": 17,
      "outputs": [
        {
          "output_type": "stream",
          "text": [
            "--- 0.00010442733764648438 seconds ---\n"
          ],
          "name": "stdout"
        }
      ]
    },
    {
      "cell_type": "code",
      "metadata": {
        "id": "WNY_fZ2DKVP7",
        "colab_type": "code",
        "colab": {
          "base_uri": "https://localhost:8080/",
          "height": 391
        },
        "outputId": "197ca7d0-9338-4492-f58a-0d4019c8af76"
      },
      "source": [
        "# Start Timer\n",
        "start_time = time.time()\n",
        "\n",
        "# Sort the default list. Note that .sort() will sort in place, which would alter default_list.\n",
        "n = len(long_list)\n",
        "quickSort(long_list, 0, n-1)\n",
        "\n",
        "# Print time to show runtime\n",
        "print(\"--- %s seconds ---\" % (time.time() - start_time))"
      ],
      "execution_count": 18,
      "outputs": [
        {
          "output_type": "error",
          "ename": "RecursionError",
          "evalue": "ignored",
          "traceback": [
            "\u001b[0;31m---------------------------------------------------------------------------\u001b[0m",
            "\u001b[0;31mRecursionError\u001b[0m                            Traceback (most recent call last)",
            "\u001b[0;32m<ipython-input-18-940616535684>\u001b[0m in \u001b[0;36m<module>\u001b[0;34m()\u001b[0m\n\u001b[1;32m      3\u001b[0m \u001b[0;31m# Sort the default list. Note that .sort() will sort in place, which would alter default_list.\u001b[0m\u001b[0;34m\u001b[0m\u001b[0;34m\u001b[0m\u001b[0;34m\u001b[0m\u001b[0m\n\u001b[1;32m      4\u001b[0m \u001b[0mn\u001b[0m \u001b[0;34m=\u001b[0m \u001b[0mlen\u001b[0m\u001b[0;34m(\u001b[0m\u001b[0mlong_list\u001b[0m\u001b[0;34m)\u001b[0m\u001b[0;34m\u001b[0m\u001b[0;34m\u001b[0m\u001b[0m\n\u001b[0;32m----> 5\u001b[0;31m \u001b[0mquickSort\u001b[0m\u001b[0;34m(\u001b[0m\u001b[0mlong_list\u001b[0m\u001b[0;34m,\u001b[0m \u001b[0;36m0\u001b[0m\u001b[0;34m,\u001b[0m \u001b[0mn\u001b[0m\u001b[0;34m-\u001b[0m\u001b[0;36m1\u001b[0m\u001b[0;34m)\u001b[0m\u001b[0;34m\u001b[0m\u001b[0;34m\u001b[0m\u001b[0m\n\u001b[0m\u001b[1;32m      6\u001b[0m \u001b[0;34m\u001b[0m\u001b[0m\n\u001b[1;32m      7\u001b[0m \u001b[0;31m# Print time to show runtime\u001b[0m\u001b[0;34m\u001b[0m\u001b[0;34m\u001b[0m\u001b[0;34m\u001b[0m\u001b[0m\n",
            "\u001b[0;32m<ipython-input-15-7fc932709f99>\u001b[0m in \u001b[0;36mquickSort\u001b[0;34m(arr, low, high)\u001b[0m\n\u001b[1;32m     31\u001b[0m         \u001b[0;31m# Separately sort elements before\u001b[0m\u001b[0;34m\u001b[0m\u001b[0;34m\u001b[0m\u001b[0;34m\u001b[0m\u001b[0m\n\u001b[1;32m     32\u001b[0m         \u001b[0;31m# partition and after partition\u001b[0m\u001b[0;34m\u001b[0m\u001b[0;34m\u001b[0m\u001b[0;34m\u001b[0m\u001b[0m\n\u001b[0;32m---> 33\u001b[0;31m         \u001b[0mquickSort\u001b[0m\u001b[0;34m(\u001b[0m\u001b[0marr\u001b[0m\u001b[0;34m,\u001b[0m \u001b[0mlow\u001b[0m\u001b[0;34m,\u001b[0m \u001b[0mpi\u001b[0m\u001b[0;34m-\u001b[0m\u001b[0;36m1\u001b[0m\u001b[0;34m)\u001b[0m\u001b[0;34m\u001b[0m\u001b[0;34m\u001b[0m\u001b[0m\n\u001b[0m\u001b[1;32m     34\u001b[0m         \u001b[0mquickSort\u001b[0m\u001b[0;34m(\u001b[0m\u001b[0marr\u001b[0m\u001b[0;34m,\u001b[0m \u001b[0mpi\u001b[0m\u001b[0;34m+\u001b[0m\u001b[0;36m1\u001b[0m\u001b[0;34m,\u001b[0m \u001b[0mhigh\u001b[0m\u001b[0;34m)\u001b[0m\u001b[0;34m\u001b[0m\u001b[0;34m\u001b[0m\u001b[0m\n",
            "... last 1 frames repeated, from the frame below ...\n",
            "\u001b[0;32m<ipython-input-15-7fc932709f99>\u001b[0m in \u001b[0;36mquickSort\u001b[0;34m(arr, low, high)\u001b[0m\n\u001b[1;32m     31\u001b[0m         \u001b[0;31m# Separately sort elements before\u001b[0m\u001b[0;34m\u001b[0m\u001b[0;34m\u001b[0m\u001b[0;34m\u001b[0m\u001b[0m\n\u001b[1;32m     32\u001b[0m         \u001b[0;31m# partition and after partition\u001b[0m\u001b[0;34m\u001b[0m\u001b[0;34m\u001b[0m\u001b[0;34m\u001b[0m\u001b[0m\n\u001b[0;32m---> 33\u001b[0;31m         \u001b[0mquickSort\u001b[0m\u001b[0;34m(\u001b[0m\u001b[0marr\u001b[0m\u001b[0;34m,\u001b[0m \u001b[0mlow\u001b[0m\u001b[0;34m,\u001b[0m \u001b[0mpi\u001b[0m\u001b[0;34m-\u001b[0m\u001b[0;36m1\u001b[0m\u001b[0;34m)\u001b[0m\u001b[0;34m\u001b[0m\u001b[0;34m\u001b[0m\u001b[0m\n\u001b[0m\u001b[1;32m     34\u001b[0m         \u001b[0mquickSort\u001b[0m\u001b[0;34m(\u001b[0m\u001b[0marr\u001b[0m\u001b[0;34m,\u001b[0m \u001b[0mpi\u001b[0m\u001b[0;34m+\u001b[0m\u001b[0;36m1\u001b[0m\u001b[0;34m,\u001b[0m \u001b[0mhigh\u001b[0m\u001b[0;34m)\u001b[0m\u001b[0;34m\u001b[0m\u001b[0;34m\u001b[0m\u001b[0m\n",
            "\u001b[0;31mRecursionError\u001b[0m: maximum recursion depth exceeded in comparison"
          ]
        }
      ]
    },
    {
      "cell_type": "markdown",
      "metadata": {
        "id": "OfXghR-sK0LN",
        "colab_type": "text"
      },
      "source": [
        "Well that's not good... It appears the **Quicksort** method isn't *great* for longer lists."
      ]
    },
    {
      "cell_type": "code",
      "metadata": {
        "id": "w2p5EOM9LLVl",
        "colab_type": "code",
        "colab": {}
      },
      "source": [
        ""
      ],
      "execution_count": 0,
      "outputs": []
    }
  ]
}