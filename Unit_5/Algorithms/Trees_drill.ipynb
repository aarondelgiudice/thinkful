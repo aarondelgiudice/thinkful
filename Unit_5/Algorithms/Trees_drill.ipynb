{
  "nbformat": 4,
  "nbformat_minor": 0,
  "metadata": {
    "colab": {
      "name": "5.1.3 Trees-drill.ipynb",
      "version": "0.3.2",
      "provenance": [],
      "collapsed_sections": [],
      "include_colab_link": true
    },
    "language_info": {
      "codemirror_mode": {
        "name": "ipython",
        "version": 3
      },
      "file_extension": ".py",
      "mimetype": "text/x-python",
      "name": "python",
      "nbconvert_exporter": "python",
      "pygments_lexer": "ipython3",
      "version": "3.6.4"
    },
    "kernelspec": {
      "display_name": "Python 3",
      "language": "python",
      "name": "python3"
    }
  },
  "cells": [
    {
      "cell_type": "markdown",
      "metadata": {
        "id": "view-in-github",
        "colab_type": "text"
      },
      "source": [
        "<a href=\"https://colab.research.google.com/github/aarondelgiudice/thinkful_data_bootcamp/blob/master/Unit_5/Algorithms/Trees_drill.ipynb\" target=\"_parent\"><img src=\"https://colab.research.google.com/assets/colab-badge.svg\" alt=\"Open In Colab\"/></a>"
      ]
    },
    {
      "cell_type": "markdown",
      "metadata": {
        "id": "-0D0C2MONKOs",
        "colab_type": "text"
      },
      "source": [
        "# Trees\n",
        "Unit 5 / Lesson 1 / Project 3\n",
        "### DRILL:\n",
        "\n",
        "Implement a binary tree, which is filled with 15 pieces of random data.\n",
        "Your job is to then write a program to traverse the tree using a breadth first traversal.\n",
        "If you want additional practice, try other forms of traversal."
      ]
    },
    {
      "cell_type": "code",
      "metadata": {
        "id": "GhXrd49DNKO3",
        "colab_type": "code",
        "colab": {}
      },
      "source": [
        "class Node:\n",
        "    def __init__(self, val):\n",
        "        self.left = None\n",
        "        self.right = None\n",
        "        self.val = val"
      ],
      "execution_count": 0,
      "outputs": []
    },
    {
      "cell_type": "code",
      "metadata": {
        "id": "XjlBW8bQNKPG",
        "colab_type": "code",
        "colab": {}
      },
      "source": [
        "# Establish initial root node and children\n",
        "root = Node('A')\n",
        "root.left = Node('B')\n",
        "root.right = Node('C')\n",
        "\n",
        "# Add children for D - Z\n",
        "root.left.left = Node('D')\n",
        "root.left.right = Node('E')\n",
        "root.right.left = Node('F')\n",
        "root.right.right = Node('G')\n",
        "root.left.left.left = Node('H')\n",
        "root.left.left.right = Node('I')\n",
        "root.left.right.left = Node('J')\n",
        "root.left.right.right = Node('K')\n",
        "root.right.left.left = Node('L')\n",
        "root.right.left.right = Node('M')\n",
        "root.right.right.left = Node('N')\n",
        "root.right.right.right = Node('O')\n",
        "root.left.left.left.left = Node('P')\n",
        "root.left.left.left.right = Node('Q')\n",
        "root.left.left.right.left = Node('R')\n",
        "root.left.left.right.right = Node('S')\n",
        "root.left.right.left.left = Node('T')\n",
        "root.left.right.left.right = Node('U')\n",
        "root.right.left.left.left = Node('V')\n",
        "root.right.left.left.right = Node('W')\n",
        "root.right.right.right.right = Node('X')\n",
        "root.right.right.right.left = Node('Y')\n",
        "root.right.right.left.right = Node('Z')"
      ],
      "execution_count": 0,
      "outputs": []
    },
    {
      "cell_type": "code",
      "metadata": {
        "id": "Ldirp6O-NKPS",
        "colab_type": "code",
        "outputId": "f3742b72-9176-4c7d-fb4c-0b3553bdc0ad",
        "colab": {
          "base_uri": "https://localhost:8080/",
          "height": 34
        }
      },
      "source": [
        "print(type(root))"
      ],
      "execution_count": 14,
      "outputs": [
        {
          "output_type": "stream",
          "text": [
            "<class '__main__.Node'>\n"
          ],
          "name": "stdout"
        }
      ]
    },
    {
      "cell_type": "code",
      "metadata": {
        "id": "42buViSDNKPl",
        "colab_type": "code",
        "colab": {}
      },
      "source": [
        "root_list = [root.val, root.left.val, root.right.val, root.left.left.val,\n",
        "             root.left.right.val, root.right.left.val, root.right.right.val,\n",
        "             root.left.left.left.val, root.left.left.right.val, \n",
        "             root.left.right.left.val, root.left.right.right.val,\n",
        "             root.right.left.left.val, root.right.left.right.val,\n",
        "             root.right.right.left.val, root.right.right.right.val,\n",
        "             root.left.left.left.left.val, root.left.left.left.right.val,\n",
        "             root.left.left.right.left.val, root.left.left.right.right.val,\n",
        "             root.left.right.left.left.val, root.left.right.left.right.val, \n",
        "             root.right.left.left.left.val, root.right.left.left.right.val,\n",
        "             root.right.right.right.right.val, root.right.right.right.left.val,\n",
        "             root.right.right.left.right.val\n",
        "            ]"
      ],
      "execution_count": 0,
      "outputs": []
    },
    {
      "cell_type": "code",
      "metadata": {
        "id": "pLf6GIOaNKP1",
        "colab_type": "code",
        "outputId": "e369b32f-52db-478c-bb33-029e50c517e2",
        "colab": {
          "base_uri": "https://localhost:8080/",
          "height": 493
        }
      },
      "source": [
        "traversal = []\n",
        "for i in root_list:\n",
        "    traversal.append(i)\n",
        "    print(traversal)\n",
        "\n",
        "print()\n",
        "print(traversal)"
      ],
      "execution_count": 20,
      "outputs": [
        {
          "output_type": "stream",
          "text": [
            "['A']\n",
            "['A', 'B']\n",
            "['A', 'B', 'C']\n",
            "['A', 'B', 'C', 'D']\n",
            "['A', 'B', 'C', 'D', 'E']\n",
            "['A', 'B', 'C', 'D', 'E', 'F']\n",
            "['A', 'B', 'C', 'D', 'E', 'F', 'G']\n",
            "['A', 'B', 'C', 'D', 'E', 'F', 'G', 'H']\n",
            "['A', 'B', 'C', 'D', 'E', 'F', 'G', 'H', 'I']\n",
            "['A', 'B', 'C', 'D', 'E', 'F', 'G', 'H', 'I', 'J']\n",
            "['A', 'B', 'C', 'D', 'E', 'F', 'G', 'H', 'I', 'J', 'K']\n",
            "['A', 'B', 'C', 'D', 'E', 'F', 'G', 'H', 'I', 'J', 'K', 'L']\n",
            "['A', 'B', 'C', 'D', 'E', 'F', 'G', 'H', 'I', 'J', 'K', 'L', 'M']\n",
            "['A', 'B', 'C', 'D', 'E', 'F', 'G', 'H', 'I', 'J', 'K', 'L', 'M', 'N']\n",
            "['A', 'B', 'C', 'D', 'E', 'F', 'G', 'H', 'I', 'J', 'K', 'L', 'M', 'N', 'O']\n",
            "['A', 'B', 'C', 'D', 'E', 'F', 'G', 'H', 'I', 'J', 'K', 'L', 'M', 'N', 'O', 'P']\n",
            "['A', 'B', 'C', 'D', 'E', 'F', 'G', 'H', 'I', 'J', 'K', 'L', 'M', 'N', 'O', 'P', 'Q']\n",
            "['A', 'B', 'C', 'D', 'E', 'F', 'G', 'H', 'I', 'J', 'K', 'L', 'M', 'N', 'O', 'P', 'Q', 'R']\n",
            "['A', 'B', 'C', 'D', 'E', 'F', 'G', 'H', 'I', 'J', 'K', 'L', 'M', 'N', 'O', 'P', 'Q', 'R', 'S']\n",
            "['A', 'B', 'C', 'D', 'E', 'F', 'G', 'H', 'I', 'J', 'K', 'L', 'M', 'N', 'O', 'P', 'Q', 'R', 'S', 'T']\n",
            "['A', 'B', 'C', 'D', 'E', 'F', 'G', 'H', 'I', 'J', 'K', 'L', 'M', 'N', 'O', 'P', 'Q', 'R', 'S', 'T', 'U']\n",
            "['A', 'B', 'C', 'D', 'E', 'F', 'G', 'H', 'I', 'J', 'K', 'L', 'M', 'N', 'O', 'P', 'Q', 'R', 'S', 'T', 'U', 'V']\n",
            "['A', 'B', 'C', 'D', 'E', 'F', 'G', 'H', 'I', 'J', 'K', 'L', 'M', 'N', 'O', 'P', 'Q', 'R', 'S', 'T', 'U', 'V', 'W']\n",
            "['A', 'B', 'C', 'D', 'E', 'F', 'G', 'H', 'I', 'J', 'K', 'L', 'M', 'N', 'O', 'P', 'Q', 'R', 'S', 'T', 'U', 'V', 'W', 'X']\n",
            "['A', 'B', 'C', 'D', 'E', 'F', 'G', 'H', 'I', 'J', 'K', 'L', 'M', 'N', 'O', 'P', 'Q', 'R', 'S', 'T', 'U', 'V', 'W', 'X', 'Y']\n",
            "['A', 'B', 'C', 'D', 'E', 'F', 'G', 'H', 'I', 'J', 'K', 'L', 'M', 'N', 'O', 'P', 'Q', 'R', 'S', 'T', 'U', 'V', 'W', 'X', 'Y', 'Z']\n",
            "\n",
            "['A', 'B', 'C', 'D', 'E', 'F', 'G', 'H', 'I', 'J', 'K', 'L', 'M', 'N', 'O', 'P', 'Q', 'R', 'S', 'T', 'U', 'V', 'W', 'X', 'Y', 'Z']\n"
          ],
          "name": "stdout"
        }
      ]
    }
  ]
}