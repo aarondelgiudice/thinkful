{
  "nbformat": 4,
  "nbformat_minor": 0,
  "metadata": {
    "colab": {
      "name": "7.1b_lyric_nlp",
      "version": "0.3.2",
      "provenance": [],
      "collapsed_sections": [
        "VOOfqmuAtGuo",
        "UjHG1zNWKPo4",
        "3bpFfNm_KL3I",
        "TeXDyQ3tmtBT",
        "RJKuyYi79fw-",
        "8jh_HuEPFODw"
      ],
      "include_colab_link": true
    },
    "kernelspec": {
      "name": "python3",
      "display_name": "Python 3"
    }
  },
  "cells": [
    {
      "cell_type": "markdown",
      "metadata": {
        "id": "view-in-github",
        "colab_type": "text"
      },
      "source": [
        "<a href=\"https://colab.research.google.com/github/aarondelgiudice/thinkful_data_bootcamp/blob/master/unit_7/capstone/7_1b_lyric_nlp.ipynb\" target=\"_parent\"><img src=\"https://colab.research.google.com/assets/colab-badge.svg\" alt=\"Open In Colab\"/></a>"
      ]
    },
    {
      "cell_type": "markdown",
      "metadata": {
        "id": "3YZKWSnJ17Sp",
        "colab_type": "text"
      },
      "source": [
        "# Lyric Processing\n",
        "### Table of Contents\n",
        "- Clean Text\n",
        "- Parse Text\n",
        "- Feature Extraction\n",
        "  - bag of words"
      ]
    },
    {
      "cell_type": "markdown",
      "metadata": {
        "id": "0lem8nBoHfgM",
        "colab_type": "text"
      },
      "source": [
        "Before we can model our lyric data, we have to clean and parse it. The LyricsGenius API has a weird habit of returning very long text files instead of lyrics, like the entire text of Angela's Ashes and Venus in Furs, for example. Oh well `¯\\_(ツ)_/¯`.\n",
        "\n",
        "After cleaning and parsing the lyrics, we can generate the features for the NLP model. We'll use the bag of words method and model our lyrics with the 200 most common words."
      ]
    },
    {
      "cell_type": "markdown",
      "metadata": {
        "id": "Au8E9MWPrD6B",
        "colab_type": "text"
      },
      "source": [
        "## Import Data"
      ]
    },
    {
      "cell_type": "code",
      "metadata": {
        "id": "D9VUvRKoo5YP",
        "colab_type": "code",
        "colab": {}
      },
      "source": [
        "# load packages\n",
        "import numpy as np\n",
        "import pandas as pd\n",
        "\n",
        "import matplotlib.pyplot as plt\n",
        "%matplotlib inline\n",
        "import seaborn as sns\n",
        "sns.set_style(\"darkgrid\")"
      ],
      "execution_count": 0,
      "outputs": []
    },
    {
      "cell_type": "code",
      "metadata": {
        "id": "8z9NxlMYry5p",
        "colab_type": "code",
        "colab": {}
      },
      "source": [
        "## change field size to avoid ParseError\n",
        "#import sys\n",
        "#import csv\n",
        "\n",
        "#csv.field_size_limit(sys.maxsize)\n",
        "\n",
        "#filename = \"lyric_test_data_clean\"\n",
        "## set engine=\"python\" to avoid ParseError\n",
        "## set error_bad_lines=False\n",
        "##df_lyrics = pd.read_csv(filename + \".csv\", index_col=0,\n",
        "##                        engine=\"python\", error_bad_lines=False)\n",
        "#df_lyrics = pd.read_csv(filename + \".csv\", index_col=0)\n",
        "## make sure lyric data is type string\n",
        "#df_lyrics['lyrics_raw'] = df_lyrics['lyrics_raw'].astype(str)\n",
        "#df_lyrics['lyrics_clean'] = df_lyrics['lyrics_clean'].astype(str)\n",
        "#df_lyrics.head()"
      ],
      "execution_count": 0,
      "outputs": []
    },
    {
      "cell_type": "code",
      "metadata": {
        "id": "YgWt4shUGb7_",
        "colab_type": "code",
        "outputId": "a620349e-1e09-4f31-f1bb-75832517f791",
        "colab": {
          "base_uri": "https://localhost:8080/",
          "height": 235
        }
      },
      "source": [
        "filename = \"spotify_lyrics_raw\"\n",
        "df_lyrics = pd.read_csv(filename + \".csv\")#, index_col=0)\n",
        "\n",
        "print(df_lyrics.shape)\n",
        "print(df_lyrics.dropna().shape)\n",
        "df_lyrics.head()"
      ],
      "execution_count": 0,
      "outputs": [
        {
          "output_type": "stream",
          "text": [
            "(3488, 4)\n",
            "(3488, 4)\n"
          ],
          "name": "stdout"
        },
        {
          "output_type": "execute_result",
          "data": {
            "text/html": [
              "<div>\n",
              "<style scoped>\n",
              "    .dataframe tbody tr th:only-of-type {\n",
              "        vertical-align: middle;\n",
              "    }\n",
              "\n",
              "    .dataframe tbody tr th {\n",
              "        vertical-align: top;\n",
              "    }\n",
              "\n",
              "    .dataframe thead th {\n",
              "        text-align: right;\n",
              "    }\n",
              "</style>\n",
              "<table border=\"1\" class=\"dataframe\">\n",
              "  <thead>\n",
              "    <tr style=\"text-align: right;\">\n",
              "      <th></th>\n",
              "      <th>id</th>\n",
              "      <th>artist</th>\n",
              "      <th>track</th>\n",
              "      <th>lyrics_raw</th>\n",
              "    </tr>\n",
              "  </thead>\n",
              "  <tbody>\n",
              "    <tr>\n",
              "      <th>0</th>\n",
              "      <td>7eElVgPcxDqmgGrSwVFI74</td>\n",
              "      <td>lorde</td>\n",
              "      <td>sober</td>\n",
              "      <td>[Intro]\\nNight, midnight, lose my mind\\nNight,...</td>\n",
              "    </tr>\n",
              "    <tr>\n",
              "      <th>1</th>\n",
              "      <td>02oAUzv4M0ItuTDy2RT3IT</td>\n",
              "      <td>lorde</td>\n",
              "      <td>homemade dynamite</td>\n",
              "      <td>[Verse 1]\\nA couple rebel top gun pilots\\nFlyi...</td>\n",
              "    </tr>\n",
              "    <tr>\n",
              "      <th>2</th>\n",
              "      <td>5q4BpnMrYEFzLO0dYODj6J</td>\n",
              "      <td>lorde</td>\n",
              "      <td>the louvre</td>\n",
              "      <td>[Verse 1]\\nWell, summer slipped us underneath ...</td>\n",
              "    </tr>\n",
              "    <tr>\n",
              "      <th>3</th>\n",
              "      <td>6Kkt27YmFyIFrcX3QXFi2o</td>\n",
              "      <td>lorde</td>\n",
              "      <td>liability</td>\n",
              "      <td>[Intro]\\nOne, two\\n\\n[Verse 1]\\nBaby really hu...</td>\n",
              "    </tr>\n",
              "    <tr>\n",
              "      <th>4</th>\n",
              "      <td>1Dp7JGFNjvg8Nk0CtMCcnr</td>\n",
              "      <td>lorde</td>\n",
              "      <td>hard feelings loveless</td>\n",
              "      <td>Hard Feelings\\n\\n(Go back and tell it)\\n\\nPlea...</td>\n",
              "    </tr>\n",
              "  </tbody>\n",
              "</table>\n",
              "</div>"
            ],
            "text/plain": [
              "                       id  ...                                         lyrics_raw\n",
              "0  7eElVgPcxDqmgGrSwVFI74  ...  [Intro]\\nNight, midnight, lose my mind\\nNight,...\n",
              "1  02oAUzv4M0ItuTDy2RT3IT  ...  [Verse 1]\\nA couple rebel top gun pilots\\nFlyi...\n",
              "2  5q4BpnMrYEFzLO0dYODj6J  ...  [Verse 1]\\nWell, summer slipped us underneath ...\n",
              "3  6Kkt27YmFyIFrcX3QXFi2o  ...  [Intro]\\nOne, two\\n\\n[Verse 1]\\nBaby really hu...\n",
              "4  1Dp7JGFNjvg8Nk0CtMCcnr  ...  Hard Feelings\\n\\n(Go back and tell it)\\n\\nPlea...\n",
              "\n",
              "[5 rows x 4 columns]"
            ]
          },
          "metadata": {
            "tags": []
          },
          "execution_count": 27
        }
      ]
    },
    {
      "cell_type": "code",
      "metadata": {
        "id": "j5n0vaCkF03D",
        "colab_type": "code",
        "outputId": "e0fc0d14-3358-4d96-b42e-5048ba37798b",
        "colab": {
          "base_uri": "https://localhost:8080/",
          "height": 255
        }
      },
      "source": [
        "filename = \"spotify_features\"\n",
        "Audio_features = pd.read_csv(filename + \".csv\")#, index_col=0)\n",
        "\n",
        "print(Audio_features.shape)\n",
        "print(Audio_features.dropna().shape)\n",
        "Audio_features.head()"
      ],
      "execution_count": 0,
      "outputs": [
        {
          "output_type": "stream",
          "text": [
            "(3489, 18)\n",
            "(3489, 18)\n"
          ],
          "name": "stdout"
        },
        {
          "output_type": "execute_result",
          "data": {
            "text/html": [
              "<div>\n",
              "<style scoped>\n",
              "    .dataframe tbody tr th:only-of-type {\n",
              "        vertical-align: middle;\n",
              "    }\n",
              "\n",
              "    .dataframe tbody tr th {\n",
              "        vertical-align: top;\n",
              "    }\n",
              "\n",
              "    .dataframe thead th {\n",
              "        text-align: right;\n",
              "    }\n",
              "</style>\n",
              "<table border=\"1\" class=\"dataframe\">\n",
              "  <thead>\n",
              "    <tr style=\"text-align: right;\">\n",
              "      <th></th>\n",
              "      <th>id</th>\n",
              "      <th>target</th>\n",
              "      <th>acousticness</th>\n",
              "      <th>danceability</th>\n",
              "      <th>duration_ms</th>\n",
              "      <th>energy</th>\n",
              "      <th>explicit</th>\n",
              "      <th>instrumentalness</th>\n",
              "      <th>key</th>\n",
              "      <th>liveness</th>\n",
              "      <th>loudness</th>\n",
              "      <th>mode</th>\n",
              "      <th>popularity</th>\n",
              "      <th>speechiness</th>\n",
              "      <th>tempo</th>\n",
              "      <th>time_signature</th>\n",
              "      <th>valence</th>\n",
              "      <th>year</th>\n",
              "    </tr>\n",
              "  </thead>\n",
              "  <tbody>\n",
              "    <tr>\n",
              "      <th>0</th>\n",
              "      <td>7eElVgPcxDqmgGrSwVFI74</td>\n",
              "      <td>0</td>\n",
              "      <td>0.1730</td>\n",
              "      <td>0.796</td>\n",
              "      <td>197236</td>\n",
              "      <td>0.467</td>\n",
              "      <td>True</td>\n",
              "      <td>0.004110</td>\n",
              "      <td>6</td>\n",
              "      <td>0.1260</td>\n",
              "      <td>-10.369</td>\n",
              "      <td>1</td>\n",
              "      <td>59</td>\n",
              "      <td>0.1810</td>\n",
              "      <td>107.901</td>\n",
              "      <td>4</td>\n",
              "      <td>0.516</td>\n",
              "      <td>2017</td>\n",
              "    </tr>\n",
              "    <tr>\n",
              "      <th>1</th>\n",
              "      <td>02oAUzv4M0ItuTDy2RT3IT</td>\n",
              "      <td>0</td>\n",
              "      <td>0.2870</td>\n",
              "      <td>0.771</td>\n",
              "      <td>189796</td>\n",
              "      <td>0.431</td>\n",
              "      <td>True</td>\n",
              "      <td>0.000003</td>\n",
              "      <td>10</td>\n",
              "      <td>0.0934</td>\n",
              "      <td>-5.423</td>\n",
              "      <td>1</td>\n",
              "      <td>59</td>\n",
              "      <td>0.0577</td>\n",
              "      <td>107.047</td>\n",
              "      <td>4</td>\n",
              "      <td>0.268</td>\n",
              "      <td>2017</td>\n",
              "    </tr>\n",
              "    <tr>\n",
              "      <th>2</th>\n",
              "      <td>5q4BpnMrYEFzLO0dYODj6J</td>\n",
              "      <td>0</td>\n",
              "      <td>0.2390</td>\n",
              "      <td>0.664</td>\n",
              "      <td>271088</td>\n",
              "      <td>0.382</td>\n",
              "      <td>False</td>\n",
              "      <td>0.007490</td>\n",
              "      <td>0</td>\n",
              "      <td>0.0943</td>\n",
              "      <td>-9.977</td>\n",
              "      <td>1</td>\n",
              "      <td>61</td>\n",
              "      <td>0.0470</td>\n",
              "      <td>123.214</td>\n",
              "      <td>4</td>\n",
              "      <td>0.126</td>\n",
              "      <td>2017</td>\n",
              "    </tr>\n",
              "    <tr>\n",
              "      <th>3</th>\n",
              "      <td>6Kkt27YmFyIFrcX3QXFi2o</td>\n",
              "      <td>0</td>\n",
              "      <td>0.9200</td>\n",
              "      <td>0.587</td>\n",
              "      <td>171728</td>\n",
              "      <td>0.229</td>\n",
              "      <td>False</td>\n",
              "      <td>0.000000</td>\n",
              "      <td>10</td>\n",
              "      <td>0.1000</td>\n",
              "      <td>-11.254</td>\n",
              "      <td>0</td>\n",
              "      <td>69</td>\n",
              "      <td>0.1280</td>\n",
              "      <td>75.670</td>\n",
              "      <td>4</td>\n",
              "      <td>0.379</td>\n",
              "      <td>2017</td>\n",
              "    </tr>\n",
              "    <tr>\n",
              "      <th>4</th>\n",
              "      <td>1Dp7JGFNjvg8Nk0CtMCcnr</td>\n",
              "      <td>0</td>\n",
              "      <td>0.0328</td>\n",
              "      <td>0.487</td>\n",
              "      <td>367391</td>\n",
              "      <td>0.445</td>\n",
              "      <td>True</td>\n",
              "      <td>0.010400</td>\n",
              "      <td>1</td>\n",
              "      <td>0.0778</td>\n",
              "      <td>-10.959</td>\n",
              "      <td>0</td>\n",
              "      <td>60</td>\n",
              "      <td>0.1130</td>\n",
              "      <td>97.031</td>\n",
              "      <td>4</td>\n",
              "      <td>0.180</td>\n",
              "      <td>2017</td>\n",
              "    </tr>\n",
              "  </tbody>\n",
              "</table>\n",
              "</div>"
            ],
            "text/plain": [
              "                       id  target  acousticness  ...  time_signature  valence  year\n",
              "0  7eElVgPcxDqmgGrSwVFI74       0        0.1730  ...               4    0.516  2017\n",
              "1  02oAUzv4M0ItuTDy2RT3IT       0        0.2870  ...               4    0.268  2017\n",
              "2  5q4BpnMrYEFzLO0dYODj6J       0        0.2390  ...               4    0.126  2017\n",
              "3  6Kkt27YmFyIFrcX3QXFi2o       0        0.9200  ...               4    0.379  2017\n",
              "4  1Dp7JGFNjvg8Nk0CtMCcnr       0        0.0328  ...               4    0.180  2017\n",
              "\n",
              "[5 rows x 18 columns]"
            ]
          },
          "metadata": {
            "tags": []
          },
          "execution_count": 4
        }
      ]
    },
    {
      "cell_type": "markdown",
      "metadata": {
        "id": "VOOfqmuAtGuo",
        "colab_type": "text"
      },
      "source": [
        "## Clean text"
      ]
    },
    {
      "cell_type": "code",
      "metadata": {
        "id": "drLsZVITMZkU",
        "colab_type": "code",
        "outputId": "e06009f7-ab2d-4652-d4cd-41fddf554729",
        "colab": {
          "base_uri": "https://localhost:8080/",
          "height": 199
        }
      },
      "source": [
        "# view raw data\n",
        "for i in df_lyrics[\"lyrics_raw\"].head(5):\n",
        "  display(i[:100])\n",
        "  print()"
      ],
      "execution_count": 0,
      "outputs": [
        {
          "output_type": "display_data",
          "data": {
            "text/plain": [
              "'[Intro]\\nNight, midnight, lose my mind\\nNight, midnight, lose my mind\\nNight, midnight, lose my mind\\n(W'"
            ]
          },
          "metadata": {
            "tags": []
          }
        },
        {
          "output_type": "stream",
          "text": [
            "\n"
          ],
          "name": "stdout"
        },
        {
          "output_type": "display_data",
          "data": {
            "text/plain": [
              "\"[Verse 1]\\nA couple rebel top gun pilots\\nFlying with nowhere to be\\nDon't know you super well\\nBut I th\""
            ]
          },
          "metadata": {
            "tags": []
          }
        },
        {
          "output_type": "stream",
          "text": [
            "\n"
          ],
          "name": "stdout"
        },
        {
          "output_type": "display_data",
          "data": {
            "text/plain": [
              "'[Verse 1]\\nWell, summer slipped us underneath her tongue\\nOur days and nights are perfumed with obsess'"
            ]
          },
          "metadata": {
            "tags": []
          }
        },
        {
          "output_type": "stream",
          "text": [
            "\n"
          ],
          "name": "stdout"
        },
        {
          "output_type": "display_data",
          "data": {
            "text/plain": [
              "\"[Intro]\\nOne, two\\n\\n[Verse 1]\\nBaby really hurt me, crying in the taxi\\nHe don't wanna know me\\nSays he m\""
            ]
          },
          "metadata": {
            "tags": []
          }
        },
        {
          "output_type": "stream",
          "text": [
            "\n"
          ],
          "name": "stdout"
        },
        {
          "output_type": "display_data",
          "data": {
            "text/plain": [
              "'Hard Feelings\\n\\n(Go back and tell it)\\n\\nPlease could you be tender\\nAnd I will sit close to you\\nLet’s g'"
            ]
          },
          "metadata": {
            "tags": []
          }
        },
        {
          "output_type": "stream",
          "text": [
            "\n"
          ],
          "name": "stdout"
        }
      ]
    },
    {
      "cell_type": "code",
      "metadata": {
        "id": "11gvD3L8Uivn",
        "colab_type": "code",
        "outputId": "f16cb253-9249-4bf6-e3d3-25783858bfd4",
        "colab": {
          "base_uri": "https://localhost:8080/",
          "height": 181
        }
      },
      "source": [
        "df_lyrics[\"lyrics_raw\"] = df_lyrics[\"lyrics_raw\"].astype(str)\n",
        "\n",
        "df_lyrics[\"length_raw\"] = [len(x) for x in df_lyrics[\"lyrics_raw\"]]\n",
        "df_lyrics[\"length_raw\"].describe()"
      ],
      "execution_count": 0,
      "outputs": [
        {
          "output_type": "execute_result",
          "data": {
            "text/plain": [
              "count      3488.000000\n",
              "mean      19073.112385\n",
              "std       77423.079319\n",
              "min          12.000000\n",
              "25%         981.750000\n",
              "50%        1409.000000\n",
              "75%        2034.000000\n",
              "max      825041.000000\n",
              "Name: length_raw, dtype: float64"
            ]
          },
          "metadata": {
            "tags": []
          },
          "execution_count": 29
        }
      ]
    },
    {
      "cell_type": "code",
      "metadata": {
        "id": "OBW7KwDkMgwI",
        "colab_type": "code",
        "outputId": "42b74d77-faa6-48f3-97c3-8efb00d75d51",
        "colab": {
          "base_uri": "https://localhost:8080/",
          "height": 198
        }
      },
      "source": [
        "df_lyrics.sort_values(by=['length_raw']).head(5)"
      ],
      "execution_count": 0,
      "outputs": [
        {
          "output_type": "execute_result",
          "data": {
            "text/html": [
              "<div>\n",
              "<style scoped>\n",
              "    .dataframe tbody tr th:only-of-type {\n",
              "        vertical-align: middle;\n",
              "    }\n",
              "\n",
              "    .dataframe tbody tr th {\n",
              "        vertical-align: top;\n",
              "    }\n",
              "\n",
              "    .dataframe thead th {\n",
              "        text-align: right;\n",
              "    }\n",
              "</style>\n",
              "<table border=\"1\" class=\"dataframe\">\n",
              "  <thead>\n",
              "    <tr style=\"text-align: right;\">\n",
              "      <th></th>\n",
              "      <th>id</th>\n",
              "      <th>artist</th>\n",
              "      <th>track</th>\n",
              "      <th>lyrics_raw</th>\n",
              "      <th>length_raw</th>\n",
              "    </tr>\n",
              "  </thead>\n",
              "  <tbody>\n",
              "    <tr>\n",
              "      <th>1609</th>\n",
              "      <td>5CeTuypSIJIOq0nUs4uhBh</td>\n",
              "      <td>de hofnar</td>\n",
              "      <td>vogelvlucht</td>\n",
              "      <td>Instrumental</td>\n",
              "      <td>12</td>\n",
              "    </tr>\n",
              "    <tr>\n",
              "      <th>3219</th>\n",
              "      <td>0RTjFVHvqjTdpX2NawwyXI</td>\n",
              "      <td>freddie king</td>\n",
              "      <td>stumble</td>\n",
              "      <td>Instrumental</td>\n",
              "      <td>12</td>\n",
              "    </tr>\n",
              "    <tr>\n",
              "      <th>3449</th>\n",
              "      <td>6FKasUNG1KT4r9TR9rKdll</td>\n",
              "      <td>allen toussaint</td>\n",
              "      <td>st james infirmary</td>\n",
              "      <td>Instrumental</td>\n",
              "      <td>12</td>\n",
              "    </tr>\n",
              "    <tr>\n",
              "      <th>1490</th>\n",
              "      <td>5dRcHQnH0EQUTMUSJrpaug</td>\n",
              "      <td>worakls</td>\n",
              "      <td>flocon de neige</td>\n",
              "      <td>INSTRUMENTAL</td>\n",
              "      <td>12</td>\n",
              "    </tr>\n",
              "    <tr>\n",
              "      <th>3473</th>\n",
              "      <td>2i93Q7j5Pxjsy7PBV2oro2</td>\n",
              "      <td>junior kimbrough</td>\n",
              "      <td>most things haven t worked out</td>\n",
              "      <td>Instrumental</td>\n",
              "      <td>12</td>\n",
              "    </tr>\n",
              "  </tbody>\n",
              "</table>\n",
              "</div>"
            ],
            "text/plain": [
              "                          id            artist  ...    lyrics_raw length_raw\n",
              "1609  5CeTuypSIJIOq0nUs4uhBh         de hofnar  ...  Instrumental         12\n",
              "3219  0RTjFVHvqjTdpX2NawwyXI      freddie king  ...  Instrumental         12\n",
              "3449  6FKasUNG1KT4r9TR9rKdll   allen toussaint  ...  Instrumental         12\n",
              "1490  5dRcHQnH0EQUTMUSJrpaug           worakls  ...  INSTRUMENTAL         12\n",
              "3473  2i93Q7j5Pxjsy7PBV2oro2  junior kimbrough  ...  Instrumental         12\n",
              "\n",
              "[5 rows x 5 columns]"
            ]
          },
          "metadata": {
            "tags": []
          },
          "execution_count": 10
        }
      ]
    },
    {
      "cell_type": "code",
      "metadata": {
        "id": "qDSleR9FNYal",
        "colab_type": "code",
        "outputId": "c7b534c2-2ff9-410f-dea3-3ee88c199fcf",
        "colab": {
          "base_uri": "https://localhost:8080/",
          "height": 235
        }
      },
      "source": [
        "# drop NaN values\n",
        "display(df_lyrics.shape)\n",
        "df_lyrics = df_lyrics[df_lyrics[\"lyrics_raw\"]!='nan']\n",
        "display(df_lyrics.shape)\n",
        "df_lyrics.head(5)"
      ],
      "execution_count": 0,
      "outputs": [
        {
          "output_type": "display_data",
          "data": {
            "text/plain": [
              "(3488, 5)"
            ]
          },
          "metadata": {
            "tags": []
          }
        },
        {
          "output_type": "display_data",
          "data": {
            "text/plain": [
              "(3488, 5)"
            ]
          },
          "metadata": {
            "tags": []
          }
        },
        {
          "output_type": "execute_result",
          "data": {
            "text/html": [
              "<div>\n",
              "<style scoped>\n",
              "    .dataframe tbody tr th:only-of-type {\n",
              "        vertical-align: middle;\n",
              "    }\n",
              "\n",
              "    .dataframe tbody tr th {\n",
              "        vertical-align: top;\n",
              "    }\n",
              "\n",
              "    .dataframe thead th {\n",
              "        text-align: right;\n",
              "    }\n",
              "</style>\n",
              "<table border=\"1\" class=\"dataframe\">\n",
              "  <thead>\n",
              "    <tr style=\"text-align: right;\">\n",
              "      <th></th>\n",
              "      <th>id</th>\n",
              "      <th>artist</th>\n",
              "      <th>track</th>\n",
              "      <th>lyrics_raw</th>\n",
              "      <th>length_raw</th>\n",
              "    </tr>\n",
              "  </thead>\n",
              "  <tbody>\n",
              "    <tr>\n",
              "      <th>0</th>\n",
              "      <td>7eElVgPcxDqmgGrSwVFI74</td>\n",
              "      <td>lorde</td>\n",
              "      <td>sober</td>\n",
              "      <td>[Intro]\\nNight, midnight, lose my mind\\nNight,...</td>\n",
              "      <td>2485</td>\n",
              "    </tr>\n",
              "    <tr>\n",
              "      <th>1</th>\n",
              "      <td>02oAUzv4M0ItuTDy2RT3IT</td>\n",
              "      <td>lorde</td>\n",
              "      <td>homemade dynamite</td>\n",
              "      <td>[Verse 1]\\nA couple rebel top gun pilots\\nFlyi...</td>\n",
              "      <td>1795</td>\n",
              "    </tr>\n",
              "    <tr>\n",
              "      <th>2</th>\n",
              "      <td>5q4BpnMrYEFzLO0dYODj6J</td>\n",
              "      <td>lorde</td>\n",
              "      <td>the louvre</td>\n",
              "      <td>[Verse 1]\\nWell, summer slipped us underneath ...</td>\n",
              "      <td>1824</td>\n",
              "    </tr>\n",
              "    <tr>\n",
              "      <th>3</th>\n",
              "      <td>6Kkt27YmFyIFrcX3QXFi2o</td>\n",
              "      <td>lorde</td>\n",
              "      <td>liability</td>\n",
              "      <td>[Intro]\\nOne, two\\n\\n[Verse 1]\\nBaby really hu...</td>\n",
              "      <td>1305</td>\n",
              "    </tr>\n",
              "    <tr>\n",
              "      <th>4</th>\n",
              "      <td>1Dp7JGFNjvg8Nk0CtMCcnr</td>\n",
              "      <td>lorde</td>\n",
              "      <td>hard feelings loveless</td>\n",
              "      <td>Hard Feelings\\n\\n(Go back and tell it)\\n\\nPlea...</td>\n",
              "      <td>2386</td>\n",
              "    </tr>\n",
              "  </tbody>\n",
              "</table>\n",
              "</div>"
            ],
            "text/plain": [
              "                       id  ... length_raw\n",
              "0  7eElVgPcxDqmgGrSwVFI74  ...       2485\n",
              "1  02oAUzv4M0ItuTDy2RT3IT  ...       1795\n",
              "2  5q4BpnMrYEFzLO0dYODj6J  ...       1824\n",
              "3  6Kkt27YmFyIFrcX3QXFi2o  ...       1305\n",
              "4  1Dp7JGFNjvg8Nk0CtMCcnr  ...       2386\n",
              "\n",
              "[5 rows x 5 columns]"
            ]
          },
          "metadata": {
            "tags": []
          },
          "execution_count": 11
        }
      ]
    },
    {
      "cell_type": "code",
      "metadata": {
        "id": "6gAuoGojS6eo",
        "colab_type": "code",
        "outputId": "d0f70b68-fa74-4678-8d0c-3caaf15d251b",
        "colab": {
          "base_uri": "https://localhost:8080/",
          "height": 235
        }
      },
      "source": [
        "# drop duplicates\n",
        "display(df_lyrics.shape)\n",
        "df_lyrics = df_lyrics.drop_duplicates(keep=False)\n",
        "display(df_lyrics.shape)\n",
        "df_lyrics.head(5)"
      ],
      "execution_count": 0,
      "outputs": [
        {
          "output_type": "display_data",
          "data": {
            "text/plain": [
              "(3488, 5)"
            ]
          },
          "metadata": {
            "tags": []
          }
        },
        {
          "output_type": "display_data",
          "data": {
            "text/plain": [
              "(3488, 5)"
            ]
          },
          "metadata": {
            "tags": []
          }
        },
        {
          "output_type": "execute_result",
          "data": {
            "text/html": [
              "<div>\n",
              "<style scoped>\n",
              "    .dataframe tbody tr th:only-of-type {\n",
              "        vertical-align: middle;\n",
              "    }\n",
              "\n",
              "    .dataframe tbody tr th {\n",
              "        vertical-align: top;\n",
              "    }\n",
              "\n",
              "    .dataframe thead th {\n",
              "        text-align: right;\n",
              "    }\n",
              "</style>\n",
              "<table border=\"1\" class=\"dataframe\">\n",
              "  <thead>\n",
              "    <tr style=\"text-align: right;\">\n",
              "      <th></th>\n",
              "      <th>id</th>\n",
              "      <th>artist</th>\n",
              "      <th>track</th>\n",
              "      <th>lyrics_raw</th>\n",
              "      <th>length_raw</th>\n",
              "    </tr>\n",
              "  </thead>\n",
              "  <tbody>\n",
              "    <tr>\n",
              "      <th>0</th>\n",
              "      <td>7eElVgPcxDqmgGrSwVFI74</td>\n",
              "      <td>lorde</td>\n",
              "      <td>sober</td>\n",
              "      <td>[Intro]\\nNight, midnight, lose my mind\\nNight,...</td>\n",
              "      <td>2485</td>\n",
              "    </tr>\n",
              "    <tr>\n",
              "      <th>1</th>\n",
              "      <td>02oAUzv4M0ItuTDy2RT3IT</td>\n",
              "      <td>lorde</td>\n",
              "      <td>homemade dynamite</td>\n",
              "      <td>[Verse 1]\\nA couple rebel top gun pilots\\nFlyi...</td>\n",
              "      <td>1795</td>\n",
              "    </tr>\n",
              "    <tr>\n",
              "      <th>2</th>\n",
              "      <td>5q4BpnMrYEFzLO0dYODj6J</td>\n",
              "      <td>lorde</td>\n",
              "      <td>the louvre</td>\n",
              "      <td>[Verse 1]\\nWell, summer slipped us underneath ...</td>\n",
              "      <td>1824</td>\n",
              "    </tr>\n",
              "    <tr>\n",
              "      <th>3</th>\n",
              "      <td>6Kkt27YmFyIFrcX3QXFi2o</td>\n",
              "      <td>lorde</td>\n",
              "      <td>liability</td>\n",
              "      <td>[Intro]\\nOne, two\\n\\n[Verse 1]\\nBaby really hu...</td>\n",
              "      <td>1305</td>\n",
              "    </tr>\n",
              "    <tr>\n",
              "      <th>4</th>\n",
              "      <td>1Dp7JGFNjvg8Nk0CtMCcnr</td>\n",
              "      <td>lorde</td>\n",
              "      <td>hard feelings loveless</td>\n",
              "      <td>Hard Feelings\\n\\n(Go back and tell it)\\n\\nPlea...</td>\n",
              "      <td>2386</td>\n",
              "    </tr>\n",
              "  </tbody>\n",
              "</table>\n",
              "</div>"
            ],
            "text/plain": [
              "                       id  ... length_raw\n",
              "0  7eElVgPcxDqmgGrSwVFI74  ...       2485\n",
              "1  02oAUzv4M0ItuTDy2RT3IT  ...       1795\n",
              "2  5q4BpnMrYEFzLO0dYODj6J  ...       1824\n",
              "3  6Kkt27YmFyIFrcX3QXFi2o  ...       1305\n",
              "4  1Dp7JGFNjvg8Nk0CtMCcnr  ...       2386\n",
              "\n",
              "[5 rows x 5 columns]"
            ]
          },
          "metadata": {
            "tags": []
          },
          "execution_count": 12
        }
      ]
    },
    {
      "cell_type": "markdown",
      "metadata": {
        "id": "UjHG1zNWKPo4",
        "colab_type": "text"
      },
      "source": [
        "### Shortest Lyrics"
      ]
    },
    {
      "cell_type": "code",
      "metadata": {
        "id": "DHqVVL8WIvI8",
        "colab_type": "code",
        "outputId": "6a83aea8-93ee-4f9c-9b74-67e38039e651",
        "colab": {
          "base_uri": "https://localhost:8080/",
          "height": 448
        }
      },
      "source": [
        "display(df_lyrics[\"length_raw\"].describe())\n",
        "sns.distplot(df_lyrics[\"length_raw\"])\n",
        "plt.show()"
      ],
      "execution_count": 0,
      "outputs": [
        {
          "output_type": "display_data",
          "data": {
            "text/plain": [
              "count      3488.000000\n",
              "mean      19073.112385\n",
              "std       77423.079319\n",
              "min          12.000000\n",
              "25%         981.750000\n",
              "50%        1409.000000\n",
              "75%        2034.000000\n",
              "max      825041.000000\n",
              "Name: length_raw, dtype: float64"
            ]
          },
          "metadata": {
            "tags": []
          }
        },
        {
          "output_type": "display_data",
          "data": {
            "image/png": "[encoded data removed]",
            "text/plain": [
              "<Figure size 432x288 with 1 Axes>"
            ]
          },
          "metadata": {
            "tags": []
          }
        }
      ]
    },
    {
      "cell_type": "code",
      "metadata": {
        "id": "pp56_6k9IhE1",
        "colab_type": "code",
        "outputId": "3c04662a-a363-4847-ff76-c3bce3786b39",
        "colab": {
          "base_uri": "https://localhost:8080/",
          "height": 449
        }
      },
      "source": [
        "# drop songs that are too short to process\n",
        "display(df_lyrics[\"length_raw\"].describe())\n",
        "sns.distplot(df_lyrics[\"length_raw\"]\n",
        "             [df_lyrics[\"length_raw\"]<df_lyrics[\"length_raw\"]\n",
        "              .quantile(q=.25)])\n",
        "plt.show()"
      ],
      "execution_count": 0,
      "outputs": [
        {
          "output_type": "display_data",
          "data": {
            "text/plain": [
              "count      3488.000000\n",
              "mean      19073.112385\n",
              "std       77423.079319\n",
              "min          12.000000\n",
              "25%         981.750000\n",
              "50%        1409.000000\n",
              "75%        2034.000000\n",
              "max      825041.000000\n",
              "Name: length_raw, dtype: float64"
            ]
          },
          "metadata": {
            "tags": []
          }
        },
        {
          "output_type": "display_data",
          "data": {
            "image/png": "[encoded data removed]",
            "text/plain": [
              "<Figure size 432x288 with 1 Axes>"
            ]
          },
          "metadata": {
            "tags": []
          }
        }
      ]
    },
    {
      "cell_type": "code",
      "metadata": {
        "id": "j-z_SCI-I-es",
        "colab_type": "code",
        "outputId": "c3ee6872-ee6e-4709-fa99-542df1076c16",
        "colab": {
          "base_uri": "https://localhost:8080/",
          "height": 235
        }
      },
      "source": [
        "variance = df_lyrics[\"length_raw\"][df_lyrics[\"length_raw\"] < \n",
        "                                   df_lyrics[\"length_raw\"].quantile(q=.10)].std()\n",
        "print(\"variance: {}\".format(variance))\n",
        "too_short = df_lyrics[\"length_raw\"].quantile(q=.10) - variance*2\n",
        "print(df_lyrics[df_lyrics[\"length_raw\"]<too_short].shape)\n",
        "df_lyrics[\"length_raw\"][df_lyrics[\"length_raw\"]<too_short].describe()\n",
        "display(df_lyrics[df_lyrics[\"length_raw\"]<too_short].tail(5))"
      ],
      "execution_count": 0,
      "outputs": [
        {
          "output_type": "stream",
          "text": [
            "variance: 238.74506888631498\n",
            "(118, 5)\n"
          ],
          "name": "stdout"
        },
        {
          "output_type": "display_data",
          "data": {
            "text/html": [
              "<div>\n",
              "<style scoped>\n",
              "    .dataframe tbody tr th:only-of-type {\n",
              "        vertical-align: middle;\n",
              "    }\n",
              "\n",
              "    .dataframe tbody tr th {\n",
              "        vertical-align: top;\n",
              "    }\n",
              "\n",
              "    .dataframe thead th {\n",
              "        text-align: right;\n",
              "    }\n",
              "</style>\n",
              "<table border=\"1\" class=\"dataframe\">\n",
              "  <thead>\n",
              "    <tr style=\"text-align: right;\">\n",
              "      <th></th>\n",
              "      <th>id</th>\n",
              "      <th>artist</th>\n",
              "      <th>track</th>\n",
              "      <th>lyrics_raw</th>\n",
              "      <th>length_raw</th>\n",
              "    </tr>\n",
              "  </thead>\n",
              "  <tbody>\n",
              "    <tr>\n",
              "      <th>3438</th>\n",
              "      <td>3uo1LMmWz3WrnAea1e3HUu</td>\n",
              "      <td>freddie king</td>\n",
              "      <td>hideaway</td>\n",
              "      <td>[Instrumental]</td>\n",
              "      <td>14</td>\n",
              "    </tr>\n",
              "    <tr>\n",
              "      <th>3449</th>\n",
              "      <td>6FKasUNG1KT4r9TR9rKdll</td>\n",
              "      <td>allen toussaint</td>\n",
              "      <td>st james infirmary</td>\n",
              "      <td>Instrumental</td>\n",
              "      <td>12</td>\n",
              "    </tr>\n",
              "    <tr>\n",
              "      <th>3455</th>\n",
              "      <td>6nS9crd0L3jh2zbGCPGkiC</td>\n",
              "      <td>bruce cockburn</td>\n",
              "      <td>when it s gone it s gone</td>\n",
              "      <td>Instrumental</td>\n",
              "      <td>12</td>\n",
              "    </tr>\n",
              "    <tr>\n",
              "      <th>3473</th>\n",
              "      <td>2i93Q7j5Pxjsy7PBV2oro2</td>\n",
              "      <td>junior kimbrough</td>\n",
              "      <td>most things haven t worked out</td>\n",
              "      <td>Instrumental</td>\n",
              "      <td>12</td>\n",
              "    </tr>\n",
              "    <tr>\n",
              "      <th>3475</th>\n",
              "      <td>77xNKAq581eD62ipzK81yc</td>\n",
              "      <td>skip james</td>\n",
              "      <td>hard time killin floor blues</td>\n",
              "      <td>Hard times here an' everywhere I go\\nTime is h...</td>\n",
              "      <td>159</td>\n",
              "    </tr>\n",
              "  </tbody>\n",
              "</table>\n",
              "</div>"
            ],
            "text/plain": [
              "                          id  ... length_raw\n",
              "3438  3uo1LMmWz3WrnAea1e3HUu  ...         14\n",
              "3449  6FKasUNG1KT4r9TR9rKdll  ...         12\n",
              "3455  6nS9crd0L3jh2zbGCPGkiC  ...         12\n",
              "3473  2i93Q7j5Pxjsy7PBV2oro2  ...         12\n",
              "3475  77xNKAq581eD62ipzK81yc  ...        159\n",
              "\n",
              "[5 rows x 5 columns]"
            ]
          },
          "metadata": {
            "tags": []
          }
        }
      ]
    },
    {
      "cell_type": "code",
      "metadata": {
        "id": "gj7i7_ynJ5LB",
        "colab_type": "code",
        "outputId": "f0e251cf-ffb6-4978-8b84-520443ba602b",
        "colab": {
          "base_uri": "https://localhost:8080/",
          "height": 321
        }
      },
      "source": [
        "print(df_lyrics.shape)\n",
        "df_lyrics = df_lyrics[df_lyrics[\"length_raw\"]>too_short]\n",
        "print(df_lyrics.shape)\n",
        "sns.distplot(df_lyrics[\"length_raw\"])\n",
        "plt.show()"
      ],
      "execution_count": 0,
      "outputs": [
        {
          "output_type": "stream",
          "text": [
            "(3488, 5)\n",
            "(3370, 5)\n"
          ],
          "name": "stdout"
        },
        {
          "output_type": "display_data",
          "data": {
            "image/png": "[encoded data removed]",
            "text/plain": [
              "<Figure size 432x288 with 1 Axes>"
            ]
          },
          "metadata": {
            "tags": []
          }
        }
      ]
    },
    {
      "cell_type": "markdown",
      "metadata": {
        "id": "3bpFfNm_KL3I",
        "colab_type": "text"
      },
      "source": [
        "### Longest Lyrics"
      ]
    },
    {
      "cell_type": "code",
      "metadata": {
        "id": "R1JlT_j2Wc2i",
        "colab_type": "code",
        "outputId": "cf788a89-78a3-4caf-cde8-8d7febc961bc",
        "colab": {
          "base_uri": "https://localhost:8080/",
          "height": 198
        }
      },
      "source": [
        "df_lyrics = df_lyrics.sort_values(by=['length_raw'], ascending=0)\n",
        "df_lyrics.head(5)"
      ],
      "execution_count": 0,
      "outputs": [
        {
          "output_type": "execute_result",
          "data": {
            "text/html": [
              "<div>\n",
              "<style scoped>\n",
              "    .dataframe tbody tr th:only-of-type {\n",
              "        vertical-align: middle;\n",
              "    }\n",
              "\n",
              "    .dataframe tbody tr th {\n",
              "        vertical-align: top;\n",
              "    }\n",
              "\n",
              "    .dataframe thead th {\n",
              "        text-align: right;\n",
              "    }\n",
              "</style>\n",
              "<table border=\"1\" class=\"dataframe\">\n",
              "  <thead>\n",
              "    <tr style=\"text-align: right;\">\n",
              "      <th></th>\n",
              "      <th>id</th>\n",
              "      <th>artist</th>\n",
              "      <th>track</th>\n",
              "      <th>lyrics_raw</th>\n",
              "      <th>length_raw</th>\n",
              "    </tr>\n",
              "  </thead>\n",
              "  <tbody>\n",
              "    <tr>\n",
              "      <th>3291</th>\n",
              "      <td>4yyUQQ8M2AEVY8h7CyEAlX</td>\n",
              "      <td>furry lewis</td>\n",
              "      <td>judge harsh blues alternate take</td>\n",
              "      <td>CHAPTE...</td>\n",
              "      <td>825041</td>\n",
              "    </tr>\n",
              "    <tr>\n",
              "      <th>2428</th>\n",
              "      <td>7JbTESh9jcBAjqqJxGMrbD</td>\n",
              "      <td>lennie gallant</td>\n",
              "      <td>tales of the phantom ship</td>\n",
              "      <td>CHAPTE...</td>\n",
              "      <td>825041</td>\n",
              "    </tr>\n",
              "    <tr>\n",
              "      <th>1160</th>\n",
              "      <td>0j3k6gGcIn3xt1xO7eyLOc</td>\n",
              "      <td>julien marchal</td>\n",
              "      <td>insight xiv</td>\n",
              "      <td>CHAPTE...</td>\n",
              "      <td>825041</td>\n",
              "    </tr>\n",
              "    <tr>\n",
              "      <th>3263</th>\n",
              "      <td>4T9Jpft8jvZAP57aE3VdCt</td>\n",
              "      <td>dr john</td>\n",
              "      <td>down in new orleans from the princess and the ...</td>\n",
              "      <td>CHAPTE...</td>\n",
              "      <td>825041</td>\n",
              "    </tr>\n",
              "    <tr>\n",
              "      <th>2382</th>\n",
              "      <td>1V5obvn19riNXWcc7TUIb8</td>\n",
              "      <td>leeroy stagger</td>\n",
              "      <td>until the end of time</td>\n",
              "      <td>CHAPTE...</td>\n",
              "      <td>825041</td>\n",
              "    </tr>\n",
              "  </tbody>\n",
              "</table>\n",
              "</div>"
            ],
            "text/plain": [
              "                          id  ... length_raw\n",
              "3291  4yyUQQ8M2AEVY8h7CyEAlX  ...     825041\n",
              "2428  7JbTESh9jcBAjqqJxGMrbD  ...     825041\n",
              "1160  0j3k6gGcIn3xt1xO7eyLOc  ...     825041\n",
              "3263  4T9Jpft8jvZAP57aE3VdCt  ...     825041\n",
              "2382  1V5obvn19riNXWcc7TUIb8  ...     825041\n",
              "\n",
              "[5 rows x 5 columns]"
            ]
          },
          "metadata": {
            "tags": []
          },
          "execution_count": 18
        }
      ]
    },
    {
      "cell_type": "code",
      "metadata": {
        "id": "aOzMi6kZXRHf",
        "colab_type": "code",
        "outputId": "a8141d6d-474d-4fa6-e6ff-223c5d36f7e0",
        "colab": {
          "base_uri": "https://localhost:8080/",
          "height": 128
        }
      },
      "source": [
        "for i in df_lyrics[\"lyrics_raw\"].head(5):\n",
        "  display(i[:200])"
      ],
      "execution_count": 0,
      "outputs": [
        {
          "output_type": "display_data",
          "data": {
            "text/plain": [
              "'\\xa0\\xa0\\xa0\\xa0\\xa0\\xa0\\xa0\\xa0\\xa0\\xa0\\xa0\\xa0\\xa0\\xa0\\xa0\\xa0\\xa0\\xa0\\xa0\\xa0\\xa0\\xa0\\xa0\\xa0\\xa0\\xa0\\xa0\\xa0\\xa0\\xa0\\xa0\\xa0\\xa0\\xa0\\xa0\\xa0\\xa0\\xa0\\xa0 CHAPTER ONE\\n\\nNAMES OF PEOPLE: THE DUCHESSE DE GUERMANTES — SAINT-LOUP AT DONCIÈRES — MME. DE VILLEPARISIS AT HOME — MY GRANDMOTHER’S ILLNESS — BERGOTTE’S ILLNES'"
            ]
          },
          "metadata": {
            "tags": []
          }
        },
        {
          "output_type": "display_data",
          "data": {
            "text/plain": [
              "'\\xa0\\xa0\\xa0\\xa0\\xa0\\xa0\\xa0\\xa0\\xa0\\xa0\\xa0\\xa0\\xa0\\xa0\\xa0\\xa0\\xa0\\xa0\\xa0\\xa0\\xa0\\xa0\\xa0\\xa0\\xa0\\xa0\\xa0\\xa0\\xa0\\xa0\\xa0\\xa0\\xa0\\xa0\\xa0\\xa0\\xa0\\xa0\\xa0 CHAPTER ONE\\n\\nNAMES OF PEOPLE: THE DUCHESSE DE GUERMANTES — SAINT-LOUP AT DONCIÈRES — MME. DE VILLEPARISIS AT HOME — MY GRANDMOTHER’S ILLNESS — BERGOTTE’S ILLNES'"
            ]
          },
          "metadata": {
            "tags": []
          }
        },
        {
          "output_type": "display_data",
          "data": {
            "text/plain": [
              "'\\xa0\\xa0\\xa0\\xa0\\xa0\\xa0\\xa0\\xa0\\xa0\\xa0\\xa0\\xa0\\xa0\\xa0\\xa0\\xa0\\xa0\\xa0\\xa0\\xa0\\xa0\\xa0\\xa0\\xa0\\xa0\\xa0\\xa0\\xa0\\xa0\\xa0\\xa0\\xa0\\xa0\\xa0\\xa0\\xa0\\xa0\\xa0\\xa0 CHAPTER ONE\\n\\nNAMES OF PEOPLE: THE DUCHESSE DE GUERMANTES — SAINT-LOUP AT DONCIÈRES — MME. DE VILLEPARISIS AT HOME — MY GRANDMOTHER’S ILLNESS — BERGOTTE’S ILLNES'"
            ]
          },
          "metadata": {
            "tags": []
          }
        },
        {
          "output_type": "display_data",
          "data": {
            "text/plain": [
              "'\\xa0\\xa0\\xa0\\xa0\\xa0\\xa0\\xa0\\xa0\\xa0\\xa0\\xa0\\xa0\\xa0\\xa0\\xa0\\xa0\\xa0\\xa0\\xa0\\xa0\\xa0\\xa0\\xa0\\xa0\\xa0\\xa0\\xa0\\xa0\\xa0\\xa0\\xa0\\xa0\\xa0\\xa0\\xa0\\xa0\\xa0\\xa0\\xa0 CHAPTER ONE\\n\\nNAMES OF PEOPLE: THE DUCHESSE DE GUERMANTES — SAINT-LOUP AT DONCIÈRES — MME. DE VILLEPARISIS AT HOME — MY GRANDMOTHER’S ILLNESS — BERGOTTE’S ILLNES'"
            ]
          },
          "metadata": {
            "tags": []
          }
        },
        {
          "output_type": "display_data",
          "data": {
            "text/plain": [
              "'\\xa0\\xa0\\xa0\\xa0\\xa0\\xa0\\xa0\\xa0\\xa0\\xa0\\xa0\\xa0\\xa0\\xa0\\xa0\\xa0\\xa0\\xa0\\xa0\\xa0\\xa0\\xa0\\xa0\\xa0\\xa0\\xa0\\xa0\\xa0\\xa0\\xa0\\xa0\\xa0\\xa0\\xa0\\xa0\\xa0\\xa0\\xa0\\xa0 CHAPTER ONE\\n\\nNAMES OF PEOPLE: THE DUCHESSE DE GUERMANTES — SAINT-LOUP AT DONCIÈRES — MME. DE VILLEPARISIS AT HOME — MY GRANDMOTHER’S ILLNESS — BERGOTTE’S ILLNES'"
            ]
          },
          "metadata": {
            "tags": []
          }
        }
      ]
    },
    {
      "cell_type": "code",
      "metadata": {
        "id": "4z53tZxqkbRm",
        "colab_type": "code",
        "outputId": "e6c6d14d-f3f7-47f7-ba2f-68a014fb4d47",
        "colab": {
          "base_uri": "https://localhost:8080/",
          "height": 448
        }
      },
      "source": [
        "display(df_lyrics[\"length_raw\"].describe())\n",
        "sns.distplot(df_lyrics[\"length_raw\"][df_lyrics[\"length_raw\"]\n",
        "                                     >df_lyrics[\"length_raw\"]\n",
        "                                     .quantile(q=.75)])\n",
        "plt.show()"
      ],
      "execution_count": 0,
      "outputs": [
        {
          "output_type": "display_data",
          "data": {
            "text/plain": [
              "count      3370.000000\n",
              "mean      19739.746588\n",
              "std       78683.835351\n",
              "min         177.000000\n",
              "25%        1028.000000\n",
              "50%        1435.000000\n",
              "75%        2061.750000\n",
              "max      825041.000000\n",
              "Name: length_raw, dtype: float64"
            ]
          },
          "metadata": {
            "tags": []
          }
        },
        {
          "output_type": "display_data",
          "data": {
            "image/png": "[encoded data removed]",
            "text/plain": [
              "<Figure size 432x288 with 1 Axes>"
            ]
          },
          "metadata": {
            "tags": []
          }
        }
      ]
    },
    {
      "cell_type": "code",
      "metadata": {
        "id": "e3pdSpEtBkau",
        "colab_type": "code",
        "outputId": "bfd9d67e-501c-4c99-e198-54d2a9d82855",
        "colab": {
          "base_uri": "https://localhost:8080/",
          "height": 181
        }
      },
      "source": [
        "df_lyrics[\"length_raw\"][df_lyrics[\"length_raw\"]\n",
        "                        >df_lyrics[\"length_raw\"]\n",
        "                        .quantile(q=.75)].describe()"
      ],
      "execution_count": 0,
      "outputs": [
        {
          "output_type": "execute_result",
          "data": {
            "text/plain": [
              "count       843.000000\n",
              "mean      75231.051008\n",
              "std      143735.924669\n",
              "min        2062.000000\n",
              "25%        2685.000000\n",
              "50%       13959.000000\n",
              "75%       80423.500000\n",
              "max      825041.000000\n",
              "Name: length_raw, dtype: float64"
            ]
          },
          "metadata": {
            "tags": []
          },
          "execution_count": 21
        }
      ]
    },
    {
      "cell_type": "code",
      "metadata": {
        "id": "rsquXvVml8T1",
        "colab_type": "code",
        "outputId": "9c89a5ea-eb19-4b76-8fbe-2ae6dc9aa71c",
        "colab": {
          "base_uri": "https://localhost:8080/",
          "height": 235
        }
      },
      "source": [
        "variance = df_lyrics[\"length_raw\"][df_lyrics[\"length_raw\"] < \n",
        "                                   df_lyrics[\"length_raw\"].quantile(q=.85)].std()\n",
        "print(\"variance: {}\".format(variance))\n",
        "too_long = df_lyrics[\"length_raw\"].quantile(q=.85) + variance*2\n",
        "print(df_lyrics[df_lyrics[\"length_raw\"]>too_long].shape)\n",
        "df_lyrics[\"length_raw\"][df_lyrics[\"length_raw\"]>too_long].describe()\n",
        "display(df_lyrics[df_lyrics[\"length_raw\"]>too_long].tail(5))"
      ],
      "execution_count": 0,
      "outputs": [
        {
          "output_type": "stream",
          "text": [
            "variance: 654.98493650246\n",
            "(498, 5)\n"
          ],
          "name": "stdout"
        },
        {
          "output_type": "display_data",
          "data": {
            "text/html": [
              "<div>\n",
              "<style scoped>\n",
              "    .dataframe tbody tr th:only-of-type {\n",
              "        vertical-align: middle;\n",
              "    }\n",
              "\n",
              "    .dataframe tbody tr th {\n",
              "        vertical-align: top;\n",
              "    }\n",
              "\n",
              "    .dataframe thead th {\n",
              "        text-align: right;\n",
              "    }\n",
              "</style>\n",
              "<table border=\"1\" class=\"dataframe\">\n",
              "  <thead>\n",
              "    <tr style=\"text-align: right;\">\n",
              "      <th></th>\n",
              "      <th>id</th>\n",
              "      <th>artist</th>\n",
              "      <th>track</th>\n",
              "      <th>lyrics_raw</th>\n",
              "      <th>length_raw</th>\n",
              "    </tr>\n",
              "  </thead>\n",
              "  <tbody>\n",
              "    <tr>\n",
              "      <th>3454</th>\n",
              "      <td>0OMA1sAHJvRHnBdBLdyOf5</td>\n",
              "      <td>charlie parr</td>\n",
              "      <td>over the red cedar</td>\n",
              "      <td>From: Christopher Jordan Dorner /7648\\n\\nTo: A...</td>\n",
              "      <td>65366</td>\n",
              "    </tr>\n",
              "    <tr>\n",
              "      <th>3458</th>\n",
              "      <td>5msUkViWuGHXmH74byeBQn</td>\n",
              "      <td>junior wells</td>\n",
              "      <td>she s a sweet one</td>\n",
              "      <td>OPENING MONOLOGUE\\n\\nThe thing I don’t underst...</td>\n",
              "      <td>19248</td>\n",
              "    </tr>\n",
              "    <tr>\n",
              "      <th>3459</th>\n",
              "      <td>2uQfgaV796QLHJCVOP4bn1</td>\n",
              "      <td>john hammond</td>\n",
              "      <td>2 19</td>\n",
              "      <td>10/1\\niKON - NEW KIDS: THE FINAL - 4/4\\nKero K...</td>\n",
              "      <td>13873</td>\n",
              "    </tr>\n",
              "    <tr>\n",
              "      <th>3465</th>\n",
              "      <td>7KotNh8bE906njI7tnMAME</td>\n",
              "      <td>big walter horton</td>\n",
              "      <td>have a good time</td>\n",
              "      <td>OUTSIDE THE CRISPUS ATTUCKS COMPLEX\\n\\nLuke Ca...</td>\n",
              "      <td>30535</td>\n",
              "    </tr>\n",
              "    <tr>\n",
              "      <th>3469</th>\n",
              "      <td>0E0ZCgyjnMEcPrl46by8tt</td>\n",
              "      <td>ray bonneville</td>\n",
              "      <td>shake off them blues</td>\n",
              "      <td>As we there are where are we are we there from...</td>\n",
              "      <td>91586</td>\n",
              "    </tr>\n",
              "  </tbody>\n",
              "</table>\n",
              "</div>"
            ],
            "text/plain": [
              "                          id  ... length_raw\n",
              "3454  0OMA1sAHJvRHnBdBLdyOf5  ...      65366\n",
              "3458  5msUkViWuGHXmH74byeBQn  ...      19248\n",
              "3459  2uQfgaV796QLHJCVOP4bn1  ...      13873\n",
              "3465  7KotNh8bE906njI7tnMAME  ...      30535\n",
              "3469  0E0ZCgyjnMEcPrl46by8tt  ...      91586\n",
              "\n",
              "[5 rows x 5 columns]"
            ]
          },
          "metadata": {
            "tags": []
          }
        }
      ]
    },
    {
      "cell_type": "code",
      "metadata": {
        "id": "prEz5Ll-oNdP",
        "colab_type": "code",
        "outputId": "07bce871-cca4-49a9-b805-411095be0bc6",
        "colab": {
          "base_uri": "https://localhost:8080/",
          "height": 333
        }
      },
      "source": [
        "print(df_lyrics.shape)\n",
        "df_lyrics = df_lyrics[df_lyrics[\"length_raw\"]<too_long]\n",
        "print(df_lyrics.shape)\n",
        "sns.distplot(df_lyrics[\"length_raw\"])\n",
        "plt.title(\"Raw Text\")\n",
        "plt.show()"
      ],
      "execution_count": 0,
      "outputs": [
        {
          "output_type": "stream",
          "text": [
            "(3488, 5)\n",
            "(2990, 5)\n"
          ],
          "name": "stdout"
        },
        {
          "output_type": "display_data",
          "data": {
            "image/png": "[encoded data removed]",
            "text/plain": [
              "<Figure size 432x288 with 1 Axes>"
            ]
          },
          "metadata": {
            "tags": []
          }
        }
      ]
    },
    {
      "cell_type": "code",
      "metadata": {
        "id": "Ia-eR_hOo3A7",
        "colab_type": "code",
        "outputId": "96abdf91-6c50-4360-ecd3-c9cc645f62c4",
        "colab": {
          "base_uri": "https://localhost:8080/",
          "height": 198
        }
      },
      "source": [
        "df_lyrics = df_lyrics.sort_index()\n",
        "df_lyrics.head()"
      ],
      "execution_count": 0,
      "outputs": [
        {
          "output_type": "execute_result",
          "data": {
            "text/html": [
              "<div>\n",
              "<style scoped>\n",
              "    .dataframe tbody tr th:only-of-type {\n",
              "        vertical-align: middle;\n",
              "    }\n",
              "\n",
              "    .dataframe tbody tr th {\n",
              "        vertical-align: top;\n",
              "    }\n",
              "\n",
              "    .dataframe thead th {\n",
              "        text-align: right;\n",
              "    }\n",
              "</style>\n",
              "<table border=\"1\" class=\"dataframe\">\n",
              "  <thead>\n",
              "    <tr style=\"text-align: right;\">\n",
              "      <th></th>\n",
              "      <th>id</th>\n",
              "      <th>artist</th>\n",
              "      <th>track</th>\n",
              "      <th>lyrics_raw</th>\n",
              "      <th>length_raw</th>\n",
              "    </tr>\n",
              "  </thead>\n",
              "  <tbody>\n",
              "    <tr>\n",
              "      <th>0</th>\n",
              "      <td>7eElVgPcxDqmgGrSwVFI74</td>\n",
              "      <td>lorde</td>\n",
              "      <td>sober</td>\n",
              "      <td>[Intro]\\nNight, midnight, lose my mind\\nNight,...</td>\n",
              "      <td>2485</td>\n",
              "    </tr>\n",
              "    <tr>\n",
              "      <th>1</th>\n",
              "      <td>02oAUzv4M0ItuTDy2RT3IT</td>\n",
              "      <td>lorde</td>\n",
              "      <td>homemade dynamite</td>\n",
              "      <td>[Verse 1]\\nA couple rebel top gun pilots\\nFlyi...</td>\n",
              "      <td>1795</td>\n",
              "    </tr>\n",
              "    <tr>\n",
              "      <th>2</th>\n",
              "      <td>5q4BpnMrYEFzLO0dYODj6J</td>\n",
              "      <td>lorde</td>\n",
              "      <td>the louvre</td>\n",
              "      <td>[Verse 1]\\nWell, summer slipped us underneath ...</td>\n",
              "      <td>1824</td>\n",
              "    </tr>\n",
              "    <tr>\n",
              "      <th>3</th>\n",
              "      <td>6Kkt27YmFyIFrcX3QXFi2o</td>\n",
              "      <td>lorde</td>\n",
              "      <td>liability</td>\n",
              "      <td>[Intro]\\nOne, two\\n\\n[Verse 1]\\nBaby really hu...</td>\n",
              "      <td>1305</td>\n",
              "    </tr>\n",
              "    <tr>\n",
              "      <th>4</th>\n",
              "      <td>1Dp7JGFNjvg8Nk0CtMCcnr</td>\n",
              "      <td>lorde</td>\n",
              "      <td>hard feelings loveless</td>\n",
              "      <td>Hard Feelings\\n\\n(Go back and tell it)\\n\\nPlea...</td>\n",
              "      <td>2386</td>\n",
              "    </tr>\n",
              "  </tbody>\n",
              "</table>\n",
              "</div>"
            ],
            "text/plain": [
              "                       id  ... length_raw\n",
              "0  7eElVgPcxDqmgGrSwVFI74  ...       2485\n",
              "1  02oAUzv4M0ItuTDy2RT3IT  ...       1795\n",
              "2  5q4BpnMrYEFzLO0dYODj6J  ...       1824\n",
              "3  6Kkt27YmFyIFrcX3QXFi2o  ...       1305\n",
              "4  1Dp7JGFNjvg8Nk0CtMCcnr  ...       2386\n",
              "\n",
              "[5 rows x 5 columns]"
            ]
          },
          "metadata": {
            "tags": []
          },
          "execution_count": 35
        }
      ]
    },
    {
      "cell_type": "markdown",
      "metadata": {
        "id": "TeXDyQ3tmtBT",
        "colab_type": "text"
      },
      "source": [
        "### RegEx"
      ]
    },
    {
      "cell_type": "code",
      "metadata": {
        "id": "t8DDGyjBLFhA",
        "colab_type": "code",
        "colab": {}
      },
      "source": [
        "#\n",
        "import re\n",
        "def text_cleaner(text):\n",
        "  doc = re.sub(r'--',' ', text)\n",
        "  # remove special chars\n",
        "  doc = re.sub(r'\\W', ' ', doc)\n",
        "  # remove all single characters\n",
        "  doc = re.sub(r'\\s+[a-zA-Z]\\s+', ' ', doc)\n",
        "  # remove single characters from the start\n",
        "  doc = re.sub(r'\\^[a-zA-Z]\\s+', ' ', doc)\n",
        "  # set to lowercase\n",
        "  doc = doc.lower()\n",
        "  # remove line breaks\n",
        "  doc = re.sub(r\"\\n\", \" \", doc)\n",
        "  # remove music terminology\n",
        "  doc = re.sub(r\"intro\", \"\", doc)\n",
        "  doc = re.sub(r\"chorus\", \"\", doc)\n",
        "  doc = re.sub(r\"verse\", \"\", doc)\n",
        "  doc = re.sub(r\"outro\", \"\", doc)\n",
        "  doc = re.sub(r\"hook\", \"\", doc)\n",
        "  # remove numbers\n",
        "  doc = re.sub(r\"[0-9]\", \"\", doc)\n",
        "  # substituting multiple spaces with single space\n",
        "  doc = re.sub(r'\\s+', ' ', doc, flags=re.I)\n",
        "  return doc"
      ],
      "execution_count": 0,
      "outputs": []
    },
    {
      "cell_type": "code",
      "metadata": {
        "id": "mIADszvoLhNB",
        "colab_type": "code",
        "colab": {}
      },
      "source": [
        "df_lyrics[\"lyrics_clean\"] = df_lyrics[\"lyrics_raw\"]\n",
        "df_lyrics[\"lyrics_clean\"] = [text_cleaner(lyric) for lyric in df_lyrics[\"lyrics_clean\"]]"
      ],
      "execution_count": 0,
      "outputs": []
    },
    {
      "cell_type": "code",
      "metadata": {
        "id": "oAv9Vys2MKXZ",
        "colab_type": "code",
        "outputId": "8f72ab6b-5231-4f16-ec2b-526aea45649e",
        "colab": {
          "base_uri": "https://localhost:8080/",
          "height": 72
        }
      },
      "source": [
        "type(df_lyrics[\"lyrics_clean\"])\n",
        "print(len(df_lyrics[\"lyrics_clean\"][0]))\n",
        "display(df_lyrics[\"lyrics_raw\"][0][:100])\n",
        "print(df_lyrics[\"lyrics_clean\"][0][:100])"
      ],
      "execution_count": 0,
      "outputs": [
        {
          "output_type": "stream",
          "text": [
            "2275\n"
          ],
          "name": "stdout"
        },
        {
          "output_type": "display_data",
          "data": {
            "text/plain": [
              "'[Intro]\\nNight, midnight, lose my mind\\nNight, midnight, lose my mind\\nNight, midnight, lose my mind\\n(W'"
            ]
          },
          "metadata": {
            "tags": []
          }
        },
        {
          "output_type": "stream",
          "text": [
            " night midnight lose my mind night midnight lose my mind night midnight lose my mind when you get to\n"
          ],
          "name": "stdout"
        }
      ]
    },
    {
      "cell_type": "code",
      "metadata": {
        "id": "QJ7GSNl1ED12",
        "colab_type": "code",
        "outputId": "b945cc7e-200e-4f5a-f37d-d078b5184ee7",
        "colab": {
          "base_uri": "https://localhost:8080/",
          "height": 285
        }
      },
      "source": [
        "df_lyrics[\"length_clean\"] = [len(x) for x in df_lyrics[\"lyrics_clean\"]]\n",
        "display(df_lyrics.head())"
      ],
      "execution_count": 0,
      "outputs": [
        {
          "output_type": "display_data",
          "data": {
            "text/html": [
              "<div>\n",
              "<style scoped>\n",
              "    .dataframe tbody tr th:only-of-type {\n",
              "        vertical-align: middle;\n",
              "    }\n",
              "\n",
              "    .dataframe tbody tr th {\n",
              "        vertical-align: top;\n",
              "    }\n",
              "\n",
              "    .dataframe thead th {\n",
              "        text-align: right;\n",
              "    }\n",
              "</style>\n",
              "<table border=\"1\" class=\"dataframe\">\n",
              "  <thead>\n",
              "    <tr style=\"text-align: right;\">\n",
              "      <th></th>\n",
              "      <th>id</th>\n",
              "      <th>artist</th>\n",
              "      <th>track</th>\n",
              "      <th>lyrics_raw</th>\n",
              "      <th>length_raw</th>\n",
              "      <th>lyrics_clean</th>\n",
              "      <th>length_clean</th>\n",
              "    </tr>\n",
              "  </thead>\n",
              "  <tbody>\n",
              "    <tr>\n",
              "      <th>0</th>\n",
              "      <td>7eElVgPcxDqmgGrSwVFI74</td>\n",
              "      <td>lorde</td>\n",
              "      <td>sober</td>\n",
              "      <td>[Intro]\\nNight, midnight, lose my mind\\nNight,...</td>\n",
              "      <td>2485</td>\n",
              "      <td>night midnight lose my mind night midnight lo...</td>\n",
              "      <td>2275</td>\n",
              "    </tr>\n",
              "    <tr>\n",
              "      <th>1</th>\n",
              "      <td>02oAUzv4M0ItuTDy2RT3IT</td>\n",
              "      <td>lorde</td>\n",
              "      <td>homemade dynamite</td>\n",
              "      <td>[Verse 1]\\nA couple rebel top gun pilots\\nFlyi...</td>\n",
              "      <td>1795</td>\n",
              "      <td>couple rebel top gun pilots flying with nowhe...</td>\n",
              "      <td>1621</td>\n",
              "    </tr>\n",
              "    <tr>\n",
              "      <th>2</th>\n",
              "      <td>5q4BpnMrYEFzLO0dYODj6J</td>\n",
              "      <td>lorde</td>\n",
              "      <td>the louvre</td>\n",
              "      <td>[Verse 1]\\nWell, summer slipped us underneath ...</td>\n",
              "      <td>1824</td>\n",
              "      <td>well summer slipped us underneath her tongue ...</td>\n",
              "      <td>1665</td>\n",
              "    </tr>\n",
              "    <tr>\n",
              "      <th>3</th>\n",
              "      <td>6Kkt27YmFyIFrcX3QXFi2o</td>\n",
              "      <td>lorde</td>\n",
              "      <td>liability</td>\n",
              "      <td>[Intro]\\nOne, two\\n\\n[Verse 1]\\nBaby really hu...</td>\n",
              "      <td>1305</td>\n",
              "      <td>one two baby really hurt me crying in the tax...</td>\n",
              "      <td>1157</td>\n",
              "    </tr>\n",
              "    <tr>\n",
              "      <th>4</th>\n",
              "      <td>1Dp7JGFNjvg8Nk0CtMCcnr</td>\n",
              "      <td>lorde</td>\n",
              "      <td>hard feelings loveless</td>\n",
              "      <td>Hard Feelings\\n\\n(Go back and tell it)\\n\\nPlea...</td>\n",
              "      <td>2386</td>\n",
              "      <td>hard feelings go back and tell it please could...</td>\n",
              "      <td>2189</td>\n",
              "    </tr>\n",
              "  </tbody>\n",
              "</table>\n",
              "</div>"
            ],
            "text/plain": [
              "                       id  ... length_clean\n",
              "0  7eElVgPcxDqmgGrSwVFI74  ...         2275\n",
              "1  02oAUzv4M0ItuTDy2RT3IT  ...         1621\n",
              "2  5q4BpnMrYEFzLO0dYODj6J  ...         1665\n",
              "3  6Kkt27YmFyIFrcX3QXFi2o  ...         1157\n",
              "4  1Dp7JGFNjvg8Nk0CtMCcnr  ...         2189\n",
              "\n",
              "[5 rows x 7 columns]"
            ]
          },
          "metadata": {
            "tags": []
          }
        }
      ]
    },
    {
      "cell_type": "code",
      "metadata": {
        "id": "D7A-9_bbENE0",
        "colab_type": "code",
        "outputId": "fe8165c4-f394-4f8a-ffec-bf4c5fbcff53",
        "colab": {
          "base_uri": "https://localhost:8080/",
          "height": 460
        }
      },
      "source": [
        "display(df_lyrics[\"length_clean\"].describe())\n",
        "sns.distplot(df_lyrics[\"length_clean\"], label=\"clean\")\n",
        "sns.distplot(df_lyrics[\"length_raw\"], label=\"raw\")\n",
        "plt.title(\"Cleaned Text\")\n",
        "plt.legend()\n",
        "plt.show()"
      ],
      "execution_count": 0,
      "outputs": [
        {
          "output_type": "display_data",
          "data": {
            "text/plain": [
              "count    2990.000000\n",
              "mean     1235.825753\n",
              "std       652.127063\n",
              "min        12.000000\n",
              "25%       836.250000\n",
              "50%      1179.500000\n",
              "75%      1529.000000\n",
              "max      4857.000000\n",
              "Name: length_clean, dtype: float64"
            ]
          },
          "metadata": {
            "tags": []
          }
        },
        {
          "output_type": "display_data",
          "data": {
            "image/png": "[encoded data removed]",
            "text/plain": [
              "<Figure size 432x288 with 1 Axes>"
            ]
          },
          "metadata": {
            "tags": []
          }
        }
      ]
    },
    {
      "cell_type": "markdown",
      "metadata": {
        "id": "RJKuyYi79fw-",
        "colab_type": "text"
      },
      "source": [
        "## Parse Text"
      ]
    },
    {
      "cell_type": "code",
      "metadata": {
        "id": "-hs29cvOLdLw",
        "colab_type": "code",
        "outputId": "c54f2a04-f71a-48de-efba-6f69929c50ef",
        "colab": {
          "base_uri": "https://localhost:8080/",
          "height": 531
        }
      },
      "source": [
        "%%time\n",
        "\n",
        "import spacy\n",
        "\n",
        "# create list to hold spaCy docs\n",
        "text_parsed = []\n",
        "text_nostops = []\n",
        "\n",
        "# parse cleaned text\n",
        "# instantiate nlp\n",
        "#nlp = spacy.load('en', disable=['parser', 'ner'])\n",
        "nlp = spacy.load('en')\n",
        "spacy_text = nlp.pipe(df_lyrics['lyrics_clean'], batch_size=10, n_threads=3)\n",
        "\n",
        "# use spaCy generator to append docs to doc list\n",
        "for text in spacy_text:\n",
        "  #text = [token.lemma_ for token in nlp(str(text))]\n",
        "  text_parsed.append([token.lemma_ for token in nlp(str(text))])\n",
        "  #text = [token.lemma_ for token in nlp(str(text)) if not token.is_stop]\n",
        "  text_nostops.append([token.lemma_ for token in nlp(str(text)) if not token.is_stop])\n",
        "\n",
        "# add spaCy docs to lyrics DF\n",
        "df_lyrics['lyrics_parsed'] = text_parsed\n",
        "df_lyrics['length_parsed'] = [len(x) for x in df_lyrics['lyrics_parsed']]\n",
        "df_lyrics['lyrics_nostops'] = text_nostops\n",
        "df_lyrics['length_nostops'] = [len(x) for x in df_lyrics['lyrics_nostops']]\n",
        "display(df_lyrics.head())"
      ],
      "execution_count": 0,
      "outputs": [
        {
          "output_type": "display_data",
          "data": {
            "text/html": [
              "<div>\n",
              "<style scoped>\n",
              "    .dataframe tbody tr th:only-of-type {\n",
              "        vertical-align: middle;\n",
              "    }\n",
              "\n",
              "    .dataframe tbody tr th {\n",
              "        vertical-align: top;\n",
              "    }\n",
              "\n",
              "    .dataframe thead th {\n",
              "        text-align: right;\n",
              "    }\n",
              "</style>\n",
              "<table border=\"1\" class=\"dataframe\">\n",
              "  <thead>\n",
              "    <tr style=\"text-align: right;\">\n",
              "      <th></th>\n",
              "      <th>id</th>\n",
              "      <th>artist</th>\n",
              "      <th>track</th>\n",
              "      <th>lyrics_raw</th>\n",
              "      <th>length_raw</th>\n",
              "      <th>lyrics_clean</th>\n",
              "      <th>length_clean</th>\n",
              "      <th>lyrics_parsed</th>\n",
              "      <th>length_parsed</th>\n",
              "      <th>lyrics_nostops</th>\n",
              "      <th>length_nostops</th>\n",
              "    </tr>\n",
              "  </thead>\n",
              "  <tbody>\n",
              "    <tr>\n",
              "      <th>0</th>\n",
              "      <td>7eElVgPcxDqmgGrSwVFI74</td>\n",
              "      <td>lorde</td>\n",
              "      <td>sober</td>\n",
              "      <td>[Intro]\\nNight, midnight, lose my mind\\nNight,...</td>\n",
              "      <td>2485</td>\n",
              "      <td>night midnight lose my mind night midnight lo...</td>\n",
              "      <td>2275</td>\n",
              "      <td>[ , night, midnight, lose, -PRON-, mind, night...</td>\n",
              "      <td>494</td>\n",
              "      <td>[ , night, midnight, lose, mind, night, midnig...</td>\n",
              "      <td>187</td>\n",
              "    </tr>\n",
              "    <tr>\n",
              "      <th>1</th>\n",
              "      <td>02oAUzv4M0ItuTDy2RT3IT</td>\n",
              "      <td>lorde</td>\n",
              "      <td>homemade dynamite</td>\n",
              "      <td>[Verse 1]\\nA couple rebel top gun pilots\\nFlyi...</td>\n",
              "      <td>1795</td>\n",
              "      <td>couple rebel top gun pilots flying with nowhe...</td>\n",
              "      <td>1621</td>\n",
              "      <td>[ , couple, rebel, top, gun, pilot, fly, with,...</td>\n",
              "      <td>309</td>\n",
              "      <td>[ , couple, rebel, gun, pilot, fly, don, know,...</td>\n",
              "      <td>169</td>\n",
              "    </tr>\n",
              "    <tr>\n",
              "      <th>2</th>\n",
              "      <td>5q4BpnMrYEFzLO0dYODj6J</td>\n",
              "      <td>lorde</td>\n",
              "      <td>the louvre</td>\n",
              "      <td>[Verse 1]\\nWell, summer slipped us underneath ...</td>\n",
              "      <td>1824</td>\n",
              "      <td>well summer slipped us underneath her tongue ...</td>\n",
              "      <td>1665</td>\n",
              "      <td>[ , well, summer, slip, -PRON-, underneath, -P...</td>\n",
              "      <td>334</td>\n",
              "      <td>[ , summer, slip, underneath, tongue, day, nig...</td>\n",
              "      <td>151</td>\n",
              "    </tr>\n",
              "    <tr>\n",
              "      <th>3</th>\n",
              "      <td>6Kkt27YmFyIFrcX3QXFi2o</td>\n",
              "      <td>lorde</td>\n",
              "      <td>liability</td>\n",
              "      <td>[Intro]\\nOne, two\\n\\n[Verse 1]\\nBaby really hu...</td>\n",
              "      <td>1305</td>\n",
              "      <td>one two baby really hurt me crying in the tax...</td>\n",
              "      <td>1157</td>\n",
              "      <td>[ , one, two, baby, really, hurt, -PRON-, cry,...</td>\n",
              "      <td>242</td>\n",
              "      <td>[ , baby, hurt, cry, taxi, don, wanna, know, s...</td>\n",
              "      <td>101</td>\n",
              "    </tr>\n",
              "    <tr>\n",
              "      <th>4</th>\n",
              "      <td>1Dp7JGFNjvg8Nk0CtMCcnr</td>\n",
              "      <td>lorde</td>\n",
              "      <td>hard feelings loveless</td>\n",
              "      <td>Hard Feelings\\n\\n(Go back and tell it)\\n\\nPlea...</td>\n",
              "      <td>2386</td>\n",
              "      <td>hard feelings go back and tell it please could...</td>\n",
              "      <td>2189</td>\n",
              "      <td>[hard, feeling, go, back, and, tell, -PRON-, p...</td>\n",
              "      <td>458</td>\n",
              "      <td>[hard, feeling, tell, tender, sit, close, let,...</td>\n",
              "      <td>244</td>\n",
              "    </tr>\n",
              "  </tbody>\n",
              "</table>\n",
              "</div>"
            ],
            "text/plain": [
              "                       id  ... length_nostops\n",
              "0  7eElVgPcxDqmgGrSwVFI74  ...            187\n",
              "1  02oAUzv4M0ItuTDy2RT3IT  ...            169\n",
              "2  5q4BpnMrYEFzLO0dYODj6J  ...            151\n",
              "3  6Kkt27YmFyIFrcX3QXFi2o  ...            101\n",
              "4  1Dp7JGFNjvg8Nk0CtMCcnr  ...            244\n",
              "\n",
              "[5 rows x 11 columns]"
            ]
          },
          "metadata": {
            "tags": []
          }
        },
        {
          "output_type": "stream",
          "text": [
            "CPU times: user 5min 39s, sys: 4.49 s, total: 5min 43s\n",
            "Wall time: 5min 47s\n"
          ],
          "name": "stdout"
        }
      ]
    },
    {
      "cell_type": "code",
      "metadata": {
        "id": "wA36lw1b9EUR",
        "colab_type": "code",
        "outputId": "52c824e2-8288-4a31-f52d-1d0b972407eb",
        "colab": {
          "base_uri": "https://localhost:8080/",
          "height": 92
        }
      },
      "source": [
        "type(df_lyrics[\"lyrics_parsed\"])\n",
        "print(len(df_lyrics[\"lyrics_parsed\"][0]))\n",
        "display(df_lyrics[\"lyrics_raw\"][0][:100])\n",
        "print(df_lyrics[\"lyrics_parsed\"][0][:100])"
      ],
      "execution_count": 0,
      "outputs": [
        {
          "output_type": "stream",
          "text": [
            "494\n"
          ],
          "name": "stdout"
        },
        {
          "output_type": "display_data",
          "data": {
            "text/plain": [
              "'[Intro]\\nNight, midnight, lose my mind\\nNight, midnight, lose my mind\\nNight, midnight, lose my mind\\n(W'"
            ]
          },
          "metadata": {
            "tags": []
          }
        },
        {
          "output_type": "stream",
          "text": [
            "[' ', 'night', 'midnight', 'lose', '-PRON-', 'mind', 'night', 'midnight', 'lose', '-PRON-', 'mind', 'night', 'midnight', 'lose', '-PRON-', 'mind', 'when', '-PRON-', 'get', 'to', '-PRON-', 'high', 'when', '-PRON-', 'get', 'to', '-PRON-', 'night', 'midnight', 'oh', 'god', 'm', 'clean', 'out', 'of', 'air', 'in', '-PRON-', 'lung', '-PRON-', 'all', 'go', 'play', '-PRON-', 'so', 'nonchalant', '-PRON-', 'time', '-PRON-', 'dance', 'with', 'the', 'truth', 'move', 'alone', 'with', 'the', 'truth', 'ooh', 'hey', '-PRON-', 're', 'sleep', 'through', 'all', 'the', 'day', 'm', 'act', 'like', 'don', 'see', 'every', 'ribbon', '-PRON-', 'use', 'to', 'tie', '-PRON-', 'to', '-PRON-', 'pre', 'but', '-PRON-', 'hip', 'have', 'miss', '-PRON-', 'hip', 'so', 'let', 'get', 'to', 'know', 'the', 'kick', 'will', '-PRON-', 'sway', 'with']\n"
          ],
          "name": "stdout"
        }
      ]
    },
    {
      "cell_type": "code",
      "metadata": {
        "id": "4qDS_12e6rC-",
        "colab_type": "code",
        "outputId": "878d079e-c035-481f-bd89-425e245ab476",
        "colab": {
          "base_uri": "https://localhost:8080/",
          "height": 460
        }
      },
      "source": [
        "display(df_lyrics['length_parsed'].describe())\n",
        "sns.distplot(df_lyrics[\"length_parsed\"], label=\"parsed\")\n",
        "sns.distplot(df_lyrics[\"length_clean\"], label=\"clean\")\n",
        "plt.title(\"Parsed Text\")\n",
        "plt.legend()\n",
        "plt.show()"
      ],
      "execution_count": 0,
      "outputs": [
        {
          "output_type": "display_data",
          "data": {
            "text/plain": [
              "count    2990.000000\n",
              "mean      255.015719\n",
              "std       131.992186\n",
              "min         1.000000\n",
              "25%       173.000000\n",
              "50%       243.000000\n",
              "75%       317.000000\n",
              "max      1019.000000\n",
              "Name: length_parsed, dtype: float64"
            ]
          },
          "metadata": {
            "tags": []
          }
        },
        {
          "output_type": "display_data",
          "data": {
            "image/png": "[encoded data removed]",
            "text/plain": [
              "<Figure size 432x288 with 1 Axes>"
            ]
          },
          "metadata": {
            "tags": []
          }
        }
      ]
    },
    {
      "cell_type": "markdown",
      "metadata": {
        "colab_type": "text",
        "id": "8jh_HuEPFODw"
      },
      "source": [
        "### save locally"
      ]
    },
    {
      "cell_type": "code",
      "metadata": {
        "colab_type": "code",
        "outputId": "c229a454-5c53-46ee-98d5-c88d42ecc0d2",
        "id": "9FdV3oqi9KYZ",
        "colab": {
          "base_uri": "https://localhost:8080/",
          "height": 54
        }
      },
      "source": [
        "# target value\n",
        "print(df_lyrics.shape)\n",
        "Audio_features = Audio_features.loc[df_lyrics.index,:]\n",
        "print(Audio_features.shape)"
      ],
      "execution_count": 0,
      "outputs": [
        {
          "output_type": "stream",
          "text": [
            "(2990, 11)\n",
            "(2990, 18)\n"
          ],
          "name": "stdout"
        }
      ]
    },
    {
      "cell_type": "code",
      "metadata": {
        "colab_type": "code",
        "outputId": "07ccf408-4d29-4588-a97c-58dd79f33c7c",
        "id": "v8pbcFyK9KWh",
        "colab": {
          "base_uri": "https://localhost:8080/",
          "height": 72
        }
      },
      "source": [
        "# target value\n",
        "print(\"Target class distribution:\")\n",
        "for c in Audio_features[\"target\"].unique():\n",
        "  class_c = len(Audio_features[\"target\"].loc[Audio_features[\"target\"]==c])/len(Audio_features)\n",
        "  print(\"Class {}: {}%\".format(c, class_c*100))"
      ],
      "execution_count": 0,
      "outputs": [
        {
          "output_type": "stream",
          "text": [
            "Target class distribution:\n",
            "Class 0: 51.47157190635452%\n",
            "Class 1: 48.52842809364549%\n"
          ],
          "name": "stdout"
        }
      ]
    },
    {
      "cell_type": "code",
      "metadata": {
        "id": "Y875FXvhwp-V",
        "colab_type": "code",
        "colab": {}
      },
      "source": [
        "from google.colab import files\n",
        "filename = \"spotify_features\"\n",
        "Audio_features.to_csv(filename+\".csv\")\n",
        "files.download(filename+\".csv\")"
      ],
      "execution_count": 0,
      "outputs": []
    },
    {
      "cell_type": "code",
      "metadata": {
        "colab_type": "code",
        "id": "-_HRhZUgFOD6",
        "colab": {}
      },
      "source": [
        "#from google.colab import files\n",
        "filename = \"spotify_lyrics_clean\"\n",
        "df_lyrics.to_csv(filename+\".csv\")\n",
        "files.download(filename+\".csv\")"
      ],
      "execution_count": 0,
      "outputs": []
    },
    {
      "cell_type": "markdown",
      "metadata": {
        "id": "wWQlcZtH9ZWe",
        "colab_type": "text"
      },
      "source": [
        "## Feature Extraction"
      ]
    },
    {
      "cell_type": "markdown",
      "metadata": {
        "id": "eOg5QIbE9bqy",
        "colab_type": "text"
      },
      "source": [
        "### Bag of Words"
      ]
    },
    {
      "cell_type": "code",
      "metadata": {
        "id": "Lkf6MQVC9dHr",
        "colab_type": "code",
        "outputId": "c2ced193-49eb-429f-db42-62d52a4663e0",
        "colab": {
          "base_uri": "https://localhost:8080/",
          "height": 126
        }
      },
      "source": [
        "all_words = []\n",
        "for text in df_lyrics['lyrics_nostops']:\n",
        "  for word in text:\n",
        "    all_words.append(word)\n",
        "    \n",
        "all_words.remove(\"-PRON-\")\n",
        "all_words.remove(\" \")\n",
        "#all_words.remove(\"nan\")\n",
        "print(len(all_words))\n",
        "print(all_words[:10])\n",
        "\n",
        "from collections import Counter\n",
        "common_words = [word[0] for word in Counter(all_words).most_common(1024)]\n",
        "print(len(common_words))\n",
        "print(type(common_words))\n",
        "print(type(common_words[0]))\n",
        "print(common_words[:10])"
      ],
      "execution_count": 0,
      "outputs": [
        {
          "output_type": "stream",
          "text": [
            "360547\n",
            "['night', 'midnight', 'lose', 'mind', 'night', 'midnight', 'lose', 'mind', 'night', 'midnight']\n",
            "1024\n",
            "<class 'list'>\n",
            "<class 'str'>\n",
            "['m', 'know', 'don', 'love', 'oh', 'like', 'get', 'go', 'will', 'come']\n"
          ],
          "name": "stdout"
        }
      ]
    },
    {
      "cell_type": "code",
      "metadata": {
        "id": "NGbQ-kRd9xAH",
        "colab_type": "code",
        "outputId": "c5a10ba7-067e-44b4-fa34-d162399bb5c6",
        "colab": {
          "base_uri": "https://localhost:8080/",
          "height": 386
        }
      },
      "source": [
        "word_counts = pd.DataFrame(columns=common_words, index=df_lyrics[\"id\"])\n",
        "word_counts.loc[:, common_words] = 0\n",
        "\n",
        "display(word_counts.columns)\n",
        "print(word_counts.shape)\n",
        "word_counts.head()"
      ],
      "execution_count": 0,
      "outputs": [
        {
          "output_type": "display_data",
          "data": {
            "text/plain": [
              "Index(['m', 'know', 'don', 'love', 'oh', 'like', 'get', 'go', 'will', 'come',\n",
              "       ...\n",
              "       'tiny', 'judge', 'flight', 'fate', 'headlight', 'marry', 'chair', 'aye',\n",
              "       'cryin', 'walkin'],\n",
              "      dtype='object', length=1024)"
            ]
          },
          "metadata": {
            "tags": []
          }
        },
        {
          "output_type": "stream",
          "text": [
            "(2990, 1024)\n"
          ],
          "name": "stdout"
        },
        {
          "output_type": "execute_result",
          "data": {
            "text/html": [
              "<div>\n",
              "<style scoped>\n",
              "    .dataframe tbody tr th:only-of-type {\n",
              "        vertical-align: middle;\n",
              "    }\n",
              "\n",
              "    .dataframe tbody tr th {\n",
              "        vertical-align: top;\n",
              "    }\n",
              "\n",
              "    .dataframe thead th {\n",
              "        text-align: right;\n",
              "    }\n",
              "</style>\n",
              "<table border=\"1\" class=\"dataframe\">\n",
              "  <thead>\n",
              "    <tr style=\"text-align: right;\">\n",
              "      <th></th>\n",
              "      <th>m</th>\n",
              "      <th>know</th>\n",
              "      <th>don</th>\n",
              "      <th>love</th>\n",
              "      <th>oh</th>\n",
              "      <th>like</th>\n",
              "      <th>get</th>\n",
              "      <th>go</th>\n",
              "      <th>will</th>\n",
              "      <th>come</th>\n",
              "      <th>time</th>\n",
              "      <th>yeah</th>\n",
              "      <th>let</th>\n",
              "      <th>ve</th>\n",
              "      <th>to</th>\n",
              "      <th>feel</th>\n",
              "      <th>want</th>\n",
              "      <th>cause</th>\n",
              "      <th>baby</th>\n",
              "      <th>wanna</th>\n",
              "      <th>way</th>\n",
              "      <th>tell</th>\n",
              "      <th>think</th>\n",
              "      <th>ain</th>\n",
              "      <th>heart</th>\n",
              "      <th>good</th>\n",
              "      <th></th>\n",
              "      <th>night</th>\n",
              "      <th>right</th>\n",
              "      <th>need</th>\n",
              "      <th>away</th>\n",
              "      <th>say</th>\n",
              "      <th>girl</th>\n",
              "      <th>look</th>\n",
              "      <th>little</th>\n",
              "      <th>win</th>\n",
              "      <th>leave</th>\n",
              "      <th>man</th>\n",
              "      <th>thing</th>\n",
              "      <th>day</th>\n",
              "      <th>...</th>\n",
              "      <th>special</th>\n",
              "      <th>hurry</th>\n",
              "      <th>card</th>\n",
              "      <th>brick</th>\n",
              "      <th>jone</th>\n",
              "      <th>note</th>\n",
              "      <th>snake</th>\n",
              "      <th>swerve</th>\n",
              "      <th>rainy</th>\n",
              "      <th>silent</th>\n",
              "      <th>static</th>\n",
              "      <th>purple</th>\n",
              "      <th>salt</th>\n",
              "      <th>william</th>\n",
              "      <th>stress</th>\n",
              "      <th>dan</th>\n",
              "      <th>calm</th>\n",
              "      <th>fame</th>\n",
              "      <th>trace</th>\n",
              "      <th>lesson</th>\n",
              "      <th>motherfucker</th>\n",
              "      <th>glad</th>\n",
              "      <th>rapper</th>\n",
              "      <th>afterlife</th>\n",
              "      <th>daughter</th>\n",
              "      <th>fever</th>\n",
              "      <th>hardly</th>\n",
              "      <th>trick</th>\n",
              "      <th>conversation</th>\n",
              "      <th>bitter</th>\n",
              "      <th>tiny</th>\n",
              "      <th>judge</th>\n",
              "      <th>flight</th>\n",
              "      <th>fate</th>\n",
              "      <th>headlight</th>\n",
              "      <th>marry</th>\n",
              "      <th>chair</th>\n",
              "      <th>aye</th>\n",
              "      <th>cryin</th>\n",
              "      <th>walkin</th>\n",
              "    </tr>\n",
              "    <tr>\n",
              "      <th>id</th>\n",
              "      <th></th>\n",
              "      <th></th>\n",
              "      <th></th>\n",
              "      <th></th>\n",
              "      <th></th>\n",
              "      <th></th>\n",
              "      <th></th>\n",
              "      <th></th>\n",
              "      <th></th>\n",
              "      <th></th>\n",
              "      <th></th>\n",
              "      <th></th>\n",
              "      <th></th>\n",
              "      <th></th>\n",
              "      <th></th>\n",
              "      <th></th>\n",
              "      <th></th>\n",
              "      <th></th>\n",
              "      <th></th>\n",
              "      <th></th>\n",
              "      <th></th>\n",
              "      <th></th>\n",
              "      <th></th>\n",
              "      <th></th>\n",
              "      <th></th>\n",
              "      <th></th>\n",
              "      <th></th>\n",
              "      <th></th>\n",
              "      <th></th>\n",
              "      <th></th>\n",
              "      <th></th>\n",
              "      <th></th>\n",
              "      <th></th>\n",
              "      <th></th>\n",
              "      <th></th>\n",
              "      <th></th>\n",
              "      <th></th>\n",
              "      <th></th>\n",
              "      <th></th>\n",
              "      <th></th>\n",
              "      <th></th>\n",
              "      <th></th>\n",
              "      <th></th>\n",
              "      <th></th>\n",
              "      <th></th>\n",
              "      <th></th>\n",
              "      <th></th>\n",
              "      <th></th>\n",
              "      <th></th>\n",
              "      <th></th>\n",
              "      <th></th>\n",
              "      <th></th>\n",
              "      <th></th>\n",
              "      <th></th>\n",
              "      <th></th>\n",
              "      <th></th>\n",
              "      <th></th>\n",
              "      <th></th>\n",
              "      <th></th>\n",
              "      <th></th>\n",
              "      <th></th>\n",
              "      <th></th>\n",
              "      <th></th>\n",
              "      <th></th>\n",
              "      <th></th>\n",
              "      <th></th>\n",
              "      <th></th>\n",
              "      <th></th>\n",
              "      <th></th>\n",
              "      <th></th>\n",
              "      <th></th>\n",
              "      <th></th>\n",
              "      <th></th>\n",
              "      <th></th>\n",
              "      <th></th>\n",
              "      <th></th>\n",
              "      <th></th>\n",
              "      <th></th>\n",
              "      <th></th>\n",
              "      <th></th>\n",
              "      <th></th>\n",
              "    </tr>\n",
              "  </thead>\n",
              "  <tbody>\n",
              "    <tr>\n",
              "      <th>7eElVgPcxDqmgGrSwVFI74</th>\n",
              "      <td>0</td>\n",
              "      <td>0</td>\n",
              "      <td>0</td>\n",
              "      <td>0</td>\n",
              "      <td>0</td>\n",
              "      <td>0</td>\n",
              "      <td>0</td>\n",
              "      <td>0</td>\n",
              "      <td>0</td>\n",
              "      <td>0</td>\n",
              "      <td>0</td>\n",
              "      <td>0</td>\n",
              "      <td>0</td>\n",
              "      <td>0</td>\n",
              "      <td>0</td>\n",
              "      <td>0</td>\n",
              "      <td>0</td>\n",
              "      <td>0</td>\n",
              "      <td>0</td>\n",
              "      <td>0</td>\n",
              "      <td>0</td>\n",
              "      <td>0</td>\n",
              "      <td>0</td>\n",
              "      <td>0</td>\n",
              "      <td>0</td>\n",
              "      <td>0</td>\n",
              "      <td>0</td>\n",
              "      <td>0</td>\n",
              "      <td>0</td>\n",
              "      <td>0</td>\n",
              "      <td>0</td>\n",
              "      <td>0</td>\n",
              "      <td>0</td>\n",
              "      <td>0</td>\n",
              "      <td>0</td>\n",
              "      <td>0</td>\n",
              "      <td>0</td>\n",
              "      <td>0</td>\n",
              "      <td>0</td>\n",
              "      <td>0</td>\n",
              "      <td>...</td>\n",
              "      <td>0</td>\n",
              "      <td>0</td>\n",
              "      <td>0</td>\n",
              "      <td>0</td>\n",
              "      <td>0</td>\n",
              "      <td>0</td>\n",
              "      <td>0</td>\n",
              "      <td>0</td>\n",
              "      <td>0</td>\n",
              "      <td>0</td>\n",
              "      <td>0</td>\n",
              "      <td>0</td>\n",
              "      <td>0</td>\n",
              "      <td>0</td>\n",
              "      <td>0</td>\n",
              "      <td>0</td>\n",
              "      <td>0</td>\n",
              "      <td>0</td>\n",
              "      <td>0</td>\n",
              "      <td>0</td>\n",
              "      <td>0</td>\n",
              "      <td>0</td>\n",
              "      <td>0</td>\n",
              "      <td>0</td>\n",
              "      <td>0</td>\n",
              "      <td>0</td>\n",
              "      <td>0</td>\n",
              "      <td>0</td>\n",
              "      <td>0</td>\n",
              "      <td>0</td>\n",
              "      <td>0</td>\n",
              "      <td>0</td>\n",
              "      <td>0</td>\n",
              "      <td>0</td>\n",
              "      <td>0</td>\n",
              "      <td>0</td>\n",
              "      <td>0</td>\n",
              "      <td>0</td>\n",
              "      <td>0</td>\n",
              "      <td>0</td>\n",
              "    </tr>\n",
              "    <tr>\n",
              "      <th>02oAUzv4M0ItuTDy2RT3IT</th>\n",
              "      <td>0</td>\n",
              "      <td>0</td>\n",
              "      <td>0</td>\n",
              "      <td>0</td>\n",
              "      <td>0</td>\n",
              "      <td>0</td>\n",
              "      <td>0</td>\n",
              "      <td>0</td>\n",
              "      <td>0</td>\n",
              "      <td>0</td>\n",
              "      <td>0</td>\n",
              "      <td>0</td>\n",
              "      <td>0</td>\n",
              "      <td>0</td>\n",
              "      <td>0</td>\n",
              "      <td>0</td>\n",
              "      <td>0</td>\n",
              "      <td>0</td>\n",
              "      <td>0</td>\n",
              "      <td>0</td>\n",
              "      <td>0</td>\n",
              "      <td>0</td>\n",
              "      <td>0</td>\n",
              "      <td>0</td>\n",
              "      <td>0</td>\n",
              "      <td>0</td>\n",
              "      <td>0</td>\n",
              "      <td>0</td>\n",
              "      <td>0</td>\n",
              "      <td>0</td>\n",
              "      <td>0</td>\n",
              "      <td>0</td>\n",
              "      <td>0</td>\n",
              "      <td>0</td>\n",
              "      <td>0</td>\n",
              "      <td>0</td>\n",
              "      <td>0</td>\n",
              "      <td>0</td>\n",
              "      <td>0</td>\n",
              "      <td>0</td>\n",
              "      <td>...</td>\n",
              "      <td>0</td>\n",
              "      <td>0</td>\n",
              "      <td>0</td>\n",
              "      <td>0</td>\n",
              "      <td>0</td>\n",
              "      <td>0</td>\n",
              "      <td>0</td>\n",
              "      <td>0</td>\n",
              "      <td>0</td>\n",
              "      <td>0</td>\n",
              "      <td>0</td>\n",
              "      <td>0</td>\n",
              "      <td>0</td>\n",
              "      <td>0</td>\n",
              "      <td>0</td>\n",
              "      <td>0</td>\n",
              "      <td>0</td>\n",
              "      <td>0</td>\n",
              "      <td>0</td>\n",
              "      <td>0</td>\n",
              "      <td>0</td>\n",
              "      <td>0</td>\n",
              "      <td>0</td>\n",
              "      <td>0</td>\n",
              "      <td>0</td>\n",
              "      <td>0</td>\n",
              "      <td>0</td>\n",
              "      <td>0</td>\n",
              "      <td>0</td>\n",
              "      <td>0</td>\n",
              "      <td>0</td>\n",
              "      <td>0</td>\n",
              "      <td>0</td>\n",
              "      <td>0</td>\n",
              "      <td>0</td>\n",
              "      <td>0</td>\n",
              "      <td>0</td>\n",
              "      <td>0</td>\n",
              "      <td>0</td>\n",
              "      <td>0</td>\n",
              "    </tr>\n",
              "    <tr>\n",
              "      <th>5q4BpnMrYEFzLO0dYODj6J</th>\n",
              "      <td>0</td>\n",
              "      <td>0</td>\n",
              "      <td>0</td>\n",
              "      <td>0</td>\n",
              "      <td>0</td>\n",
              "      <td>0</td>\n",
              "      <td>0</td>\n",
              "      <td>0</td>\n",
              "      <td>0</td>\n",
              "      <td>0</td>\n",
              "      <td>0</td>\n",
              "      <td>0</td>\n",
              "      <td>0</td>\n",
              "      <td>0</td>\n",
              "      <td>0</td>\n",
              "      <td>0</td>\n",
              "      <td>0</td>\n",
              "      <td>0</td>\n",
              "      <td>0</td>\n",
              "      <td>0</td>\n",
              "      <td>0</td>\n",
              "      <td>0</td>\n",
              "      <td>0</td>\n",
              "      <td>0</td>\n",
              "      <td>0</td>\n",
              "      <td>0</td>\n",
              "      <td>0</td>\n",
              "      <td>0</td>\n",
              "      <td>0</td>\n",
              "      <td>0</td>\n",
              "      <td>0</td>\n",
              "      <td>0</td>\n",
              "      <td>0</td>\n",
              "      <td>0</td>\n",
              "      <td>0</td>\n",
              "      <td>0</td>\n",
              "      <td>0</td>\n",
              "      <td>0</td>\n",
              "      <td>0</td>\n",
              "      <td>0</td>\n",
              "      <td>...</td>\n",
              "      <td>0</td>\n",
              "      <td>0</td>\n",
              "      <td>0</td>\n",
              "      <td>0</td>\n",
              "      <td>0</td>\n",
              "      <td>0</td>\n",
              "      <td>0</td>\n",
              "      <td>0</td>\n",
              "      <td>0</td>\n",
              "      <td>0</td>\n",
              "      <td>0</td>\n",
              "      <td>0</td>\n",
              "      <td>0</td>\n",
              "      <td>0</td>\n",
              "      <td>0</td>\n",
              "      <td>0</td>\n",
              "      <td>0</td>\n",
              "      <td>0</td>\n",
              "      <td>0</td>\n",
              "      <td>0</td>\n",
              "      <td>0</td>\n",
              "      <td>0</td>\n",
              "      <td>0</td>\n",
              "      <td>0</td>\n",
              "      <td>0</td>\n",
              "      <td>0</td>\n",
              "      <td>0</td>\n",
              "      <td>0</td>\n",
              "      <td>0</td>\n",
              "      <td>0</td>\n",
              "      <td>0</td>\n",
              "      <td>0</td>\n",
              "      <td>0</td>\n",
              "      <td>0</td>\n",
              "      <td>0</td>\n",
              "      <td>0</td>\n",
              "      <td>0</td>\n",
              "      <td>0</td>\n",
              "      <td>0</td>\n",
              "      <td>0</td>\n",
              "    </tr>\n",
              "    <tr>\n",
              "      <th>6Kkt27YmFyIFrcX3QXFi2o</th>\n",
              "      <td>0</td>\n",
              "      <td>0</td>\n",
              "      <td>0</td>\n",
              "      <td>0</td>\n",
              "      <td>0</td>\n",
              "      <td>0</td>\n",
              "      <td>0</td>\n",
              "      <td>0</td>\n",
              "      <td>0</td>\n",
              "      <td>0</td>\n",
              "      <td>0</td>\n",
              "      <td>0</td>\n",
              "      <td>0</td>\n",
              "      <td>0</td>\n",
              "      <td>0</td>\n",
              "      <td>0</td>\n",
              "      <td>0</td>\n",
              "      <td>0</td>\n",
              "      <td>0</td>\n",
              "      <td>0</td>\n",
              "      <td>0</td>\n",
              "      <td>0</td>\n",
              "      <td>0</td>\n",
              "      <td>0</td>\n",
              "      <td>0</td>\n",
              "      <td>0</td>\n",
              "      <td>0</td>\n",
              "      <td>0</td>\n",
              "      <td>0</td>\n",
              "      <td>0</td>\n",
              "      <td>0</td>\n",
              "      <td>0</td>\n",
              "      <td>0</td>\n",
              "      <td>0</td>\n",
              "      <td>0</td>\n",
              "      <td>0</td>\n",
              "      <td>0</td>\n",
              "      <td>0</td>\n",
              "      <td>0</td>\n",
              "      <td>0</td>\n",
              "      <td>...</td>\n",
              "      <td>0</td>\n",
              "      <td>0</td>\n",
              "      <td>0</td>\n",
              "      <td>0</td>\n",
              "      <td>0</td>\n",
              "      <td>0</td>\n",
              "      <td>0</td>\n",
              "      <td>0</td>\n",
              "      <td>0</td>\n",
              "      <td>0</td>\n",
              "      <td>0</td>\n",
              "      <td>0</td>\n",
              "      <td>0</td>\n",
              "      <td>0</td>\n",
              "      <td>0</td>\n",
              "      <td>0</td>\n",
              "      <td>0</td>\n",
              "      <td>0</td>\n",
              "      <td>0</td>\n",
              "      <td>0</td>\n",
              "      <td>0</td>\n",
              "      <td>0</td>\n",
              "      <td>0</td>\n",
              "      <td>0</td>\n",
              "      <td>0</td>\n",
              "      <td>0</td>\n",
              "      <td>0</td>\n",
              "      <td>0</td>\n",
              "      <td>0</td>\n",
              "      <td>0</td>\n",
              "      <td>0</td>\n",
              "      <td>0</td>\n",
              "      <td>0</td>\n",
              "      <td>0</td>\n",
              "      <td>0</td>\n",
              "      <td>0</td>\n",
              "      <td>0</td>\n",
              "      <td>0</td>\n",
              "      <td>0</td>\n",
              "      <td>0</td>\n",
              "    </tr>\n",
              "    <tr>\n",
              "      <th>1Dp7JGFNjvg8Nk0CtMCcnr</th>\n",
              "      <td>0</td>\n",
              "      <td>0</td>\n",
              "      <td>0</td>\n",
              "      <td>0</td>\n",
              "      <td>0</td>\n",
              "      <td>0</td>\n",
              "      <td>0</td>\n",
              "      <td>0</td>\n",
              "      <td>0</td>\n",
              "      <td>0</td>\n",
              "      <td>0</td>\n",
              "      <td>0</td>\n",
              "      <td>0</td>\n",
              "      <td>0</td>\n",
              "      <td>0</td>\n",
              "      <td>0</td>\n",
              "      <td>0</td>\n",
              "      <td>0</td>\n",
              "      <td>0</td>\n",
              "      <td>0</td>\n",
              "      <td>0</td>\n",
              "      <td>0</td>\n",
              "      <td>0</td>\n",
              "      <td>0</td>\n",
              "      <td>0</td>\n",
              "      <td>0</td>\n",
              "      <td>0</td>\n",
              "      <td>0</td>\n",
              "      <td>0</td>\n",
              "      <td>0</td>\n",
              "      <td>0</td>\n",
              "      <td>0</td>\n",
              "      <td>0</td>\n",
              "      <td>0</td>\n",
              "      <td>0</td>\n",
              "      <td>0</td>\n",
              "      <td>0</td>\n",
              "      <td>0</td>\n",
              "      <td>0</td>\n",
              "      <td>0</td>\n",
              "      <td>...</td>\n",
              "      <td>0</td>\n",
              "      <td>0</td>\n",
              "      <td>0</td>\n",
              "      <td>0</td>\n",
              "      <td>0</td>\n",
              "      <td>0</td>\n",
              "      <td>0</td>\n",
              "      <td>0</td>\n",
              "      <td>0</td>\n",
              "      <td>0</td>\n",
              "      <td>0</td>\n",
              "      <td>0</td>\n",
              "      <td>0</td>\n",
              "      <td>0</td>\n",
              "      <td>0</td>\n",
              "      <td>0</td>\n",
              "      <td>0</td>\n",
              "      <td>0</td>\n",
              "      <td>0</td>\n",
              "      <td>0</td>\n",
              "      <td>0</td>\n",
              "      <td>0</td>\n",
              "      <td>0</td>\n",
              "      <td>0</td>\n",
              "      <td>0</td>\n",
              "      <td>0</td>\n",
              "      <td>0</td>\n",
              "      <td>0</td>\n",
              "      <td>0</td>\n",
              "      <td>0</td>\n",
              "      <td>0</td>\n",
              "      <td>0</td>\n",
              "      <td>0</td>\n",
              "      <td>0</td>\n",
              "      <td>0</td>\n",
              "      <td>0</td>\n",
              "      <td>0</td>\n",
              "      <td>0</td>\n",
              "      <td>0</td>\n",
              "      <td>0</td>\n",
              "    </tr>\n",
              "  </tbody>\n",
              "</table>\n",
              "<p>5 rows × 1024 columns</p>\n",
              "</div>"
            ],
            "text/plain": [
              "                        m  know  don  love  ...  chair  aye  cryin  walkin\n",
              "id                                          ...                           \n",
              "7eElVgPcxDqmgGrSwVFI74  0     0    0     0  ...      0    0      0       0\n",
              "02oAUzv4M0ItuTDy2RT3IT  0     0    0     0  ...      0    0      0       0\n",
              "5q4BpnMrYEFzLO0dYODj6J  0     0    0     0  ...      0    0      0       0\n",
              "6Kkt27YmFyIFrcX3QXFi2o  0     0    0     0  ...      0    0      0       0\n",
              "1Dp7JGFNjvg8Nk0CtMCcnr  0     0    0     0  ...      0    0      0       0\n",
              "\n",
              "[5 rows x 1024 columns]"
            ]
          },
          "metadata": {
            "tags": []
          },
          "execution_count": 51
        }
      ]
    },
    {
      "cell_type": "code",
      "metadata": {
        "id": "rBx-j_KG-E0Z",
        "colab_type": "code",
        "outputId": "47f579f0-de4c-4b73-ba09-badf7b72686c",
        "colab": {
          "base_uri": "https://localhost:8080/",
          "height": 1000
        }
      },
      "source": [
        "%%time\n",
        "# Create our data frame with features. This can take a while to run.\n",
        "\n",
        "# Process each row, counting the occurrence of words in each sentence.\n",
        "for i, text in enumerate(df_lyrics['lyrics_nostops']):\n",
        "\n",
        "  words = [word for word in text if word in common_words]\n",
        "\n",
        "  # Populate the row with word counts.\n",
        "  for word in words:\n",
        "    word_counts.loc[word_counts.index[i], word] += 1\n",
        "\n",
        "  # This counter is just to make sure the kernel didn't hang.\n",
        "  if i % 50 == 0:\n",
        "    print(\"Processing row {}\".format(i))"
      ],
      "execution_count": 0,
      "outputs": [
        {
          "output_type": "stream",
          "text": [
            "Processing row 0\n",
            "Processing row 50\n",
            "Processing row 100\n",
            "Processing row 150\n",
            "Processing row 200\n",
            "Processing row 250\n",
            "Processing row 300\n",
            "Processing row 350\n",
            "Processing row 400\n",
            "Processing row 450\n",
            "Processing row 500\n",
            "Processing row 550\n",
            "Processing row 600\n",
            "Processing row 650\n",
            "Processing row 700\n",
            "Processing row 750\n",
            "Processing row 800\n",
            "Processing row 850\n",
            "Processing row 900\n",
            "Processing row 950\n",
            "Processing row 1000\n",
            "Processing row 1050\n",
            "Processing row 1100\n",
            "Processing row 1150\n",
            "Processing row 1200\n",
            "Processing row 1250\n",
            "Processing row 1300\n",
            "Processing row 1350\n",
            "Processing row 1400\n",
            "Processing row 1450\n",
            "Processing row 1500\n",
            "Processing row 1550\n",
            "Processing row 1600\n",
            "Processing row 1650\n",
            "Processing row 1700\n",
            "Processing row 1750\n",
            "Processing row 1800\n",
            "Processing row 1850\n",
            "Processing row 1900\n",
            "Processing row 1950\n",
            "Processing row 2000\n",
            "Processing row 2050\n",
            "Processing row 2100\n",
            "Processing row 2150\n",
            "Processing row 2200\n",
            "Processing row 2250\n",
            "Processing row 2300\n",
            "Processing row 2350\n",
            "Processing row 2400\n",
            "Processing row 2450\n",
            "Processing row 2500\n",
            "Processing row 2550\n",
            "Processing row 2600\n",
            "Processing row 2650\n",
            "Processing row 2700\n",
            "Processing row 2750\n",
            "Processing row 2800\n",
            "Processing row 2850\n",
            "Processing row 2900\n",
            "Processing row 2950\n",
            "CPU times: user 1min 27s, sys: 210 ms, total: 1min 27s\n",
            "Wall time: 1min 27s\n"
          ],
          "name": "stdout"
        }
      ]
    },
    {
      "cell_type": "code",
      "metadata": {
        "id": "2zIRRe86-23J",
        "colab_type": "code",
        "outputId": "89d350d8-1307-4153-a30e-e771e65515b6",
        "colab": {
          "base_uri": "https://localhost:8080/",
          "height": 295
        }
      },
      "source": [
        "print(word_counts.shape)\n",
        "word_counts.head()"
      ],
      "execution_count": 0,
      "outputs": [
        {
          "output_type": "stream",
          "text": [
            "(2990, 1024)\n"
          ],
          "name": "stdout"
        },
        {
          "output_type": "execute_result",
          "data": {
            "text/html": [
              "<div>\n",
              "<style scoped>\n",
              "    .dataframe tbody tr th:only-of-type {\n",
              "        vertical-align: middle;\n",
              "    }\n",
              "\n",
              "    .dataframe tbody tr th {\n",
              "        vertical-align: top;\n",
              "    }\n",
              "\n",
              "    .dataframe thead th {\n",
              "        text-align: right;\n",
              "    }\n",
              "</style>\n",
              "<table border=\"1\" class=\"dataframe\">\n",
              "  <thead>\n",
              "    <tr style=\"text-align: right;\">\n",
              "      <th></th>\n",
              "      <th>m</th>\n",
              "      <th>know</th>\n",
              "      <th>don</th>\n",
              "      <th>love</th>\n",
              "      <th>oh</th>\n",
              "      <th>like</th>\n",
              "      <th>get</th>\n",
              "      <th>go</th>\n",
              "      <th>will</th>\n",
              "      <th>come</th>\n",
              "      <th>time</th>\n",
              "      <th>yeah</th>\n",
              "      <th>let</th>\n",
              "      <th>ve</th>\n",
              "      <th>to</th>\n",
              "      <th>feel</th>\n",
              "      <th>want</th>\n",
              "      <th>cause</th>\n",
              "      <th>baby</th>\n",
              "      <th>wanna</th>\n",
              "      <th>way</th>\n",
              "      <th>tell</th>\n",
              "      <th>think</th>\n",
              "      <th>ain</th>\n",
              "      <th>heart</th>\n",
              "      <th>good</th>\n",
              "      <th></th>\n",
              "      <th>night</th>\n",
              "      <th>right</th>\n",
              "      <th>need</th>\n",
              "      <th>away</th>\n",
              "      <th>say</th>\n",
              "      <th>girl</th>\n",
              "      <th>look</th>\n",
              "      <th>little</th>\n",
              "      <th>win</th>\n",
              "      <th>leave</th>\n",
              "      <th>man</th>\n",
              "      <th>thing</th>\n",
              "      <th>day</th>\n",
              "      <th>...</th>\n",
              "      <th>special</th>\n",
              "      <th>hurry</th>\n",
              "      <th>card</th>\n",
              "      <th>brick</th>\n",
              "      <th>jone</th>\n",
              "      <th>note</th>\n",
              "      <th>snake</th>\n",
              "      <th>swerve</th>\n",
              "      <th>rainy</th>\n",
              "      <th>silent</th>\n",
              "      <th>static</th>\n",
              "      <th>purple</th>\n",
              "      <th>salt</th>\n",
              "      <th>william</th>\n",
              "      <th>stress</th>\n",
              "      <th>dan</th>\n",
              "      <th>calm</th>\n",
              "      <th>fame</th>\n",
              "      <th>trace</th>\n",
              "      <th>lesson</th>\n",
              "      <th>motherfucker</th>\n",
              "      <th>glad</th>\n",
              "      <th>rapper</th>\n",
              "      <th>afterlife</th>\n",
              "      <th>daughter</th>\n",
              "      <th>fever</th>\n",
              "      <th>hardly</th>\n",
              "      <th>trick</th>\n",
              "      <th>conversation</th>\n",
              "      <th>bitter</th>\n",
              "      <th>tiny</th>\n",
              "      <th>judge</th>\n",
              "      <th>flight</th>\n",
              "      <th>fate</th>\n",
              "      <th>headlight</th>\n",
              "      <th>marry</th>\n",
              "      <th>chair</th>\n",
              "      <th>aye</th>\n",
              "      <th>cryin</th>\n",
              "      <th>walkin</th>\n",
              "    </tr>\n",
              "    <tr>\n",
              "      <th>id</th>\n",
              "      <th></th>\n",
              "      <th></th>\n",
              "      <th></th>\n",
              "      <th></th>\n",
              "      <th></th>\n",
              "      <th></th>\n",
              "      <th></th>\n",
              "      <th></th>\n",
              "      <th></th>\n",
              "      <th></th>\n",
              "      <th></th>\n",
              "      <th></th>\n",
              "      <th></th>\n",
              "      <th></th>\n",
              "      <th></th>\n",
              "      <th></th>\n",
              "      <th></th>\n",
              "      <th></th>\n",
              "      <th></th>\n",
              "      <th></th>\n",
              "      <th></th>\n",
              "      <th></th>\n",
              "      <th></th>\n",
              "      <th></th>\n",
              "      <th></th>\n",
              "      <th></th>\n",
              "      <th></th>\n",
              "      <th></th>\n",
              "      <th></th>\n",
              "      <th></th>\n",
              "      <th></th>\n",
              "      <th></th>\n",
              "      <th></th>\n",
              "      <th></th>\n",
              "      <th></th>\n",
              "      <th></th>\n",
              "      <th></th>\n",
              "      <th></th>\n",
              "      <th></th>\n",
              "      <th></th>\n",
              "      <th></th>\n",
              "      <th></th>\n",
              "      <th></th>\n",
              "      <th></th>\n",
              "      <th></th>\n",
              "      <th></th>\n",
              "      <th></th>\n",
              "      <th></th>\n",
              "      <th></th>\n",
              "      <th></th>\n",
              "      <th></th>\n",
              "      <th></th>\n",
              "      <th></th>\n",
              "      <th></th>\n",
              "      <th></th>\n",
              "      <th></th>\n",
              "      <th></th>\n",
              "      <th></th>\n",
              "      <th></th>\n",
              "      <th></th>\n",
              "      <th></th>\n",
              "      <th></th>\n",
              "      <th></th>\n",
              "      <th></th>\n",
              "      <th></th>\n",
              "      <th></th>\n",
              "      <th></th>\n",
              "      <th></th>\n",
              "      <th></th>\n",
              "      <th></th>\n",
              "      <th></th>\n",
              "      <th></th>\n",
              "      <th></th>\n",
              "      <th></th>\n",
              "      <th></th>\n",
              "      <th></th>\n",
              "      <th></th>\n",
              "      <th></th>\n",
              "      <th></th>\n",
              "      <th></th>\n",
              "      <th></th>\n",
              "    </tr>\n",
              "  </thead>\n",
              "  <tbody>\n",
              "    <tr>\n",
              "      <th>7eElVgPcxDqmgGrSwVFI74</th>\n",
              "      <td>3</td>\n",
              "      <td>6</td>\n",
              "      <td>3</td>\n",
              "      <td>0</td>\n",
              "      <td>4</td>\n",
              "      <td>1</td>\n",
              "      <td>0</td>\n",
              "      <td>1</td>\n",
              "      <td>3</td>\n",
              "      <td>0</td>\n",
              "      <td>1</td>\n",
              "      <td>0</td>\n",
              "      <td>2</td>\n",
              "      <td>0</td>\n",
              "      <td>0</td>\n",
              "      <td>3</td>\n",
              "      <td>0</td>\n",
              "      <td>0</td>\n",
              "      <td>0</td>\n",
              "      <td>0</td>\n",
              "      <td>0</td>\n",
              "      <td>0</td>\n",
              "      <td>0</td>\n",
              "      <td>2</td>\n",
              "      <td>1</td>\n",
              "      <td>0</td>\n",
              "      <td>1</td>\n",
              "      <td>4</td>\n",
              "      <td>0</td>\n",
              "      <td>0</td>\n",
              "      <td>0</td>\n",
              "      <td>0</td>\n",
              "      <td>0</td>\n",
              "      <td>0</td>\n",
              "      <td>0</td>\n",
              "      <td>0</td>\n",
              "      <td>1</td>\n",
              "      <td>0</td>\n",
              "      <td>0</td>\n",
              "      <td>1</td>\n",
              "      <td>...</td>\n",
              "      <td>0</td>\n",
              "      <td>0</td>\n",
              "      <td>0</td>\n",
              "      <td>0</td>\n",
              "      <td>0</td>\n",
              "      <td>0</td>\n",
              "      <td>0</td>\n",
              "      <td>0</td>\n",
              "      <td>0</td>\n",
              "      <td>0</td>\n",
              "      <td>0</td>\n",
              "      <td>0</td>\n",
              "      <td>0</td>\n",
              "      <td>0</td>\n",
              "      <td>0</td>\n",
              "      <td>0</td>\n",
              "      <td>0</td>\n",
              "      <td>0</td>\n",
              "      <td>0</td>\n",
              "      <td>0</td>\n",
              "      <td>0</td>\n",
              "      <td>0</td>\n",
              "      <td>0</td>\n",
              "      <td>0</td>\n",
              "      <td>0</td>\n",
              "      <td>4</td>\n",
              "      <td>0</td>\n",
              "      <td>0</td>\n",
              "      <td>0</td>\n",
              "      <td>0</td>\n",
              "      <td>0</td>\n",
              "      <td>0</td>\n",
              "      <td>0</td>\n",
              "      <td>0</td>\n",
              "      <td>0</td>\n",
              "      <td>0</td>\n",
              "      <td>0</td>\n",
              "      <td>0</td>\n",
              "      <td>0</td>\n",
              "      <td>0</td>\n",
              "    </tr>\n",
              "    <tr>\n",
              "      <th>02oAUzv4M0ItuTDy2RT3IT</th>\n",
              "      <td>0</td>\n",
              "      <td>4</td>\n",
              "      <td>1</td>\n",
              "      <td>2</td>\n",
              "      <td>0</td>\n",
              "      <td>0</td>\n",
              "      <td>0</td>\n",
              "      <td>1</td>\n",
              "      <td>4</td>\n",
              "      <td>3</td>\n",
              "      <td>0</td>\n",
              "      <td>1</td>\n",
              "      <td>6</td>\n",
              "      <td>0</td>\n",
              "      <td>1</td>\n",
              "      <td>0</td>\n",
              "      <td>0</td>\n",
              "      <td>0</td>\n",
              "      <td>0</td>\n",
              "      <td>0</td>\n",
              "      <td>0</td>\n",
              "      <td>3</td>\n",
              "      <td>3</td>\n",
              "      <td>0</td>\n",
              "      <td>0</td>\n",
              "      <td>6</td>\n",
              "      <td>1</td>\n",
              "      <td>0</td>\n",
              "      <td>3</td>\n",
              "      <td>0</td>\n",
              "      <td>0</td>\n",
              "      <td>0</td>\n",
              "      <td>0</td>\n",
              "      <td>0</td>\n",
              "      <td>0</td>\n",
              "      <td>0</td>\n",
              "      <td>0</td>\n",
              "      <td>0</td>\n",
              "      <td>3</td>\n",
              "      <td>0</td>\n",
              "      <td>...</td>\n",
              "      <td>0</td>\n",
              "      <td>0</td>\n",
              "      <td>0</td>\n",
              "      <td>0</td>\n",
              "      <td>0</td>\n",
              "      <td>0</td>\n",
              "      <td>0</td>\n",
              "      <td>0</td>\n",
              "      <td>0</td>\n",
              "      <td>0</td>\n",
              "      <td>0</td>\n",
              "      <td>0</td>\n",
              "      <td>0</td>\n",
              "      <td>0</td>\n",
              "      <td>0</td>\n",
              "      <td>0</td>\n",
              "      <td>0</td>\n",
              "      <td>0</td>\n",
              "      <td>0</td>\n",
              "      <td>0</td>\n",
              "      <td>0</td>\n",
              "      <td>0</td>\n",
              "      <td>0</td>\n",
              "      <td>0</td>\n",
              "      <td>0</td>\n",
              "      <td>0</td>\n",
              "      <td>1</td>\n",
              "      <td>0</td>\n",
              "      <td>0</td>\n",
              "      <td>0</td>\n",
              "      <td>0</td>\n",
              "      <td>0</td>\n",
              "      <td>0</td>\n",
              "      <td>0</td>\n",
              "      <td>0</td>\n",
              "      <td>0</td>\n",
              "      <td>0</td>\n",
              "      <td>0</td>\n",
              "      <td>0</td>\n",
              "      <td>0</td>\n",
              "    </tr>\n",
              "    <tr>\n",
              "      <th>5q4BpnMrYEFzLO0dYODj6J</th>\n",
              "      <td>1</td>\n",
              "      <td>1</td>\n",
              "      <td>0</td>\n",
              "      <td>1</td>\n",
              "      <td>0</td>\n",
              "      <td>0</td>\n",
              "      <td>0</td>\n",
              "      <td>0</td>\n",
              "      <td>2</td>\n",
              "      <td>1</td>\n",
              "      <td>0</td>\n",
              "      <td>0</td>\n",
              "      <td>1</td>\n",
              "      <td>0</td>\n",
              "      <td>0</td>\n",
              "      <td>1</td>\n",
              "      <td>0</td>\n",
              "      <td>0</td>\n",
              "      <td>0</td>\n",
              "      <td>0</td>\n",
              "      <td>0</td>\n",
              "      <td>0</td>\n",
              "      <td>0</td>\n",
              "      <td>0</td>\n",
              "      <td>0</td>\n",
              "      <td>0</td>\n",
              "      <td>1</td>\n",
              "      <td>1</td>\n",
              "      <td>0</td>\n",
              "      <td>0</td>\n",
              "      <td>0</td>\n",
              "      <td>0</td>\n",
              "      <td>0</td>\n",
              "      <td>0</td>\n",
              "      <td>0</td>\n",
              "      <td>0</td>\n",
              "      <td>0</td>\n",
              "      <td>0</td>\n",
              "      <td>2</td>\n",
              "      <td>1</td>\n",
              "      <td>...</td>\n",
              "      <td>0</td>\n",
              "      <td>0</td>\n",
              "      <td>0</td>\n",
              "      <td>0</td>\n",
              "      <td>0</td>\n",
              "      <td>0</td>\n",
              "      <td>0</td>\n",
              "      <td>0</td>\n",
              "      <td>0</td>\n",
              "      <td>0</td>\n",
              "      <td>0</td>\n",
              "      <td>0</td>\n",
              "      <td>0</td>\n",
              "      <td>0</td>\n",
              "      <td>0</td>\n",
              "      <td>0</td>\n",
              "      <td>0</td>\n",
              "      <td>0</td>\n",
              "      <td>0</td>\n",
              "      <td>0</td>\n",
              "      <td>0</td>\n",
              "      <td>0</td>\n",
              "      <td>0</td>\n",
              "      <td>0</td>\n",
              "      <td>0</td>\n",
              "      <td>0</td>\n",
              "      <td>0</td>\n",
              "      <td>0</td>\n",
              "      <td>0</td>\n",
              "      <td>0</td>\n",
              "      <td>0</td>\n",
              "      <td>0</td>\n",
              "      <td>0</td>\n",
              "      <td>0</td>\n",
              "      <td>0</td>\n",
              "      <td>0</td>\n",
              "      <td>0</td>\n",
              "      <td>0</td>\n",
              "      <td>0</td>\n",
              "      <td>0</td>\n",
              "    </tr>\n",
              "    <tr>\n",
              "      <th>6Kkt27YmFyIFrcX3QXFi2o</th>\n",
              "      <td>4</td>\n",
              "      <td>2</td>\n",
              "      <td>2</td>\n",
              "      <td>2</td>\n",
              "      <td>0</td>\n",
              "      <td>0</td>\n",
              "      <td>0</td>\n",
              "      <td>3</td>\n",
              "      <td>1</td>\n",
              "      <td>0</td>\n",
              "      <td>0</td>\n",
              "      <td>0</td>\n",
              "      <td>0</td>\n",
              "      <td>0</td>\n",
              "      <td>2</td>\n",
              "      <td>0</td>\n",
              "      <td>0</td>\n",
              "      <td>0</td>\n",
              "      <td>1</td>\n",
              "      <td>1</td>\n",
              "      <td>0</td>\n",
              "      <td>0</td>\n",
              "      <td>0</td>\n",
              "      <td>0</td>\n",
              "      <td>0</td>\n",
              "      <td>1</td>\n",
              "      <td>1</td>\n",
              "      <td>1</td>\n",
              "      <td>0</td>\n",
              "      <td>0</td>\n",
              "      <td>0</td>\n",
              "      <td>2</td>\n",
              "      <td>2</td>\n",
              "      <td>0</td>\n",
              "      <td>6</td>\n",
              "      <td>0</td>\n",
              "      <td>2</td>\n",
              "      <td>0</td>\n",
              "      <td>0</td>\n",
              "      <td>0</td>\n",
              "      <td>...</td>\n",
              "      <td>0</td>\n",
              "      <td>0</td>\n",
              "      <td>0</td>\n",
              "      <td>0</td>\n",
              "      <td>0</td>\n",
              "      <td>0</td>\n",
              "      <td>0</td>\n",
              "      <td>0</td>\n",
              "      <td>0</td>\n",
              "      <td>0</td>\n",
              "      <td>0</td>\n",
              "      <td>0</td>\n",
              "      <td>0</td>\n",
              "      <td>0</td>\n",
              "      <td>0</td>\n",
              "      <td>0</td>\n",
              "      <td>0</td>\n",
              "      <td>0</td>\n",
              "      <td>0</td>\n",
              "      <td>0</td>\n",
              "      <td>0</td>\n",
              "      <td>0</td>\n",
              "      <td>0</td>\n",
              "      <td>0</td>\n",
              "      <td>0</td>\n",
              "      <td>0</td>\n",
              "      <td>0</td>\n",
              "      <td>1</td>\n",
              "      <td>0</td>\n",
              "      <td>0</td>\n",
              "      <td>0</td>\n",
              "      <td>0</td>\n",
              "      <td>0</td>\n",
              "      <td>0</td>\n",
              "      <td>0</td>\n",
              "      <td>0</td>\n",
              "      <td>0</td>\n",
              "      <td>0</td>\n",
              "      <td>0</td>\n",
              "      <td>0</td>\n",
              "    </tr>\n",
              "    <tr>\n",
              "      <th>1Dp7JGFNjvg8Nk0CtMCcnr</th>\n",
              "      <td>4</td>\n",
              "      <td>1</td>\n",
              "      <td>1</td>\n",
              "      <td>6</td>\n",
              "      <td>0</td>\n",
              "      <td>2</td>\n",
              "      <td>0</td>\n",
              "      <td>4</td>\n",
              "      <td>2</td>\n",
              "      <td>1</td>\n",
              "      <td>1</td>\n",
              "      <td>2</td>\n",
              "      <td>3</td>\n",
              "      <td>1</td>\n",
              "      <td>4</td>\n",
              "      <td>1</td>\n",
              "      <td>0</td>\n",
              "      <td>3</td>\n",
              "      <td>0</td>\n",
              "      <td>6</td>\n",
              "      <td>1</td>\n",
              "      <td>3</td>\n",
              "      <td>0</td>\n",
              "      <td>0</td>\n",
              "      <td>2</td>\n",
              "      <td>0</td>\n",
              "      <td>0</td>\n",
              "      <td>0</td>\n",
              "      <td>3</td>\n",
              "      <td>1</td>\n",
              "      <td>2</td>\n",
              "      <td>0</td>\n",
              "      <td>0</td>\n",
              "      <td>4</td>\n",
              "      <td>1</td>\n",
              "      <td>0</td>\n",
              "      <td>3</td>\n",
              "      <td>0</td>\n",
              "      <td>1</td>\n",
              "      <td>3</td>\n",
              "      <td>...</td>\n",
              "      <td>0</td>\n",
              "      <td>0</td>\n",
              "      <td>0</td>\n",
              "      <td>0</td>\n",
              "      <td>0</td>\n",
              "      <td>0</td>\n",
              "      <td>0</td>\n",
              "      <td>0</td>\n",
              "      <td>0</td>\n",
              "      <td>0</td>\n",
              "      <td>0</td>\n",
              "      <td>0</td>\n",
              "      <td>0</td>\n",
              "      <td>0</td>\n",
              "      <td>0</td>\n",
              "      <td>0</td>\n",
              "      <td>0</td>\n",
              "      <td>0</td>\n",
              "      <td>0</td>\n",
              "      <td>0</td>\n",
              "      <td>0</td>\n",
              "      <td>0</td>\n",
              "      <td>0</td>\n",
              "      <td>0</td>\n",
              "      <td>0</td>\n",
              "      <td>2</td>\n",
              "      <td>0</td>\n",
              "      <td>0</td>\n",
              "      <td>0</td>\n",
              "      <td>0</td>\n",
              "      <td>0</td>\n",
              "      <td>0</td>\n",
              "      <td>0</td>\n",
              "      <td>0</td>\n",
              "      <td>0</td>\n",
              "      <td>0</td>\n",
              "      <td>0</td>\n",
              "      <td>0</td>\n",
              "      <td>0</td>\n",
              "      <td>0</td>\n",
              "    </tr>\n",
              "  </tbody>\n",
              "</table>\n",
              "<p>5 rows × 1024 columns</p>\n",
              "</div>"
            ],
            "text/plain": [
              "                        m  know  don  love  ...  chair  aye  cryin  walkin\n",
              "id                                          ...                           \n",
              "7eElVgPcxDqmgGrSwVFI74  3     6    3     0  ...      0    0      0       0\n",
              "02oAUzv4M0ItuTDy2RT3IT  0     4    1     2  ...      0    0      0       0\n",
              "5q4BpnMrYEFzLO0dYODj6J  1     1    0     1  ...      0    0      0       0\n",
              "6Kkt27YmFyIFrcX3QXFi2o  4     2    2     2  ...      0    0      0       0\n",
              "1Dp7JGFNjvg8Nk0CtMCcnr  4     1    1     6  ...      0    0      0       0\n",
              "\n",
              "[5 rows x 1024 columns]"
            ]
          },
          "metadata": {
            "tags": []
          },
          "execution_count": 55
        }
      ]
    },
    {
      "cell_type": "code",
      "metadata": {
        "id": "-48dgVeA-RZc",
        "colab_type": "code",
        "outputId": "dff2eabd-de8b-4c47-efb4-8239e5b7cd58",
        "colab": {
          "base_uri": "https://localhost:8080/",
          "height": 284
        }
      },
      "source": [
        "word1 = \"love\"\n",
        "word_counts[word1].astype(int).describe()\n",
        "sns.distplot(word_counts[word1].astype(int))\n",
        "plt.show();"
      ],
      "execution_count": 0,
      "outputs": [
        {
          "output_type": "display_data",
          "data": {
            "image/png": "[encoded data removed]",
            "text/plain": [
              "<Figure size 432x288 with 1 Axes>"
            ]
          },
          "metadata": {
            "tags": []
          }
        }
      ]
    },
    {
      "cell_type": "code",
      "metadata": {
        "id": "FoBvmbCQ-ZLQ",
        "colab_type": "code",
        "outputId": "7f75c82f-60da-4d81-c877-39491421470d",
        "colab": {
          "base_uri": "https://localhost:8080/",
          "height": 295
        }
      },
      "source": [
        "word1 = \"love\"\n",
        "word2 = \"hate\"\n",
        "\n",
        "sns.lineplot(x=Audio_features[\"year\"], y=word_counts[word1].reset_index(drop=True), label=word1)\n",
        "sns.lineplot(x=Audio_features[\"year\"], y=word_counts[word2].reset_index(drop=True), label=word2)\n",
        "plt.ylabel('count')\n",
        "plt.xlabel('word')\n",
        "plt.legend()\n",
        "plt.title('{} vs. {}'.format(word1, word2))\n",
        "plt.show();"
      ],
      "execution_count": 0,
      "outputs": [
        {
          "output_type": "display_data",
          "data": {
            "image/png": "[encoded data removed]",
            "text/plain": [
              "<Figure size 432x288 with 1 Axes>"
            ]
          },
          "metadata": {
            "tags": []
          }
        }
      ]
    },
    {
      "cell_type": "markdown",
      "metadata": {
        "id": "BOMvnsez-q6A",
        "colab_type": "text"
      },
      "source": [
        "#### Save data locally"
      ]
    },
    {
      "cell_type": "code",
      "metadata": {
        "id": "U7oOpScK-uiL",
        "colab_type": "code",
        "colab": {}
      },
      "source": [
        "#from google.colab import files\n",
        "filename = 'spotify_word_counts'\n",
        "word_counts.to_csv(filename+\".csv\", index=True)\n",
        "files.download(filename+\".csv\")"
      ],
      "execution_count": 0,
      "outputs": []
    },
    {
      "cell_type": "code",
      "metadata": {
        "id": "6cen7zEh4IkV",
        "colab_type": "code",
        "colab": {}
      },
      "source": [
        ""
      ],
      "execution_count": 0,
      "outputs": []
    }
  ]
}