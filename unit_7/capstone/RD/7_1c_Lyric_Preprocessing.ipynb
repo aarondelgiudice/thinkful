{
  "nbformat": 4,
  "nbformat_minor": 0,
  "metadata": {
    "colab": {
      "name": "7.1c_Lyric_Preprocessing",
      "version": "0.3.2",
      "provenance": [],
      "collapsed_sections": [
        "Au8E9MWPrD6B",
        "VOOfqmuAtGuo",
        "TeXDyQ3tmtBT",
        "7-BBqkvlEbI7",
        "wWQlcZtH9ZWe",
        "eOg5QIbE9bqy"
      ],
      "include_colab_link": true
    },
    "kernelspec": {
      "name": "python3",
      "display_name": "Python 3"
    }
  },
  "cells": [
    {
      "cell_type": "markdown",
      "metadata": {
        "id": "view-in-github",
        "colab_type": "text"
      },
      "source": [
        "<a href=\"https://colab.research.google.com/github/aarondelgiudice/thinkful_data_bootcamp/blob/master/unit_7/capstone/RD/7_1c_Lyric_Preprocessing.ipynb\" target=\"_parent\"><img src=\"https://colab.research.google.com/assets/colab-badge.svg\" alt=\"Open In Colab\"/></a>"
      ]
    },
    {
      "cell_type": "markdown",
      "metadata": {
        "id": "3YZKWSnJ17Sp",
        "colab_type": "text"
      },
      "source": [
        "# Lyric Preprocessing\n",
        "### Table of Contents\n",
        "- Clean Text\n",
        "- Parse Text\n",
        "- Feature Extraction\n",
        "  - bag of words"
      ]
    },
    {
      "cell_type": "markdown",
      "metadata": {
        "id": "Au8E9MWPrD6B",
        "colab_type": "text"
      },
      "source": [
        "## Import Data"
      ]
    },
    {
      "cell_type": "code",
      "metadata": {
        "id": "D9VUvRKoo5YP",
        "colab_type": "code",
        "colab": {}
      },
      "source": [
        "# load packages\n",
        "import numpy as np\n",
        "import pandas as pd\n",
        "\n",
        "import matplotlib.pyplot as plt\n",
        "%matplotlib inline\n",
        "import seaborn as sns\n",
        "sns.set_style(\"darkgrid\")"
      ],
      "execution_count": 0,
      "outputs": []
    },
    {
      "cell_type": "code",
      "metadata": {
        "id": "8z9NxlMYry5p",
        "colab_type": "code",
        "outputId": "f51cc759-ab02-43bd-c64d-b775f35e3332",
        "colab": {
          "base_uri": "https://localhost:8080/",
          "height": 285
        }
      },
      "source": [
        "# change field size to avoid ParseError\n",
        "import sys\n",
        "import csv\n",
        "\n",
        "csv.field_size_limit(sys.maxsize)\n",
        "\n",
        "filename = \"lyric_test_data_clean\"\n",
        "# set engine=\"python\" to avoid ParseError\n",
        "# set error_bad_lines=False\n",
        "#df_lyrics = pd.read_csv(filename + \".csv\", index_col=0,\n",
        "#                        engine=\"python\", error_bad_lines=False)\n",
        "df_lyrics = pd.read_csv(filename + \".csv\", index_col=0)\n",
        "# make sure lyric data is type string\n",
        "df_lyrics['lyrics_raw'] = df_lyrics['lyrics_raw'].astype(str)\n",
        "df_lyrics['lyrics_clean'] = df_lyrics['lyrics_clean'].astype(str)\n",
        "df_lyrics.head()"
      ],
      "execution_count": 0,
      "outputs": [
        {
          "output_type": "execute_result",
          "data": {
            "text/html": [
              "<div>\n",
              "<style scoped>\n",
              "    .dataframe tbody tr th:only-of-type {\n",
              "        vertical-align: middle;\n",
              "    }\n",
              "\n",
              "    .dataframe tbody tr th {\n",
              "        vertical-align: top;\n",
              "    }\n",
              "\n",
              "    .dataframe thead th {\n",
              "        text-align: right;\n",
              "    }\n",
              "</style>\n",
              "<table border=\"1\" class=\"dataframe\">\n",
              "  <thead>\n",
              "    <tr style=\"text-align: right;\">\n",
              "      <th></th>\n",
              "      <th>id</th>\n",
              "      <th>lyrics_raw</th>\n",
              "      <th>length_raw</th>\n",
              "      <th>lyrics_clean</th>\n",
              "      <th>length_clean</th>\n",
              "    </tr>\n",
              "  </thead>\n",
              "  <tbody>\n",
              "    <tr>\n",
              "      <th>0</th>\n",
              "      <td>7eElVgPcxDqmgGrSwVFI74</td>\n",
              "      <td>[Intro]\\nNight, midnight, lose my mind\\nNight,...</td>\n",
              "      <td>2485.0</td>\n",
              "      <td>night midnight lose my mind night midnight lo...</td>\n",
              "      <td>2275.0</td>\n",
              "    </tr>\n",
              "    <tr>\n",
              "      <th>1</th>\n",
              "      <td>02oAUzv4M0ItuTDy2RT3IT</td>\n",
              "      <td>[Verse 1]\\nA couple rebel top gun pilots\\nFlyi...</td>\n",
              "      <td>1795.0</td>\n",
              "      <td>couple rebel top gun pilots flying with nowhe...</td>\n",
              "      <td>1621.0</td>\n",
              "    </tr>\n",
              "    <tr>\n",
              "      <th>2</th>\n",
              "      <td>5q4BpnMrYEFzLO0dYODj6J</td>\n",
              "      <td>[Verse 1]\\nWell, summer slipped us underneath ...</td>\n",
              "      <td>1824.0</td>\n",
              "      <td>well summer slipped us underneath her tongue ...</td>\n",
              "      <td>1665.0</td>\n",
              "    </tr>\n",
              "    <tr>\n",
              "      <th>3</th>\n",
              "      <td>6Kkt27YmFyIFrcX3QXFi2o</td>\n",
              "      <td>[Intro]\\nOne, two\\n\\n[Verse 1]\\nBaby really hu...</td>\n",
              "      <td>1305.0</td>\n",
              "      <td>one two baby really hurt me crying in the tax...</td>\n",
              "      <td>1157.0</td>\n",
              "    </tr>\n",
              "    <tr>\n",
              "      <th>4</th>\n",
              "      <td>1Dp7JGFNjvg8Nk0CtMCcnr</td>\n",
              "      <td>Hard Feelings\\n\\n(Go back and tell it)\\n\\nPlea...</td>\n",
              "      <td>2386.0</td>\n",
              "      <td>hard feelings go back and tell it please could...</td>\n",
              "      <td>2189.0</td>\n",
              "    </tr>\n",
              "  </tbody>\n",
              "</table>\n",
              "</div>"
            ],
            "text/plain": [
              "                       id  ... length_clean\n",
              "0  7eElVgPcxDqmgGrSwVFI74  ...       2275.0\n",
              "1  02oAUzv4M0ItuTDy2RT3IT  ...       1621.0\n",
              "2  5q4BpnMrYEFzLO0dYODj6J  ...       1665.0\n",
              "3  6Kkt27YmFyIFrcX3QXFi2o  ...       1157.0\n",
              "4  1Dp7JGFNjvg8Nk0CtMCcnr  ...       2189.0\n",
              "\n",
              "[5 rows x 5 columns]"
            ]
          },
          "metadata": {
            "tags": []
          },
          "execution_count": 2
        }
      ]
    },
    {
      "cell_type": "code",
      "metadata": {
        "id": "j5n0vaCkF03D",
        "colab_type": "code",
        "outputId": "2eea40d9-9374-4b65-9f10-f050c421b725",
        "colab": {
          "base_uri": "https://localhost:8080/",
          "height": 305
        }
      },
      "source": [
        "filename = \"spotify_test_data\"\n",
        "df_af = pd.read_csv(filename + \".csv\", index_col=0)\n",
        "\n",
        "df_af.head()"
      ],
      "execution_count": 0,
      "outputs": [
        {
          "output_type": "execute_result",
          "data": {
            "text/html": [
              "<div>\n",
              "<style scoped>\n",
              "    .dataframe tbody tr th:only-of-type {\n",
              "        vertical-align: middle;\n",
              "    }\n",
              "\n",
              "    .dataframe tbody tr th {\n",
              "        vertical-align: top;\n",
              "    }\n",
              "\n",
              "    .dataframe thead th {\n",
              "        text-align: right;\n",
              "    }\n",
              "</style>\n",
              "<table border=\"1\" class=\"dataframe\">\n",
              "  <thead>\n",
              "    <tr style=\"text-align: right;\">\n",
              "      <th></th>\n",
              "      <th>acousticness</th>\n",
              "      <th>analysis_url</th>\n",
              "      <th>danceability</th>\n",
              "      <th>duration_ms</th>\n",
              "      <th>energy</th>\n",
              "      <th>id</th>\n",
              "      <th>instrumentalness</th>\n",
              "      <th>key</th>\n",
              "      <th>liveness</th>\n",
              "      <th>loudness</th>\n",
              "      <th>mode</th>\n",
              "      <th>speechiness</th>\n",
              "      <th>target</th>\n",
              "      <th>tempo</th>\n",
              "      <th>time_signature</th>\n",
              "      <th>track_href</th>\n",
              "      <th>type</th>\n",
              "      <th>uri</th>\n",
              "      <th>valence</th>\n",
              "      <th>track_names</th>\n",
              "      <th>artist_names</th>\n",
              "      <th>album_names</th>\n",
              "      <th>release_dates</th>\n",
              "      <th>popularity</th>\n",
              "      <th>explicit</th>\n",
              "    </tr>\n",
              "  </thead>\n",
              "  <tbody>\n",
              "    <tr>\n",
              "      <th>0</th>\n",
              "      <td>0.1730</td>\n",
              "      <td>https://api.spotify.com/v1/audio-analysis/7eEl...</td>\n",
              "      <td>0.796</td>\n",
              "      <td>197236</td>\n",
              "      <td>0.467</td>\n",
              "      <td>7eElVgPcxDqmgGrSwVFI74</td>\n",
              "      <td>0.004110</td>\n",
              "      <td>6</td>\n",
              "      <td>0.1260</td>\n",
              "      <td>-10.369</td>\n",
              "      <td>1</td>\n",
              "      <td>0.1810</td>\n",
              "      <td>1</td>\n",
              "      <td>107.901</td>\n",
              "      <td>4</td>\n",
              "      <td>https://api.spotify.com/v1/tracks/7eElVgPcxDqm...</td>\n",
              "      <td>audio_features</td>\n",
              "      <td>spotify:track:7eElVgPcxDqmgGrSwVFI74</td>\n",
              "      <td>0.516</td>\n",
              "      <td>Sober</td>\n",
              "      <td>Lorde</td>\n",
              "      <td>Melodrama</td>\n",
              "      <td>2017-06-16</td>\n",
              "      <td>59</td>\n",
              "      <td>True</td>\n",
              "    </tr>\n",
              "    <tr>\n",
              "      <th>1</th>\n",
              "      <td>0.2870</td>\n",
              "      <td>https://api.spotify.com/v1/audio-analysis/02oA...</td>\n",
              "      <td>0.771</td>\n",
              "      <td>189796</td>\n",
              "      <td>0.431</td>\n",
              "      <td>02oAUzv4M0ItuTDy2RT3IT</td>\n",
              "      <td>0.000003</td>\n",
              "      <td>10</td>\n",
              "      <td>0.0934</td>\n",
              "      <td>-5.423</td>\n",
              "      <td>1</td>\n",
              "      <td>0.0577</td>\n",
              "      <td>1</td>\n",
              "      <td>107.047</td>\n",
              "      <td>4</td>\n",
              "      <td>https://api.spotify.com/v1/tracks/02oAUzv4M0It...</td>\n",
              "      <td>audio_features</td>\n",
              "      <td>spotify:track:02oAUzv4M0ItuTDy2RT3IT</td>\n",
              "      <td>0.268</td>\n",
              "      <td>Homemade Dynamite</td>\n",
              "      <td>Lorde</td>\n",
              "      <td>Melodrama</td>\n",
              "      <td>2017-06-16</td>\n",
              "      <td>60</td>\n",
              "      <td>True</td>\n",
              "    </tr>\n",
              "    <tr>\n",
              "      <th>2</th>\n",
              "      <td>0.2390</td>\n",
              "      <td>https://api.spotify.com/v1/audio-analysis/5q4B...</td>\n",
              "      <td>0.664</td>\n",
              "      <td>271088</td>\n",
              "      <td>0.382</td>\n",
              "      <td>5q4BpnMrYEFzLO0dYODj6J</td>\n",
              "      <td>0.007490</td>\n",
              "      <td>0</td>\n",
              "      <td>0.0943</td>\n",
              "      <td>-9.977</td>\n",
              "      <td>1</td>\n",
              "      <td>0.0470</td>\n",
              "      <td>1</td>\n",
              "      <td>123.214</td>\n",
              "      <td>4</td>\n",
              "      <td>https://api.spotify.com/v1/tracks/5q4BpnMrYEFz...</td>\n",
              "      <td>audio_features</td>\n",
              "      <td>spotify:track:5q4BpnMrYEFzLO0dYODj6J</td>\n",
              "      <td>0.126</td>\n",
              "      <td>The Louvre</td>\n",
              "      <td>Lorde</td>\n",
              "      <td>Melodrama</td>\n",
              "      <td>2017-06-16</td>\n",
              "      <td>61</td>\n",
              "      <td>False</td>\n",
              "    </tr>\n",
              "    <tr>\n",
              "      <th>3</th>\n",
              "      <td>0.9200</td>\n",
              "      <td>https://api.spotify.com/v1/audio-analysis/6Kkt...</td>\n",
              "      <td>0.587</td>\n",
              "      <td>171728</td>\n",
              "      <td>0.229</td>\n",
              "      <td>6Kkt27YmFyIFrcX3QXFi2o</td>\n",
              "      <td>0.000000</td>\n",
              "      <td>10</td>\n",
              "      <td>0.1000</td>\n",
              "      <td>-11.254</td>\n",
              "      <td>0</td>\n",
              "      <td>0.1280</td>\n",
              "      <td>1</td>\n",
              "      <td>75.670</td>\n",
              "      <td>4</td>\n",
              "      <td>https://api.spotify.com/v1/tracks/6Kkt27YmFyIF...</td>\n",
              "      <td>audio_features</td>\n",
              "      <td>spotify:track:6Kkt27YmFyIFrcX3QXFi2o</td>\n",
              "      <td>0.379</td>\n",
              "      <td>Liability</td>\n",
              "      <td>Lorde</td>\n",
              "      <td>Melodrama</td>\n",
              "      <td>2017-06-16</td>\n",
              "      <td>69</td>\n",
              "      <td>False</td>\n",
              "    </tr>\n",
              "    <tr>\n",
              "      <th>4</th>\n",
              "      <td>0.0328</td>\n",
              "      <td>https://api.spotify.com/v1/audio-analysis/1Dp7...</td>\n",
              "      <td>0.487</td>\n",
              "      <td>367391</td>\n",
              "      <td>0.445</td>\n",
              "      <td>1Dp7JGFNjvg8Nk0CtMCcnr</td>\n",
              "      <td>0.010400</td>\n",
              "      <td>1</td>\n",
              "      <td>0.0778</td>\n",
              "      <td>-10.959</td>\n",
              "      <td>0</td>\n",
              "      <td>0.1130</td>\n",
              "      <td>1</td>\n",
              "      <td>97.031</td>\n",
              "      <td>4</td>\n",
              "      <td>https://api.spotify.com/v1/tracks/1Dp7JGFNjvg8...</td>\n",
              "      <td>audio_features</td>\n",
              "      <td>spotify:track:1Dp7JGFNjvg8Nk0CtMCcnr</td>\n",
              "      <td>0.180</td>\n",
              "      <td>Hard Feelings/Loveless</td>\n",
              "      <td>Lorde</td>\n",
              "      <td>Melodrama</td>\n",
              "      <td>2017-06-16</td>\n",
              "      <td>60</td>\n",
              "      <td>True</td>\n",
              "    </tr>\n",
              "  </tbody>\n",
              "</table>\n",
              "</div>"
            ],
            "text/plain": [
              "   acousticness  ... explicit\n",
              "0        0.1730  ...     True\n",
              "1        0.2870  ...     True\n",
              "2        0.2390  ...    False\n",
              "3        0.9200  ...    False\n",
              "4        0.0328  ...     True\n",
              "\n",
              "[5 rows x 25 columns]"
            ]
          },
          "metadata": {
            "tags": []
          },
          "execution_count": 3
        }
      ]
    },
    {
      "cell_type": "markdown",
      "metadata": {
        "id": "VOOfqmuAtGuo",
        "colab_type": "text"
      },
      "source": [
        "## Clean text"
      ]
    },
    {
      "cell_type": "code",
      "metadata": {
        "id": "drLsZVITMZkU",
        "colab_type": "code",
        "outputId": "f9ec45a7-861f-417c-a3ef-392bcdb4e99e",
        "colab": {
          "base_uri": "https://localhost:8080/",
          "height": 214
        }
      },
      "source": [
        "# view raw data\n",
        "for i in df_lyrics[\"lyrics_raw\"].head(5):\n",
        "  display(i[:200])\n",
        "  print()"
      ],
      "execution_count": 0,
      "outputs": [
        {
          "output_type": "display_data",
          "data": {
            "text/plain": [
              "\"[Intro]\\nNight, midnight, lose my mind\\nNight, midnight, lose my mind\\nNight, midnight, lose my mind\\n(When you get to my high, when you get to my)\\nNight, midnight\\n\\n[Verse 1]\\nOh, God, I'm clean out of air\""
            ]
          },
          "metadata": {
            "tags": []
          }
        },
        {
          "output_type": "stream",
          "text": [
            "\n"
          ],
          "name": "stdout"
        },
        {
          "output_type": "display_data",
          "data": {
            "text/plain": [
              "\"[Verse 1]\\nA couple rebel top gun pilots\\nFlying with nowhere to be\\nDon't know you super well\\nBut I think that you might be the same as me\\nBehave abnormally\\n\\n[Pre-Chorus]\\nLet's let things come out of th\""
            ]
          },
          "metadata": {
            "tags": []
          }
        },
        {
          "output_type": "stream",
          "text": [
            "\n"
          ],
          "name": "stdout"
        },
        {
          "output_type": "display_data",
          "data": {
            "text/plain": [
              "'[Verse 1]\\nWell, summer slipped us underneath her tongue\\nOur days and nights are perfumed with obsession\\nHalf of my wardrobe is on your bedroom floor\\nUse our eyes, throw our hands overboard\\n\\n[Verse 2]\\n'"
            ]
          },
          "metadata": {
            "tags": []
          }
        },
        {
          "output_type": "stream",
          "text": [
            "\n"
          ],
          "name": "stdout"
        },
        {
          "output_type": "display_data",
          "data": {
            "text/plain": [
              "\"[Intro]\\nOne, two\\n\\n[Verse 1]\\nBaby really hurt me, crying in the taxi\\nHe don't wanna know me\\nSays he made the big mistake of dancing in my storm\\nSays it was poison\\nSo I guess I'll go home into the arms \""
            ]
          },
          "metadata": {
            "tags": []
          }
        },
        {
          "output_type": "stream",
          "text": [
            "\n"
          ],
          "name": "stdout"
        },
        {
          "output_type": "display_data",
          "data": {
            "text/plain": [
              "'Hard Feelings\\n\\n(Go back and tell it)\\n\\nPlease could you be tender\\nAnd I will sit close to you\\nLet’s give it a minute before we admit that we’re through\\nGuess this is the winter\\nOur bodies are young and'"
            ]
          },
          "metadata": {
            "tags": []
          }
        },
        {
          "output_type": "stream",
          "text": [
            "\n"
          ],
          "name": "stdout"
        }
      ]
    },
    {
      "cell_type": "code",
      "metadata": {
        "id": "11gvD3L8Uivn",
        "colab_type": "code",
        "outputId": "190d4ca2-c8cc-431c-b952-5ad4e7c6262b",
        "colab": {
          "base_uri": "https://localhost:8080/",
          "height": 176
        }
      },
      "source": [
        "df_lyrics[\"length_raw\"] = [len(x) for x in df_lyrics[\"lyrics_raw\"]]\n",
        "df_lyrics[\"length_raw\"].describe()"
      ],
      "execution_count": 0,
      "outputs": [
        {
          "output_type": "execute_result",
          "data": {
            "text/plain": [
              "count      2504.000000\n",
              "mean      15866.382588\n",
              "std       75783.442891\n",
              "min           3.000000\n",
              "25%         841.500000\n",
              "50%        1324.000000\n",
              "75%        1880.000000\n",
              "max      915665.000000\n",
              "Name: length_raw, dtype: float64"
            ]
          },
          "metadata": {
            "tags": []
          },
          "execution_count": 5
        }
      ]
    },
    {
      "cell_type": "code",
      "metadata": {
        "id": "OBW7KwDkMgwI",
        "colab_type": "code",
        "outputId": "de53f195-020c-493f-8335-3a335c3bf745",
        "colab": {
          "base_uri": "https://localhost:8080/",
          "height": 197
        }
      },
      "source": [
        "df_lyrics = df_lyrics.sort_values(by=['length_raw'])\n",
        "df_lyrics.head(5)"
      ],
      "execution_count": 0,
      "outputs": [
        {
          "output_type": "execute_result",
          "data": {
            "text/html": [
              "<div>\n",
              "<style scoped>\n",
              "    .dataframe tbody tr th:only-of-type {\n",
              "        vertical-align: middle;\n",
              "    }\n",
              "\n",
              "    .dataframe tbody tr th {\n",
              "        vertical-align: top;\n",
              "    }\n",
              "\n",
              "    .dataframe thead th {\n",
              "        text-align: right;\n",
              "    }\n",
              "</style>\n",
              "<table border=\"1\" class=\"dataframe\">\n",
              "  <thead>\n",
              "    <tr style=\"text-align: right;\">\n",
              "      <th></th>\n",
              "      <th>target</th>\n",
              "      <th>artist_names</th>\n",
              "      <th>track_names</th>\n",
              "      <th>lyrics_raw</th>\n",
              "      <th>lyrics_clean</th>\n",
              "      <th>length_raw</th>\n",
              "    </tr>\n",
              "  </thead>\n",
              "  <tbody>\n",
              "    <tr>\n",
              "      <th>2286</th>\n",
              "      <td>0</td>\n",
              "      <td>Graham Rodger</td>\n",
              "      <td>The Old Landcruiser</td>\n",
              "      <td>nan</td>\n",
              "      <td>nan</td>\n",
              "      <td>3</td>\n",
              "    </tr>\n",
              "    <tr>\n",
              "      <th>2253</th>\n",
              "      <td>0</td>\n",
              "      <td>TANIA KERNAGHAN</td>\n",
              "      <td>That's a Tradie</td>\n",
              "      <td>nan</td>\n",
              "      <td>nan</td>\n",
              "      <td>3</td>\n",
              "    </tr>\n",
              "    <tr>\n",
              "      <th>1110</th>\n",
              "      <td>1</td>\n",
              "      <td>Mark Stoermer</td>\n",
              "      <td>Fingerspitzengefühl - R.O Remix</td>\n",
              "      <td>nan</td>\n",
              "      <td>nan</td>\n",
              "      <td>3</td>\n",
              "    </tr>\n",
              "    <tr>\n",
              "      <th>1114</th>\n",
              "      <td>1</td>\n",
              "      <td>FORD MISKIN</td>\n",
              "      <td>Shadows (feat. Samsaruh)</td>\n",
              "      <td>nan</td>\n",
              "      <td>nan</td>\n",
              "      <td>3</td>\n",
              "    </tr>\n",
              "    <tr>\n",
              "      <th>239</th>\n",
              "      <td>1</td>\n",
              "      <td>EDEN</td>\n",
              "      <td>End Credits</td>\n",
              "      <td>nan</td>\n",
              "      <td>nan</td>\n",
              "      <td>3</td>\n",
              "    </tr>\n",
              "  </tbody>\n",
              "</table>\n",
              "</div>"
            ],
            "text/plain": [
              "      target     artist_names  ... lyrics_clean length_raw\n",
              "2286       0    Graham Rodger  ...          nan          3\n",
              "2253       0  TANIA KERNAGHAN  ...          nan          3\n",
              "1110       1    Mark Stoermer  ...          nan          3\n",
              "1114       1      FORD MISKIN  ...          nan          3\n",
              "239        1             EDEN  ...          nan          3\n",
              "\n",
              "[5 rows x 6 columns]"
            ]
          },
          "metadata": {
            "tags": []
          },
          "execution_count": 6
        }
      ]
    },
    {
      "cell_type": "code",
      "metadata": {
        "id": "hknigIwTV3A3",
        "colab_type": "code",
        "outputId": "312006dd-e23d-446f-a0fb-60b811fd5a06",
        "colab": {
          "base_uri": "https://localhost:8080/",
          "height": 34
        }
      },
      "source": [
        "display(len(df_lyrics[df_lyrics[\"lyrics_raw\"]=='nan']))\n",
        "df_lyrics_nan = df_lyrics[df_lyrics[\"lyrics_raw\"]==\"nan\"]"
      ],
      "execution_count": 0,
      "outputs": [
        {
          "output_type": "display_data",
          "data": {
            "text/plain": [
              "245"
            ]
          },
          "metadata": {
            "tags": []
          }
        }
      ]
    },
    {
      "cell_type": "code",
      "metadata": {
        "id": "qDSleR9FNYal",
        "colab_type": "code",
        "outputId": "d3a9586c-332e-42fc-bb23-10c56cca4e62",
        "colab": {
          "base_uri": "https://localhost:8080/",
          "height": 233
        }
      },
      "source": [
        "# drop NaN values\n",
        "display(df_lyrics.shape)\n",
        "df_lyrics = df_lyrics[df_lyrics[\"lyrics_raw\"]!='nan']\n",
        "display(df_lyrics.shape)\n",
        "df_lyrics.head(5)"
      ],
      "execution_count": 0,
      "outputs": [
        {
          "output_type": "display_data",
          "data": {
            "text/plain": [
              "(2504, 6)"
            ]
          },
          "metadata": {
            "tags": []
          }
        },
        {
          "output_type": "display_data",
          "data": {
            "text/plain": [
              "(2259, 6)"
            ]
          },
          "metadata": {
            "tags": []
          }
        },
        {
          "output_type": "execute_result",
          "data": {
            "text/html": [
              "<div>\n",
              "<style scoped>\n",
              "    .dataframe tbody tr th:only-of-type {\n",
              "        vertical-align: middle;\n",
              "    }\n",
              "\n",
              "    .dataframe tbody tr th {\n",
              "        vertical-align: top;\n",
              "    }\n",
              "\n",
              "    .dataframe thead th {\n",
              "        text-align: right;\n",
              "    }\n",
              "</style>\n",
              "<table border=\"1\" class=\"dataframe\">\n",
              "  <thead>\n",
              "    <tr style=\"text-align: right;\">\n",
              "      <th></th>\n",
              "      <th>target</th>\n",
              "      <th>artist_names</th>\n",
              "      <th>track_names</th>\n",
              "      <th>lyrics_raw</th>\n",
              "      <th>lyrics_clean</th>\n",
              "      <th>length_raw</th>\n",
              "    </tr>\n",
              "  </thead>\n",
              "  <tbody>\n",
              "    <tr>\n",
              "      <th>998</th>\n",
              "      <td>1</td>\n",
              "      <td>Yoe Mase</td>\n",
              "      <td>Outside the City Walls</td>\n",
              "      <td>[Instrumental]</td>\n",
              "      <td>[Instrumental]</td>\n",
              "      <td>14</td>\n",
              "    </tr>\n",
              "    <tr>\n",
              "      <th>986</th>\n",
              "      <td>1</td>\n",
              "      <td>Draper</td>\n",
              "      <td>Joyride</td>\n",
              "      <td>[Instrumental]</td>\n",
              "      <td>[Instrumental]</td>\n",
              "      <td>14</td>\n",
              "    </tr>\n",
              "    <tr>\n",
              "      <th>1760</th>\n",
              "      <td>1</td>\n",
              "      <td>Petit Biscuit</td>\n",
              "      <td>Memories</td>\n",
              "      <td>[Instrumental]</td>\n",
              "      <td>[Instrumental]</td>\n",
              "      <td>14</td>\n",
              "    </tr>\n",
              "    <tr>\n",
              "      <th>1767</th>\n",
              "      <td>1</td>\n",
              "      <td>Kodak To Graph</td>\n",
              "      <td>Desolation Wilderness</td>\n",
              "      <td>[Instrumental]</td>\n",
              "      <td>[Instrumental]</td>\n",
              "      <td>14</td>\n",
              "    </tr>\n",
              "    <tr>\n",
              "      <th>1417</th>\n",
              "      <td>1</td>\n",
              "      <td>Tritonal</td>\n",
              "      <td>Only Mortal</td>\n",
              "      <td>[Instrumental]</td>\n",
              "      <td>[Instrumental]</td>\n",
              "      <td>14</td>\n",
              "    </tr>\n",
              "  </tbody>\n",
              "</table>\n",
              "</div>"
            ],
            "text/plain": [
              "      target    artist_names  ...    lyrics_clean length_raw\n",
              "998        1        Yoe Mase  ...  [Instrumental]         14\n",
              "986        1          Draper  ...  [Instrumental]         14\n",
              "1760       1   Petit Biscuit  ...  [Instrumental]         14\n",
              "1767       1  Kodak To Graph  ...  [Instrumental]         14\n",
              "1417       1        Tritonal  ...  [Instrumental]         14\n",
              "\n",
              "[5 rows x 6 columns]"
            ]
          },
          "metadata": {
            "tags": []
          },
          "execution_count": 8
        }
      ]
    },
    {
      "cell_type": "code",
      "metadata": {
        "id": "QOp6nn--NwEN",
        "colab_type": "code",
        "outputId": "3d3d13e9-ee5b-4e0f-8482-9141b4fecdeb",
        "colab": {
          "base_uri": "https://localhost:8080/",
          "height": 34
        }
      },
      "source": [
        "df_lyrics_instrumental = df_lyrics[df_lyrics[\"length_raw\"]==14]\n",
        "df_lyrics_instrumental.shape"
      ],
      "execution_count": 0,
      "outputs": [
        {
          "output_type": "execute_result",
          "data": {
            "text/plain": [
              "(54, 6)"
            ]
          },
          "metadata": {
            "tags": []
          },
          "execution_count": 9
        }
      ]
    },
    {
      "cell_type": "code",
      "metadata": {
        "id": "_PBLRHMeN4KM",
        "colab_type": "code",
        "outputId": "0c589779-f1f9-4e3c-96ab-c9e1c42eaf14",
        "colab": {
          "base_uri": "https://localhost:8080/",
          "height": 383
        }
      },
      "source": [
        "# drop instrumentals\n",
        "display(df_lyrics.shape)\n",
        "df_lyrics = df_lyrics[df_lyrics[\"length_raw\"]>14]\n",
        "display(df_lyrics.shape)\n",
        "df_lyrics.head(10)"
      ],
      "execution_count": 0,
      "outputs": [
        {
          "output_type": "display_data",
          "data": {
            "text/plain": [
              "(2259, 6)"
            ]
          },
          "metadata": {
            "tags": []
          }
        },
        {
          "output_type": "display_data",
          "data": {
            "text/plain": [
              "(2205, 6)"
            ]
          },
          "metadata": {
            "tags": []
          }
        },
        {
          "output_type": "execute_result",
          "data": {
            "text/html": [
              "<div>\n",
              "<style scoped>\n",
              "    .dataframe tbody tr th:only-of-type {\n",
              "        vertical-align: middle;\n",
              "    }\n",
              "\n",
              "    .dataframe tbody tr th {\n",
              "        vertical-align: top;\n",
              "    }\n",
              "\n",
              "    .dataframe thead th {\n",
              "        text-align: right;\n",
              "    }\n",
              "</style>\n",
              "<table border=\"1\" class=\"dataframe\">\n",
              "  <thead>\n",
              "    <tr style=\"text-align: right;\">\n",
              "      <th></th>\n",
              "      <th>target</th>\n",
              "      <th>artist_names</th>\n",
              "      <th>track_names</th>\n",
              "      <th>lyrics_raw</th>\n",
              "      <th>lyrics_clean</th>\n",
              "      <th>length_raw</th>\n",
              "    </tr>\n",
              "  </thead>\n",
              "  <tbody>\n",
              "    <tr>\n",
              "      <th>2353</th>\n",
              "      <td>0</td>\n",
              "      <td>Caitlyn Shadbolt</td>\n",
              "      <td>My Breakup Anthem</td>\n",
              "      <td>*Lyrics will be added shortly</td>\n",
              "      <td>*Lyrics will be added shortly</td>\n",
              "      <td>29</td>\n",
              "    </tr>\n",
              "    <tr>\n",
              "      <th>2321</th>\n",
              "      <td>0</td>\n",
              "      <td>Caitlyn Shadbolt</td>\n",
              "      <td>Jealousy</td>\n",
              "      <td>*Lyrics will be added shortly</td>\n",
              "      <td>*Lyrics will be added shortly</td>\n",
              "      <td>29</td>\n",
              "    </tr>\n",
              "    <tr>\n",
              "      <th>1686</th>\n",
              "      <td>1</td>\n",
              "      <td>Etherwood</td>\n",
              "      <td>Cast Away</td>\n",
              "      <td>[Instrumental produced by Etherwood]</td>\n",
              "      <td>[Instrumental produced by Etherwood]</td>\n",
              "      <td>36</td>\n",
              "    </tr>\n",
              "    <tr>\n",
              "      <th>313</th>\n",
              "      <td>1</td>\n",
              "      <td>Cash Cash</td>\n",
              "      <td>Aftershock (feat. Jacquie)</td>\n",
              "      <td>Track 2 from the 2017 album THETA by thesourwa...</td>\n",
              "      <td>Track 2 from the 2017 album THETA by thesourwa...</td>\n",
              "      <td>51</td>\n",
              "    </tr>\n",
              "    <tr>\n",
              "      <th>1156</th>\n",
              "      <td>1</td>\n",
              "      <td>Shallou</td>\n",
              "      <td>Truth</td>\n",
              "      <td>All that I could do\\nIt's over now\\n\\nAll that...</td>\n",
              "      <td>All that I could do\\nIt's over now\\n\\nAll that...</td>\n",
              "      <td>71</td>\n",
              "    </tr>\n",
              "    <tr>\n",
              "      <th>1281</th>\n",
              "      <td>1</td>\n",
              "      <td>Shallou</td>\n",
              "      <td>Truth</td>\n",
              "      <td>All that I could do\\nIt's over now\\n\\nAll that...</td>\n",
              "      <td>All that I could do\\nIt's over now\\n\\nAll that...</td>\n",
              "      <td>71</td>\n",
              "    </tr>\n",
              "    <tr>\n",
              "      <th>1992</th>\n",
              "      <td>0</td>\n",
              "      <td>Jim Lauderdale</td>\n",
              "      <td>Mighty Lonesome</td>\n",
              "      <td>After Submit Lyrics, Your name will be printed...</td>\n",
              "      <td>After Submit Lyrics, Your name will be printed...</td>\n",
              "      <td>96</td>\n",
              "    </tr>\n",
              "    <tr>\n",
              "      <th>1059</th>\n",
              "      <td>1</td>\n",
              "      <td>killedmyself</td>\n",
              "      <td>don't worry about me</td>\n",
              "      <td>Throw it down\\nLook away\\nDon't be scared, it'...</td>\n",
              "      <td>Throw it down\\nLook away\\nDon't be scared, it'...</td>\n",
              "      <td>118</td>\n",
              "    </tr>\n",
              "    <tr>\n",
              "      <th>1021</th>\n",
              "      <td>1</td>\n",
              "      <td>killedmyself</td>\n",
              "      <td>don't worry about me</td>\n",
              "      <td>Throw it down\\nLook away\\nDon't be scared, it'...</td>\n",
              "      <td>Throw it down\\nLook away\\nDon't be scared, it'...</td>\n",
              "      <td>118</td>\n",
              "    </tr>\n",
              "    <tr>\n",
              "      <th>1184</th>\n",
              "      <td>1</td>\n",
              "      <td>killedmyself</td>\n",
              "      <td>don't worry about me</td>\n",
              "      <td>Throw it down\\nLook away\\nDon't be scared, it'...</td>\n",
              "      <td>Throw it down\\nLook away\\nDon't be scared, it'...</td>\n",
              "      <td>118</td>\n",
              "    </tr>\n",
              "  </tbody>\n",
              "</table>\n",
              "</div>"
            ],
            "text/plain": [
              "      target  ... length_raw\n",
              "2353       0  ...         29\n",
              "2321       0  ...         29\n",
              "1686       1  ...         36\n",
              "313        1  ...         51\n",
              "1156       1  ...         71\n",
              "1281       1  ...         71\n",
              "1992       0  ...         96\n",
              "1059       1  ...        118\n",
              "1021       1  ...        118\n",
              "1184       1  ...        118\n",
              "\n",
              "[10 rows x 6 columns]"
            ]
          },
          "metadata": {
            "tags": []
          },
          "execution_count": 10
        }
      ]
    },
    {
      "cell_type": "code",
      "metadata": {
        "id": "6gAuoGojS6eo",
        "colab_type": "code",
        "outputId": "a6d92aa9-78fd-4bcf-fafd-d273a8ebadf0",
        "colab": {
          "base_uri": "https://localhost:8080/",
          "height": 383
        }
      },
      "source": [
        "# drop duplicates\n",
        "display(df_lyrics.shape)\n",
        "df_lyrics = df_lyrics.drop_duplicates()\n",
        "display(df_lyrics.shape)\n",
        "df_lyrics.head(10)"
      ],
      "execution_count": 0,
      "outputs": [
        {
          "output_type": "display_data",
          "data": {
            "text/plain": [
              "(2205, 6)"
            ]
          },
          "metadata": {
            "tags": []
          }
        },
        {
          "output_type": "display_data",
          "data": {
            "text/plain": [
              "(1895, 6)"
            ]
          },
          "metadata": {
            "tags": []
          }
        },
        {
          "output_type": "execute_result",
          "data": {
            "text/html": [
              "<div>\n",
              "<style scoped>\n",
              "    .dataframe tbody tr th:only-of-type {\n",
              "        vertical-align: middle;\n",
              "    }\n",
              "\n",
              "    .dataframe tbody tr th {\n",
              "        vertical-align: top;\n",
              "    }\n",
              "\n",
              "    .dataframe thead th {\n",
              "        text-align: right;\n",
              "    }\n",
              "</style>\n",
              "<table border=\"1\" class=\"dataframe\">\n",
              "  <thead>\n",
              "    <tr style=\"text-align: right;\">\n",
              "      <th></th>\n",
              "      <th>target</th>\n",
              "      <th>artist_names</th>\n",
              "      <th>track_names</th>\n",
              "      <th>lyrics_raw</th>\n",
              "      <th>lyrics_clean</th>\n",
              "      <th>length_raw</th>\n",
              "    </tr>\n",
              "  </thead>\n",
              "  <tbody>\n",
              "    <tr>\n",
              "      <th>2353</th>\n",
              "      <td>0</td>\n",
              "      <td>Caitlyn Shadbolt</td>\n",
              "      <td>My Breakup Anthem</td>\n",
              "      <td>*Lyrics will be added shortly</td>\n",
              "      <td>*Lyrics will be added shortly</td>\n",
              "      <td>29</td>\n",
              "    </tr>\n",
              "    <tr>\n",
              "      <th>2321</th>\n",
              "      <td>0</td>\n",
              "      <td>Caitlyn Shadbolt</td>\n",
              "      <td>Jealousy</td>\n",
              "      <td>*Lyrics will be added shortly</td>\n",
              "      <td>*Lyrics will be added shortly</td>\n",
              "      <td>29</td>\n",
              "    </tr>\n",
              "    <tr>\n",
              "      <th>1686</th>\n",
              "      <td>1</td>\n",
              "      <td>Etherwood</td>\n",
              "      <td>Cast Away</td>\n",
              "      <td>[Instrumental produced by Etherwood]</td>\n",
              "      <td>[Instrumental produced by Etherwood]</td>\n",
              "      <td>36</td>\n",
              "    </tr>\n",
              "    <tr>\n",
              "      <th>313</th>\n",
              "      <td>1</td>\n",
              "      <td>Cash Cash</td>\n",
              "      <td>Aftershock (feat. Jacquie)</td>\n",
              "      <td>Track 2 from the 2017 album THETA by thesourwa...</td>\n",
              "      <td>Track 2 from the 2017 album THETA by thesourwa...</td>\n",
              "      <td>51</td>\n",
              "    </tr>\n",
              "    <tr>\n",
              "      <th>1156</th>\n",
              "      <td>1</td>\n",
              "      <td>Shallou</td>\n",
              "      <td>Truth</td>\n",
              "      <td>All that I could do\\nIt's over now\\n\\nAll that...</td>\n",
              "      <td>All that I could do\\nIt's over now\\n\\nAll that...</td>\n",
              "      <td>71</td>\n",
              "    </tr>\n",
              "    <tr>\n",
              "      <th>1992</th>\n",
              "      <td>0</td>\n",
              "      <td>Jim Lauderdale</td>\n",
              "      <td>Mighty Lonesome</td>\n",
              "      <td>After Submit Lyrics, Your name will be printed...</td>\n",
              "      <td>After Submit Lyrics, Your name will be printed...</td>\n",
              "      <td>96</td>\n",
              "    </tr>\n",
              "    <tr>\n",
              "      <th>1059</th>\n",
              "      <td>1</td>\n",
              "      <td>killedmyself</td>\n",
              "      <td>don't worry about me</td>\n",
              "      <td>Throw it down\\nLook away\\nDon't be scared, it'...</td>\n",
              "      <td>Throw it down\\nLook away\\nDon't be scared, it'...</td>\n",
              "      <td>118</td>\n",
              "    </tr>\n",
              "    <tr>\n",
              "      <th>1535</th>\n",
              "      <td>1</td>\n",
              "      <td>DROELOE</td>\n",
              "      <td>zZz</td>\n",
              "      <td>[Verse]\\nI know, I\\nIs like a lullaby\\nThis I ...</td>\n",
              "      <td>[Verse]\\nI know, I\\nIs like a lullaby\\nThis I ...</td>\n",
              "      <td>118</td>\n",
              "    </tr>\n",
              "    <tr>\n",
              "      <th>1317</th>\n",
              "      <td>1</td>\n",
              "      <td>Dabin</td>\n",
              "      <td>Sanctuary (feat. Mree)</td>\n",
              "      <td>Wait for me\\nBecause I want to be\\nWhere you a...</td>\n",
              "      <td>Wait for me\\nBecause I want to be\\nWhere you a...</td>\n",
              "      <td>124</td>\n",
              "    </tr>\n",
              "    <tr>\n",
              "      <th>2031</th>\n",
              "      <td>0</td>\n",
              "      <td>Julie Miller</td>\n",
              "      <td>All My Tears</td>\n",
              "      <td>When I go don't cry for me\\nIn my fathers arms...</td>\n",
              "      <td>When I go don't cry for me\\nIn my fathers arms...</td>\n",
              "      <td>128</td>\n",
              "    </tr>\n",
              "  </tbody>\n",
              "</table>\n",
              "</div>"
            ],
            "text/plain": [
              "      target  ... length_raw\n",
              "2353       0  ...         29\n",
              "2321       0  ...         29\n",
              "1686       1  ...         36\n",
              "313        1  ...         51\n",
              "1156       1  ...         71\n",
              "1992       0  ...         96\n",
              "1059       1  ...        118\n",
              "1535       1  ...        118\n",
              "1317       1  ...        124\n",
              "2031       0  ...        128\n",
              "\n",
              "[10 rows x 6 columns]"
            ]
          },
          "metadata": {
            "tags": []
          },
          "execution_count": 11
        }
      ]
    },
    {
      "cell_type": "code",
      "metadata": {
        "id": "8zosJb_gO8HE",
        "colab_type": "code",
        "outputId": "db46b3f2-d24b-4b5f-8a70-a4aebe6673b5",
        "colab": {
          "base_uri": "https://localhost:8080/",
          "height": 347
        }
      },
      "source": [
        "df_lyrics[df_lyrics[\"length_raw\"]==29]\n",
        "df_lyrics_nan.append(df_lyrics[df_lyrics[\"length_raw\"]==29])\n",
        "df_lyrics = df_lyrics.drop(df_lyrics[df_lyrics[\"length_raw\"]==29].index.values)\n",
        "df_lyrics.head(10)"
      ],
      "execution_count": 0,
      "outputs": [
        {
          "output_type": "execute_result",
          "data": {
            "text/html": [
              "<div>\n",
              "<style scoped>\n",
              "    .dataframe tbody tr th:only-of-type {\n",
              "        vertical-align: middle;\n",
              "    }\n",
              "\n",
              "    .dataframe tbody tr th {\n",
              "        vertical-align: top;\n",
              "    }\n",
              "\n",
              "    .dataframe thead th {\n",
              "        text-align: right;\n",
              "    }\n",
              "</style>\n",
              "<table border=\"1\" class=\"dataframe\">\n",
              "  <thead>\n",
              "    <tr style=\"text-align: right;\">\n",
              "      <th></th>\n",
              "      <th>target</th>\n",
              "      <th>artist_names</th>\n",
              "      <th>track_names</th>\n",
              "      <th>lyrics_raw</th>\n",
              "      <th>lyrics_clean</th>\n",
              "      <th>length_raw</th>\n",
              "    </tr>\n",
              "  </thead>\n",
              "  <tbody>\n",
              "    <tr>\n",
              "      <th>1686</th>\n",
              "      <td>1</td>\n",
              "      <td>Etherwood</td>\n",
              "      <td>Cast Away</td>\n",
              "      <td>[Instrumental produced by Etherwood]</td>\n",
              "      <td>[Instrumental produced by Etherwood]</td>\n",
              "      <td>36</td>\n",
              "    </tr>\n",
              "    <tr>\n",
              "      <th>313</th>\n",
              "      <td>1</td>\n",
              "      <td>Cash Cash</td>\n",
              "      <td>Aftershock (feat. Jacquie)</td>\n",
              "      <td>Track 2 from the 2017 album THETA by thesourwa...</td>\n",
              "      <td>Track 2 from the 2017 album THETA by thesourwa...</td>\n",
              "      <td>51</td>\n",
              "    </tr>\n",
              "    <tr>\n",
              "      <th>1156</th>\n",
              "      <td>1</td>\n",
              "      <td>Shallou</td>\n",
              "      <td>Truth</td>\n",
              "      <td>All that I could do\\nIt's over now\\n\\nAll that...</td>\n",
              "      <td>All that I could do\\nIt's over now\\n\\nAll that...</td>\n",
              "      <td>71</td>\n",
              "    </tr>\n",
              "    <tr>\n",
              "      <th>1992</th>\n",
              "      <td>0</td>\n",
              "      <td>Jim Lauderdale</td>\n",
              "      <td>Mighty Lonesome</td>\n",
              "      <td>After Submit Lyrics, Your name will be printed...</td>\n",
              "      <td>After Submit Lyrics, Your name will be printed...</td>\n",
              "      <td>96</td>\n",
              "    </tr>\n",
              "    <tr>\n",
              "      <th>1059</th>\n",
              "      <td>1</td>\n",
              "      <td>killedmyself</td>\n",
              "      <td>don't worry about me</td>\n",
              "      <td>Throw it down\\nLook away\\nDon't be scared, it'...</td>\n",
              "      <td>Throw it down\\nLook away\\nDon't be scared, it'...</td>\n",
              "      <td>118</td>\n",
              "    </tr>\n",
              "    <tr>\n",
              "      <th>1535</th>\n",
              "      <td>1</td>\n",
              "      <td>DROELOE</td>\n",
              "      <td>zZz</td>\n",
              "      <td>[Verse]\\nI know, I\\nIs like a lullaby\\nThis I ...</td>\n",
              "      <td>[Verse]\\nI know, I\\nIs like a lullaby\\nThis I ...</td>\n",
              "      <td>118</td>\n",
              "    </tr>\n",
              "    <tr>\n",
              "      <th>1317</th>\n",
              "      <td>1</td>\n",
              "      <td>Dabin</td>\n",
              "      <td>Sanctuary (feat. Mree)</td>\n",
              "      <td>Wait for me\\nBecause I want to be\\nWhere you a...</td>\n",
              "      <td>Wait for me\\nBecause I want to be\\nWhere you a...</td>\n",
              "      <td>124</td>\n",
              "    </tr>\n",
              "    <tr>\n",
              "      <th>2031</th>\n",
              "      <td>0</td>\n",
              "      <td>Julie Miller</td>\n",
              "      <td>All My Tears</td>\n",
              "      <td>When I go don't cry for me\\nIn my fathers arms...</td>\n",
              "      <td>When I go don't cry for me\\nIn my fathers arms...</td>\n",
              "      <td>128</td>\n",
              "    </tr>\n",
              "    <tr>\n",
              "      <th>1874</th>\n",
              "      <td>0</td>\n",
              "      <td>Dexateens</td>\n",
              "      <td>Naked Ground</td>\n",
              "      <td>\\n            Lyrics for this song h...</td>\n",
              "      <td>\\n            Lyrics for this song h...</td>\n",
              "      <td>139</td>\n",
              "    </tr>\n",
              "    <tr>\n",
              "      <th>807</th>\n",
              "      <td>1</td>\n",
              "      <td>Jdam</td>\n",
              "      <td>My Ex</td>\n",
              "      <td>\\n            Lyrics for this song h...</td>\n",
              "      <td>\\n            Lyrics for this song h...</td>\n",
              "      <td>139</td>\n",
              "    </tr>\n",
              "  </tbody>\n",
              "</table>\n",
              "</div>"
            ],
            "text/plain": [
              "      target  ... length_raw\n",
              "1686       1  ...         36\n",
              "313        1  ...         51\n",
              "1156       1  ...         71\n",
              "1992       0  ...         96\n",
              "1059       1  ...        118\n",
              "1535       1  ...        118\n",
              "1317       1  ...        124\n",
              "2031       0  ...        128\n",
              "1874       0  ...        139\n",
              "807        1  ...        139\n",
              "\n",
              "[10 rows x 6 columns]"
            ]
          },
          "metadata": {
            "tags": []
          },
          "execution_count": 12
        }
      ]
    },
    {
      "cell_type": "code",
      "metadata": {
        "id": "xJBxZWjabtDE",
        "colab_type": "code",
        "outputId": "394da931-59dc-47d9-f516-4ee93f0152bf",
        "colab": {
          "base_uri": "https://localhost:8080/",
          "height": 347
        }
      },
      "source": [
        "df_lyrics[df_lyrics[\"length_raw\"]==36]\n",
        "df_lyrics_instrumental.append(df_lyrics[df_lyrics[\"length_raw\"]==36])\n",
        "df_lyrics = df_lyrics.drop(df_lyrics[df_lyrics[\"length_raw\"]==36].index.values)\n",
        "df_lyrics.head(10)"
      ],
      "execution_count": 0,
      "outputs": [
        {
          "output_type": "execute_result",
          "data": {
            "text/html": [
              "<div>\n",
              "<style scoped>\n",
              "    .dataframe tbody tr th:only-of-type {\n",
              "        vertical-align: middle;\n",
              "    }\n",
              "\n",
              "    .dataframe tbody tr th {\n",
              "        vertical-align: top;\n",
              "    }\n",
              "\n",
              "    .dataframe thead th {\n",
              "        text-align: right;\n",
              "    }\n",
              "</style>\n",
              "<table border=\"1\" class=\"dataframe\">\n",
              "  <thead>\n",
              "    <tr style=\"text-align: right;\">\n",
              "      <th></th>\n",
              "      <th>target</th>\n",
              "      <th>artist_names</th>\n",
              "      <th>track_names</th>\n",
              "      <th>lyrics_raw</th>\n",
              "      <th>lyrics_clean</th>\n",
              "      <th>length_raw</th>\n",
              "    </tr>\n",
              "  </thead>\n",
              "  <tbody>\n",
              "    <tr>\n",
              "      <th>313</th>\n",
              "      <td>1</td>\n",
              "      <td>Cash Cash</td>\n",
              "      <td>Aftershock (feat. Jacquie)</td>\n",
              "      <td>Track 2 from the 2017 album THETA by thesourwa...</td>\n",
              "      <td>Track 2 from the 2017 album THETA by thesourwa...</td>\n",
              "      <td>51</td>\n",
              "    </tr>\n",
              "    <tr>\n",
              "      <th>1156</th>\n",
              "      <td>1</td>\n",
              "      <td>Shallou</td>\n",
              "      <td>Truth</td>\n",
              "      <td>All that I could do\\nIt's over now\\n\\nAll that...</td>\n",
              "      <td>All that I could do\\nIt's over now\\n\\nAll that...</td>\n",
              "      <td>71</td>\n",
              "    </tr>\n",
              "    <tr>\n",
              "      <th>1992</th>\n",
              "      <td>0</td>\n",
              "      <td>Jim Lauderdale</td>\n",
              "      <td>Mighty Lonesome</td>\n",
              "      <td>After Submit Lyrics, Your name will be printed...</td>\n",
              "      <td>After Submit Lyrics, Your name will be printed...</td>\n",
              "      <td>96</td>\n",
              "    </tr>\n",
              "    <tr>\n",
              "      <th>1059</th>\n",
              "      <td>1</td>\n",
              "      <td>killedmyself</td>\n",
              "      <td>don't worry about me</td>\n",
              "      <td>Throw it down\\nLook away\\nDon't be scared, it'...</td>\n",
              "      <td>Throw it down\\nLook away\\nDon't be scared, it'...</td>\n",
              "      <td>118</td>\n",
              "    </tr>\n",
              "    <tr>\n",
              "      <th>1535</th>\n",
              "      <td>1</td>\n",
              "      <td>DROELOE</td>\n",
              "      <td>zZz</td>\n",
              "      <td>[Verse]\\nI know, I\\nIs like a lullaby\\nThis I ...</td>\n",
              "      <td>[Verse]\\nI know, I\\nIs like a lullaby\\nThis I ...</td>\n",
              "      <td>118</td>\n",
              "    </tr>\n",
              "    <tr>\n",
              "      <th>1317</th>\n",
              "      <td>1</td>\n",
              "      <td>Dabin</td>\n",
              "      <td>Sanctuary (feat. Mree)</td>\n",
              "      <td>Wait for me\\nBecause I want to be\\nWhere you a...</td>\n",
              "      <td>Wait for me\\nBecause I want to be\\nWhere you a...</td>\n",
              "      <td>124</td>\n",
              "    </tr>\n",
              "    <tr>\n",
              "      <th>2031</th>\n",
              "      <td>0</td>\n",
              "      <td>Julie Miller</td>\n",
              "      <td>All My Tears</td>\n",
              "      <td>When I go don't cry for me\\nIn my fathers arms...</td>\n",
              "      <td>When I go don't cry for me\\nIn my fathers arms...</td>\n",
              "      <td>128</td>\n",
              "    </tr>\n",
              "    <tr>\n",
              "      <th>1874</th>\n",
              "      <td>0</td>\n",
              "      <td>Dexateens</td>\n",
              "      <td>Naked Ground</td>\n",
              "      <td>\\n            Lyrics for this song h...</td>\n",
              "      <td>\\n            Lyrics for this song h...</td>\n",
              "      <td>139</td>\n",
              "    </tr>\n",
              "    <tr>\n",
              "      <th>807</th>\n",
              "      <td>1</td>\n",
              "      <td>Jdam</td>\n",
              "      <td>My Ex</td>\n",
              "      <td>\\n            Lyrics for this song h...</td>\n",
              "      <td>\\n            Lyrics for this song h...</td>\n",
              "      <td>139</td>\n",
              "    </tr>\n",
              "    <tr>\n",
              "      <th>961</th>\n",
              "      <td>1</td>\n",
              "      <td>Oliver Tank</td>\n",
              "      <td>Different Speed (feat. Ta-ku)</td>\n",
              "      <td>Slow down world you move too fast for me\\nI dr...</td>\n",
              "      <td>Slow down world you move too fast for me\\nI dr...</td>\n",
              "      <td>150</td>\n",
              "    </tr>\n",
              "  </tbody>\n",
              "</table>\n",
              "</div>"
            ],
            "text/plain": [
              "      target  ... length_raw\n",
              "313        1  ...         51\n",
              "1156       1  ...         71\n",
              "1992       0  ...         96\n",
              "1059       1  ...        118\n",
              "1535       1  ...        118\n",
              "1317       1  ...        124\n",
              "2031       0  ...        128\n",
              "1874       0  ...        139\n",
              "807        1  ...        139\n",
              "961        1  ...        150\n",
              "\n",
              "[10 rows x 6 columns]"
            ]
          },
          "metadata": {
            "tags": []
          },
          "execution_count": 13
        }
      ]
    },
    {
      "cell_type": "code",
      "metadata": {
        "id": "vONtXE2Cb71k",
        "colab_type": "code",
        "outputId": "3e27ebbe-3377-4047-fb97-010f471e7e94",
        "colab": {
          "base_uri": "https://localhost:8080/",
          "height": 347
        }
      },
      "source": [
        "df_lyrics[df_lyrics[\"length_raw\"]==51]\n",
        "df_lyrics_nan.append(df_lyrics[df_lyrics[\"length_raw\"]==51])\n",
        "df_lyrics = df_lyrics.drop(df_lyrics[df_lyrics[\"length_raw\"]==51].index.values)\n",
        "df_lyrics.head(10)"
      ],
      "execution_count": 0,
      "outputs": [
        {
          "output_type": "execute_result",
          "data": {
            "text/html": [
              "<div>\n",
              "<style scoped>\n",
              "    .dataframe tbody tr th:only-of-type {\n",
              "        vertical-align: middle;\n",
              "    }\n",
              "\n",
              "    .dataframe tbody tr th {\n",
              "        vertical-align: top;\n",
              "    }\n",
              "\n",
              "    .dataframe thead th {\n",
              "        text-align: right;\n",
              "    }\n",
              "</style>\n",
              "<table border=\"1\" class=\"dataframe\">\n",
              "  <thead>\n",
              "    <tr style=\"text-align: right;\">\n",
              "      <th></th>\n",
              "      <th>target</th>\n",
              "      <th>artist_names</th>\n",
              "      <th>track_names</th>\n",
              "      <th>lyrics_raw</th>\n",
              "      <th>lyrics_clean</th>\n",
              "      <th>length_raw</th>\n",
              "    </tr>\n",
              "  </thead>\n",
              "  <tbody>\n",
              "    <tr>\n",
              "      <th>1156</th>\n",
              "      <td>1</td>\n",
              "      <td>Shallou</td>\n",
              "      <td>Truth</td>\n",
              "      <td>All that I could do\\nIt's over now\\n\\nAll that...</td>\n",
              "      <td>All that I could do\\nIt's over now\\n\\nAll that...</td>\n",
              "      <td>71</td>\n",
              "    </tr>\n",
              "    <tr>\n",
              "      <th>1992</th>\n",
              "      <td>0</td>\n",
              "      <td>Jim Lauderdale</td>\n",
              "      <td>Mighty Lonesome</td>\n",
              "      <td>After Submit Lyrics, Your name will be printed...</td>\n",
              "      <td>After Submit Lyrics, Your name will be printed...</td>\n",
              "      <td>96</td>\n",
              "    </tr>\n",
              "    <tr>\n",
              "      <th>1059</th>\n",
              "      <td>1</td>\n",
              "      <td>killedmyself</td>\n",
              "      <td>don't worry about me</td>\n",
              "      <td>Throw it down\\nLook away\\nDon't be scared, it'...</td>\n",
              "      <td>Throw it down\\nLook away\\nDon't be scared, it'...</td>\n",
              "      <td>118</td>\n",
              "    </tr>\n",
              "    <tr>\n",
              "      <th>1535</th>\n",
              "      <td>1</td>\n",
              "      <td>DROELOE</td>\n",
              "      <td>zZz</td>\n",
              "      <td>[Verse]\\nI know, I\\nIs like a lullaby\\nThis I ...</td>\n",
              "      <td>[Verse]\\nI know, I\\nIs like a lullaby\\nThis I ...</td>\n",
              "      <td>118</td>\n",
              "    </tr>\n",
              "    <tr>\n",
              "      <th>1317</th>\n",
              "      <td>1</td>\n",
              "      <td>Dabin</td>\n",
              "      <td>Sanctuary (feat. Mree)</td>\n",
              "      <td>Wait for me\\nBecause I want to be\\nWhere you a...</td>\n",
              "      <td>Wait for me\\nBecause I want to be\\nWhere you a...</td>\n",
              "      <td>124</td>\n",
              "    </tr>\n",
              "    <tr>\n",
              "      <th>2031</th>\n",
              "      <td>0</td>\n",
              "      <td>Julie Miller</td>\n",
              "      <td>All My Tears</td>\n",
              "      <td>When I go don't cry for me\\nIn my fathers arms...</td>\n",
              "      <td>When I go don't cry for me\\nIn my fathers arms...</td>\n",
              "      <td>128</td>\n",
              "    </tr>\n",
              "    <tr>\n",
              "      <th>1874</th>\n",
              "      <td>0</td>\n",
              "      <td>Dexateens</td>\n",
              "      <td>Naked Ground</td>\n",
              "      <td>\\n            Lyrics for this song h...</td>\n",
              "      <td>\\n            Lyrics for this song h...</td>\n",
              "      <td>139</td>\n",
              "    </tr>\n",
              "    <tr>\n",
              "      <th>807</th>\n",
              "      <td>1</td>\n",
              "      <td>Jdam</td>\n",
              "      <td>My Ex</td>\n",
              "      <td>\\n            Lyrics for this song h...</td>\n",
              "      <td>\\n            Lyrics for this song h...</td>\n",
              "      <td>139</td>\n",
              "    </tr>\n",
              "    <tr>\n",
              "      <th>961</th>\n",
              "      <td>1</td>\n",
              "      <td>Oliver Tank</td>\n",
              "      <td>Different Speed (feat. Ta-ku)</td>\n",
              "      <td>Slow down world you move too fast for me\\nI dr...</td>\n",
              "      <td>Slow down world you move too fast for me\\nI dr...</td>\n",
              "      <td>150</td>\n",
              "    </tr>\n",
              "    <tr>\n",
              "      <th>1186</th>\n",
              "      <td>1</td>\n",
              "      <td>What So Not</td>\n",
              "      <td>Better</td>\n",
              "      <td>Keeps on getting better!\\nYum!\\nKeeps on getti...</td>\n",
              "      <td>Keeps on getting better!\\nYum!\\nKeeps on getti...</td>\n",
              "      <td>169</td>\n",
              "    </tr>\n",
              "  </tbody>\n",
              "</table>\n",
              "</div>"
            ],
            "text/plain": [
              "      target  ... length_raw\n",
              "1156       1  ...         71\n",
              "1992       0  ...         96\n",
              "1059       1  ...        118\n",
              "1535       1  ...        118\n",
              "1317       1  ...        124\n",
              "2031       0  ...        128\n",
              "1874       0  ...        139\n",
              "807        1  ...        139\n",
              "961        1  ...        150\n",
              "1186       1  ...        169\n",
              "\n",
              "[10 rows x 6 columns]"
            ]
          },
          "metadata": {
            "tags": []
          },
          "execution_count": 14
        }
      ]
    },
    {
      "cell_type": "code",
      "metadata": {
        "id": "jhI5t_s_SKek",
        "colab_type": "code",
        "outputId": "3172e97c-1881-45ec-a017-0538024ad51b",
        "colab": {
          "base_uri": "https://localhost:8080/",
          "height": 347
        }
      },
      "source": [
        "df_lyrics[df_lyrics[\"length_raw\"]==96]\n",
        "df_lyrics_nan.append(df_lyrics[df_lyrics[\"length_raw\"]==96])\n",
        "df_lyrics = df_lyrics.drop(df_lyrics[df_lyrics[\"length_raw\"]==96].index.values)\n",
        "df_lyrics.head(10)"
      ],
      "execution_count": 0,
      "outputs": [
        {
          "output_type": "execute_result",
          "data": {
            "text/html": [
              "<div>\n",
              "<style scoped>\n",
              "    .dataframe tbody tr th:only-of-type {\n",
              "        vertical-align: middle;\n",
              "    }\n",
              "\n",
              "    .dataframe tbody tr th {\n",
              "        vertical-align: top;\n",
              "    }\n",
              "\n",
              "    .dataframe thead th {\n",
              "        text-align: right;\n",
              "    }\n",
              "</style>\n",
              "<table border=\"1\" class=\"dataframe\">\n",
              "  <thead>\n",
              "    <tr style=\"text-align: right;\">\n",
              "      <th></th>\n",
              "      <th>target</th>\n",
              "      <th>artist_names</th>\n",
              "      <th>track_names</th>\n",
              "      <th>lyrics_raw</th>\n",
              "      <th>lyrics_clean</th>\n",
              "      <th>length_raw</th>\n",
              "    </tr>\n",
              "  </thead>\n",
              "  <tbody>\n",
              "    <tr>\n",
              "      <th>1156</th>\n",
              "      <td>1</td>\n",
              "      <td>Shallou</td>\n",
              "      <td>Truth</td>\n",
              "      <td>All that I could do\\nIt's over now\\n\\nAll that...</td>\n",
              "      <td>All that I could do\\nIt's over now\\n\\nAll that...</td>\n",
              "      <td>71</td>\n",
              "    </tr>\n",
              "    <tr>\n",
              "      <th>1059</th>\n",
              "      <td>1</td>\n",
              "      <td>killedmyself</td>\n",
              "      <td>don't worry about me</td>\n",
              "      <td>Throw it down\\nLook away\\nDon't be scared, it'...</td>\n",
              "      <td>Throw it down\\nLook away\\nDon't be scared, it'...</td>\n",
              "      <td>118</td>\n",
              "    </tr>\n",
              "    <tr>\n",
              "      <th>1535</th>\n",
              "      <td>1</td>\n",
              "      <td>DROELOE</td>\n",
              "      <td>zZz</td>\n",
              "      <td>[Verse]\\nI know, I\\nIs like a lullaby\\nThis I ...</td>\n",
              "      <td>[Verse]\\nI know, I\\nIs like a lullaby\\nThis I ...</td>\n",
              "      <td>118</td>\n",
              "    </tr>\n",
              "    <tr>\n",
              "      <th>1317</th>\n",
              "      <td>1</td>\n",
              "      <td>Dabin</td>\n",
              "      <td>Sanctuary (feat. Mree)</td>\n",
              "      <td>Wait for me\\nBecause I want to be\\nWhere you a...</td>\n",
              "      <td>Wait for me\\nBecause I want to be\\nWhere you a...</td>\n",
              "      <td>124</td>\n",
              "    </tr>\n",
              "    <tr>\n",
              "      <th>2031</th>\n",
              "      <td>0</td>\n",
              "      <td>Julie Miller</td>\n",
              "      <td>All My Tears</td>\n",
              "      <td>When I go don't cry for me\\nIn my fathers arms...</td>\n",
              "      <td>When I go don't cry for me\\nIn my fathers arms...</td>\n",
              "      <td>128</td>\n",
              "    </tr>\n",
              "    <tr>\n",
              "      <th>1874</th>\n",
              "      <td>0</td>\n",
              "      <td>Dexateens</td>\n",
              "      <td>Naked Ground</td>\n",
              "      <td>\\n            Lyrics for this song h...</td>\n",
              "      <td>\\n            Lyrics for this song h...</td>\n",
              "      <td>139</td>\n",
              "    </tr>\n",
              "    <tr>\n",
              "      <th>807</th>\n",
              "      <td>1</td>\n",
              "      <td>Jdam</td>\n",
              "      <td>My Ex</td>\n",
              "      <td>\\n            Lyrics for this song h...</td>\n",
              "      <td>\\n            Lyrics for this song h...</td>\n",
              "      <td>139</td>\n",
              "    </tr>\n",
              "    <tr>\n",
              "      <th>961</th>\n",
              "      <td>1</td>\n",
              "      <td>Oliver Tank</td>\n",
              "      <td>Different Speed (feat. Ta-ku)</td>\n",
              "      <td>Slow down world you move too fast for me\\nI dr...</td>\n",
              "      <td>Slow down world you move too fast for me\\nI dr...</td>\n",
              "      <td>150</td>\n",
              "    </tr>\n",
              "    <tr>\n",
              "      <th>1186</th>\n",
              "      <td>1</td>\n",
              "      <td>What So Not</td>\n",
              "      <td>Better</td>\n",
              "      <td>Keeps on getting better!\\nYum!\\nKeeps on getti...</td>\n",
              "      <td>Keeps on getting better!\\nYum!\\nKeeps on getti...</td>\n",
              "      <td>169</td>\n",
              "    </tr>\n",
              "    <tr>\n",
              "      <th>1508</th>\n",
              "      <td>1</td>\n",
              "      <td>Mija</td>\n",
              "      <td>Better</td>\n",
              "      <td>Keeps on getting better!\\nYum!\\nKeeps on getti...</td>\n",
              "      <td>Keeps on getting better!\\nYum!\\nKeeps on getti...</td>\n",
              "      <td>169</td>\n",
              "    </tr>\n",
              "  </tbody>\n",
              "</table>\n",
              "</div>"
            ],
            "text/plain": [
              "      target  ... length_raw\n",
              "1156       1  ...         71\n",
              "1059       1  ...        118\n",
              "1535       1  ...        118\n",
              "1317       1  ...        124\n",
              "2031       0  ...        128\n",
              "1874       0  ...        139\n",
              "807        1  ...        139\n",
              "961        1  ...        150\n",
              "1186       1  ...        169\n",
              "1508       1  ...        169\n",
              "\n",
              "[10 rows x 6 columns]"
            ]
          },
          "metadata": {
            "tags": []
          },
          "execution_count": 15
        }
      ]
    },
    {
      "cell_type": "code",
      "metadata": {
        "id": "9DG6TIxZU-zo",
        "colab_type": "code",
        "outputId": "c305e18b-382a-4a53-fdef-5d2136c92652",
        "colab": {
          "base_uri": "https://localhost:8080/",
          "height": 347
        }
      },
      "source": [
        "df_lyrics[df_lyrics[\"length_raw\"]==139]\n",
        "df_lyrics_nan.append(df_lyrics[df_lyrics[\"length_raw\"]==139])\n",
        "df_lyrics = df_lyrics.drop(df_lyrics[df_lyrics[\"length_raw\"]==139].index.values)\n",
        "df_lyrics.head(10)"
      ],
      "execution_count": 0,
      "outputs": [
        {
          "output_type": "execute_result",
          "data": {
            "text/html": [
              "<div>\n",
              "<style scoped>\n",
              "    .dataframe tbody tr th:only-of-type {\n",
              "        vertical-align: middle;\n",
              "    }\n",
              "\n",
              "    .dataframe tbody tr th {\n",
              "        vertical-align: top;\n",
              "    }\n",
              "\n",
              "    .dataframe thead th {\n",
              "        text-align: right;\n",
              "    }\n",
              "</style>\n",
              "<table border=\"1\" class=\"dataframe\">\n",
              "  <thead>\n",
              "    <tr style=\"text-align: right;\">\n",
              "      <th></th>\n",
              "      <th>target</th>\n",
              "      <th>artist_names</th>\n",
              "      <th>track_names</th>\n",
              "      <th>lyrics_raw</th>\n",
              "      <th>lyrics_clean</th>\n",
              "      <th>length_raw</th>\n",
              "    </tr>\n",
              "  </thead>\n",
              "  <tbody>\n",
              "    <tr>\n",
              "      <th>1156</th>\n",
              "      <td>1</td>\n",
              "      <td>Shallou</td>\n",
              "      <td>Truth</td>\n",
              "      <td>All that I could do\\nIt's over now\\n\\nAll that...</td>\n",
              "      <td>All that I could do\\nIt's over now\\n\\nAll that...</td>\n",
              "      <td>71</td>\n",
              "    </tr>\n",
              "    <tr>\n",
              "      <th>1059</th>\n",
              "      <td>1</td>\n",
              "      <td>killedmyself</td>\n",
              "      <td>don't worry about me</td>\n",
              "      <td>Throw it down\\nLook away\\nDon't be scared, it'...</td>\n",
              "      <td>Throw it down\\nLook away\\nDon't be scared, it'...</td>\n",
              "      <td>118</td>\n",
              "    </tr>\n",
              "    <tr>\n",
              "      <th>1535</th>\n",
              "      <td>1</td>\n",
              "      <td>DROELOE</td>\n",
              "      <td>zZz</td>\n",
              "      <td>[Verse]\\nI know, I\\nIs like a lullaby\\nThis I ...</td>\n",
              "      <td>[Verse]\\nI know, I\\nIs like a lullaby\\nThis I ...</td>\n",
              "      <td>118</td>\n",
              "    </tr>\n",
              "    <tr>\n",
              "      <th>1317</th>\n",
              "      <td>1</td>\n",
              "      <td>Dabin</td>\n",
              "      <td>Sanctuary (feat. Mree)</td>\n",
              "      <td>Wait for me\\nBecause I want to be\\nWhere you a...</td>\n",
              "      <td>Wait for me\\nBecause I want to be\\nWhere you a...</td>\n",
              "      <td>124</td>\n",
              "    </tr>\n",
              "    <tr>\n",
              "      <th>2031</th>\n",
              "      <td>0</td>\n",
              "      <td>Julie Miller</td>\n",
              "      <td>All My Tears</td>\n",
              "      <td>When I go don't cry for me\\nIn my fathers arms...</td>\n",
              "      <td>When I go don't cry for me\\nIn my fathers arms...</td>\n",
              "      <td>128</td>\n",
              "    </tr>\n",
              "    <tr>\n",
              "      <th>961</th>\n",
              "      <td>1</td>\n",
              "      <td>Oliver Tank</td>\n",
              "      <td>Different Speed (feat. Ta-ku)</td>\n",
              "      <td>Slow down world you move too fast for me\\nI dr...</td>\n",
              "      <td>Slow down world you move too fast for me\\nI dr...</td>\n",
              "      <td>150</td>\n",
              "    </tr>\n",
              "    <tr>\n",
              "      <th>1186</th>\n",
              "      <td>1</td>\n",
              "      <td>What So Not</td>\n",
              "      <td>Better</td>\n",
              "      <td>Keeps on getting better!\\nYum!\\nKeeps on getti...</td>\n",
              "      <td>Keeps on getting better!\\nYum!\\nKeeps on getti...</td>\n",
              "      <td>169</td>\n",
              "    </tr>\n",
              "    <tr>\n",
              "      <th>1508</th>\n",
              "      <td>1</td>\n",
              "      <td>Mija</td>\n",
              "      <td>Better</td>\n",
              "      <td>Keeps on getting better!\\nYum!\\nKeeps on getti...</td>\n",
              "      <td>Keeps on getting better!\\nYum!\\nKeeps on getti...</td>\n",
              "      <td>169</td>\n",
              "    </tr>\n",
              "    <tr>\n",
              "      <th>1625</th>\n",
              "      <td>1</td>\n",
              "      <td>Savoy</td>\n",
              "      <td>Let You Let Me</td>\n",
              "      <td>[Verse]\\nBuild up\\nI'll never let you let me g...</td>\n",
              "      <td>[Verse]\\nBuild up\\nI'll never let you let me g...</td>\n",
              "      <td>177</td>\n",
              "    </tr>\n",
              "    <tr>\n",
              "      <th>919</th>\n",
              "      <td>1</td>\n",
              "      <td>Phaeleh</td>\n",
              "      <td>In The Twilight</td>\n",
              "      <td>Oh, why do you\\nBaby\\nIn the Twilight\\nWhy you...</td>\n",
              "      <td>Oh, why do you\\nBaby\\nIn the Twilight\\nWhy you...</td>\n",
              "      <td>197</td>\n",
              "    </tr>\n",
              "  </tbody>\n",
              "</table>\n",
              "</div>"
            ],
            "text/plain": [
              "      target  ... length_raw\n",
              "1156       1  ...         71\n",
              "1059       1  ...        118\n",
              "1535       1  ...        118\n",
              "1317       1  ...        124\n",
              "2031       0  ...        128\n",
              "961        1  ...        150\n",
              "1186       1  ...        169\n",
              "1508       1  ...        169\n",
              "1625       1  ...        177\n",
              "919        1  ...        197\n",
              "\n",
              "[10 rows x 6 columns]"
            ]
          },
          "metadata": {
            "tags": []
          },
          "execution_count": 16
        }
      ]
    },
    {
      "cell_type": "code",
      "metadata": {
        "id": "R1JlT_j2Wc2i",
        "colab_type": "code",
        "outputId": "1d256aee-6658-4d75-e026-fee51996cf33",
        "colab": {
          "base_uri": "https://localhost:8080/",
          "height": 414
        }
      },
      "source": [
        "df_lyrics = df_lyrics.sort_values(by=['length_raw'], ascending=0)\n",
        "df_lyrics.head(10)"
      ],
      "execution_count": 0,
      "outputs": [
        {
          "output_type": "execute_result",
          "data": {
            "text/html": [
              "<div>\n",
              "<style scoped>\n",
              "    .dataframe tbody tr th:only-of-type {\n",
              "        vertical-align: middle;\n",
              "    }\n",
              "\n",
              "    .dataframe tbody tr th {\n",
              "        vertical-align: top;\n",
              "    }\n",
              "\n",
              "    .dataframe thead th {\n",
              "        text-align: right;\n",
              "    }\n",
              "</style>\n",
              "<table border=\"1\" class=\"dataframe\">\n",
              "  <thead>\n",
              "    <tr style=\"text-align: right;\">\n",
              "      <th></th>\n",
              "      <th>target</th>\n",
              "      <th>artist_names</th>\n",
              "      <th>track_names</th>\n",
              "      <th>lyrics_raw</th>\n",
              "      <th>lyrics_clean</th>\n",
              "      <th>length_raw</th>\n",
              "    </tr>\n",
              "  </thead>\n",
              "  <tbody>\n",
              "    <tr>\n",
              "      <th>2153</th>\n",
              "      <td>0</td>\n",
              "      <td>Gram Parsons</td>\n",
              "      <td>Return of the Grievous Angel - Remastered Version</td>\n",
              "      <td>EAS13500 S.L.C.\\n113TH CONGRESS\\n1ST SESSION S...</td>\n",
              "      <td>EAS13500 S.L.C.\\n113TH CONGRESS\\n1ST SESSION S...</td>\n",
              "      <td>915665</td>\n",
              "    </tr>\n",
              "    <tr>\n",
              "      <th>1598</th>\n",
              "      <td>1</td>\n",
              "      <td>Seven Lions</td>\n",
              "      <td>Falling Away - MitiS Remix</td>\n",
              "      <td>EAS13500 S.L.C.\\n113TH CONGRESS\\n1ST SESSION S...</td>\n",
              "      <td>EAS13500 S.L.C.\\n113TH CONGRESS\\n1ST SESSION S...</td>\n",
              "      <td>915665</td>\n",
              "    </tr>\n",
              "    <tr>\n",
              "      <th>731</th>\n",
              "      <td>1</td>\n",
              "      <td>BOY</td>\n",
              "      <td>Little Numbers - Acoustic Version</td>\n",
              "      <td>CHAPTE...</td>\n",
              "      <td>CHAPTE...</td>\n",
              "      <td>825041</td>\n",
              "    </tr>\n",
              "    <tr>\n",
              "      <th>1440</th>\n",
              "      <td>1</td>\n",
              "      <td>Julien Marchal</td>\n",
              "      <td>Insight XIV</td>\n",
              "      <td>CHAPTE...</td>\n",
              "      <td>CHAPTE...</td>\n",
              "      <td>825041</td>\n",
              "    </tr>\n",
              "    <tr>\n",
              "      <th>1888</th>\n",
              "      <td>0</td>\n",
              "      <td>Gary Louris</td>\n",
              "      <td>We'll Get By - Acoustic Version</td>\n",
              "      <td>CHAPTE...</td>\n",
              "      <td>CHAPTE...</td>\n",
              "      <td>825041</td>\n",
              "    </tr>\n",
              "    <tr>\n",
              "      <th>2009</th>\n",
              "      <td>0</td>\n",
              "      <td>Greg Trooper</td>\n",
              "      <td>Cane River Blues</td>\n",
              "      <td>Angela's Ashes\\n\\nA Memoir of a Childhood\\n\\nB...</td>\n",
              "      <td>Angela's Ashes\\n\\nA Memoir of a Childhood\\n\\nB...</td>\n",
              "      <td>761387</td>\n",
              "    </tr>\n",
              "    <tr>\n",
              "      <th>2272</th>\n",
              "      <td>0</td>\n",
              "      <td>Luke O'Shea</td>\n",
              "      <td>The Old Man's Shed</td>\n",
              "      <td>Angela's Ashes\\n\\nA Memoir of a Childhood\\n\\nB...</td>\n",
              "      <td>Angela's Ashes\\n\\nA Memoir of a Childhood\\n\\nB...</td>\n",
              "      <td>761387</td>\n",
              "    </tr>\n",
              "    <tr>\n",
              "      <th>2407</th>\n",
              "      <td>0</td>\n",
              "      <td>Joel Feeney</td>\n",
              "      <td>A Little Bit Of Your Love</td>\n",
              "      <td>Angela's Ashes\\n\\nA Memoir of a Childhood\\n\\nB...</td>\n",
              "      <td>Angela's Ashes\\n\\nA Memoir of a Childhood\\n\\nB...</td>\n",
              "      <td>761387</td>\n",
              "    </tr>\n",
              "    <tr>\n",
              "      <th>1973</th>\n",
              "      <td>0</td>\n",
              "      <td>Nora O'Connor</td>\n",
              "      <td>Looks Like I'm Up Shit Creek Again</td>\n",
              "      <td>Angela's Ashes\\n\\nA Memoir of a Childhood\\n\\nB...</td>\n",
              "      <td>Angela's Ashes\\n\\nA Memoir of a Childhood\\n\\nB...</td>\n",
              "      <td>761387</td>\n",
              "    </tr>\n",
              "    <tr>\n",
              "      <th>2209</th>\n",
              "      <td>0</td>\n",
              "      <td>The High Kings</td>\n",
              "      <td>Galway Girl</td>\n",
              "      <td>Angela's Ashes\\n\\nA Memoir of a Childhood\\n\\nB...</td>\n",
              "      <td>Angela's Ashes\\n\\nA Memoir of a Childhood\\n\\nB...</td>\n",
              "      <td>761387</td>\n",
              "    </tr>\n",
              "  </tbody>\n",
              "</table>\n",
              "</div>"
            ],
            "text/plain": [
              "      target  ... length_raw\n",
              "2153       0  ...     915665\n",
              "1598       1  ...     915665\n",
              "731        1  ...     825041\n",
              "1440       1  ...     825041\n",
              "1888       0  ...     825041\n",
              "2009       0  ...     761387\n",
              "2272       0  ...     761387\n",
              "2407       0  ...     761387\n",
              "1973       0  ...     761387\n",
              "2209       0  ...     761387\n",
              "\n",
              "[10 rows x 6 columns]"
            ]
          },
          "metadata": {
            "tags": []
          },
          "execution_count": 17
        }
      ]
    },
    {
      "cell_type": "code",
      "metadata": {
        "id": "aOzMi6kZXRHf",
        "colab_type": "code",
        "outputId": "d7d6de7e-4234-4d4a-87b7-ced965980f1c",
        "colab": {
          "base_uri": "https://localhost:8080/",
          "height": 214
        }
      },
      "source": [
        "for i in df_lyrics[\"lyrics_raw\"].head(10):\n",
        "  display(i[:200])"
      ],
      "execution_count": 0,
      "outputs": [
        {
          "output_type": "display_data",
          "data": {
            "text/plain": [
              "'EAS13500 S.L.C.\\n113TH CONGRESS\\n1ST SESSION S. ll\\nTo provide for comprehensive immigration reform and for other purposes.\\nIN THE SENATE OF THE UNITED STATES\\nllllllllll\\nMr. SCHUMER (for himself, Mr. MCC'"
            ]
          },
          "metadata": {
            "tags": []
          }
        },
        {
          "output_type": "display_data",
          "data": {
            "text/plain": [
              "'EAS13500 S.L.C.\\n113TH CONGRESS\\n1ST SESSION S. ll\\nTo provide for comprehensive immigration reform and for other purposes.\\nIN THE SENATE OF THE UNITED STATES\\nllllllllll\\nMr. SCHUMER (for himself, Mr. MCC'"
            ]
          },
          "metadata": {
            "tags": []
          }
        },
        {
          "output_type": "display_data",
          "data": {
            "text/plain": [
              "'\\xa0\\xa0\\xa0\\xa0\\xa0\\xa0\\xa0\\xa0\\xa0\\xa0\\xa0\\xa0\\xa0\\xa0\\xa0\\xa0\\xa0\\xa0\\xa0\\xa0\\xa0\\xa0\\xa0\\xa0\\xa0\\xa0\\xa0\\xa0\\xa0\\xa0\\xa0\\xa0\\xa0\\xa0\\xa0\\xa0\\xa0\\xa0\\xa0 CHAPTER ONE\\n\\nNAMES OF PEOPLE: THE DUCHESSE DE GUERMANTES — SAINT-LOUP AT DONCIÈRES — MME. DE VILLEPARISIS AT HOME — MY GRANDMOTHER’S ILLNESS — BERGOTTE’S ILLNES'"
            ]
          },
          "metadata": {
            "tags": []
          }
        },
        {
          "output_type": "display_data",
          "data": {
            "text/plain": [
              "'\\xa0\\xa0\\xa0\\xa0\\xa0\\xa0\\xa0\\xa0\\xa0\\xa0\\xa0\\xa0\\xa0\\xa0\\xa0\\xa0\\xa0\\xa0\\xa0\\xa0\\xa0\\xa0\\xa0\\xa0\\xa0\\xa0\\xa0\\xa0\\xa0\\xa0\\xa0\\xa0\\xa0\\xa0\\xa0\\xa0\\xa0\\xa0\\xa0 CHAPTER ONE\\n\\nNAMES OF PEOPLE: THE DUCHESSE DE GUERMANTES — SAINT-LOUP AT DONCIÈRES — MME. DE VILLEPARISIS AT HOME — MY GRANDMOTHER’S ILLNESS — BERGOTTE’S ILLNES'"
            ]
          },
          "metadata": {
            "tags": []
          }
        },
        {
          "output_type": "display_data",
          "data": {
            "text/plain": [
              "'\\xa0\\xa0\\xa0\\xa0\\xa0\\xa0\\xa0\\xa0\\xa0\\xa0\\xa0\\xa0\\xa0\\xa0\\xa0\\xa0\\xa0\\xa0\\xa0\\xa0\\xa0\\xa0\\xa0\\xa0\\xa0\\xa0\\xa0\\xa0\\xa0\\xa0\\xa0\\xa0\\xa0\\xa0\\xa0\\xa0\\xa0\\xa0\\xa0 CHAPTER ONE\\n\\nNAMES OF PEOPLE: THE DUCHESSE DE GUERMANTES — SAINT-LOUP AT DONCIÈRES — MME. DE VILLEPARISIS AT HOME — MY GRANDMOTHER’S ILLNESS — BERGOTTE’S ILLNES'"
            ]
          },
          "metadata": {
            "tags": []
          }
        },
        {
          "output_type": "display_data",
          "data": {
            "text/plain": [
              "\"Angela's Ashes\\n\\nA Memoir of a Childhood\\n\\nBy Frank McCourt\\n\\nThis book is dedicated to my brothers, Malachy, Michael, Alphonsus. I learn from you, I admire you and I love you.\\n\\nAcknowledgments\\n\\nThis is \""
            ]
          },
          "metadata": {
            "tags": []
          }
        },
        {
          "output_type": "display_data",
          "data": {
            "text/plain": [
              "\"Angela's Ashes\\n\\nA Memoir of a Childhood\\n\\nBy Frank McCourt\\n\\nThis book is dedicated to my brothers, Malachy, Michael, Alphonsus. I learn from you, I admire you and I love you.\\n\\nAcknowledgments\\n\\nThis is \""
            ]
          },
          "metadata": {
            "tags": []
          }
        },
        {
          "output_type": "display_data",
          "data": {
            "text/plain": [
              "\"Angela's Ashes\\n\\nA Memoir of a Childhood\\n\\nBy Frank McCourt\\n\\nThis book is dedicated to my brothers, Malachy, Michael, Alphonsus. I learn from you, I admire you and I love you.\\n\\nAcknowledgments\\n\\nThis is \""
            ]
          },
          "metadata": {
            "tags": []
          }
        },
        {
          "output_type": "display_data",
          "data": {
            "text/plain": [
              "\"Angela's Ashes\\n\\nA Memoir of a Childhood\\n\\nBy Frank McCourt\\n\\nThis book is dedicated to my brothers, Malachy, Michael, Alphonsus. I learn from you, I admire you and I love you.\\n\\nAcknowledgments\\n\\nThis is \""
            ]
          },
          "metadata": {
            "tags": []
          }
        },
        {
          "output_type": "display_data",
          "data": {
            "text/plain": [
              "\"Angela's Ashes\\n\\nA Memoir of a Childhood\\n\\nBy Frank McCourt\\n\\nThis book is dedicated to my brothers, Malachy, Michael, Alphonsus. I learn from you, I admire you and I love you.\\n\\nAcknowledgments\\n\\nThis is \""
            ]
          },
          "metadata": {
            "tags": []
          }
        }
      ]
    },
    {
      "cell_type": "code",
      "metadata": {
        "id": "Ymb3cmjtn8Zw",
        "colab_type": "code",
        "colab": {}
      },
      "source": [
        "#for length in df_lyrics[\"length_raw\"].head(10):\n",
        "#  df_lyrics[df_lyrics[\"length_raw\"]==length]\n",
        "#  df_lyrics_nan.append(df_lyrics[df_lyrics[\"length_raw\"]==length])\n",
        "#  df_lyrics[df_lyrics[\"length_raw\"]==length].index.values\n",
        "#  df_lyrics = df_lyrics.drop(df_lyrics[df_lyrics[\"length_raw\"]==length].index.values)\n",
        "\n",
        "#df_lyrics.head(10)"
      ],
      "execution_count": 0,
      "outputs": []
    },
    {
      "cell_type": "code",
      "metadata": {
        "id": "4z53tZxqkbRm",
        "colab_type": "code",
        "outputId": "4b0a0024-8f44-4012-fd1d-51a592a53961",
        "colab": {
          "base_uri": "https://localhost:8080/",
          "height": 443
        }
      },
      "source": [
        "display(df_lyrics[\"length_raw\"].describe())\n",
        "#df_lyrics[\"length_raw\"].quantile(q=.75)\n",
        "#df_lyrics[df_lyrics[\"length_raw\"]>df_lyrics[\"length_raw\"].quantile(q=.75)]\n",
        "sns.distplot(df_lyrics[\"length_raw\"][df_lyrics[\"length_raw\"]>df_lyrics[\"length_raw\"].quantile(q=.75)])\n",
        "plt.show()"
      ],
      "execution_count": 0,
      "outputs": [
        {
          "output_type": "display_data",
          "data": {
            "text/plain": [
              "count      1888.000000\n",
              "mean      18915.566208\n",
              "std       81921.132159\n",
              "min          71.000000\n",
              "25%        1034.250000\n",
              "50%        1449.500000\n",
              "75%        2124.000000\n",
              "max      915665.000000\n",
              "Name: length_raw, dtype: float64"
            ]
          },
          "metadata": {
            "tags": []
          }
        },
        {
          "output_type": "display_data",
          "data": {
            "image/png": "[encoded data removed]",
            "text/plain": [
              "<Figure size 432x288 with 1 Axes>"
            ]
          },
          "metadata": {
            "tags": []
          }
        }
      ]
    },
    {
      "cell_type": "code",
      "metadata": {
        "id": "e3pdSpEtBkau",
        "colab_type": "code",
        "outputId": "860121fd-1176-4d1c-8658-8d402d53197a",
        "colab": {
          "base_uri": "https://localhost:8080/",
          "height": 176
        }
      },
      "source": [
        "df_lyrics[\"length_raw\"][df_lyrics[\"length_raw\"]>df_lyrics[\"length_raw\"].quantile(q=.75)].describe()"
      ],
      "execution_count": 0,
      "outputs": [
        {
          "output_type": "execute_result",
          "data": {
            "text/plain": [
              "count       471.000000\n",
              "mean      72085.422505\n",
              "std      152213.549381\n",
              "min        2127.000000\n",
              "25%        2628.500000\n",
              "50%       10043.000000\n",
              "75%       79310.000000\n",
              "max      915665.000000\n",
              "Name: length_raw, dtype: float64"
            ]
          },
          "metadata": {
            "tags": []
          },
          "execution_count": 22
        }
      ]
    },
    {
      "cell_type": "code",
      "metadata": {
        "id": "rsquXvVml8T1",
        "colab_type": "code",
        "outputId": "58f9cd91-99c7-4613-913f-abb384958a1e",
        "colab": {
          "base_uri": "https://localhost:8080/",
          "height": 375
        }
      },
      "source": [
        "variance = df_lyrics[\"length_raw\"][df_lyrics[\"length_raw\"] < \n",
        "                                   df_lyrics[\"length_raw\"].quantile(q=.75)].std()\n",
        "too_long = df_lyrics[\"length_raw\"].quantile(q=.75) + variance*2\n",
        "print(df_lyrics[df_lyrics[\"length_raw\"]>too_long].shape)\n",
        "display(df_lyrics[df_lyrics[\"length_raw\"]>too_long].tail(5))\n",
        "df_lyrics[\"length_raw\"][df_lyrics[\"length_raw\"]>too_long].describe()"
      ],
      "execution_count": 0,
      "outputs": [
        {
          "output_type": "stream",
          "text": [
            "(327, 6)\n"
          ],
          "name": "stdout"
        },
        {
          "output_type": "display_data",
          "data": {
            "text/html": [
              "<div>\n",
              "<style scoped>\n",
              "    .dataframe tbody tr th:only-of-type {\n",
              "        vertical-align: middle;\n",
              "    }\n",
              "\n",
              "    .dataframe tbody tr th {\n",
              "        vertical-align: top;\n",
              "    }\n",
              "\n",
              "    .dataframe thead th {\n",
              "        text-align: right;\n",
              "    }\n",
              "</style>\n",
              "<table border=\"1\" class=\"dataframe\">\n",
              "  <thead>\n",
              "    <tr style=\"text-align: right;\">\n",
              "      <th></th>\n",
              "      <th>target</th>\n",
              "      <th>artist_names</th>\n",
              "      <th>track_names</th>\n",
              "      <th>lyrics_raw</th>\n",
              "      <th>lyrics_clean</th>\n",
              "      <th>length_raw</th>\n",
              "    </tr>\n",
              "  </thead>\n",
              "  <tbody>\n",
              "    <tr>\n",
              "      <th>813</th>\n",
              "      <td>1</td>\n",
              "      <td>mansionz</td>\n",
              "      <td>STFU</td>\n",
              "      <td>[Verse 1: blackbear]\\nOh, yeah\\nI ain't hit yo...</td>\n",
              "      <td>[Verse 1: blackbear]\\nOh, yeah\\nI ain't hit yo...</td>\n",
              "      <td>2995</td>\n",
              "    </tr>\n",
              "    <tr>\n",
              "      <th>858</th>\n",
              "      <td>1</td>\n",
              "      <td>KYLE</td>\n",
              "      <td>Remember Me?</td>\n",
              "      <td>[Verse 1: KYLE]\\nYeah, okay well hey yo rememb...</td>\n",
              "      <td>[Verse 1: KYLE]\\nYeah, okay well hey yo rememb...</td>\n",
              "      <td>2992</td>\n",
              "    </tr>\n",
              "    <tr>\n",
              "      <th>427</th>\n",
              "      <td>1</td>\n",
              "      <td>Eppic</td>\n",
              "      <td>Hide and Seek</td>\n",
              "      <td>[Chorus: Poppy]\\nNow are we gonna continue\\nPl...</td>\n",
              "      <td>[Chorus: Poppy]\\nNow are we gonna continue\\nPl...</td>\n",
              "      <td>2990</td>\n",
              "    </tr>\n",
              "    <tr>\n",
              "      <th>1791</th>\n",
              "      <td>0</td>\n",
              "      <td>Slaid Cleaves</td>\n",
              "      <td>Breakfast in Hell</td>\n",
              "      <td>In the melting snows of Ontario\\nWhere the win...</td>\n",
              "      <td>In the melting snows of Ontario\\nWhere the win...</td>\n",
              "      <td>2984</td>\n",
              "    </tr>\n",
              "    <tr>\n",
              "      <th>851</th>\n",
              "      <td>1</td>\n",
              "      <td>Justin Stone</td>\n",
              "      <td>Safe to Say</td>\n",
              "      <td>[Verse 1]\\nYeah, canvas made from that dream\\n...</td>\n",
              "      <td>[Verse 1]\\nYeah, canvas made from that dream\\n...</td>\n",
              "      <td>2975</td>\n",
              "    </tr>\n",
              "  </tbody>\n",
              "</table>\n",
              "</div>"
            ],
            "text/plain": [
              "      target  ... length_raw\n",
              "813        1  ...       2995\n",
              "858        1  ...       2992\n",
              "427        1  ...       2990\n",
              "1791       0  ...       2984\n",
              "851        1  ...       2975\n",
              "\n",
              "[5 rows x 6 columns]"
            ]
          },
          "metadata": {
            "tags": []
          }
        },
        {
          "output_type": "execute_result",
          "data": {
            "text/plain": [
              "count       327.000000\n",
              "mean     102759.960245\n",
              "std      174114.993626\n",
              "min        2975.000000\n",
              "25%        7504.000000\n",
              "50%       37987.000000\n",
              "75%      113998.500000\n",
              "max      915665.000000\n",
              "Name: length_raw, dtype: float64"
            ]
          },
          "metadata": {
            "tags": []
          },
          "execution_count": 26
        }
      ]
    },
    {
      "cell_type": "code",
      "metadata": {
        "id": "prEz5Ll-oNdP",
        "colab_type": "code",
        "outputId": "a24a87ab-3789-458b-c0e8-1f2a2824d086",
        "colab": {
          "base_uri": "https://localhost:8080/",
          "height": 318
        }
      },
      "source": [
        "print(df_lyrics.shape)\n",
        "df_lyrics = df_lyrics[df_lyrics[\"length_raw\"]<too_long]\n",
        "print(df_lyrics.shape)\n",
        "sns.distplot(df_lyrics[\"length_raw\"])\n",
        "plt.show()"
      ],
      "execution_count": 0,
      "outputs": [
        {
          "output_type": "stream",
          "text": [
            "(1888, 6)\n",
            "(1561, 6)\n"
          ],
          "name": "stdout"
        },
        {
          "output_type": "display_data",
          "data": {
            "image/png": "[encoded data removed]",
            "text/plain": [
              "<Figure size 432x288 with 1 Axes>"
            ]
          },
          "metadata": {
            "tags": []
          }
        }
      ]
    },
    {
      "cell_type": "code",
      "metadata": {
        "id": "Ia-eR_hOo3A7",
        "colab_type": "code",
        "outputId": "d8c67939-c6ed-49c8-caab-80fb3a88253b",
        "colab": {
          "base_uri": "https://localhost:8080/",
          "height": 197
        }
      },
      "source": [
        "df_lyrics = df_lyrics.sort_index()\n",
        "df_lyrics.head()"
      ],
      "execution_count": 0,
      "outputs": [
        {
          "output_type": "execute_result",
          "data": {
            "text/html": [
              "<div>\n",
              "<style scoped>\n",
              "    .dataframe tbody tr th:only-of-type {\n",
              "        vertical-align: middle;\n",
              "    }\n",
              "\n",
              "    .dataframe tbody tr th {\n",
              "        vertical-align: top;\n",
              "    }\n",
              "\n",
              "    .dataframe thead th {\n",
              "        text-align: right;\n",
              "    }\n",
              "</style>\n",
              "<table border=\"1\" class=\"dataframe\">\n",
              "  <thead>\n",
              "    <tr style=\"text-align: right;\">\n",
              "      <th></th>\n",
              "      <th>target</th>\n",
              "      <th>artist_names</th>\n",
              "      <th>track_names</th>\n",
              "      <th>lyrics_raw</th>\n",
              "      <th>lyrics_clean</th>\n",
              "      <th>length_raw</th>\n",
              "    </tr>\n",
              "  </thead>\n",
              "  <tbody>\n",
              "    <tr>\n",
              "      <th>0</th>\n",
              "      <td>1</td>\n",
              "      <td>Lorde</td>\n",
              "      <td>Sober</td>\n",
              "      <td>[Intro]\\nNight, midnight, lose my mind\\nNight,...</td>\n",
              "      <td>intro night midnight lose mind night midnight ...</td>\n",
              "      <td>2485</td>\n",
              "    </tr>\n",
              "    <tr>\n",
              "      <th>1</th>\n",
              "      <td>1</td>\n",
              "      <td>Lorde</td>\n",
              "      <td>Homemade Dynamite</td>\n",
              "      <td>[Verse 1]\\nA couple rebel top gun pilots\\nFlyi...</td>\n",
              "      <td>verse couple rebel top gun pilot flying nowher...</td>\n",
              "      <td>1795</td>\n",
              "    </tr>\n",
              "    <tr>\n",
              "      <th>2</th>\n",
              "      <td>1</td>\n",
              "      <td>Lorde</td>\n",
              "      <td>The Louvre</td>\n",
              "      <td>[Verse 1]\\nWell, summer slipped us underneath ...</td>\n",
              "      <td>verse well summer slipped u underneath tongue ...</td>\n",
              "      <td>1824</td>\n",
              "    </tr>\n",
              "    <tr>\n",
              "      <th>3</th>\n",
              "      <td>1</td>\n",
              "      <td>Lorde</td>\n",
              "      <td>Liability</td>\n",
              "      <td>[Intro]\\nOne, two\\n\\n[Verse 1]\\nBaby really hu...</td>\n",
              "      <td>intro one two verse baby really hurt cry taxi ...</td>\n",
              "      <td>1305</td>\n",
              "    </tr>\n",
              "    <tr>\n",
              "      <th>4</th>\n",
              "      <td>1</td>\n",
              "      <td>Lorde</td>\n",
              "      <td>Hard Feelings/Loveless</td>\n",
              "      <td>Hard Feelings\\n\\n(Go back and tell it)\\n\\nPlea...</td>\n",
              "      <td>hard feeling go back tell please could tender ...</td>\n",
              "      <td>2386</td>\n",
              "    </tr>\n",
              "  </tbody>\n",
              "</table>\n",
              "</div>"
            ],
            "text/plain": [
              "   target  ... length_raw\n",
              "0       1  ...       2485\n",
              "1       1  ...       1795\n",
              "2       1  ...       1824\n",
              "3       1  ...       1305\n",
              "4       1  ...       2386\n",
              "\n",
              "[5 rows x 6 columns]"
            ]
          },
          "metadata": {
            "tags": []
          },
          "execution_count": 28
        }
      ]
    },
    {
      "cell_type": "markdown",
      "metadata": {
        "id": "TeXDyQ3tmtBT",
        "colab_type": "text"
      },
      "source": [
        "### RegEx"
      ]
    },
    {
      "cell_type": "code",
      "metadata": {
        "id": "t8DDGyjBLFhA",
        "colab_type": "code",
        "colab": {}
      },
      "source": [
        "#\n",
        "import re\n",
        "def text_cleaner(text):\n",
        "  doc = re.sub(r'--',' ', text)\n",
        "  # remove special chars\n",
        "  doc = re.sub(r'\\W', ' ', doc)\n",
        "  # remove all single characters\n",
        "  doc = re.sub(r'\\s+[a-zA-Z]\\s+', ' ', doc)\n",
        "  # remove single characters from the start\n",
        "  doc = re.sub(r'\\^[a-zA-Z]\\s+', ' ', doc)\n",
        "  # set to lowercase\n",
        "  doc = doc.lower()\n",
        "  # remove line breaks\n",
        "  doc = re.sub(r\"\\n\", \" \", doc)\n",
        "  # remove music terminology\n",
        "  doc = re.sub(r\"intro\", \"\", doc)\n",
        "  doc = re.sub(r\"chorus\", \"\", doc)\n",
        "  doc = re.sub(r\"verse\", \"\", doc)\n",
        "  doc = re.sub(r\"outro\", \"\", doc)\n",
        "  doc = re.sub(r\"hook\", \"\", doc)\n",
        "  # remove numbers\n",
        "  doc = re.sub(r\"[0-9]\", \"\", doc)\n",
        "  # substituting multiple spaces with single space\n",
        "  doc = re.sub(r'\\s+', ' ', doc, flags=re.I)\n",
        "  return doc"
      ],
      "execution_count": 0,
      "outputs": []
    },
    {
      "cell_type": "code",
      "metadata": {
        "id": "mIADszvoLhNB",
        "colab_type": "code",
        "outputId": "c0a7de77-6880-47cc-ebe0-49f150cf4c82",
        "colab": {
          "base_uri": "https://localhost:8080/",
          "height": 34
        }
      },
      "source": [
        "df_lyrics[\"lyrics_clean\"] = df_lyrics[\"lyrics_raw\"]\n",
        "df_lyrics[\"lyrics_clean\"] = [text_cleaner(lyric) for lyric in df_lyrics[\"lyrics_clean\"]]\n",
        "#df_lyrics[df_lyrics[\"lyrics_clean\"]==\"nan\"].shape"
      ],
      "execution_count": 0,
      "outputs": [
        {
          "output_type": "execute_result",
          "data": {
            "text/plain": [
              "(0, 6)"
            ]
          },
          "metadata": {
            "tags": []
          },
          "execution_count": 30
        }
      ]
    },
    {
      "cell_type": "code",
      "metadata": {
        "id": "oAv9Vys2MKXZ",
        "colab_type": "code",
        "outputId": "b3afb5e0-d432-4324-f158-c7d4429f8a01",
        "colab": {
          "base_uri": "https://localhost:8080/",
          "height": 72
        }
      },
      "source": [
        "type(df_lyrics[\"lyrics_clean\"])\n",
        "print(len(df_lyrics[\"lyrics_clean\"][0]))\n",
        "print(df_lyrics[\"lyrics_clean\"][0][:200])"
      ],
      "execution_count": 0,
      "outputs": [
        {
          "output_type": "stream",
          "text": [
            "2275\n",
            " night midnight lose my mind night midnight lose my mind night midnight lose my mind when you get to my high when you get to my night midnight oh god m clean out of air in my lungs it all gone played \n"
          ],
          "name": "stdout"
        }
      ]
    },
    {
      "cell_type": "code",
      "metadata": {
        "id": "QJ7GSNl1ED12",
        "colab_type": "code",
        "outputId": "095cf19a-58bc-419d-c909-90ad7c69f35f",
        "colab": {
          "base_uri": "https://localhost:8080/",
          "height": 197
        }
      },
      "source": [
        "df_lyrics[\"length_clean\"] = [len(x) for x in df_lyrics[\"lyrics_clean\"]]\n",
        "display(df_lyrics.head())"
      ],
      "execution_count": 0,
      "outputs": [
        {
          "output_type": "display_data",
          "data": {
            "text/html": [
              "<div>\n",
              "<style scoped>\n",
              "    .dataframe tbody tr th:only-of-type {\n",
              "        vertical-align: middle;\n",
              "    }\n",
              "\n",
              "    .dataframe tbody tr th {\n",
              "        vertical-align: top;\n",
              "    }\n",
              "\n",
              "    .dataframe thead th {\n",
              "        text-align: right;\n",
              "    }\n",
              "</style>\n",
              "<table border=\"1\" class=\"dataframe\">\n",
              "  <thead>\n",
              "    <tr style=\"text-align: right;\">\n",
              "      <th></th>\n",
              "      <th>target</th>\n",
              "      <th>artist_names</th>\n",
              "      <th>track_names</th>\n",
              "      <th>lyrics_raw</th>\n",
              "      <th>lyrics_clean</th>\n",
              "      <th>length_raw</th>\n",
              "      <th>length_clean</th>\n",
              "    </tr>\n",
              "  </thead>\n",
              "  <tbody>\n",
              "    <tr>\n",
              "      <th>0</th>\n",
              "      <td>1</td>\n",
              "      <td>Lorde</td>\n",
              "      <td>Sober</td>\n",
              "      <td>[Intro]\\nNight, midnight, lose my mind\\nNight,...</td>\n",
              "      <td>night midnight lose my mind night midnight lo...</td>\n",
              "      <td>2485</td>\n",
              "      <td>2275</td>\n",
              "    </tr>\n",
              "    <tr>\n",
              "      <th>1</th>\n",
              "      <td>1</td>\n",
              "      <td>Lorde</td>\n",
              "      <td>Homemade Dynamite</td>\n",
              "      <td>[Verse 1]\\nA couple rebel top gun pilots\\nFlyi...</td>\n",
              "      <td>couple rebel top gun pilots flying with nowhe...</td>\n",
              "      <td>1795</td>\n",
              "      <td>1621</td>\n",
              "    </tr>\n",
              "    <tr>\n",
              "      <th>2</th>\n",
              "      <td>1</td>\n",
              "      <td>Lorde</td>\n",
              "      <td>The Louvre</td>\n",
              "      <td>[Verse 1]\\nWell, summer slipped us underneath ...</td>\n",
              "      <td>well summer slipped us underneath her tongue ...</td>\n",
              "      <td>1824</td>\n",
              "      <td>1665</td>\n",
              "    </tr>\n",
              "    <tr>\n",
              "      <th>3</th>\n",
              "      <td>1</td>\n",
              "      <td>Lorde</td>\n",
              "      <td>Liability</td>\n",
              "      <td>[Intro]\\nOne, two\\n\\n[Verse 1]\\nBaby really hu...</td>\n",
              "      <td>one two baby really hurt me crying in the tax...</td>\n",
              "      <td>1305</td>\n",
              "      <td>1157</td>\n",
              "    </tr>\n",
              "    <tr>\n",
              "      <th>4</th>\n",
              "      <td>1</td>\n",
              "      <td>Lorde</td>\n",
              "      <td>Hard Feelings/Loveless</td>\n",
              "      <td>Hard Feelings\\n\\n(Go back and tell it)\\n\\nPlea...</td>\n",
              "      <td>hard feelings go back and tell it please could...</td>\n",
              "      <td>2386</td>\n",
              "      <td>2189</td>\n",
              "    </tr>\n",
              "  </tbody>\n",
              "</table>\n",
              "</div>"
            ],
            "text/plain": [
              "   target artist_names  ... length_raw length_clean\n",
              "0       1        Lorde  ...       2485         2275\n",
              "1       1        Lorde  ...       1795         1621\n",
              "2       1        Lorde  ...       1824         1665\n",
              "3       1        Lorde  ...       1305         1157\n",
              "4       1        Lorde  ...       2386         2189\n",
              "\n",
              "[5 rows x 7 columns]"
            ]
          },
          "metadata": {
            "tags": []
          }
        }
      ]
    },
    {
      "cell_type": "code",
      "metadata": {
        "id": "D7A-9_bbENE0",
        "colab_type": "code",
        "outputId": "c6c01b0f-51d3-484d-e3d1-e3448426d1c9",
        "colab": {
          "base_uri": "https://localhost:8080/",
          "height": 443
        }
      },
      "source": [
        "display(df_lyrics[\"length_clean\"].describe())\n",
        "sns.distplot(df_lyrics[\"length_clean\"])\n",
        "plt.show()"
      ],
      "execution_count": 0,
      "outputs": [
        {
          "output_type": "display_data",
          "data": {
            "text/plain": [
              "count    1561.000000\n",
              "mean     1227.308136\n",
              "std       484.863669\n",
              "min        64.000000\n",
              "25%       873.000000\n",
              "50%      1196.000000\n",
              "75%      1521.000000\n",
              "max      2757.000000\n",
              "Name: length_clean, dtype: float64"
            ]
          },
          "metadata": {
            "tags": []
          }
        },
        {
          "output_type": "display_data",
          "data": {
            "image/png": "[encoded data removed]",
            "text/plain": [
              "<Figure size 432x288 with 1 Axes>"
            ]
          },
          "metadata": {
            "tags": []
          }
        }
      ]
    },
    {
      "cell_type": "markdown",
      "metadata": {
        "id": "7-BBqkvlEbI7",
        "colab_type": "text"
      },
      "source": [
        "### save locally"
      ]
    },
    {
      "cell_type": "code",
      "metadata": {
        "id": "XoSbHN5iEdjT",
        "colab_type": "code",
        "colab": {}
      },
      "source": [
        "#from google.colab import files\n",
        "filename = \"lyric_test_data_clean\"\n",
        "df_lyrics.to_csv(filename+\".csv\")\n",
        "#files.download(filename+\".csv\")"
      ],
      "execution_count": 0,
      "outputs": []
    },
    {
      "cell_type": "markdown",
      "metadata": {
        "id": "RJKuyYi79fw-",
        "colab_type": "text"
      },
      "source": [
        "## Parse Text"
      ]
    },
    {
      "cell_type": "code",
      "metadata": {
        "id": "-hs29cvOLdLw",
        "colab_type": "code",
        "outputId": "c7e7fab7-7689-4094-ee0a-90fe258829c4",
        "colab": {
          "base_uri": "https://localhost:8080/",
          "height": 531
        }
      },
      "source": [
        "%%time\n",
        "\n",
        "import spacy\n",
        "\n",
        "# create list to hold spaCy docs\n",
        "text_parsed = []\n",
        "text_nostops = []\n",
        "\n",
        "# parse cleaned text\n",
        "# instantiate nlp\n",
        "#nlp = spacy.load('en', disable=['parser', 'ner'])\n",
        "nlp = spacy.load('en')\n",
        "spacy_text = nlp.pipe(df_lyrics['lyrics_clean'], batch_size=10, n_threads=3)\n",
        "\n",
        "# use spaCy generator to append docs to doc list\n",
        "for text in spacy_text:\n",
        "  #text = [token.lemma_ for token in nlp(str(text))]\n",
        "  text_parsed.append([token.lemma_ for token in nlp(str(text))])\n",
        "  #text = [token.lemma_ for token in nlp(str(text)) if not token.is_stop]\n",
        "  text_nostops.append([token.lemma_ for token in nlp(str(text)) if not token.is_stop])\n",
        "\n",
        "# add spaCy docs to lyrics DF\n",
        "df_lyrics['lyrics_parsed'] = text_parsed\n",
        "df_lyrics['length_parsed'] = [len(x) for x in df_lyrics['lyrics_parsed']]\n",
        "df_lyrics['lyrics_nostops'] = text_nostops\n",
        "df_lyrics['length_nostops'] = [len(x) for x in df_lyrics['lyrics_nostops']]\n",
        "display(df_lyrics.head())"
      ],
      "execution_count": 0,
      "outputs": [
        {
          "output_type": "display_data",
          "data": {
            "text/html": [
              "<div>\n",
              "<style scoped>\n",
              "    .dataframe tbody tr th:only-of-type {\n",
              "        vertical-align: middle;\n",
              "    }\n",
              "\n",
              "    .dataframe tbody tr th {\n",
              "        vertical-align: top;\n",
              "    }\n",
              "\n",
              "    .dataframe thead th {\n",
              "        text-align: right;\n",
              "    }\n",
              "</style>\n",
              "<table border=\"1\" class=\"dataframe\">\n",
              "  <thead>\n",
              "    <tr style=\"text-align: right;\">\n",
              "      <th></th>\n",
              "      <th>id</th>\n",
              "      <th>lyrics_raw</th>\n",
              "      <th>length_raw</th>\n",
              "      <th>lyrics_clean</th>\n",
              "      <th>length_clean</th>\n",
              "      <th>lyrics_parsed</th>\n",
              "      <th>length_parsed</th>\n",
              "      <th>lyrics_nostops</th>\n",
              "      <th>length_nostops</th>\n",
              "    </tr>\n",
              "  </thead>\n",
              "  <tbody>\n",
              "    <tr>\n",
              "      <th>0</th>\n",
              "      <td>7eElVgPcxDqmgGrSwVFI74</td>\n",
              "      <td>[Intro]\\nNight, midnight, lose my mind\\nNight,...</td>\n",
              "      <td>2485.0</td>\n",
              "      <td>night midnight lose my mind night midnight lo...</td>\n",
              "      <td>2275.0</td>\n",
              "      <td>[ , night, midnight, lose, -PRON-, mind, night...</td>\n",
              "      <td>494</td>\n",
              "      <td>[ , night, midnight, lose, mind, night, midnig...</td>\n",
              "      <td>187</td>\n",
              "    </tr>\n",
              "    <tr>\n",
              "      <th>1</th>\n",
              "      <td>02oAUzv4M0ItuTDy2RT3IT</td>\n",
              "      <td>[Verse 1]\\nA couple rebel top gun pilots\\nFlyi...</td>\n",
              "      <td>1795.0</td>\n",
              "      <td>couple rebel top gun pilots flying with nowhe...</td>\n",
              "      <td>1621.0</td>\n",
              "      <td>[ , couple, rebel, top, gun, pilot, fly, with,...</td>\n",
              "      <td>309</td>\n",
              "      <td>[ , couple, rebel, gun, pilot, fly, don, know,...</td>\n",
              "      <td>169</td>\n",
              "    </tr>\n",
              "    <tr>\n",
              "      <th>2</th>\n",
              "      <td>5q4BpnMrYEFzLO0dYODj6J</td>\n",
              "      <td>[Verse 1]\\nWell, summer slipped us underneath ...</td>\n",
              "      <td>1824.0</td>\n",
              "      <td>well summer slipped us underneath her tongue ...</td>\n",
              "      <td>1665.0</td>\n",
              "      <td>[ , well, summer, slip, -PRON-, underneath, -P...</td>\n",
              "      <td>334</td>\n",
              "      <td>[ , summer, slip, underneath, tongue, day, nig...</td>\n",
              "      <td>151</td>\n",
              "    </tr>\n",
              "    <tr>\n",
              "      <th>3</th>\n",
              "      <td>6Kkt27YmFyIFrcX3QXFi2o</td>\n",
              "      <td>[Intro]\\nOne, two\\n\\n[Verse 1]\\nBaby really hu...</td>\n",
              "      <td>1305.0</td>\n",
              "      <td>one two baby really hurt me crying in the tax...</td>\n",
              "      <td>1157.0</td>\n",
              "      <td>[ , one, two, baby, really, hurt, -PRON-, cry,...</td>\n",
              "      <td>242</td>\n",
              "      <td>[ , baby, hurt, cry, taxi, don, wanna, know, s...</td>\n",
              "      <td>101</td>\n",
              "    </tr>\n",
              "    <tr>\n",
              "      <th>4</th>\n",
              "      <td>1Dp7JGFNjvg8Nk0CtMCcnr</td>\n",
              "      <td>Hard Feelings\\n\\n(Go back and tell it)\\n\\nPlea...</td>\n",
              "      <td>2386.0</td>\n",
              "      <td>hard feelings go back and tell it please could...</td>\n",
              "      <td>2189.0</td>\n",
              "      <td>[hard, feeling, go, back, and, tell, -PRON-, p...</td>\n",
              "      <td>458</td>\n",
              "      <td>[hard, feeling, tell, tender, sit, close, let,...</td>\n",
              "      <td>244</td>\n",
              "    </tr>\n",
              "  </tbody>\n",
              "</table>\n",
              "</div>"
            ],
            "text/plain": [
              "                       id  ... length_nostops\n",
              "0  7eElVgPcxDqmgGrSwVFI74  ...            187\n",
              "1  02oAUzv4M0ItuTDy2RT3IT  ...            169\n",
              "2  5q4BpnMrYEFzLO0dYODj6J  ...            151\n",
              "3  6Kkt27YmFyIFrcX3QXFi2o  ...            101\n",
              "4  1Dp7JGFNjvg8Nk0CtMCcnr  ...            244\n",
              "\n",
              "[5 rows x 9 columns]"
            ]
          },
          "metadata": {
            "tags": []
          }
        },
        {
          "output_type": "stream",
          "text": [
            "CPU times: user 3min 41s, sys: 1.75 s, total: 3min 42s\n",
            "Wall time: 3min 42s\n"
          ],
          "name": "stdout"
        }
      ]
    },
    {
      "cell_type": "code",
      "metadata": {
        "id": "wA36lw1b9EUR",
        "colab_type": "code",
        "outputId": "bfc06acf-273d-41fc-a10b-e912123d9673",
        "colab": {
          "base_uri": "https://localhost:8080/",
          "height": 74
        }
      },
      "source": [
        "type(df_lyrics[\"lyrics_parsed\"])\n",
        "print(len(df_lyrics[\"lyrics_parsed\"][0]))\n",
        "print(df_lyrics[\"lyrics_parsed\"][0][:200])"
      ],
      "execution_count": 0,
      "outputs": [
        {
          "output_type": "stream",
          "text": [
            "494\n",
            "[' ', 'night', 'midnight', 'lose', '-PRON-', 'mind', 'night', 'midnight', 'lose', '-PRON-', 'mind', 'night', 'midnight', 'lose', '-PRON-', 'mind', 'when', '-PRON-', 'get', 'to', '-PRON-', 'high', 'when', '-PRON-', 'get', 'to', '-PRON-', 'night', 'midnight', 'oh', 'god', 'm', 'clean', 'out', 'of', 'air', 'in', '-PRON-', 'lung', '-PRON-', 'all', 'go', 'play', '-PRON-', 'so', 'nonchalant', '-PRON-', 'time', '-PRON-', 'dance', 'with', 'the', 'truth', 'move', 'alone', 'with', 'the', 'truth', 'ooh', 'hey', '-PRON-', 're', 'sleep', 'through', 'all', 'the', 'day', 'm', 'act', 'like', 'don', 'see', 'every', 'ribbon', '-PRON-', 'use', 'to', 'tie', '-PRON-', 'to', '-PRON-', 'pre', 'but', '-PRON-', 'hip', 'have', 'miss', '-PRON-', 'hip', 'so', 'let', 'get', 'to', 'know', 'the', 'kick', 'will', '-PRON-', 'sway', 'with', '-PRON-', 'go', 'astray', 'with', '-PRON-', 'ah', 'ha', '-PRON-', 're', 'king', 'and', 'queen', 'of', 'the', 'weekend', 'ain', 'a', 'pill', 'that', 'could', 'touch', '-PRON-', 'rush', 'but', 'what', 'will', '-PRON-', 'do', 'when', '-PRON-', 're', 'sober', 'when', '-PRON-', 'dream', 'with', 'fever', 'bet', '-PRON-', 'wish', '-PRON-', 'could', 'touch', '-PRON-', 'rush', 'but', 'what', 'will', '-PRON-', 'do', 'when', '-PRON-', 're', 'sober', 'these', 'be', 'the', 'game', 'of', 'the', 'weekend', '-PRON-', 'pretend', 'that', '-PRON-', 'just', 'don', 'care', 'but', '-PRON-', 'care', 'but', 'what', 'will', '-PRON-', 'do', 'when', '-PRON-', 're', 'sober', 'when', '-PRON-', 'dream', 'with', 'fever', 'bet', '-PRON-', 'wish', '-PRON-', 'could', 'touch', '-PRON-', 'rush', 'but', 'what', 'will', '-PRON-', 'do', 'when', '-PRON-']\n"
          ],
          "name": "stdout"
        }
      ]
    },
    {
      "cell_type": "code",
      "metadata": {
        "id": "4qDS_12e6rC-",
        "colab_type": "code",
        "outputId": "c8e15be6-026c-439d-e98d-51cb75d46131",
        "colab": {
          "base_uri": "https://localhost:8080/",
          "height": 448
        }
      },
      "source": [
        "display(df_lyrics['length_parsed'].describe())\n",
        "sns.distplot(df_lyrics[\"length_parsed\"])\n",
        "plt.show()"
      ],
      "execution_count": 0,
      "outputs": [
        {
          "output_type": "display_data",
          "data": {
            "text/plain": [
              "count    3502.000000\n",
              "mean      114.083381\n",
              "std       143.294921\n",
              "min         1.000000\n",
              "25%         1.000000\n",
              "50%         1.000000\n",
              "75%       233.000000\n",
              "max       564.000000\n",
              "Name: length_parsed, dtype: float64"
            ]
          },
          "metadata": {
            "tags": []
          }
        },
        {
          "output_type": "display_data",
          "data": {
            "image/png": "[encoded data removed]",
            "text/plain": [
              "<Figure size 432x288 with 1 Axes>"
            ]
          },
          "metadata": {
            "tags": []
          }
        }
      ]
    },
    {
      "cell_type": "markdown",
      "metadata": {
        "colab_type": "text",
        "id": "8jh_HuEPFODw"
      },
      "source": [
        "### save locally"
      ]
    },
    {
      "cell_type": "code",
      "metadata": {
        "colab_type": "code",
        "id": "-_HRhZUgFOD6",
        "colab": {}
      },
      "source": [
        "from google.colab import files\n",
        "filename = \"lyric_test_data_parsed\"\n",
        "df_lyrics.to_csv(filename+\".csv\")\n",
        "files.download(filename+\".csv\")"
      ],
      "execution_count": 0,
      "outputs": []
    },
    {
      "cell_type": "markdown",
      "metadata": {
        "id": "wWQlcZtH9ZWe",
        "colab_type": "text"
      },
      "source": [
        "## Feature Extraction"
      ]
    },
    {
      "cell_type": "markdown",
      "metadata": {
        "id": "eOg5QIbE9bqy",
        "colab_type": "text"
      },
      "source": [
        "### Bag of Words"
      ]
    },
    {
      "cell_type": "code",
      "metadata": {
        "id": "Lkf6MQVC9dHr",
        "colab_type": "code",
        "outputId": "dabc35c6-a340-4de0-9b40-47e58b637539",
        "colab": {
          "base_uri": "https://localhost:8080/",
          "height": 126
        }
      },
      "source": [
        "all_words = []\n",
        "for text in df_lyrics['lyrics_nostops']:\n",
        "  for word in text:\n",
        "    all_words.append(word)\n",
        "    \n",
        "all_words.remove(\"-PRON-\")\n",
        "all_words.remove(\" \")\n",
        "all_words.remove(\"nan\")\n",
        "print(len(all_words))\n",
        "print(all_words[:10])\n",
        "\n",
        "from collections import Counter\n",
        "common_words = [word[0] for word in Counter(all_words).most_common(200)]\n",
        "print(len(common_words))\n",
        "print(type(common_words))\n",
        "print(type(common_words[0]))\n",
        "print(common_words[:10])"
      ],
      "execution_count": 0,
      "outputs": [
        {
          "output_type": "stream",
          "text": [
            "185588\n",
            "['night', 'midnight', 'lose', 'mind', 'night', 'midnight', 'lose', 'mind', 'night', 'midnight']\n",
            "200\n",
            "<class 'list'>\n",
            "<class 'str'>\n",
            "['m', 'oh', 'know', 'don', 'love', 'like', 'will', 'get', 'go', 'nan']\n"
          ],
          "name": "stdout"
        }
      ]
    },
    {
      "cell_type": "code",
      "metadata": {
        "id": "NGbQ-kRd9xAH",
        "colab_type": "code",
        "outputId": "230466f7-7e9e-4854-b107-fbc68d0b9978",
        "colab": {
          "base_uri": "https://localhost:8080/",
          "height": 355
        }
      },
      "source": [
        "word_counts = pd.concat([df_lyrics['id'], pd.DataFrame(columns=common_words)], axis=1)\n",
        "word_counts.loc[:, common_words] = 0\n",
        "\n",
        "display(word_counts.columns)\n",
        "word_counts.head()"
      ],
      "execution_count": 0,
      "outputs": [
        {
          "output_type": "display_data",
          "data": {
            "text/plain": [
              "Index(['id', 'm', 'oh', 'know', 'don', 'love', 'like', 'will', 'get', 'go',\n",
              "       ...\n",
              "       'pain', 'sound', 'keep', 'help', 'chase', 'city', 'fine', 'morning',\n",
              "       'sing', 'drop'],\n",
              "      dtype='object', length=201)"
            ]
          },
          "metadata": {
            "tags": []
          }
        },
        {
          "output_type": "execute_result",
          "data": {
            "text/html": [
              "<div>\n",
              "<style scoped>\n",
              "    .dataframe tbody tr th:only-of-type {\n",
              "        vertical-align: middle;\n",
              "    }\n",
              "\n",
              "    .dataframe tbody tr th {\n",
              "        vertical-align: top;\n",
              "    }\n",
              "\n",
              "    .dataframe thead th {\n",
              "        text-align: right;\n",
              "    }\n",
              "</style>\n",
              "<table border=\"1\" class=\"dataframe\">\n",
              "  <thead>\n",
              "    <tr style=\"text-align: right;\">\n",
              "      <th></th>\n",
              "      <th>id</th>\n",
              "      <th>m</th>\n",
              "      <th>oh</th>\n",
              "      <th>know</th>\n",
              "      <th>don</th>\n",
              "      <th>love</th>\n",
              "      <th>like</th>\n",
              "      <th>will</th>\n",
              "      <th>get</th>\n",
              "      <th>go</th>\n",
              "      <th>nan</th>\n",
              "      <th>come</th>\n",
              "      <th>let</th>\n",
              "      <th>time</th>\n",
              "      <th>ve</th>\n",
              "      <th>feel</th>\n",
              "      <th>want</th>\n",
              "      <th>to</th>\n",
              "      <th>cause</th>\n",
              "      <th>wanna</th>\n",
              "      <th>yeah</th>\n",
              "      <th>heart</th>\n",
              "      <th>think</th>\n",
              "      <th>tell</th>\n",
              "      <th></th>\n",
              "      <th>way</th>\n",
              "      <th>need</th>\n",
              "      <th>away</th>\n",
              "      <th>win</th>\n",
              "      <th>pre</th>\n",
              "      <th>right</th>\n",
              "      <th>fall</th>\n",
              "      <th>night</th>\n",
              "      <th>baby</th>\n",
              "      <th>leave</th>\n",
              "      <th>run</th>\n",
              "      <th>ain</th>\n",
              "      <th>hold</th>\n",
              "      <th>good</th>\n",
              "      <th>look</th>\n",
              "      <th>...</th>\n",
              "      <th>tear</th>\n",
              "      <th>ground</th>\n",
              "      <th>road</th>\n",
              "      <th>-PRON-</th>\n",
              "      <th>catch</th>\n",
              "      <th>gold</th>\n",
              "      <th>black</th>\n",
              "      <th>call</th>\n",
              "      <th>town</th>\n",
              "      <th>people</th>\n",
              "      <th>ghost</th>\n",
              "      <th>post</th>\n",
              "      <th>matter</th>\n",
              "      <th>big</th>\n",
              "      <th>well</th>\n",
              "      <th>better</th>\n",
              "      <th>touch</th>\n",
              "      <th>body</th>\n",
              "      <th>shine</th>\n",
              "      <th>ask</th>\n",
              "      <th>slow</th>\n",
              "      <th>round</th>\n",
              "      <th>sweet</th>\n",
              "      <th>kid</th>\n",
              "      <th>white</th>\n",
              "      <th>easy</th>\n",
              "      <th>feeling</th>\n",
              "      <th>blow</th>\n",
              "      <th>waste</th>\n",
              "      <th>money</th>\n",
              "      <th>pain</th>\n",
              "      <th>sound</th>\n",
              "      <th>keep</th>\n",
              "      <th>help</th>\n",
              "      <th>chase</th>\n",
              "      <th>city</th>\n",
              "      <th>fine</th>\n",
              "      <th>morning</th>\n",
              "      <th>sing</th>\n",
              "      <th>drop</th>\n",
              "    </tr>\n",
              "  </thead>\n",
              "  <tbody>\n",
              "    <tr>\n",
              "      <th>0</th>\n",
              "      <td>7eElVgPcxDqmgGrSwVFI74</td>\n",
              "      <td>0</td>\n",
              "      <td>0</td>\n",
              "      <td>0</td>\n",
              "      <td>0</td>\n",
              "      <td>0</td>\n",
              "      <td>0</td>\n",
              "      <td>0</td>\n",
              "      <td>0</td>\n",
              "      <td>0</td>\n",
              "      <td>0</td>\n",
              "      <td>0</td>\n",
              "      <td>0</td>\n",
              "      <td>0</td>\n",
              "      <td>0</td>\n",
              "      <td>0</td>\n",
              "      <td>0</td>\n",
              "      <td>0</td>\n",
              "      <td>0</td>\n",
              "      <td>0</td>\n",
              "      <td>0</td>\n",
              "      <td>0</td>\n",
              "      <td>0</td>\n",
              "      <td>0</td>\n",
              "      <td>0</td>\n",
              "      <td>0</td>\n",
              "      <td>0</td>\n",
              "      <td>0</td>\n",
              "      <td>0</td>\n",
              "      <td>0</td>\n",
              "      <td>0</td>\n",
              "      <td>0</td>\n",
              "      <td>0</td>\n",
              "      <td>0</td>\n",
              "      <td>0</td>\n",
              "      <td>0</td>\n",
              "      <td>0</td>\n",
              "      <td>0</td>\n",
              "      <td>0</td>\n",
              "      <td>0</td>\n",
              "      <td>...</td>\n",
              "      <td>0</td>\n",
              "      <td>0</td>\n",
              "      <td>0</td>\n",
              "      <td>0</td>\n",
              "      <td>0</td>\n",
              "      <td>0</td>\n",
              "      <td>0</td>\n",
              "      <td>0</td>\n",
              "      <td>0</td>\n",
              "      <td>0</td>\n",
              "      <td>0</td>\n",
              "      <td>0</td>\n",
              "      <td>0</td>\n",
              "      <td>0</td>\n",
              "      <td>0</td>\n",
              "      <td>0</td>\n",
              "      <td>0</td>\n",
              "      <td>0</td>\n",
              "      <td>0</td>\n",
              "      <td>0</td>\n",
              "      <td>0</td>\n",
              "      <td>0</td>\n",
              "      <td>0</td>\n",
              "      <td>0</td>\n",
              "      <td>0</td>\n",
              "      <td>0</td>\n",
              "      <td>0</td>\n",
              "      <td>0</td>\n",
              "      <td>0</td>\n",
              "      <td>0</td>\n",
              "      <td>0</td>\n",
              "      <td>0</td>\n",
              "      <td>0</td>\n",
              "      <td>0</td>\n",
              "      <td>0</td>\n",
              "      <td>0</td>\n",
              "      <td>0</td>\n",
              "      <td>0</td>\n",
              "      <td>0</td>\n",
              "      <td>0</td>\n",
              "    </tr>\n",
              "    <tr>\n",
              "      <th>1</th>\n",
              "      <td>02oAUzv4M0ItuTDy2RT3IT</td>\n",
              "      <td>0</td>\n",
              "      <td>0</td>\n",
              "      <td>0</td>\n",
              "      <td>0</td>\n",
              "      <td>0</td>\n",
              "      <td>0</td>\n",
              "      <td>0</td>\n",
              "      <td>0</td>\n",
              "      <td>0</td>\n",
              "      <td>0</td>\n",
              "      <td>0</td>\n",
              "      <td>0</td>\n",
              "      <td>0</td>\n",
              "      <td>0</td>\n",
              "      <td>0</td>\n",
              "      <td>0</td>\n",
              "      <td>0</td>\n",
              "      <td>0</td>\n",
              "      <td>0</td>\n",
              "      <td>0</td>\n",
              "      <td>0</td>\n",
              "      <td>0</td>\n",
              "      <td>0</td>\n",
              "      <td>0</td>\n",
              "      <td>0</td>\n",
              "      <td>0</td>\n",
              "      <td>0</td>\n",
              "      <td>0</td>\n",
              "      <td>0</td>\n",
              "      <td>0</td>\n",
              "      <td>0</td>\n",
              "      <td>0</td>\n",
              "      <td>0</td>\n",
              "      <td>0</td>\n",
              "      <td>0</td>\n",
              "      <td>0</td>\n",
              "      <td>0</td>\n",
              "      <td>0</td>\n",
              "      <td>0</td>\n",
              "      <td>...</td>\n",
              "      <td>0</td>\n",
              "      <td>0</td>\n",
              "      <td>0</td>\n",
              "      <td>0</td>\n",
              "      <td>0</td>\n",
              "      <td>0</td>\n",
              "      <td>0</td>\n",
              "      <td>0</td>\n",
              "      <td>0</td>\n",
              "      <td>0</td>\n",
              "      <td>0</td>\n",
              "      <td>0</td>\n",
              "      <td>0</td>\n",
              "      <td>0</td>\n",
              "      <td>0</td>\n",
              "      <td>0</td>\n",
              "      <td>0</td>\n",
              "      <td>0</td>\n",
              "      <td>0</td>\n",
              "      <td>0</td>\n",
              "      <td>0</td>\n",
              "      <td>0</td>\n",
              "      <td>0</td>\n",
              "      <td>0</td>\n",
              "      <td>0</td>\n",
              "      <td>0</td>\n",
              "      <td>0</td>\n",
              "      <td>0</td>\n",
              "      <td>0</td>\n",
              "      <td>0</td>\n",
              "      <td>0</td>\n",
              "      <td>0</td>\n",
              "      <td>0</td>\n",
              "      <td>0</td>\n",
              "      <td>0</td>\n",
              "      <td>0</td>\n",
              "      <td>0</td>\n",
              "      <td>0</td>\n",
              "      <td>0</td>\n",
              "      <td>0</td>\n",
              "    </tr>\n",
              "    <tr>\n",
              "      <th>2</th>\n",
              "      <td>5q4BpnMrYEFzLO0dYODj6J</td>\n",
              "      <td>0</td>\n",
              "      <td>0</td>\n",
              "      <td>0</td>\n",
              "      <td>0</td>\n",
              "      <td>0</td>\n",
              "      <td>0</td>\n",
              "      <td>0</td>\n",
              "      <td>0</td>\n",
              "      <td>0</td>\n",
              "      <td>0</td>\n",
              "      <td>0</td>\n",
              "      <td>0</td>\n",
              "      <td>0</td>\n",
              "      <td>0</td>\n",
              "      <td>0</td>\n",
              "      <td>0</td>\n",
              "      <td>0</td>\n",
              "      <td>0</td>\n",
              "      <td>0</td>\n",
              "      <td>0</td>\n",
              "      <td>0</td>\n",
              "      <td>0</td>\n",
              "      <td>0</td>\n",
              "      <td>0</td>\n",
              "      <td>0</td>\n",
              "      <td>0</td>\n",
              "      <td>0</td>\n",
              "      <td>0</td>\n",
              "      <td>0</td>\n",
              "      <td>0</td>\n",
              "      <td>0</td>\n",
              "      <td>0</td>\n",
              "      <td>0</td>\n",
              "      <td>0</td>\n",
              "      <td>0</td>\n",
              "      <td>0</td>\n",
              "      <td>0</td>\n",
              "      <td>0</td>\n",
              "      <td>0</td>\n",
              "      <td>...</td>\n",
              "      <td>0</td>\n",
              "      <td>0</td>\n",
              "      <td>0</td>\n",
              "      <td>0</td>\n",
              "      <td>0</td>\n",
              "      <td>0</td>\n",
              "      <td>0</td>\n",
              "      <td>0</td>\n",
              "      <td>0</td>\n",
              "      <td>0</td>\n",
              "      <td>0</td>\n",
              "      <td>0</td>\n",
              "      <td>0</td>\n",
              "      <td>0</td>\n",
              "      <td>0</td>\n",
              "      <td>0</td>\n",
              "      <td>0</td>\n",
              "      <td>0</td>\n",
              "      <td>0</td>\n",
              "      <td>0</td>\n",
              "      <td>0</td>\n",
              "      <td>0</td>\n",
              "      <td>0</td>\n",
              "      <td>0</td>\n",
              "      <td>0</td>\n",
              "      <td>0</td>\n",
              "      <td>0</td>\n",
              "      <td>0</td>\n",
              "      <td>0</td>\n",
              "      <td>0</td>\n",
              "      <td>0</td>\n",
              "      <td>0</td>\n",
              "      <td>0</td>\n",
              "      <td>0</td>\n",
              "      <td>0</td>\n",
              "      <td>0</td>\n",
              "      <td>0</td>\n",
              "      <td>0</td>\n",
              "      <td>0</td>\n",
              "      <td>0</td>\n",
              "    </tr>\n",
              "    <tr>\n",
              "      <th>3</th>\n",
              "      <td>6Kkt27YmFyIFrcX3QXFi2o</td>\n",
              "      <td>0</td>\n",
              "      <td>0</td>\n",
              "      <td>0</td>\n",
              "      <td>0</td>\n",
              "      <td>0</td>\n",
              "      <td>0</td>\n",
              "      <td>0</td>\n",
              "      <td>0</td>\n",
              "      <td>0</td>\n",
              "      <td>0</td>\n",
              "      <td>0</td>\n",
              "      <td>0</td>\n",
              "      <td>0</td>\n",
              "      <td>0</td>\n",
              "      <td>0</td>\n",
              "      <td>0</td>\n",
              "      <td>0</td>\n",
              "      <td>0</td>\n",
              "      <td>0</td>\n",
              "      <td>0</td>\n",
              "      <td>0</td>\n",
              "      <td>0</td>\n",
              "      <td>0</td>\n",
              "      <td>0</td>\n",
              "      <td>0</td>\n",
              "      <td>0</td>\n",
              "      <td>0</td>\n",
              "      <td>0</td>\n",
              "      <td>0</td>\n",
              "      <td>0</td>\n",
              "      <td>0</td>\n",
              "      <td>0</td>\n",
              "      <td>0</td>\n",
              "      <td>0</td>\n",
              "      <td>0</td>\n",
              "      <td>0</td>\n",
              "      <td>0</td>\n",
              "      <td>0</td>\n",
              "      <td>0</td>\n",
              "      <td>...</td>\n",
              "      <td>0</td>\n",
              "      <td>0</td>\n",
              "      <td>0</td>\n",
              "      <td>0</td>\n",
              "      <td>0</td>\n",
              "      <td>0</td>\n",
              "      <td>0</td>\n",
              "      <td>0</td>\n",
              "      <td>0</td>\n",
              "      <td>0</td>\n",
              "      <td>0</td>\n",
              "      <td>0</td>\n",
              "      <td>0</td>\n",
              "      <td>0</td>\n",
              "      <td>0</td>\n",
              "      <td>0</td>\n",
              "      <td>0</td>\n",
              "      <td>0</td>\n",
              "      <td>0</td>\n",
              "      <td>0</td>\n",
              "      <td>0</td>\n",
              "      <td>0</td>\n",
              "      <td>0</td>\n",
              "      <td>0</td>\n",
              "      <td>0</td>\n",
              "      <td>0</td>\n",
              "      <td>0</td>\n",
              "      <td>0</td>\n",
              "      <td>0</td>\n",
              "      <td>0</td>\n",
              "      <td>0</td>\n",
              "      <td>0</td>\n",
              "      <td>0</td>\n",
              "      <td>0</td>\n",
              "      <td>0</td>\n",
              "      <td>0</td>\n",
              "      <td>0</td>\n",
              "      <td>0</td>\n",
              "      <td>0</td>\n",
              "      <td>0</td>\n",
              "    </tr>\n",
              "    <tr>\n",
              "      <th>4</th>\n",
              "      <td>1Dp7JGFNjvg8Nk0CtMCcnr</td>\n",
              "      <td>0</td>\n",
              "      <td>0</td>\n",
              "      <td>0</td>\n",
              "      <td>0</td>\n",
              "      <td>0</td>\n",
              "      <td>0</td>\n",
              "      <td>0</td>\n",
              "      <td>0</td>\n",
              "      <td>0</td>\n",
              "      <td>0</td>\n",
              "      <td>0</td>\n",
              "      <td>0</td>\n",
              "      <td>0</td>\n",
              "      <td>0</td>\n",
              "      <td>0</td>\n",
              "      <td>0</td>\n",
              "      <td>0</td>\n",
              "      <td>0</td>\n",
              "      <td>0</td>\n",
              "      <td>0</td>\n",
              "      <td>0</td>\n",
              "      <td>0</td>\n",
              "      <td>0</td>\n",
              "      <td>0</td>\n",
              "      <td>0</td>\n",
              "      <td>0</td>\n",
              "      <td>0</td>\n",
              "      <td>0</td>\n",
              "      <td>0</td>\n",
              "      <td>0</td>\n",
              "      <td>0</td>\n",
              "      <td>0</td>\n",
              "      <td>0</td>\n",
              "      <td>0</td>\n",
              "      <td>0</td>\n",
              "      <td>0</td>\n",
              "      <td>0</td>\n",
              "      <td>0</td>\n",
              "      <td>0</td>\n",
              "      <td>...</td>\n",
              "      <td>0</td>\n",
              "      <td>0</td>\n",
              "      <td>0</td>\n",
              "      <td>0</td>\n",
              "      <td>0</td>\n",
              "      <td>0</td>\n",
              "      <td>0</td>\n",
              "      <td>0</td>\n",
              "      <td>0</td>\n",
              "      <td>0</td>\n",
              "      <td>0</td>\n",
              "      <td>0</td>\n",
              "      <td>0</td>\n",
              "      <td>0</td>\n",
              "      <td>0</td>\n",
              "      <td>0</td>\n",
              "      <td>0</td>\n",
              "      <td>0</td>\n",
              "      <td>0</td>\n",
              "      <td>0</td>\n",
              "      <td>0</td>\n",
              "      <td>0</td>\n",
              "      <td>0</td>\n",
              "      <td>0</td>\n",
              "      <td>0</td>\n",
              "      <td>0</td>\n",
              "      <td>0</td>\n",
              "      <td>0</td>\n",
              "      <td>0</td>\n",
              "      <td>0</td>\n",
              "      <td>0</td>\n",
              "      <td>0</td>\n",
              "      <td>0</td>\n",
              "      <td>0</td>\n",
              "      <td>0</td>\n",
              "      <td>0</td>\n",
              "      <td>0</td>\n",
              "      <td>0</td>\n",
              "      <td>0</td>\n",
              "      <td>0</td>\n",
              "    </tr>\n",
              "  </tbody>\n",
              "</table>\n",
              "<p>5 rows × 201 columns</p>\n",
              "</div>"
            ],
            "text/plain": [
              "                       id  m oh know don love  ... chase city fine morning sing drop\n",
              "0  7eElVgPcxDqmgGrSwVFI74  0  0    0   0    0  ...     0    0    0       0    0    0\n",
              "1  02oAUzv4M0ItuTDy2RT3IT  0  0    0   0    0  ...     0    0    0       0    0    0\n",
              "2  5q4BpnMrYEFzLO0dYODj6J  0  0    0   0    0  ...     0    0    0       0    0    0\n",
              "3  6Kkt27YmFyIFrcX3QXFi2o  0  0    0   0    0  ...     0    0    0       0    0    0\n",
              "4  1Dp7JGFNjvg8Nk0CtMCcnr  0  0    0   0    0  ...     0    0    0       0    0    0\n",
              "\n",
              "[5 rows x 201 columns]"
            ]
          },
          "metadata": {
            "tags": []
          },
          "execution_count": 15
        }
      ]
    },
    {
      "cell_type": "code",
      "metadata": {
        "id": "rBx-j_KG-E0Z",
        "colab_type": "code",
        "outputId": "a6e38660-eaa4-4fa6-ae2c-5828ee9bec69",
        "colab": {
          "base_uri": "https://localhost:8080/",
          "height": 1000
        }
      },
      "source": [
        "%%time\n",
        "# Create our data frame with features. This can take a while to run.\n",
        "\n",
        "# Process each row, counting the occurrence of words in each sentence.\n",
        "for i, text in enumerate(df_lyrics['lyrics_nostops']):\n",
        "\n",
        "  words = [word for word in text if word in common_words]\n",
        "\n",
        "  # Populate the row with word counts.\n",
        "  for word in words:\n",
        "    word_counts.loc[i, word] += 1\n",
        "\n",
        "  # This counter is just to make sure the kernel didn't hang.\n",
        "  if i % 50 == 0:\n",
        "    print(\"Processing row {}\".format(i))"
      ],
      "execution_count": 0,
      "outputs": [
        {
          "output_type": "stream",
          "text": [
            "Processing row 0\n",
            "Processing row 50\n",
            "Processing row 100\n",
            "Processing row 150\n",
            "Processing row 200\n",
            "Processing row 250\n",
            "Processing row 300\n",
            "Processing row 350\n",
            "Processing row 400\n",
            "Processing row 450\n",
            "Processing row 500\n",
            "Processing row 550\n",
            "Processing row 600\n",
            "Processing row 650\n",
            "Processing row 700\n",
            "Processing row 750\n",
            "Processing row 800\n",
            "Processing row 850\n",
            "Processing row 900\n",
            "Processing row 950\n",
            "Processing row 1000\n",
            "Processing row 1050\n",
            "Processing row 1100\n",
            "Processing row 1150\n",
            "Processing row 1200\n",
            "Processing row 1250\n",
            "Processing row 1300\n",
            "Processing row 1350\n",
            "Processing row 1400\n",
            "Processing row 1450\n",
            "Processing row 1500\n",
            "Processing row 1550\n",
            "Processing row 1600\n",
            "Processing row 1650\n",
            "Processing row 1700\n",
            "Processing row 1750\n",
            "Processing row 1800\n",
            "Processing row 1850\n",
            "Processing row 1900\n",
            "Processing row 1950\n",
            "Processing row 2000\n",
            "Processing row 2050\n",
            "Processing row 2100\n",
            "Processing row 2150\n",
            "Processing row 2200\n",
            "Processing row 2250\n",
            "Processing row 2300\n",
            "Processing row 2350\n",
            "Processing row 2400\n",
            "Processing row 2450\n",
            "Processing row 2500\n",
            "Processing row 2550\n",
            "Processing row 2600\n",
            "Processing row 2650\n",
            "Processing row 2700\n",
            "Processing row 2750\n",
            "Processing row 2800\n",
            "Processing row 2850\n",
            "Processing row 2900\n",
            "Processing row 2950\n",
            "Processing row 3000\n",
            "Processing row 3050\n",
            "Processing row 3100\n",
            "Processing row 3150\n",
            "Processing row 3200\n",
            "Processing row 3250\n",
            "Processing row 3300\n",
            "Processing row 3350\n",
            "Processing row 3400\n",
            "Processing row 3450\n",
            "Processing row 3500\n",
            "CPU times: user 21min 59s, sys: 13.2 s, total: 22min 12s\n",
            "Wall time: 22min 12s\n"
          ],
          "name": "stdout"
        }
      ]
    },
    {
      "cell_type": "code",
      "metadata": {
        "id": "I7UmeOjS-Qmj",
        "colab_type": "code",
        "outputId": "ec98a1ba-689f-435c-e557-8491a4bd8991",
        "colab": {
          "base_uri": "https://localhost:8080/",
          "height": 265
        }
      },
      "source": [
        "word_counts.head()"
      ],
      "execution_count": 0,
      "outputs": [
        {
          "output_type": "execute_result",
          "data": {
            "text/html": [
              "<div>\n",
              "<style scoped>\n",
              "    .dataframe tbody tr th:only-of-type {\n",
              "        vertical-align: middle;\n",
              "    }\n",
              "\n",
              "    .dataframe tbody tr th {\n",
              "        vertical-align: top;\n",
              "    }\n",
              "\n",
              "    .dataframe thead th {\n",
              "        text-align: right;\n",
              "    }\n",
              "</style>\n",
              "<table border=\"1\" class=\"dataframe\">\n",
              "  <thead>\n",
              "    <tr style=\"text-align: right;\">\n",
              "      <th></th>\n",
              "      <th>id</th>\n",
              "      <th>m</th>\n",
              "      <th>oh</th>\n",
              "      <th>know</th>\n",
              "      <th>don</th>\n",
              "      <th>love</th>\n",
              "      <th>like</th>\n",
              "      <th>will</th>\n",
              "      <th>get</th>\n",
              "      <th>go</th>\n",
              "      <th>nan</th>\n",
              "      <th>come</th>\n",
              "      <th>let</th>\n",
              "      <th>time</th>\n",
              "      <th>ve</th>\n",
              "      <th>feel</th>\n",
              "      <th>want</th>\n",
              "      <th>to</th>\n",
              "      <th>cause</th>\n",
              "      <th>wanna</th>\n",
              "      <th>yeah</th>\n",
              "      <th>heart</th>\n",
              "      <th>think</th>\n",
              "      <th>tell</th>\n",
              "      <th></th>\n",
              "      <th>way</th>\n",
              "      <th>need</th>\n",
              "      <th>away</th>\n",
              "      <th>win</th>\n",
              "      <th>pre</th>\n",
              "      <th>right</th>\n",
              "      <th>fall</th>\n",
              "      <th>night</th>\n",
              "      <th>baby</th>\n",
              "      <th>leave</th>\n",
              "      <th>run</th>\n",
              "      <th>ain</th>\n",
              "      <th>hold</th>\n",
              "      <th>good</th>\n",
              "      <th>look</th>\n",
              "      <th>...</th>\n",
              "      <th>tear</th>\n",
              "      <th>ground</th>\n",
              "      <th>road</th>\n",
              "      <th>-PRON-</th>\n",
              "      <th>catch</th>\n",
              "      <th>gold</th>\n",
              "      <th>black</th>\n",
              "      <th>call</th>\n",
              "      <th>town</th>\n",
              "      <th>people</th>\n",
              "      <th>ghost</th>\n",
              "      <th>post</th>\n",
              "      <th>matter</th>\n",
              "      <th>big</th>\n",
              "      <th>well</th>\n",
              "      <th>better</th>\n",
              "      <th>touch</th>\n",
              "      <th>body</th>\n",
              "      <th>shine</th>\n",
              "      <th>ask</th>\n",
              "      <th>slow</th>\n",
              "      <th>round</th>\n",
              "      <th>sweet</th>\n",
              "      <th>kid</th>\n",
              "      <th>white</th>\n",
              "      <th>easy</th>\n",
              "      <th>feeling</th>\n",
              "      <th>blow</th>\n",
              "      <th>waste</th>\n",
              "      <th>money</th>\n",
              "      <th>pain</th>\n",
              "      <th>sound</th>\n",
              "      <th>keep</th>\n",
              "      <th>help</th>\n",
              "      <th>chase</th>\n",
              "      <th>city</th>\n",
              "      <th>fine</th>\n",
              "      <th>morning</th>\n",
              "      <th>sing</th>\n",
              "      <th>drop</th>\n",
              "    </tr>\n",
              "  </thead>\n",
              "  <tbody>\n",
              "    <tr>\n",
              "      <th>0</th>\n",
              "      <td>7eElVgPcxDqmgGrSwVFI74</td>\n",
              "      <td>3</td>\n",
              "      <td>4</td>\n",
              "      <td>6</td>\n",
              "      <td>3</td>\n",
              "      <td>0</td>\n",
              "      <td>1</td>\n",
              "      <td>3</td>\n",
              "      <td>0</td>\n",
              "      <td>1</td>\n",
              "      <td>0</td>\n",
              "      <td>0</td>\n",
              "      <td>2</td>\n",
              "      <td>1</td>\n",
              "      <td>0</td>\n",
              "      <td>3</td>\n",
              "      <td>0</td>\n",
              "      <td>0</td>\n",
              "      <td>0</td>\n",
              "      <td>0</td>\n",
              "      <td>0</td>\n",
              "      <td>1</td>\n",
              "      <td>0</td>\n",
              "      <td>0</td>\n",
              "      <td>1</td>\n",
              "      <td>0</td>\n",
              "      <td>0</td>\n",
              "      <td>0</td>\n",
              "      <td>0</td>\n",
              "      <td>2</td>\n",
              "      <td>0</td>\n",
              "      <td>0</td>\n",
              "      <td>4</td>\n",
              "      <td>0</td>\n",
              "      <td>1</td>\n",
              "      <td>0</td>\n",
              "      <td>2</td>\n",
              "      <td>0</td>\n",
              "      <td>0</td>\n",
              "      <td>0</td>\n",
              "      <td>...</td>\n",
              "      <td>0</td>\n",
              "      <td>0</td>\n",
              "      <td>0</td>\n",
              "      <td>0</td>\n",
              "      <td>0</td>\n",
              "      <td>0</td>\n",
              "      <td>0</td>\n",
              "      <td>0</td>\n",
              "      <td>0</td>\n",
              "      <td>0</td>\n",
              "      <td>0</td>\n",
              "      <td>0</td>\n",
              "      <td>0</td>\n",
              "      <td>0</td>\n",
              "      <td>0</td>\n",
              "      <td>0</td>\n",
              "      <td>6</td>\n",
              "      <td>1</td>\n",
              "      <td>0</td>\n",
              "      <td>0</td>\n",
              "      <td>0</td>\n",
              "      <td>0</td>\n",
              "      <td>0</td>\n",
              "      <td>0</td>\n",
              "      <td>0</td>\n",
              "      <td>0</td>\n",
              "      <td>0</td>\n",
              "      <td>0</td>\n",
              "      <td>0</td>\n",
              "      <td>0</td>\n",
              "      <td>0</td>\n",
              "      <td>0</td>\n",
              "      <td>0</td>\n",
              "      <td>0</td>\n",
              "      <td>0</td>\n",
              "      <td>0</td>\n",
              "      <td>0</td>\n",
              "      <td>2</td>\n",
              "      <td>0</td>\n",
              "      <td>0</td>\n",
              "    </tr>\n",
              "    <tr>\n",
              "      <th>1</th>\n",
              "      <td>02oAUzv4M0ItuTDy2RT3IT</td>\n",
              "      <td>0</td>\n",
              "      <td>0</td>\n",
              "      <td>4</td>\n",
              "      <td>1</td>\n",
              "      <td>2</td>\n",
              "      <td>0</td>\n",
              "      <td>4</td>\n",
              "      <td>0</td>\n",
              "      <td>1</td>\n",
              "      <td>0</td>\n",
              "      <td>3</td>\n",
              "      <td>6</td>\n",
              "      <td>0</td>\n",
              "      <td>0</td>\n",
              "      <td>0</td>\n",
              "      <td>0</td>\n",
              "      <td>1</td>\n",
              "      <td>0</td>\n",
              "      <td>0</td>\n",
              "      <td>1</td>\n",
              "      <td>0</td>\n",
              "      <td>3</td>\n",
              "      <td>3</td>\n",
              "      <td>1</td>\n",
              "      <td>0</td>\n",
              "      <td>0</td>\n",
              "      <td>0</td>\n",
              "      <td>0</td>\n",
              "      <td>2</td>\n",
              "      <td>3</td>\n",
              "      <td>0</td>\n",
              "      <td>0</td>\n",
              "      <td>0</td>\n",
              "      <td>0</td>\n",
              "      <td>0</td>\n",
              "      <td>0</td>\n",
              "      <td>0</td>\n",
              "      <td>6</td>\n",
              "      <td>0</td>\n",
              "      <td>...</td>\n",
              "      <td>0</td>\n",
              "      <td>0</td>\n",
              "      <td>1</td>\n",
              "      <td>0</td>\n",
              "      <td>0</td>\n",
              "      <td>0</td>\n",
              "      <td>0</td>\n",
              "      <td>0</td>\n",
              "      <td>0</td>\n",
              "      <td>0</td>\n",
              "      <td>0</td>\n",
              "      <td>0</td>\n",
              "      <td>0</td>\n",
              "      <td>0</td>\n",
              "      <td>0</td>\n",
              "      <td>0</td>\n",
              "      <td>0</td>\n",
              "      <td>0</td>\n",
              "      <td>0</td>\n",
              "      <td>0</td>\n",
              "      <td>0</td>\n",
              "      <td>0</td>\n",
              "      <td>0</td>\n",
              "      <td>0</td>\n",
              "      <td>0</td>\n",
              "      <td>0</td>\n",
              "      <td>0</td>\n",
              "      <td>10</td>\n",
              "      <td>0</td>\n",
              "      <td>0</td>\n",
              "      <td>0</td>\n",
              "      <td>0</td>\n",
              "      <td>0</td>\n",
              "      <td>0</td>\n",
              "      <td>0</td>\n",
              "      <td>0</td>\n",
              "      <td>0</td>\n",
              "      <td>0</td>\n",
              "      <td>0</td>\n",
              "      <td>0</td>\n",
              "    </tr>\n",
              "    <tr>\n",
              "      <th>2</th>\n",
              "      <td>5q4BpnMrYEFzLO0dYODj6J</td>\n",
              "      <td>1</td>\n",
              "      <td>0</td>\n",
              "      <td>1</td>\n",
              "      <td>0</td>\n",
              "      <td>1</td>\n",
              "      <td>0</td>\n",
              "      <td>2</td>\n",
              "      <td>0</td>\n",
              "      <td>0</td>\n",
              "      <td>0</td>\n",
              "      <td>1</td>\n",
              "      <td>1</td>\n",
              "      <td>0</td>\n",
              "      <td>0</td>\n",
              "      <td>1</td>\n",
              "      <td>0</td>\n",
              "      <td>0</td>\n",
              "      <td>0</td>\n",
              "      <td>0</td>\n",
              "      <td>0</td>\n",
              "      <td>0</td>\n",
              "      <td>0</td>\n",
              "      <td>0</td>\n",
              "      <td>1</td>\n",
              "      <td>0</td>\n",
              "      <td>0</td>\n",
              "      <td>0</td>\n",
              "      <td>0</td>\n",
              "      <td>2</td>\n",
              "      <td>0</td>\n",
              "      <td>1</td>\n",
              "      <td>1</td>\n",
              "      <td>0</td>\n",
              "      <td>0</td>\n",
              "      <td>0</td>\n",
              "      <td>0</td>\n",
              "      <td>0</td>\n",
              "      <td>0</td>\n",
              "      <td>0</td>\n",
              "      <td>...</td>\n",
              "      <td>0</td>\n",
              "      <td>0</td>\n",
              "      <td>0</td>\n",
              "      <td>10</td>\n",
              "      <td>2</td>\n",
              "      <td>0</td>\n",
              "      <td>0</td>\n",
              "      <td>0</td>\n",
              "      <td>0</td>\n",
              "      <td>0</td>\n",
              "      <td>0</td>\n",
              "      <td>0</td>\n",
              "      <td>0</td>\n",
              "      <td>0</td>\n",
              "      <td>0</td>\n",
              "      <td>0</td>\n",
              "      <td>0</td>\n",
              "      <td>0</td>\n",
              "      <td>0</td>\n",
              "      <td>0</td>\n",
              "      <td>0</td>\n",
              "      <td>0</td>\n",
              "      <td>0</td>\n",
              "      <td>0</td>\n",
              "      <td>0</td>\n",
              "      <td>0</td>\n",
              "      <td>0</td>\n",
              "      <td>1</td>\n",
              "      <td>0</td>\n",
              "      <td>0</td>\n",
              "      <td>0</td>\n",
              "      <td>0</td>\n",
              "      <td>0</td>\n",
              "      <td>0</td>\n",
              "      <td>0</td>\n",
              "      <td>0</td>\n",
              "      <td>0</td>\n",
              "      <td>0</td>\n",
              "      <td>0</td>\n",
              "      <td>0</td>\n",
              "    </tr>\n",
              "    <tr>\n",
              "      <th>3</th>\n",
              "      <td>6Kkt27YmFyIFrcX3QXFi2o</td>\n",
              "      <td>4</td>\n",
              "      <td>0</td>\n",
              "      <td>2</td>\n",
              "      <td>2</td>\n",
              "      <td>2</td>\n",
              "      <td>0</td>\n",
              "      <td>1</td>\n",
              "      <td>0</td>\n",
              "      <td>3</td>\n",
              "      <td>0</td>\n",
              "      <td>0</td>\n",
              "      <td>0</td>\n",
              "      <td>0</td>\n",
              "      <td>0</td>\n",
              "      <td>0</td>\n",
              "      <td>0</td>\n",
              "      <td>2</td>\n",
              "      <td>0</td>\n",
              "      <td>1</td>\n",
              "      <td>0</td>\n",
              "      <td>0</td>\n",
              "      <td>0</td>\n",
              "      <td>0</td>\n",
              "      <td>1</td>\n",
              "      <td>0</td>\n",
              "      <td>0</td>\n",
              "      <td>0</td>\n",
              "      <td>0</td>\n",
              "      <td>0</td>\n",
              "      <td>0</td>\n",
              "      <td>0</td>\n",
              "      <td>1</td>\n",
              "      <td>1</td>\n",
              "      <td>2</td>\n",
              "      <td>1</td>\n",
              "      <td>0</td>\n",
              "      <td>0</td>\n",
              "      <td>1</td>\n",
              "      <td>0</td>\n",
              "      <td>...</td>\n",
              "      <td>0</td>\n",
              "      <td>0</td>\n",
              "      <td>0</td>\n",
              "      <td>0</td>\n",
              "      <td>0</td>\n",
              "      <td>0</td>\n",
              "      <td>0</td>\n",
              "      <td>0</td>\n",
              "      <td>0</td>\n",
              "      <td>1</td>\n",
              "      <td>0</td>\n",
              "      <td>0</td>\n",
              "      <td>0</td>\n",
              "      <td>1</td>\n",
              "      <td>0</td>\n",
              "      <td>1</td>\n",
              "      <td>0</td>\n",
              "      <td>0</td>\n",
              "      <td>0</td>\n",
              "      <td>0</td>\n",
              "      <td>1</td>\n",
              "      <td>0</td>\n",
              "      <td>0</td>\n",
              "      <td>0</td>\n",
              "      <td>0</td>\n",
              "      <td>0</td>\n",
              "      <td>0</td>\n",
              "      <td>0</td>\n",
              "      <td>0</td>\n",
              "      <td>0</td>\n",
              "      <td>0</td>\n",
              "      <td>0</td>\n",
              "      <td>0</td>\n",
              "      <td>0</td>\n",
              "      <td>0</td>\n",
              "      <td>0</td>\n",
              "      <td>0</td>\n",
              "      <td>0</td>\n",
              "      <td>0</td>\n",
              "      <td>0</td>\n",
              "    </tr>\n",
              "    <tr>\n",
              "      <th>4</th>\n",
              "      <td>1Dp7JGFNjvg8Nk0CtMCcnr</td>\n",
              "      <td>4</td>\n",
              "      <td>0</td>\n",
              "      <td>1</td>\n",
              "      <td>1</td>\n",
              "      <td>6</td>\n",
              "      <td>2</td>\n",
              "      <td>2</td>\n",
              "      <td>0</td>\n",
              "      <td>4</td>\n",
              "      <td>0</td>\n",
              "      <td>1</td>\n",
              "      <td>3</td>\n",
              "      <td>1</td>\n",
              "      <td>1</td>\n",
              "      <td>1</td>\n",
              "      <td>0</td>\n",
              "      <td>4</td>\n",
              "      <td>3</td>\n",
              "      <td>6</td>\n",
              "      <td>2</td>\n",
              "      <td>2</td>\n",
              "      <td>0</td>\n",
              "      <td>3</td>\n",
              "      <td>0</td>\n",
              "      <td>1</td>\n",
              "      <td>1</td>\n",
              "      <td>2</td>\n",
              "      <td>0</td>\n",
              "      <td>0</td>\n",
              "      <td>3</td>\n",
              "      <td>0</td>\n",
              "      <td>0</td>\n",
              "      <td>0</td>\n",
              "      <td>3</td>\n",
              "      <td>0</td>\n",
              "      <td>0</td>\n",
              "      <td>0</td>\n",
              "      <td>0</td>\n",
              "      <td>4</td>\n",
              "      <td>...</td>\n",
              "      <td>0</td>\n",
              "      <td>0</td>\n",
              "      <td>0</td>\n",
              "      <td>0</td>\n",
              "      <td>0</td>\n",
              "      <td>0</td>\n",
              "      <td>0</td>\n",
              "      <td>2</td>\n",
              "      <td>0</td>\n",
              "      <td>0</td>\n",
              "      <td>1</td>\n",
              "      <td>0</td>\n",
              "      <td>0</td>\n",
              "      <td>0</td>\n",
              "      <td>0</td>\n",
              "      <td>0</td>\n",
              "      <td>0</td>\n",
              "      <td>1</td>\n",
              "      <td>0</td>\n",
              "      <td>0</td>\n",
              "      <td>0</td>\n",
              "      <td>0</td>\n",
              "      <td>2</td>\n",
              "      <td>0</td>\n",
              "      <td>0</td>\n",
              "      <td>0</td>\n",
              "      <td>7</td>\n",
              "      <td>0</td>\n",
              "      <td>0</td>\n",
              "      <td>0</td>\n",
              "      <td>0</td>\n",
              "      <td>0</td>\n",
              "      <td>0</td>\n",
              "      <td>0</td>\n",
              "      <td>0</td>\n",
              "      <td>1</td>\n",
              "      <td>0</td>\n",
              "      <td>0</td>\n",
              "      <td>0</td>\n",
              "      <td>0</td>\n",
              "    </tr>\n",
              "  </tbody>\n",
              "</table>\n",
              "<p>5 rows × 201 columns</p>\n",
              "</div>"
            ],
            "text/plain": [
              "                       id  m oh know don love  ... chase city fine morning sing drop\n",
              "0  7eElVgPcxDqmgGrSwVFI74  3  4    6   3    0  ...     0    0    0       2    0    0\n",
              "1  02oAUzv4M0ItuTDy2RT3IT  0  0    4   1    2  ...     0    0    0       0    0    0\n",
              "2  5q4BpnMrYEFzLO0dYODj6J  1  0    1   0    1  ...     0    0    0       0    0    0\n",
              "3  6Kkt27YmFyIFrcX3QXFi2o  4  0    2   2    2  ...     0    0    0       0    0    0\n",
              "4  1Dp7JGFNjvg8Nk0CtMCcnr  4  0    1   1    6  ...     0    1    0       0    0    0\n",
              "\n",
              "[5 rows x 201 columns]"
            ]
          },
          "metadata": {
            "tags": []
          },
          "execution_count": 18
        }
      ]
    },
    {
      "cell_type": "code",
      "metadata": {
        "id": "-48dgVeA-RZc",
        "colab_type": "code",
        "outputId": "05c6e187-23ec-4338-befd-74f455aec1c9",
        "colab": {
          "base_uri": "https://localhost:8080/",
          "height": 284
        }
      },
      "source": [
        "word1 = \"love\"\n",
        "word_counts[word1].astype(int).describe()\n",
        "sns.distplot(word_counts[word1].astype(int))\n",
        "plt.show();"
      ],
      "execution_count": 0,
      "outputs": [
        {
          "output_type": "display_data",
          "data": {
            "image/png": "[encoded data removed]",
            "text/plain": [
              "<Figure size 432x288 with 1 Axes>"
            ]
          },
          "metadata": {
            "tags": []
          }
        }
      ]
    },
    {
      "cell_type": "code",
      "metadata": {
        "id": "FoBvmbCQ-ZLQ",
        "colab_type": "code",
        "outputId": "1e54abcd-e3ed-4b8b-8b85-601083f97aab",
        "colab": {
          "base_uri": "https://localhost:8080/",
          "height": 296
        }
      },
      "source": [
        "word1 = \"love\"\n",
        "word2 = \"girl\"\n",
        "\n",
        "sns.lineplot(x=df_af['release_dates'], y=word_counts[word1].astype(int), label=word1)\n",
        "sns.lineplot(x=df_af['release_dates'], y=word_counts[word2].astype(int), label=word2)\n",
        "plt.ylabel('word count')\n",
        "plt.legend()\n",
        "plt.title('{} vs. {}'.format(word1, word2))\n",
        "plt.show();"
      ],
      "execution_count": 0,
      "outputs": [
        {
          "output_type": "display_data",
          "data": {
            "image/png": "[encoded data removed]",
            "text/plain": [
              "<Figure size 432x288 with 1 Axes>"
            ]
          },
          "metadata": {
            "tags": []
          }
        }
      ]
    },
    {
      "cell_type": "markdown",
      "metadata": {
        "id": "BOMvnsez-q6A",
        "colab_type": "text"
      },
      "source": [
        "#### Save data locally"
      ]
    },
    {
      "cell_type": "code",
      "metadata": {
        "id": "U7oOpScK-uiL",
        "colab_type": "code",
        "colab": {}
      },
      "source": [
        "#from google.colab import files\n",
        "filename = 'lyric_word_counts'\n",
        "word_counts.to_csv(filename+\".csv\", index=True)\n",
        "files.download(filename+\".csv\")"
      ],
      "execution_count": 0,
      "outputs": []
    },
    {
      "cell_type": "code",
      "metadata": {
        "id": "29d2glRSVoPv",
        "colab_type": "code",
        "colab": {}
      },
      "source": [
        ""
      ],
      "execution_count": 0,
      "outputs": []
    }
  ]
}