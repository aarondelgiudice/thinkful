{
  "nbformat": 4,
  "nbformat_minor": 0,
  "metadata": {
    "colab": {
      "name": "Unsupervised_NLP_Challenges.ipynb",
      "version": "0.3.2",
      "provenance": [],
      "collapsed_sections": [],
      "include_colab_link": true
    },
    "language_info": {
      "codemirror_mode": {
        "name": "ipython",
        "version": 3
      },
      "file_extension": ".py",
      "mimetype": "text/x-python",
      "name": "python",
      "nbconvert_exporter": "python",
      "pygments_lexer": "ipython3",
      "version": "3.7.1"
    },
    "kernelspec": {
      "display_name": "Python 3",
      "language": "python",
      "name": "python3"
    }
  },
  "cells": [
    {
      "cell_type": "markdown",
      "metadata": {
        "id": "view-in-github",
        "colab_type": "text"
      },
      "source": [
        "<a href=\"https://colab.research.google.com/github/aarondelgiudice/thinkful_data_bootcamp/blob/master/unit_4/lesson_4/Unsupervised_NLP_Challenges.ipynb\" target=\"_parent\"><img src=\"https://colab.research.google.com/assets/colab-badge.svg\" alt=\"Open In Colab\"/></a>"
      ]
    },
    {
      "cell_type": "markdown",
      "metadata": {
        "id": "8yQrEUWmfUoe",
        "colab_type": "text"
      },
      "source": [
        "# Unsupervised NLP\n",
        "Unit 4 / Lesson 4"
      ]
    },
    {
      "cell_type": "code",
      "metadata": {
        "run_control": {
          "frozen": false,
          "read_only": false
        },
        "id": "WaOp2w9VfUoj",
        "colab_type": "code",
        "colab": {}
      },
      "source": [
        "import numpy as np\n",
        "import pandas as pd\n",
        "import scipy\n",
        "import matplotlib.pyplot as plt\n",
        "import seaborn as sns\n",
        "%matplotlib inline"
      ],
      "execution_count": 0,
      "outputs": []
    },
    {
      "cell_type": "code",
      "metadata": {
        "run_control": {
          "frozen": false,
          "read_only": false
        },
        "id": "cp7EFgdOfUor",
        "colab_type": "code",
        "colab": {},
        "outputId": "23576a6c-bd7d-41a5-8dd0-a2feea2a0bd4"
      },
      "source": [
        "import nltk\n",
        "from nltk.corpus import gutenberg\n",
        "nltk.download('punkt')\n",
        "nltk.download('gutenberg')\n",
        "import re\n",
        "from sklearn.model_selection import train_test_split\n",
        "\n",
        "#reading in the data, this time in the form of paragraphs\n",
        "emma=gutenberg.paras('austen-emma.txt')\n",
        "#processing\n",
        "emma_paras=[]\n",
        "for paragraph in emma:\n",
        "    para=paragraph[0]\n",
        "    #removing the double-dash from all words\n",
        "    para=[re.sub(r'--','',word) for word in para]\n",
        "    #Forming each paragraph into a string and adding it to the list of strings.\n",
        "    emma_paras.append(' '.join(para))\n",
        "\n",
        "print(emma_paras[0:4])"
      ],
      "execution_count": 0,
      "outputs": [
        {
          "output_type": "stream",
          "text": [
            "[nltk_data] Downloading package punkt to\n",
            "[nltk_data]     C:\\Users\\Aaron\\AppData\\Roaming\\nltk_data...\n",
            "[nltk_data]   Package punkt is already up-to-date!\n",
            "[nltk_data] Downloading package gutenberg to\n",
            "[nltk_data]     C:\\Users\\Aaron\\AppData\\Roaming\\nltk_data...\n",
            "[nltk_data]   Package gutenberg is already up-to-date!\n"
          ],
          "name": "stderr"
        },
        {
          "output_type": "stream",
          "text": [
            "['[ Emma by Jane Austen 1816 ]', 'VOLUME I', 'CHAPTER I', 'Emma Woodhouse , handsome , clever , and rich , with a comfortable home and happy disposition , seemed to unite some of the best blessings of existence ; and had lived nearly twenty - one years in the world with very little to distress or vex her .']\n"
          ],
          "name": "stdout"
        }
      ]
    },
    {
      "cell_type": "markdown",
      "metadata": {
        "run_control": {
          "frozen": false,
          "read_only": false
        },
        "id": "TNK0NFrwfUo3",
        "colab_type": "text"
      },
      "source": [
        "# tfidf in sklearn\n",
        "\n",
        "Happily for us, sklearn has a tfidf function that will do all our heavy lifting.  It also has a [very long list of stop words](https://github.com/scikit-learn/scikit-learn/blob/master/sklearn/feature_extraction/stop_words.py).  Since we're going to be doing dimension reduction later on anyway, let's keep all the words for now."
      ]
    },
    {
      "cell_type": "code",
      "metadata": {
        "run_control": {
          "frozen": false,
          "read_only": false
        },
        "scrolled": false,
        "id": "TqRpPvazfUo5",
        "colab_type": "code",
        "colab": {},
        "outputId": "0ab94134-c5eb-4c49-81aa-f668c604a389"
      },
      "source": [
        "from sklearn.feature_extraction.text import TfidfVectorizer\n",
        "\n",
        "X_train, X_test = train_test_split(emma_paras, test_size=0.4, random_state=0)\n",
        "\n",
        "vectorizer = TfidfVectorizer(max_df=0.5, # drop words that occur in more than half the paragraphs\n",
        "                             min_df=2, # only use words that appear at least twice\n",
        "                             stop_words='english', \n",
        "                             lowercase=True, #convert everything to lower case (since Alice in Wonderland has the HABIT of CAPITALIZING WORDS for EMPHASIS)\n",
        "                             use_idf=True,#we definitely want to use inverse document frequencies in our weighting\n",
        "                             norm=u'l2', #Applies a correction factor so that longer paragraphs and shorter paragraphs get treated equally\n",
        "                             smooth_idf=True #Adds 1 to all document frequencies, as if an extra document existed that used every word once.  Prevents divide-by-zero errors\n",
        "                            )\n",
        "\n",
        "\n",
        "#Applying the vectorizer\n",
        "emma_paras_tfidf=vectorizer.fit_transform(emma_paras)\n",
        "print(\"Number of features: %d\" % emma_paras_tfidf.get_shape()[1])\n",
        "\n",
        "#splitting into training and test sets\n",
        "X_train_tfidf, X_test_tfidf= train_test_split(emma_paras_tfidf, test_size=0.4, random_state=0)\n",
        "\n",
        "\n",
        "#Reshapes the vectorizer output into something people can read\n",
        "X_train_tfidf_csr = X_train_tfidf.tocsr()\n",
        "\n",
        "#number of paragraphs\n",
        "n = X_train_tfidf_csr.shape[0]\n",
        "#A list of dictionaries, one per paragraph\n",
        "tfidf_bypara = [{} for _ in range(0,n)]\n",
        "#List of features\n",
        "terms = vectorizer.get_feature_names()\n",
        "#for each paragraph, lists the feature words and their tf-idf scores\n",
        "for i, j in zip(*X_train_tfidf_csr.nonzero()):\n",
        "    tfidf_bypara[i][terms[j]] = X_train_tfidf_csr[i, j]\n",
        "\n",
        "#Keep in mind that the log base 2 of 1 is 0, so a tf-idf score of 0 indicates that the word was present once in that sentence.\n",
        "print('Original sentence:', X_train[5])\n",
        "print('Tf_idf vector:', tfidf_bypara[5])"
      ],
      "execution_count": 0,
      "outputs": [
        {
          "output_type": "stream",
          "text": [
            "Number of features: 1948\n",
            "Original sentence: A very few minutes more , however , completed the present trial .\n",
            "Tf_idf vector: {'minutes': 0.7127450310382584, 'present': 0.701423210857947}\n"
          ],
          "name": "stdout"
        }
      ]
    },
    {
      "cell_type": "markdown",
      "metadata": {
        "run_control": {
          "frozen": false,
          "read_only": false
        },
        "id": "aYm-FtmffUpD",
        "colab_type": "text"
      },
      "source": [
        "# Dimension reduction\n",
        "Okay, now we have our vectors, with one vector per paragraph.  It's time to do some dimension reduction.  We use the Singular Value Decomposition (SVD) function from sklearn rather than PCA because we don't want to mean-center our variables (and thus lose sparsity):"
      ]
    },
    {
      "cell_type": "code",
      "metadata": {
        "run_control": {
          "frozen": false,
          "read_only": false
        },
        "scrolled": false,
        "id": "A01s9QhPfUpF",
        "colab_type": "code",
        "colab": {},
        "outputId": "e4f02600-f93e-4cac-945e-e4c7b23afc7f"
      },
      "source": [
        "from sklearn.decomposition import TruncatedSVD\n",
        "from sklearn.pipeline import make_pipeline\n",
        "from sklearn.preprocessing import Normalizer\n",
        "\n",
        "#Our SVD data reducer.  We are going to reduce the feature space from 1379 to 130.\n",
        "svd= TruncatedSVD(130)\n",
        "lsa = make_pipeline(svd, Normalizer(copy=False))\n",
        "# Run SVD on the training data, then project the training data.\n",
        "X_train_lsa = lsa.fit_transform(X_train_tfidf)\n",
        "\n",
        "variance_explained=svd.explained_variance_ratio_\n",
        "total_variance = variance_explained.sum()\n",
        "print(\"Percent variance captured by all components:\",total_variance*100)\n",
        "\n",
        "#Looking at what sorts of paragraphs our solution considers similar, for the first five identified topics\n",
        "paras_by_component=pd.DataFrame(X_train_lsa,index=X_train)\n",
        "for i in range(5):\n",
        "    print('Component {}:'.format(i))\n",
        "    print(paras_by_component.loc[:,i].sort_values(ascending=False)[0:10])\n",
        "\n",
        "\n"
      ],
      "execution_count": 0,
      "outputs": [
        {
          "output_type": "stream",
          "text": [
            "Percent variance captured by all components: 45.201276849436844\n",
            "Component 0:\n",
            "\" Oh !\"    0.999293\n",
            "\" Oh !     0.999293\n",
            "\" Oh !     0.999293\n",
            "\" Oh !     0.999293\n",
            "\" Oh !\"    0.999293\n",
            "\" Oh !     0.999293\n",
            "\" Oh !     0.999293\n",
            "\" Oh !     0.999293\n",
            "\" Oh !     0.999293\n",
            "\" Oh !     0.999293\n",
            "Name: 0, dtype: float64\n",
            "Component 1:\n",
            "\" You have made her too tall , Emma ,\" said Mr . Knightley .                                                                                                                0.634827\n",
            "\" You get upon delicate subjects , Emma ,\" said Mrs . Weston smiling ; \" remember that I am here . Mr .                                                                     0.571898\n",
            "\" I do not know what your opinion may be , Mrs . Weston ,\" said Mr . Knightley , \" of this great intimacy between Emma and Harriet Smith , but I think it a bad thing .\"    0.569926\n",
            "\" You are right , Mrs . Weston ,\" said Mr . Knightley warmly , \" Miss Fairfax is as capable as any of us of forming a just opinion of Mrs . Elton .                         0.562650\n",
            "\" There were misunderstandings between them , Emma ; he said so expressly .                                                                                                 0.528293\n",
            "Mr . Knightley might quarrel with her , but Emma could not quarrel with herself .                                                                                           0.525790\n",
            "\" In one respect , perhaps , Mr . Elton ' s manners are superior to Mr . Knightley ' s or Mr . Weston ' s .                                                                 0.509466\n",
            "Emma found that it was not Mr . Weston ' s fault that the number of privy councillors was not yet larger .                                                                  0.507649\n",
            "\" Now ,\" said Emma , when they were fairly beyond the sweep gates , \" now Mr . Weston , do let me know what has happened .\"                                                 0.503156\n",
            "\" I do not admire it ,\" said Mr . Knightley .                                                                                                                               0.500018\n",
            "Name: 1, dtype: float64\n",
            "Component 2:\n",
            "CHAPTER X       0.998693\n",
            "CHAPTER X       0.998693\n",
            "CHAPTER V       0.998693\n",
            "CHAPTER I       0.998693\n",
            "CHAPTER I       0.998693\n",
            "CHAPTER V       0.998693\n",
            "CHAPTER X       0.998693\n",
            "CHAPTER I       0.998693\n",
            "CHAPTER V       0.998693\n",
            "CHAPTER XVII    0.997626\n",
            "Name: 2, dtype: float64\n",
            "Component 3:\n",
            "\" Ah !    0.99291\n",
            "\" Ah !    0.99291\n",
            "\" Ah !    0.99291\n",
            "\" Ah !    0.99291\n",
            "\" Ah !    0.99291\n",
            "\" Ah !    0.99291\n",
            "\" Ah !    0.99291\n",
            "\" Ah !    0.99291\n",
            "\" Ah !    0.99291\n",
            "\" Ah !    0.99291\n",
            "Name: 3, dtype: float64\n",
            "Component 4:\n",
            "\" There were misunderstandings between them , Emma ; he said so expressly .    0.650517\n",
            "\" Are you well , my Emma ?\"                                                    0.598648\n",
            "Emma demurred .                                                                0.598648\n",
            "Emma was silenced .                                                            0.587251\n",
            "At first it was downright dulness to Emma .                                    0.586123\n",
            "\" Emma , my dear Emma \"                                                        0.576627\n",
            "Emma could not resist .                                                        0.570975\n",
            "\" It is not now worth a regret ,\" said Emma .                                  0.554451\n",
            "\" For shame , Emma !                                                           0.529845\n",
            "\" No great variety of faces for you ,\" said Emma .                             0.493723\n",
            "Name: 4, dtype: float64\n"
          ],
          "name": "stdout"
        }
      ]
    },
    {
      "cell_type": "code",
      "metadata": {
        "run_control": {
          "frozen": false,
          "read_only": false
        },
        "id": "QUSylQU2fUpO",
        "colab_type": "code",
        "colab": {},
        "outputId": "49dc7550-8966-4ff5-ca2a-012f5e1924bf"
      },
      "source": [
        "# Compute document similarity using LSA components\n",
        "similarity = np.asarray(np.asmatrix(X_train_lsa) * np.asmatrix(X_train_lsa).T)\n",
        "#Only taking the first 10 sentences\n",
        "sim_matrix=pd.DataFrame(similarity,index=X_train).iloc[0:10,0:10]\n",
        "#Making a plot\n",
        "ax = sns.heatmap(sim_matrix,yticklabels=range(10))\n",
        "plt.show()\n",
        "\n",
        "#Generating a key for the plot.\n",
        "print('Key:')\n",
        "for i in range(10):\n",
        "    print(i,sim_matrix.index[i])\n"
      ],
      "execution_count": 0,
      "outputs": [
        {
          "output_type": "display_data",
          "data": {
            "image/png": "[encoded data removed]",
            "text/plain": [
              "<Figure size 432x288 with 2 Axes>"
            ]
          },
          "metadata": {
            "tags": [],
            "needs_background": "light"
          }
        },
        {
          "output_type": "stream",
          "text": [
            "Key:\n",
            "0 That is _court_ .\n",
            "1 \" Yes , sir , I did indeed ; and I am very much obliged by your kind solicitude about me .\"\n",
            "2 \" How much his business engrosses him already is very plain from the circumstance of his forgetting to inquire for the book you recommended .\n",
            "3 To restrain him as much as might be , by her own manners , she was immediately preparing to speak with exquisite calmness and gravity of the weather and the night ; but scarcely had she begun , scarcely had they passed the sweep - gate and joined the other carriage , than she found her subject cut up  her hand seized  her attention demanded , and Mr . Elton actually making violent love to her : availing himself of the precious opportunity , declaring sentiments which must be already well known , hoping  fearing  adoring  ready to die if she refused him ; but flattering himself that his ardent attachment and unequalled love and unexampled passion could not fail of having some effect , and in short , very much resolved on being seriously accepted as soon as possible .\n",
            "4 Emma smiled and answered \" My visit was of use to the nervous part of her complaint , I hope ; but not even I can charm away a sore throat ; it is a most severe cold indeed .\n",
            "5 A very few minutes more , however , completed the present trial .\n",
            "6 \" I am delighted to hear you speak so stoutly on the subject ,\" replied Emma , smiling ; \" but you do not mean to deny that there was a time  and not very distant either  when you gave me reason to understand that you did care about him ?\"\n",
            "7 \" Very well ; and if he had intended to give her one , he would have told her so .\"\n",
            "8 Some laughed , and answered good - humouredly .\n",
            "9 \" There appeared such a perfectly good understanding among them all \" he began rather quickly , but checking himself , added , \" however , it is impossible for me to say on what terms they really were  how it might all be behind the scenes .\n"
          ],
          "name": "stdout"
        }
      ]
    },
    {
      "cell_type": "markdown",
      "metadata": {
        "run_control": {
          "frozen": false,
          "read_only": false
        },
        "id": "m2_yqb9mfUpW",
        "colab_type": "text"
      },
      "source": [
        "Not much similarity at all except between sentences 8 and 9, both of which seem to describe people getting along well.\n",
        "\n",
        "# Drill 0: Test set\n",
        "\n",
        "Now it's your turn: Apply our LSA model to the test set.  Does it identify similar sentences for components 0 through 4?  "
      ]
    },
    {
      "cell_type": "code",
      "metadata": {
        "run_control": {
          "frozen": false,
          "read_only": false
        },
        "id": "dG-orHPwfUpY",
        "colab_type": "code",
        "colab": {},
        "outputId": "e927a90d-d33a-4696-b464-299e1612d2af"
      },
      "source": [
        "# Remember, you will use the same model, only with the test set data.\n",
        "# Don't fit a new model by mistake!\n",
        "# Run SVD on the test data, then project the test data.\n",
        "X_test_lsa = lsa.fit_transform(X_test_tfidf)\n",
        "\n",
        "variance_explained=svd.explained_variance_ratio_\n",
        "total_variance = variance_explained.sum()\n",
        "print(\"Percent variance captured by all components:\",total_variance*100)\n",
        "\n",
        "# Look at paragraphs solution considers similar,\n",
        "# for the first five identified topics\n",
        "paras_by_component_test=pd.DataFrame(X_test_lsa,index=X_test)\n",
        "for i in range(5):\n",
        "    print('Component {}:'.format(i))\n",
        "    print(paras_by_component.loc[:,i].sort_values(ascending=False)[0:10])"
      ],
      "execution_count": 0,
      "outputs": [
        {
          "output_type": "stream",
          "text": [
            "Percent variance captured by all components: 49.39412079833928\n",
            "Component 0:\n",
            "\" Oh !\"    0.999293\n",
            "\" Oh !     0.999293\n",
            "\" Oh !     0.999293\n",
            "\" Oh !     0.999293\n",
            "\" Oh !\"    0.999293\n",
            "\" Oh !     0.999293\n",
            "\" Oh !     0.999293\n",
            "\" Oh !     0.999293\n",
            "\" Oh !     0.999293\n",
            "\" Oh !     0.999293\n",
            "Name: 0, dtype: float64\n",
            "Component 1:\n",
            "\" You have made her too tall , Emma ,\" said Mr . Knightley .                                                                                                                0.634827\n",
            "\" You get upon delicate subjects , Emma ,\" said Mrs . Weston smiling ; \" remember that I am here . Mr .                                                                     0.571898\n",
            "\" I do not know what your opinion may be , Mrs . Weston ,\" said Mr . Knightley , \" of this great intimacy between Emma and Harriet Smith , but I think it a bad thing .\"    0.569926\n",
            "\" You are right , Mrs . Weston ,\" said Mr . Knightley warmly , \" Miss Fairfax is as capable as any of us of forming a just opinion of Mrs . Elton .                         0.562650\n",
            "\" There were misunderstandings between them , Emma ; he said so expressly .                                                                                                 0.528293\n",
            "Mr . Knightley might quarrel with her , but Emma could not quarrel with herself .                                                                                           0.525790\n",
            "\" In one respect , perhaps , Mr . Elton ' s manners are superior to Mr . Knightley ' s or Mr . Weston ' s .                                                                 0.509466\n",
            "Emma found that it was not Mr . Weston ' s fault that the number of privy councillors was not yet larger .                                                                  0.507649\n",
            "\" Now ,\" said Emma , when they were fairly beyond the sweep gates , \" now Mr . Weston , do let me know what has happened .\"                                                 0.503156\n",
            "\" I do not admire it ,\" said Mr . Knightley .                                                                                                                               0.500018\n",
            "Name: 1, dtype: float64\n",
            "Component 2:\n",
            "CHAPTER X       0.998693\n",
            "CHAPTER X       0.998693\n",
            "CHAPTER V       0.998693\n",
            "CHAPTER I       0.998693\n",
            "CHAPTER I       0.998693\n",
            "CHAPTER V       0.998693\n",
            "CHAPTER X       0.998693\n",
            "CHAPTER I       0.998693\n",
            "CHAPTER V       0.998693\n",
            "CHAPTER XVII    0.997626\n",
            "Name: 2, dtype: float64\n",
            "Component 3:\n",
            "\" Ah !    0.99291\n",
            "\" Ah !    0.99291\n",
            "\" Ah !    0.99291\n",
            "\" Ah !    0.99291\n",
            "\" Ah !    0.99291\n",
            "\" Ah !    0.99291\n",
            "\" Ah !    0.99291\n",
            "\" Ah !    0.99291\n",
            "\" Ah !    0.99291\n",
            "\" Ah !    0.99291\n",
            "Name: 3, dtype: float64\n",
            "Component 4:\n",
            "\" There were misunderstandings between them , Emma ; he said so expressly .    0.650517\n",
            "\" Are you well , my Emma ?\"                                                    0.598648\n",
            "Emma demurred .                                                                0.598648\n",
            "Emma was silenced .                                                            0.587251\n",
            "At first it was downright dulness to Emma .                                    0.586123\n",
            "\" Emma , my dear Emma \"                                                        0.576627\n",
            "Emma could not resist .                                                        0.570975\n",
            "\" It is not now worth a regret ,\" said Emma .                                  0.554451\n",
            "\" For shame , Emma !                                                           0.529845\n",
            "\" No great variety of faces for you ,\" said Emma .                             0.493723\n",
            "Name: 4, dtype: float64\n"
          ],
          "name": "stdout"
        }
      ]
    },
    {
      "cell_type": "markdown",
      "metadata": {
        "run_control": {
          "frozen": false,
          "read_only": false
        },
        "id": "R-Adys3LfUpi",
        "colab_type": "text"
      },
      "source": [
        "# Drill 1: Tweaking tf-idf\n",
        "\n",
        "Go back up to the code where we originally translated the text from words to numbers.  There are a lot of decision-points here, from the stop list to the thresholds for inclusion and exclusion, and many others as well.  We also didn't integrate spaCy, and so don't have info on lemmas or Named Entities.  Change things up a few times and see how that affects the results of the LSA.  Write up your observations and share them with your mentor."
      ]
    },
    {
      "cell_type": "code",
      "metadata": {
        "run_control": {
          "frozen": false,
          "read_only": false
        },
        "id": "NAiYo65gfUpl",
        "colab_type": "code",
        "colab": {}
      },
      "source": [
        "#Tweaks Go Here\n",
        "\n",
        "def vectorizer(mx_df, mn_df, sw, lcase, idf, nrm, smooth):\n",
        "    vectorizer = TfidfVectorizer(max_df=mx_df,\n",
        "                                 min_df=mn_df,\n",
        "                                 stop_words=sw,\n",
        "                                 lowercase=lcase,\n",
        "                                 use_idf=idf,\n",
        "                                 norm=nrm,\n",
        "                                 smooth_idf=smooth\n",
        "                                )\n",
        "\n",
        "# Apply vectorizer\n",
        "    emma_paras_tfidf=vectorizer.fit_transform(emma_paras)\n",
        "    print(\"Number of features: %d\" % emma_paras_tfidf.get_shape()[1])\n",
        "\n",
        "# split data into training and test sets\n",
        "    X_train_tfidf, X_test_tfidf= train_test_split(\n",
        "        emma_paras_tfidf, test_size=0.4, random_state=0)\n",
        "\n",
        "# SVD data reducer.\n",
        "    svd= TruncatedSVD(130)\n",
        "    lsa = make_pipeline(svd, Normalizer(copy=False))\n",
        "\n",
        "# fit SVD on training data\n",
        "    X_train_lsa = lsa.fit_transform(X_train_tfidf)\n",
        "\n",
        "    variance_explained=svd.explained_variance_ratio_\n",
        "    total_variance = variance_explained.sum()\n",
        "    print(\"Percent variance captured by all components:\",total_variance*100)"
      ],
      "execution_count": 0,
      "outputs": []
    },
    {
      "cell_type": "markdown",
      "metadata": {
        "id": "jGiiKfoefUpu",
        "colab_type": "text"
      },
      "source": [
        "## LSA Parameters"
      ]
    },
    {
      "cell_type": "code",
      "metadata": {
        "id": "SLS-q3xMfUpw",
        "colab_type": "code",
        "colab": {},
        "outputId": "49c4c901-bfad-4300-9b1b-fc26b3c1c5be"
      },
      "source": [
        "#\n",
        "vectorizer(0.3, 3, 'english', True, True, u'l2', True)"
      ],
      "execution_count": 0,
      "outputs": [
        {
          "output_type": "stream",
          "text": [
            "Number of features: 1358\n",
            "Percent variance captured by all components: 48.45165074286426\n"
          ],
          "name": "stdout"
        }
      ]
    },
    {
      "cell_type": "code",
      "metadata": {
        "id": "nhaKNEacfUp5",
        "colab_type": "code",
        "colab": {},
        "outputId": "23203f41-11c4-4e98-8e49-32cfc4a31fc6"
      },
      "source": [
        "#\n",
        "vectorizer(0.6, 1, 'english', True, False, u'l2', True)"
      ],
      "execution_count": 0,
      "outputs": [
        {
          "output_type": "stream",
          "text": [
            "Number of features: 3851\n",
            "Percent variance captured by all components: 52.788132313992385\n"
          ],
          "name": "stdout"
        }
      ]
    },
    {
      "cell_type": "code",
      "metadata": {
        "id": "BP4JOKvWfUqC",
        "colab_type": "code",
        "colab": {},
        "outputId": "f0512326-cd8d-4ea8-c919-f8145f57f235"
      },
      "source": [
        "#\n",
        "vectorizer(0.6, 1, 'english', True, True, u'l2', True)"
      ],
      "execution_count": 0,
      "outputs": [
        {
          "output_type": "stream",
          "text": [
            "Number of features: 3851\n",
            "Percent variance captured by all components: 41.258041071706884\n"
          ],
          "name": "stdout"
        }
      ]
    },
    {
      "cell_type": "markdown",
      "metadata": {
        "run_control": {
          "frozen": false,
          "read_only": false
        },
        "id": "rpJzNt4efUqM",
        "colab_type": "text"
      },
      "source": [
        "LSA is one of many unsupervised methods that can be applied to text data.  There will be opportunities later to dive more deeply into this topic and encounter other methods.\n",
        "\n",
        "Although we have presented LSA as an unsupervised method, it can also be used to prepare text data for classification in supervised learning.  In that case, the goal would be to use LSA to arrive at a smaller set of features that can be used to build a supervised model that will classify text into pre-labelled categories.\n",
        "\n",
        "LSA isn't perfect- while it is good for dealing with synonyms, it cannot handle polysemy.  For that, we will need to try out a neural network approach.\n",
        "\n",
        "This assignment has a lot of moving parts- text processing, tf-idf, using single value decomposition on text, and finally interpreting the results of the LSA.  Make sure to spend enough time playing with the code to feel comfortable with all of these aspects before moving on."
      ]
    }
  ]
}