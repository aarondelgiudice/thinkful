{
  "nbformat": 4,
  "nbformat_minor": 0,
  "metadata": {
    "colab": {
      "name": "Neural_Networks_and_NLP.ipynb",
      "version": "0.3.2",
      "provenance": [],
      "include_colab_link": true
    },
    "language_info": {
      "codemirror_mode": {
        "name": "ipython",
        "version": 3
      },
      "file_extension": ".py",
      "mimetype": "text/x-python",
      "name": "python",
      "nbconvert_exporter": "python",
      "pygments_lexer": "ipython3",
      "version": "3.7.1"
    },
    "kernelspec": {
      "display_name": "Python 3",
      "language": "python",
      "name": "python3"
    }
  },
  "cells": [
    {
      "cell_type": "markdown",
      "metadata": {
        "id": "view-in-github",
        "colab_type": "text"
      },
      "source": [
        "<a href=\"https://colab.research.google.com/github/aarondelgiudice/thinkful_data_bootcamp/blob/master/unit_4/lesson_4/Neural_Networks_and_NLP.ipynb\" target=\"_parent\"><img src=\"https://colab.research.google.com/assets/colab-badge.svg\" alt=\"Open In Colab\"/></a>"
      ]
    },
    {
      "cell_type": "code",
      "metadata": {
        "run_control": {
          "frozen": false,
          "read_only": false
        },
        "id": "PlSV10M2MbKd",
        "colab_type": "code",
        "colab": {}
      },
      "source": [
        "%matplotlib inline\n",
        "import numpy as np\n",
        "import pandas as pd\n",
        "import scipy\n",
        "import sklearn\n",
        "import spacy\n",
        "import matplotlib.pyplot as plt\n",
        "import seaborn as sns\n",
        "import re\n",
        "from nltk.corpus import gutenberg, stopwords"
      ],
      "execution_count": 0,
      "outputs": []
    },
    {
      "cell_type": "code",
      "metadata": {
        "id": "BF_aKi3aMbKo",
        "colab_type": "code",
        "colab": {}
      },
      "source": [
        "# Utility function to clean text.\n",
        "def text_cleaner(text):\n",
        "    \n",
        "    # Visual inspection shows spaCy does not recognize the double dash '--'.\n",
        "    # Better get rid of it now!\n",
        "    text = re.sub(r'--',' ',text)\n",
        "    \n",
        "    # Get rid of headings in square brackets.\n",
        "    text = re.sub(\"[\\[].*?[\\]]\", \"\", text)\n",
        "    \n",
        "    # Get rid of chapter titles.\n",
        "    text = re.sub(r'Chapter \\d+','',text)\n",
        "    \n",
        "    # Get rid of extra whitespace.\n",
        "    text = ' '.join(text.split())\n",
        "    \n",
        "    return text[0:900000]\n",
        "\n",
        "\n",
        "# Import all the Austen in the Project Gutenberg corpus.\n",
        "austen = \"\"\n",
        "for novel in ['persuasion','emma','sense']:\n",
        "    work = gutenberg.raw('austen-' + novel + '.txt')\n",
        "    austen = austen + work\n",
        "\n",
        "# Clean the data.\n",
        "austen_clean = text_cleaner(austen)"
      ],
      "execution_count": 0,
      "outputs": []
    },
    {
      "cell_type": "code",
      "metadata": {
        "id": "avrMAnD1MbKv",
        "colab_type": "code",
        "colab": {}
      },
      "source": [
        "# Parse the data. This can take some time.\n",
        "nlp = spacy.load('en')\n",
        "austen_doc = nlp(austen_clean)"
      ],
      "execution_count": 0,
      "outputs": []
    },
    {
      "cell_type": "code",
      "metadata": {
        "id": "lqOGV0J4MbK3",
        "colab_type": "code",
        "colab": {},
        "outputId": "fabd7b61-4b0c-447a-87bd-d41ab437df9f"
      },
      "source": [
        "# Organize the parsed doc into sentences, while filtering out punctuation\n",
        "# and stop words, and converting words to lower case lemmas.\n",
        "sentences = []\n",
        "for sentence in austen_doc.sents:\n",
        "    sentence = [\n",
        "        token.lemma_.lower()\n",
        "        for token in sentence\n",
        "        if not token.is_stop\n",
        "        and not token.is_punct\n",
        "    ]\n",
        "    sentences.append(sentence)\n",
        "\n",
        "\n",
        "print(sentences[20])\n",
        "print('We have {} sentences and {} tokens.'.format(len(sentences), len(austen_clean)))"
      ],
      "execution_count": 0,
      "outputs": [
        {
          "output_type": "stream",
          "text": [
            "['lady', 'russell', 'steady', 'age', 'character', 'extremely', 'provide', 'thought', 'second', 'marriage', 'need', 'apology', 'public', 'apt', 'unreasonably', 'discontent', 'woman', 'marry', 'sir', 'walter', 'continue', 'singleness', 'require', 'explanation']\n",
            "We have 9298 sentences and 900000 tokens.\n"
          ],
          "name": "stdout"
        }
      ]
    },
    {
      "cell_type": "code",
      "metadata": {
        "run_control": {
          "frozen": false,
          "read_only": false
        },
        "id": "kuCXYn5cMbLG",
        "colab_type": "code",
        "colab": {},
        "outputId": "b87525cd-27b1-4bed-f275-a5285e2a298d"
      },
      "source": [
        "import gensim\n",
        "from gensim.models import word2vec\n",
        "\n",
        "model = word2vec.Word2Vec(\n",
        "    sentences,\n",
        "    workers=4,     # Number of threads to run in parallel (if your computer does parallel processing).\n",
        "    min_count=10,  # Minimum word count threshold.\n",
        "    window=6,      # Number of words around target word to consider.\n",
        "    sg=0,          # Use CBOW because our corpus is small.\n",
        "    sample=1e-3 ,  # Penalize frequent words.\n",
        "    size=300,      # Word vector length.\n",
        "    hs=1           # Use hierarchical softmax.\n",
        ")\n",
        "\n",
        "print('done!')"
      ],
      "execution_count": 0,
      "outputs": [
        {
          "output_type": "stream",
          "text": [
            "C:\\Users\\Aaron\\AppData\\Local\\Programs\\Python\\Python37\\lib\\site-packages\\gensim\\models\\base_any2vec.py:743: UserWarning: C extension not loaded, training will be slow. Install a C compiler and reinstall gensim for fast training.\n",
            "  \"C extension not loaded, training will be slow. \"\n"
          ],
          "name": "stderr"
        },
        {
          "output_type": "stream",
          "text": [
            "done!\n"
          ],
          "name": "stdout"
        }
      ]
    },
    {
      "cell_type": "code",
      "metadata": {
        "id": "RTDg7awVMbLO",
        "colab_type": "code",
        "colab": {},
        "outputId": "7d27afd7-9b77-4b1b-d944-7a54fe2798b7"
      },
      "source": [
        "# List of words in model.\n",
        "vocab = model.wv.vocab.keys()\n",
        "\n",
        "print(model.wv.most_similar(positive=['lady', 'man'], negative=['woman']))\n",
        "\n",
        "# Similarity is calculated using the cosine, so again 1 is total\n",
        "# similarity and 0 is no similarity.\n",
        "print(model.wv.similarity('mr', 'mrs'))\n",
        "\n",
        "# One of these things is not like the other...\n",
        "print(model.wv.doesnt_match(\"breakfast marriage dinner lunch\".split()))"
      ],
      "execution_count": 0,
      "outputs": [
        {
          "output_type": "stream",
          "text": [
            "[('goddard', 0.9636046886444092), ('musgrove', 0.9479912519454956), ('harville', 0.926499605178833), ('clay', 0.9178221225738525), ('benwick', 0.9170636534690857), ('weston', 0.9140954613685608), ('smith', 0.9035476446151733), ('croft', 0.8997906446456909), ('charles', 0.8898350596427917), ('room', 0.8839731216430664)]\n",
            "0.8924593\n"
          ],
          "name": "stdout"
        },
        {
          "output_type": "stream",
          "text": [
            "C:\\Users\\Aaron\\AppData\\Local\\Programs\\Python\\Python37\\lib\\site-packages\\gensim\\models\\keyedvectors.py:876: FutureWarning: arrays to stack must be passed as a \"sequence\" type such as list or tuple. Support for non-sequence iterables such as generators is deprecated as of NumPy 1.16 and will raise an error in the future.\n",
            "  vectors = vstack(self.word_vec(word, use_norm=True) for word in used_words).astype(REAL)\n"
          ],
          "name": "stderr"
        },
        {
          "output_type": "stream",
          "text": [
            "marriage\n"
          ],
          "name": "stdout"
        }
      ]
    },
    {
      "cell_type": "markdown",
      "metadata": {
        "run_control": {
          "frozen": false,
          "read_only": false
        },
        "id": "N79wtp1oMbLV",
        "colab_type": "text"
      },
      "source": [
        "Clearly this model is not great – while some words given above might possibly fill in the analogy woman:lady::man:?, most answers likely make little sense. You'll notice as well that re-running the model likely gives you different results, indicating random chance plays a large role here.\n",
        "\n",
        "We do, however, get a nice result on \"marriage\" being dissimilar to \"breakfast\", \"lunch\", and \"dinner\". \n",
        "\n",
        "## Drill 0\n",
        "\n",
        "Take a few minutes to modify the hyperparameters of this model and see how its answers change. Can you wrangle any improvements?\n",
        "\n",
        "### Default Parameters"
      ]
    },
    {
      "cell_type": "code",
      "metadata": {
        "id": "MNIzKt3AMbLY",
        "colab_type": "code",
        "colab": {},
        "outputId": "37f027ad-b280-4965-f3f2-61e42abcf702"
      },
      "source": [
        "# run with default parameters\n",
        "model = word2vec.Word2Vec(sentences)"
      ],
      "execution_count": 0,
      "outputs": [
        {
          "output_type": "stream",
          "text": [
            "C:\\Users\\Aaron\\AppData\\Local\\Programs\\Python\\Python37\\lib\\site-packages\\gensim\\models\\base_any2vec.py:743: UserWarning: C extension not loaded, training will be slow. Install a C compiler and reinstall gensim for fast training.\n",
            "  \"C extension not loaded, training will be slow. \"\n"
          ],
          "name": "stderr"
        }
      ]
    },
    {
      "cell_type": "code",
      "metadata": {
        "scrolled": true,
        "id": "LyIjggPgMbLh",
        "colab_type": "code",
        "colab": {},
        "outputId": "662228a3-6530-4961-a4ca-fa63d21c373b"
      },
      "source": [
        "# List of words in model.\n",
        "vocab = model.wv.vocab.keys()\n",
        "\n",
        "print(model.wv.most_similar(positive=['lady', 'man'], negative=['woman']))\n",
        "\n",
        "# Similarity is calculated using the cosine, so again 1 is total\n",
        "# similarity and 0 is no similarity.\n",
        "print(model.wv.similarity('mr', 'mrs'))\n",
        "\n",
        "# One of these things is not like the other...\n",
        "print(model.wv.doesnt_match(\"breakfast marriage dinner lunch\".split()))"
      ],
      "execution_count": 0,
      "outputs": [
        {
          "output_type": "stream",
          "text": [
            "[('see', 0.9985136985778809), ('highly', 0.9984995126724243), ('character', 0.9984800219535828), ('wish', 0.9984713792800903), ('view', 0.9984613656997681), ('feel', 0.9984591007232666), ('fancy', 0.9984588027000427), ('ill', 0.9984580278396606), ('have', 0.9984573125839233), ('new', 0.9984554052352905)]\n",
            "0.9991336\n",
            "breakfast\n"
          ],
          "name": "stdout"
        }
      ]
    },
    {
      "cell_type": "markdown",
      "metadata": {
        "id": "8AqRsRk8MbLp",
        "colab_type": "text"
      },
      "source": [
        "### Parameter Optimization"
      ]
    },
    {
      "cell_type": "code",
      "metadata": {
        "id": "0C2_nfcoMbLr",
        "colab_type": "code",
        "colab": {},
        "outputId": "7ac5076f-3e6a-4c4c-dd50-35e390da9b38"
      },
      "source": [
        "# set variable ranges\n",
        "min_counts = [1,5,10]\n",
        "# iterate over variable ranges\n",
        "for min_count in min_counts:\n",
        "    print('min_count:', min_count)\n",
        "    # run with default parameters\n",
        "    model = word2vec.Word2Vec(sentences, min_count=min_count)\n",
        "    # List of words in model.\n",
        "    vocab = model.wv.vocab.keys()\n",
        "    print(model.wv.most_similar(positive=['lady', 'man'], negative=['woman']))\n",
        "    # Similarity is calculated using the cosine, so again 1 is total\n",
        "    # similarity and 0 is no similarity.\n",
        "    print(model.wv.similarity('mr', 'mrs'))\n",
        "    # One of these things is not like the other...\n",
        "    print(model.wv.doesnt_match(\"breakfast marriage dinner lunch\".split()), '\\n')"
      ],
      "execution_count": 0,
      "outputs": [
        {
          "output_type": "stream",
          "text": [
            "min_count: 1\n"
          ],
          "name": "stdout"
        },
        {
          "output_type": "stream",
          "text": [
            "C:\\Users\\Aaron\\AppData\\Local\\Programs\\Python\\Python37\\lib\\site-packages\\gensim\\models\\base_any2vec.py:743: UserWarning: C extension not loaded, training will be slow. Install a C compiler and reinstall gensim for fast training.\n",
            "  \"C extension not loaded, training will be slow. \"\n"
          ],
          "name": "stderr"
        },
        {
          "output_type": "stream",
          "text": [
            "[('see', 0.9993274807929993), ('feel', 0.9992974400520325), ('wish', 0.9992825388908386), ('friend', 0.9992712140083313), ('acquaintance', 0.9992703199386597), ('ill', 0.999269962310791), ('live', 0.9992690682411194), ('like', 0.9992680549621582), ('doubt', 0.9992673993110657), ('have', 0.9992637038230896)]\n",
            "0.9994407\n",
            "breakfast \n",
            "\n",
            "min_count: 5\n"
          ],
          "name": "stdout"
        },
        {
          "output_type": "stream",
          "text": [
            "C:\\Users\\Aaron\\AppData\\Local\\Programs\\Python\\Python37\\lib\\site-packages\\gensim\\models\\base_any2vec.py:743: UserWarning: C extension not loaded, training will be slow. Install a C compiler and reinstall gensim for fast training.\n",
            "  \"C extension not loaded, training will be slow. \"\n"
          ],
          "name": "stderr"
        },
        {
          "output_type": "stream",
          "text": [
            "[('highly', 0.9989069700241089), ('have', 0.9988794922828674), ('feel', 0.9988778233528137), ('wish', 0.9988672733306885), ('live', 0.9988651275634766), ('regular', 0.9988642334938049), ('look', 0.9988552927970886), ('word', 0.9988548159599304), ('see', 0.9988521933555603), ('acquaintance', 0.9988520741462708)]\n",
            "0.9990156\n",
            "breakfast \n",
            "\n",
            "min_count: 10\n"
          ],
          "name": "stdout"
        },
        {
          "output_type": "stream",
          "text": [
            "C:\\Users\\Aaron\\AppData\\Local\\Programs\\Python\\Python37\\lib\\site-packages\\gensim\\models\\base_any2vec.py:743: UserWarning: C extension not loaded, training will be slow. Install a C compiler and reinstall gensim for fast training.\n",
            "  \"C extension not loaded, training will be slow. \"\n"
          ],
          "name": "stderr"
        },
        {
          "output_type": "stream",
          "text": [
            "[('highly', 0.9980338215827942), ('see', 0.997999906539917), ('acquaintance', 0.9979976415634155), ('wish', 0.9979618787765503), ('character', 0.9979562759399414), ('convince', 0.99793940782547), ('fancy', 0.9979298114776611), ('friend', 0.997927725315094), ('look', 0.9979273676872253), ('have', 0.9979252815246582)]\n",
            "0.9988124\n",
            "breakfast \n",
            "\n"
          ],
          "name": "stdout"
        }
      ]
    },
    {
      "cell_type": "markdown",
      "metadata": {
        "id": "CMQ_c90UMbLx",
        "colab_type": "text"
      },
      "source": [
        "As mean count increases, our results decrease."
      ]
    },
    {
      "cell_type": "markdown",
      "metadata": {
        "run_control": {
          "frozen": false,
          "read_only": false
        },
        "id": "kYbAl_hBMbLz",
        "colab_type": "text"
      },
      "source": [
        "# Example word2vec applications\n",
        "\n",
        "You can use the vectors from word2vec as features in other models, or try to gain insight from the vector compositions themselves.\n",
        "\n",
        "Here are some neat things people have done with word2vec:\n",
        "\n",
        " * [Visualizing word embeddings in Jane Austen's Pride and Prejudice](http://blogger.ghostweather.com/2014/11/visualizing-word-embeddings-in-pride.html). Skip to the bottom to see a _truly honest_ account of this data scientist's process.\n",
        "\n",
        " * [Tracking changes in Dutch Newspapers' associations with words like 'propaganda' and 'alien' from 1950 to 1990](https://www.slideshare.net/MelvinWevers/concepts-through-time-tracing-concepts-in-dutch-newspaper-discourse-using-sequential-word-vector-spaces).\n",
        "\n",
        " * [Helping customers find clothing items similar to a given item but differing on one or more characteristics](http://multithreaded.stitchfix.com/blog/2015/03/11/word-is-worth-a-thousand-vectors/)."
      ]
    },
    {
      "cell_type": "markdown",
      "metadata": {
        "id": "MmYmRy8nMbL0",
        "colab_type": "text"
      },
      "source": [
        "## Drill 1: Word2Vec on 100B+ words\n",
        "\n",
        "As we mentioned, word2vec really works best on a big corpus, but it can take half a day to clean such a corpus and run word2vec on it.  Fortunately, there are word2vec models available that have already been trained on _really_ big corpora. They are big files, but you can download a [pretrained model of your choice here](https://github.com/3Top/word2vec-api). At minimum, the ones built with word2vec (check the \"Architecture\" column) should load smoothly using an appropriately modified version of the code below, and you can play to your heart's content.\n",
        "\n",
        "Because the models are so large, however, you may run into memory problems or crash the kernel. If you can't get a pretrained model to run locally, check out this [interactive web app of the Google News model](https://rare-technologies.com/word2vec-tutorial/#bonus_app) instead.\n",
        "\n",
        "However you access it, play around with a pretrained model. Is there anything interesting you're able to pull out about analogies, similar words, or words that don't match? Write up a quick note about your tinkering and discuss it with your mentor during your next session."
      ]
    },
    {
      "cell_type": "code",
      "metadata": {
        "run_control": {
          "frozen": false,
          "read_only": false
        },
        "id": "rdKTTgt6MbL2",
        "colab_type": "code",
        "colab": {}
      },
      "source": [
        "# Load Google's pre-trained Word2Vec model.\n",
        "model = gensim.models.KeyedVectors.load_word2vec_format ('https://s3.amazonaws.com/dl4j-distribution/GoogleNews-vectors-negative300.bin.gz', binary=True)"
      ],
      "execution_count": 0,
      "outputs": []
    },
    {
      "cell_type": "code",
      "metadata": {
        "id": "3KncwZg0MbL9",
        "colab_type": "code",
        "colab": {}
      },
      "source": [
        ""
      ],
      "execution_count": 0,
      "outputs": []
    },
    {
      "cell_type": "code",
      "metadata": {
        "run_control": {
          "frozen": false,
          "read_only": false
        },
        "id": "OJ1XUXFdMbMB",
        "colab_type": "code",
        "colab": {}
      },
      "source": [
        "# Play around with your pretrained model here.\n",
        "\n",
        "\n"
      ],
      "execution_count": 0,
      "outputs": []
    }
  ]
}