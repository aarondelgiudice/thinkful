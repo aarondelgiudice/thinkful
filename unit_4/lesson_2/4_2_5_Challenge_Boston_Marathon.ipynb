{
  "nbformat": 4,
  "nbformat_minor": 0,
  "metadata": {
    "colab": {
      "name": "4.2.5 Challenge Boston Marathon.ipynb",
      "version": "0.3.2",
      "provenance": [],
      "collapsed_sections": [],
      "include_colab_link": true
    },
    "language_info": {
      "codemirror_mode": {
        "name": "ipython",
        "version": 3
      },
      "file_extension": ".py",
      "mimetype": "text/x-python",
      "name": "python",
      "nbconvert_exporter": "python",
      "pygments_lexer": "ipython3",
      "version": "3.7.1"
    },
    "kernelspec": {
      "display_name": "Python 3",
      "language": "python",
      "name": "python3"
    }
  },
  "cells": [
    {
      "cell_type": "markdown",
      "metadata": {
        "id": "view-in-github",
        "colab_type": "text"
      },
      "source": [
        "<a href=\"https://colab.research.google.com/github/aarondelgiudice/thinkful_data_bootcamp/blob/master/unit_4/lesson_2/4_2_5_Challenge_Boston_Marathon.ipynb\" target=\"_parent\"><img src=\"https://colab.research.google.com/assets/colab-badge.svg\" alt=\"Open In Colab\"/></a>"
      ]
    },
    {
      "cell_type": "markdown",
      "metadata": {
        "id": "grmoMSA8FH_x",
        "colab_type": "text"
      },
      "source": [
        "# Challenge: Boston marathon\n",
        "Unit 4 / Lesson 2 / Project 5\n",
        "\n",
        "You now have a pretty varied suite of clustering and clustering evaluation methods, let's try them out on some real data.\n",
        "\n",
        "There is a lot of information on [runners and their performance for the Boston Marathon](https://github.com/llimllib/bostonmarathon).\n",
        "Pick a year (post-2012 has more info) and do some clustering.\n",
        "\n",
        "Specifically, use the tools at hand to determine which clustering solution, including number of clusters and algorithm used, is best for the marathon data.\n",
        "Once you have a solution you like, write a data story, including visualizations, where you teach the reader something about the Boston Marathon based on your clusters.\n",
        "\n",
        "Write up your report, including your process from start to finish, in a Jupyter notebook and submit it below."
      ]
    },
    {
      "cell_type": "code",
      "metadata": {
        "id": "zENcH0RgFH_1",
        "colab_type": "code",
        "colab": {}
      },
      "source": [
        "import numpy as np\n",
        "import pandas as pd\n",
        "import scipy\n",
        "import matplotlib.pyplot as plt\n",
        "%matplotlib inline\n",
        "import seaborn as sns\n",
        "sns.set_style('darkgrid')\n",
        "from sklearn.cluster import KMeans, MiniBatchKMeans, MeanShift\n",
        "from sklearn.cluster import estimate_bandwidth, SpectralClustering\n",
        "from sklearn.metrics import silhouette_score\n",
        "from sklearn.preprocessing import normalize\n",
        "from sklearn.decomposition import PCA"
      ],
      "execution_count": 0,
      "outputs": []
    },
    {
      "cell_type": "markdown",
      "metadata": {
        "id": "fON9c3jhFH__",
        "colab_type": "text"
      },
      "source": [
        "## Import Data"
      ]
    },
    {
      "cell_type": "code",
      "metadata": {
        "scrolled": true,
        "id": "RXFteiA_FIAC",
        "colab_type": "code",
        "outputId": "245fd18b-0670-45e6-f690-6c2d5219dd37",
        "colab": {
          "base_uri": "https://localhost:8080/",
          "height": 338
        }
      },
      "source": [
        "PATH = (\"https://raw.githubusercontent.com/llimllib/\"\n",
        "        \"bostonmarathon/master/results/2013/results.csv\")\n",
        "raw_data = pd.read_csv(PATH)\n",
        "df_raw = pd.DataFrame(raw_data)\n",
        "df_raw.head()"
      ],
      "execution_count": 2,
      "outputs": [
        {
          "output_type": "execute_result",
          "data": {
            "text/html": [
              "<div>\n",
              "<style scoped>\n",
              "    .dataframe tbody tr th:only-of-type {\n",
              "        vertical-align: middle;\n",
              "    }\n",
              "\n",
              "    .dataframe tbody tr th {\n",
              "        vertical-align: top;\n",
              "    }\n",
              "\n",
              "    .dataframe thead th {\n",
              "        text-align: right;\n",
              "    }\n",
              "</style>\n",
              "<table border=\"1\" class=\"dataframe\">\n",
              "  <thead>\n",
              "    <tr style=\"text-align: right;\">\n",
              "      <th></th>\n",
              "      <th>25k</th>\n",
              "      <th>age</th>\n",
              "      <th>name</th>\n",
              "      <th>division</th>\n",
              "      <th>10k</th>\n",
              "      <th>gender</th>\n",
              "      <th>half</th>\n",
              "      <th>official</th>\n",
              "      <th>bib</th>\n",
              "      <th>ctz</th>\n",
              "      <th>...</th>\n",
              "      <th>overall</th>\n",
              "      <th>pace</th>\n",
              "      <th>state</th>\n",
              "      <th>30k</th>\n",
              "      <th>5k</th>\n",
              "      <th>genderdiv</th>\n",
              "      <th>20k</th>\n",
              "      <th>35k</th>\n",
              "      <th>city</th>\n",
              "      <th>40k</th>\n",
              "    </tr>\n",
              "  </thead>\n",
              "  <tbody>\n",
              "    <tr>\n",
              "      <th>0</th>\n",
              "      <td>49.87</td>\n",
              "      <td>28</td>\n",
              "      <td>Cassidy, Josh R.</td>\n",
              "      <td>9</td>\n",
              "      <td>18.18</td>\n",
              "      <td>M</td>\n",
              "      <td>40.93</td>\n",
              "      <td>90.90</td>\n",
              "      <td>W1</td>\n",
              "      <td>NaN</td>\n",
              "      <td>...</td>\n",
              "      <td>9</td>\n",
              "      <td>3.47</td>\n",
              "      <td>ON</td>\n",
              "      <td>62.07</td>\n",
              "      <td>8.90</td>\n",
              "      <td>9</td>\n",
              "      <td>38.80</td>\n",
              "      <td>74.73</td>\n",
              "      <td>Toronto</td>\n",
              "      <td>85.55</td>\n",
              "    </tr>\n",
              "    <tr>\n",
              "      <th>1</th>\n",
              "      <td>77.27</td>\n",
              "      <td>30</td>\n",
              "      <td>Korir, Wesley</td>\n",
              "      <td>5</td>\n",
              "      <td>30.90</td>\n",
              "      <td>M</td>\n",
              "      <td>64.90</td>\n",
              "      <td>132.50</td>\n",
              "      <td>1</td>\n",
              "      <td>NaN</td>\n",
              "      <td>...</td>\n",
              "      <td>5</td>\n",
              "      <td>5.07</td>\n",
              "      <td>NaN</td>\n",
              "      <td>92.97</td>\n",
              "      <td>15.90</td>\n",
              "      <td>5</td>\n",
              "      <td>61.52</td>\n",
              "      <td>108.78</td>\n",
              "      <td>Kenya</td>\n",
              "      <td>124.77</td>\n",
              "    </tr>\n",
              "    <tr>\n",
              "      <th>2</th>\n",
              "      <td>77.23</td>\n",
              "      <td>23</td>\n",
              "      <td>Desisa, Lelisa</td>\n",
              "      <td>1</td>\n",
              "      <td>30.90</td>\n",
              "      <td>M</td>\n",
              "      <td>64.92</td>\n",
              "      <td>130.37</td>\n",
              "      <td>2</td>\n",
              "      <td>NaN</td>\n",
              "      <td>...</td>\n",
              "      <td>1</td>\n",
              "      <td>4.98</td>\n",
              "      <td>NaN</td>\n",
              "      <td>92.72</td>\n",
              "      <td>15.93</td>\n",
              "      <td>1</td>\n",
              "      <td>61.53</td>\n",
              "      <td>108.68</td>\n",
              "      <td>Ambo</td>\n",
              "      <td>123.78</td>\n",
              "    </tr>\n",
              "    <tr>\n",
              "      <th>3</th>\n",
              "      <td>50.50</td>\n",
              "      <td>32</td>\n",
              "      <td>Fearnley, Kurt H.</td>\n",
              "      <td>5</td>\n",
              "      <td>18.73</td>\n",
              "      <td>M</td>\n",
              "      <td>42.00</td>\n",
              "      <td>88.43</td>\n",
              "      <td>W2</td>\n",
              "      <td>NaN</td>\n",
              "      <td>...</td>\n",
              "      <td>5</td>\n",
              "      <td>3.38</td>\n",
              "      <td>NaN</td>\n",
              "      <td>61.35</td>\n",
              "      <td>8.98</td>\n",
              "      <td>5</td>\n",
              "      <td>39.88</td>\n",
              "      <td>73.00</td>\n",
              "      <td>Hamilton</td>\n",
              "      <td>83.43</td>\n",
              "    </tr>\n",
              "    <tr>\n",
              "      <th>4</th>\n",
              "      <td>48.75</td>\n",
              "      <td>39</td>\n",
              "      <td>Hokinoue, Kota</td>\n",
              "      <td>3</td>\n",
              "      <td>18.18</td>\n",
              "      <td>M</td>\n",
              "      <td>40.57</td>\n",
              "      <td>87.22</td>\n",
              "      <td>W3</td>\n",
              "      <td>NaN</td>\n",
              "      <td>...</td>\n",
              "      <td>3</td>\n",
              "      <td>3.33</td>\n",
              "      <td>NaN</td>\n",
              "      <td>59.92</td>\n",
              "      <td>8.92</td>\n",
              "      <td>3</td>\n",
              "      <td>38.55</td>\n",
              "      <td>71.68</td>\n",
              "      <td>Iizuka</td>\n",
              "      <td>81.88</td>\n",
              "    </tr>\n",
              "  </tbody>\n",
              "</table>\n",
              "<p>5 rows × 21 columns</p>\n",
              "</div>"
            ],
            "text/plain": [
              "     25k  age               name  division    10k gender   half  official bib  \\\n",
              "0  49.87   28   Cassidy, Josh R.         9  18.18      M  40.93     90.90  W1   \n",
              "1  77.27   30      Korir, Wesley         5  30.90      M  64.90    132.50   1   \n",
              "2  77.23   23     Desisa, Lelisa         1  30.90      M  64.92    130.37   2   \n",
              "3  50.50   32  Fearnley, Kurt H.         5  18.73      M  42.00     88.43  W2   \n",
              "4  48.75   39     Hokinoue, Kota         3  18.18      M  40.57     87.22  W3   \n",
              "\n",
              "   ctz  ... overall  pace  state    30k     5k genderdiv    20k     35k  \\\n",
              "0  NaN  ...       9  3.47     ON  62.07   8.90         9  38.80   74.73   \n",
              "1  NaN  ...       5  5.07    NaN  92.97  15.90         5  61.52  108.78   \n",
              "2  NaN  ...       1  4.98    NaN  92.72  15.93         1  61.53  108.68   \n",
              "3  NaN  ...       5  3.38    NaN  61.35   8.98         5  39.88   73.00   \n",
              "4  NaN  ...       3  3.33    NaN  59.92   8.92         3  38.55   71.68   \n",
              "\n",
              "       city     40k  \n",
              "0   Toronto   85.55  \n",
              "1     Kenya  124.77  \n",
              "2      Ambo  123.78  \n",
              "3  Hamilton   83.43  \n",
              "4    Iizuka   81.88  \n",
              "\n",
              "[5 rows x 21 columns]"
            ]
          },
          "metadata": {
            "tags": []
          },
          "execution_count": 2
        }
      ]
    },
    {
      "cell_type": "markdown",
      "metadata": {
        "id": "WUvO39YzFIAR",
        "colab_type": "text"
      },
      "source": [
        "## Context\n",
        "Data on the Boston Marathon available from baa.org"
      ]
    },
    {
      "cell_type": "markdown",
      "metadata": {
        "id": "ubxT8OEXFIAT",
        "colab_type": "text"
      },
      "source": [
        "## EDA"
      ]
    },
    {
      "cell_type": "code",
      "metadata": {
        "id": "NI4YSwlFFIAV",
        "colab_type": "code",
        "outputId": "72cf3ace-fd58-4b28-f6ee-659c9944e309",
        "colab": {
          "base_uri": "https://localhost:8080/",
          "height": 459
        }
      },
      "source": [
        "df_raw.info()"
      ],
      "execution_count": 3,
      "outputs": [
        {
          "output_type": "stream",
          "text": [
            "<class 'pandas.core.frame.DataFrame'>\n",
            "RangeIndex: 16164 entries, 0 to 16163\n",
            "Data columns (total 21 columns):\n",
            "25k          16164 non-null object\n",
            "age          16164 non-null int64\n",
            "name         16164 non-null object\n",
            "division     16164 non-null int64\n",
            "10k          16164 non-null object\n",
            "gender       16164 non-null object\n",
            "half         16164 non-null object\n",
            "official     16164 non-null float64\n",
            "bib          16164 non-null object\n",
            "ctz          757 non-null object\n",
            "country      16164 non-null object\n",
            "overall      16164 non-null int64\n",
            "pace         16164 non-null float64\n",
            "state        14701 non-null object\n",
            "30k          16164 non-null object\n",
            "5k           16164 non-null object\n",
            "genderdiv    16164 non-null int64\n",
            "20k          16164 non-null object\n",
            "35k          16164 non-null object\n",
            "city         16163 non-null object\n",
            "40k          16164 non-null object\n",
            "dtypes: float64(2), int64(4), object(15)\n",
            "memory usage: 2.6+ MB\n"
          ],
          "name": "stdout"
        }
      ]
    },
    {
      "cell_type": "code",
      "metadata": {
        "id": "AwQ2E2szFIAh",
        "colab_type": "code",
        "outputId": "5c421a0b-8ab3-4e84-fbe1-8e81b3c4869d",
        "colab": {
          "base_uri": "https://localhost:8080/",
          "height": 297
        }
      },
      "source": [
        "df_raw.describe()"
      ],
      "execution_count": 4,
      "outputs": [
        {
          "output_type": "execute_result",
          "data": {
            "text/html": [
              "<div>\n",
              "<style scoped>\n",
              "    .dataframe tbody tr th:only-of-type {\n",
              "        vertical-align: middle;\n",
              "    }\n",
              "\n",
              "    .dataframe tbody tr th {\n",
              "        vertical-align: top;\n",
              "    }\n",
              "\n",
              "    .dataframe thead th {\n",
              "        text-align: right;\n",
              "    }\n",
              "</style>\n",
              "<table border=\"1\" class=\"dataframe\">\n",
              "  <thead>\n",
              "    <tr style=\"text-align: right;\">\n",
              "      <th></th>\n",
              "      <th>age</th>\n",
              "      <th>division</th>\n",
              "      <th>official</th>\n",
              "      <th>overall</th>\n",
              "      <th>pace</th>\n",
              "      <th>genderdiv</th>\n",
              "    </tr>\n",
              "  </thead>\n",
              "  <tbody>\n",
              "    <tr>\n",
              "      <th>count</th>\n",
              "      <td>16164.000000</td>\n",
              "      <td>16164.000000</td>\n",
              "      <td>16164.000000</td>\n",
              "      <td>16164.000000</td>\n",
              "      <td>16164.000000</td>\n",
              "      <td>16164.000000</td>\n",
              "    </tr>\n",
              "    <tr>\n",
              "      <th>mean</th>\n",
              "      <td>41.638332</td>\n",
              "      <td>1100.967025</td>\n",
              "      <td>208.159470</td>\n",
              "      <td>8429.373422</td>\n",
              "      <td>7.947398</td>\n",
              "      <td>4351.684732</td>\n",
              "    </tr>\n",
              "    <tr>\n",
              "      <th>std</th>\n",
              "      <td>10.351311</td>\n",
              "      <td>942.114816</td>\n",
              "      <td>23.743608</td>\n",
              "      <td>5052.024116</td>\n",
              "      <td>0.905739</td>\n",
              "      <td>2772.398239</td>\n",
              "    </tr>\n",
              "    <tr>\n",
              "      <th>min</th>\n",
              "      <td>18.000000</td>\n",
              "      <td>1.000000</td>\n",
              "      <td>85.530000</td>\n",
              "      <td>1.000000</td>\n",
              "      <td>3.270000</td>\n",
              "      <td>1.000000</td>\n",
              "    </tr>\n",
              "    <tr>\n",
              "      <th>25%</th>\n",
              "      <td>34.000000</td>\n",
              "      <td>363.000000</td>\n",
              "      <td>191.727500</td>\n",
              "      <td>4061.750000</td>\n",
              "      <td>7.320000</td>\n",
              "      <td>2032.750000</td>\n",
              "    </tr>\n",
              "    <tr>\n",
              "      <th>50%</th>\n",
              "      <td>42.000000</td>\n",
              "      <td>842.000000</td>\n",
              "      <td>209.225000</td>\n",
              "      <td>8247.500000</td>\n",
              "      <td>7.980000</td>\n",
              "      <td>4113.500000</td>\n",
              "    </tr>\n",
              "    <tr>\n",
              "      <th>75%</th>\n",
              "      <td>49.000000</td>\n",
              "      <td>1560.000000</td>\n",
              "      <td>225.230000</td>\n",
              "      <td>12662.250000</td>\n",
              "      <td>8.600000</td>\n",
              "      <td>6316.000000</td>\n",
              "    </tr>\n",
              "    <tr>\n",
              "      <th>max</th>\n",
              "      <td>80.000000</td>\n",
              "      <td>3834.000000</td>\n",
              "      <td>284.230000</td>\n",
              "      <td>17598.000000</td>\n",
              "      <td>10.850000</td>\n",
              "      <td>10648.000000</td>\n",
              "    </tr>\n",
              "  </tbody>\n",
              "</table>\n",
              "</div>"
            ],
            "text/plain": [
              "                age      division      official       overall          pace  \\\n",
              "count  16164.000000  16164.000000  16164.000000  16164.000000  16164.000000   \n",
              "mean      41.638332   1100.967025    208.159470   8429.373422      7.947398   \n",
              "std       10.351311    942.114816     23.743608   5052.024116      0.905739   \n",
              "min       18.000000      1.000000     85.530000      1.000000      3.270000   \n",
              "25%       34.000000    363.000000    191.727500   4061.750000      7.320000   \n",
              "50%       42.000000    842.000000    209.225000   8247.500000      7.980000   \n",
              "75%       49.000000   1560.000000    225.230000  12662.250000      8.600000   \n",
              "max       80.000000   3834.000000    284.230000  17598.000000     10.850000   \n",
              "\n",
              "          genderdiv  \n",
              "count  16164.000000  \n",
              "mean    4351.684732  \n",
              "std     2772.398239  \n",
              "min        1.000000  \n",
              "25%     2032.750000  \n",
              "50%     4113.500000  \n",
              "75%     6316.000000  \n",
              "max    10648.000000  "
            ]
          },
          "metadata": {
            "tags": []
          },
          "execution_count": 4
        }
      ]
    },
    {
      "cell_type": "code",
      "metadata": {
        "id": "zD66gZrWFIAt",
        "colab_type": "code",
        "outputId": "9cf1c93b-0ecc-4afe-e714-370d45a42985",
        "colab": {
          "base_uri": "https://localhost:8080/",
          "height": 338
        }
      },
      "source": [
        "# Remove '-' from all columns\n",
        "\n",
        "def non_decimal(x):\n",
        "    x = str(x)\n",
        "    if x.find('-') != -1:\n",
        "        return np.nan\n",
        "    else:\n",
        "        return float(x)\n",
        "\n",
        "df_raw['5k'] = df_raw['5k'].apply(non_decimal)    \n",
        "df_raw['10k'] = df_raw['10k'].apply(non_decimal)\n",
        "df_raw['20k'] = df_raw['20k'].apply(non_decimal)\n",
        "df_raw['25k'] = df_raw['25k'].apply(non_decimal)\n",
        "df_raw['half'] = df_raw['half'].apply(non_decimal)\n",
        "df_raw['30k'] = df_raw['30k'].apply(non_decimal)\n",
        "df_raw['35k'] = df_raw['35k'].apply(non_decimal)\n",
        "df_raw['40k'] = df_raw['40k'].apply(non_decimal)\n",
        "df_raw['official'] = df_raw['official'].apply(non_decimal)\n",
        "\n",
        "display(df_raw.head(5))"
      ],
      "execution_count": 5,
      "outputs": [
        {
          "output_type": "display_data",
          "data": {
            "text/html": [
              "<div>\n",
              "<style scoped>\n",
              "    .dataframe tbody tr th:only-of-type {\n",
              "        vertical-align: middle;\n",
              "    }\n",
              "\n",
              "    .dataframe tbody tr th {\n",
              "        vertical-align: top;\n",
              "    }\n",
              "\n",
              "    .dataframe thead th {\n",
              "        text-align: right;\n",
              "    }\n",
              "</style>\n",
              "<table border=\"1\" class=\"dataframe\">\n",
              "  <thead>\n",
              "    <tr style=\"text-align: right;\">\n",
              "      <th></th>\n",
              "      <th>25k</th>\n",
              "      <th>age</th>\n",
              "      <th>name</th>\n",
              "      <th>division</th>\n",
              "      <th>10k</th>\n",
              "      <th>gender</th>\n",
              "      <th>half</th>\n",
              "      <th>official</th>\n",
              "      <th>bib</th>\n",
              "      <th>ctz</th>\n",
              "      <th>...</th>\n",
              "      <th>overall</th>\n",
              "      <th>pace</th>\n",
              "      <th>state</th>\n",
              "      <th>30k</th>\n",
              "      <th>5k</th>\n",
              "      <th>genderdiv</th>\n",
              "      <th>20k</th>\n",
              "      <th>35k</th>\n",
              "      <th>city</th>\n",
              "      <th>40k</th>\n",
              "    </tr>\n",
              "  </thead>\n",
              "  <tbody>\n",
              "    <tr>\n",
              "      <th>0</th>\n",
              "      <td>49.87</td>\n",
              "      <td>28</td>\n",
              "      <td>Cassidy, Josh R.</td>\n",
              "      <td>9</td>\n",
              "      <td>18.18</td>\n",
              "      <td>M</td>\n",
              "      <td>40.93</td>\n",
              "      <td>90.90</td>\n",
              "      <td>W1</td>\n",
              "      <td>NaN</td>\n",
              "      <td>...</td>\n",
              "      <td>9</td>\n",
              "      <td>3.47</td>\n",
              "      <td>ON</td>\n",
              "      <td>62.07</td>\n",
              "      <td>8.90</td>\n",
              "      <td>9</td>\n",
              "      <td>38.80</td>\n",
              "      <td>74.73</td>\n",
              "      <td>Toronto</td>\n",
              "      <td>85.55</td>\n",
              "    </tr>\n",
              "    <tr>\n",
              "      <th>1</th>\n",
              "      <td>77.27</td>\n",
              "      <td>30</td>\n",
              "      <td>Korir, Wesley</td>\n",
              "      <td>5</td>\n",
              "      <td>30.90</td>\n",
              "      <td>M</td>\n",
              "      <td>64.90</td>\n",
              "      <td>132.50</td>\n",
              "      <td>1</td>\n",
              "      <td>NaN</td>\n",
              "      <td>...</td>\n",
              "      <td>5</td>\n",
              "      <td>5.07</td>\n",
              "      <td>NaN</td>\n",
              "      <td>92.97</td>\n",
              "      <td>15.90</td>\n",
              "      <td>5</td>\n",
              "      <td>61.52</td>\n",
              "      <td>108.78</td>\n",
              "      <td>Kenya</td>\n",
              "      <td>124.77</td>\n",
              "    </tr>\n",
              "    <tr>\n",
              "      <th>2</th>\n",
              "      <td>77.23</td>\n",
              "      <td>23</td>\n",
              "      <td>Desisa, Lelisa</td>\n",
              "      <td>1</td>\n",
              "      <td>30.90</td>\n",
              "      <td>M</td>\n",
              "      <td>64.92</td>\n",
              "      <td>130.37</td>\n",
              "      <td>2</td>\n",
              "      <td>NaN</td>\n",
              "      <td>...</td>\n",
              "      <td>1</td>\n",
              "      <td>4.98</td>\n",
              "      <td>NaN</td>\n",
              "      <td>92.72</td>\n",
              "      <td>15.93</td>\n",
              "      <td>1</td>\n",
              "      <td>61.53</td>\n",
              "      <td>108.68</td>\n",
              "      <td>Ambo</td>\n",
              "      <td>123.78</td>\n",
              "    </tr>\n",
              "    <tr>\n",
              "      <th>3</th>\n",
              "      <td>50.50</td>\n",
              "      <td>32</td>\n",
              "      <td>Fearnley, Kurt H.</td>\n",
              "      <td>5</td>\n",
              "      <td>18.73</td>\n",
              "      <td>M</td>\n",
              "      <td>42.00</td>\n",
              "      <td>88.43</td>\n",
              "      <td>W2</td>\n",
              "      <td>NaN</td>\n",
              "      <td>...</td>\n",
              "      <td>5</td>\n",
              "      <td>3.38</td>\n",
              "      <td>NaN</td>\n",
              "      <td>61.35</td>\n",
              "      <td>8.98</td>\n",
              "      <td>5</td>\n",
              "      <td>39.88</td>\n",
              "      <td>73.00</td>\n",
              "      <td>Hamilton</td>\n",
              "      <td>83.43</td>\n",
              "    </tr>\n",
              "    <tr>\n",
              "      <th>4</th>\n",
              "      <td>48.75</td>\n",
              "      <td>39</td>\n",
              "      <td>Hokinoue, Kota</td>\n",
              "      <td>3</td>\n",
              "      <td>18.18</td>\n",
              "      <td>M</td>\n",
              "      <td>40.57</td>\n",
              "      <td>87.22</td>\n",
              "      <td>W3</td>\n",
              "      <td>NaN</td>\n",
              "      <td>...</td>\n",
              "      <td>3</td>\n",
              "      <td>3.33</td>\n",
              "      <td>NaN</td>\n",
              "      <td>59.92</td>\n",
              "      <td>8.92</td>\n",
              "      <td>3</td>\n",
              "      <td>38.55</td>\n",
              "      <td>71.68</td>\n",
              "      <td>Iizuka</td>\n",
              "      <td>81.88</td>\n",
              "    </tr>\n",
              "  </tbody>\n",
              "</table>\n",
              "<p>5 rows × 21 columns</p>\n",
              "</div>"
            ],
            "text/plain": [
              "     25k  age               name  division    10k gender   half  official bib  \\\n",
              "0  49.87   28   Cassidy, Josh R.         9  18.18      M  40.93     90.90  W1   \n",
              "1  77.27   30      Korir, Wesley         5  30.90      M  64.90    132.50   1   \n",
              "2  77.23   23     Desisa, Lelisa         1  30.90      M  64.92    130.37   2   \n",
              "3  50.50   32  Fearnley, Kurt H.         5  18.73      M  42.00     88.43  W2   \n",
              "4  48.75   39     Hokinoue, Kota         3  18.18      M  40.57     87.22  W3   \n",
              "\n",
              "   ctz  ... overall  pace  state    30k     5k  genderdiv    20k     35k  \\\n",
              "0  NaN  ...       9  3.47     ON  62.07   8.90          9  38.80   74.73   \n",
              "1  NaN  ...       5  5.07    NaN  92.97  15.90          5  61.52  108.78   \n",
              "2  NaN  ...       1  4.98    NaN  92.72  15.93          1  61.53  108.68   \n",
              "3  NaN  ...       5  3.38    NaN  61.35   8.98          5  39.88   73.00   \n",
              "4  NaN  ...       3  3.33    NaN  59.92   8.92          3  38.55   71.68   \n",
              "\n",
              "       city     40k  \n",
              "0   Toronto   85.55  \n",
              "1     Kenya  124.77  \n",
              "2      Ambo  123.78  \n",
              "3  Hamilton   83.43  \n",
              "4    Iizuka   81.88  \n",
              "\n",
              "[5 rows x 21 columns]"
            ]
          },
          "metadata": {
            "tags": []
          }
        }
      ]
    },
    {
      "cell_type": "code",
      "metadata": {
        "id": "4wrvcWZ8FIA2",
        "colab_type": "code",
        "outputId": "39ec9c9d-be97-4f37-90e1-f8b3eb8d116d",
        "colab": {
          "base_uri": "https://localhost:8080/",
          "height": 286
        }
      },
      "source": [
        "df_raw['25k'].hist()"
      ],
      "execution_count": 6,
      "outputs": [
        {
          "output_type": "execute_result",
          "data": {
            "text/plain": [
              "<matplotlib.axes._subplots.AxesSubplot at 0x7f4e72552da0>"
            ]
          },
          "metadata": {
            "tags": []
          },
          "execution_count": 6
        },
        {
          "output_type": "display_data",
          "data": {
            "image/png": "[encoded data removed]",
            "text/plain": [
              "<Figure size 432x288 with 1 Axes>"
            ]
          },
          "metadata": {
            "tags": []
          }
        }
      ]
    },
    {
      "cell_type": "code",
      "metadata": {
        "id": "Ww_ab5__FIA_",
        "colab_type": "code",
        "outputId": "5ef7724f-05e6-4af9-bc9c-963697e3d6a6",
        "colab": {
          "base_uri": "https://localhost:8080/",
          "height": 407
        }
      },
      "source": [
        "def plot_feature_distribution(df, features):\n",
        "    i = 0\n",
        "    plt.figure()\n",
        "    fig, ax = plt.subplots(10,10,figsize=(15,5))\n",
        "\n",
        "    for feature in features:\n",
        "        i += 1\n",
        "        plt.subplot(2,5,i)\n",
        "        sns.distplot(df[feature], hist=False)\n",
        "        plt.xlabel(feature, fontsize=9)\n",
        "        locs, labels = plt.xticks()\n",
        "        plt.tick_params(axis='x', which='major', labelsize=6, pad=-6)\n",
        "        plt.tick_params(axis='y', which='major', labelsize=6)\n",
        "    plt.show();\n",
        "    \n",
        "features = df_raw.dtypes[df_raw.dtypes == 'float64'].index\n",
        "plot_feature_distribution(df_raw, features)"
      ],
      "execution_count": 7,
      "outputs": [
        {
          "output_type": "stream",
          "text": [
            "/usr/local/lib/python3.6/dist-packages/statsmodels/nonparametric/kde.py:448: RuntimeWarning: invalid value encountered in greater\n",
            "  X = X[np.logical_and(X > clip[0], X < clip[1])] # won't work for two columns.\n",
            "/usr/local/lib/python3.6/dist-packages/statsmodels/nonparametric/kde.py:448: RuntimeWarning: invalid value encountered in less\n",
            "  X = X[np.logical_and(X > clip[0], X < clip[1])] # won't work for two columns.\n"
          ],
          "name": "stderr"
        },
        {
          "output_type": "display_data",
          "data": {
            "text/plain": [
              "<Figure size 432x288 with 0 Axes>"
            ]
          },
          "metadata": {
            "tags": []
          }
        },
        {
          "output_type": "display_data",
          "data": {
            "image/png": "[encoded data removed]",
            "text/plain": [
              "<Figure size 1080x360 with 10 Axes>"
            ]
          },
          "metadata": {
            "tags": []
          }
        }
      ]
    },
    {
      "cell_type": "code",
      "metadata": {
        "id": "7TKNIvo_FIBJ",
        "colab_type": "code",
        "outputId": "f00dde67-c4c3-490f-d5d9-c2b127b873e4",
        "colab": {
          "base_uri": "https://localhost:8080/",
          "height": 441
        }
      },
      "source": [
        "#Age/Gender vs. Pace\n",
        "sns.jointplot(x=\"age\", y=\"pace\", data=df_raw.dropna())\n",
        "plt.show()"
      ],
      "execution_count": 8,
      "outputs": [
        {
          "output_type": "display_data",
          "data": {
            "image/png": "[encoded data removed]",
            "text/plain": [
              "<Figure size 432x432 with 3 Axes>"
            ]
          },
          "metadata": {
            "tags": []
          }
        }
      ]
    },
    {
      "cell_type": "code",
      "metadata": {
        "id": "1sGWXmm7FIBT",
        "colab_type": "code",
        "outputId": "4ce43fa4-0684-4196-c4fc-c6905e953a04",
        "colab": {
          "base_uri": "https://localhost:8080/",
          "height": 441
        }
      },
      "source": [
        "#Age vs. Overall\n",
        "sns.jointplot(x=\"age\", y=\"overall\", data=df_raw.dropna())\n",
        "plt.show()"
      ],
      "execution_count": 9,
      "outputs": [
        {
          "output_type": "display_data",
          "data": {
            "image/png": "[encoded data removed]",
            "text/plain": [
              "<Figure size 432x432 with 3 Axes>"
            ]
          },
          "metadata": {
            "tags": []
          }
        }
      ]
    },
    {
      "cell_type": "code",
      "metadata": {
        "id": "U0BxLIOSFIBd",
        "colab_type": "code",
        "outputId": "dae9fc2c-3e0a-4e7a-8bcc-1986ef4d1c84",
        "colab": {
          "base_uri": "https://localhost:8080/",
          "height": 295
        }
      },
      "source": [
        "#Countplot of country with gender\n",
        "\n",
        "sns.countplot(x='country', hue='gender', data=df_raw.dropna())\n",
        "plt.title('Distribution of Country by Gender')\n",
        "plt.xlabel('Country')\n",
        "plt.show()"
      ],
      "execution_count": 10,
      "outputs": [
        {
          "output_type": "display_data",
          "data": {
            "image/png": "[encoded data removed]",
            "text/plain": [
              "<Figure size 432x288 with 1 Axes>"
            ]
          },
          "metadata": {
            "tags": []
          }
        }
      ]
    },
    {
      "cell_type": "markdown",
      "metadata": {
        "id": "ZzbC6BubFIBn",
        "colab_type": "text"
      },
      "source": [
        "## Data Cleaning"
      ]
    },
    {
      "cell_type": "code",
      "metadata": {
        "scrolled": true,
        "id": "CiqdezvbFIBp",
        "colab_type": "code",
        "outputId": "d23cb2ac-077d-4bd4-b5bd-3d6f0e3b0c7c",
        "colab": {
          "base_uri": "https://localhost:8080/",
          "height": 391
        }
      },
      "source": [
        "# view sum of NaN values\n",
        "df_raw.isna().sum()#.sum()"
      ],
      "execution_count": 11,
      "outputs": [
        {
          "output_type": "execute_result",
          "data": {
            "text/plain": [
              "25k             23\n",
              "age              0\n",
              "name             0\n",
              "division         0\n",
              "10k             26\n",
              "gender           0\n",
              "half            16\n",
              "official         0\n",
              "bib              0\n",
              "ctz          15407\n",
              "country          0\n",
              "overall          0\n",
              "pace             0\n",
              "state         1463\n",
              "30k             17\n",
              "5k              66\n",
              "genderdiv        0\n",
              "20k             17\n",
              "35k             21\n",
              "city             1\n",
              "40k             17\n",
              "dtype: int64"
            ]
          },
          "metadata": {
            "tags": []
          },
          "execution_count": 11
        }
      ]
    },
    {
      "cell_type": "code",
      "metadata": {
        "scrolled": true,
        "id": "_ROim5dFFIBz",
        "colab_type": "code",
        "outputId": "cd8d875f-46b1-4df1-8025-b75b0cd144ea",
        "colab": {
          "base_uri": "https://localhost:8080/",
          "height": 255
        }
      },
      "source": [
        "categorical = df_raw.select_dtypes(include=['object'])\n",
        "for i in categorical:\n",
        "    column = categorical[i]\n",
        "    print(i)\n",
        "    print(column.nunique())"
      ],
      "execution_count": 12,
      "outputs": [
        {
          "output_type": "stream",
          "text": [
            "name\n",
            "16137\n",
            "gender\n",
            "2\n",
            "bib\n",
            "16157\n",
            "ctz\n",
            "75\n",
            "country\n",
            "68\n",
            "state\n",
            "65\n",
            "city\n",
            "4416\n"
          ],
          "name": "stdout"
        }
      ]
    },
    {
      "cell_type": "code",
      "metadata": {
        "id": "xRvympTdFICE",
        "colab_type": "code",
        "colab": {}
      },
      "source": [
        "# drop features with too many unique values\n",
        "drop_list = ['name', 'bib', 'ctz', 'city', 'country', 'gender', 'state']\n",
        "df_raw = df_raw.drop(drop_list, axis=1)"
      ],
      "execution_count": 0,
      "outputs": []
    },
    {
      "cell_type": "code",
      "metadata": {
        "id": "naaVHIiRFICM",
        "colab_type": "code",
        "colab": {}
      },
      "source": [
        "# drop NaNs\n",
        "df_raw = df_raw.dropna()"
      ],
      "execution_count": 0,
      "outputs": []
    },
    {
      "cell_type": "code",
      "metadata": {
        "id": "tlYfh4uCFICT",
        "colab_type": "code",
        "outputId": "6346bce7-2931-45c5-8832-44ab1e335050",
        "colab": {
          "base_uri": "https://localhost:8080/",
          "height": 204
        }
      },
      "source": [
        "# normalize data\n",
        "cols = df_raw.columns\n",
        "df_raw = normalize(df_raw)\n",
        "df_raw = pd.DataFrame(df_raw, columns=cols)\n",
        "df_raw.head()"
      ],
      "execution_count": 15,
      "outputs": [
        {
          "output_type": "execute_result",
          "data": {
            "text/html": [
              "<div>\n",
              "<style scoped>\n",
              "    .dataframe tbody tr th:only-of-type {\n",
              "        vertical-align: middle;\n",
              "    }\n",
              "\n",
              "    .dataframe tbody tr th {\n",
              "        vertical-align: top;\n",
              "    }\n",
              "\n",
              "    .dataframe thead th {\n",
              "        text-align: right;\n",
              "    }\n",
              "</style>\n",
              "<table border=\"1\" class=\"dataframe\">\n",
              "  <thead>\n",
              "    <tr style=\"text-align: right;\">\n",
              "      <th></th>\n",
              "      <th>25k</th>\n",
              "      <th>age</th>\n",
              "      <th>division</th>\n",
              "      <th>10k</th>\n",
              "      <th>half</th>\n",
              "      <th>official</th>\n",
              "      <th>overall</th>\n",
              "      <th>pace</th>\n",
              "      <th>30k</th>\n",
              "      <th>5k</th>\n",
              "      <th>genderdiv</th>\n",
              "      <th>20k</th>\n",
              "      <th>35k</th>\n",
              "      <th>40k</th>\n",
              "    </tr>\n",
              "  </thead>\n",
              "  <tbody>\n",
              "    <tr>\n",
              "      <th>0</th>\n",
              "      <td>0.278194</td>\n",
              "      <td>0.156195</td>\n",
              "      <td>0.050205</td>\n",
              "      <td>0.101415</td>\n",
              "      <td>0.228323</td>\n",
              "      <td>0.507075</td>\n",
              "      <td>0.050205</td>\n",
              "      <td>0.019357</td>\n",
              "      <td>0.346250</td>\n",
              "      <td>0.049648</td>\n",
              "      <td>0.050205</td>\n",
              "      <td>0.216441</td>\n",
              "      <td>0.416873</td>\n",
              "      <td>0.477231</td>\n",
              "    </tr>\n",
              "    <tr>\n",
              "      <th>1</th>\n",
              "      <td>0.292522</td>\n",
              "      <td>0.113571</td>\n",
              "      <td>0.018929</td>\n",
              "      <td>0.116978</td>\n",
              "      <td>0.245692</td>\n",
              "      <td>0.501606</td>\n",
              "      <td>0.018929</td>\n",
              "      <td>0.019194</td>\n",
              "      <td>0.351957</td>\n",
              "      <td>0.060193</td>\n",
              "      <td>0.018929</td>\n",
              "      <td>0.232897</td>\n",
              "      <td>0.411809</td>\n",
              "      <td>0.472343</td>\n",
              "    </tr>\n",
              "    <tr>\n",
              "      <th>2</th>\n",
              "      <td>0.295174</td>\n",
              "      <td>0.087906</td>\n",
              "      <td>0.003822</td>\n",
              "      <td>0.118100</td>\n",
              "      <td>0.248125</td>\n",
              "      <td>0.498276</td>\n",
              "      <td>0.003822</td>\n",
              "      <td>0.019034</td>\n",
              "      <td>0.354377</td>\n",
              "      <td>0.060885</td>\n",
              "      <td>0.003822</td>\n",
              "      <td>0.235169</td>\n",
              "      <td>0.415377</td>\n",
              "      <td>0.473089</td>\n",
              "    </tr>\n",
              "    <tr>\n",
              "      <th>3</th>\n",
              "      <td>0.285353</td>\n",
              "      <td>0.180818</td>\n",
              "      <td>0.028253</td>\n",
              "      <td>0.105835</td>\n",
              "      <td>0.237323</td>\n",
              "      <td>0.499678</td>\n",
              "      <td>0.028253</td>\n",
              "      <td>0.019099</td>\n",
              "      <td>0.346661</td>\n",
              "      <td>0.050742</td>\n",
              "      <td>0.028253</td>\n",
              "      <td>0.225344</td>\n",
              "      <td>0.412490</td>\n",
              "      <td>0.471425</td>\n",
              "    </tr>\n",
              "    <tr>\n",
              "      <th>4</th>\n",
              "      <td>0.279060</td>\n",
              "      <td>0.223248</td>\n",
              "      <td>0.017173</td>\n",
              "      <td>0.104068</td>\n",
              "      <td>0.232235</td>\n",
              "      <td>0.499274</td>\n",
              "      <td>0.017173</td>\n",
              "      <td>0.019062</td>\n",
              "      <td>0.343001</td>\n",
              "      <td>0.051061</td>\n",
              "      <td>0.017173</td>\n",
              "      <td>0.220672</td>\n",
              "      <td>0.410318</td>\n",
              "      <td>0.468706</td>\n",
              "    </tr>\n",
              "  </tbody>\n",
              "</table>\n",
              "</div>"
            ],
            "text/plain": [
              "        25k       age  division       10k      half  official   overall  \\\n",
              "0  0.278194  0.156195  0.050205  0.101415  0.228323  0.507075  0.050205   \n",
              "1  0.292522  0.113571  0.018929  0.116978  0.245692  0.501606  0.018929   \n",
              "2  0.295174  0.087906  0.003822  0.118100  0.248125  0.498276  0.003822   \n",
              "3  0.285353  0.180818  0.028253  0.105835  0.237323  0.499678  0.028253   \n",
              "4  0.279060  0.223248  0.017173  0.104068  0.232235  0.499274  0.017173   \n",
              "\n",
              "       pace       30k        5k  genderdiv       20k       35k       40k  \n",
              "0  0.019357  0.346250  0.049648   0.050205  0.216441  0.416873  0.477231  \n",
              "1  0.019194  0.351957  0.060193   0.018929  0.232897  0.411809  0.472343  \n",
              "2  0.019034  0.354377  0.060885   0.003822  0.235169  0.415377  0.473089  \n",
              "3  0.019099  0.346661  0.050742   0.028253  0.225344  0.412490  0.471425  \n",
              "4  0.019062  0.343001  0.051061   0.017173  0.220672  0.410318  0.468706  "
            ]
          },
          "metadata": {
            "tags": []
          },
          "execution_count": 15
        }
      ]
    },
    {
      "cell_type": "code",
      "metadata": {
        "id": "zA8lkjt1FICc",
        "colab_type": "code",
        "colab": {}
      },
      "source": [
        "# store clean data\n",
        "df_clean = df_raw"
      ],
      "execution_count": 0,
      "outputs": []
    },
    {
      "cell_type": "markdown",
      "metadata": {
        "id": "xYeEeBz6FICv",
        "colab_type": "text"
      },
      "source": [
        "## Correlation Matrix"
      ]
    },
    {
      "cell_type": "code",
      "metadata": {
        "id": "jrv1eq9MFICy",
        "colab_type": "code",
        "outputId": "e5531878-a915-4782-96f2-460e954148ab",
        "colab": {
          "base_uri": "https://localhost:8080/",
          "height": 503
        }
      },
      "source": [
        "corr_mat = df_clean.corr()\n",
        "corr_mat"
      ],
      "execution_count": 17,
      "outputs": [
        {
          "output_type": "execute_result",
          "data": {
            "text/html": [
              "<div>\n",
              "<style scoped>\n",
              "    .dataframe tbody tr th:only-of-type {\n",
              "        vertical-align: middle;\n",
              "    }\n",
              "\n",
              "    .dataframe tbody tr th {\n",
              "        vertical-align: top;\n",
              "    }\n",
              "\n",
              "    .dataframe thead th {\n",
              "        text-align: right;\n",
              "    }\n",
              "</style>\n",
              "<table border=\"1\" class=\"dataframe\">\n",
              "  <thead>\n",
              "    <tr style=\"text-align: right;\">\n",
              "      <th></th>\n",
              "      <th>25k</th>\n",
              "      <th>age</th>\n",
              "      <th>division</th>\n",
              "      <th>10k</th>\n",
              "      <th>half</th>\n",
              "      <th>official</th>\n",
              "      <th>overall</th>\n",
              "      <th>pace</th>\n",
              "      <th>30k</th>\n",
              "      <th>5k</th>\n",
              "      <th>genderdiv</th>\n",
              "      <th>20k</th>\n",
              "      <th>35k</th>\n",
              "      <th>40k</th>\n",
              "    </tr>\n",
              "  </thead>\n",
              "  <tbody>\n",
              "    <tr>\n",
              "      <th>25k</th>\n",
              "      <td>1.000000</td>\n",
              "      <td>0.939211</td>\n",
              "      <td>0.261545</td>\n",
              "      <td>0.999552</td>\n",
              "      <td>0.999976</td>\n",
              "      <td>0.999484</td>\n",
              "      <td>-0.705099</td>\n",
              "      <td>0.999484</td>\n",
              "      <td>0.999875</td>\n",
              "      <td>0.998709</td>\n",
              "      <td>-0.050478</td>\n",
              "      <td>0.999975</td>\n",
              "      <td>0.999633</td>\n",
              "      <td>0.999587</td>\n",
              "    </tr>\n",
              "    <tr>\n",
              "      <th>age</th>\n",
              "      <td>0.939211</td>\n",
              "      <td>1.000000</td>\n",
              "      <td>0.141069</td>\n",
              "      <td>0.933605</td>\n",
              "      <td>0.938181</td>\n",
              "      <td>0.941762</td>\n",
              "      <td>-0.681976</td>\n",
              "      <td>0.941782</td>\n",
              "      <td>0.940853</td>\n",
              "      <td>0.929966</td>\n",
              "      <td>-0.028383</td>\n",
              "      <td>0.938271</td>\n",
              "      <td>0.942344</td>\n",
              "      <td>0.941554</td>\n",
              "    </tr>\n",
              "    <tr>\n",
              "      <th>division</th>\n",
              "      <td>0.261545</td>\n",
              "      <td>0.141069</td>\n",
              "      <td>1.000000</td>\n",
              "      <td>0.265146</td>\n",
              "      <td>0.262242</td>\n",
              "      <td>0.260968</td>\n",
              "      <td>-0.494295</td>\n",
              "      <td>0.260946</td>\n",
              "      <td>0.260462</td>\n",
              "      <td>0.266559</td>\n",
              "      <td>0.234738</td>\n",
              "      <td>0.262161</td>\n",
              "      <td>0.259640</td>\n",
              "      <td>0.261182</td>\n",
              "    </tr>\n",
              "    <tr>\n",
              "      <th>10k</th>\n",
              "      <td>0.999552</td>\n",
              "      <td>0.933605</td>\n",
              "      <td>0.265146</td>\n",
              "      <td>1.000000</td>\n",
              "      <td>0.999707</td>\n",
              "      <td>0.998475</td>\n",
              "      <td>-0.704056</td>\n",
              "      <td>0.998477</td>\n",
              "      <td>0.999097</td>\n",
              "      <td>0.999693</td>\n",
              "      <td>-0.047891</td>\n",
              "      <td>0.999700</td>\n",
              "      <td>0.998582</td>\n",
              "      <td>0.998615</td>\n",
              "    </tr>\n",
              "    <tr>\n",
              "      <th>half</th>\n",
              "      <td>0.999976</td>\n",
              "      <td>0.938181</td>\n",
              "      <td>0.262242</td>\n",
              "      <td>0.999707</td>\n",
              "      <td>1.000000</td>\n",
              "      <td>0.999322</td>\n",
              "      <td>-0.704861</td>\n",
              "      <td>0.999322</td>\n",
              "      <td>0.999779</td>\n",
              "      <td>0.998947</td>\n",
              "      <td>-0.049923</td>\n",
              "      <td>0.999999</td>\n",
              "      <td>0.999474</td>\n",
              "      <td>0.999436</td>\n",
              "    </tr>\n",
              "    <tr>\n",
              "      <th>official</th>\n",
              "      <td>0.999484</td>\n",
              "      <td>0.941762</td>\n",
              "      <td>0.260968</td>\n",
              "      <td>0.998475</td>\n",
              "      <td>0.999322</td>\n",
              "      <td>1.000000</td>\n",
              "      <td>-0.707278</td>\n",
              "      <td>0.999999</td>\n",
              "      <td>0.999761</td>\n",
              "      <td>0.997408</td>\n",
              "      <td>-0.050297</td>\n",
              "      <td>0.999330</td>\n",
              "      <td>0.999899</td>\n",
              "      <td>0.999986</td>\n",
              "    </tr>\n",
              "    <tr>\n",
              "      <th>overall</th>\n",
              "      <td>-0.705099</td>\n",
              "      <td>-0.681976</td>\n",
              "      <td>-0.494295</td>\n",
              "      <td>-0.704056</td>\n",
              "      <td>-0.704861</td>\n",
              "      <td>-0.707278</td>\n",
              "      <td>1.000000</td>\n",
              "      <td>-0.707279</td>\n",
              "      <td>-0.705548</td>\n",
              "      <td>-0.703342</td>\n",
              "      <td>-0.608422</td>\n",
              "      <td>-0.704865</td>\n",
              "      <td>-0.706163</td>\n",
              "      <td>-0.706938</td>\n",
              "    </tr>\n",
              "    <tr>\n",
              "      <th>pace</th>\n",
              "      <td>0.999484</td>\n",
              "      <td>0.941782</td>\n",
              "      <td>0.260946</td>\n",
              "      <td>0.998477</td>\n",
              "      <td>0.999322</td>\n",
              "      <td>0.999999</td>\n",
              "      <td>-0.707279</td>\n",
              "      <td>1.000000</td>\n",
              "      <td>0.999760</td>\n",
              "      <td>0.997411</td>\n",
              "      <td>-0.050310</td>\n",
              "      <td>0.999330</td>\n",
              "      <td>0.999898</td>\n",
              "      <td>0.999985</td>\n",
              "    </tr>\n",
              "    <tr>\n",
              "      <th>30k</th>\n",
              "      <td>0.999875</td>\n",
              "      <td>0.940853</td>\n",
              "      <td>0.260462</td>\n",
              "      <td>0.999097</td>\n",
              "      <td>0.999779</td>\n",
              "      <td>0.999761</td>\n",
              "      <td>-0.705548</td>\n",
              "      <td>0.999760</td>\n",
              "      <td>1.000000</td>\n",
              "      <td>0.998084</td>\n",
              "      <td>-0.051270</td>\n",
              "      <td>0.999785</td>\n",
              "      <td>0.999914</td>\n",
              "      <td>0.999841</td>\n",
              "    </tr>\n",
              "    <tr>\n",
              "      <th>5k</th>\n",
              "      <td>0.998709</td>\n",
              "      <td>0.929966</td>\n",
              "      <td>0.266559</td>\n",
              "      <td>0.999693</td>\n",
              "      <td>0.998947</td>\n",
              "      <td>0.997408</td>\n",
              "      <td>-0.703342</td>\n",
              "      <td>0.997411</td>\n",
              "      <td>0.998084</td>\n",
              "      <td>1.000000</td>\n",
              "      <td>-0.046841</td>\n",
              "      <td>0.998935</td>\n",
              "      <td>0.997452</td>\n",
              "      <td>0.997550</td>\n",
              "    </tr>\n",
              "    <tr>\n",
              "      <th>genderdiv</th>\n",
              "      <td>-0.050478</td>\n",
              "      <td>-0.028383</td>\n",
              "      <td>0.234738</td>\n",
              "      <td>-0.047891</td>\n",
              "      <td>-0.049923</td>\n",
              "      <td>-0.050297</td>\n",
              "      <td>-0.608422</td>\n",
              "      <td>-0.050310</td>\n",
              "      <td>-0.051270</td>\n",
              "      <td>-0.046841</td>\n",
              "      <td>1.000000</td>\n",
              "      <td>-0.050009</td>\n",
              "      <td>-0.051755</td>\n",
              "      <td>-0.050402</td>\n",
              "    </tr>\n",
              "    <tr>\n",
              "      <th>20k</th>\n",
              "      <td>0.999975</td>\n",
              "      <td>0.938271</td>\n",
              "      <td>0.262161</td>\n",
              "      <td>0.999700</td>\n",
              "      <td>0.999999</td>\n",
              "      <td>0.999330</td>\n",
              "      <td>-0.704865</td>\n",
              "      <td>0.999330</td>\n",
              "      <td>0.999785</td>\n",
              "      <td>0.998935</td>\n",
              "      <td>-0.050009</td>\n",
              "      <td>1.000000</td>\n",
              "      <td>0.999487</td>\n",
              "      <td>0.999443</td>\n",
              "    </tr>\n",
              "    <tr>\n",
              "      <th>35k</th>\n",
              "      <td>0.999633</td>\n",
              "      <td>0.942344</td>\n",
              "      <td>0.259640</td>\n",
              "      <td>0.998582</td>\n",
              "      <td>0.999474</td>\n",
              "      <td>0.999899</td>\n",
              "      <td>-0.706163</td>\n",
              "      <td>0.999898</td>\n",
              "      <td>0.999914</td>\n",
              "      <td>0.997452</td>\n",
              "      <td>-0.051755</td>\n",
              "      <td>0.999487</td>\n",
              "      <td>1.000000</td>\n",
              "      <td>0.999943</td>\n",
              "    </tr>\n",
              "    <tr>\n",
              "      <th>40k</th>\n",
              "      <td>0.999587</td>\n",
              "      <td>0.941554</td>\n",
              "      <td>0.261182</td>\n",
              "      <td>0.998615</td>\n",
              "      <td>0.999436</td>\n",
              "      <td>0.999986</td>\n",
              "      <td>-0.706938</td>\n",
              "      <td>0.999985</td>\n",
              "      <td>0.999841</td>\n",
              "      <td>0.997550</td>\n",
              "      <td>-0.050402</td>\n",
              "      <td>0.999443</td>\n",
              "      <td>0.999943</td>\n",
              "      <td>1.000000</td>\n",
              "    </tr>\n",
              "  </tbody>\n",
              "</table>\n",
              "</div>"
            ],
            "text/plain": [
              "                25k       age  division       10k      half  official  \\\n",
              "25k        1.000000  0.939211  0.261545  0.999552  0.999976  0.999484   \n",
              "age        0.939211  1.000000  0.141069  0.933605  0.938181  0.941762   \n",
              "division   0.261545  0.141069  1.000000  0.265146  0.262242  0.260968   \n",
              "10k        0.999552  0.933605  0.265146  1.000000  0.999707  0.998475   \n",
              "half       0.999976  0.938181  0.262242  0.999707  1.000000  0.999322   \n",
              "official   0.999484  0.941762  0.260968  0.998475  0.999322  1.000000   \n",
              "overall   -0.705099 -0.681976 -0.494295 -0.704056 -0.704861 -0.707278   \n",
              "pace       0.999484  0.941782  0.260946  0.998477  0.999322  0.999999   \n",
              "30k        0.999875  0.940853  0.260462  0.999097  0.999779  0.999761   \n",
              "5k         0.998709  0.929966  0.266559  0.999693  0.998947  0.997408   \n",
              "genderdiv -0.050478 -0.028383  0.234738 -0.047891 -0.049923 -0.050297   \n",
              "20k        0.999975  0.938271  0.262161  0.999700  0.999999  0.999330   \n",
              "35k        0.999633  0.942344  0.259640  0.998582  0.999474  0.999899   \n",
              "40k        0.999587  0.941554  0.261182  0.998615  0.999436  0.999986   \n",
              "\n",
              "            overall      pace       30k        5k  genderdiv       20k  \\\n",
              "25k       -0.705099  0.999484  0.999875  0.998709  -0.050478  0.999975   \n",
              "age       -0.681976  0.941782  0.940853  0.929966  -0.028383  0.938271   \n",
              "division  -0.494295  0.260946  0.260462  0.266559   0.234738  0.262161   \n",
              "10k       -0.704056  0.998477  0.999097  0.999693  -0.047891  0.999700   \n",
              "half      -0.704861  0.999322  0.999779  0.998947  -0.049923  0.999999   \n",
              "official  -0.707278  0.999999  0.999761  0.997408  -0.050297  0.999330   \n",
              "overall    1.000000 -0.707279 -0.705548 -0.703342  -0.608422 -0.704865   \n",
              "pace      -0.707279  1.000000  0.999760  0.997411  -0.050310  0.999330   \n",
              "30k       -0.705548  0.999760  1.000000  0.998084  -0.051270  0.999785   \n",
              "5k        -0.703342  0.997411  0.998084  1.000000  -0.046841  0.998935   \n",
              "genderdiv -0.608422 -0.050310 -0.051270 -0.046841   1.000000 -0.050009   \n",
              "20k       -0.704865  0.999330  0.999785  0.998935  -0.050009  1.000000   \n",
              "35k       -0.706163  0.999898  0.999914  0.997452  -0.051755  0.999487   \n",
              "40k       -0.706938  0.999985  0.999841  0.997550  -0.050402  0.999443   \n",
              "\n",
              "                35k       40k  \n",
              "25k        0.999633  0.999587  \n",
              "age        0.942344  0.941554  \n",
              "division   0.259640  0.261182  \n",
              "10k        0.998582  0.998615  \n",
              "half       0.999474  0.999436  \n",
              "official   0.999899  0.999986  \n",
              "overall   -0.706163 -0.706938  \n",
              "pace       0.999898  0.999985  \n",
              "30k        0.999914  0.999841  \n",
              "5k         0.997452  0.997550  \n",
              "genderdiv -0.051755 -0.050402  \n",
              "20k        0.999487  0.999443  \n",
              "35k        1.000000  0.999943  \n",
              "40k        0.999943  1.000000  "
            ]
          },
          "metadata": {
            "tags": []
          },
          "execution_count": 17
        }
      ]
    },
    {
      "cell_type": "code",
      "metadata": {
        "id": "wzY6gCC6FIC7",
        "colab_type": "code",
        "outputId": "29e3e794-fe4a-4ad1-83cd-60eedd467c81",
        "colab": {
          "base_uri": "https://localhost:8080/",
          "height": 309
        }
      },
      "source": [
        "sns.heatmap(corr_mat)\n",
        "plt.show()"
      ],
      "execution_count": 18,
      "outputs": [
        {
          "output_type": "display_data",
          "data": {
            "image/png": "[encoded data removed]",
            "text/plain": [
              "<Figure size 432x288 with 2 Axes>"
            ]
          },
          "metadata": {
            "tags": []
          }
        }
      ]
    },
    {
      "cell_type": "markdown",
      "metadata": {
        "id": "QIzSwYT5FIDD",
        "colab_type": "text"
      },
      "source": [
        "## Training Split"
      ]
    },
    {
      "cell_type": "code",
      "metadata": {
        "id": "y2yvYMppFIDF",
        "colab_type": "code",
        "colab": {}
      },
      "source": [
        "data = df_clean\n",
        "features = [c for c in df_clean.columns]\n",
        "\n",
        "from sklearn.model_selection import train_test_split\n",
        "X_train, X_test = train_test_split(data, test_size=0.5, random_state=42)"
      ],
      "execution_count": 0,
      "outputs": []
    },
    {
      "cell_type": "markdown",
      "metadata": {
        "id": "6y1cbAtNFIDP",
        "colab_type": "text"
      },
      "source": [
        "## K-Means"
      ]
    },
    {
      "cell_type": "code",
      "metadata": {
        "id": "xx8JuhpfFIDi",
        "colab_type": "code",
        "outputId": "fc668c8e-07ab-42de-f661-5e4aea486c76",
        "colab": {
          "base_uri": "https://localhost:8080/",
          "height": 283
        }
      },
      "source": [
        "# Find optimal K\n",
        "# Intertias\n",
        "ks = range(1, 9)\n",
        "inertias = []\n",
        "\n",
        "for k in ks:\n",
        "    # Instantiate and fit model\n",
        "    model = KMeans(n_clusters=k, random_state=42).fit(X_train)\n",
        "    \n",
        "    # Append the inertia to the list of inertias\n",
        "    inertias.append(model.inertia_)\n",
        "    \n",
        "# Plot ks vs inertias\n",
        "plt.plot(ks, inertias, '-o')\n",
        "plt.xlabel('clusters')\n",
        "plt.ylabel('inertia')\n",
        "plt.xticks(ks)\n",
        "plt.show()"
      ],
      "execution_count": 20,
      "outputs": [
        {
          "output_type": "display_data",
          "data": {
            "image/png": "[encoded data removed]",
            "text/plain": [
              "<Figure size 432x288 with 1 Axes>"
            ]
          },
          "metadata": {
            "tags": []
          }
        }
      ]
    },
    {
      "cell_type": "code",
      "metadata": {
        "id": "z7go-UvmjMny",
        "colab_type": "code",
        "colab": {
          "base_uri": "https://localhost:8080/",
          "height": 204
        },
        "outputId": "68e2fc77-f1b8-44af-cb14-bd4c8a8e1acc"
      },
      "source": [
        "# objects with a silhouette index close to 1 are considered well clustered\n",
        "# refit model with optimal K\n",
        "model = KMeans(n_clusters=3, random_state=42).fit(X_train)\n",
        "\n",
        "# extract cluster assignments for each data point\n",
        "X_train['kmeans_labels'] = model.labels_\n",
        "\n",
        "# find size of each cluster\n",
        "print(X_train['kmeans_labels'].value_counts())\n",
        "\n",
        "# view silhouette score\n",
        "print('Silhouette score:', silhouette_score(\n",
        "    X_train, X_train['kmeans_labels'], metric='euclidean'))"
      ],
      "execution_count": 21,
      "outputs": [
        {
          "output_type": "stream",
          "text": [
            "/usr/local/lib/python3.6/dist-packages/ipykernel_launcher.py:4: SettingWithCopyWarning: \n",
            "A value is trying to be set on a copy of a slice from a DataFrame.\n",
            "Try using .loc[row_indexer,col_indexer] = value instead\n",
            "\n",
            "See the caveats in the documentation: http://pandas.pydata.org/pandas-docs/stable/indexing.html#indexing-view-versus-copy\n",
            "  after removing the cwd from sys.path.\n"
          ],
          "name": "stderr"
        },
        {
          "output_type": "stream",
          "text": [
            "0    3287\n",
            "2    3253\n",
            "1    1487\n",
            "Name: kmeans_labels, dtype: int64\n",
            "Silhouette score: 0.857759206234917\n"
          ],
          "name": "stdout"
        }
      ]
    },
    {
      "cell_type": "code",
      "metadata": {
        "id": "y7k9fvpApBFs",
        "colab_type": "code",
        "colab": {
          "base_uri": "https://localhost:8080/",
          "height": 85
        },
        "outputId": "3e71cd7a-1a87-4a84-8f3c-0b103eff0cd9"
      },
      "source": [
        "# Test results\n",
        "km_sil_scores = []\n",
        "\n",
        "print('K-Means silhouette scores of train/test data:')\n",
        "for sample in [X_train, X_test]:\n",
        "  model = KMeans(n_clusters=3, random_state=42).fit(sample)\n",
        "  labels = model.labels_\n",
        "  sil_score = silhouette_score(sample, labels, metric='euclidean')\n",
        "  km_sil_scores.append(sil_score)\n",
        "  print(sil_score)\n",
        "    \n",
        "# view variance\n",
        "variances = {}\n",
        "variances['K-means'] = np.var(km_sil_scores)\n",
        "print('variance:', variances['K-means'])"
      ],
      "execution_count": 22,
      "outputs": [
        {
          "output_type": "stream",
          "text": [
            "K-Means silhouette scores of train/test data:\n",
            "0.857759206234917\n",
            "0.5973042642566425\n",
            "variance: 0.01695919420022658\n"
          ],
          "name": "stdout"
        }
      ]
    },
    {
      "cell_type": "markdown",
      "metadata": {
        "id": "ZJ8zB9UdFIDx",
        "colab_type": "text"
      },
      "source": [
        "## Mean-Shift"
      ]
    },
    {
      "cell_type": "code",
      "metadata": {
        "id": "I1mIkVwOFIDz",
        "colab_type": "code",
        "outputId": "efaeeada-921d-4882-ff09-8217b19c7239",
        "colab": {
          "base_uri": "https://localhost:8080/",
          "height": 238
        }
      },
      "source": [
        "# Set bandwidth. This function automatically derives a bandwidth\n",
        "# number based on an inspection of the distances among points in the data.\n",
        "bandwidth = estimate_bandwidth(X_train, quantile=0.3)\n",
        "\n",
        "# Instantiate and fit the model.\n",
        "model = MeanShift(bandwidth=bandwidth, bin_seeding=True).fit(X_train)\n",
        "\n",
        "# Extract cluster assignments for each data point.\n",
        "X_train['mean_shift_labels'] = model.labels_\n",
        "display(X_train['mean_shift_labels'].value_counts())\n",
        "\n",
        "# Coordinates of the cluster centers.\n",
        "cluster_centers = model.cluster_centers_\n",
        "\n",
        "# Count our clusters.\n",
        "n_clusters_ = len(np.unique(model.labels_))\n",
        "print(\"Number of estimated clusters: {}\".format(n_clusters_))\n",
        "\n",
        "# Silhouette score\n",
        "print('Silhouette score:', silhouette_score(\n",
        "    X_train, X_train['mean_shift_labels'], metric='euclidean'))"
      ],
      "execution_count": 23,
      "outputs": [
        {
          "output_type": "stream",
          "text": [
            "/usr/local/lib/python3.6/dist-packages/ipykernel_launcher.py:7: SettingWithCopyWarning: \n",
            "A value is trying to be set on a copy of a slice from a DataFrame.\n",
            "Try using .loc[row_indexer,col_indexer] = value instead\n",
            "\n",
            "See the caveats in the documentation: http://pandas.pydata.org/pandas-docs/stable/indexing.html#indexing-view-versus-copy\n",
            "  import sys\n"
          ],
          "name": "stderr"
        },
        {
          "output_type": "display_data",
          "data": {
            "text/plain": [
              "0    3287\n",
              "1    3253\n",
              "2    1344\n",
              "3     143\n",
              "Name: mean_shift_labels, dtype: int64"
            ]
          },
          "metadata": {
            "tags": []
          }
        },
        {
          "output_type": "stream",
          "text": [
            "Number of estimated clusters: 4\n",
            "Silhouette score: 0.913808979092396\n"
          ],
          "name": "stdout"
        }
      ]
    },
    {
      "cell_type": "code",
      "metadata": {
        "id": "-3z90cbGt28k",
        "colab_type": "code",
        "colab": {
          "base_uri": "https://localhost:8080/",
          "height": 136
        },
        "outputId": "cdcd545e-5ef2-402a-c1c6-f7212503f467"
      },
      "source": [
        "# Test results\n",
        "ms_sil_scores = []\n",
        "\n",
        "print('Mean Shift silhouette scores of train/test data:')\n",
        "for sample in [X_train, X_test]:\n",
        "  # estimate bandwidth\n",
        "  bandwidth = estimate_bandwidth(sample, quantile=0.3)\n",
        "  # Instantiate and fit model\n",
        "  model = MeanShift(bandwidth=bandwidth, bin_seeding=True).fit(sample)\n",
        "  # Extract clusters for each data point\n",
        "  labels = model.labels_\n",
        "  # Coordinates of cluster centers\n",
        "  cluster_centers = model.cluster_centers_\n",
        "  # Count clusters\n",
        "  n_clusters_ = len(np.unique(labels))\n",
        "  \n",
        "  print('Number of estimate clusters: {}'.format(n_clusters_))\n",
        "  sil_score = silhouette_score(sample, labels, metric='euclidean')\n",
        "  ms_sil_scores.append(sil_score)\n",
        "  print(sil_score)\n",
        "    \n",
        "# view variance\n",
        "print('variance:', np.var(ms_sil_scores))\n",
        "\n",
        "# view variance\n",
        "variances['Mean shift'] = np.var(ms_sil_scores)\n",
        "print('variance:', variances['Mean shift'])"
      ],
      "execution_count": 24,
      "outputs": [
        {
          "output_type": "stream",
          "text": [
            "Mean Shift silhouette scores of train/test data:\n",
            "Number of estimate clusters: 4\n",
            "0.913808979092396\n",
            "Number of estimate clusters: 4\n",
            "0.6259525584339208\n",
            "variance: 0.02071532972857725\n",
            "variance: 0.02071532972857725\n"
          ],
          "name": "stdout"
        }
      ]
    },
    {
      "cell_type": "markdown",
      "metadata": {
        "id": "wnoWOEcVxz3V",
        "colab_type": "text"
      },
      "source": [
        "## Spectral Clustering"
      ]
    },
    {
      "cell_type": "code",
      "metadata": {
        "id": "gA6RTRPEx2hR",
        "colab_type": "code",
        "colab": {
          "base_uri": "https://localhost:8080/",
          "height": 119
        },
        "outputId": "70d28a88-a4ad-45eb-f3c0-a3f434cc9505"
      },
      "source": [
        "# Test results\n",
        "sc_sil_scores = []\n",
        "\n",
        "print('Spectral clustering silhouette scores of train/test data:')\n",
        "for sample in [X_train, X_test]:\n",
        "  # Instantiate and fit model\n",
        "  model = SpectralClustering(n_clusters=3, random_state=42).fit(sample)\n",
        "  # Extract clusters for each data point\n",
        "  labels = model.labels_\n",
        "  # Count clusters\n",
        "  n_clusters_ = len(np.unique(labels))\n",
        "  \n",
        "  print('Number of estimate clusters: {}'.format(n_clusters_))\n",
        "  sil_score = silhouette_score(sample, labels, metric='euclidean')\n",
        "  sc_sil_scores.append(sil_score)\n",
        "  print(sil_score)\n",
        "    \n",
        "# view variance\n",
        "variances['Spectral Clustering'] = np.var(sc_sil_scores)\n",
        "print('variance:', variances['Spectral Clustering'])"
      ],
      "execution_count": 25,
      "outputs": [
        {
          "output_type": "stream",
          "text": [
            "Spectral clustering silhouette scores of train/test data:\n",
            "Number of estimate clusters: 3\n",
            "0.9014607720676091\n",
            "Number of estimate clusters: 3\n",
            "0.5434258915011189\n",
            "variance: 0.03204724392556523\n"
          ],
          "name": "stdout"
        }
      ]
    },
    {
      "cell_type": "markdown",
      "metadata": {
        "id": "qZmYpk9K0Lq7",
        "colab_type": "text"
      },
      "source": [
        "## Analysis"
      ]
    },
    {
      "cell_type": "code",
      "metadata": {
        "id": "7sxQFbTk0N7v",
        "colab_type": "code",
        "colab": {
          "base_uri": "https://localhost:8080/",
          "height": 85
        },
        "outputId": "888bc9f6-6174-4dc3-dba6-15a510f5a58e"
      },
      "source": [
        "for variance in variances.items():\n",
        "  print(variance)\n",
        "  \n",
        "print(np.min(variances.values()))"
      ],
      "execution_count": 31,
      "outputs": [
        {
          "output_type": "stream",
          "text": [
            "('K-means', 0.01695919420022658)\n",
            "('Mean shift', 0.02071532972857725)\n",
            "('Spectral Clustering', 0.03204724392556523)\n",
            "dict_values([0.01695919420022658, 0.02071532972857725, 0.03204724392556523])\n"
          ],
          "name": "stdout"
        }
      ]
    },
    {
      "cell_type": "code",
      "metadata": {
        "id": "JcBhqLry2siX",
        "colab_type": "code",
        "colab": {
          "base_uri": "https://localhost:8080/",
          "height": 34
        },
        "outputId": "b0c7a48c-ffa1-436d-db48-b26da6eddb0a"
      },
      "source": [
        "print('{}, has the lowest variance of {}'.format(\n",
        "    min(variances, key=variances.get),\n",
        "    variances[min(variances, key=variances.get)]))"
      ],
      "execution_count": 42,
      "outputs": [
        {
          "output_type": "stream",
          "text": [
            "K-means, has the lowest variance of 0.01695919420022658\n"
          ],
          "name": "stdout"
        }
      ]
    },
    {
      "cell_type": "markdown",
      "metadata": {
        "id": "9pvpvX-TFIEB",
        "colab_type": "text"
      },
      "source": [
        "# Conclusion\n",
        "Out of the three clustering models tested -- K-means, Mean Shift, and Spectral Clustering -- K-means performed the best. It had the lowest variance and clustered the data into three groups."
      ]
    },
    {
      "cell_type": "code",
      "metadata": {
        "id": "Uup5LUdF4G49",
        "colab_type": "code",
        "colab": {}
      },
      "source": [
        ""
      ],
      "execution_count": 0,
      "outputs": []
    }
  ]
}