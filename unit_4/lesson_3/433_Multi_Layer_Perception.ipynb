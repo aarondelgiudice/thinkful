{
  "nbformat": 4,
  "nbformat_minor": 0,
  "metadata": {
    "colab": {
      "name": "433_Multi_Layer_Perception.ipynb",
      "version": "0.3.2",
      "provenance": [],
      "collapsed_sections": [],
      "include_colab_link": true
    },
    "kernelspec": {
      "name": "python3",
      "display_name": "Python 3"
    }
  },
  "cells": [
    {
      "cell_type": "markdown",
      "metadata": {
        "id": "view-in-github",
        "colab_type": "text"
      },
      "source": [
        "<a href=\"https://colab.research.google.com/github/aarondelgiudice/thinkful_data_bootcamp/blob/master/unit_4/lesson_3/433_Multi_Layer_Perception.ipynb\" target=\"_parent\"><img src=\"https://colab.research.google.com/assets/colab-badge.svg\" alt=\"Open In Colab\"/></a>"
      ]
    },
    {
      "cell_type": "markdown",
      "metadata": {
        "id": "8h4XgKpZ8iCb",
        "colab_type": "text"
      },
      "source": [
        "# Multi-Layer Perception\n",
        "Unit 4 / Lesson 3 / Project 3"
      ]
    },
    {
      "cell_type": "code",
      "metadata": {
        "id": "0zRS3FuO8Rtd",
        "colab_type": "code",
        "colab": {}
      },
      "source": [
        "import numpy as np\n",
        "import pandas as pd\n",
        "import matplotlib.pyplot as plt\n",
        "%matplotlib inline"
      ],
      "execution_count": 0,
      "outputs": []
    },
    {
      "cell_type": "markdown",
      "metadata": {
        "id": "igQMqofO8yCo",
        "colab_type": "text"
      },
      "source": [
        "We're ready to build our first neural network. We will have multiple features we feed into our model, each of which will go through a set of perceptron models to arrive at a response which will be trained to our output.\n",
        "\n",
        "Like many models we've covered, this can be used as both a regression or classification model.\n",
        "\n",
        "First, we need to load our dataset. For this example we'll use The Museum of Modern Art in New York's [public dataset](https://media.githubusercontent.com/media/MuseumofModernArt/collection/master/Artworks.csv) on their collection.\n",
        "\n",
        "We'll also do a bit of data processing and cleaning, selecting columns of interest and converting URL's to booleans indicating whether they are present.\n",
        "Before we import MLP from SKLearn and establish the model we first have to ensure correct typing for our data and do some other cleaning."
      ]
    },
    {
      "cell_type": "code",
      "metadata": {
        "id": "nEMYq80S8tF5",
        "colab_type": "code",
        "colab": {
          "base_uri": "https://localhost:8080/",
          "height": 153
        },
        "outputId": "5df49bdd-0f6d-4186-cf3f-c2ab51479a85"
      },
      "source": [
        "# load data\n",
        "artworks = pd.read_csv('https://media.githubusercontent.com/media/MuseumofModernArt/collection/master/Artworks.csv')\n",
        "artworks.columns"
      ],
      "execution_count": 2,
      "outputs": [
        {
          "output_type": "execute_result",
          "data": {
            "text/plain": [
              "Index(['Title', 'Artist', 'ConstituentID', 'ArtistBio', 'Nationality',\n",
              "       'BeginDate', 'EndDate', 'Gender', 'Date', 'Medium', 'Dimensions',\n",
              "       'CreditLine', 'AccessionNumber', 'Classification', 'Department',\n",
              "       'DateAcquired', 'Cataloged', 'ObjectID', 'URL', 'ThumbnailURL',\n",
              "       'Circumference (cm)', 'Depth (cm)', 'Diameter (cm)', 'Height (cm)',\n",
              "       'Length (cm)', 'Weight (kg)', 'Width (cm)', 'Seat Height (cm)',\n",
              "       'Duration (sec.)'],\n",
              "      dtype='object')"
            ]
          },
          "metadata": {
            "tags": []
          },
          "execution_count": 2
        }
      ]
    },
    {
      "cell_type": "code",
      "metadata": {
        "id": "zSb-1QmC9GVt",
        "colab_type": "code",
        "colab": {
          "base_uri": "https://localhost:8080/",
          "height": 204
        },
        "outputId": "0c67ced2-9d7b-4c88-c524-e13afe0f38b7"
      },
      "source": [
        "# Select Columns.\n",
        "artworks = artworks[['Artist', 'Nationality', 'Gender', 'Date', 'Department',\n",
        "                    'DateAcquired', 'URL', 'ThumbnailURL', 'Height (cm)', 'Width (cm)']]\n",
        "\n",
        "# Convert URL's to booleans.\n",
        "artworks['URL'] = artworks['URL'].notnull()\n",
        "artworks['ThumbnailURL'] = artworks['ThumbnailURL'].notnull()\n",
        "\n",
        "# Drop films and some other tricky rows.\n",
        "artworks = artworks[artworks['Department']!='Film']\n",
        "artworks = artworks[artworks['Department']!='Media and Performance Art']\n",
        "artworks = artworks[artworks['Department']!='Fluxus Collection']\n",
        "\n",
        "# Drop missing data.\n",
        "artworks = artworks.dropna()\n",
        "\n",
        "artworks.head()"
      ],
      "execution_count": 3,
      "outputs": [
        {
          "output_type": "execute_result",
          "data": {
            "text/html": [
              "<div>\n",
              "<style scoped>\n",
              "    .dataframe tbody tr th:only-of-type {\n",
              "        vertical-align: middle;\n",
              "    }\n",
              "\n",
              "    .dataframe tbody tr th {\n",
              "        vertical-align: top;\n",
              "    }\n",
              "\n",
              "    .dataframe thead th {\n",
              "        text-align: right;\n",
              "    }\n",
              "</style>\n",
              "<table border=\"1\" class=\"dataframe\">\n",
              "  <thead>\n",
              "    <tr style=\"text-align: right;\">\n",
              "      <th></th>\n",
              "      <th>Artist</th>\n",
              "      <th>Nationality</th>\n",
              "      <th>Gender</th>\n",
              "      <th>Date</th>\n",
              "      <th>Department</th>\n",
              "      <th>DateAcquired</th>\n",
              "      <th>URL</th>\n",
              "      <th>ThumbnailURL</th>\n",
              "      <th>Height (cm)</th>\n",
              "      <th>Width (cm)</th>\n",
              "    </tr>\n",
              "  </thead>\n",
              "  <tbody>\n",
              "    <tr>\n",
              "      <th>0</th>\n",
              "      <td>Otto Wagner</td>\n",
              "      <td>(Austrian)</td>\n",
              "      <td>(Male)</td>\n",
              "      <td>1896</td>\n",
              "      <td>Architecture &amp; Design</td>\n",
              "      <td>1996-04-09</td>\n",
              "      <td>True</td>\n",
              "      <td>True</td>\n",
              "      <td>48.6000</td>\n",
              "      <td>168.9000</td>\n",
              "    </tr>\n",
              "    <tr>\n",
              "      <th>1</th>\n",
              "      <td>Christian de Portzamparc</td>\n",
              "      <td>(French)</td>\n",
              "      <td>(Male)</td>\n",
              "      <td>1987</td>\n",
              "      <td>Architecture &amp; Design</td>\n",
              "      <td>1995-01-17</td>\n",
              "      <td>True</td>\n",
              "      <td>True</td>\n",
              "      <td>40.6401</td>\n",
              "      <td>29.8451</td>\n",
              "    </tr>\n",
              "    <tr>\n",
              "      <th>2</th>\n",
              "      <td>Emil Hoppe</td>\n",
              "      <td>(Austrian)</td>\n",
              "      <td>(Male)</td>\n",
              "      <td>1903</td>\n",
              "      <td>Architecture &amp; Design</td>\n",
              "      <td>1997-01-15</td>\n",
              "      <td>True</td>\n",
              "      <td>True</td>\n",
              "      <td>34.3000</td>\n",
              "      <td>31.8000</td>\n",
              "    </tr>\n",
              "    <tr>\n",
              "      <th>3</th>\n",
              "      <td>Bernard Tschumi</td>\n",
              "      <td>()</td>\n",
              "      <td>(Male)</td>\n",
              "      <td>1980</td>\n",
              "      <td>Architecture &amp; Design</td>\n",
              "      <td>1995-01-17</td>\n",
              "      <td>True</td>\n",
              "      <td>True</td>\n",
              "      <td>50.8000</td>\n",
              "      <td>50.8000</td>\n",
              "    </tr>\n",
              "    <tr>\n",
              "      <th>4</th>\n",
              "      <td>Emil Hoppe</td>\n",
              "      <td>(Austrian)</td>\n",
              "      <td>(Male)</td>\n",
              "      <td>1903</td>\n",
              "      <td>Architecture &amp; Design</td>\n",
              "      <td>1997-01-15</td>\n",
              "      <td>True</td>\n",
              "      <td>True</td>\n",
              "      <td>38.4000</td>\n",
              "      <td>19.1000</td>\n",
              "    </tr>\n",
              "  </tbody>\n",
              "</table>\n",
              "</div>"
            ],
            "text/plain": [
              "                     Artist Nationality  Gender  Date             Department  \\\n",
              "0               Otto Wagner  (Austrian)  (Male)  1896  Architecture & Design   \n",
              "1  Christian de Portzamparc    (French)  (Male)  1987  Architecture & Design   \n",
              "2                Emil Hoppe  (Austrian)  (Male)  1903  Architecture & Design   \n",
              "3           Bernard Tschumi          ()  (Male)  1980  Architecture & Design   \n",
              "4                Emil Hoppe  (Austrian)  (Male)  1903  Architecture & Design   \n",
              "\n",
              "  DateAcquired   URL  ThumbnailURL  Height (cm)  Width (cm)  \n",
              "0   1996-04-09  True          True      48.6000    168.9000  \n",
              "1   1995-01-17  True          True      40.6401     29.8451  \n",
              "2   1997-01-15  True          True      34.3000     31.8000  \n",
              "3   1995-01-17  True          True      50.8000     50.8000  \n",
              "4   1997-01-15  True          True      38.4000     19.1000  "
            ]
          },
          "metadata": {
            "tags": []
          },
          "execution_count": 3
        }
      ]
    },
    {
      "cell_type": "code",
      "metadata": {
        "id": "Ke5UmgVr9poI",
        "colab_type": "code",
        "colab": {
          "base_uri": "https://localhost:8080/",
          "height": 204
        },
        "outputId": "685d1a4f-dcb0-4ed3-f51b-f49ef2283a4d"
      },
      "source": [
        "# Get data types\n",
        "artworks.dtypes"
      ],
      "execution_count": 4,
      "outputs": [
        {
          "output_type": "execute_result",
          "data": {
            "text/plain": [
              "Artist           object\n",
              "Nationality      object\n",
              "Gender           object\n",
              "Date             object\n",
              "Department       object\n",
              "DateAcquired     object\n",
              "URL                bool\n",
              "ThumbnailURL       bool\n",
              "Height (cm)     float64\n",
              "Width (cm)      float64\n",
              "dtype: object"
            ]
          },
          "metadata": {
            "tags": []
          },
          "execution_count": 4
        }
      ]
    },
    {
      "cell_type": "code",
      "metadata": {
        "id": "HDeoRMna9xaf",
        "colab_type": "code",
        "colab": {
          "base_uri": "https://localhost:8080/",
          "height": 34
        },
        "outputId": "02ac6b76-905c-4edc-d7ca-793aff85c9d9"
      },
      "source": [
        "# Convert DateAcquired column to datetime\n",
        "artworks['DateAcquired'] = pd.to_datetime(artworks.DateAcquired)\n",
        "# Add a feature for year work was acquired\n",
        "artworks['YearAcquired'] = artworks.DateAcquired.dt.year\n",
        "artworks['YearAcquired'].dtype"
      ],
      "execution_count": 5,
      "outputs": [
        {
          "output_type": "execute_result",
          "data": {
            "text/plain": [
              "dtype('int64')"
            ]
          },
          "metadata": {
            "tags": []
          },
          "execution_count": 5
        }
      ]
    },
    {
      "cell_type": "code",
      "metadata": {
        "id": "BO3kcZsp-DFD",
        "colab_type": "code",
        "colab": {}
      },
      "source": [
        "# Perform some addtional miscellaneous cleaning\n",
        "# Remove multiple nationalities, genders, and artists.\n",
        "artworks.loc[artworks['Gender'].str.contains('\\) \\('), 'Gender'] = '\\(multiple_persons\\)'\n",
        "artworks.loc[artworks['Nationality'].str.contains('\\) \\('), 'Nationality'] = '\\(multiple_nationalities\\)'\n",
        "artworks.loc[artworks['Artist'].str.contains(','), 'Artist'] = 'Multiple_Artists'\n",
        "\n",
        "# Convert dates to start date, cutting down number of distinct examples.\n",
        "artworks['Date'] = pd.Series(artworks.Date.str.extract(\n",
        "    '([0-9]{4})', expand=False))[:-1]"
      ],
      "execution_count": 0,
      "outputs": []
    },
    {
      "cell_type": "markdown",
      "metadata": {
        "id": "dqbqlShx9bOU",
        "colab_type": "text"
      },
      "source": [
        "## Building a Model\n",
        "\n",
        "Now, let's see if we can use multi-layer perceptron modeling (or \"MLP\") to see if we can classify the department a piece should go into using everything but the department name.\n"
      ]
    },
    {
      "cell_type": "code",
      "metadata": {
        "id": "g9JNY_xl-TM6",
        "colab_type": "code",
        "colab": {}
      },
      "source": [
        "# define data and target\n",
        "# get dummy variables\n",
        "\n",
        "# Final column drops and NA drop.\n",
        "X = artworks.drop(['Department', 'DateAcquired', 'Artist', 'Nationality', 'Date'], 1)\n",
        "\n",
        "# Create dummies separately.\n",
        "artists = pd.get_dummies(artworks.Artist)\n",
        "nationalities = pd.get_dummies(artworks.Nationality)\n",
        "dates = pd.get_dummies(artworks.Date)\n",
        "\n",
        "# Concat with other variables, but artists slows this wayyyyy down so we'll keep it out for now\n",
        "X = pd.get_dummies(X, sparse=True)\n",
        "X = pd.concat([X, nationalities, dates], axis=1)\n",
        "\n",
        "y = artworks.Department"
      ],
      "execution_count": 0,
      "outputs": []
    },
    {
      "cell_type": "code",
      "metadata": {
        "id": "ASxe-rdi9bzp",
        "colab_type": "code",
        "colab": {
          "base_uri": "https://localhost:8080/",
          "height": 170
        },
        "outputId": "2051fc9a-3928-4163-8eb9-f8bade5507f0"
      },
      "source": [
        "# Alright! We've done our prep, let's build the model.\n",
        "# Neural networks are hugely computationally intensive.\n",
        "# This may take several minutes to run.\n",
        "\n",
        "# Import the model.\n",
        "from sklearn.neural_network import MLPClassifier\n",
        "\n",
        "# Establish and fit the model, with a single, 1000 perceptron layer.\n",
        "mlp = MLPClassifier(hidden_layer_sizes=(1000,))\n",
        "mlp.fit(X, y)"
      ],
      "execution_count": 8,
      "outputs": [
        {
          "output_type": "stream",
          "text": [
            "/usr/local/lib/python3.6/dist-packages/sklearn/neural_network/multilayer_perceptron.py:564: UserWarning: Training interrupted by user.\n",
            "  warnings.warn(\"Training interrupted by user.\")\n"
          ],
          "name": "stderr"
        },
        {
          "output_type": "execute_result",
          "data": {
            "text/plain": [
              "MLPClassifier(activation='relu', alpha=0.0001, batch_size='auto', beta_1=0.9,\n",
              "       beta_2=0.999, early_stopping=False, epsilon=1e-08,\n",
              "       hidden_layer_sizes=(1000,), learning_rate='constant',\n",
              "       learning_rate_init=0.001, max_iter=200, momentum=0.9,\n",
              "       n_iter_no_change=10, nesterovs_momentum=True, power_t=0.5,\n",
              "       random_state=None, shuffle=True, solver='adam', tol=0.0001,\n",
              "       validation_fraction=0.1, verbose=False, warm_start=False)"
            ]
          },
          "metadata": {
            "tags": []
          },
          "execution_count": 8
        }
      ]
    },
    {
      "cell_type": "code",
      "metadata": {
        "id": "V6_YJ533-oWE",
        "colab_type": "code",
        "colab": {}
      },
      "source": [
        "mlp.score(X, y)"
      ],
      "execution_count": 0,
      "outputs": []
    },
    {
      "cell_type": "code",
      "metadata": {
        "id": "s9QVEGYM-ppJ",
        "colab_type": "code",
        "colab": {}
      },
      "source": [
        "y.value_counts()/len(y)"
      ],
      "execution_count": 0,
      "outputs": []
    },
    {
      "cell_type": "code",
      "metadata": {
        "id": "nPI_lzXU-qC_",
        "colab_type": "code",
        "colab": {}
      },
      "source": [
        "from sklearn.model_selection import cross_val_score\n",
        "cross_val_score(mlp, X, y, cv=5)"
      ],
      "execution_count": 0,
      "outputs": []
    },
    {
      "cell_type": "markdown",
      "metadata": {
        "id": "Jt4i4UwE-q2v",
        "colab_type": "text"
      },
      "source": [
        "Model seems to overfit.\n",
        "This is a feature of neural networks that aren't given enough data for the number of features present. \n",
        "\n",
        "Note that we created bools for artist's name but left them out. Both of the above points are the reason for that. It would take much longer to run and it would be much more prone to overfitting."
      ]
    },
    {
      "cell_type": "markdown",
      "metadata": {
        "id": "wnN3sBxl-qxx",
        "colab_type": "text"
      },
      "source": [
        "## Model parameters\n",
        "\n",
        "We included one parameter: hidden layer size.\n",
        "This tells us how many and how big to make our layers.\n",
        "Pass in a tuple that specifies each layer's size.\n",
        "Our network, `(1000, )`, is 1000 neurons wide and one layer. `(100, 4, )` would create a network with two layers, one 100 wide and the other 4.\n",
        "\n",
        "How many layers to include is determined by two things: computational resources and cross validation searching for convergence.\n",
        "It's generally less than the number of input variables you have.\n",
        "\n",
        "You can also set an alpha.\n",
        "Neural networks like this use a regularization parameter that penalizes large coefficients just like we discussed in the advanced regression section.\n",
        "Alpha scales that penalty.\n",
        "\n",
        "Lastly, we'll discuss the activation function.\n",
        "The activation function determines whether the output from an individual perceptron is binary or continuous.\n",
        "By default this is a 'relu', or 'rectified linear unit function' function.\n",
        "In the exercise we went through earlier we used this binary function, but we discussed the _sigmoid_ as a reasonable alternative.\n",
        "The _sigmoid_ (called 'logistic' by SKLearn because it's a 'logistic sigmoid function') allows for continuous variables between 0 and 1, which allows for a more nuanced model.\n",
        "It does come at the cost of increased computational complexity.\n",
        "\n",
        "If you want to learn more about these, study [activation functions](https://en.wikipedia.org/wiki/Activation_function) and [multilayer perceptrons](https://en.wikipedia.org/wiki/Multilayer_perceptron). The [Deep Learning](http://www.deeplearningbook.org/) book referenced earlier goes into great detail on the linear algebra involved.\n",
        "\n",
        "You could also just test the models with cross validation.\n",
        "Unless neural networks are your specialty cross validation should be sufficient.\n",
        "\n",
        "For the other parameters and their defaults, check out the [MLPClassifier documentaiton](http://scikit-learn.org/stable/modules/generated/sklearn.neural_network.MLPClassifier.html#sklearn.neural_network.MLPClassifier)."
      ]
    },
    {
      "cell_type": "markdown",
      "metadata": {
        "id": "QevsZNj8-qsc",
        "colab_type": "text"
      },
      "source": [
        "## Drill: Playing with layers\n",
        "\n",
        "Experiment with different hidden layer structures and see how things vary.\n",
        "Try this on a subset of the data to improve runtime.\n",
        "\n",
        "Feel free to manipulate other parameters as well. It may also be beneficial to do some real feature selection work..."
      ]
    },
    {
      "cell_type": "code",
      "metadata": {
        "id": "utgbNeFTDDby",
        "colab_type": "code",
        "colab": {}
      },
      "source": [
        "# set parameters\n",
        "# model will use default parameters for the most part \n",
        "params = {'activation': 'relu'\n",
        "          'solver': 'adam'\n",
        "          'alpha': 0.0001\n",
        "          'batch_size': 'auto'\n",
        "          'learning_rate': 'constant'\n",
        "          'learning_rate_init': 0.001\n",
        "          # set warm_state=True\n",
        "          # warm_state fits model on solution of previous call\n",
        "          'warm_state': True\n",
        "          # set early_stopping=True, keep tol=default\n",
        "          # early_stopping will terminates training when\n",
        "          # the validation score stops improving\n",
        "          # requires solver='sgd' or 'adam'\n",
        "          'early_stopping': True\n",
        "          'tol': 1e-4\n",
        "          'random_state': 42}"
      ],
      "execution_count": 0,
      "outputs": []
    },
    {
      "cell_type": "code",
      "metadata": {
        "id": "KKupAUJ--qnH",
        "colab_type": "code",
        "colab": {}
      },
      "source": [
        "# change number of layers\n",
        "layers = [(50, 100, 150), (1000, 1000, 1000, 1000, 1000)]\n",
        "\n",
        "for layer in layers:\n",
        "  # Instantiate and fit model\n",
        "  model = MLPClassifier(**params, hidden_layer_size=layer).fit(X, y)\n",
        "  # score\n",
        "  model.score(X, y)\n",
        "  # cross-validate\n",
        "  cross_val_score(model, X, y, cv=5)"
      ],
      "execution_count": 0,
      "outputs": []
    },
    {
      "cell_type": "code",
      "metadata": {
        "id": "QJIY1u6p-p_o",
        "colab_type": "code",
        "colab": {}
      },
      "source": [
        "# change activation function\n",
        "for layer in layers:\n",
        "  # Instantiate and fit model\n",
        "  # set activation function to sigmoid\n",
        "  # called 'Logistic' in Scikit-Learn\n",
        "  model = MLPClassifier(**params, hidden_layer_size=layer, \n",
        "                        activation='Logistic').fit(X, y)\n",
        "  # score\n",
        "  model.score(X, y)\n",
        "  # cross-validate\n",
        "  cross_val_score(model, X, y, cv=5)"
      ],
      "execution_count": 0,
      "outputs": []
    },
    {
      "cell_type": "code",
      "metadata": {
        "id": "o_DfI-t0-p4_",
        "colab_type": "code",
        "colab": {}
      },
      "source": [
        "# change learning rate\n",
        "for layer in layers:\n",
        "  # set learning_rate to 'adaptive'\n",
        "  # Instantiate and fit model\n",
        "  model = MLPClassifier(**params, hidden_layer_size=layer,\n",
        "                       learning_rate='adaptive').fit(X, y)\n",
        "  # score\n",
        "  model.score(X, y)\n",
        "  # cross-validate\n",
        "  cross_val_score(model, X, y, cv=5)"
      ],
      "execution_count": 0,
      "outputs": []
    },
    {
      "cell_type": "code",
      "metadata": {
        "id": "dETRXDnl-p0E",
        "colab_type": "code",
        "colab": {}
      },
      "source": [
        ""
      ],
      "execution_count": 0,
      "outputs": []
    },
    {
      "cell_type": "code",
      "metadata": {
        "id": "SNEmJ1KX-pwH",
        "colab_type": "code",
        "colab": {}
      },
      "source": [
        ""
      ],
      "execution_count": 0,
      "outputs": []
    }
  ]
}