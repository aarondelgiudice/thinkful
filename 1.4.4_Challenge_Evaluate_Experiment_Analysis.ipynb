{
 "cells": [
  {
   "cell_type": "markdown",
   "metadata": {},
   "source": [
    "# Challenge: Evaluate an experiment analysis\n",
    "\n",
    "Unit 1 / Lesson 4 / Project 4\n",
    "\n",
    "Now it's time to flex your critical evaluation skills. Read the following descriptions of an experiment and its analysis, identify the flaws in each, and describe what you would do to correct them.\n",
    "\n",
    "The Sith Lords are concerned that their recruiting slogan, \"Give In to Your Anger,\" isn't very effective. Darth Vader develops an alternative slogan, \"Together We Can Rule the Galaxy.\" They compare the slogans on two groups of 50 captured droids each. In one group, Emperor Palpatine delivers the \"Anger\" slogan. In the other, Darth Vader presents the \"Together\" slogan. 20 droids convert to the Dark Side after hearing Palpatine's slogan, while only 5 droids convert after hearing Vader's. The Sith's data scientist concludes that \"Anger\" is a more effective slogan and should continue to be used.\n",
    "\n",
    "In the past, the Jedi have had difficulty with public relations. They send two envoys, Jar Jar Binks and Mace Windu, to four friendly and four unfriendly planets respectively, with the goal of promoting favorable feelings toward the Jedi. Upon their return, the envoys learn that Jar Jar was much more effective than Windu: Over 75% of the people surveyed said their attitudes had become more favorable after speaking with Jar Jar, while only 65% said their attitudes had become more favorable after speaking with Windu. This makes Windu angry, because he is sure that he had a better success rate than Jar Jar on every planet. The Jedi choose Jar Jar to be their representative in the future.\n",
    "\n",
    "A company with work sites in five different countries has sent you data on employee satisfaction rates for workers in Human Resources and workers in Information Technology. Most HR workers are concentrated in three of the countries, while IT workers are equally distributed across worksites. The company requests a report on satisfaction for each job type. You calculate average job satisfaction for HR and for IT and present the report.\n",
    "\n",
    "When people install the Happy Days Fitness Tracker app, they are asked to \"opt in\" to a data collection scheme where their level of physical activity data is automatically sent to the company for product research purposes. During your interview with the company, they tell you that the app is very effective because after installing the app, the data show that people's activity levels rise steadily.\n",
    "\n",
    "To prevent cheating, a teacher writes three versions of a test. She stacks the three versions together, first all copies of Version A, then all copies of Version B, then all copies of Version C. As students arrive for the exam, each student takes a test. When grading the test, the teacher finds that students who took Version B scored higher than students who took either Version A or Version C. She concludes from this that Version B is easier, and discards it.\n",
    "\n",
    "For a deep and irreverent dive into the critical evaluation of experiments (among other sources of information), check out [Calling Bullshit in the Age of Big Data](https://callingbullshit.org/)."
   ]
  },
  {
   "cell_type": "markdown",
   "metadata": {},
   "source": [
    "### The Sith Lords\n",
    "\n",
    "Our approach to the test is logical, have two versions of a \"recruitment slogan\", one old and one new, and test it on two different populations.\n",
    "There are some problems with the execution, though.\n",
    "Fist, we have potential contextual bias with Emporer Palpatine delivering the control slogan and Darth Vader delivering the new slogan.\n",
    "If Darth Vader is any less convincing or intimidating than Emporer Palpatine, they new slogan will seem artifically less effective.\n",
    "Another potential problem is our sample population, this is an advertising campaign that's going to be rolled out galaxy-wide and we're only testing it on 50 CAPTURED droids.\n",
    "The sample size is potentially too small to draw any meaningful conclusions and the droids are captured which might affect their receptiveness.\n",
    "Lastly, droids are machines that are programmed to take commands and complete tasks.\n",
    "Slogan one \"give in to your anger\" is more of a command than \"together we can rule the galaxy,\" it's possible droids might not understand the new slogan as well as they understand the older one.\n",
    "A possible solution to these issues would be to have one person deliver the slogans--either Vader or Palpatina--and have a larger sample population of droids, humans, and aliens to test the effectiveness over a sample more representative of the larger population."
   ]
  },
  {
   "cell_type": "markdown",
   "metadata": {},
   "source": [
    "### Jedi Public Relations\n",
    "\n",
    "The most obvious issue is Sam Jackson can be one scary motherf\\*cker, so Mace Windu might not be the best person to lead a PR campaign.\n",
    "An issue more specific to the experiment is that the sample size is potentially too low and the difference between the success rate and failure rate is possibly too small to be meaningful.\n",
    "We're look at percentages over a total sample of only eight plants.\n",
    "A 75% success rate versus a 65% success rate is 6 planets versus 5.2 planets, so the difference is not even a full planet (0.8).\n",
    "We could test for a margin of error threshold by having Mace Windu conduct a similar PR campaign on another 8 planets. If his success rate is still below 75% percent, then we know our A/B test produced a higher result and was successful\n",
    "If that's the case Jar Jar is the better face for the Jedi Order (and it makes sense they went extinct)."
   ]
  },
  {
   "cell_type": "markdown",
   "metadata": {},
   "source": [
    "### Employee Statisfaction\n",
    "\n",
    "This is a great example of Simpson's Paradox, the HR workers are concentrated in only 3 of 5 countries, so their workplace satisfaction will be skewed by those environments. The best approach would be to look at workplace satisfaction divided by country then categorized occupation, rather than overall workplace satisfaction based on occupation."
   ]
  },
  {
   "cell_type": "markdown",
   "metadata": {},
   "source": [
    "### Fitness Tracker\n",
    "\n",
    "The requirment to opt in to sharing fitness data might skew the results as people more likely to share personal data about health and fitness are more likely engage to physical activity more.\n",
    "If the data collection was more passive, that is app users had to opt out rather than opt in, the data collected would likely be more representative of app users.\n",
    "Though if this is a start up trying to sell results to potential investors, having an artificailly inflated success rate could be in their best interest."
   ]
  },
  {
   "cell_type": "markdown",
   "metadata": {},
   "source": [
    "### Cheating \n",
    "This issue with this experiment is that the tests weren't randomly distributed, all of test A was issued, then all of test B was issued, then all of test C.\n",
    "If we randomly issued the tests, we could better control who receives them.\n",
    "For example, maybe the students showing up early to class did so because they had questions about the material.\n",
    "Conversely, students who showed up last were the ones who took the class less seriously and didn't study as much.\n",
    "So the students who showed up at the start of class were the ones who received test B, they were possibly the most prepared so they received the highest grade.\n",
    "If we randomly distributed the test, we could see if this is a trend or a coincidence.\n",
    "Though, c'mon teacher, why are we maximizing the difficulty of a test?"
   ]
  },
  {
   "cell_type": "code",
   "execution_count": null,
   "metadata": {
    "collapsed": true
   },
   "outputs": [],
   "source": []
  }
 ],
 "metadata": {
  "kernelspec": {
   "display_name": "Python 3",
   "language": "python",
   "name": "python3"
  },
  "language_info": {
   "codemirror_mode": {
    "name": "ipython",
    "version": 3
   },
   "file_extension": ".py",
   "mimetype": "text/x-python",
   "name": "python",
   "nbconvert_exporter": "python",
   "pygments_lexer": "ipython3",
   "version": "3.7.1"
  }
 },
 "nbformat": 4,
 "nbformat_minor": 2
}
