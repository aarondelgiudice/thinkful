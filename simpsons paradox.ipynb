{
 "cells": [
  {
   "cell_type": "markdown",
   "metadata": {},
   "source": [
    "# Simpson's Paradox\n",
    "\n",
    "Unit 1 / Lesson 4 / Assignment 2\n",
    "\n",
    "magine you're analyzing gender differences in a university's admissions rate for graduate programs. You compute the proportion of successful female applicants and compare it to the proportion of successful male applicants, and get the following numbers:"
   ]
  },
  {
   "cell_type": "code",
   "execution_count": 8,
   "metadata": {},
   "outputs": [
    {
     "name": "stdout",
     "output_type": "stream",
     "text": [
      "            0         1     2\n",
      "0  Applicants  Admitted  None\n",
      "1         Men      8442   44%\n",
      "2       Women      4321   35%\n"
     ]
    }
   ],
   "source": [
    "import numpy as np\n",
    "import pandas as pd\n",
    "\n",
    "data =[[\"Applicants\",\"Admitted\"],\n",
    "       [\"Men\",8442,'44%'],\n",
    "       [\"Women\",4321,'35%']]\n",
    "data = pd.DataFrame(data) \n",
    "print(data)"
   ]
  },
  {
   "cell_type": "markdown",
   "metadata": {},
   "source": [
    "Overall, women are less likely to be admitted to graduate programs at that university than men. Intrigued, you dig deeper, and compute the proportion of successful applicants of each gender for each graduate program separately. Then you get the following numbers (higher percentage bolded for each department):"
   ]
  },
  {
   "cell_type": "code",
   "execution_count": 30,
   "metadata": {},
   "outputs": [
    {
     "name": "stdout",
     "output_type": "stream",
     "text": [
      "[[{'Department': ['A', 'B', 'C', 'D', 'E', 'F']}]\n",
      " [{'Male Applicants': [825, 560, 325, 417, 191, 373]}]\n",
      " [{'Male Admitted': ['62%', '63%', '37%', '28%', '6%']}]\n",
      " [{'Female Applicants': [108, 25, 593, 375, 393, 341]}]\n",
      " [{'Female Admitted': ['82%', '68%', '34%', '35%', '24%', '7%']}]]\n"
     ]
    }
   ],
   "source": [
    "data = [{'Department':['A','B','C','D','E','F']},\n",
    "        {'Male Applicants':[825,560,325,417,191,373]},\n",
    "        {'Male Admitted':['62%','63%','37%','28%','6%']},\n",
    "        {'Female Applicants':[108,25,593,375,393,341]},\n",
    "        {'Female Admitted':['82%','68%','34%','35%','24%','7%']}],\n",
    "\n",
    "data = np.array(data)\n",
    "#data = pd.DataFrame(data.transpose)\n",
    "\n",
    "print(data)"
   ]
  },
  {
   "cell_type": "markdown",
   "metadata": {},
   "source": [
    "When broken down by department, women appear to have the same or slightly better chance of being admitted than men, exactly the opposite of what you observed above. At this point, you may start checking your code for errors, but there's no need. These data, drawn from evidence presented in a 1975 article about gender bias in Berkeley graduate admissions, are a classic example of Simpson's Paradox.\n",
    "\n",
    "Simpson's Paradox is the phenomenon when an average over a number of groups shows one trend, but an average for each individual group shows the opposite trend, or no trend. Another name for Simpson's Paradox is the lurking variable problem, where an unaccounted-for third variable changes the relationship between two other variables.\n",
    "\n",
    "In the case of Berkeley, the third variable is the total number of men and women that applied to each program. Looking at the numbers above, many more men than women applied to programs A and B, which had high admittance rates. Women were more likely to apply to the programs with low admittance rates. This means that overall, a man had a greater chance of being admitted not because he was a man, but because he was more likely to apply to a program that admitted a high percentage of its applicants.\n",
    "\n",
    "Another example involves changes in the median wage. From 2000 to 2013, the median wage rose slightly. Yet during the same period, the median wage for every educational group (High school dropouts, High school graduates, college graduates, etc) went down. The lurking variable here is demographic changes in the United States over that period-- a greater proportion of Americans had college degrees in 2013 than in 2000. Since people with college degrees get paid, on average, more than people with only a high school diploma, the overall median wage could rise for the population even as it dropped for each group.\n",
    "\n",
    "The lesson of Simpson's Paradox is this: pay attention to how groups differ from one another before averaging across them. Averaging a small group with a large one, or averaging multiple groups with very different demographics, can produce unexpected or illogical results."
   ]
  },
  {
   "cell_type": "markdown",
   "metadata": {},
   "source": [
    "### Think Like a Data Scientist\n",
    "\n",
    "When doing __A/B testing__, hopefully all your participants will have an equal chance of being assigned to see version A or B, and both your groups will be equal in size.\n",
    "By using randomization to equalize lurking variables like demographics, we can avoid `Simpon's Paradox`.\n",
    "Even though randomization is random, there is _always_ the chance that your groups will end up with some lurking difference.\n",
    "\n",
    "Always do what you can to confirm the groups are similar before interpreting your results.\n",
    "Make it a habit to look at subgroups within your A/B test to make sure the overall trend is reflected in the subgroups.\n",
    "If the subgroups differ from the overall trend, your question should guide whether you report conclusions based on the overall sample, the subgroups, or both.\n",
    "You don't want to advocate for condition A, even if it performs better overall, if condition B _actually_ works better within every subgroup.\n",
    "\n",
    "For a deep dive into the data of Simpson's Paradox, check out this [Technical Report](http://ftp.cs.ucla.edu/pub/stat_ser/r414.pdf) from UCLA."
   ]
  },
  {
   "cell_type": "code",
   "execution_count": null,
   "metadata": {
    "collapsed": true
   },
   "outputs": [],
   "source": []
  }
 ],
 "metadata": {
  "kernelspec": {
   "display_name": "Python 3",
   "language": "python",
   "name": "python3"
  },
  "language_info": {
   "codemirror_mode": {
    "name": "ipython",
    "version": 3
   },
   "file_extension": ".py",
   "mimetype": "text/x-python",
   "name": "python",
   "nbconvert_exporter": "python",
   "pygments_lexer": "ipython3",
   "version": "3.7.1"
  }
 },
 "nbformat": 4,
 "nbformat_minor": 2
}
