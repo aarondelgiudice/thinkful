{
 "cells": [
  {
   "cell_type": "markdown",
   "metadata": {},
   "source": [
    "# Unit 1 Capstone: Narrative analytics and experimentation\n",
    "\n",
    "Unit 1 / Lesson 5 / Project 1"
   ]
  },
  {
   "cell_type": "markdown",
   "metadata": {},
   "source": [
    "Previously we've asked you to look into a dataset to ask and answer a series of questions.\n",
    "You are now ready for the next step in that process.\n",
    "\n",
    "As usual, it starts with picking a data set.\n",
    "It can be the same data set as a previous challenge or capstone, but make sure you're using a data set that makes sense for this task, so read all of the instructions first.\n",
    "\n",
    "First, dive in and explore the data set.\n",
    "Include your code and visuals from this process in your final write up.\n",
    "While doing this, look for something that provokes a question; specifically one that can be answered with an experiment.\n",
    "\n",
    "The main component of this capstone is a research proposal.\n",
    "Using the data set you selected, propose and outline an experiment plan.\n",
    "\n",
    "The plan should consist of three key components:\n",
    "- Analysis that highlights your experimental hypothesis.\n",
    "- A rollout plan showing how you would implement and rollout the experiment\n",
    "- An evaluation plan showing what constitutes success in this experiment\n",
    "\n",
    "Your experiment should be as real as possible.\n",
    "Though you obviously will not have access to the full production environment to deploy your experiment, it should be feasible and of interest to the parties involved with your actual data source."
   ]
  },
  {
   "cell_type": "code",
   "execution_count": 1,
   "metadata": {
    "collapsed": true
   },
   "outputs": [],
   "source": [
    "import pandas as pd\n",
    "import numpy as np\n",
    "import matplotlib.pyplot as plt\n",
    "%matplotlib inline"
   ]
  },
  {
   "cell_type": "code",
   "execution_count": 17,
   "metadata": {},
   "outputs": [
    {
     "data": {
      "text/html": [
       "<div>\n",
       "<style scoped>\n",
       "    .dataframe tbody tr th:only-of-type {\n",
       "        vertical-align: middle;\n",
       "    }\n",
       "\n",
       "    .dataframe tbody tr th {\n",
       "        vertical-align: top;\n",
       "    }\n",
       "\n",
       "    .dataframe thead th {\n",
       "        text-align: right;\n",
       "    }\n",
       "</style>\n",
       "<table border=\"1\" class=\"dataframe\">\n",
       "  <thead>\n",
       "    <tr style=\"text-align: right;\">\n",
       "      <th></th>\n",
       "      <th>Meta Data</th>\n",
       "      <th>Time Series (Daily)</th>\n",
       "    </tr>\n",
       "  </thead>\n",
       "  <tbody>\n",
       "    <tr>\n",
       "      <th>1. Information</th>\n",
       "      <td>Daily Prices (open, high, low, close) and Volumes</td>\n",
       "      <td>NaN</td>\n",
       "    </tr>\n",
       "    <tr>\n",
       "      <th>2. Symbol</th>\n",
       "      <td>SPX</td>\n",
       "      <td>NaN</td>\n",
       "    </tr>\n",
       "    <tr>\n",
       "      <th>2000-01-03</th>\n",
       "      <td>NaN</td>\n",
       "      <td>{'1. open': '1469.2500', '2. high': '1478.0000...</td>\n",
       "    </tr>\n",
       "    <tr>\n",
       "      <th>2000-01-04</th>\n",
       "      <td>NaN</td>\n",
       "      <td>{'1. open': '1455.2200', '2. high': '1455.2200...</td>\n",
       "    </tr>\n",
       "    <tr>\n",
       "      <th>2000-01-05</th>\n",
       "      <td>NaN</td>\n",
       "      <td>{'1. open': '1399.4200', '2. high': '1413.2700...</td>\n",
       "    </tr>\n",
       "  </tbody>\n",
       "</table>\n",
       "</div>"
      ],
      "text/plain": [
       "                                                        Meta Data  \\\n",
       "1. Information  Daily Prices (open, high, low, close) and Volumes   \n",
       "2. Symbol                                                     SPX   \n",
       "2000-01-03                                                    NaN   \n",
       "2000-01-04                                                    NaN   \n",
       "2000-01-05                                                    NaN   \n",
       "\n",
       "                                              Time Series (Daily)  \n",
       "1. Information                                                NaN  \n",
       "2. Symbol                                                     NaN  \n",
       "2000-01-03      {'1. open': '1469.2500', '2. high': '1478.0000...  \n",
       "2000-01-04      {'1. open': '1455.2200', '2. high': '1455.2200...  \n",
       "2000-01-05      {'1. open': '1399.4200', '2. high': '1413.2700...  "
      ]
     },
     "execution_count": 17,
     "metadata": {},
     "output_type": "execute_result"
    }
   ],
   "source": [
    "PATH_AAPL = 'https://www.alphavantage.co/query?function=TIME_SERIES_DAILY&symbol=AAPL&outputsize=full&apikey=K6YQBHF3XYZCR530' # api url\n",
    "api_AAPL = pd.read_json(PATH_AAPL)\n",
    "api_AAPL.to_json('stock_data_AAPL.json')\n",
    "\n",
    "PATH_AMZN = 'https://www.alphavantage.co/query?function=TIME_SERIES_DAILY&symbol=AMZN&outputsize=full&apikey=K6YQBHF3XYZCR530' # api url\n",
    "api_AMZN = pd.read_json(PATH_AMZN)\n",
    "api_AMZN.to_json('stock_data_AMZN.json')\n",
    "\n",
    "PATH_MSFT = 'https://www.alphavantage.co/query?function=TIME_SERIES_DAILY&symbol=MSFT&outputsize=full&apikey=K6YQBHF3XYZCR530' # api url\n",
    "api_MSFT = pd.read_json(PATH_MSFT)\n",
    "api_MSFT.to_json('stock_data_MSFT.json')\n",
    "\n",
    "PATH_SPX = 'https://www.alphavantage.co/query?function=TIME_SERIES_DAILY&symbol=SPX&outputsize=full&apikey=K6YQBHF3XYZCR530' # api url\n",
    "api_SPX = pd.read_json(PATH_SPX)\n",
    "api_SPX.to_json('stock_data_SPX.json')\n",
    "\n",
    "api_AAPL.head()\n",
    "api_AMZN.head()\n",
    "api_MSFT.head()\n",
    "api_SPX.head()"
   ]
  },
  {
   "cell_type": "code",
   "execution_count": 6,
   "metadata": {
    "scrolled": true
   },
   "outputs": [
    {
     "name": "stdout",
     "output_type": "stream",
     "text": [
      "                                                        Meta Data  \\\n",
      "1. Information  Daily Prices (open, high, low, close) and Volumes   \n",
      "1998-01-02                                                   None   \n",
      "1998-01-05                                                   None   \n",
      "1998-01-06                                                   None   \n",
      "1998-01-07                                                   None   \n",
      "\n",
      "                                              Time Series (Daily)  \n",
      "1. Information                                               None  \n",
      "1998-01-02      {'1. open': '13.6300', '2. high': '16.2500', '...  \n",
      "1998-01-05      {'1. open': '16.5000', '2. high': '16.5600', '...  \n",
      "1998-01-06      {'1. open': '15.9400', '2. high': '20.0000', '...  \n",
      "1998-01-07      {'1. open': '18.8100', '2. high': '19.0000', '...  \n",
      "                                                        daily\n",
      "1998-01-02  {'1. open': '13.6300', '2. high': '16.2500', '...\n",
      "1998-01-05  {'1. open': '16.5000', '2. high': '16.5600', '...\n",
      "1998-01-06  {'1. open': '15.9400', '2. high': '20.0000', '...\n",
      "1998-01-07  {'1. open': '18.8100', '2. high': '19.0000', '...\n",
      "1998-01-08  {'1. open': '17.4400', '2. high': '18.6200', '...\n"
     ]
    }
   ],
   "source": [
    "aapl = pd.read_json('stock_data_AAPL.json')\n",
    "\n",
    "print(aapl.head())\n",
    "\n",
    "\n",
    "aapl['daily'] = aapl['Time Series (Daily)']\n",
    "\n",
    "aapl = aapl.drop('Meta Data', 1)\n",
    "aapl = aapl.drop('Time Series (Daily)', 1)\n",
    "aapl = aapl.drop(aapl.index[0])\n",
    "aapl = aapl.drop(aapl.index[[-3,-2,-1]])\n",
    "\n",
    "print(aapl.head())"
   ]
  },
  {
   "cell_type": "code",
   "execution_count": 18,
   "metadata": {
    "collapsed": true
   },
   "outputs": [],
   "source": [
    "amzn = pd.read_json('stock_data_AMZN.json')\n",
    "\n",
    "amzn['daily'] = amzn['Time Series (Daily)']\n",
    "\n",
    "amzn = amzn.drop('Meta Data', 1)\n",
    "amzn = amzn.drop('Time Series (Daily)', 1)\n",
    "amzn = amzn.drop(amzn.index[0])\n",
    "amzn = amzn.drop(amzn.index[[-3,-2,-1]])\n",
    "\n",
    "\n",
    "msft = pd.read_json('stock_data_MSFT.json')\n",
    "\n",
    "msft['daily'] = msft['Time Series (Daily)']\n",
    "\n",
    "msft = msft.drop('Meta Data', 1)\n",
    "msft = msft.drop('Time Series (Daily)', 1)\n",
    "msft = msft.drop(msft.index[0])\n",
    "msft = msft.drop(msft.index[[-3,-2,-1]])\n",
    "\n",
    "\n",
    "spx = pd.read_json('stock_data_SPX.json')\n",
    "\n",
    "spx['daily'] = spx['Time Series (Daily)']\n",
    "\n",
    "spx = spx.drop('Meta Data', 1)\n",
    "spx = spx.drop('Time Series (Daily)', 1)\n",
    "spx = spx.drop(spx.index[0])\n",
    "spx = spx.drop(spx.index[[-3,-2,-1]])"
   ]
  },
  {
   "cell_type": "code",
   "execution_count": 19,
   "metadata": {},
   "outputs": [
    {
     "data": {
      "text/plain": [
       "{'1. open': '157.5000',\n",
       " '2. high': '157.8700',\n",
       " '3. low': '156.0400',\n",
       " '4. close': '156.2100',\n",
       " '5. volume': '26126232'}"
      ]
     },
     "execution_count": 19,
     "metadata": {},
     "output_type": "execute_result"
    }
   ],
   "source": [
    "aapl.daily[-1]"
   ]
  },
  {
   "cell_type": "code",
   "execution_count": 8,
   "metadata": {},
   "outputs": [
    {
     "data": {
      "text/plain": [
       "'13.6300'"
      ]
     },
     "execution_count": 8,
     "metadata": {},
     "output_type": "execute_result"
    }
   ],
   "source": [
    "aapl.daily[0]['1. open']"
   ]
  },
  {
   "cell_type": "code",
   "execution_count": 9,
   "metadata": {},
   "outputs": [],
   "source": [
    "Open = []\n",
    "High = []\n",
    "Low = []\n",
    "Close = []\n",
    "Volumn = []"
   ]
  },
  {
   "cell_type": "code",
   "execution_count": 10,
   "metadata": {},
   "outputs": [
    {
     "data": {
      "text/html": [
       "<div>\n",
       "<style scoped>\n",
       "    .dataframe tbody tr th:only-of-type {\n",
       "        vertical-align: middle;\n",
       "    }\n",
       "\n",
       "    .dataframe tbody tr th {\n",
       "        vertical-align: top;\n",
       "    }\n",
       "\n",
       "    .dataframe thead th {\n",
       "        text-align: right;\n",
       "    }\n",
       "</style>\n",
       "<table border=\"1\" class=\"dataframe\">\n",
       "  <thead>\n",
       "    <tr style=\"text-align: right;\">\n",
       "      <th></th>\n",
       "      <th>daily</th>\n",
       "    </tr>\n",
       "  </thead>\n",
       "  <tbody>\n",
       "    <tr>\n",
       "      <th>2019-01-14</th>\n",
       "      <td>{'1. open': '150.8500', '2. high': '151.2700',...</td>\n",
       "    </tr>\n",
       "    <tr>\n",
       "      <th>2019-01-15</th>\n",
       "      <td>{'1. open': '150.2700', '2. high': '153.3900',...</td>\n",
       "    </tr>\n",
       "    <tr>\n",
       "      <th>2019-01-16</th>\n",
       "      <td>{'1. open': '153.0800', '2. high': '155.8800',...</td>\n",
       "    </tr>\n",
       "    <tr>\n",
       "      <th>2019-01-17</th>\n",
       "      <td>{'1. open': '154.2000', '2. high': '157.6600',...</td>\n",
       "    </tr>\n",
       "    <tr>\n",
       "      <th>2019-01-18</th>\n",
       "      <td>{'1. open': '157.5000', '2. high': '157.8700',...</td>\n",
       "    </tr>\n",
       "  </tbody>\n",
       "</table>\n",
       "</div>"
      ],
      "text/plain": [
       "                                                        daily\n",
       "2019-01-14  {'1. open': '150.8500', '2. high': '151.2700',...\n",
       "2019-01-15  {'1. open': '150.2700', '2. high': '153.3900',...\n",
       "2019-01-16  {'1. open': '153.0800', '2. high': '155.8800',...\n",
       "2019-01-17  {'1. open': '154.2000', '2. high': '157.6600',...\n",
       "2019-01-18  {'1. open': '157.5000', '2. high': '157.8700',..."
      ]
     },
     "execution_count": 10,
     "metadata": {},
     "output_type": "execute_result"
    }
   ],
   "source": [
    "aapl.tail()"
   ]
  },
  {
   "cell_type": "code",
   "execution_count": 13,
   "metadata": {},
   "outputs": [
    {
     "data": {
      "text/html": [
       "<div>\n",
       "<style scoped>\n",
       "    .dataframe tbody tr th:only-of-type {\n",
       "        vertical-align: middle;\n",
       "    }\n",
       "\n",
       "    .dataframe tbody tr th {\n",
       "        vertical-align: top;\n",
       "    }\n",
       "\n",
       "    .dataframe thead th {\n",
       "        text-align: right;\n",
       "    }\n",
       "</style>\n",
       "<table border=\"1\" class=\"dataframe\">\n",
       "  <thead>\n",
       "    <tr style=\"text-align: right;\">\n",
       "      <th></th>\n",
       "      <th>daily</th>\n",
       "    </tr>\n",
       "  </thead>\n",
       "  <tbody>\n",
       "    <tr>\n",
       "      <th>2019-01-14</th>\n",
       "      <td>{'1. open': '1615.0000', '2. high': '1648.2000...</td>\n",
       "    </tr>\n",
       "    <tr>\n",
       "      <th>2019-01-15</th>\n",
       "      <td>{'1. open': '1632.0000', '2. high': '1675.1600...</td>\n",
       "    </tr>\n",
       "    <tr>\n",
       "      <th>2019-01-16</th>\n",
       "      <td>{'1. open': '1684.2200', '2. high': '1705.0000...</td>\n",
       "    </tr>\n",
       "    <tr>\n",
       "      <th>2019-01-17</th>\n",
       "      <td>{'1. open': '1680.0000', '2. high': '1700.1700...</td>\n",
       "    </tr>\n",
       "    <tr>\n",
       "      <th>2019-01-18</th>\n",
       "      <td>{'1. open': '1712.0000', '2. high': '1716.2000...</td>\n",
       "    </tr>\n",
       "  </tbody>\n",
       "</table>\n",
       "</div>"
      ],
      "text/plain": [
       "                                                        daily\n",
       "2019-01-14  {'1. open': '1615.0000', '2. high': '1648.2000...\n",
       "2019-01-15  {'1. open': '1632.0000', '2. high': '1675.1600...\n",
       "2019-01-16  {'1. open': '1684.2200', '2. high': '1705.0000...\n",
       "2019-01-17  {'1. open': '1680.0000', '2. high': '1700.1700...\n",
       "2019-01-18  {'1. open': '1712.0000', '2. high': '1716.2000..."
      ]
     },
     "execution_count": 13,
     "metadata": {},
     "output_type": "execute_result"
    }
   ],
   "source": [
    "amzn.tail()"
   ]
  },
  {
   "cell_type": "code",
   "execution_count": 16,
   "metadata": {},
   "outputs": [
    {
     "data": {
      "text/html": [
       "<div>\n",
       "<style scoped>\n",
       "    .dataframe tbody tr th:only-of-type {\n",
       "        vertical-align: middle;\n",
       "    }\n",
       "\n",
       "    .dataframe tbody tr th {\n",
       "        vertical-align: top;\n",
       "    }\n",
       "\n",
       "    .dataframe thead th {\n",
       "        text-align: right;\n",
       "    }\n",
       "</style>\n",
       "<table border=\"1\" class=\"dataframe\">\n",
       "  <thead>\n",
       "    <tr style=\"text-align: right;\">\n",
       "      <th></th>\n",
       "      <th>daily</th>\n",
       "    </tr>\n",
       "  </thead>\n",
       "  <tbody>\n",
       "    <tr>\n",
       "      <th>2019-01-14</th>\n",
       "      <td>{'1. open': '101.9000', '2. high': '102.8716',...</td>\n",
       "    </tr>\n",
       "    <tr>\n",
       "      <th>2019-01-15</th>\n",
       "      <td>{'1. open': '102.5100', '2. high': '105.0500',...</td>\n",
       "    </tr>\n",
       "    <tr>\n",
       "      <th>2019-01-16</th>\n",
       "      <td>{'1. open': '105.2600', '2. high': '106.2550',...</td>\n",
       "    </tr>\n",
       "    <tr>\n",
       "      <th>2019-01-17</th>\n",
       "      <td>{'1. open': '105.0000', '2. high': '106.6250',...</td>\n",
       "    </tr>\n",
       "    <tr>\n",
       "      <th>2019-01-18</th>\n",
       "      <td>{'1. open': '107.4600', '2. high': '107.9000',...</td>\n",
       "    </tr>\n",
       "  </tbody>\n",
       "</table>\n",
       "</div>"
      ],
      "text/plain": [
       "                                                        daily\n",
       "2019-01-14  {'1. open': '101.9000', '2. high': '102.8716',...\n",
       "2019-01-15  {'1. open': '102.5100', '2. high': '105.0500',...\n",
       "2019-01-16  {'1. open': '105.2600', '2. high': '106.2550',...\n",
       "2019-01-17  {'1. open': '105.0000', '2. high': '106.6250',...\n",
       "2019-01-18  {'1. open': '107.4600', '2. high': '107.9000',..."
      ]
     },
     "execution_count": 16,
     "metadata": {},
     "output_type": "execute_result"
    }
   ],
   "source": [
    "msft.tail()"
   ]
  },
  {
   "cell_type": "code",
   "execution_count": 20,
   "metadata": {},
   "outputs": [
    {
     "data": {
      "text/html": [
       "<div>\n",
       "<style scoped>\n",
       "    .dataframe tbody tr th:only-of-type {\n",
       "        vertical-align: middle;\n",
       "    }\n",
       "\n",
       "    .dataframe tbody tr th {\n",
       "        vertical-align: top;\n",
       "    }\n",
       "\n",
       "    .dataframe thead th {\n",
       "        text-align: right;\n",
       "    }\n",
       "</style>\n",
       "<table border=\"1\" class=\"dataframe\">\n",
       "  <thead>\n",
       "    <tr style=\"text-align: right;\">\n",
       "      <th></th>\n",
       "      <th>daily</th>\n",
       "    </tr>\n",
       "  </thead>\n",
       "  <tbody>\n",
       "    <tr>\n",
       "      <th>2019-01-14</th>\n",
       "      <td>{'1. open': '2580.3101', '2. high': '2589.3201...</td>\n",
       "    </tr>\n",
       "    <tr>\n",
       "      <th>2019-01-15</th>\n",
       "      <td>{'1. open': '2585.1001', '2. high': '2613.0801...</td>\n",
       "    </tr>\n",
       "    <tr>\n",
       "      <th>2019-01-16</th>\n",
       "      <td>{'1. open': '2614.7500', '2. high': '2625.7600...</td>\n",
       "    </tr>\n",
       "    <tr>\n",
       "      <th>2019-01-17</th>\n",
       "      <td>{'1. open': '2609.2800', '2. high': '2645.0601...</td>\n",
       "    </tr>\n",
       "    <tr>\n",
       "      <th>2019-01-18</th>\n",
       "      <td>{'1. open': '2651.2700', '2. high': '2675.4700...</td>\n",
       "    </tr>\n",
       "  </tbody>\n",
       "</table>\n",
       "</div>"
      ],
      "text/plain": [
       "                                                        daily\n",
       "2019-01-14  {'1. open': '2580.3101', '2. high': '2589.3201...\n",
       "2019-01-15  {'1. open': '2585.1001', '2. high': '2613.0801...\n",
       "2019-01-16  {'1. open': '2614.7500', '2. high': '2625.7600...\n",
       "2019-01-17  {'1. open': '2609.2800', '2. high': '2645.0601...\n",
       "2019-01-18  {'1. open': '2651.2700', '2. high': '2675.4700..."
      ]
     },
     "execution_count": 20,
     "metadata": {},
     "output_type": "execute_result"
    }
   ],
   "source": [
    "spx.tail()"
   ]
  },
  {
   "cell_type": "code",
   "execution_count": null,
   "metadata": {},
   "outputs": [],
   "source": []
  },
  {
   "cell_type": "code",
   "execution_count": null,
   "metadata": {
    "collapsed": true
   },
   "outputs": [],
   "source": []
  }
 ],
 "metadata": {
  "kernelspec": {
   "display_name": "Python 3",
   "language": "python",
   "name": "python3"
  },
  "language_info": {
   "codemirror_mode": {
    "name": "ipython",
    "version": 3
   },
   "file_extension": ".py",
   "mimetype": "text/x-python",
   "name": "python",
   "nbconvert_exporter": "python",
   "pygments_lexer": "ipython3",
   "version": "3.7.1"
  }
 },
 "nbformat": 4,
 "nbformat_minor": 2
}
