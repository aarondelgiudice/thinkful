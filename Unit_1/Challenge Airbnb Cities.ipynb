{
 "cells": [
  {
   "cell_type": "markdown",
   "metadata": {},
   "source": [
    "https://courses.thinkful.com/data-201v1/project/1.2.6\n",
    "Unit 1 / Lesson 2 / Project 6\n",
    "\n",
    "\n",
    "## Challenge: Airbnb Cities\n",
    "\n",
    "\n",
    "Let's use this data set from Airbnb:\n",
    "http://insideairbnb.com/get-the-data.html\n",
    "\n",
    "Pick a city and download the CSVs for that city.\n",
    "\n",
    "\n",
    "Open the CSV file and use the attributes provided on the first line of the CSV to create your table.\n",
    "_When setting up your database, make sure to give your columns reasonable names and don't use any special characters that would throw off PostGres._\n",
    "\n",
    "\n",
    "When your table is created, you can use the import functionality of pgAdmin to load the data into your database.\n",
    "\n",
    "Once you have your database set up, run some queries to start understanding your city's Airbnbs.\n",
    "\n",
    "\n",
    "Here are some questions you should try to answer:\n",
    "\n",
    "- What's the most expensive listing? What else can you tell me about the listing?\n",
    "\n",
    "\n",
    "- What neighborhoods seem to be the most popular?\n",
    "\n",
    "\n",
    "- What time of year is the cheapest time to go to your city? What about the busiest?\n",
    "\n"
   ]
  },
  {
   "cell_type": "markdown",
   "metadata": {},
   "source": [
    "__NOTE:__\n",
    "We're working out some kinks on this assignment. We expect to release updates soon, but in the interim, if you have problems importing CSV data for this challenge, please consult these supplemental instructions:\n",
    "https://docs.google.com/document/d/1F31JGbqORWkR-xCjNqAMg3ibgv6c90giXcU0ruGV8AA/edit"
   ]
  },
  {
   "cell_type": "code",
   "execution_count": null,
   "metadata": {
    "collapsed": true
   },
   "outputs": [],
   "source": []
  }
 ],
 "metadata": {
  "kernelspec": {
   "display_name": "Python 3",
   "language": "python",
   "name": "python3"
  },
  "language_info": {
   "codemirror_mode": {
    "name": "ipython",
    "version": 3
   },
   "file_extension": ".py",
   "mimetype": "text/x-python",
   "name": "python",
   "nbconvert_exporter": "python",
   "pygments_lexer": "ipython3",
   "version": "3.7.1"
  }
 },
 "nbformat": 4,
 "nbformat_minor": 2
}
