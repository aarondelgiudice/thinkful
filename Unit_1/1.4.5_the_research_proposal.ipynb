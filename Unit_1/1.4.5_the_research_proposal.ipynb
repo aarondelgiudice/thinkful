{
 "cells": [
  {
   "cell_type": "markdown",
   "metadata": {},
   "source": [
    "# The research proposal\n",
    "\n",
    "Unit 1 / Lesson 4 / Project 5\n",
    "\n",
    "Experiments work best when they build on existing knowledge to address a clearly defined problem.\n",
    "A research proposal is an organized \"battle plan\" in three parts: the problem, the potential solution, and the method of testing the solution.\n",
    "\n",
    "### the problem\n",
    "This is where you _define_ the question or problem, _justify_ why the problem should be studied, and _review_ what we already know about the problem.\n",
    "\n",
    "`For example: How to decrease employee churn? Churn creates inefficiency as new people have to be trained in and knowledge from experienced workers is lost. In exit interviews, employees name \"out-of-date technology\" and \"poor communication\" as major motivations to leave.`\n",
    "    \n",
    "### the potential solution\n",
    "Here you _propose a hypothesis_ (potential explanation) to be tested.\n",
    "\n",
    "`for example: Adding Slack to employee computers will decrease churn by increasing communication.`\n",
    "    \n",
    "### method of testing the solution\n",
    "Describe the _design_ of the experiment, the _analysis plan_, and _set benchmarks_.\n",
    "\n",
    "`for example: Install Slack on half of the employees' computers and monitor churn for the next two months. The variable of interest is churn in Slack and non-Slack groups. This is an A/B manipulation where Slack is installed or not installed.`\n",
    "\n",
    "`We will compute the churn rate for two months before the study and compare it to the churn rate in Slack and non-Slack groups for two months during the study.`\n",
    "\n",
    "`If churn in the next two months decreases by 10% among Slack users (using churn estimates from the past year), conclude that Slack is effective and install on all computers. If churn in the next two months decreases among Slack users, but by less than one standard deviation, observe for two more months before deciding. If churn does not decrease in two months, uninstall Slack.`\n",
    "\n",
    "Even if no one reads the research proposal but you, it is important to clearly lay out exactly what you plan to do and why. A research proposal helps to avoid many common experimentation pitfalls.\n",
    "\n",
    "Examples of experiment pitfalls:\n",
    "- Mis-match between question and study design: a study that claims to address churn but actually focuses on employee communication and doesn't measure churn.\n",
    "- A design that does not generate usable data: We want to compare employee satisfaction in two groups, but the groups use different satisfaction measures and there's no way to compare them.\n",
    "- False positives: Changing the endpoints mid-way through a study by moving benchmarks or stopping data collection early when things start to look promising increases the risk of getting results that look good but reflect random chance rather than real trends.\n",
    "- The research proposal also presents and maintains a standard. It should outline the way things should be and hold you to it. In the real world there will be pressure to run things faster, reduce costs, or cut corners here or there. The proposal provides the standard for how the experiment should be run. It also provides an easy response to questions like: \"Why is this taking so long?\"\n",
    "\n",
    "A good research proposal starts with a big question (\"How to reduce employee churn?\") but rapidly narrows in scope (\"Adding Slack to employee computers will decrease churn by increasing communication\"). It is a practical reference document that helps to maintain a straight line between goals and actions.\n",
    "\n",
    "For a deep dive into designing a promising proposal, see this [chapter excerpt](https://searchbusinessanalytics.techtarget.com/feature/How-to-evaluate-the-viability-of-a-data-mining-project) from _Commercial Data Mining: Processing, Analysis and Modeling for Predictive Analytics Projects_, by David Nettleton and a follow-up commentary from a data scientist at IBM. Note that they focus on evaluating data mining proposals, rather than experimentation proposals, but the underlying logic is the same."
   ]
  },
  {
   "cell_type": "code",
   "execution_count": null,
   "metadata": {
    "collapsed": true
   },
   "outputs": [],
   "source": []
  }
 ],
 "metadata": {
  "kernelspec": {
   "display_name": "Python 3",
   "language": "python",
   "name": "python3"
  },
  "language_info": {
   "codemirror_mode": {
    "name": "ipython",
    "version": 3
   },
   "file_extension": ".py",
   "mimetype": "text/x-python",
   "name": "python",
   "nbconvert_exporter": "python",
   "pygments_lexer": "ipython3",
   "version": "3.7.1"
  }
 },
 "nbformat": 4,
 "nbformat_minor": 2
}
