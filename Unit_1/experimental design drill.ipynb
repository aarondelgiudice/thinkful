{
 "cells": [
  {
   "cell_type": "markdown",
   "metadata": {},
   "source": [
    "# Experimental Design\n",
    "Unit 1 / Lesson 4 / Project 1\n",
    "\n",
    "\n",
    "### Drill: Getting Testy\n",
    "\n",
    "For each of the following questions, outline how you could use an A/B test to find an answer.\n",
    "Be sure to identify all five key components of an A/B test we outlined above.\n",
    "\n",
    "- Does a new supplement help people sleep better?\n",
    "- Will new uniforms help a gym's business?\n",
    "- Will a new homepage improve my online exotic pet rental business?\n",
    "- If I put 'please read' in the email subject will more people read my emails?"
   ]
  },
  {
   "cell_type": "markdown",
   "metadata": {},
   "source": [
    "### Does a new supplement help people sleep better?\n",
    "- our two versions we would compare would be drug users and non drug users, who would take a placebo. The non drug users would be the A group, \"control\", and the drug users would be the B group. The \"treatment\" would be taking the new sleep supplement.\n",
    "- the sample would be a randomly selected group of people. We would produce two versions of the supplement, perhaps two different flavors, cherry and orange. Cherry would be a placebo and orange would be the supplement. We would make each version available for free in comparable high traffic areas, such as a Whole Foods in a similar urban area. The sample group would try a version of one of the supplements and we'd ask them to fill in a survey about their experience. \n",
    "- Our hypothesis would be that those who take the orange sleep aid supplement will have a better sleep experience and send in more positive reivews about that flavor.\n",
    "- The outcome we would measure would be an aggregate of the survey questions based on which supplement was taken. We could ask multiple questions to address many different concerns, but each questions would be have a range of possible answers, 1-5. The higher values would represent a more positive experience and the lower values would be a negative experience. We can then sum the values of every test and get a single metric that we can compare between the two groups. If the sleep supplement has a higher aggregate score, then we can conclude that it helps people sleep better (or can be marketed as such).\n",
    "- Other measured varialbes we could test for would be included the survey questions. We could ask about age, gender, and sleep habits to get a better idea about our sample population. We could also ask about diet, exercise, and stress level to see if there is a correlation between outside factors and sleep quality. We can them adjust our sample size to give us an even clearer idea of who is taking the supplement and what experience they had."
   ]
  },
  {
   "cell_type": "markdown",
   "metadata": {},
   "source": [
    "### Will new uniforms help a gym's business?\n",
    "- Assuming our gym is a franchise with multiple locations across several markets, our two versions would be to issue new uniforms randomly to staff across different markets. Uniforms would be distributed evenly across size and gender, but approximately fifty percent of locations would receive new uniforms and fifty percent would retain their older uniforms.\n",
    "- We would sample all our sales data from every location over a 3-6 month period. We could then see what affect the uniforms have over significant time period, and we could potentially adjust for seasonality.\n",
    "- Our hypothesis would be that new uniforms would appear as an update that would make the gym seem more desirable and the uniforms would boost staff morale, causing them to produce greater sales revenue.\n",
    "- Our outcome would be comparing year-over-year sales date for our two sample groups, the gyms with new uniforms and the gyms with the old uniforms. By comparing year-over-year, we adjust for any outside influence on the market as a whole (such as a recession that cause sales marketwide to drop 15%) and we adjust for seasonality (by not comparing a 3 month period in winter to a 3 month period in summer). If we see that the gyms with new uniforms had a higher revenue over a targeted threshold, say 10%, we would say that the new uniforms will help the gym's business.\n",
    "- other variables measured could be not just increased sales, but increased retention, say fewer customers canceled their memberships at gyms with new uniforms. We should also include data on the markets that we're comparing, such as changes in median home prices over the same time period. We could then filter out areas that had unusually high (or unusually low) changes in the growth rate of the local economy that might affect our results."
   ]
  },
  {
   "cell_type": "markdown",
   "metadata": {},
   "source": [
    "### Will a new homepage improve my online exotic pet rental business?\n",
    "- we would have two versions of our website, one with a new homepage and one with the old homepage. We would then start a google adwords campaign with identical text, one linking two the new homepage and the other linking two the old homepage. We would then track sales data based on which link brought the customer to the website, the new homepage link or the old homepage link. The link with the highest sales data after our adwords campaign would be the best homepage for our business.\n",
    "- Our sample would be randomly selected from people would click through the link and make a purchase on our website. Typically a lot of sales data through google, facebook, or amazon contains demographic information, so we can even compare our consumers based on age, sex, gender, location, etc. to get a better idea of who's buying.\n",
    "- Our hypothesis would be that we would experience more sales from people who click through to our new homepage, given similar demographic data.\n",
    "- If we find our outcome to be that people who visited the new site were more likely to make a purchase, we would confirm that the new homepage will improve business.\n",
    "- We could also measure other variables such as how much time users spend on the website depending on which link brought them there. Perhaps the sales data is inconclusive, but people spend more time on the new webpage. Those people might be more likely to return in the future and make a purchase. Or maybe they spend more time on the website because it has too much information and it hinders the sales process. If we have demographic data on our customers, we could look at who's more likely to make a purchase through our new site. Perhaps we could market our new site to people fitting that demographic profile and grow our business that way (younger customers are more likely to respond to ads featuring cute puppies, while older customers are more likely to respond to ads featuring dogs playing with families)."
   ]
  },
  {
   "cell_type": "markdown",
   "metadata": {},
   "source": [
    "### If I put 'please read' in the email subject will more people read my emails?\n",
    "- We send two versions of the same email, one with the new subject line and one without. We look at how many peole open the emails, how long they keep them open, and how often they respond.\n",
    "- Our sample would be the people on our email listserve.\n",
    "- Our hypothesis would be that people who receive an email with 'please read' in the subject line are more likely to open the email, spend more time reading the email, and--since they read it--are more likely to respond.\n",
    "- We would primarily compare the outcome of opening the emails between the two groups. The emails with a higher interaction rate we would assume are being read. So if the emails with 'please read' in the subject are opened more frequently, then we can confirm that it will make more people read our emails.\n",
    "- We can also compare how much time peolple spent with the email open, ie. how much time they spend reading it. If someone spent less than 20 seconds with the email open, we could assume they didn't read it if it's a longer email, so we could filter out those people in our sample. Also, even if more people open our emails with the new subject line, but the percentage of people who respond to our emails doesn't change over the two groups, then we would not be able to conclusively say that a new subject line will increase readership. I mean, what good is it if they read your emails but don't respond to them? It's like a tree falling in the forest."
   ]
  },
  {
   "cell_type": "code",
   "execution_count": null,
   "metadata": {
    "collapsed": true
   },
   "outputs": [],
   "source": []
  }
 ],
 "metadata": {
  "kernelspec": {
   "display_name": "Python 3",
   "language": "python",
   "name": "python3"
  },
  "language_info": {
   "codemirror_mode": {
    "name": "ipython",
    "version": 3
   },
   "file_extension": ".py",
   "mimetype": "text/x-python",
   "name": "python",
   "nbconvert_exporter": "python",
   "pygments_lexer": "ipython3",
   "version": "3.7.1"
  }
 },
 "nbformat": 4,
 "nbformat_minor": 2
}
