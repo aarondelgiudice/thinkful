{
 "cells": [
  {
   "cell_type": "markdown",
   "metadata": {},
   "source": [
    "# DRILL: Make a quick research proposal\n",
    "\n",
    "Unit 1 / Lesson 4 / Project 5\n",
    "\n",
    "Look back to the potential experiments in the previous assignment. For one of those experiments, write up the essential points of a research proposal for an improved version of that experiment.\n",
    "\n",
    "The Sith Lords are concerned that their recruiting slogan, \"Give In to Your Anger,\" isn't very effective. Darth Vader develops an alternative slogan, \"Together We Can Rule the Galaxy.\" They compare the slogans on two groups of 50 captured droids each. In one group, Emperor Palpatine delivers the \"Anger\" slogan. In the other, Darth Vader presents the \"Together\" slogan. 20 droids convert to the Dark Side after hearing Palpatine's slogan, while only 5 droids convert after hearing Vader's. The Sith's data scientist concludes that \"Anger\" is a more effective slogan and should continue to be used.\n",
    "\n",
    "### the problem\n",
    "How do we recruit more people to join the dark side? There's a galactic war going on and maintaing our side's number is impotant.\n",
    "We're concerned our recruiting slogan, \"Give In to Your Anger,\" isn't very effective.\n",
    "\n",
    "### potential solution\n",
    "Developing an alternative slogan, \"Together We Can Rule the Galaxy\", will be a more effective slogan and increase our rate of recruitment (or conversion rate).\n",
    "\n",
    "### testing method\n",
    "The old expriment used an A/B test with the two slogans, the \"Anger\" slogan being the control and the \"Galaxy\" slogan being the treatment, on a sample population of 50 captured droids.\n",
    "The slogans were delivered by either Emporer Palpatine or Darth Vader and we had to success rate of 40% (20 of 50 droids) for the \"Anger\" slogan and 10% (5 of 50 droids) for the \"Galaxy\" slogan.\n",
    "For our puposes we'll use these success rates to define our margin of error and threshold for success.\n",
    "A change of 10% can be seen as within the margin or error and a change of over 40% will be considered a success.\n",
    "\n",
    "For our new experiment we want to control for more variables and perform the A/B test on a larger population with more varried demographics.\n",
    "\n",
    "In the previous test, the slogans were delivered by different people, Palpatine delivering one and Vader delivering the other.\n",
    "In our new test the slogans will be delivered by either Vader or Palpatine, not both, this way we can control for any contextual bias based on who delivers the slogan.\n",
    "\n",
    "The sample population of the previous test was only 50 driods for each slogan, 100 droids total.\n",
    "Since the slogan is going to be implemented galaxy-wide, we should conduct the test on a larger population more representative of the galaxy as a whole. This means including humans, droid, generic humanoids, and aliens.\n",
    "Since the droids in the first test were captured, we should either conduct the test entirely on captured subjects or entirely on subjects that haven't been captured.\n",
    "we should keep in mind that though captured test subjects might not be as receptive to our propoganda.\n",
    "\n",
    "Once we've designed our test, controlling for contextual bias and increasing the sample size, we'll compare our results.\n",
    "If we have a conversion rate of 40% or more for one of the slogans, we'll consider it a success and use that slogan for all future recruitment.\n",
    "\n",
    "If both slogans have a conversion rate within 10% of each other, it's possible the difference in conversion rate is within our acceptable margin of error.\n",
    "We'll repeat the test again on another population of identical size with similar demographics.\n",
    "\n",
    "If neither slogan has a success rate over 40%, discard both slogans and go back to \"buy one Sith Lord, get the other for free!\"."
   ]
  },
  {
   "cell_type": "code",
   "execution_count": null,
   "metadata": {
    "collapsed": true
   },
   "outputs": [],
   "source": []
  }
 ],
 "metadata": {
  "kernelspec": {
   "display_name": "Python 3",
   "language": "python",
   "name": "python3"
  },
  "language_info": {
   "codemirror_mode": {
    "name": "ipython",
    "version": 3
   },
   "file_extension": ".py",
   "mimetype": "text/x-python",
   "name": "python",
   "nbconvert_exporter": "python",
   "pygments_lexer": "ipython3",
   "version": "3.7.1"
  }
 },
 "nbformat": 4,
 "nbformat_minor": 2
}
