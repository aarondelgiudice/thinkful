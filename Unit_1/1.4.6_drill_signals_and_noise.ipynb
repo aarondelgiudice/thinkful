{
 "cells": [
  {
   "cell_type": "markdown",
   "metadata": {},
   "source": [
    "# Drill Signals and Noise\n",
    "\n",
    "Unit 1 / Lesson 4 / Assignment 6\n",
    "\n",
    "To help you find your bearings with regard to t-tests, calculate the t-values for the following numbers:\n",
    "\n",
    "\n",
    "1. $\\bar{y_1}= 5$, $\\bar{y_2}= 8$, $s_1= 1$, $s_2= 3$, $N_1= 200$, $N_2= 500$\n",
    "2. $\\bar{y_1}= 1090$, $\\bar{y_2}= 999$, $s_1= 400$, $s_2= 30$, $N_1= 900$, $N_2= 100$\n",
    "3. $\\bar{y_1}= 45$, $\\bar{y_2}= 40$, $s_1= 45$, $s_2= 40$, $N_1= 2000$, $N_2= 2000$\n",
    "\n",
    "### Set 1\n",
    "    group 1 mean = 5, variance = 1, size = 200\n",
    "    group 2 mean = 8, variance = 3, size = 500\n",
    "\n",
    "### Set 2\n",
    "    group 1 mean = 1090, variance = 400, size = 900\n",
    "    group 2 mean = 999, variance = 30, size = 100\n",
    "\n",
    "### Set 3\n",
    "    group 1 mean = 45, variance = 45, size = 2000\n",
    "    group 2 mean = 40, variance = 40, size = 2000\n"
   ]
  },
  {
   "cell_type": "markdown",
   "metadata": {},
   "source": [
    "# Results:\n",
    "\n",
    "### Set 1:\n",
    "    t-value: 15.030594451757333\n",
    "    p-value: 3.5064166293363025e-46\n",
    "\n",
    "### Set 2:\n",
    "    t-value: -21.41987828741359\n",
    "    p-value: 1.8761629927372846e-53\n",
    "\n",
    "### Set 3:\n",
    "    t-value: -8.34589882628113\n",
    "    p-value: 8.253048297267635e-17"
   ]
  },
  {
   "cell_type": "code",
   "execution_count": 1,
   "metadata": {
    "collapsed": true
   },
   "outputs": [],
   "source": [
    "import numpy as np\n",
    "import pandas as pd\n",
    "import matplotlib.pyplot as plt\n",
    "import seaborn as sns\n",
    "import scipy.stats as stats\n",
    "%matplotlib inline"
   ]
  },
  {
   "cell_type": "markdown",
   "metadata": {},
   "source": [
    "### Set 1"
   ]
  },
  {
   "cell_type": "code",
   "execution_count": 30,
   "metadata": {},
   "outputs": [
    {
     "name": "stdout",
     "output_type": "stream",
     "text": [
      "Set 1\n",
      "t-value: 15.030594451757333\n",
      "p-value: 3.5064166293363025e-46\n"
     ]
    }
   ],
   "source": [
    "# random seed\n",
    "np.random.seed(66)\n",
    "\n",
    "#Storing our randomly generated data and labels.\n",
    "data = []\n",
    "groups = []\n",
    "labels_var = []\n",
    "labels_size = []\n",
    "\n",
    "#The values we use for the standard deviations and the sample sizes.\n",
    "variability = [1, 3]\n",
    "sizes = [200, 500]\n",
    "\n",
    "#Generating data for each group for each combination of variability and sample size.\n",
    "for var in variability:\n",
    "    for size in sizes:\n",
    "        data.extend(np.random.normal(5,var,size))\n",
    "        data.extend(np.random.normal(8,var,size))\n",
    "        labels_var.extend([var]*size*2)\n",
    "        labels_size.extend([size]*size*2)\n",
    "        groups.extend(['group1']*size)\n",
    "        groups.extend(['group2']*size)\n",
    "\n",
    "\n",
    "# make a dataframe\n",
    "df1 = pd.DataFrame({'data': data, \n",
    "                     'groups' : groups,\n",
    "                    'variability':labels_var,\n",
    "                    'size':labels_size})\n",
    "\n",
    "data_test = df1.set_index(['groups', 'size', 'variability'])\n",
    "\n",
    "a = data_test['data'].xs(('group1', size, var), level=('groups', 'size', 'variability'))\n",
    "b = data_test['data'].xs(('group2', size, var), level=('groups', 'size', 'variability'))\n",
    "\n",
    "tval, pval = stats.ttest_ind(b, a, equal_var=True)\n",
    "\n",
    "print('Set 1')\n",
    "print('t-value: {}\\np-value: {}'.format(tval, pval))"
   ]
  },
  {
   "cell_type": "markdown",
   "metadata": {},
   "source": [
    "### Set 2"
   ]
  },
  {
   "cell_type": "code",
   "execution_count": 32,
   "metadata": {},
   "outputs": [
    {
     "name": "stdout",
     "output_type": "stream",
     "text": [
      "Set 2\n",
      "t-value: -21.41987828741359\n",
      "p-value: 1.8761629927372846e-53\n"
     ]
    }
   ],
   "source": [
    "# random seed\n",
    "np.random.seed(66)\n",
    "\n",
    "#Storing our randomly generated data and labels.\n",
    "data = []\n",
    "groups = []\n",
    "labels_var = []\n",
    "labels_size = []\n",
    "\n",
    "#The values we use for the standard deviations and the sample sizes.\n",
    "variability = [400, 30]\n",
    "sizes = [900, 100]\n",
    "\n",
    "#Generating data for each group for each combination of variability and sample size.\n",
    "for var in variability:\n",
    "    for size in sizes:\n",
    "        data.extend(np.random.normal(1090,var,size))\n",
    "        data.extend(np.random.normal(999,var,size))\n",
    "        labels_var.extend([var]*size*2)\n",
    "        labels_size.extend([size]*size*2)\n",
    "        groups.extend(['group1']*size)\n",
    "        groups.extend(['group2']*size)\n",
    "\n",
    "\n",
    "# make a dataframe\n",
    "df1 = pd.DataFrame({'data': data, \n",
    "                     'groups' : groups,\n",
    "                    'variability':labels_var,\n",
    "                    'size':labels_size})\n",
    "\n",
    "data_test = df1.set_index(['groups', 'size', 'variability'])\n",
    "\n",
    "a = data_test['data'].xs(('group1', size, var), level=('groups', 'size', 'variability'))\n",
    "b = data_test['data'].xs(('group2', size, var), level=('groups', 'size', 'variability'))\n",
    "\n",
    "tval, pval = stats.ttest_ind(b, a, equal_var=True)\n",
    "\n",
    "print('Set 2')\n",
    "print('t-value: {}\\np-value: {}'.format(tval, pval))"
   ]
  },
  {
   "cell_type": "markdown",
   "metadata": {},
   "source": [
    "### Set 3"
   ]
  },
  {
   "cell_type": "code",
   "execution_count": 33,
   "metadata": {},
   "outputs": [
    {
     "name": "stdout",
     "output_type": "stream",
     "text": [
      "Set 1\n",
      "t-value: -8.34589882628113\n",
      "p-value: 8.253048297267635e-17\n"
     ]
    }
   ],
   "source": [
    "# random seed\n",
    "np.random.seed(66)\n",
    "\n",
    "#Storing our randomly generated data and labels.\n",
    "data = []\n",
    "groups = []\n",
    "labels_var = []\n",
    "labels_size = []\n",
    "\n",
    "#The values we use for the standard deviations and the sample sizes.\n",
    "variability = [45, 40]\n",
    "sizes = [2000, 2000]\n",
    "\n",
    "#Generating data for each group for each combination of variability and sample size.\n",
    "for var in variability:\n",
    "    for size in sizes:\n",
    "        data.extend(np.random.normal(45,var,size))\n",
    "        data.extend(np.random.normal(40,var,size))\n",
    "        labels_var.extend([var]*size*2)\n",
    "        labels_size.extend([size]*size*2)\n",
    "        groups.extend(['group1']*size)\n",
    "        groups.extend(['group2']*size)\n",
    "\n",
    "\n",
    "# make a dataframe\n",
    "df1 = pd.DataFrame({'data': data, \n",
    "                     'groups' : groups,\n",
    "                    'variability':labels_var,\n",
    "                    'size':labels_size})\n",
    "\n",
    "data_test = df1.set_index(['groups', 'size', 'variability'])\n",
    "\n",
    "a = data_test['data'].xs(('group1', size, var), level=('groups', 'size', 'variability'))\n",
    "b = data_test['data'].xs(('group2', size, var), level=('groups', 'size', 'variability'))\n",
    "\n",
    "tval, pval = stats.ttest_ind(b, a, equal_var=True)\n",
    "\n",
    "print('Set 3')\n",
    "print('t-value: {}\\np-value: {}'.format(tval, pval))"
   ]
  },
  {
   "cell_type": "markdown",
   "metadata": {},
   "source": [
    "# Results:\n",
    "\n",
    "### Set 1:\n",
    "    t-value: 15.030594451757333\n",
    "    p-value: 3.5064166293363025e-46\n",
    "\n",
    "### Set 2:\n",
    "    t-value: -21.41987828741359\n",
    "    p-value: 1.8761629927372846e-53\n",
    "\n",
    "### Set 3:\n",
    "    t-value: -8.34589882628113\n",
    "    p-value: 8.253048297267635e-17"
   ]
  },
  {
   "cell_type": "code",
   "execution_count": null,
   "metadata": {
    "collapsed": true
   },
   "outputs": [],
   "source": []
  }
 ],
 "metadata": {
  "kernelspec": {
   "display_name": "Python 3",
   "language": "python",
   "name": "python3"
  },
  "language_info": {
   "codemirror_mode": {
    "name": "ipython",
    "version": 3
   },
   "file_extension": ".py",
   "mimetype": "text/x-python",
   "name": "python",
   "nbconvert_exporter": "python",
   "pygments_lexer": "ipython3",
   "version": "3.7.1"
  }
 },
 "nbformat": 4,
 "nbformat_minor": 2
}
