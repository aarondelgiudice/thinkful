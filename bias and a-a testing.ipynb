{
 "cells": [
  {
   "cell_type": "markdown",
   "metadata": {},
   "source": [
    "# Bias and A/A Testing\n",
    "\n",
    "Unit 1 / Lesson 4 / Project 3\n",
    "\n",
    "In an experiement, __bias__ is anythign that causes a sample to systematically differ from the population.\n",
    "__Bias__ can come from many sources: \n",
    "- the sampling procedure\n",
    "- the assignment to conditions proceudure\n",
    "- the context of study\n",
    "- even the people observing the study\n",
    "\n",
    "__Sampling bias__ or __selection bias__ is when a sample differs from the population in some way--more women, younger, richer, more outgoing, etc.--then conclusions based on our biased sample may not apply to the larger population.\n",
    "__Selection bias__ can be avoided by randomizing the selection process of the sample from the population.\n",
    "\n",
    "__Bias in assignment conditions__ represents a failure of randomness, similar to __selection bias__.\n",
    "In the case of __assignment condition bias__, the sample is _intended_ to be separated into groups that are similar to one another for comparrison, but the groups end up being too different to compare.\n",
    "For example, sampling who prefers sprinkles on their ice cream between groups with an average age of 13 and an average age of 30.\n",
    "The groups are too dissimilar to conclude customers perfer sprinkles on their ice cream.\n",
    "The resulting outcome is biased and we are unable to determine if the treatment the groups received had a meaningful impact on the outcome.\n",
    "\n",
    "__Study context bias__ is when the context of the study, the setting, the interaction with variables, outside influencers, affect the outcome and bias the results.\n",
    "For example, testing two groups on a new beverage, group A rates it unanimously favorably while group B is more normally distributed.\n",
    "Turns out group A was sitting in a room facing the sun, so it was much warmer and the subjects were thirsty.\n",
    "This contextual factor biased your results.\n",
    "Not all sources of contextual bias are this obvious, but it underscores the importance of matching the setting for all experimental groups.\n",
    "\n",
    "__Observer bias__ is when the people conducting the study affect the outcome in some way, intentionally or not.\n",
    "It can be as subtle as a reviewer unintentionally smiling when subjects respond correctly to questions, and otherwise frowning when subjects answer incorrectly.\n",
    "Or it can be as blatant as misrecording data that contradicts a desired conclusion.\n",
    "__Observe bias__ is hard to eliminate.\n",
    "The best option to make sure there are no expectations about a particular outcome.\n",
    "\n",
    "### A/A Testing\n",
    "\n",
    "Of all sources of __bias__, all but __selection bias__ may be detectable through __A/A testing__.\n",
    "\n",
    "__A/A testing__ provides context for the results of __A/B testing__ by comparing those results between two identical versions of something.\n",
    "For example, if we divide all newsletter subscribers into two groups but send both groups the same email, we would expect that clickthrough rates for both groups would be identical.\n",
    "In practice though, this is not always the case.\n",
    "\n",
    "__A/A testing__ can identify problems with:\n",
    "\n",
    "- the __testing method__ say, all emails for version 1 were sent out in the morning when people are on their way to work, while emails for version 2 were sent out at night when people have more leisure time.\n",
    "- the __random split method__ if the mailing list is arranged chronologically and version 1 was sent to mostly long-time customers who are more likely to click through.\n",
    "- the __size of the sample__ as the rarer the outcome, the bigger sample needed to get an accurate estimate of the response rate\n",
    "- any __outside factors__ than can affect the outcome of the test.\n",
    "\n",
    "The size of the difference between the groups in the __A/A test__ can also be used to define a threshold for subsequent __A/B testing__. If differences between groups in the __A/B test__ is smaller than observed in the __A/A test__, we can assume this is an outlier, and if the differences are greater, we can assume the __A/B test__ had an affect."
   ]
  },
  {
   "cell_type": "code",
   "execution_count": null,
   "metadata": {
    "collapsed": true
   },
   "outputs": [],
   "source": []
  }
 ],
 "metadata": {
  "kernelspec": {
   "display_name": "Python 3",
   "language": "python",
   "name": "python3"
  },
  "language_info": {
   "codemirror_mode": {
    "name": "ipython",
    "version": 3
   },
   "file_extension": ".py",
   "mimetype": "text/x-python",
   "name": "python",
   "nbconvert_exporter": "python",
   "pygments_lexer": "ipython3",
   "version": "3.7.1"
  }
 },
 "nbformat": 4,
 "nbformat_minor": 2
}
