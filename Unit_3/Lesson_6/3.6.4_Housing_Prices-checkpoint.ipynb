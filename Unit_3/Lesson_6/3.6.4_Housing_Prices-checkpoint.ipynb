{
 "cells": [
  {
   "cell_type": "markdown",
   "metadata": {},
   "source": [
    "# Housing Prices\n",
    "Unit 3 / Lesson 6 / Project 4\n",
    "\n",
    "Using [this Kaggle data](https://www.kaggle.com/anthonypino/melbourne-housing-market) create a model to predict a house's value.\n",
    "We want to be able to understand what creates value in a house, as though we were a real estate developer."
   ]
  },
  {
   "cell_type": "code",
   "execution_count": 1,
   "metadata": {
    "collapsed": true
   },
   "outputs": [],
   "source": [
    "import numpy as np\n",
    "import pandas as pd\n",
    "import matplotlib.pyplot as plt\n",
    "%matplotlib inline\n",
    "import seaborn as sns\n",
    "from sklearn.preprocessing import OneHotEncoder, StandardScaler\n",
    "from sklearn.metrics import mean_squared_error, mean_absolute_error\n",
    "from sklearn.model_selection import train_test_split, RandomizedSearchCV\n",
    "from sklearn.linear_model import LinearRegression, Ridge, RidgeCV\n",
    "from sklearn.ensemble import RandomForestRegressor, GradientBoostingRegressor"
   ]
  },
  {
   "cell_type": "markdown",
   "metadata": {},
   "source": [
    "## Import data"
   ]
  },
  {
   "cell_type": "code",
   "execution_count": 2,
   "metadata": {
    "scrolled": true
   },
   "outputs": [
    {
     "data": {
      "text/html": [
       "<div>\n",
       "<style scoped>\n",
       "    .dataframe tbody tr th:only-of-type {\n",
       "        vertical-align: middle;\n",
       "    }\n",
       "\n",
       "    .dataframe tbody tr th {\n",
       "        vertical-align: top;\n",
       "    }\n",
       "\n",
       "    .dataframe thead th {\n",
       "        text-align: right;\n",
       "    }\n",
       "</style>\n",
       "<table border=\"1\" class=\"dataframe\">\n",
       "  <thead>\n",
       "    <tr style=\"text-align: right;\">\n",
       "      <th></th>\n",
       "      <th>Rooms</th>\n",
       "      <th>Price</th>\n",
       "      <th>Distance</th>\n",
       "      <th>Postcode</th>\n",
       "      <th>Lattitude</th>\n",
       "      <th>Longtitude</th>\n",
       "      <th>Propertycount</th>\n",
       "      <th>log_Price</th>\n",
       "      <th>h</th>\n",
       "      <th>t</th>\n",
       "      <th>...</th>\n",
       "      <th>Western_Victoria</th>\n",
       "      <th>Bedroom2</th>\n",
       "      <th>Bathroom</th>\n",
       "      <th>Car</th>\n",
       "      <th>Landsize</th>\n",
       "      <th>BuildingArea</th>\n",
       "      <th>YearBuilt</th>\n",
       "      <th>high_price</th>\n",
       "      <th>low_price</th>\n",
       "      <th>Date</th>\n",
       "    </tr>\n",
       "  </thead>\n",
       "  <tbody>\n",
       "    <tr>\n",
       "      <th>1</th>\n",
       "      <td>2</td>\n",
       "      <td>1480000.0</td>\n",
       "      <td>2.5</td>\n",
       "      <td>3067.0</td>\n",
       "      <td>-37.7996</td>\n",
       "      <td>144.9984</td>\n",
       "      <td>4019.0</td>\n",
       "      <td>14.207553</td>\n",
       "      <td>1.0</td>\n",
       "      <td>0.0</td>\n",
       "      <td>...</td>\n",
       "      <td>0.0</td>\n",
       "      <td>2.0</td>\n",
       "      <td>1.0</td>\n",
       "      <td>1.0</td>\n",
       "      <td>202.0</td>\n",
       "      <td>165.0</td>\n",
       "      <td>1960.0</td>\n",
       "      <td>0</td>\n",
       "      <td>0</td>\n",
       "      <td>2016-12-03</td>\n",
       "    </tr>\n",
       "    <tr>\n",
       "      <th>2</th>\n",
       "      <td>2</td>\n",
       "      <td>1035000.0</td>\n",
       "      <td>2.5</td>\n",
       "      <td>3067.0</td>\n",
       "      <td>-37.8079</td>\n",
       "      <td>144.9934</td>\n",
       "      <td>4019.0</td>\n",
       "      <td>13.849913</td>\n",
       "      <td>1.0</td>\n",
       "      <td>0.0</td>\n",
       "      <td>...</td>\n",
       "      <td>0.0</td>\n",
       "      <td>2.0</td>\n",
       "      <td>1.0</td>\n",
       "      <td>0.0</td>\n",
       "      <td>156.0</td>\n",
       "      <td>79.0</td>\n",
       "      <td>1900.0</td>\n",
       "      <td>0</td>\n",
       "      <td>0</td>\n",
       "      <td>2016-02-04</td>\n",
       "    </tr>\n",
       "    <tr>\n",
       "      <th>4</th>\n",
       "      <td>3</td>\n",
       "      <td>1465000.0</td>\n",
       "      <td>2.5</td>\n",
       "      <td>3067.0</td>\n",
       "      <td>-37.8093</td>\n",
       "      <td>144.9944</td>\n",
       "      <td>4019.0</td>\n",
       "      <td>14.197366</td>\n",
       "      <td>1.0</td>\n",
       "      <td>0.0</td>\n",
       "      <td>...</td>\n",
       "      <td>0.0</td>\n",
       "      <td>3.0</td>\n",
       "      <td>2.0</td>\n",
       "      <td>0.0</td>\n",
       "      <td>134.0</td>\n",
       "      <td>150.0</td>\n",
       "      <td>1900.0</td>\n",
       "      <td>0</td>\n",
       "      <td>0</td>\n",
       "      <td>2017-03-04</td>\n",
       "    </tr>\n",
       "    <tr>\n",
       "      <th>5</th>\n",
       "      <td>3</td>\n",
       "      <td>850000.0</td>\n",
       "      <td>2.5</td>\n",
       "      <td>3067.0</td>\n",
       "      <td>-37.7969</td>\n",
       "      <td>144.9969</td>\n",
       "      <td>4019.0</td>\n",
       "      <td>13.652993</td>\n",
       "      <td>1.0</td>\n",
       "      <td>0.0</td>\n",
       "      <td>...</td>\n",
       "      <td>0.0</td>\n",
       "      <td>3.0</td>\n",
       "      <td>2.0</td>\n",
       "      <td>1.0</td>\n",
       "      <td>94.0</td>\n",
       "      <td>165.0</td>\n",
       "      <td>1960.0</td>\n",
       "      <td>0</td>\n",
       "      <td>0</td>\n",
       "      <td>2017-03-04</td>\n",
       "    </tr>\n",
       "    <tr>\n",
       "      <th>6</th>\n",
       "      <td>4</td>\n",
       "      <td>1600000.0</td>\n",
       "      <td>2.5</td>\n",
       "      <td>3067.0</td>\n",
       "      <td>-37.8072</td>\n",
       "      <td>144.9941</td>\n",
       "      <td>4019.0</td>\n",
       "      <td>14.285515</td>\n",
       "      <td>1.0</td>\n",
       "      <td>0.0</td>\n",
       "      <td>...</td>\n",
       "      <td>0.0</td>\n",
       "      <td>3.0</td>\n",
       "      <td>1.0</td>\n",
       "      <td>2.0</td>\n",
       "      <td>120.0</td>\n",
       "      <td>142.0</td>\n",
       "      <td>2014.0</td>\n",
       "      <td>1</td>\n",
       "      <td>0</td>\n",
       "      <td>2016-06-04</td>\n",
       "    </tr>\n",
       "  </tbody>\n",
       "</table>\n",
       "<p>5 rows × 37 columns</p>\n",
       "</div>"
      ],
      "text/plain": [
       "   Rooms      Price  Distance  Postcode  Lattitude  Longtitude  Propertycount  \\\n",
       "1      2  1480000.0       2.5    3067.0   -37.7996    144.9984         4019.0   \n",
       "2      2  1035000.0       2.5    3067.0   -37.8079    144.9934         4019.0   \n",
       "4      3  1465000.0       2.5    3067.0   -37.8093    144.9944         4019.0   \n",
       "5      3   850000.0       2.5    3067.0   -37.7969    144.9969         4019.0   \n",
       "6      4  1600000.0       2.5    3067.0   -37.8072    144.9941         4019.0   \n",
       "\n",
       "   log_Price    h    t     ...      Western_Victoria  Bedroom2  Bathroom  Car  \\\n",
       "1  14.207553  1.0  0.0     ...                   0.0       2.0       1.0  1.0   \n",
       "2  13.849913  1.0  0.0     ...                   0.0       2.0       1.0  0.0   \n",
       "4  14.197366  1.0  0.0     ...                   0.0       3.0       2.0  0.0   \n",
       "5  13.652993  1.0  0.0     ...                   0.0       3.0       2.0  1.0   \n",
       "6  14.285515  1.0  0.0     ...                   0.0       3.0       1.0  2.0   \n",
       "\n",
       "   Landsize  BuildingArea  YearBuilt  high_price  low_price        Date  \n",
       "1     202.0         165.0     1960.0           0          0  2016-12-03  \n",
       "2     156.0          79.0     1900.0           0          0  2016-02-04  \n",
       "4     134.0         150.0     1900.0           0          0  2017-03-04  \n",
       "5      94.0         165.0     1960.0           0          0  2017-03-04  \n",
       "6     120.0         142.0     2014.0           1          0  2016-06-04  \n",
       "\n",
       "[5 rows x 37 columns]"
      ]
     },
     "execution_count": 2,
     "metadata": {},
     "output_type": "execute_result"
    }
   ],
   "source": [
    "# import data\n",
    "PATH = ('assets\\Melbourne_housing_FULL.csv')\n",
    "raw_data = pd.read_csv(PATH, index_col=None)\n",
    "df_raw = pd.DataFrame(raw_data)\n",
    "df_raw.head()\n",
    "\n",
    "PATH_clean = ('assets\\Melbourne_housing_FULL_clean.csv')\n",
    "clean_data = pd.read_csv(PATH_clean, index_col=0)\n",
    "df_clean = pd.DataFrame(clean_data)\n",
    "df_clean.head()"
   ]
  },
  {
   "cell_type": "markdown",
   "metadata": {},
   "source": [
    "### Content & Acknowledgements\n",
    "This data was scraped from publicly available results posted every week from Domain.com.au, I've cleaned it as best I can, now it's up to you to make data analysis magic. The dataset includes Address, Type of Real estate, Suburb, Method of Selling, Rooms, Price, Real Estate Agent, Date of Sale and distance from C.B.D.\n",
    "\n",
    "....Now with extra data including including property size, land size and council area, you may need to change your code!\n",
    "\n",
    "Some Key Details\n",
    "Suburb: Suburb\n",
    "\n",
    "Address: Address\n",
    "\n",
    "Rooms: Number of rooms\n",
    "\n",
    "Price: Price in Australian dollars\n",
    "\n",
    "Method: S - property sold; SP - property sold prior; PI - property passed in; PN - sold prior not disclosed; SN - sold not disclosed; NB - no bid; VB - vendor bid; W - withdrawn prior to auction; SA - sold after auction; SS - sold after auction price not disclosed. N/A - price or highest bid not available.\n",
    "\n",
    "Type: br - bedroom(s); h - house,cottage,villa, semi,terrace; u - unit, duplex; t - townhouse; dev site - development site; o res - other residential.\n",
    "\n",
    "SellerG: Real Estate Agent\n",
    "\n",
    "Date: Date sold\n",
    "\n",
    "Distance: Distance from CBD in Kilometres\n",
    "\n",
    "Regionname: General Region (West, North West, North, North east ...etc)\n",
    "\n",
    "Propertycount: Number of properties that exist in the suburb.\n",
    "\n",
    "Bedroom2 : Scraped # of Bedrooms (from different source)\n",
    "\n",
    "Bathroom: Number of Bathrooms\n",
    "\n",
    "Car: Number of carspots\n",
    "\n",
    "Landsize: Land Size in Metres\n",
    "\n",
    "BuildingArea: Building Size in Metres\n",
    "\n",
    "YearBuilt: Year the house was built\n",
    "\n",
    "CouncilArea: Governing council for the area\n",
    "\n",
    "Lattitude: Self explanitory\n",
    "\n",
    "Longtitude: Self explanitory"
   ]
  },
  {
   "cell_type": "markdown",
   "metadata": {},
   "source": [
    "## EDA\n",
    "Let's explore the data and get an idea of what we're working with."
   ]
  },
  {
   "cell_type": "code",
   "execution_count": 3,
   "metadata": {
    "scrolled": true
   },
   "outputs": [
    {
     "name": "stdout",
     "output_type": "stream",
     "text": [
      "<class 'pandas.core.frame.DataFrame'>\n",
      "RangeIndex: 34857 entries, 0 to 34856\n",
      "Data columns (total 21 columns):\n",
      "Suburb           34857 non-null object\n",
      "Address          34857 non-null object\n",
      "Rooms            34857 non-null int64\n",
      "Type             34857 non-null object\n",
      "Price            27247 non-null float64\n",
      "Method           34857 non-null object\n",
      "SellerG          34857 non-null object\n",
      "Date             34857 non-null object\n",
      "Distance         34856 non-null float64\n",
      "Postcode         34856 non-null float64\n",
      "Bedroom2         26640 non-null float64\n",
      "Bathroom         26631 non-null float64\n",
      "Car              26129 non-null float64\n",
      "Landsize         23047 non-null float64\n",
      "BuildingArea     13742 non-null float64\n",
      "YearBuilt        15551 non-null float64\n",
      "CouncilArea      34854 non-null object\n",
      "Lattitude        26881 non-null float64\n",
      "Longtitude       26881 non-null float64\n",
      "Regionname       34854 non-null object\n",
      "Propertycount    34854 non-null float64\n",
      "dtypes: float64(12), int64(1), object(8)\n",
      "memory usage: 5.6+ MB\n"
     ]
    }
   ],
   "source": [
    "df_raw.info()"
   ]
  },
  {
   "cell_type": "code",
   "execution_count": 4,
   "metadata": {},
   "outputs": [
    {
     "data": {
      "text/html": [
       "<div>\n",
       "<style scoped>\n",
       "    .dataframe tbody tr th:only-of-type {\n",
       "        vertical-align: middle;\n",
       "    }\n",
       "\n",
       "    .dataframe tbody tr th {\n",
       "        vertical-align: top;\n",
       "    }\n",
       "\n",
       "    .dataframe thead th {\n",
       "        text-align: right;\n",
       "    }\n",
       "</style>\n",
       "<table border=\"1\" class=\"dataframe\">\n",
       "  <thead>\n",
       "    <tr style=\"text-align: right;\">\n",
       "      <th></th>\n",
       "      <th>Rooms</th>\n",
       "      <th>Price</th>\n",
       "      <th>Distance</th>\n",
       "      <th>Postcode</th>\n",
       "      <th>Bedroom2</th>\n",
       "      <th>Bathroom</th>\n",
       "      <th>Car</th>\n",
       "      <th>Landsize</th>\n",
       "      <th>BuildingArea</th>\n",
       "      <th>YearBuilt</th>\n",
       "      <th>Lattitude</th>\n",
       "      <th>Longtitude</th>\n",
       "      <th>Propertycount</th>\n",
       "    </tr>\n",
       "  </thead>\n",
       "  <tbody>\n",
       "    <tr>\n",
       "      <th>count</th>\n",
       "      <td>34857.000000</td>\n",
       "      <td>2.724700e+04</td>\n",
       "      <td>34856.000000</td>\n",
       "      <td>34856.000000</td>\n",
       "      <td>26640.000000</td>\n",
       "      <td>26631.000000</td>\n",
       "      <td>26129.000000</td>\n",
       "      <td>23047.000000</td>\n",
       "      <td>13742.00000</td>\n",
       "      <td>15551.000000</td>\n",
       "      <td>26881.000000</td>\n",
       "      <td>26881.000000</td>\n",
       "      <td>34854.000000</td>\n",
       "    </tr>\n",
       "    <tr>\n",
       "      <th>mean</th>\n",
       "      <td>3.031012</td>\n",
       "      <td>1.050173e+06</td>\n",
       "      <td>11.184929</td>\n",
       "      <td>3116.062859</td>\n",
       "      <td>3.084647</td>\n",
       "      <td>1.624798</td>\n",
       "      <td>1.728845</td>\n",
       "      <td>593.598993</td>\n",
       "      <td>160.25640</td>\n",
       "      <td>1965.289885</td>\n",
       "      <td>-37.810634</td>\n",
       "      <td>145.001851</td>\n",
       "      <td>7572.888306</td>\n",
       "    </tr>\n",
       "    <tr>\n",
       "      <th>std</th>\n",
       "      <td>0.969933</td>\n",
       "      <td>6.414671e+05</td>\n",
       "      <td>6.788892</td>\n",
       "      <td>109.023903</td>\n",
       "      <td>0.980690</td>\n",
       "      <td>0.724212</td>\n",
       "      <td>1.010771</td>\n",
       "      <td>3398.841946</td>\n",
       "      <td>401.26706</td>\n",
       "      <td>37.328178</td>\n",
       "      <td>0.090279</td>\n",
       "      <td>0.120169</td>\n",
       "      <td>4428.090313</td>\n",
       "    </tr>\n",
       "    <tr>\n",
       "      <th>min</th>\n",
       "      <td>1.000000</td>\n",
       "      <td>8.500000e+04</td>\n",
       "      <td>0.000000</td>\n",
       "      <td>3000.000000</td>\n",
       "      <td>0.000000</td>\n",
       "      <td>0.000000</td>\n",
       "      <td>0.000000</td>\n",
       "      <td>0.000000</td>\n",
       "      <td>0.00000</td>\n",
       "      <td>1196.000000</td>\n",
       "      <td>-38.190430</td>\n",
       "      <td>144.423790</td>\n",
       "      <td>83.000000</td>\n",
       "    </tr>\n",
       "    <tr>\n",
       "      <th>25%</th>\n",
       "      <td>2.000000</td>\n",
       "      <td>6.350000e+05</td>\n",
       "      <td>6.400000</td>\n",
       "      <td>3051.000000</td>\n",
       "      <td>2.000000</td>\n",
       "      <td>1.000000</td>\n",
       "      <td>1.000000</td>\n",
       "      <td>224.000000</td>\n",
       "      <td>102.00000</td>\n",
       "      <td>1940.000000</td>\n",
       "      <td>-37.862950</td>\n",
       "      <td>144.933500</td>\n",
       "      <td>4385.000000</td>\n",
       "    </tr>\n",
       "    <tr>\n",
       "      <th>50%</th>\n",
       "      <td>3.000000</td>\n",
       "      <td>8.700000e+05</td>\n",
       "      <td>10.300000</td>\n",
       "      <td>3103.000000</td>\n",
       "      <td>3.000000</td>\n",
       "      <td>2.000000</td>\n",
       "      <td>2.000000</td>\n",
       "      <td>521.000000</td>\n",
       "      <td>136.00000</td>\n",
       "      <td>1970.000000</td>\n",
       "      <td>-37.807600</td>\n",
       "      <td>145.007800</td>\n",
       "      <td>6763.000000</td>\n",
       "    </tr>\n",
       "    <tr>\n",
       "      <th>75%</th>\n",
       "      <td>4.000000</td>\n",
       "      <td>1.295000e+06</td>\n",
       "      <td>14.000000</td>\n",
       "      <td>3156.000000</td>\n",
       "      <td>4.000000</td>\n",
       "      <td>2.000000</td>\n",
       "      <td>2.000000</td>\n",
       "      <td>670.000000</td>\n",
       "      <td>188.00000</td>\n",
       "      <td>2000.000000</td>\n",
       "      <td>-37.754100</td>\n",
       "      <td>145.071900</td>\n",
       "      <td>10412.000000</td>\n",
       "    </tr>\n",
       "    <tr>\n",
       "      <th>max</th>\n",
       "      <td>16.000000</td>\n",
       "      <td>1.120000e+07</td>\n",
       "      <td>48.100000</td>\n",
       "      <td>3978.000000</td>\n",
       "      <td>30.000000</td>\n",
       "      <td>12.000000</td>\n",
       "      <td>26.000000</td>\n",
       "      <td>433014.000000</td>\n",
       "      <td>44515.00000</td>\n",
       "      <td>2106.000000</td>\n",
       "      <td>-37.390200</td>\n",
       "      <td>145.526350</td>\n",
       "      <td>21650.000000</td>\n",
       "    </tr>\n",
       "  </tbody>\n",
       "</table>\n",
       "</div>"
      ],
      "text/plain": [
       "              Rooms         Price      Distance      Postcode      Bedroom2  \\\n",
       "count  34857.000000  2.724700e+04  34856.000000  34856.000000  26640.000000   \n",
       "mean       3.031012  1.050173e+06     11.184929   3116.062859      3.084647   \n",
       "std        0.969933  6.414671e+05      6.788892    109.023903      0.980690   \n",
       "min        1.000000  8.500000e+04      0.000000   3000.000000      0.000000   \n",
       "25%        2.000000  6.350000e+05      6.400000   3051.000000      2.000000   \n",
       "50%        3.000000  8.700000e+05     10.300000   3103.000000      3.000000   \n",
       "75%        4.000000  1.295000e+06     14.000000   3156.000000      4.000000   \n",
       "max       16.000000  1.120000e+07     48.100000   3978.000000     30.000000   \n",
       "\n",
       "           Bathroom           Car       Landsize  BuildingArea     YearBuilt  \\\n",
       "count  26631.000000  26129.000000   23047.000000   13742.00000  15551.000000   \n",
       "mean       1.624798      1.728845     593.598993     160.25640   1965.289885   \n",
       "std        0.724212      1.010771    3398.841946     401.26706     37.328178   \n",
       "min        0.000000      0.000000       0.000000       0.00000   1196.000000   \n",
       "25%        1.000000      1.000000     224.000000     102.00000   1940.000000   \n",
       "50%        2.000000      2.000000     521.000000     136.00000   1970.000000   \n",
       "75%        2.000000      2.000000     670.000000     188.00000   2000.000000   \n",
       "max       12.000000     26.000000  433014.000000   44515.00000   2106.000000   \n",
       "\n",
       "          Lattitude    Longtitude  Propertycount  \n",
       "count  26881.000000  26881.000000   34854.000000  \n",
       "mean     -37.810634    145.001851    7572.888306  \n",
       "std        0.090279      0.120169    4428.090313  \n",
       "min      -38.190430    144.423790      83.000000  \n",
       "25%      -37.862950    144.933500    4385.000000  \n",
       "50%      -37.807600    145.007800    6763.000000  \n",
       "75%      -37.754100    145.071900   10412.000000  \n",
       "max      -37.390200    145.526350   21650.000000  "
      ]
     },
     "execution_count": 4,
     "metadata": {},
     "output_type": "execute_result"
    }
   ],
   "source": [
    "df_raw.describe()"
   ]
  },
  {
   "cell_type": "code",
   "execution_count": 5,
   "metadata": {
    "scrolled": true
   },
   "outputs": [
    {
     "data": {
      "text/plain": [
       "0          NaN\n",
       "1    1480000.0\n",
       "2    1035000.0\n",
       "3          NaN\n",
       "4    1465000.0\n",
       "Name: Price, dtype: float64"
      ]
     },
     "metadata": {},
     "output_type": "display_data"
    },
    {
     "data": {
      "image/png": "[encoded data removed]",
      "text/plain": [
       "<Figure size 432x288 with 1 Axes>"
      ]
     },
     "metadata": {
      "needs_background": "light"
     },
     "output_type": "display_data"
    }
   ],
   "source": [
    "# view price data\n",
    "display(df_raw.Price.head())\n",
    "df_raw.Price.dropna().hist()\n",
    "plt.title('Price');"
   ]
  },
  {
   "cell_type": "markdown",
   "metadata": {},
   "source": [
    "Let's see if we can log transform the Price data to create a distribution we can work with."
   ]
  },
  {
   "cell_type": "code",
   "execution_count": 6,
   "metadata": {
    "scrolled": true
   },
   "outputs": [
    {
     "data": {
      "image/png": "[encoded data removed]",
      "text/plain": [
       "<Figure size 432x288 with 1 Axes>"
      ]
     },
     "metadata": {
      "needs_background": "light"
     },
     "output_type": "display_data"
    }
   ],
   "source": [
    "# log transform price data\n",
    "df_raw['log_Price'] = np.log1p(df_raw.Price.dropna())\n",
    "\n",
    "log_price_mean = df_raw['log_Price'].mean()\n",
    "log_price_std = df_raw['log_Price'].std()\n",
    "\n",
    "# view log(price) data\n",
    "df_raw.log_Price.hist(bins=20)\n",
    "plt.axvline((log_price_mean+log_price_std), color='k', linestyle='--')\n",
    "plt.axvline((log_price_mean-log_price_std), color='k', linestyle='--')\n",
    "plt.axvline(log_price_mean, color='k', linestyle='-')\n",
    "plt.title('log(Price)');"
   ]
  },
  {
   "cell_type": "markdown",
   "metadata": {},
   "source": [
    "That's much better."
   ]
  },
  {
   "cell_type": "markdown",
   "metadata": {},
   "source": [
    "## Data Cleaning"
   ]
  },
  {
   "cell_type": "code",
   "execution_count": 7,
   "metadata": {},
   "outputs": [
    {
     "data": {
      "text/plain": [
       "(34857, 22)"
      ]
     },
     "metadata": {},
     "output_type": "display_data"
    },
    {
     "data": {
      "text/plain": [
       "(8887, 22)"
      ]
     },
     "metadata": {},
     "output_type": "display_data"
    }
   ],
   "source": [
    "# view missing data\n",
    "display(df_raw.shape)\n",
    "display(df_raw.dropna().shape)"
   ]
  },
  {
   "cell_type": "markdown",
   "metadata": {},
   "source": [
    "It looks like our dataset has a ton of missing values, approximately 75%.\n",
    "Let's see if we can clean some of this up by dropping unnecessary features filling in some NaNs.\n",
    "We'll also have to work with our dtypes, we have 8 instances of dtype = object that we'll have to correct."
   ]
  },
  {
   "cell_type": "code",
   "execution_count": 8,
   "metadata": {},
   "outputs": [
    {
     "data": {
      "text/plain": [
       "Suburb               0\n",
       "Address              0\n",
       "Rooms                0\n",
       "Type                 0\n",
       "Price             7610\n",
       "Method               0\n",
       "SellerG              0\n",
       "Date                 0\n",
       "Distance             1\n",
       "Postcode             1\n",
       "Bedroom2          8217\n",
       "Bathroom          8226\n",
       "Car               8728\n",
       "Landsize         11810\n",
       "BuildingArea     21115\n",
       "YearBuilt        19306\n",
       "CouncilArea          3\n",
       "Lattitude         7976\n",
       "Longtitude        7976\n",
       "Regionname           3\n",
       "Propertycount        3\n",
       "log_Price         7610\n",
       "dtype: int64"
      ]
     },
     "execution_count": 8,
     "metadata": {},
     "output_type": "execute_result"
    }
   ],
   "source": [
    "# view features\n",
    "df_raw.columns.values\n",
    "\n",
    "# view sum of NaN values if\n",
    "# all missing Price values are dropped\n",
    "#df_raw.dropna(subset=['Price']).isna().sum()\n",
    "\n",
    "# view sum of NaN values\n",
    "df_raw.isna().sum()"
   ]
  },
  {
   "cell_type": "markdown",
   "metadata": {},
   "source": [
    "It looks like most of our missing data is from the columns 'Price' (and consequentially 'log_Price'), 'Bedroom2', 'Bathroom', 'Car', 'Landsize', 'BuildingArea', 'YearBuild', 'Lattitude', and 'Longitude'.\n",
    "The rest of the columns with missing data should be easy to infer or input based on the rest of the data present.\n",
    "\n",
    "The missing 'Price' data will be the most troublesome, as it is the variable we hope to predict. We could input the missing values with the median Price value, or the median Price value of homes in the similar class.\n",
    "For example we could input the median price of all homes, or the median price homes with a similar number of rooms.\n",
    "Either way, it will skew the data and our model.\n",
    "We could drop the missing values, but we would loose ~20% of our dataset.\n",
    "\n",
    "Let's start with filling in our other missing data and see what we're left with.\n",
    "First, though, we'll define price ranges for low, median, and high priced homes.\n",
    "These ranges will [hopefully] give us a more intuitive idea when inputting NaN values."
   ]
  },
  {
   "cell_type": "markdown",
   "metadata": {},
   "source": [
    "### Set categorical price values\n",
    "#### Price ranges"
   ]
  },
  {
   "cell_type": "code",
   "execution_count": 9,
   "metadata": {
    "scrolled": false
   },
   "outputs": [
    {
     "data": {
      "text/plain": [
       "0    30493\n",
       "1     4364\n",
       "Name: high_price, dtype: int64"
      ]
     },
     "metadata": {},
     "output_type": "display_data"
    },
    {
     "data": {
      "text/plain": [
       "0    30741\n",
       "1     4116\n",
       "Name: low_price, dtype: int64"
      ]
     },
     "execution_count": 9,
     "metadata": {},
     "output_type": "execute_result"
    }
   ],
   "source": [
    "# define 'high price' and 'low price' binary features\n",
    "df_raw['high_price'] = np.where(\n",
    "    df_raw['log_Price'] > (log_price_mean+log_price_std), 1, 0\n",
    ")\n",
    "\n",
    "df_raw['low_price'] = np.where(\n",
    "    df_raw['log_Price'] < (log_price_mean-log_price_std), 1, 0\n",
    ")\n",
    "\n",
    "display(df_raw['high_price'].value_counts())\n",
    "df_raw['low_price'].value_counts()"
   ]
  },
  {
   "cell_type": "markdown",
   "metadata": {},
   "source": [
    "#### One-Hot encoding"
   ]
  },
  {
   "cell_type": "markdown",
   "metadata": {},
   "source": [
    "The features 'Suburb', 'Address', and 'SellerG' have far too many unique values to be helpful.\n",
    "So we will just drop those columns.\n",
    "\n",
    "'Type', 'Method', and 'Regionname' we can convert with one-hot encoding to a new set of features.\n",
    "If we do that, we can also drop 'CouncilArea' as it is a more specific (and likely directly correlated!) version of the 'Regionname' feature (for example, 'Yarra City Council' will only be in the 'Northen Metropolitan' region).\n",
    "\n",
    "Lastly, we can convert 'Date' to a datetime format."
   ]
  },
  {
   "cell_type": "code",
   "execution_count": 10,
   "metadata": {
    "scrolled": true
   },
   "outputs": [
    {
     "data": {
      "text/html": [
       "<div>\n",
       "<style scoped>\n",
       "    .dataframe tbody tr th:only-of-type {\n",
       "        vertical-align: middle;\n",
       "    }\n",
       "\n",
       "    .dataframe tbody tr th {\n",
       "        vertical-align: top;\n",
       "    }\n",
       "\n",
       "    .dataframe thead th {\n",
       "        text-align: right;\n",
       "    }\n",
       "</style>\n",
       "<table border=\"1\" class=\"dataframe\">\n",
       "  <thead>\n",
       "    <tr style=\"text-align: right;\">\n",
       "      <th></th>\n",
       "      <th>Rooms</th>\n",
       "      <th>Type</th>\n",
       "      <th>Price</th>\n",
       "      <th>Method</th>\n",
       "      <th>Date</th>\n",
       "      <th>Distance</th>\n",
       "      <th>Postcode</th>\n",
       "      <th>Bedroom2</th>\n",
       "      <th>Bathroom</th>\n",
       "      <th>Car</th>\n",
       "      <th>Landsize</th>\n",
       "      <th>BuildingArea</th>\n",
       "      <th>YearBuilt</th>\n",
       "      <th>Lattitude</th>\n",
       "      <th>Longtitude</th>\n",
       "      <th>Regionname</th>\n",
       "      <th>Propertycount</th>\n",
       "      <th>log_Price</th>\n",
       "      <th>high_price</th>\n",
       "      <th>low_price</th>\n",
       "    </tr>\n",
       "  </thead>\n",
       "  <tbody>\n",
       "    <tr>\n",
       "      <th>0</th>\n",
       "      <td>2</td>\n",
       "      <td>h</td>\n",
       "      <td>NaN</td>\n",
       "      <td>SS</td>\n",
       "      <td>3/09/2016</td>\n",
       "      <td>2.5</td>\n",
       "      <td>3067.0</td>\n",
       "      <td>2.0</td>\n",
       "      <td>1.0</td>\n",
       "      <td>1.0</td>\n",
       "      <td>126.0</td>\n",
       "      <td>NaN</td>\n",
       "      <td>NaN</td>\n",
       "      <td>-37.8014</td>\n",
       "      <td>144.9958</td>\n",
       "      <td>Northern Metropolitan</td>\n",
       "      <td>4019.0</td>\n",
       "      <td>NaN</td>\n",
       "      <td>0</td>\n",
       "      <td>0</td>\n",
       "    </tr>\n",
       "    <tr>\n",
       "      <th>1</th>\n",
       "      <td>2</td>\n",
       "      <td>h</td>\n",
       "      <td>1480000.0</td>\n",
       "      <td>S</td>\n",
       "      <td>3/12/2016</td>\n",
       "      <td>2.5</td>\n",
       "      <td>3067.0</td>\n",
       "      <td>2.0</td>\n",
       "      <td>1.0</td>\n",
       "      <td>1.0</td>\n",
       "      <td>202.0</td>\n",
       "      <td>NaN</td>\n",
       "      <td>NaN</td>\n",
       "      <td>-37.7996</td>\n",
       "      <td>144.9984</td>\n",
       "      <td>Northern Metropolitan</td>\n",
       "      <td>4019.0</td>\n",
       "      <td>14.207553</td>\n",
       "      <td>0</td>\n",
       "      <td>0</td>\n",
       "    </tr>\n",
       "    <tr>\n",
       "      <th>2</th>\n",
       "      <td>2</td>\n",
       "      <td>h</td>\n",
       "      <td>1035000.0</td>\n",
       "      <td>S</td>\n",
       "      <td>4/02/2016</td>\n",
       "      <td>2.5</td>\n",
       "      <td>3067.0</td>\n",
       "      <td>2.0</td>\n",
       "      <td>1.0</td>\n",
       "      <td>0.0</td>\n",
       "      <td>156.0</td>\n",
       "      <td>79.0</td>\n",
       "      <td>1900.0</td>\n",
       "      <td>-37.8079</td>\n",
       "      <td>144.9934</td>\n",
       "      <td>Northern Metropolitan</td>\n",
       "      <td>4019.0</td>\n",
       "      <td>13.849913</td>\n",
       "      <td>0</td>\n",
       "      <td>0</td>\n",
       "    </tr>\n",
       "    <tr>\n",
       "      <th>3</th>\n",
       "      <td>3</td>\n",
       "      <td>u</td>\n",
       "      <td>NaN</td>\n",
       "      <td>VB</td>\n",
       "      <td>4/02/2016</td>\n",
       "      <td>2.5</td>\n",
       "      <td>3067.0</td>\n",
       "      <td>3.0</td>\n",
       "      <td>2.0</td>\n",
       "      <td>1.0</td>\n",
       "      <td>0.0</td>\n",
       "      <td>NaN</td>\n",
       "      <td>NaN</td>\n",
       "      <td>-37.8114</td>\n",
       "      <td>145.0116</td>\n",
       "      <td>Northern Metropolitan</td>\n",
       "      <td>4019.0</td>\n",
       "      <td>NaN</td>\n",
       "      <td>0</td>\n",
       "      <td>0</td>\n",
       "    </tr>\n",
       "    <tr>\n",
       "      <th>4</th>\n",
       "      <td>3</td>\n",
       "      <td>h</td>\n",
       "      <td>1465000.0</td>\n",
       "      <td>SP</td>\n",
       "      <td>4/03/2017</td>\n",
       "      <td>2.5</td>\n",
       "      <td>3067.0</td>\n",
       "      <td>3.0</td>\n",
       "      <td>2.0</td>\n",
       "      <td>0.0</td>\n",
       "      <td>134.0</td>\n",
       "      <td>150.0</td>\n",
       "      <td>1900.0</td>\n",
       "      <td>-37.8093</td>\n",
       "      <td>144.9944</td>\n",
       "      <td>Northern Metropolitan</td>\n",
       "      <td>4019.0</td>\n",
       "      <td>14.197366</td>\n",
       "      <td>0</td>\n",
       "      <td>0</td>\n",
       "    </tr>\n",
       "  </tbody>\n",
       "</table>\n",
       "</div>"
      ],
      "text/plain": [
       "   Rooms Type      Price Method       Date  Distance  Postcode  Bedroom2  \\\n",
       "0      2    h        NaN     SS  3/09/2016       2.5    3067.0       2.0   \n",
       "1      2    h  1480000.0      S  3/12/2016       2.5    3067.0       2.0   \n",
       "2      2    h  1035000.0      S  4/02/2016       2.5    3067.0       2.0   \n",
       "3      3    u        NaN     VB  4/02/2016       2.5    3067.0       3.0   \n",
       "4      3    h  1465000.0     SP  4/03/2017       2.5    3067.0       3.0   \n",
       "\n",
       "   Bathroom  Car  Landsize  BuildingArea  YearBuilt  Lattitude  Longtitude  \\\n",
       "0       1.0  1.0     126.0           NaN        NaN   -37.8014    144.9958   \n",
       "1       1.0  1.0     202.0           NaN        NaN   -37.7996    144.9984   \n",
       "2       1.0  0.0     156.0          79.0     1900.0   -37.8079    144.9934   \n",
       "3       2.0  1.0       0.0           NaN        NaN   -37.8114    145.0116   \n",
       "4       2.0  0.0     134.0         150.0     1900.0   -37.8093    144.9944   \n",
       "\n",
       "              Regionname  Propertycount  log_Price  high_price  low_price  \n",
       "0  Northern Metropolitan         4019.0        NaN           0          0  \n",
       "1  Northern Metropolitan         4019.0  14.207553           0          0  \n",
       "2  Northern Metropolitan         4019.0  13.849913           0          0  \n",
       "3  Northern Metropolitan         4019.0        NaN           0          0  \n",
       "4  Northern Metropolitan         4019.0  14.197366           0          0  "
      ]
     },
     "execution_count": 10,
     "metadata": {},
     "output_type": "execute_result"
    }
   ],
   "source": [
    "# drop features\n",
    "drop_list = ['Suburb', 'Address', 'SellerG', 'CouncilArea']\n",
    "df_raw = df_raw.drop(drop_list, axis=1)\n",
    "\n",
    "df_raw.head()"
   ]
  },
  {
   "cell_type": "code",
   "execution_count": 11,
   "metadata": {},
   "outputs": [
    {
     "data": {
      "text/plain": [
       "Type          0\n",
       "Method        0\n",
       "Regionname    3\n",
       "dtype: int64"
      ]
     },
     "execution_count": 11,
     "metadata": {},
     "output_type": "execute_result"
    }
   ],
   "source": [
    "df_raw[['Type', 'Method', 'Regionname']].isna().sum()"
   ]
  },
  {
   "cell_type": "code",
   "execution_count": 12,
   "metadata": {
    "collapsed": true
   },
   "outputs": [],
   "source": [
    "# Regionname has NaN values,\n",
    "# so we'll have to deal with those\n",
    "df_raw = df_raw.dropna(subset=['Type', 'Method', 'Regionname'], axis=0)"
   ]
  },
  {
   "cell_type": "code",
   "execution_count": 13,
   "metadata": {
    "collapsed": true
   },
   "outputs": [],
   "source": [
    "# one-hot encoding\n",
    "# set sparse=False to return an array\n",
    "cat_encoder = OneHotEncoder(sparse=False)\n",
    "df_raw_type_reshaped = df_raw['Type'].values.reshape(-1,1)\n",
    "df_raw_type_1hot = cat_encoder.fit_transform(df_raw_type_reshaped)\n",
    "categories = cat_encoder.categories_\n",
    "df_raw_type_1hot = pd.DataFrame(df_raw_type_1hot, columns=categories)"
   ]
  },
  {
   "cell_type": "code",
   "execution_count": 14,
   "metadata": {},
   "outputs": [
    {
     "data": {
      "text/html": [
       "<div>\n",
       "<style scoped>\n",
       "    .dataframe tbody tr th:only-of-type {\n",
       "        vertical-align: middle;\n",
       "    }\n",
       "\n",
       "    .dataframe tbody tr th {\n",
       "        vertical-align: top;\n",
       "    }\n",
       "\n",
       "    .dataframe thead th {\n",
       "        text-align: right;\n",
       "    }\n",
       "</style>\n",
       "<table border=\"1\" class=\"dataframe\">\n",
       "  <thead>\n",
       "    <tr style=\"text-align: right;\">\n",
       "      <th></th>\n",
       "      <th>Rooms</th>\n",
       "      <th>Type</th>\n",
       "      <th>Price</th>\n",
       "      <th>Method</th>\n",
       "      <th>Date</th>\n",
       "      <th>Distance</th>\n",
       "      <th>Postcode</th>\n",
       "      <th>Bedroom2</th>\n",
       "      <th>Bathroom</th>\n",
       "      <th>Car</th>\n",
       "      <th>...</th>\n",
       "      <th>Lattitude</th>\n",
       "      <th>Longtitude</th>\n",
       "      <th>Regionname</th>\n",
       "      <th>Propertycount</th>\n",
       "      <th>log_Price</th>\n",
       "      <th>high_price</th>\n",
       "      <th>low_price</th>\n",
       "      <th>(h,)</th>\n",
       "      <th>(t,)</th>\n",
       "      <th>(u,)</th>\n",
       "    </tr>\n",
       "  </thead>\n",
       "  <tbody>\n",
       "    <tr>\n",
       "      <th>0</th>\n",
       "      <td>2</td>\n",
       "      <td>h</td>\n",
       "      <td>NaN</td>\n",
       "      <td>SS</td>\n",
       "      <td>3/09/2016</td>\n",
       "      <td>2.5</td>\n",
       "      <td>3067.0</td>\n",
       "      <td>2.0</td>\n",
       "      <td>1.0</td>\n",
       "      <td>1.0</td>\n",
       "      <td>...</td>\n",
       "      <td>-37.8014</td>\n",
       "      <td>144.9958</td>\n",
       "      <td>Northern Metropolitan</td>\n",
       "      <td>4019.0</td>\n",
       "      <td>NaN</td>\n",
       "      <td>0</td>\n",
       "      <td>0</td>\n",
       "      <td>1.0</td>\n",
       "      <td>0.0</td>\n",
       "      <td>0.0</td>\n",
       "    </tr>\n",
       "    <tr>\n",
       "      <th>1</th>\n",
       "      <td>2</td>\n",
       "      <td>h</td>\n",
       "      <td>1480000.0</td>\n",
       "      <td>S</td>\n",
       "      <td>3/12/2016</td>\n",
       "      <td>2.5</td>\n",
       "      <td>3067.0</td>\n",
       "      <td>2.0</td>\n",
       "      <td>1.0</td>\n",
       "      <td>1.0</td>\n",
       "      <td>...</td>\n",
       "      <td>-37.7996</td>\n",
       "      <td>144.9984</td>\n",
       "      <td>Northern Metropolitan</td>\n",
       "      <td>4019.0</td>\n",
       "      <td>14.207553</td>\n",
       "      <td>0</td>\n",
       "      <td>0</td>\n",
       "      <td>1.0</td>\n",
       "      <td>0.0</td>\n",
       "      <td>0.0</td>\n",
       "    </tr>\n",
       "    <tr>\n",
       "      <th>2</th>\n",
       "      <td>2</td>\n",
       "      <td>h</td>\n",
       "      <td>1035000.0</td>\n",
       "      <td>S</td>\n",
       "      <td>4/02/2016</td>\n",
       "      <td>2.5</td>\n",
       "      <td>3067.0</td>\n",
       "      <td>2.0</td>\n",
       "      <td>1.0</td>\n",
       "      <td>0.0</td>\n",
       "      <td>...</td>\n",
       "      <td>-37.8079</td>\n",
       "      <td>144.9934</td>\n",
       "      <td>Northern Metropolitan</td>\n",
       "      <td>4019.0</td>\n",
       "      <td>13.849913</td>\n",
       "      <td>0</td>\n",
       "      <td>0</td>\n",
       "      <td>1.0</td>\n",
       "      <td>0.0</td>\n",
       "      <td>0.0</td>\n",
       "    </tr>\n",
       "    <tr>\n",
       "      <th>3</th>\n",
       "      <td>3</td>\n",
       "      <td>u</td>\n",
       "      <td>NaN</td>\n",
       "      <td>VB</td>\n",
       "      <td>4/02/2016</td>\n",
       "      <td>2.5</td>\n",
       "      <td>3067.0</td>\n",
       "      <td>3.0</td>\n",
       "      <td>2.0</td>\n",
       "      <td>1.0</td>\n",
       "      <td>...</td>\n",
       "      <td>-37.8114</td>\n",
       "      <td>145.0116</td>\n",
       "      <td>Northern Metropolitan</td>\n",
       "      <td>4019.0</td>\n",
       "      <td>NaN</td>\n",
       "      <td>0</td>\n",
       "      <td>0</td>\n",
       "      <td>0.0</td>\n",
       "      <td>0.0</td>\n",
       "      <td>1.0</td>\n",
       "    </tr>\n",
       "    <tr>\n",
       "      <th>4</th>\n",
       "      <td>3</td>\n",
       "      <td>h</td>\n",
       "      <td>1465000.0</td>\n",
       "      <td>SP</td>\n",
       "      <td>4/03/2017</td>\n",
       "      <td>2.5</td>\n",
       "      <td>3067.0</td>\n",
       "      <td>3.0</td>\n",
       "      <td>2.0</td>\n",
       "      <td>0.0</td>\n",
       "      <td>...</td>\n",
       "      <td>-37.8093</td>\n",
       "      <td>144.9944</td>\n",
       "      <td>Northern Metropolitan</td>\n",
       "      <td>4019.0</td>\n",
       "      <td>14.197366</td>\n",
       "      <td>0</td>\n",
       "      <td>0</td>\n",
       "      <td>1.0</td>\n",
       "      <td>0.0</td>\n",
       "      <td>0.0</td>\n",
       "    </tr>\n",
       "  </tbody>\n",
       "</table>\n",
       "<p>5 rows × 23 columns</p>\n",
       "</div>"
      ],
      "text/plain": [
       "   Rooms Type      Price Method       Date  Distance  Postcode  Bedroom2  \\\n",
       "0      2    h        NaN     SS  3/09/2016       2.5    3067.0       2.0   \n",
       "1      2    h  1480000.0      S  3/12/2016       2.5    3067.0       2.0   \n",
       "2      2    h  1035000.0      S  4/02/2016       2.5    3067.0       2.0   \n",
       "3      3    u        NaN     VB  4/02/2016       2.5    3067.0       3.0   \n",
       "4      3    h  1465000.0     SP  4/03/2017       2.5    3067.0       3.0   \n",
       "\n",
       "   Bathroom  Car  ...   Lattitude  Longtitude             Regionname  \\\n",
       "0       1.0  1.0  ...    -37.8014    144.9958  Northern Metropolitan   \n",
       "1       1.0  1.0  ...    -37.7996    144.9984  Northern Metropolitan   \n",
       "2       1.0  0.0  ...    -37.8079    144.9934  Northern Metropolitan   \n",
       "3       2.0  1.0  ...    -37.8114    145.0116  Northern Metropolitan   \n",
       "4       2.0  0.0  ...    -37.8093    144.9944  Northern Metropolitan   \n",
       "\n",
       "   Propertycount  log_Price high_price  low_price  (h,)  (t,)  (u,)  \n",
       "0         4019.0        NaN          0          0   1.0   0.0   0.0  \n",
       "1         4019.0  14.207553          0          0   1.0   0.0   0.0  \n",
       "2         4019.0  13.849913          0          0   1.0   0.0   0.0  \n",
       "3         4019.0        NaN          0          0   0.0   0.0   1.0  \n",
       "4         4019.0  14.197366          0          0   1.0   0.0   0.0  \n",
       "\n",
       "[5 rows x 23 columns]"
      ]
     },
     "execution_count": 14,
     "metadata": {},
     "output_type": "execute_result"
    }
   ],
   "source": [
    "# concat 1hot DataFrame w/ df_na\n",
    "# reset index of df_na and concat\n",
    "df_raw = df_raw.reset_index().drop('index', axis=1)\n",
    "df_raw = pd.concat([df_raw, df_raw_type_1hot], axis=1)\n",
    "df_raw.head()"
   ]
  },
  {
   "cell_type": "code",
   "execution_count": 15,
   "metadata": {},
   "outputs": [
    {
     "data": {
      "text/html": [
       "<div>\n",
       "<style scoped>\n",
       "    .dataframe tbody tr th:only-of-type {\n",
       "        vertical-align: middle;\n",
       "    }\n",
       "\n",
       "    .dataframe tbody tr th {\n",
       "        vertical-align: top;\n",
       "    }\n",
       "\n",
       "    .dataframe thead th {\n",
       "        text-align: right;\n",
       "    }\n",
       "</style>\n",
       "<table border=\"1\" class=\"dataframe\">\n",
       "  <thead>\n",
       "    <tr style=\"text-align: right;\">\n",
       "      <th></th>\n",
       "      <th>Rooms</th>\n",
       "      <th>Type</th>\n",
       "      <th>Price</th>\n",
       "      <th>Method</th>\n",
       "      <th>Date</th>\n",
       "      <th>Distance</th>\n",
       "      <th>Postcode</th>\n",
       "      <th>Bedroom2</th>\n",
       "      <th>Bathroom</th>\n",
       "      <th>Car</th>\n",
       "      <th>...</th>\n",
       "      <th>(u,)</th>\n",
       "      <th>(PI,)</th>\n",
       "      <th>(PN,)</th>\n",
       "      <th>(S,)</th>\n",
       "      <th>(SA,)</th>\n",
       "      <th>(SN,)</th>\n",
       "      <th>(SP,)</th>\n",
       "      <th>(SS,)</th>\n",
       "      <th>(VB,)</th>\n",
       "      <th>(W,)</th>\n",
       "    </tr>\n",
       "  </thead>\n",
       "  <tbody>\n",
       "    <tr>\n",
       "      <th>0</th>\n",
       "      <td>2</td>\n",
       "      <td>h</td>\n",
       "      <td>NaN</td>\n",
       "      <td>SS</td>\n",
       "      <td>3/09/2016</td>\n",
       "      <td>2.5</td>\n",
       "      <td>3067.0</td>\n",
       "      <td>2.0</td>\n",
       "      <td>1.0</td>\n",
       "      <td>1.0</td>\n",
       "      <td>...</td>\n",
       "      <td>0.0</td>\n",
       "      <td>0.0</td>\n",
       "      <td>0.0</td>\n",
       "      <td>0.0</td>\n",
       "      <td>0.0</td>\n",
       "      <td>0.0</td>\n",
       "      <td>0.0</td>\n",
       "      <td>1.0</td>\n",
       "      <td>0.0</td>\n",
       "      <td>0.0</td>\n",
       "    </tr>\n",
       "    <tr>\n",
       "      <th>1</th>\n",
       "      <td>2</td>\n",
       "      <td>h</td>\n",
       "      <td>1480000.0</td>\n",
       "      <td>S</td>\n",
       "      <td>3/12/2016</td>\n",
       "      <td>2.5</td>\n",
       "      <td>3067.0</td>\n",
       "      <td>2.0</td>\n",
       "      <td>1.0</td>\n",
       "      <td>1.0</td>\n",
       "      <td>...</td>\n",
       "      <td>0.0</td>\n",
       "      <td>0.0</td>\n",
       "      <td>0.0</td>\n",
       "      <td>1.0</td>\n",
       "      <td>0.0</td>\n",
       "      <td>0.0</td>\n",
       "      <td>0.0</td>\n",
       "      <td>0.0</td>\n",
       "      <td>0.0</td>\n",
       "      <td>0.0</td>\n",
       "    </tr>\n",
       "    <tr>\n",
       "      <th>2</th>\n",
       "      <td>2</td>\n",
       "      <td>h</td>\n",
       "      <td>1035000.0</td>\n",
       "      <td>S</td>\n",
       "      <td>4/02/2016</td>\n",
       "      <td>2.5</td>\n",
       "      <td>3067.0</td>\n",
       "      <td>2.0</td>\n",
       "      <td>1.0</td>\n",
       "      <td>0.0</td>\n",
       "      <td>...</td>\n",
       "      <td>0.0</td>\n",
       "      <td>0.0</td>\n",
       "      <td>0.0</td>\n",
       "      <td>1.0</td>\n",
       "      <td>0.0</td>\n",
       "      <td>0.0</td>\n",
       "      <td>0.0</td>\n",
       "      <td>0.0</td>\n",
       "      <td>0.0</td>\n",
       "      <td>0.0</td>\n",
       "    </tr>\n",
       "    <tr>\n",
       "      <th>3</th>\n",
       "      <td>3</td>\n",
       "      <td>u</td>\n",
       "      <td>NaN</td>\n",
       "      <td>VB</td>\n",
       "      <td>4/02/2016</td>\n",
       "      <td>2.5</td>\n",
       "      <td>3067.0</td>\n",
       "      <td>3.0</td>\n",
       "      <td>2.0</td>\n",
       "      <td>1.0</td>\n",
       "      <td>...</td>\n",
       "      <td>1.0</td>\n",
       "      <td>0.0</td>\n",
       "      <td>0.0</td>\n",
       "      <td>0.0</td>\n",
       "      <td>0.0</td>\n",
       "      <td>0.0</td>\n",
       "      <td>0.0</td>\n",
       "      <td>0.0</td>\n",
       "      <td>1.0</td>\n",
       "      <td>0.0</td>\n",
       "    </tr>\n",
       "    <tr>\n",
       "      <th>4</th>\n",
       "      <td>3</td>\n",
       "      <td>h</td>\n",
       "      <td>1465000.0</td>\n",
       "      <td>SP</td>\n",
       "      <td>4/03/2017</td>\n",
       "      <td>2.5</td>\n",
       "      <td>3067.0</td>\n",
       "      <td>3.0</td>\n",
       "      <td>2.0</td>\n",
       "      <td>0.0</td>\n",
       "      <td>...</td>\n",
       "      <td>0.0</td>\n",
       "      <td>0.0</td>\n",
       "      <td>0.0</td>\n",
       "      <td>0.0</td>\n",
       "      <td>0.0</td>\n",
       "      <td>0.0</td>\n",
       "      <td>1.0</td>\n",
       "      <td>0.0</td>\n",
       "      <td>0.0</td>\n",
       "      <td>0.0</td>\n",
       "    </tr>\n",
       "  </tbody>\n",
       "</table>\n",
       "<p>5 rows × 32 columns</p>\n",
       "</div>"
      ],
      "text/plain": [
       "   Rooms Type      Price Method       Date  Distance  Postcode  Bedroom2  \\\n",
       "0      2    h        NaN     SS  3/09/2016       2.5    3067.0       2.0   \n",
       "1      2    h  1480000.0      S  3/12/2016       2.5    3067.0       2.0   \n",
       "2      2    h  1035000.0      S  4/02/2016       2.5    3067.0       2.0   \n",
       "3      3    u        NaN     VB  4/02/2016       2.5    3067.0       3.0   \n",
       "4      3    h  1465000.0     SP  4/03/2017       2.5    3067.0       3.0   \n",
       "\n",
       "   Bathroom  Car  ...   (u,)  (PI,)  (PN,)  (S,)  (SA,) (SN,)  (SP,)  (SS,)  \\\n",
       "0       1.0  1.0  ...    0.0    0.0    0.0   0.0    0.0   0.0    0.0    1.0   \n",
       "1       1.0  1.0  ...    0.0    0.0    0.0   1.0    0.0   0.0    0.0    0.0   \n",
       "2       1.0  0.0  ...    0.0    0.0    0.0   1.0    0.0   0.0    0.0    0.0   \n",
       "3       2.0  1.0  ...    1.0    0.0    0.0   0.0    0.0   0.0    0.0    0.0   \n",
       "4       2.0  0.0  ...    0.0    0.0    0.0   0.0    0.0   0.0    1.0    0.0   \n",
       "\n",
       "   (VB,)  (W,)  \n",
       "0    0.0   0.0  \n",
       "1    0.0   0.0  \n",
       "2    0.0   0.0  \n",
       "3    1.0   0.0  \n",
       "4    0.0   0.0  \n",
       "\n",
       "[5 rows x 32 columns]"
      ]
     },
     "execution_count": 15,
     "metadata": {},
     "output_type": "execute_result"
    }
   ],
   "source": [
    "# one-hot encode 'Method' feature\n",
    "df_raw_meth_reshaped = df_raw['Method'].values.reshape(-1,1)\n",
    "df_raw_meth_1hot = cat_encoder.fit_transform(df_raw_meth_reshaped)\n",
    "categories = cat_encoder.categories_\n",
    "df_raw_meth_1hot = pd.DataFrame(df_raw_meth_1hot, columns=categories)\n",
    "\n",
    "# concat 1hot DataFrame w/ df_na\n",
    "df_raw = pd.concat([df_raw, df_raw_meth_1hot], axis=1)\n",
    "df_raw.head()"
   ]
  },
  {
   "cell_type": "code",
   "execution_count": 16,
   "metadata": {
    "scrolled": false
   },
   "outputs": [
    {
     "data": {
      "text/html": [
       "<div>\n",
       "<style scoped>\n",
       "    .dataframe tbody tr th:only-of-type {\n",
       "        vertical-align: middle;\n",
       "    }\n",
       "\n",
       "    .dataframe tbody tr th {\n",
       "        vertical-align: top;\n",
       "    }\n",
       "\n",
       "    .dataframe thead th {\n",
       "        text-align: right;\n",
       "    }\n",
       "</style>\n",
       "<table border=\"1\" class=\"dataframe\">\n",
       "  <thead>\n",
       "    <tr style=\"text-align: right;\">\n",
       "      <th></th>\n",
       "      <th>Rooms</th>\n",
       "      <th>Type</th>\n",
       "      <th>Price</th>\n",
       "      <th>Method</th>\n",
       "      <th>Date</th>\n",
       "      <th>Distance</th>\n",
       "      <th>Postcode</th>\n",
       "      <th>Bedroom2</th>\n",
       "      <th>Bathroom</th>\n",
       "      <th>Car</th>\n",
       "      <th>...</th>\n",
       "      <th>(VB,)</th>\n",
       "      <th>(W,)</th>\n",
       "      <th>(Eastern Metropolitan,)</th>\n",
       "      <th>(Eastern Victoria,)</th>\n",
       "      <th>(Northern Metropolitan,)</th>\n",
       "      <th>(Northern Victoria,)</th>\n",
       "      <th>(South-Eastern Metropolitan,)</th>\n",
       "      <th>(Southern Metropolitan,)</th>\n",
       "      <th>(Western Metropolitan,)</th>\n",
       "      <th>(Western Victoria,)</th>\n",
       "    </tr>\n",
       "  </thead>\n",
       "  <tbody>\n",
       "    <tr>\n",
       "      <th>0</th>\n",
       "      <td>2</td>\n",
       "      <td>h</td>\n",
       "      <td>NaN</td>\n",
       "      <td>SS</td>\n",
       "      <td>3/09/2016</td>\n",
       "      <td>2.5</td>\n",
       "      <td>3067.0</td>\n",
       "      <td>2.0</td>\n",
       "      <td>1.0</td>\n",
       "      <td>1.0</td>\n",
       "      <td>...</td>\n",
       "      <td>0.0</td>\n",
       "      <td>0.0</td>\n",
       "      <td>0.0</td>\n",
       "      <td>0.0</td>\n",
       "      <td>1.0</td>\n",
       "      <td>0.0</td>\n",
       "      <td>0.0</td>\n",
       "      <td>0.0</td>\n",
       "      <td>0.0</td>\n",
       "      <td>0.0</td>\n",
       "    </tr>\n",
       "    <tr>\n",
       "      <th>1</th>\n",
       "      <td>2</td>\n",
       "      <td>h</td>\n",
       "      <td>1480000.0</td>\n",
       "      <td>S</td>\n",
       "      <td>3/12/2016</td>\n",
       "      <td>2.5</td>\n",
       "      <td>3067.0</td>\n",
       "      <td>2.0</td>\n",
       "      <td>1.0</td>\n",
       "      <td>1.0</td>\n",
       "      <td>...</td>\n",
       "      <td>0.0</td>\n",
       "      <td>0.0</td>\n",
       "      <td>0.0</td>\n",
       "      <td>0.0</td>\n",
       "      <td>1.0</td>\n",
       "      <td>0.0</td>\n",
       "      <td>0.0</td>\n",
       "      <td>0.0</td>\n",
       "      <td>0.0</td>\n",
       "      <td>0.0</td>\n",
       "    </tr>\n",
       "    <tr>\n",
       "      <th>2</th>\n",
       "      <td>2</td>\n",
       "      <td>h</td>\n",
       "      <td>1035000.0</td>\n",
       "      <td>S</td>\n",
       "      <td>4/02/2016</td>\n",
       "      <td>2.5</td>\n",
       "      <td>3067.0</td>\n",
       "      <td>2.0</td>\n",
       "      <td>1.0</td>\n",
       "      <td>0.0</td>\n",
       "      <td>...</td>\n",
       "      <td>0.0</td>\n",
       "      <td>0.0</td>\n",
       "      <td>0.0</td>\n",
       "      <td>0.0</td>\n",
       "      <td>1.0</td>\n",
       "      <td>0.0</td>\n",
       "      <td>0.0</td>\n",
       "      <td>0.0</td>\n",
       "      <td>0.0</td>\n",
       "      <td>0.0</td>\n",
       "    </tr>\n",
       "    <tr>\n",
       "      <th>3</th>\n",
       "      <td>3</td>\n",
       "      <td>u</td>\n",
       "      <td>NaN</td>\n",
       "      <td>VB</td>\n",
       "      <td>4/02/2016</td>\n",
       "      <td>2.5</td>\n",
       "      <td>3067.0</td>\n",
       "      <td>3.0</td>\n",
       "      <td>2.0</td>\n",
       "      <td>1.0</td>\n",
       "      <td>...</td>\n",
       "      <td>1.0</td>\n",
       "      <td>0.0</td>\n",
       "      <td>0.0</td>\n",
       "      <td>0.0</td>\n",
       "      <td>1.0</td>\n",
       "      <td>0.0</td>\n",
       "      <td>0.0</td>\n",
       "      <td>0.0</td>\n",
       "      <td>0.0</td>\n",
       "      <td>0.0</td>\n",
       "    </tr>\n",
       "    <tr>\n",
       "      <th>4</th>\n",
       "      <td>3</td>\n",
       "      <td>h</td>\n",
       "      <td>1465000.0</td>\n",
       "      <td>SP</td>\n",
       "      <td>4/03/2017</td>\n",
       "      <td>2.5</td>\n",
       "      <td>3067.0</td>\n",
       "      <td>3.0</td>\n",
       "      <td>2.0</td>\n",
       "      <td>0.0</td>\n",
       "      <td>...</td>\n",
       "      <td>0.0</td>\n",
       "      <td>0.0</td>\n",
       "      <td>0.0</td>\n",
       "      <td>0.0</td>\n",
       "      <td>1.0</td>\n",
       "      <td>0.0</td>\n",
       "      <td>0.0</td>\n",
       "      <td>0.0</td>\n",
       "      <td>0.0</td>\n",
       "      <td>0.0</td>\n",
       "    </tr>\n",
       "  </tbody>\n",
       "</table>\n",
       "<p>5 rows × 40 columns</p>\n",
       "</div>"
      ],
      "text/plain": [
       "   Rooms Type      Price Method       Date  Distance  Postcode  Bedroom2  \\\n",
       "0      2    h        NaN     SS  3/09/2016       2.5    3067.0       2.0   \n",
       "1      2    h  1480000.0      S  3/12/2016       2.5    3067.0       2.0   \n",
       "2      2    h  1035000.0      S  4/02/2016       2.5    3067.0       2.0   \n",
       "3      3    u        NaN     VB  4/02/2016       2.5    3067.0       3.0   \n",
       "4      3    h  1465000.0     SP  4/03/2017       2.5    3067.0       3.0   \n",
       "\n",
       "   Bathroom  Car         ...           (VB,)  (W,)  (Eastern Metropolitan,)  \\\n",
       "0       1.0  1.0         ...             0.0   0.0                      0.0   \n",
       "1       1.0  1.0         ...             0.0   0.0                      0.0   \n",
       "2       1.0  0.0         ...             0.0   0.0                      0.0   \n",
       "3       2.0  1.0         ...             1.0   0.0                      0.0   \n",
       "4       2.0  0.0         ...             0.0   0.0                      0.0   \n",
       "\n",
       "   (Eastern Victoria,)  (Northern Metropolitan,) (Northern Victoria,)  \\\n",
       "0                  0.0                       1.0                  0.0   \n",
       "1                  0.0                       1.0                  0.0   \n",
       "2                  0.0                       1.0                  0.0   \n",
       "3                  0.0                       1.0                  0.0   \n",
       "4                  0.0                       1.0                  0.0   \n",
       "\n",
       "   (South-Eastern Metropolitan,)  (Southern Metropolitan,)  \\\n",
       "0                            0.0                       0.0   \n",
       "1                            0.0                       0.0   \n",
       "2                            0.0                       0.0   \n",
       "3                            0.0                       0.0   \n",
       "4                            0.0                       0.0   \n",
       "\n",
       "   (Western Metropolitan,)  (Western Victoria,)  \n",
       "0                      0.0                  0.0  \n",
       "1                      0.0                  0.0  \n",
       "2                      0.0                  0.0  \n",
       "3                      0.0                  0.0  \n",
       "4                      0.0                  0.0  \n",
       "\n",
       "[5 rows x 40 columns]"
      ]
     },
     "execution_count": 16,
     "metadata": {},
     "output_type": "execute_result"
    }
   ],
   "source": [
    "# one-hot encode 'Regionname' feature\n",
    "df_raw_reg_reshaped = df_raw['Regionname'].values.reshape(-1,1)\n",
    "df_raw_reg_1hot = cat_encoder.fit_transform(df_raw_reg_reshaped)\n",
    "categories = cat_encoder.categories_\n",
    "df_raw_reg_1hot = pd.DataFrame(df_raw_reg_1hot, columns=categories)\n",
    "\n",
    "# concat 1hot DataFrame w/ df_na\n",
    "df_raw = pd.concat([df_raw, df_raw_reg_1hot], axis=1)\n",
    "df_raw.head()"
   ]
  },
  {
   "cell_type": "code",
   "execution_count": 17,
   "metadata": {},
   "outputs": [
    {
     "data": {
      "text/plain": [
       "Rooms                                0\n",
       "Type                                 0\n",
       "Price                             7610\n",
       "Method                               0\n",
       "Date                                 0\n",
       "Distance                             0\n",
       "Postcode                             0\n",
       "Bedroom2                          8214\n",
       "Bathroom                          8223\n",
       "Car                               8725\n",
       "Landsize                         11807\n",
       "BuildingArea                     21112\n",
       "YearBuilt                        19303\n",
       "Lattitude                         7973\n",
       "Longtitude                        7973\n",
       "Regionname                           0\n",
       "Propertycount                        0\n",
       "log_Price                         7610\n",
       "high_price                           0\n",
       "low_price                            0\n",
       "(h,)                                 0\n",
       "(t,)                                 0\n",
       "(u,)                                 0\n",
       "(PI,)                                0\n",
       "(PN,)                                0\n",
       "(S,)                                 0\n",
       "(SA,)                                0\n",
       "(SN,)                                0\n",
       "(SP,)                                0\n",
       "(SS,)                                0\n",
       "(VB,)                                0\n",
       "(W,)                                 0\n",
       "(Eastern Metropolitan,)              0\n",
       "(Eastern Victoria,)                  0\n",
       "(Northern Metropolitan,)             0\n",
       "(Northern Victoria,)                 0\n",
       "(South-Eastern Metropolitan,)        0\n",
       "(Southern Metropolitan,)             0\n",
       "(Western Metropolitan,)              0\n",
       "(Western Victoria,)                  0\n",
       "dtype: int64"
      ]
     },
     "execution_count": 17,
     "metadata": {},
     "output_type": "execute_result"
    }
   ],
   "source": [
    "df_raw.isna().sum()"
   ]
  },
  {
   "cell_type": "markdown",
   "metadata": {},
   "source": [
    "### Fill NaN values"
   ]
  },
  {
   "cell_type": "code",
   "execution_count": 18,
   "metadata": {},
   "outputs": [
    {
     "data": {
      "text/plain": [
       "Rooms                                0\n",
       "Type                                 0\n",
       "Price                                0\n",
       "Method                               0\n",
       "Date                                 0\n",
       "Distance                             0\n",
       "Postcode                             0\n",
       "Bedroom2                          6438\n",
       "Bathroom                          6444\n",
       "Car                               6821\n",
       "Landsize                          9262\n",
       "BuildingArea                     16588\n",
       "YearBuilt                        15160\n",
       "Lattitude                         6251\n",
       "Longtitude                        6251\n",
       "Regionname                           0\n",
       "Propertycount                        0\n",
       "log_Price                            0\n",
       "high_price                           0\n",
       "low_price                            0\n",
       "(h,)                                 0\n",
       "(t,)                                 0\n",
       "(u,)                                 0\n",
       "(PI,)                                0\n",
       "(PN,)                                0\n",
       "(S,)                                 0\n",
       "(SA,)                                0\n",
       "(SN,)                                0\n",
       "(SP,)                                0\n",
       "(SS,)                                0\n",
       "(VB,)                                0\n",
       "(W,)                                 0\n",
       "(Eastern Metropolitan,)              0\n",
       "(Eastern Victoria,)                  0\n",
       "(Northern Metropolitan,)             0\n",
       "(Northern Victoria,)                 0\n",
       "(South-Eastern Metropolitan,)        0\n",
       "(Southern Metropolitan,)             0\n",
       "(Western Metropolitan,)              0\n",
       "(Western Victoria,)                  0\n",
       "dtype: int64"
      ]
     },
     "execution_count": 18,
     "metadata": {},
     "output_type": "execute_result"
    }
   ],
   "source": [
    "# drop NaNs from target column(s)\n",
    "df_na = df_raw.dropna(subset=['Price', 'log_Price'], axis=0)\n",
    "df_na.isna().sum()"
   ]
  },
  {
   "cell_type": "code",
   "execution_count": 19,
   "metadata": {},
   "outputs": [
    {
     "data": {
      "text/plain": [
       "Rooms                                0\n",
       "Price                                0\n",
       "Distance                             0\n",
       "Postcode                             0\n",
       "Bedroom2                          6438\n",
       "Bathroom                          6444\n",
       "Car                               6821\n",
       "Landsize                          9262\n",
       "BuildingArea                     16588\n",
       "YearBuilt                        15160\n",
       "Lattitude                         6251\n",
       "Longtitude                        6251\n",
       "Propertycount                        0\n",
       "log_Price                            0\n",
       "high_price                           0\n",
       "low_price                            0\n",
       "(h,)                                 0\n",
       "(t,)                                 0\n",
       "(u,)                                 0\n",
       "(PI,)                                0\n",
       "(PN,)                                0\n",
       "(S,)                                 0\n",
       "(SA,)                                0\n",
       "(SN,)                                0\n",
       "(SP,)                                0\n",
       "(SS,)                                0\n",
       "(VB,)                                0\n",
       "(W,)                                 0\n",
       "(Eastern Metropolitan,)              0\n",
       "(Eastern Victoria,)                  0\n",
       "(Northern Metropolitan,)             0\n",
       "(Northern Victoria,)                 0\n",
       "(South-Eastern Metropolitan,)        0\n",
       "(Southern Metropolitan,)             0\n",
       "(Western Metropolitan,)              0\n",
       "(Western Victoria,)                  0\n",
       "dtype: int64"
      ]
     },
     "execution_count": 19,
     "metadata": {},
     "output_type": "execute_result"
    }
   ],
   "source": [
    "# find our features with dtype == object\n",
    "objects = []\n",
    "\n",
    "for i in df_raw.columns.values:\n",
    "    if df_raw[i].dtype == 'O':\n",
    "        objects.append(str(i))\n",
    "\n",
    "df_na = df_na.drop(objects, axis=1)\n",
    "\n",
    "df_na.isna().sum()"
   ]
  },
  {
   "cell_type": "code",
   "execution_count": 20,
   "metadata": {},
   "outputs": [
    {
     "data": {
      "text/plain": [
       "Bedroom2         6438\n",
       "Bathroom         6444\n",
       "Car              6821\n",
       "Landsize         9262\n",
       "BuildingArea    16588\n",
       "YearBuilt       15160\n",
       "high_price          0\n",
       "low_price           0\n",
       "dtype: int64"
      ]
     },
     "execution_count": 20,
     "metadata": {},
     "output_type": "execute_result"
    }
   ],
   "source": [
    "# drop regional data\n",
    "cols = ['Bedroom2', 'Bathroom', 'Car',\n",
    "        'Landsize','BuildingArea', 'YearBuilt',\n",
    "        'high_price', 'low_price']\n",
    "df_num = df_na[cols]\n",
    "\n",
    "# check nulls\n",
    "df_num.isna().sum()"
   ]
  },
  {
   "cell_type": "code",
   "execution_count": 21,
   "metadata": {},
   "outputs": [
    {
     "name": "stderr",
     "output_type": "stream",
     "text": [
      "C:\\Users\\Aaron\\AppData\\Local\\Programs\\Python\\Python37\\lib\\site-packages\\pandas\\core\\indexing.py:543: SettingWithCopyWarning: \n",
      "A value is trying to be set on a copy of a slice from a DataFrame.\n",
      "Try using .loc[row_indexer,col_indexer] = value instead\n",
      "\n",
      "See the caveats in the documentation: http://pandas.pydata.org/pandas-docs/stable/indexing.html#indexing-view-versus-copy\n",
      "  self.obj[item] = s\n"
     ]
    },
    {
     "data": {
      "text/plain": [
       "Bedroom2        0\n",
       "Bathroom        0\n",
       "Car             0\n",
       "Landsize        0\n",
       "BuildingArea    0\n",
       "YearBuilt       0\n",
       "high_price      0\n",
       "low_price       0\n",
       "dtype: int64"
      ]
     },
     "execution_count": 21,
     "metadata": {},
     "output_type": "execute_result"
    }
   ],
   "source": [
    "# fill NaN values by median of price category\n",
    "df_num.loc[df_num['high_price']==1] = df_num.loc[\n",
    "    df_num['high_price']==1].apply(lambda x: x.fillna(x.median()),axis=0)\n",
    "df_num.loc[df_num['low_price']==1] = df_num.loc[\n",
    "    df_num['low_price']==1].apply(lambda x: x.fillna(x.median()),axis=0)\n",
    "df_num.loc[df_num['high_price' and 'low_price']==0] = df_num.loc[\n",
    "    df_num['high_price' and 'low_price']==0].apply(lambda x: x.fillna(x.median()),axis=0)\n",
    "\n",
    "df_num.isna().sum()"
   ]
  },
  {
   "cell_type": "code",
   "execution_count": 22,
   "metadata": {
    "scrolled": true
   },
   "outputs": [
    {
     "data": {
      "text/plain": [
       "Rooms                               0\n",
       "Price                               0\n",
       "Distance                            0\n",
       "Postcode                            0\n",
       "Lattitude                        6251\n",
       "Longtitude                       6251\n",
       "Propertycount                       0\n",
       "log_Price                           0\n",
       "(h,)                                0\n",
       "(t,)                                0\n",
       "(u,)                                0\n",
       "(PI,)                               0\n",
       "(PN,)                               0\n",
       "(S,)                                0\n",
       "(SA,)                               0\n",
       "(SN,)                               0\n",
       "(SP,)                               0\n",
       "(SS,)                               0\n",
       "(VB,)                               0\n",
       "(W,)                                0\n",
       "(Eastern Metropolitan,)             0\n",
       "(Eastern Victoria,)                 0\n",
       "(Northern Metropolitan,)            0\n",
       "(Northern Victoria,)                0\n",
       "(South-Eastern Metropolitan,)       0\n",
       "(Southern Metropolitan,)            0\n",
       "(Western Metropolitan,)             0\n",
       "(Western Victoria,)                 0\n",
       "Bedroom2                            0\n",
       "Bathroom                            0\n",
       "Car                                 0\n",
       "Landsize                            0\n",
       "BuildingArea                        0\n",
       "YearBuilt                           0\n",
       "high_price                          0\n",
       "low_price                           0\n",
       "dtype: int64"
      ]
     },
     "execution_count": 22,
     "metadata": {},
     "output_type": "execute_result"
    }
   ],
   "source": [
    "# concat filled NaNs w/ the rest of our data\n",
    "df_na = pd.concat([df_na.drop(cols, axis=1), df_num], axis=1)\n",
    "df_na.head()\n",
    "df_na.isna().sum()"
   ]
  },
  {
   "cell_type": "code",
   "execution_count": 23,
   "metadata": {
    "collapsed": true,
    "scrolled": true
   },
   "outputs": [],
   "source": [
    "# clean up columns from 1hot encoding\n",
    "col_list = ['Rooms', 'Price', 'Distance', 'Postcode', 'Lattitude',\n",
    "            'Longtitude', 'Propertycount', 'log_Price', 'h', 't', 'u',\n",
    "            'PI', 'PN', 'S', 'SA', 'SN', 'SP', 'SS',\n",
    "            'VB', 'W', 'Eastern_Metropolitan', 'Eastern_Victoria',\n",
    "            'Northern_Metropolitan', 'Northern_Victoria',\n",
    "            'South_Eastern_Metropolitan', 'Southern_Metropolitan',\n",
    "            'Western_Metropolitan', 'Western_Victoria', 'Bedroom2',\n",
    "            'Bathroom', 'Car', 'Landsize', 'BuildingArea', 'YearBuilt',\n",
    "            'high_price', 'low_price']\n",
    "df_na.columns = col_list\n"
   ]
  },
  {
   "cell_type": "code",
   "execution_count": 24,
   "metadata": {
    "scrolled": true
   },
   "outputs": [
    {
     "data": {
      "text/plain": [
       "Rooms                         0\n",
       "Price                         0\n",
       "Distance                      0\n",
       "Postcode                      0\n",
       "Lattitude                     0\n",
       "Longtitude                    0\n",
       "Propertycount                 0\n",
       "log_Price                     0\n",
       "h                             0\n",
       "t                             0\n",
       "u                             0\n",
       "PI                            0\n",
       "PN                            0\n",
       "S                             0\n",
       "SA                            0\n",
       "SN                            0\n",
       "SP                            0\n",
       "SS                            0\n",
       "VB                            0\n",
       "W                             0\n",
       "Eastern_Metropolitan          0\n",
       "Eastern_Victoria              0\n",
       "Northern_Metropolitan         0\n",
       "Northern_Victoria             0\n",
       "South_Eastern_Metropolitan    0\n",
       "Southern_Metropolitan         0\n",
       "Western_Metropolitan          0\n",
       "Western_Victoria              0\n",
       "Bedroom2                      0\n",
       "Bathroom                      0\n",
       "Car                           0\n",
       "Landsize                      0\n",
       "BuildingArea                  0\n",
       "YearBuilt                     0\n",
       "high_price                    0\n",
       "low_price                     0\n",
       "dtype: int64"
      ]
     },
     "execution_count": 24,
     "metadata": {},
     "output_type": "execute_result"
    }
   ],
   "source": [
    "reg_cols = ['Eastern_Metropolitan', 'Eastern_Victoria',\n",
    "            'Northern_Metropolitan', 'Northern_Victoria',\n",
    "            'South_Eastern_Metropolitan', 'Southern_Metropolitan',\n",
    "            'Western_Metropolitan', 'Western_Victoria']\n",
    "\n",
    "for i in reg_cols:\n",
    "    df_na.loc[df_na[i]==1] = df_na.loc[\n",
    "        df_na[i]==1].apply(lambda x: x.fillna(x.median()),axis=0)\n",
    "    \n",
    "df_na.isna().sum()"
   ]
  },
  {
   "cell_type": "markdown",
   "metadata": {},
   "source": [
    "Now we've filled the NaN values."
   ]
  },
  {
   "cell_type": "markdown",
   "metadata": {},
   "source": [
    "### Convert to datetime"
   ]
  },
  {
   "cell_type": "code",
   "execution_count": 25,
   "metadata": {
    "scrolled": true
   },
   "outputs": [
    {
     "data": {
      "text/plain": [
       "1   2016-12-03\n",
       "2   2016-02-04\n",
       "4   2017-03-04\n",
       "5   2017-03-04\n",
       "6   2016-06-04\n",
       "Name: Date, dtype: datetime64[ns]"
      ]
     },
     "execution_count": 25,
     "metadata": {},
     "output_type": "execute_result"
    }
   ],
   "source": [
    "# convert Date feature to datetime\n",
    "df_na['Date'] = df_raw['Date']\n",
    "df_na['Date'].head()\n",
    "df_na['Date'] = pd.to_datetime(df_na['Date'], errors='raise', dayfirst=1)\n",
    "df_na['Date'].head()"
   ]
  },
  {
   "cell_type": "code",
   "execution_count": 26,
   "metadata": {
    "collapsed": true
   },
   "outputs": [],
   "source": [
    "# store clean data\n",
    "df_clean = df_na\n",
    "#df_clean.to_csv('assets\\Melbourne_housing_FULL_clean.csv')"
   ]
  },
  {
   "cell_type": "code",
   "execution_count": 27,
   "metadata": {},
   "outputs": [
    {
     "name": "stdout",
     "output_type": "stream",
     "text": [
      "<class 'pandas.core.frame.DataFrame'>\n",
      "Int64Index: 27244 entries, 1 to 34853\n",
      "Data columns (total 37 columns):\n",
      "Rooms                         27244 non-null int64\n",
      "Price                         27244 non-null float64\n",
      "Distance                      27244 non-null float64\n",
      "Postcode                      27244 non-null float64\n",
      "Lattitude                     27244 non-null float64\n",
      "Longtitude                    27244 non-null float64\n",
      "Propertycount                 27244 non-null float64\n",
      "log_Price                     27244 non-null float64\n",
      "h                             27244 non-null float64\n",
      "t                             27244 non-null float64\n",
      "u                             27244 non-null float64\n",
      "PI                            27244 non-null float64\n",
      "PN                            27244 non-null float64\n",
      "S                             27244 non-null float64\n",
      "SA                            27244 non-null float64\n",
      "SN                            27244 non-null float64\n",
      "SP                            27244 non-null float64\n",
      "SS                            27244 non-null float64\n",
      "VB                            27244 non-null float64\n",
      "W                             27244 non-null float64\n",
      "Eastern_Metropolitan          27244 non-null float64\n",
      "Eastern_Victoria              27244 non-null float64\n",
      "Northern_Metropolitan         27244 non-null float64\n",
      "Northern_Victoria             27244 non-null float64\n",
      "South_Eastern_Metropolitan    27244 non-null float64\n",
      "Southern_Metropolitan         27244 non-null float64\n",
      "Western_Metropolitan          27244 non-null float64\n",
      "Western_Victoria              27244 non-null float64\n",
      "Bedroom2                      27244 non-null float64\n",
      "Bathroom                      27244 non-null float64\n",
      "Car                           27244 non-null float64\n",
      "Landsize                      27244 non-null float64\n",
      "BuildingArea                  27244 non-null float64\n",
      "YearBuilt                     27244 non-null float64\n",
      "high_price                    27244 non-null int32\n",
      "low_price                     27244 non-null int32\n",
      "Date                          27244 non-null datetime64[ns]\n",
      "dtypes: datetime64[ns](1), float64(33), int32(2), int64(1)\n",
      "memory usage: 7.7 MB\n"
     ]
    }
   ],
   "source": [
    "# check data\n",
    "df_clean.info()"
   ]
  },
  {
   "cell_type": "markdown",
   "metadata": {},
   "source": [
    "Excellent! Our data is clean, we have no missing values, and our dtypes are correct.\n",
    "Let's check our data for correlation and then it will be ready to model."
   ]
  },
  {
   "cell_type": "markdown",
   "metadata": {},
   "source": [
    "## Feature Selection"
   ]
  },
  {
   "cell_type": "markdown",
   "metadata": {},
   "source": [
    "### Check for correlation.\n",
    "First, let's define our data and target value.\n",
    "Then we can check for correlation and drop any features with over 90% correlation."
   ]
  },
  {
   "cell_type": "code",
   "execution_count": 28,
   "metadata": {},
   "outputs": [
    {
     "data": {
      "image/png": "[encoded data removed]",
      "text/plain": [
       "<Figure size 432x288 with 2 Axes>"
      ]
     },
     "metadata": {
      "needs_background": "light"
     },
     "output_type": "display_data"
    }
   ],
   "source": [
    "# define data and target\n",
    "# drop our target value and derived values\n",
    "# drop datetime as it likely won't help our model\n",
    "drop_list = ['Price', 'log_Price', 'high_price', 'low_price', 'Date']\n",
    "data = df_clean.drop(drop_list, axis=1)\n",
    "target = df_clean['log_Price']\n",
    "\n",
    "# plot a heatmap\n",
    "sns.heatmap(data.corr());"
   ]
  },
  {
   "cell_type": "code",
   "execution_count": 29,
   "metadata": {},
   "outputs": [
    {
     "data": {
      "text/plain": [
       "(27244, 32)"
      ]
     },
     "metadata": {},
     "output_type": "display_data"
    },
    {
     "data": {
      "text/plain": [
       "(27244, 32)"
      ]
     },
     "execution_count": 29,
     "metadata": {},
     "output_type": "execute_result"
    }
   ],
   "source": [
    "# Create correlation matrix\n",
    "corr_matrix = data.corr().abs()\n",
    "\n",
    "# Select upper triangle of correlation matrix\n",
    "upper = corr_matrix.where(np.triu(np.ones(corr_matrix.shape), k=4).astype(np.bool))\n",
    "\n",
    "# Find index of feature columns with correlation greater than 0.90\n",
    "to_drop = [column for column in upper.columns if any(upper[column] > 0.90)]\n",
    "\n",
    "display(data.shape)\n",
    "\n",
    "# Drop correlated features \n",
    "for i in to_drop:\n",
    "    data = data.drop(i, axis=1)\n",
    "\n",
    "data.shape"
   ]
  },
  {
   "cell_type": "markdown",
   "metadata": {},
   "source": [
    "It looks like our features aren't overly correlated.\n",
    "Let's go ahead with modeling."
   ]
  },
  {
   "cell_type": "markdown",
   "metadata": {},
   "source": [
    "## Model Selection"
   ]
  },
  {
   "cell_type": "code",
   "execution_count": 30,
   "metadata": {
    "collapsed": true
   },
   "outputs": [],
   "source": [
    "# define training and test set\n",
    "X_train, X_test, y_train, y_test = train_test_split(\n",
    "    data, target, test_size=0.2, random_state=42)\n",
    "\n",
    "# scale X_train values\n",
    "scaler = StandardScaler()\n",
    "X_train_scaled = scaler.fit_transform(X_train.astype(np.float64))\n",
    "X_test_scaled = scaler.transform(X_test.astype(np.float64))"
   ]
  },
  {
   "cell_type": "markdown",
   "metadata": {},
   "source": [
    "### Linear Regression"
   ]
  },
  {
   "cell_type": "code",
   "execution_count": 31,
   "metadata": {},
   "outputs": [
    {
     "name": "stdout",
     "output_type": "stream",
     "text": [
      "Linear Regression\n",
      "\n",
      "R-squared training set:\n",
      "0.7253244124054998\n",
      "\n",
      "R-squared test set:\n",
      "0.7287006774955719\n"
     ]
    }
   ],
   "source": [
    "# determine which model to use\n",
    "OLS = LinearRegression()\n",
    "OLS.fit(X_train, y_train)\n",
    "y_pred = OLS.predict(X_test)\n",
    "\n",
    "# Display.\n",
    "print('Linear Regression')\n",
    "print('\\nR-squared training set:')\n",
    "print(OLS.score(X_train, y_train))\n",
    "\n",
    "print('\\nR-squared test set:')\n",
    "print(OLS.score(X_test, y_test))"
   ]
  },
  {
   "cell_type": "markdown",
   "metadata": {},
   "source": [
    "### Linear Regression Scaled"
   ]
  },
  {
   "cell_type": "code",
   "execution_count": 32,
   "metadata": {
    "scrolled": true
   },
   "outputs": [
    {
     "name": "stdout",
     "output_type": "stream",
     "text": [
      "Scaled Linear Regression\n",
      "\n",
      "R-squared training set:\n",
      "0.7252896176125594\n",
      "\n",
      "R-squared test set:\n",
      "0.7287869261634629\n"
     ]
    }
   ],
   "source": [
    "# determine which model to use\n",
    "OLS_scaled = LinearRegression()\n",
    "OLS_scaled.fit(X_train_scaled, y_train)\n",
    "y_pred = OLS_scaled.predict(X_test_scaled)\n",
    "\n",
    "# Display.\n",
    "print('Scaled Linear Regression')\n",
    "print('\\nR-squared training set:')\n",
    "print(OLS_scaled.score(X_train_scaled, y_train))\n",
    "\n",
    "print('\\nR-squared test set:')\n",
    "print(OLS_scaled.score(X_test_scaled, y_test))"
   ]
  },
  {
   "cell_type": "markdown",
   "metadata": {},
   "source": [
    "### Random Forest Regression"
   ]
  },
  {
   "cell_type": "code",
   "execution_count": 33,
   "metadata": {},
   "outputs": [
    {
     "name": "stdout",
     "output_type": "stream",
     "text": [
      "Random Forest Regressor\n",
      "\n",
      "R-squared training set:\n",
      "0.9714028491346186\n",
      "\n",
      "R-squared test set:\n",
      "0.8723380703913589\n"
     ]
    }
   ],
   "source": [
    "# determine which model to use\n",
    "RF = RandomForestRegressor(n_estimators=10)\n",
    "RF.fit(X_train, y_train)\n",
    "y_pred = RF.predict(X_test)\n",
    "\n",
    "# Display.\n",
    "print('Random Forest Regressor')\n",
    "print('\\nR-squared training set:')\n",
    "print(RF.score(X_train, y_train))\n",
    "\n",
    "print('\\nR-squared test set:')\n",
    "print(RF.score(X_test, y_test))"
   ]
  },
  {
   "cell_type": "markdown",
   "metadata": {},
   "source": [
    "### Random Forest Regressor Scaled"
   ]
  },
  {
   "cell_type": "code",
   "execution_count": 34,
   "metadata": {},
   "outputs": [
    {
     "name": "stdout",
     "output_type": "stream",
     "text": [
      "Scaled Random Forest Regressor\n",
      "\n",
      "R-squared training set:\n",
      "0.9709659440725604\n",
      "\n",
      "R-squared test set:\n",
      "0.8757639270512025\n"
     ]
    }
   ],
   "source": [
    "# determine which model to use\n",
    "RF_scaled = RandomForestRegressor(n_estimators=10)\n",
    "RF_scaled.fit(X_train_scaled, y_train)\n",
    "y_pred = RF_scaled.predict(X_test_scaled)\n",
    "\n",
    "# Display.\n",
    "print('Scaled Random Forest Regressor')\n",
    "print('\\nR-squared training set:')\n",
    "print(RF_scaled.score(X_train_scaled, y_train))\n",
    "\n",
    "print('\\nR-squared test set:')\n",
    "print(RF_scaled.score(X_test_scaled, y_test))"
   ]
  },
  {
   "cell_type": "markdown",
   "metadata": {},
   "source": [
    "### Ridge Regression"
   ]
  },
  {
   "cell_type": "code",
   "execution_count": 35,
   "metadata": {},
   "outputs": [
    {
     "data": {
      "image/png": "[encoded data removed]",
      "text/plain": [
       "<Figure size 432x288 with 1 Axes>"
      ]
     },
     "metadata": {
      "needs_background": "light"
     },
     "output_type": "display_data"
    }
   ],
   "source": [
    "# define empty list\n",
    "alphas = []\n",
    "train_scores = []\n",
    "test_scores = []\n",
    "\n",
    "#Run the model for many alphas.\n",
    "for lambd in range(1, 50, 2):\n",
    "    ridge = Ridge(alpha=lambd, fit_intercept=False)\n",
    "    ridge.fit(X_train, y_train)\n",
    "    alphas.append(lambd)\n",
    "    train_scores.append(ridge.score(X_train, y_train))\n",
    "    test_scores.append(ridge.score(X_test, y_test))\n",
    "\n",
    "plt.plot(alphas, train_scores, label='Training Data')\n",
    "plt.plot(alphas, test_scores, label='Test Data')\n",
    "plt.title('Ridge Regression')\n",
    "plt.xlabel('Lambda')\n",
    "plt.ylabel('R-Squared')\n",
    "plt.legend()\n",
    "plt.show();"
   ]
  },
  {
   "cell_type": "code",
   "execution_count": 36,
   "metadata": {
    "scrolled": true
   },
   "outputs": [
    {
     "name": "stdout",
     "output_type": "stream",
     "text": [
      "Ridge Regression\n",
      "\n",
      "R-squared training set:\n",
      "0.7253207880765609\n",
      "\n",
      "R-squared test set:\n",
      "0.7286633507225171\n",
      "\n",
      "Ridge regression alpha:\n",
      "1\n"
     ]
    }
   ],
   "source": [
    "# instantiate ridgeCV regression\n",
    "alpha_list = range(1, 50, 2)\n",
    "ridge = RidgeCV(alphas=alpha_list, cv=5)\n",
    "ridge.fit(X_train, y_train)\n",
    "\n",
    "# Display\n",
    "print('Ridge Regression')\n",
    "print('\\nR-squared training set:')\n",
    "print(ridge.score(X_train, y_train))\n",
    "\n",
    "print('\\nR-squared test set:')\n",
    "print(ridge.score(X_test, y_test))\n",
    "\n",
    "print('\\nRidge regression alpha:')\n",
    "print(ridge.alpha_)"
   ]
  },
  {
   "cell_type": "markdown",
   "metadata": {},
   "source": [
    "### Scaled Ridge Regression"
   ]
  },
  {
   "cell_type": "code",
   "execution_count": 37,
   "metadata": {
    "scrolled": true
   },
   "outputs": [
    {
     "name": "stdout",
     "output_type": "stream",
     "text": [
      "Scaled Ridge Regression\n",
      "\n",
      "R-squared training set:\n",
      "0.7253202458474701\n",
      "\n",
      "R-squared test set:\n",
      "0.7286898899737332\n",
      "\n",
      "Ridge regression alpha:\n",
      "49\n"
     ]
    }
   ],
   "source": [
    "# instantiate ridgeCV regression\n",
    "alpha_list = range(1, 50, 2)\n",
    "ridge_scaled = RidgeCV(alphas=alpha_list, cv=5)\n",
    "ridge_scaled.fit(X_train_scaled, y_train)\n",
    "\n",
    "# Display\n",
    "print('Scaled Ridge Regression')\n",
    "print('\\nR-squared training set:')\n",
    "print(ridge_scaled.score(X_train_scaled, y_train))\n",
    "\n",
    "print('\\nR-squared test set:')\n",
    "print(ridge_scaled.score(X_test_scaled, y_test))\n",
    "\n",
    "print('\\nRidge regression alpha:')\n",
    "print(ridge_scaled.alpha_)"
   ]
  },
  {
   "cell_type": "markdown",
   "metadata": {},
   "source": [
    "### Gradient Boosting Regressor"
   ]
  },
  {
   "cell_type": "code",
   "execution_count": 38,
   "metadata": {},
   "outputs": [
    {
     "name": "stdout",
     "output_type": "stream",
     "text": [
      "Gradient Boosting Regressor\n",
      "\n",
      "R-squared training set:\n",
      "0.8477013405566164\n",
      "\n",
      "R-squared test set:\n",
      "0.8472949130154893\n"
     ]
    }
   ],
   "source": [
    "# determine which model to use\n",
    "GBRT = GradientBoostingRegressor(max_depth=2, n_estimators=120)\n",
    "GBRT.fit(X_train, y_train)\n",
    "\n",
    "errors = [mean_squared_error(y_test, y_pred)\n",
    "         for y_pred in GBRT.staged_predict(X_test)]\n",
    "best_n_estimators = np.argmin(errors)\n",
    "\n",
    "GBRT_best = GradientBoostingRegressor(max_depth=2, n_estimators=best_n_estimators)\n",
    "GBRT_best.fit(X_train, y_train)\n",
    "y_pred = GBRT_best.predict(X_test)\n",
    "\n",
    "# Display\n",
    "print('Gradient Boosting Regressor')\n",
    "print('\\nR-squared training set:')\n",
    "print(GBRT_best.score(X_train, y_train))\n",
    "\n",
    "print('\\nR-squared test set:')\n",
    "print(GBRT_best.score(X_test, y_test))"
   ]
  },
  {
   "cell_type": "markdown",
   "metadata": {},
   "source": [
    "### Gradient Boosting Regressor Scaled"
   ]
  },
  {
   "cell_type": "code",
   "execution_count": 39,
   "metadata": {},
   "outputs": [
    {
     "name": "stdout",
     "output_type": "stream",
     "text": [
      "Scaled Gradient Boosting Regressor\n",
      "\n",
      "R-squared training set:\n",
      "0.8477013405566165\n",
      "\n",
      "R-squared test set:\n",
      "0.8472949130154895\n"
     ]
    }
   ],
   "source": [
    "# determine which model to use\n",
    "GBRT_scaled = GradientBoostingRegressor(max_depth=2, n_estimators=120)\n",
    "GBRT_scaled.fit(X_train_scaled, y_train)\n",
    "\n",
    "errors = [mean_squared_error(y_test, y_pred)\n",
    "         for y_pred in GBRT_scaled.staged_predict(X_test_scaled)]\n",
    "best_n_estimators = np.argmin(errors)\n",
    "\n",
    "GBRT_scaled_best = GradientBoostingRegressor(max_depth=2, n_estimators=best_n_estimators)\n",
    "GBRT_scaled_best.fit(X_train_scaled, y_train)\n",
    "y_pred = GBRT_scaled_best.predict(X_test_scaled)\n",
    "\n",
    "# Display\n",
    "print('Scaled Gradient Boosting Regressor')\n",
    "print('\\nR-squared training set:')\n",
    "print(GBRT_scaled_best.score(X_train_scaled, y_train))\n",
    "\n",
    "print('\\nR-squared test set:')\n",
    "print(GBRT_scaled_best.score(X_test_scaled, y_test))"
   ]
  },
  {
   "cell_type": "markdown",
   "metadata": {},
   "source": [
    "## Fine Tune Model"
   ]
  },
  {
   "cell_type": "markdown",
   "metadata": {},
   "source": [
    "### Sample dataset\n",
    "Sample 50% of training data for model optimization."
   ]
  },
  {
   "cell_type": "code",
   "execution_count": 40,
   "metadata": {},
   "outputs": [],
   "source": [
    "# sample training set to speed up parameter optimization\n",
    "X_train_sample, X_test_sample, y_train_sample, y_test_sample = train_test_split(\n",
    "    X_train, y_train, test_size=0.5, random_state=42)"
   ]
  },
  {
   "cell_type": "markdown",
   "metadata": {},
   "source": [
    "### Parameter optimization"
   ]
  },
  {
   "cell_type": "code",
   "execution_count": 41,
   "metadata": {},
   "outputs": [
    {
     "name": "stdout",
     "output_type": "stream",
     "text": [
      "{'learning_rate': [0.01], 'alpha': [0.01, 0.03, 0.05, 0.1, 0.3, 0.9], 'n_estimators': [10, 173, 336, 500], 'max_features': ['auto', 'sqrt'], 'max_depth': [3, 7, 11, 15, None], 'min_samples_split': [2, 3, 4, 5], 'min_samples_leaf': [1, 2, 3, 4]}\n",
      "{'n_estimators': 500, 'min_samples_split': 4, 'min_samples_leaf': 3, 'max_features': 'sqrt', 'max_depth': 11, 'learning_rate': 0.01, 'alpha': 0.05}\n"
     ]
    }
   ],
   "source": [
    "# define our parameter ranges\n",
    "learning_rate=[0.01]\n",
    "alpha=[0.01,0.03,0.05,0.1,0.3, 0.9]\n",
    "n_estimators=[int(x) for x in np.linspace(start = 10, stop = 500, num = 4)]\n",
    "max_depth=[int(x) for x in np.linspace(start = 3, stop = 15, num = 4)]\n",
    "max_depth.append(None)\n",
    "min_samples_split=[int(x) for x in np.linspace(start = 2, stop = 5, num = 4)]\n",
    "min_samples_leaf=[int(x) for x in np.linspace(start = 1, stop = 4, num = 4)]\n",
    "max_features=['auto', 'sqrt']\n",
    "\n",
    "# Create the random grid\n",
    "param_grid = {'learning_rate':learning_rate,\n",
    "              'alpha':alpha,\n",
    "              'n_estimators': n_estimators,\n",
    "              'max_features': max_features,\n",
    "              'max_depth': max_depth,\n",
    "              'min_samples_split': min_samples_split,\n",
    "              'min_samples_leaf': min_samples_leaf,\n",
    "             }\n",
    "\n",
    "print(param_grid)\n",
    "\n",
    "# Initialize and fit the model.\n",
    "model = GradientBoostingRegressor()\n",
    "model = RandomizedSearchCV(model, param_grid, cv=3)\n",
    "model.fit(X_train_sample, y_train_sample)\n",
    "\n",
    "# get the best parameters\n",
    "best_params = model.best_params_\n",
    "print(best_params)"
   ]
  },
  {
   "cell_type": "code",
   "execution_count": 42,
   "metadata": {},
   "outputs": [],
   "source": [
    "# refit model with best parameters\n",
    "model_best = GradientBoostingRegressor(**best_params)\n",
    "model_best.fit(X_train, y_train)\n",
    "y_pred = model_best.predict(X_test)"
   ]
  },
  {
   "cell_type": "code",
   "execution_count": 43,
   "metadata": {},
   "outputs": [
    {
     "data": {
      "image/png": "[encoded data removed]",
      "text/plain": [
       "<Figure size 432x288 with 1 Axes>"
      ]
     },
     "metadata": {
      "needs_background": "light"
     },
     "output_type": "display_data"
    }
   ],
   "source": [
    "feature_importance = model_best.feature_importances_\n",
    "\n",
    "# Make importances relative to max importance.\n",
    "feature_importance = 100.0 * (feature_importance / feature_importance.max())\n",
    "sorted_idx = np.argsort(feature_importance)\n",
    "pos = np.arange(sorted_idx.shape[0]) + 0.5\n",
    "\n",
    "plt.subplot(1,2,2)\n",
    "plt.barh(pos, feature_importance[sorted_idx], align='center')\n",
    "\n",
    "plt.yticks(pos, data.columns.values[sorted_idx])\n",
    "plt.xlabel('Relative Importance')\n",
    "plt.title('Variable Importance')\n",
    "plt.show()"
   ]
  },
  {
   "cell_type": "code",
   "execution_count": 44,
   "metadata": {},
   "outputs": [
    {
     "name": "stdout",
     "output_type": "stream",
     "text": [
      "Optimized Gradient Boosting Regressor\n",
      "\n",
      "R-squared training set:\n",
      "0.9512026880418638\n",
      "\n",
      "Mean absolute error training set: \n",
      "0.08425475481192844\n",
      "\n",
      "Mean squared error training set: \n",
      "0.012981128060353349\n",
      "\n",
      "\n",
      "R-squared test set:\n",
      "0.9005276033730708\n",
      "\n",
      "Mean absolute error test set: \n",
      "0.12290827621871302\n",
      "\n",
      "Mean squared error test set: \n",
      "0.02708120268827605\n"
     ]
    }
   ],
   "source": [
    "# Display.\n",
    "print('Optimized Gradient Boosting Regressor')\n",
    "print('\\nR-squared training set:')\n",
    "print(model_best.score(X_train, y_train))\n",
    "print('\\nMean absolute error training set: ')\n",
    "print(mean_absolute_error(y_train, model_best.predict(X_train)))\n",
    "print('\\nMean squared error training set: ')\n",
    "print(mean_squared_error(y_train, model_best.predict(X_train)))\n",
    "\n",
    "print('\\n\\nR-squared test set:')\n",
    "print(model_best.score(X_test, y_test))\n",
    "print('\\nMean absolute error test set: ')\n",
    "print(mean_absolute_error(y_test, y_pred))\n",
    "print('\\nMean squared error test set: ')\n",
    "print(mean_squared_error(y_test, y_pred))"
   ]
  },
  {
   "cell_type": "code",
   "execution_count": null,
   "metadata": {
    "collapsed": true
   },
   "outputs": [],
   "source": []
  }
 ],
 "metadata": {
  "kernelspec": {
   "display_name": "Python 3",
   "language": "python",
   "name": "python3"
  },
  "language_info": {
   "codemirror_mode": {
    "name": "ipython",
    "version": 3
   },
   "file_extension": ".py",
   "mimetype": "text/x-python",
   "name": "python",
   "nbconvert_exporter": "python",
   "pygments_lexer": "ipython3",
   "version": "3.7.1"
  }
 },
 "nbformat": 4,
 "nbformat_minor": 2
}
