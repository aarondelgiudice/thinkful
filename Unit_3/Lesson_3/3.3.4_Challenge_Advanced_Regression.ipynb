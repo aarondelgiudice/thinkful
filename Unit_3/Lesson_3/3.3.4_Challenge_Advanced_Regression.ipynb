{
 "cells": [
  {
   "cell_type": "markdown",
   "metadata": {},
   "source": [
    "# Challenge: Advanced Regression\n",
    "Unit 3 / Lesson 3 / Project 4\n",
    "\n",
    "Now that you have two new regression methods at your fingertips, it's time to give them a spin.\n",
    "In fact, for this challenge, let's put them together!\n",
    "Pick a dataset of your choice with a binary outcome and the potential for at least 15 features.\n",
    "If you're drawing a blank, the [crime rates in 2013](https://ucr.fbi.gov/crime-in-the-u.s/2013/crime-in-the-u.s.-2013/tables/table-8/table_8_offenses_known_to_law_enforcement_by_state_by_city_2013.xls/view) dataset has a lot of variables that could be made into a modelable binary outcome.\n",
    "\n",
    "Engineer your features, then create three models.\n",
    "Each model will be run on a training set and a test-set (or multiple test-sets, if you take a folds approach).\n",
    "The models should be:\n",
    "- Vanilla logistic regression\n",
    "- Ridge logistic regression\n",
    "- Lasso logistic regression\n",
    "\n",
    "If you're stuck on how to begin combining your two new modeling skills, here's a hint: the [SKlearn LogisticRegression method](https://scikit-learn.org/stable/modules/generated/sklearn.linear_model.LogisticRegression.html) has a \"penalty\" argument that takes either `l1` or `l2` as a value.\n",
    "\n",
    "In your report, evaluate all three models and decide on your best.\n",
    "Be clear about the decisions you made that led to these models (feature selection, regularization parameter selection, model evaluation criteria) and why you think that particular model is the best of the three.\n",
    "Also reflect on the strengths and limitations of regression as a modeling approach.\n",
    "Were there things you couldn't do but you wish you could have done?"
   ]
  },
  {
   "cell_type": "code",
   "execution_count": 1,
   "metadata": {
    "collapsed": true
   },
   "outputs": [],
   "source": [
    "import numpy as np\n",
    "import matplotlib.pyplot as plt\n",
    "%matplotlib inline\n",
    "import pandas as pd\n",
    "import seaborn as sns\n",
    "from sklearn import linear_model\n",
    "from sklearn import preprocessing"
   ]
  },
  {
   "cell_type": "code",
   "execution_count": 2,
   "metadata": {
    "scrolled": true
   },
   "outputs": [
    {
     "data": {
      "text/html": [
       "<div>\n",
       "<style scoped>\n",
       "    .dataframe tbody tr th:only-of-type {\n",
       "        vertical-align: middle;\n",
       "    }\n",
       "\n",
       "    .dataframe tbody tr th {\n",
       "        vertical-align: top;\n",
       "    }\n",
       "\n",
       "    .dataframe thead th {\n",
       "        text-align: right;\n",
       "    }\n",
       "</style>\n",
       "<table border=\"1\" class=\"dataframe\">\n",
       "  <thead>\n",
       "    <tr style=\"text-align: right;\">\n",
       "      <th></th>\n",
       "      <th>city</th>\n",
       "      <th>pop</th>\n",
       "      <th>violent_crime</th>\n",
       "      <th>murder</th>\n",
       "      <th>rape</th>\n",
       "      <th>robbery</th>\n",
       "      <th>assault</th>\n",
       "      <th>property_crime</th>\n",
       "      <th>burglary</th>\n",
       "      <th>larceny</th>\n",
       "      <th>gta</th>\n",
       "      <th>arson</th>\n",
       "    </tr>\n",
       "  </thead>\n",
       "  <tbody>\n",
       "    <tr>\n",
       "      <th>0</th>\n",
       "      <td>Adams Village</td>\n",
       "      <td>1861</td>\n",
       "      <td>0</td>\n",
       "      <td>0</td>\n",
       "      <td>0</td>\n",
       "      <td>0</td>\n",
       "      <td>0</td>\n",
       "      <td>12</td>\n",
       "      <td>2</td>\n",
       "      <td>10</td>\n",
       "      <td>0</td>\n",
       "      <td>0.0</td>\n",
       "    </tr>\n",
       "    <tr>\n",
       "      <th>1</th>\n",
       "      <td>Addison Town and Village</td>\n",
       "      <td>2577</td>\n",
       "      <td>3</td>\n",
       "      <td>0</td>\n",
       "      <td>0</td>\n",
       "      <td>0</td>\n",
       "      <td>3</td>\n",
       "      <td>24</td>\n",
       "      <td>3</td>\n",
       "      <td>20</td>\n",
       "      <td>1</td>\n",
       "      <td>0.0</td>\n",
       "    </tr>\n",
       "    <tr>\n",
       "      <th>2</th>\n",
       "      <td>Akron Village</td>\n",
       "      <td>2846</td>\n",
       "      <td>3</td>\n",
       "      <td>0</td>\n",
       "      <td>0</td>\n",
       "      <td>0</td>\n",
       "      <td>3</td>\n",
       "      <td>16</td>\n",
       "      <td>1</td>\n",
       "      <td>15</td>\n",
       "      <td>0</td>\n",
       "      <td>0.0</td>\n",
       "    </tr>\n",
       "    <tr>\n",
       "      <th>3</th>\n",
       "      <td>Albany</td>\n",
       "      <td>97956</td>\n",
       "      <td>791</td>\n",
       "      <td>8</td>\n",
       "      <td>30</td>\n",
       "      <td>227</td>\n",
       "      <td>526</td>\n",
       "      <td>4090</td>\n",
       "      <td>705</td>\n",
       "      <td>3243</td>\n",
       "      <td>142</td>\n",
       "      <td>NaN</td>\n",
       "    </tr>\n",
       "    <tr>\n",
       "      <th>4</th>\n",
       "      <td>Albion Village</td>\n",
       "      <td>6388</td>\n",
       "      <td>23</td>\n",
       "      <td>0</td>\n",
       "      <td>3</td>\n",
       "      <td>4</td>\n",
       "      <td>16</td>\n",
       "      <td>223</td>\n",
       "      <td>53</td>\n",
       "      <td>165</td>\n",
       "      <td>5</td>\n",
       "      <td>NaN</td>\n",
       "    </tr>\n",
       "  </tbody>\n",
       "</table>\n",
       "</div>"
      ],
      "text/plain": [
       "                       city    pop  violent_crime  murder  rape  robbery  \\\n",
       "0             Adams Village   1861              0       0     0        0   \n",
       "1  Addison Town and Village   2577              3       0     0        0   \n",
       "2             Akron Village   2846              3       0     0        0   \n",
       "3                    Albany  97956            791       8    30      227   \n",
       "4            Albion Village   6388             23       0     3        4   \n",
       "\n",
       "   assault  property_crime  burglary  larceny  gta  arson  \n",
       "0        0              12         2       10    0    0.0  \n",
       "1        3              24         3       20    1    0.0  \n",
       "2        3              16         1       15    0    0.0  \n",
       "3      526            4090       705     3243  142    NaN  \n",
       "4       16             223        53      165    5    NaN  "
      ]
     },
     "execution_count": 2,
     "metadata": {},
     "output_type": "execute_result"
    }
   ],
   "source": [
    "# import data\n",
    "PATH = (\n",
    "    r'C:\\Users\\Aaron\\Thinkful\\Data Bootcamp\\Unit_2_Supervised_Learning\\Lesson_5_Evaluating_Linear_Regression_Models\\assets\\ny_crime_data_2013.xls'\n",
    ")\n",
    "df = pd.read_excel(PATH, header=4, skipfooter=3).drop(\n",
    "    'Rape\\n(revised\\ndefinition)1', axis=1)\n",
    "\n",
    "col_list = ['city', 'pop', 'violent_crime', 'murder', 'rape', 'robbery', 'assault',\n",
    "           'property_crime', 'burglary', 'larceny', 'gta', 'arson']\n",
    "df.columns = col_list\n",
    "df.head()"
   ]
  },
  {
   "cell_type": "markdown",
   "metadata": {},
   "source": [
    "For this project we'll use the FBI property crime data that we've worked with before."
   ]
  },
  {
   "cell_type": "code",
   "execution_count": 3,
   "metadata": {},
   "outputs": [
    {
     "data": {
      "text/html": [
       "<div>\n",
       "<style scoped>\n",
       "    .dataframe tbody tr th:only-of-type {\n",
       "        vertical-align: middle;\n",
       "    }\n",
       "\n",
       "    .dataframe tbody tr th {\n",
       "        vertical-align: top;\n",
       "    }\n",
       "\n",
       "    .dataframe thead th {\n",
       "        text-align: right;\n",
       "    }\n",
       "</style>\n",
       "<table border=\"1\" class=\"dataframe\">\n",
       "  <thead>\n",
       "    <tr style=\"text-align: right;\">\n",
       "      <th></th>\n",
       "      <th>pop</th>\n",
       "      <th>violent_crime</th>\n",
       "      <th>murder</th>\n",
       "      <th>rape</th>\n",
       "      <th>robbery</th>\n",
       "      <th>assault</th>\n",
       "      <th>property_crime</th>\n",
       "      <th>burglary</th>\n",
       "      <th>larceny</th>\n",
       "      <th>gta</th>\n",
       "      <th>arson</th>\n",
       "    </tr>\n",
       "  </thead>\n",
       "  <tbody>\n",
       "    <tr>\n",
       "      <th>0</th>\n",
       "      <td>1861</td>\n",
       "      <td>0</td>\n",
       "      <td>0</td>\n",
       "      <td>0</td>\n",
       "      <td>0</td>\n",
       "      <td>0</td>\n",
       "      <td>12</td>\n",
       "      <td>1</td>\n",
       "      <td>1</td>\n",
       "      <td>0</td>\n",
       "      <td>0</td>\n",
       "    </tr>\n",
       "    <tr>\n",
       "      <th>1</th>\n",
       "      <td>2577</td>\n",
       "      <td>3</td>\n",
       "      <td>0</td>\n",
       "      <td>0</td>\n",
       "      <td>0</td>\n",
       "      <td>1</td>\n",
       "      <td>24</td>\n",
       "      <td>1</td>\n",
       "      <td>1</td>\n",
       "      <td>1</td>\n",
       "      <td>0</td>\n",
       "    </tr>\n",
       "    <tr>\n",
       "      <th>2</th>\n",
       "      <td>2846</td>\n",
       "      <td>3</td>\n",
       "      <td>0</td>\n",
       "      <td>0</td>\n",
       "      <td>0</td>\n",
       "      <td>1</td>\n",
       "      <td>16</td>\n",
       "      <td>1</td>\n",
       "      <td>1</td>\n",
       "      <td>0</td>\n",
       "      <td>0</td>\n",
       "    </tr>\n",
       "    <tr>\n",
       "      <th>3</th>\n",
       "      <td>97956</td>\n",
       "      <td>791</td>\n",
       "      <td>1</td>\n",
       "      <td>1</td>\n",
       "      <td>1</td>\n",
       "      <td>1</td>\n",
       "      <td>4090</td>\n",
       "      <td>1</td>\n",
       "      <td>1</td>\n",
       "      <td>1</td>\n",
       "      <td>0</td>\n",
       "    </tr>\n",
       "    <tr>\n",
       "      <th>4</th>\n",
       "      <td>6388</td>\n",
       "      <td>23</td>\n",
       "      <td>0</td>\n",
       "      <td>1</td>\n",
       "      <td>1</td>\n",
       "      <td>1</td>\n",
       "      <td>223</td>\n",
       "      <td>1</td>\n",
       "      <td>1</td>\n",
       "      <td>1</td>\n",
       "      <td>0</td>\n",
       "    </tr>\n",
       "  </tbody>\n",
       "</table>\n",
       "</div>"
      ],
      "text/plain": [
       "     pop  violent_crime  murder  rape  robbery  assault  property_crime  \\\n",
       "0   1861              0       0     0        0        0              12   \n",
       "1   2577              3       0     0        0        1              24   \n",
       "2   2846              3       0     0        0        1              16   \n",
       "3  97956            791       1     1        1        1            4090   \n",
       "4   6388             23       0     1        1        1             223   \n",
       "\n",
       "   burglary  larceny  gta  arson  \n",
       "0         1        1    0      0  \n",
       "1         1        1    1      0  \n",
       "2         1        1    0      0  \n",
       "3         1        1    1      0  \n",
       "4         1        1    1      0  "
      ]
     },
     "execution_count": 3,
     "metadata": {},
     "output_type": "execute_result"
    }
   ],
   "source": [
    "# isolate numerical data\n",
    "df_features = df.iloc[:,1:]\n",
    "\n",
    "# convert continuous feature data to categorical 0/1\n",
    "for n in ['murder', 'rape', 'robbery', 'assault', 'burglary', 'larceny', 'gta', 'arson']:\n",
    "    df_features[str(n)] = np.where(df_features[str(n)] >= 1, 1, 0)\n",
    "    \n",
    "df_features.head()"
   ]
  },
  {
   "cell_type": "code",
   "execution_count": 4,
   "metadata": {
    "scrolled": true
   },
   "outputs": [
    {
     "data": {
      "text/html": [
       "<div>\n",
       "<style scoped>\n",
       "    .dataframe tbody tr th:only-of-type {\n",
       "        vertical-align: middle;\n",
       "    }\n",
       "\n",
       "    .dataframe tbody tr th {\n",
       "        vertical-align: top;\n",
       "    }\n",
       "\n",
       "    .dataframe thead th {\n",
       "        text-align: right;\n",
       "    }\n",
       "</style>\n",
       "<table border=\"1\" class=\"dataframe\">\n",
       "  <thead>\n",
       "    <tr style=\"text-align: right;\">\n",
       "      <th></th>\n",
       "      <th>pop</th>\n",
       "      <th>violent_crime</th>\n",
       "      <th>murder</th>\n",
       "      <th>rape</th>\n",
       "      <th>robbery</th>\n",
       "      <th>assault</th>\n",
       "      <th>property_crime</th>\n",
       "      <th>burglary</th>\n",
       "      <th>larceny</th>\n",
       "      <th>gta</th>\n",
       "      <th>arson</th>\n",
       "      <th>log_pop</th>\n",
       "      <th>log_pcrime</th>\n",
       "    </tr>\n",
       "  </thead>\n",
       "  <tbody>\n",
       "    <tr>\n",
       "      <th>0</th>\n",
       "      <td>1861</td>\n",
       "      <td>0</td>\n",
       "      <td>0</td>\n",
       "      <td>0</td>\n",
       "      <td>0</td>\n",
       "      <td>0</td>\n",
       "      <td>12</td>\n",
       "      <td>1</td>\n",
       "      <td>1</td>\n",
       "      <td>0</td>\n",
       "      <td>0</td>\n",
       "      <td>7.529406</td>\n",
       "      <td>2.564949</td>\n",
       "    </tr>\n",
       "    <tr>\n",
       "      <th>1</th>\n",
       "      <td>2577</td>\n",
       "      <td>3</td>\n",
       "      <td>0</td>\n",
       "      <td>0</td>\n",
       "      <td>0</td>\n",
       "      <td>1</td>\n",
       "      <td>24</td>\n",
       "      <td>1</td>\n",
       "      <td>1</td>\n",
       "      <td>1</td>\n",
       "      <td>0</td>\n",
       "      <td>7.854769</td>\n",
       "      <td>3.218876</td>\n",
       "    </tr>\n",
       "    <tr>\n",
       "      <th>2</th>\n",
       "      <td>2846</td>\n",
       "      <td>3</td>\n",
       "      <td>0</td>\n",
       "      <td>0</td>\n",
       "      <td>0</td>\n",
       "      <td>1</td>\n",
       "      <td>16</td>\n",
       "      <td>1</td>\n",
       "      <td>1</td>\n",
       "      <td>0</td>\n",
       "      <td>0</td>\n",
       "      <td>7.954021</td>\n",
       "      <td>2.833213</td>\n",
       "    </tr>\n",
       "    <tr>\n",
       "      <th>3</th>\n",
       "      <td>97956</td>\n",
       "      <td>791</td>\n",
       "      <td>1</td>\n",
       "      <td>1</td>\n",
       "      <td>1</td>\n",
       "      <td>1</td>\n",
       "      <td>4090</td>\n",
       "      <td>1</td>\n",
       "      <td>1</td>\n",
       "      <td>1</td>\n",
       "      <td>0</td>\n",
       "      <td>11.492284</td>\n",
       "      <td>8.316545</td>\n",
       "    </tr>\n",
       "    <tr>\n",
       "      <th>4</th>\n",
       "      <td>6388</td>\n",
       "      <td>23</td>\n",
       "      <td>0</td>\n",
       "      <td>1</td>\n",
       "      <td>1</td>\n",
       "      <td>1</td>\n",
       "      <td>223</td>\n",
       "      <td>1</td>\n",
       "      <td>1</td>\n",
       "      <td>1</td>\n",
       "      <td>0</td>\n",
       "      <td>8.762333</td>\n",
       "      <td>5.411646</td>\n",
       "    </tr>\n",
       "  </tbody>\n",
       "</table>\n",
       "</div>"
      ],
      "text/plain": [
       "     pop  violent_crime  murder  rape  robbery  assault  property_crime  \\\n",
       "0   1861              0       0     0        0        0              12   \n",
       "1   2577              3       0     0        0        1              24   \n",
       "2   2846              3       0     0        0        1              16   \n",
       "3  97956            791       1     1        1        1            4090   \n",
       "4   6388             23       0     1        1        1             223   \n",
       "\n",
       "   burglary  larceny  gta  arson    log_pop  log_pcrime  \n",
       "0         1        1    0      0   7.529406    2.564949  \n",
       "1         1        1    1      0   7.854769    3.218876  \n",
       "2         1        1    0      0   7.954021    2.833213  \n",
       "3         1        1    1      0  11.492284    8.316545  \n",
       "4         1        1    1      0   8.762333    5.411646  "
      ]
     },
     "execution_count": 4,
     "metadata": {},
     "output_type": "execute_result"
    }
   ],
   "source": [
    "# perform log transformation on population and property crime features\n",
    "df_features['log_pop'] = np.log1p(df_features['pop']) \n",
    "df_features['log_pcrime'] = np.log1p(df_features['property_crime'])\n",
    "df_features.head()"
   ]
  },
  {
   "cell_type": "markdown",
   "metadata": {},
   "source": [
    "### Linear Regression"
   ]
  },
  {
   "cell_type": "code",
   "execution_count": 5,
   "metadata": {},
   "outputs": [
    {
     "name": "stderr",
     "output_type": "stream",
     "text": [
      "C:\\Users\\Aaron\\AppData\\Local\\Programs\\Python\\Python37\\lib\\site-packages\\ipykernel_launcher.py:3: DataConversionWarning: Data with input dtype int32, int64, float64 were all converted to float64 by the scale function.\n",
      "  This is separate from the ipykernel package so we can avoid doing imports until\n"
     ]
    },
    {
     "data": {
      "text/html": [
       "<div>\n",
       "<style scoped>\n",
       "    .dataframe tbody tr th:only-of-type {\n",
       "        vertical-align: middle;\n",
       "    }\n",
       "\n",
       "    .dataframe tbody tr th {\n",
       "        vertical-align: top;\n",
       "    }\n",
       "\n",
       "    .dataframe thead th {\n",
       "        text-align: right;\n",
       "    }\n",
       "</style>\n",
       "<table border=\"1\" class=\"dataframe\">\n",
       "  <thead>\n",
       "    <tr style=\"text-align: right;\">\n",
       "      <th></th>\n",
       "      <th>pop</th>\n",
       "      <th>violent_crime</th>\n",
       "      <th>murder</th>\n",
       "      <th>rape</th>\n",
       "      <th>robbery</th>\n",
       "      <th>assault</th>\n",
       "      <th>property_crime</th>\n",
       "      <th>burglary</th>\n",
       "      <th>larceny</th>\n",
       "      <th>gta</th>\n",
       "      <th>arson</th>\n",
       "      <th>log_pop</th>\n",
       "      <th>log_pcrime</th>\n",
       "    </tr>\n",
       "  </thead>\n",
       "  <tbody>\n",
       "    <tr>\n",
       "      <th>0</th>\n",
       "      <td>-0.084952</td>\n",
       "      <td>-0.071711</td>\n",
       "      <td>-0.404820</td>\n",
       "      <td>-0.840168</td>\n",
       "      <td>-1.226213</td>\n",
       "      <td>-2.067058</td>\n",
       "      <td>-0.102057</td>\n",
       "      <td>0.253417</td>\n",
       "      <td>0.143275</td>\n",
       "      <td>-1.655879</td>\n",
       "      <td>-0.428571</td>\n",
       "      <td>-1.147551</td>\n",
       "      <td>-1.283651</td>\n",
       "    </tr>\n",
       "    <tr>\n",
       "      <th>1</th>\n",
       "      <td>-0.083359</td>\n",
       "      <td>-0.070644</td>\n",
       "      <td>-0.404820</td>\n",
       "      <td>-0.840168</td>\n",
       "      <td>-1.226213</td>\n",
       "      <td>0.483779</td>\n",
       "      <td>-0.100488</td>\n",
       "      <td>0.253417</td>\n",
       "      <td>0.143275</td>\n",
       "      <td>0.603909</td>\n",
       "      <td>-0.428571</td>\n",
       "      <td>-0.885888</td>\n",
       "      <td>-0.896389</td>\n",
       "    </tr>\n",
       "    <tr>\n",
       "      <th>2</th>\n",
       "      <td>-0.082760</td>\n",
       "      <td>-0.070644</td>\n",
       "      <td>-0.404820</td>\n",
       "      <td>-0.840168</td>\n",
       "      <td>-1.226213</td>\n",
       "      <td>0.483779</td>\n",
       "      <td>-0.101534</td>\n",
       "      <td>0.253417</td>\n",
       "      <td>0.143275</td>\n",
       "      <td>-1.655879</td>\n",
       "      <td>-0.428571</td>\n",
       "      <td>-0.806068</td>\n",
       "      <td>-1.124783</td>\n",
       "    </tr>\n",
       "    <tr>\n",
       "      <th>3</th>\n",
       "      <td>0.128882</td>\n",
       "      <td>0.209662</td>\n",
       "      <td>2.470231</td>\n",
       "      <td>1.190238</td>\n",
       "      <td>0.815519</td>\n",
       "      <td>0.483779</td>\n",
       "      <td>0.431104</td>\n",
       "      <td>0.253417</td>\n",
       "      <td>0.143275</td>\n",
       "      <td>0.603909</td>\n",
       "      <td>-0.428571</td>\n",
       "      <td>2.039466</td>\n",
       "      <td>2.122504</td>\n",
       "    </tr>\n",
       "    <tr>\n",
       "      <th>4</th>\n",
       "      <td>-0.074878</td>\n",
       "      <td>-0.063529</td>\n",
       "      <td>-0.404820</td>\n",
       "      <td>1.190238</td>\n",
       "      <td>0.815519</td>\n",
       "      <td>0.483779</td>\n",
       "      <td>-0.074471</td>\n",
       "      <td>0.253417</td>\n",
       "      <td>0.143275</td>\n",
       "      <td>0.603909</td>\n",
       "      <td>-0.428571</td>\n",
       "      <td>-0.156009</td>\n",
       "      <td>0.402192</td>\n",
       "    </tr>\n",
       "  </tbody>\n",
       "</table>\n",
       "</div>"
      ],
      "text/plain": [
       "        pop  violent_crime    murder      rape   robbery   assault  \\\n",
       "0 -0.084952      -0.071711 -0.404820 -0.840168 -1.226213 -2.067058   \n",
       "1 -0.083359      -0.070644 -0.404820 -0.840168 -1.226213  0.483779   \n",
       "2 -0.082760      -0.070644 -0.404820 -0.840168 -1.226213  0.483779   \n",
       "3  0.128882       0.209662  2.470231  1.190238  0.815519  0.483779   \n",
       "4 -0.074878      -0.063529 -0.404820  1.190238  0.815519  0.483779   \n",
       "\n",
       "   property_crime  burglary   larceny       gta     arson   log_pop  \\\n",
       "0       -0.102057  0.253417  0.143275 -1.655879 -0.428571 -1.147551   \n",
       "1       -0.100488  0.253417  0.143275  0.603909 -0.428571 -0.885888   \n",
       "2       -0.101534  0.253417  0.143275 -1.655879 -0.428571 -0.806068   \n",
       "3        0.431104  0.253417  0.143275  0.603909 -0.428571  2.039466   \n",
       "4       -0.074471  0.253417  0.143275  0.603909 -0.428571 -0.156009   \n",
       "\n",
       "   log_pcrime  \n",
       "0   -1.283651  \n",
       "1   -0.896389  \n",
       "2   -1.124783  \n",
       "3    2.122504  \n",
       "4    0.402192  "
      ]
     },
     "execution_count": 5,
     "metadata": {},
     "output_type": "execute_result"
    }
   ],
   "source": [
    "# scale values\n",
    "names = df_features.columns\n",
    "df_features = pd.DataFrame(preprocessing.scale(df_features), columns=names)\n",
    "\n",
    "df_features.head()"
   ]
  },
  {
   "cell_type": "code",
   "execution_count": 6,
   "metadata": {
    "scrolled": true
   },
   "outputs": [
    {
     "name": "stdout",
     "output_type": "stream",
     "text": [
      "Linear Regression\n",
      "\n",
      "R-squared training set:\n",
      "0.8783434627111149\n",
      "\n",
      "Parameter estimates:\n",
      "[ 0.54125356  0.17796957  0.14884423  0.09044259  0.08986802  0.13486895\n",
      "  0.07711226 -0.01206648]\n",
      "\n",
      "R-squared test set:\n",
      "0.8568911020238614\n"
     ]
    }
   ],
   "source": [
    "# run our updated model for comparison\n",
    "\n",
    "data = df_features[['log_pop', 'robbery', 'rape', 'assault', 'burglary', 'larceny', 'gta']]\n",
    "target = df_features.log_pcrime\n",
    "\n",
    "# define training and test sets\n",
    "from sklearn.model_selection import train_test_split\n",
    "X_train, X_test, y_train, y_test = train_test_split(data, target, test_size=0.2, random_state=20)\n",
    "\n",
    "# instantiate our linear regression model\n",
    "reg = linear_model.LinearRegression()\n",
    "reg.fit(X_train, y_train)\n",
    "\n",
    "# Display.\n",
    "print('Linear Regression')\n",
    "print('\\nR-squared training set:')\n",
    "print(reg.score(X_train, y_train))\n",
    "\n",
    "#Store the parameter estimates.\n",
    "origparams = np.append(reg.coef_, reg.intercept_)\n",
    "print('\\nParameter estimates:')\n",
    "print(origparams)\n",
    "\n",
    "print('\\nR-squared test set:')\n",
    "print(reg.score(X_test, y_test))"
   ]
  },
  {
   "cell_type": "markdown",
   "metadata": {},
   "source": [
    "This is our previous linear regression model we used previously.\n",
    "We can use this model as our \"benchmark\", either are new regression models perform better or worse than this model. One caveat being that our new models will be more complex."
   ]
  },
  {
   "cell_type": "markdown",
   "metadata": {},
   "source": [
    "### Logistic Regression\n",
    "For our Logistic Regression we'll have to set a binary value.\n",
    "In our case, we'll establish a categorical 'high crime' value that is a binary measure of all property crime values more than one standard deviation above the mean."
   ]
  },
  {
   "cell_type": "code",
   "execution_count": 7,
   "metadata": {
    "scrolled": true
   },
   "outputs": [
    {
     "data": {
      "image/png": "[encoded data removed]",
      "text/plain": [
       "<Figure size 432x288 with 1 Axes>"
      ]
     },
     "metadata": {
      "needs_background": "light"
     },
     "output_type": "display_data"
    }
   ],
   "source": [
    "log_pcrime_mean = df_features['log_pcrime'].mean()\n",
    "log_pcrime_std = df_features['log_pcrime'].std()\n",
    "\n",
    "# visualize property crime\n",
    "plt.hist(df_features['log_pcrime']);\n",
    "plt.axvline((log_pcrime_mean+log_pcrime_std), color='k', linestyle='--')\n",
    "plt.axvline((log_pcrime_mean-log_pcrime_std), color='k', linestyle='--')\n",
    "plt.axvline(log_pcrime_mean, color='k', linestyle='-')\n",
    "plt.title(\"log(Property Crime)\")\n",
    "plt.show()"
   ]
  },
  {
   "cell_type": "code",
   "execution_count": 8,
   "metadata": {},
   "outputs": [
    {
     "data": {
      "text/plain": [
       "0    298\n",
       "1     50\n",
       "Name: high_pcrime, dtype: int64"
      ]
     },
     "execution_count": 8,
     "metadata": {},
     "output_type": "execute_result"
    }
   ],
   "source": [
    "# define 'high property crime' feature\n",
    "df_features['high_pcrime'] = np.where(\n",
    "    df_features['log_pcrime'] > (log_pcrime_mean+log_pcrime_std), 1, 0\n",
    ")\n",
    "\n",
    "df_features['high_pcrime'].value_counts()"
   ]
  },
  {
   "cell_type": "code",
   "execution_count": 9,
   "metadata": {
    "scrolled": true
   },
   "outputs": [
    {
     "name": "stdout",
     "output_type": "stream",
     "text": [
      "Logistic Regression\n",
      "\n",
      "R-squared training set:\n",
      "0.9244604316546763\n",
      "\n",
      "Parameter estimates:\n",
      "[ 2.38208167  0.42531497  0.44157979 -0.09343213 -0.41727008 -0.20945788\n",
      "  0.12054771 -3.37178372]\n",
      "\n",
      "R-squared test set:\n",
      "0.9285714285714286\n"
     ]
    },
    {
     "name": "stderr",
     "output_type": "stream",
     "text": [
      "C:\\Users\\Aaron\\AppData\\Local\\Programs\\Python\\Python37\\lib\\site-packages\\sklearn\\linear_model\\logistic.py:433: FutureWarning: Default solver will be changed to 'lbfgs' in 0.22. Specify a solver to silence this warning.\n",
      "  FutureWarning)\n"
     ]
    }
   ],
   "source": [
    "from sklearn.linear_model import LogisticRegression\n",
    "# Declare a logistic regression classifier.\n",
    "lr = LogisticRegression()\n",
    "target = df_features['high_pcrime']\n",
    "data = df_features[['log_pop', 'robbery', 'rape', 'assault', 'burglary', 'larceny', 'gta']]\n",
    "\n",
    "# define training and test sets\n",
    "X_train, X_test, y_train, y_test = train_test_split(data, target, test_size=0.2, random_state=20)\n",
    "\n",
    "# Fit the model.\n",
    "fit = lr.fit(X_train,y_train)\n",
    "\n",
    "# Display.\n",
    "print('Logistic Regression')\n",
    "print('\\nR-squared training set:')\n",
    "print(lr.score(X_train, y_train))\n",
    "\n",
    "#Store the parameter estimates.\n",
    "origparams = np.append(lr.coef_, lr.intercept_)\n",
    "print('\\nParameter estimates:')\n",
    "print(origparams)\n",
    "\n",
    "print('\\nR-squared test set:')\n",
    "print(lr.score(X_test, y_test))"
   ]
  },
  {
   "cell_type": "markdown",
   "metadata": {},
   "source": [
    "It looks like our Logistic Regression performed very well.\n",
    "Our R-Squared values are much higher than our Linear model and consistent across our training and test data."
   ]
  },
  {
   "cell_type": "markdown",
   "metadata": {},
   "source": [
    "### Ridge Regression\n",
    "For our Ridge Regression we'll have to determine the optimal alpha to use.\n",
    "First let's perform our regression with an arbitrary alpha, `3.5`."
   ]
  },
  {
   "cell_type": "code",
   "execution_count": 10,
   "metadata": {},
   "outputs": [
    {
     "name": "stdout",
     "output_type": "stream",
     "text": [
      "Ridge Regression\n",
      "\n",
      "R-squared training set:\n",
      "0.8782725019531828\n",
      "\n",
      "Parameter estimates:\n",
      "[ 0.52920404  0.17939277  0.15153697  0.09176913  0.09122739  0.13339874\n",
      "  0.07984936 -0.01219334]\n",
      "\n",
      "R-squared test set:\n",
      "0.8560425851444073\n",
      "\n",
      "Ridge regression alpha:\n",
      "3.5\n"
     ]
    }
   ],
   "source": [
    "data = df_features[['log_pop', 'robbery', 'rape', 'assault', 'burglary', 'larceny', 'gta']]\n",
    "target = df_features.log_pcrime\n",
    "\n",
    "# define training and test sets\n",
    "X_train, X_test, y_train, y_test = train_test_split(data, target, test_size=0.2, random_state=20)\n",
    "\n",
    "# instantiate ridge regression\n",
    "ridge = linear_model.Ridge(alpha=3.5)\n",
    "ridge.fit(X_train, y_train)\n",
    "\n",
    "# display\n",
    "print('Ridge Regression')\n",
    "print('\\nR-squared training set:')\n",
    "print(ridge.score(X_train, y_train))\n",
    "\n",
    "#Store the parameter estimates.\n",
    "origparams = np.append(ridge.coef_, ridge.intercept_)\n",
    "print('\\nParameter estimates:')\n",
    "print(origparams)\n",
    "\n",
    "print('\\nR-squared test set:')\n",
    "print(ridge.score(X_test, y_test))\n",
    "\n",
    "print('\\nRidge regression alpha:')\n",
    "print(3.5)"
   ]
  },
  {
   "cell_type": "markdown",
   "metadata": {},
   "source": [
    "Let's see how our model performs when we supply a range of alpha values to choose from."
   ]
  },
  {
   "cell_type": "code",
   "execution_count": 11,
   "metadata": {
    "scrolled": true
   },
   "outputs": [
    {
     "data": {
      "image/png": "[encoded data removed]",
      "text/plain": [
       "<Figure size 432x288 with 1 Axes>"
      ]
     },
     "metadata": {
      "needs_background": "light"
     },
     "output_type": "display_data"
    }
   ],
   "source": [
    "data = df_features[['log_pop', 'robbery', 'rape', 'assault', 'burglary', 'larceny', 'gta']]\n",
    "target = df_features.log_pcrime\n",
    "\n",
    "# define training and test sets\n",
    "X_train, X_test, y_train, y_test = train_test_split(data, target, test_size=0.2, random_state=20)\n",
    "\n",
    "# define empty list\n",
    "alphas = []\n",
    "#y_preds = []\n",
    "train_scores = []\n",
    "test_scores = []\n",
    "\n",
    "#Run the model for many alphas.\n",
    "for lambd in range(1, 50, 2):\n",
    "    ridge = linear_model.Ridge(alpha=lambd, fit_intercept=False)\n",
    "    ridge.fit(X_train, y_train)\n",
    "    alphas.append(lambd)\n",
    "    #y_pred = ridge.predict(X_test)\n",
    "    #y_preds.append(y_pred)\n",
    "    train_scores.append(ridge.score(X_train, y_train))\n",
    "    test_scores.append(ridge.score(X_test, y_test))\n",
    "    \n",
    "#score_diff = []\n",
    "#for x in train_scores:\n",
    "#    for y in test_scores:\n",
    "#        score_diff.append(x-y)\n",
    "\n",
    "plt.plot(alphas, train_scores, label='Training Data')\n",
    "plt.plot(alphas, test_scores, label='Test Data')\n",
    "plt.title('Ridge Regression')\n",
    "plt.xlabel('Lambda')\n",
    "plt.ylabel('R-Squared')\n",
    "plt.legend()\n",
    "plt.show();"
   ]
  },
  {
   "cell_type": "markdown",
   "metadata": {},
   "source": [
    "In our above chart we can see that as alpha values increase, our model's performance decreases.\n",
    "We'll want to use a lower alpha to optimize our model's performance.\n",
    "\n",
    "Why trust our calculations, though?\n",
    "Let's use sklearn's build in `RidgeCV` regression that cross-validates alpha scores across a supplied range."
   ]
  },
  {
   "cell_type": "code",
   "execution_count": 12,
   "metadata": {},
   "outputs": [
    {
     "name": "stdout",
     "output_type": "stream",
     "text": [
      "Ridge Regression\n",
      "\n",
      "R-squared training set:\n",
      "0.8780756238347124\n",
      "\n",
      "Parameter estimates:\n",
      "[ 0.51794496  0.18062547  0.1539313   0.09302342  0.09245697  0.13199343\n",
      "  0.08237705 -0.01231479]\n",
      "\n",
      "R-squared test set:\n",
      "0.8550409492302948\n",
      "\n",
      "Ridge regression alpha:\n",
      "7\n"
     ]
    }
   ],
   "source": [
    "data = df_features[['log_pop', 'robbery', 'rape', 'assault', 'burglary', 'larceny', 'gta']]\n",
    "target = df_features.log_pcrime\n",
    "\n",
    "# define training and test sets\n",
    "X_train, X_test, y_train, y_test = train_test_split(data, target, test_size=0.2, random_state=20)\n",
    "\n",
    "# instantiate ridgeCV regression\n",
    "alpha_list = range(1, 50, 2)\n",
    "ridge = linear_model.RidgeCV(alphas=alpha_list, cv=5)\n",
    "ridge.fit(X_train, y_train)\n",
    "\n",
    "# Display\n",
    "print('Ridge Regression')\n",
    "print('\\nR-squared training set:')\n",
    "print(ridge.score(X_train, y_train))\n",
    "\n",
    "#Store the parameter estimates.\n",
    "origparams = np.append(ridge.coef_, ridge.intercept_)\n",
    "print('\\nParameter estimates:')\n",
    "print(origparams)\n",
    "\n",
    "print('\\nR-squared test set:')\n",
    "print(ridge.score(X_test, y_test))\n",
    "\n",
    "print('\\nRidge regression alpha:')\n",
    "print(ridge.alpha_)"
   ]
  },
  {
   "cell_type": "markdown",
   "metadata": {},
   "source": [
    "From our supplied range of alpha scores, sklearn used `RidgeCV` to optimize for an alpha of 7.\n",
    "Let's see how our optimal alpha performs with a Lass Regression model."
   ]
  },
  {
   "cell_type": "markdown",
   "metadata": {},
   "source": [
    "### Lasso Regression"
   ]
  },
  {
   "cell_type": "code",
   "execution_count": 13,
   "metadata": {},
   "outputs": [
    {
     "name": "stdout",
     "output_type": "stream",
     "text": [
      "Lasso Regression\n",
      "\n",
      "R-squared training set:\n",
      "0.0\n",
      "\n",
      "Parameter estimates for the model with few features:\n",
      "[ 0.          0.          0.          0.          0.          0.\n",
      "  0.         -0.03727777]\n",
      "\n",
      "R-squared test set:\n",
      "-0.031017259092313454\n"
     ]
    }
   ],
   "source": [
    "data = df_features[['log_pop', 'robbery', 'rape', 'assault', 'burglary', 'larceny', 'gta']]\n",
    "target = df_features.log_pcrime\n",
    "\n",
    "# define training and test sets\n",
    "X_train, X_test, y_train, y_test = train_test_split(data, target, test_size=0.2, random_state=20)\n",
    "\n",
    "# instantiate a lasso regression\n",
    "# set alpha to our alpha optimized from RidgeCV\n",
    "lambd = ridge.alpha_\n",
    "lass = linear_model.Lasso(alpha=lambd)\n",
    "lassfit = lass.fit(X_train, y_train)\n",
    "\n",
    "# Display\n",
    "print('Lasso Regression')\n",
    "print('\\nR-squared training set:')\n",
    "print(lass.score(X_train, y_train))\n",
    "\n",
    "origparams = np.append(lassfit.coef_, lassfit.intercept_)\n",
    "print('\\nParameter estimates for the model with few features:')\n",
    "print(origparams)\n",
    "\n",
    "print('\\nR-squared test set:')\n",
    "print(lass.score(X_test, y_test))"
   ]
  },
  {
   "cell_type": "markdown",
   "metadata": {},
   "source": [
    "That's not very good.\n",
    "Looks like we're going to have to start over and optimize alpha for our Lass Regression.\n",
    "Let's start by supplying a range of alpha values to our model."
   ]
  },
  {
   "cell_type": "code",
   "execution_count": 14,
   "metadata": {},
   "outputs": [
    {
     "name": "stderr",
     "output_type": "stream",
     "text": [
      "C:\\Users\\Aaron\\AppData\\Local\\Programs\\Python\\Python37\\lib\\site-packages\\ipykernel_launcher.py:15: UserWarning: With alpha=0, this algorithm does not converge well. You are advised to use the LinearRegression estimator\n",
      "  from ipykernel import kernelapp as app\n",
      "C:\\Users\\Aaron\\AppData\\Local\\Programs\\Python\\Python37\\lib\\site-packages\\sklearn\\linear_model\\coordinate_descent.py:478: UserWarning: Coordinate descent with no regularization may lead to unexpected results and is discouraged.\n",
      "  positive)\n",
      "C:\\Users\\Aaron\\AppData\\Local\\Programs\\Python\\Python37\\lib\\site-packages\\sklearn\\linear_model\\coordinate_descent.py:492: ConvergenceWarning: Objective did not converge. You might want to increase the number of iterations. Fitting data with very small alpha may cause precision problems.\n",
      "  ConvergenceWarning)\n"
     ]
    },
    {
     "data": {
      "image/png": "[encoded data removed]",
      "text/plain": [
       "<Figure size 432x288 with 1 Axes>"
      ]
     },
     "metadata": {
      "needs_background": "light"
     },
     "output_type": "display_data"
    }
   ],
   "source": [
    "data = df_features[['log_pop', 'robbery', 'rape', 'assault', 'burglary', 'larceny', 'gta']]\n",
    "target = df_features.log_pcrime\n",
    "\n",
    "# define training and test sets\n",
    "X_train, X_test, y_train, y_test = train_test_split(data, target, test_size=0.2, random_state=20)\n",
    "\n",
    "# define empty list\n",
    "alphas = []\n",
    "train_scores = []\n",
    "test_scores = []\n",
    "\n",
    "#Run the model for many alphas.\n",
    "for lambd in range(0, 50, 2):\n",
    "    lass = linear_model.Lasso(alpha=lambd, fit_intercept=False)\n",
    "    lass.fit(X_train, y_train)\n",
    "    alphas.append(lambd)\n",
    "    train_scores.append(lass.score(X_train, y_train))\n",
    "    test_scores.append(lass.score(X_test, y_test))\n",
    "\n",
    "plt.plot(alphas, train_scores, label='Training Data')\n",
    "plt.plot(alphas, test_scores, label='Test Data')\n",
    "plt.title('Lasso Regression')\n",
    "plt.xlabel('Lambda')\n",
    "plt.ylabel('R-Squared')\n",
    "plt.legend()\n",
    "plt.show();"
   ]
  },
  {
   "cell_type": "markdown",
   "metadata": {},
   "source": [
    "In the above chart we can see that model accuracy sharply drops off as alpha values increase.\n",
    "Let's look at our model performance across a lower range of alpha values"
   ]
  },
  {
   "cell_type": "code",
   "execution_count": 15,
   "metadata": {
    "scrolled": true
   },
   "outputs": [
    {
     "data": {
      "image/png": "[encoded data removed]",
      "text/plain": [
       "<Figure size 432x288 with 1 Axes>"
      ]
     },
     "metadata": {
      "needs_background": "light"
     },
     "output_type": "display_data"
    }
   ],
   "source": [
    "data = df_features[['log_pop', 'robbery', 'rape', 'assault', 'burglary', 'larceny', 'gta']]\n",
    "target = df_features.log_pcrime\n",
    "\n",
    "# define training and test sets\n",
    "X_train, X_test, y_train, y_test = train_test_split(data, target, test_size=0.2, random_state=20)\n",
    "\n",
    "# define empty list\n",
    "alphas = []\n",
    "train_scores = []\n",
    "test_scores = []\n",
    "\n",
    "#Run the model for many alphas.\n",
    "for lambd in np.arange(0.1,1,.05):\n",
    "    lass = linear_model.Lasso(alpha=lambd, fit_intercept=False)\n",
    "    lass.fit(X_train, y_train)\n",
    "    alphas.append(lambd)\n",
    "    train_scores.append(lass.score(X_train, y_train))\n",
    "    test_scores.append(lass.score(X_test, y_test))\n",
    "\n",
    "plt.plot(alphas, train_scores, label='Training Data')\n",
    "plt.plot(alphas, test_scores, label='Test Data')\n",
    "plt.title('Lasso Regression')\n",
    "plt.xlabel('Lambda')\n",
    "plt.ylabel('R-Squared')\n",
    "plt.legend()\n",
    "plt.show();"
   ]
  },
  {
   "cell_type": "markdown",
   "metadata": {},
   "source": [
    "Here's a much clearer idea of what our optimal alpha score is for our Lasso Regression.\n",
    "Let's use sklearn's `LassoCV` to find our optimal alpha score."
   ]
  },
  {
   "cell_type": "code",
   "execution_count": 16,
   "metadata": {},
   "outputs": [
    {
     "name": "stdout",
     "output_type": "stream",
     "text": [
      "Lasso Regression\n",
      "\n",
      "R-squared training set:\n",
      "0.8532785352144884\n",
      "\n",
      "Parameter estimates for the model with few features:\n",
      "[ 0.53861483  0.14856265  0.09692641  0.06879028  0.05461579  0.06412585\n",
      "  0.04660119 -0.01367747]\n",
      "\n",
      "R-squared test set:\n",
      "0.827460554867679\n",
      "\n",
      "Lasso regression alpha:\n",
      "0.1\n"
     ]
    }
   ],
   "source": [
    "data = df_features[['log_pop', 'robbery', 'rape', 'assault', 'burglary', 'larceny', 'gta']]\n",
    "target = df_features.log_pcrime\n",
    "\n",
    "# define training and test sets\n",
    "X_train, X_test, y_train, y_test = train_test_split(data, target, test_size=0.2, random_state=20)\n",
    "\n",
    "# instantiate a lasso regression\n",
    "alpha_list = np.arange(0.1,1,.05)\n",
    "lass = linear_model.LassoCV(alphas=alpha_list, cv=5)\n",
    "lassfit = lass.fit(X_train, y_train)\n",
    "\n",
    "# Display\n",
    "print('Lasso Regression')\n",
    "print('\\nR-squared training set:')\n",
    "print(lass.score(X_train, y_train))\n",
    "\n",
    "origparams = np.append(lassfit.coef_, lassfit.intercept_)\n",
    "print('\\nParameter estimates for the model with few features:')\n",
    "print(origparams)\n",
    "\n",
    "print('\\nR-squared test set:')\n",
    "print(lass.score(X_test, y_test))\n",
    "\n",
    "print('\\nLasso regression alpha:')\n",
    "print(lass.alpha_)"
   ]
  },
  {
   "cell_type": "markdown",
   "metadata": {},
   "source": [
    "### Conclusion\n",
    "All of our models performed very well (eventually... ).\n",
    "Each had consistently high $R^2$ values across the training and test data without much evidence of overfitting, with the possible exception of the Logistic Regression model.\n",
    "\n",
    "Our **Logit Regression** had the highest accuracy across all our models (train/test $R^2$ of ~0.924/0.928), but it also had the highest likelihood of correlation.\n",
    "The model was predicting high property crimes, specifically property crime rates one standard deviation above the mean, and the model used features such as violent crimes, grand theft auto, etc. as predictors.\n",
    "\n",
    "There's likely a strong correlation between high feature values and high target values, so the model could simply assume that when a feature was one standard deviation above the mean, property crime was also one standard deviation above the mean.\n",
    "\n",
    "Not a very sophisticated predictive model.\n",
    "\n",
    "Both our **Ridge Regression** and **Lasso Regression** performed similarly.\n",
    "Each had consistently high accuracy and performed just as well as our unregularized **Linear Regression**.\n",
    "Though our Ridge Regression is likely the more robust model if we compare our $\\lambda$ value for each model.\n",
    "\n",
    "Our Ridge Regression had a $\\lambda$ value of 7 while our Lasso Regression had a $\\lambda$ value of 0.1, that's practically zero.\n",
    "This means that our Lasso Regression was practically unregularized.\n",
    "\n",
    "This leaves our Ridge Regression as the our best performing model.\n",
    "It demonstrated consistent accuracy, failed to exhibit overfitting like our Logit Regression, and due to regularization, is a more robust model than our Linear and Lasso Regressions."
   ]
  },
  {
   "cell_type": "code",
   "execution_count": null,
   "metadata": {},
   "outputs": [],
   "source": []
  },
  {
   "cell_type": "code",
   "execution_count": null,
   "metadata": {
    "collapsed": true
   },
   "outputs": [],
   "source": []
  }
 ],
 "metadata": {
  "kernelspec": {
   "display_name": "Python 3",
   "language": "python",
   "name": "python3"
  },
  "language_info": {
   "codemirror_mode": {
    "name": "ipython",
    "version": 3
   },
   "file_extension": ".py",
   "mimetype": "text/x-python",
   "name": "python",
   "nbconvert_exporter": "python",
   "pygments_lexer": "ipython3",
   "version": "3.7.1"
  }
 },
 "nbformat": 4,
 "nbformat_minor": 2
}
