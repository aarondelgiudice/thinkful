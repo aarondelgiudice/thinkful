{
 "cells": [
  {
   "cell_type": "markdown",
   "metadata": {},
   "source": [
    "# Lasso regression\n",
    "Unit 3 / Lesson 3 / Project 3\n",
    "\n",
    "### Regularization parameter: Lasso\n",
    "\n",
    "The $\\lambda$ for lasso can var between 0 (no penalty, acts like OLS) and infinity.\n",
    "If $\\lambda$ is too large, all parameters will be set to zero.  \n",
    "\n",
    "Create a plot below of how $R^2$ varies across different values of $\\lambda$ for ridge and lasso regression.\n",
    "Use logic and code similar to the ridge regression demonstration above, and base your plot on the X_train2 feature set.\n",
    "\n",
    "Do lasso and ridge yield the same $R^2$ for a given lambda value?"
   ]
  },
  {
   "cell_type": "code",
   "execution_count": 1,
   "metadata": {
    "collapsed": true
   },
   "outputs": [],
   "source": [
    "import pandas as pd\n",
    "from matplotlib import pyplot as plt\n",
    "import numpy as np\n",
    "import seaborn as sns\n",
    "import sklearn\n",
    "from sklearn import linear_model\n",
    "from sklearn import preprocessing\n",
    "%matplotlib inline\n",
    "sns.set_style('white')"
   ]
  },
  {
   "cell_type": "code",
   "execution_count": 2,
   "metadata": {},
   "outputs": [
    {
     "name": "stderr",
     "output_type": "stream",
     "text": [
      "C:\\Users\\Aaron\\AppData\\Local\\Programs\\Python\\Python37\\lib\\site-packages\\ipykernel_launcher.py:13: DataConversionWarning: Data with input dtype int32, float64 were all converted to float64 by the scale function.\n",
      "  del sys.path[0]\n"
     ]
    },
    {
     "data": {
      "text/html": [
       "<div>\n",
       "<style scoped>\n",
       "    .dataframe tbody tr th:only-of-type {\n",
       "        vertical-align: middle;\n",
       "    }\n",
       "\n",
       "    .dataframe tbody tr th {\n",
       "        vertical-align: top;\n",
       "    }\n",
       "\n",
       "    .dataframe thead th {\n",
       "        text-align: right;\n",
       "    }\n",
       "</style>\n",
       "<table border=\"1\" class=\"dataframe\">\n",
       "  <thead>\n",
       "    <tr style=\"text-align: right;\">\n",
       "      <th></th>\n",
       "      <th>default</th>\n",
       "      <th>student</th>\n",
       "      <th>balance</th>\n",
       "      <th>income</th>\n",
       "    </tr>\n",
       "  </thead>\n",
       "  <tbody>\n",
       "    <tr>\n",
       "      <th>0</th>\n",
       "      <td>-0.185599</td>\n",
       "      <td>-0.645936</td>\n",
       "      <td>-0.218835</td>\n",
       "      <td>0.813187</td>\n",
       "    </tr>\n",
       "    <tr>\n",
       "      <th>1</th>\n",
       "      <td>-0.185599</td>\n",
       "      <td>1.548141</td>\n",
       "      <td>-0.037616</td>\n",
       "      <td>-1.605496</td>\n",
       "    </tr>\n",
       "    <tr>\n",
       "      <th>2</th>\n",
       "      <td>-0.185599</td>\n",
       "      <td>-0.645936</td>\n",
       "      <td>0.492410</td>\n",
       "      <td>-0.131212</td>\n",
       "    </tr>\n",
       "    <tr>\n",
       "      <th>3</th>\n",
       "      <td>-0.185599</td>\n",
       "      <td>-0.645936</td>\n",
       "      <td>-0.632893</td>\n",
       "      <td>0.164031</td>\n",
       "    </tr>\n",
       "    <tr>\n",
       "      <th>4</th>\n",
       "      <td>-0.185599</td>\n",
       "      <td>-0.645936</td>\n",
       "      <td>-0.102791</td>\n",
       "      <td>0.370915</td>\n",
       "    </tr>\n",
       "  </tbody>\n",
       "</table>\n",
       "</div>"
      ],
      "text/plain": [
       "    default   student   balance    income\n",
       "0 -0.185599 -0.645936 -0.218835  0.813187\n",
       "1 -0.185599  1.548141 -0.037616 -1.605496\n",
       "2 -0.185599 -0.645936  0.492410 -0.131212\n",
       "3 -0.185599 -0.645936 -0.632893  0.164031\n",
       "4 -0.185599 -0.645936 -0.102791  0.370915"
      ]
     },
     "execution_count": 2,
     "metadata": {},
     "output_type": "execute_result"
    }
   ],
   "source": [
    "# Load the data again. Keep air quality data, drop the index column\n",
    "# and any missing data columns.\n",
    "PATH = (\n",
    "    'https://tf-assets-prod.s3.amazonaws.com/tf-curric/data-science/credit-card-defaults.csv'\n",
    ")\n",
    "df = pd.read_csv(PATH).iloc[:,1:].dropna()\n",
    "\n",
    "# Recode strings to numeric.\n",
    "df['default'] = np.where(df['default']=='Yes', 1, 0)\n",
    "df['student'] = np.where(df['student']=='Yes', 1, 0)\n",
    "names = df.columns\n",
    "\n",
    "df = pd.DataFrame(preprocessing.scale(df), columns=names)\n",
    "\n",
    "df.head()"
   ]
  },
  {
   "cell_type": "code",
   "execution_count": 3,
   "metadata": {
    "collapsed": true
   },
   "outputs": [],
   "source": [
    "# Make some new features to capture potential quadratic and cubic\n",
    "# relationships between solar radiation and day or temperature.\n",
    "df['balance_student'] = df['balance'] * df['student']\n",
    "df['balance_default'] = df['balance'] * df['default']\n",
    "df['student_default'] = df['student'] * df['default']\n",
    "df['balance_sqrt'] = (df['balance'] + 100) ** .5\n",
    "df['balance2'] = (df['balance'] + 100) ** 2\n",
    "df['balance3'] = (df['balance'] + 100) ** 3"
   ]
  },
  {
   "cell_type": "code",
   "execution_count": 4,
   "metadata": {},
   "outputs": [],
   "source": [
    "data = df.drop('income', axis=1)\n",
    "target = df['income'].values.reshape(-1, 1)\n",
    "\n",
    "# define training and test sets\n",
    "from sklearn.model_selection import train_test_split\n",
    "X_train2, X_test2, y_train, y_test = train_test_split(data, target, test_size=0.2, random_state=20)"
   ]
  },
  {
   "cell_type": "markdown",
   "metadata": {},
   "source": [
    "### Lasso Regression"
   ]
  },
  {
   "cell_type": "code",
   "execution_count": 5,
   "metadata": {
    "scrolled": true
   },
   "outputs": [
    {
     "name": "stdout",
     "output_type": "stream",
     "text": [
      "Lasso Regression\n",
      "\n",
      "R-squared training set:\n",
      "0.4400004133896048\n",
      "\n",
      "Parameter estimates:\n",
      "[ 0.00000000e+00 -3.91644295e-01 -0.00000000e+00 -0.00000000e+00\n",
      "  0.00000000e+00 -0.00000000e+00 -0.00000000e+00 -2.90781412e-04\n",
      " -3.92905742e-07  3.29798096e+00]\n",
      "\n",
      "R-squared test set:\n",
      "0.4523526358116947\n",
      "\n",
      "Lasso regression alpha:\n",
      "0.35\n"
     ]
    }
   ],
   "source": [
    "# Large number of parameters.\n",
    "lassBig = linear_model.Lasso(alpha=0.35)\n",
    "lassBig.fit(X_train2, y_train)\n",
    "\n",
    "# display\n",
    "print('Lasso Regression')\n",
    "print('\\nR-squared training set:')\n",
    "print(lassBig.score(X_train2, y_train))\n",
    "\n",
    "#Store the parameter estimates.\n",
    "origparams = np.append(lassBig.coef_, lassBig.intercept_)\n",
    "print('\\nParameter estimates:')\n",
    "print(origparams)\n",
    "\n",
    "print('\\nR-squared test set:')\n",
    "print(lassBig.score(X_test2, y_test))\n",
    "\n",
    "print('\\nLasso regression alpha:')\n",
    "print(0.35)"
   ]
  },
  {
   "cell_type": "markdown",
   "metadata": {},
   "source": [
    "Our Lasso Regression from the lesson doesn't produce a very accurate model.\n",
    "Let's see how a Ridge Regression performs with the same $\\lambda$ value."
   ]
  },
  {
   "cell_type": "markdown",
   "metadata": {},
   "source": [
    "### Ridge Regression"
   ]
  },
  {
   "cell_type": "code",
   "execution_count": 6,
   "metadata": {
    "scrolled": true
   },
   "outputs": [
    {
     "name": "stdout",
     "output_type": "stream",
     "text": [
      "Ridge Regression\n",
      "\n",
      "R-squared training set:\n",
      "0.566081589857317\n",
      "\n",
      "Parameter estimates:\n",
      "[-1.66229497e-02 -7.52831671e-01  2.38603196e-03 -6.99793441e-03\n",
      "  1.34188235e-02 -4.52119900e-03  2.22737103e-04 -4.82511581e-03\n",
      "  3.20499533e-05  1.61893558e+01]\n",
      "\n",
      "R-squared test set:\n",
      "0.5789894517557608\n",
      "\n",
      "Ridge regression alpha:\n",
      "0.35\n"
     ]
    }
   ],
   "source": [
    "# instantiate ridge regression\n",
    "ridge = linear_model.Ridge(alpha=0.35)\n",
    "ridge.fit(X_train2, y_train)\n",
    "\n",
    "# display\n",
    "print('Ridge Regression')\n",
    "print('\\nR-squared training set:')\n",
    "print(ridge.score(X_train2, y_train))\n",
    "\n",
    "#Store the parameter estimates.\n",
    "origparams = np.append(ridge.coef_, ridge.intercept_)\n",
    "print('\\nParameter estimates:')\n",
    "print(origparams)\n",
    "\n",
    "print('\\nR-squared test set:')\n",
    "print(ridge.score(X_test2, y_test))\n",
    "\n",
    "print('\\nRidge regression alpha:')\n",
    "print(0.35)"
   ]
  },
  {
   "cell_type": "markdown",
   "metadata": {},
   "source": [
    "Our Ridge Regression doesn't perform much better.\n",
    "Let's see if we can plot our $R^2$ values for a range of $\\lambda$ values.\n",
    "We can use that plot to determine what the optimal $\\lambda$ value is."
   ]
  },
  {
   "cell_type": "markdown",
   "metadata": {},
   "source": [
    "### Plotting Lambda"
   ]
  },
  {
   "cell_type": "code",
   "execution_count": 7,
   "metadata": {},
   "outputs": [
    {
     "data": {
      "image/png": "[encoded data removed]",
      "text/plain": [
       "<Figure size 432x288 with 1 Axes>"
      ]
     },
     "metadata": {
      "needs_background": "light"
     },
     "output_type": "display_data"
    }
   ],
   "source": [
    "# define empty list\n",
    "alphas = []\n",
    "train_scores = []\n",
    "test_scores = []\n",
    "\n",
    "#Run the model for many alphas.\n",
    "for lambd in np.arange(1,10,.5):\n",
    "    ridge = linear_model.Ridge(alpha=lambd, fit_intercept=False)\n",
    "    ridge.fit(X_train2, y_train)\n",
    "    alphas.append(lambd)\n",
    "    train_scores.append(ridge.score(X_train2, y_train))\n",
    "    test_scores.append(ridge.score(X_test2, y_test))\n",
    "\n",
    "plt.plot(alphas, train_scores, label='Training Data')\n",
    "plt.plot(alphas, test_scores, label='Test Data')\n",
    "plt.title('Ridge Regression')\n",
    "plt.xlabel('Lambda')\n",
    "plt.ylabel('R-Squared')\n",
    "plt.legend()\n",
    "plt.show();"
   ]
  },
  {
   "cell_type": "code",
   "execution_count": 8,
   "metadata": {
    "scrolled": true
   },
   "outputs": [
    {
     "name": "stderr",
     "output_type": "stream",
     "text": [
      "C:\\Users\\Aaron\\AppData\\Local\\Programs\\Python\\Python37\\lib\\site-packages\\sklearn\\linear_model\\coordinate_descent.py:492: ConvergenceWarning: Objective did not converge. You might want to increase the number of iterations. Fitting data with very small alpha may cause precision problems.\n",
      "  ConvergenceWarning)\n",
      "C:\\Users\\Aaron\\AppData\\Local\\Programs\\Python\\Python37\\lib\\site-packages\\sklearn\\linear_model\\coordinate_descent.py:492: ConvergenceWarning: Objective did not converge. You might want to increase the number of iterations. Fitting data with very small alpha may cause precision problems.\n",
      "  ConvergenceWarning)\n",
      "C:\\Users\\Aaron\\AppData\\Local\\Programs\\Python\\Python37\\lib\\site-packages\\sklearn\\linear_model\\coordinate_descent.py:492: ConvergenceWarning: Objective did not converge. You might want to increase the number of iterations. Fitting data with very small alpha may cause precision problems.\n",
      "  ConvergenceWarning)\n",
      "C:\\Users\\Aaron\\AppData\\Local\\Programs\\Python\\Python37\\lib\\site-packages\\sklearn\\linear_model\\coordinate_descent.py:492: ConvergenceWarning: Objective did not converge. You might want to increase the number of iterations. Fitting data with very small alpha may cause precision problems.\n",
      "  ConvergenceWarning)\n",
      "C:\\Users\\Aaron\\AppData\\Local\\Programs\\Python\\Python37\\lib\\site-packages\\sklearn\\linear_model\\coordinate_descent.py:492: ConvergenceWarning: Objective did not converge. You might want to increase the number of iterations. Fitting data with very small alpha may cause precision problems.\n",
      "  ConvergenceWarning)\n",
      "C:\\Users\\Aaron\\AppData\\Local\\Programs\\Python\\Python37\\lib\\site-packages\\sklearn\\linear_model\\coordinate_descent.py:492: ConvergenceWarning: Objective did not converge. You might want to increase the number of iterations. Fitting data with very small alpha may cause precision problems.\n",
      "  ConvergenceWarning)\n",
      "C:\\Users\\Aaron\\AppData\\Local\\Programs\\Python\\Python37\\lib\\site-packages\\sklearn\\linear_model\\coordinate_descent.py:492: ConvergenceWarning: Objective did not converge. You might want to increase the number of iterations. Fitting data with very small alpha may cause precision problems.\n",
      "  ConvergenceWarning)\n",
      "C:\\Users\\Aaron\\AppData\\Local\\Programs\\Python\\Python37\\lib\\site-packages\\sklearn\\linear_model\\coordinate_descent.py:492: ConvergenceWarning: Objective did not converge. You might want to increase the number of iterations. Fitting data with very small alpha may cause precision problems.\n",
      "  ConvergenceWarning)\n",
      "C:\\Users\\Aaron\\AppData\\Local\\Programs\\Python\\Python37\\lib\\site-packages\\sklearn\\linear_model\\coordinate_descent.py:492: ConvergenceWarning: Objective did not converge. You might want to increase the number of iterations. Fitting data with very small alpha may cause precision problems.\n",
      "  ConvergenceWarning)\n",
      "C:\\Users\\Aaron\\AppData\\Local\\Programs\\Python\\Python37\\lib\\site-packages\\sklearn\\linear_model\\coordinate_descent.py:492: ConvergenceWarning: Objective did not converge. You might want to increase the number of iterations. Fitting data with very small alpha may cause precision problems.\n",
      "  ConvergenceWarning)\n",
      "C:\\Users\\Aaron\\AppData\\Local\\Programs\\Python\\Python37\\lib\\site-packages\\sklearn\\linear_model\\coordinate_descent.py:492: ConvergenceWarning: Objective did not converge. You might want to increase the number of iterations. Fitting data with very small alpha may cause precision problems.\n",
      "  ConvergenceWarning)\n",
      "C:\\Users\\Aaron\\AppData\\Local\\Programs\\Python\\Python37\\lib\\site-packages\\sklearn\\linear_model\\coordinate_descent.py:492: ConvergenceWarning: Objective did not converge. You might want to increase the number of iterations. Fitting data with very small alpha may cause precision problems.\n",
      "  ConvergenceWarning)\n",
      "C:\\Users\\Aaron\\AppData\\Local\\Programs\\Python\\Python37\\lib\\site-packages\\sklearn\\linear_model\\coordinate_descent.py:492: ConvergenceWarning: Objective did not converge. You might want to increase the number of iterations. Fitting data with very small alpha may cause precision problems.\n",
      "  ConvergenceWarning)\n",
      "C:\\Users\\Aaron\\AppData\\Local\\Programs\\Python\\Python37\\lib\\site-packages\\sklearn\\linear_model\\coordinate_descent.py:492: ConvergenceWarning: Objective did not converge. You might want to increase the number of iterations. Fitting data with very small alpha may cause precision problems.\n",
      "  ConvergenceWarning)\n",
      "C:\\Users\\Aaron\\AppData\\Local\\Programs\\Python\\Python37\\lib\\site-packages\\sklearn\\linear_model\\coordinate_descent.py:492: ConvergenceWarning: Objective did not converge. You might want to increase the number of iterations. Fitting data with very small alpha may cause precision problems.\n",
      "  ConvergenceWarning)\n",
      "C:\\Users\\Aaron\\AppData\\Local\\Programs\\Python\\Python37\\lib\\site-packages\\sklearn\\linear_model\\coordinate_descent.py:492: ConvergenceWarning: Objective did not converge. You might want to increase the number of iterations. Fitting data with very small alpha may cause precision problems.\n",
      "  ConvergenceWarning)\n",
      "C:\\Users\\Aaron\\AppData\\Local\\Programs\\Python\\Python37\\lib\\site-packages\\sklearn\\linear_model\\coordinate_descent.py:492: ConvergenceWarning: Objective did not converge. You might want to increase the number of iterations. Fitting data with very small alpha may cause precision problems.\n",
      "  ConvergenceWarning)\n",
      "C:\\Users\\Aaron\\AppData\\Local\\Programs\\Python\\Python37\\lib\\site-packages\\sklearn\\linear_model\\coordinate_descent.py:492: ConvergenceWarning: Objective did not converge. You might want to increase the number of iterations. Fitting data with very small alpha may cause precision problems.\n",
      "  ConvergenceWarning)\n"
     ]
    },
    {
     "data": {
      "image/png": "[encoded data removed]",
      "text/plain": [
       "<Figure size 432x288 with 1 Axes>"
      ]
     },
     "metadata": {
      "needs_background": "light"
     },
     "output_type": "display_data"
    }
   ],
   "source": [
    "# define empty list\n",
    "alphas = []\n",
    "train_scores = []\n",
    "test_scores = []\n",
    "\n",
    "#Run the model for many alphas.\n",
    "for lambd in np.arange(0.1,1,.05):\n",
    "    lass = linear_model.Lasso(alpha=lambd, fit_intercept=False)\n",
    "    lass.fit(X_train2, y_train)\n",
    "    alphas.append(lambd)\n",
    "    train_scores.append(lass.score(X_train2, y_train))\n",
    "    test_scores.append(lass.score(X_test2, y_test))\n",
    "\n",
    "plt.plot(alphas, train_scores, label='Training Data')\n",
    "plt.plot(alphas, test_scores, label='Test Data')\n",
    "plt.title('Lasso Regression')\n",
    "plt.xlabel('Lambda')\n",
    "plt.ylabel('R-Squared')\n",
    "plt.legend()\n",
    "plt.show();"
   ]
  },
  {
   "cell_type": "markdown",
   "metadata": {},
   "source": [
    "Our plot of $\\lambda$ values wasn't very helpful for our Ridge Regression, but we were able to see a clear range of $R^2$ values for our plot of $\\lambda$ values for our Lasso Regression.\n",
    "\n",
    "Let's see if we can use sklearn's `RidgeCV` and `LassoCV` functions to optimize our $\\lambda$ values across a range."
   ]
  },
  {
   "cell_type": "markdown",
   "metadata": {},
   "source": [
    "### Optimizing Lambda"
   ]
  },
  {
   "cell_type": "code",
   "execution_count": 9,
   "metadata": {},
   "outputs": [
    {
     "name": "stdout",
     "output_type": "stream",
     "text": [
      "Ridge Regression\n",
      "\n",
      "R-squared training set:\n",
      "0.5660813984633055\n",
      "\n",
      "Parameter estimates for the model with few features:\n",
      "[-1.64903052e-02 -7.52412770e-01  1.41928367e-04 -7.07630806e-03\n",
      "  1.33556884e-02 -4.49430430e-03  1.46207767e-05 -4.82160917e-03\n",
      "  3.20985657e-05  1.61077750e+01]\n",
      "\n",
      "R-squared test set:\n",
      "0.5789893221604103\n",
      "\n",
      "Lasso regression alpha:\n",
      "4.5\n"
     ]
    }
   ],
   "source": [
    "# instantiate a RidgeCV regression\n",
    "alpha_list = np.arange(1,10,.5)\n",
    "ridgeCV = linear_model.RidgeCV(alphas=alpha_list, cv=5)\n",
    "ridgeCVfit = ridgeCV.fit(X_train2, y_train)\n",
    "\n",
    "# Display\n",
    "print('Ridge Regression')\n",
    "print('\\nR-squared training set:')\n",
    "print(ridgeCV.score(X_train2, y_train))\n",
    "\n",
    "origparams = np.append(ridgeCVfit.coef_, ridgeCVfit.intercept_)\n",
    "print('\\nParameter estimates for the model with few features:')\n",
    "print(origparams)\n",
    "\n",
    "print('\\nR-squared test set:')\n",
    "print(ridgeCV.score(X_test2, y_test))\n",
    "\n",
    "print('\\nLasso regression alpha:')\n",
    "print(ridgeCV.alpha_)"
   ]
  },
  {
   "cell_type": "code",
   "execution_count": 10,
   "metadata": {},
   "outputs": [
    {
     "name": "stdout",
     "output_type": "stream",
     "text": [
      "Lasso Regression\n",
      "\n",
      "R-squared training set:\n",
      "0.5555356613748204\n",
      "\n",
      "Parameter estimates for the model with few features:\n",
      "[ 0.00000000e+00 -6.50679452e-01 -0.00000000e+00 -0.00000000e+00\n",
      "  0.00000000e+00 -0.00000000e+00 -0.00000000e+00 -8.53425773e-05\n",
      " -5.81508829e-08  9.09573538e-01]\n",
      "\n",
      "R-squared test set:\n",
      "0.5691419853003806\n",
      "\n",
      "Lasso regression alpha:\n",
      "0.1\n"
     ]
    },
    {
     "name": "stderr",
     "output_type": "stream",
     "text": [
      "C:\\Users\\Aaron\\AppData\\Local\\Programs\\Python\\Python37\\lib\\site-packages\\sklearn\\linear_model\\coordinate_descent.py:1109: DataConversionWarning: A column-vector y was passed when a 1d array was expected. Please change the shape of y to (n_samples, ), for example using ravel().\n",
      "  y = column_or_1d(y, warn=True)\n"
     ]
    }
   ],
   "source": [
    "# instantiate a lassoCV regression\n",
    "alpha_list = np.arange(0.1,1,.05)\n",
    "lassCV = linear_model.LassoCV(alphas=alpha_list, cv=5)\n",
    "lassCVfit = lassCV.fit(X_train2, y_train)\n",
    "\n",
    "# Display\n",
    "print('Lasso Regression')\n",
    "print('\\nR-squared training set:')\n",
    "print(lassCV.score(X_train2, y_train))\n",
    "\n",
    "origparams = np.append(lassCVfit.coef_, lassCVfit.intercept_)\n",
    "print('\\nParameter estimates for the model with few features:')\n",
    "print(origparams)\n",
    "\n",
    "print('\\nR-squared test set:')\n",
    "print(lassCV.score(X_test2, y_test))\n",
    "\n",
    "print('\\nLasso regression alpha:')\n",
    "print(lassCV.alpha_)"
   ]
  },
  {
   "cell_type": "markdown",
   "metadata": {},
   "source": [
    "We can use that our Ridge Regression and Lasso Regression have very different optimal $\\lambda$ values."
   ]
  },
  {
   "cell_type": "code",
   "execution_count": null,
   "metadata": {
    "collapsed": true
   },
   "outputs": [],
   "source": []
  }
 ],
 "metadata": {
  "kernelspec": {
   "display_name": "Python 3",
   "language": "python",
   "name": "python3"
  },
  "language_info": {
   "codemirror_mode": {
    "name": "ipython",
    "version": 3
   },
   "file_extension": ".py",
   "mimetype": "text/x-python",
   "name": "python",
   "nbconvert_exporter": "python",
   "pygments_lexer": "ipython3",
   "version": "3.7.1"
  }
 },
 "nbformat": 4,
 "nbformat_minor": 2
}
