{
 "cells": [
  {
   "cell_type": "markdown",
   "metadata": {
    "collapsed": true
   },
   "source": [
    "# ID3 Algorithm\n",
    "Unit 3 / Lesson 2 / Assignment 2\n",
    "\n",
    "So far we've covered decision trees growing with an entropy criterion.\n",
    "In doing so, however, we glossed over how that would actually work.\n",
    "In this assignment we'll give more detail into how an algorithm to do that would practically function.\n",
    "\n",
    "Here we'll cover one popular algorithm for building a decision tree using entropy and information gain: **ID3**."
   ]
  },
  {
   "cell_type": "markdown",
   "metadata": {},
   "source": [
    "### The ID3 Algorithm\n",
    "\n",
    "**ID3** stands for _Iterative Dichotomizer 3_, and is one of the simplest ways to create a decision tree.\n",
    "\n",
    "It can be generalized into more robust scenarios, but the implementation is based on the framework we'll go over here.\n",
    "Essentially ID3 goes through every feature to find the most valuable attribute and then splits based on it.\n",
    "It moves further and further down the tree until it either has a pure class or has met a terminating condition.\n",
    "\n",
    "Before you can start working with ID3, however, there are some requirements for the data in this most basic form.\n",
    "Firstly, outcomes *have to be binary*.\n",
    "The simplest version of ID3 is a binary classifier.\n",
    "The attributes we're using to build the tree also *have to be categorical*.\n",
    "Attributes can have many categories but they must be known and countable.\n",
    "\n",
    "If those two criteria are met then you can build a basic ID3 classifying algorithm.\n",
    "\n",
    "The other thing we'll need for this is our definition of entropy.\n",
    "Recall from the previous assignment that we're going to use Shannon Entropy $H$, defined as:\n",
    "\n",
    "$$ H = -\\sum_{i=1}^n P(x_i)log_2 P(x_i) $$\n",
    "\n",
    "For simplicity of calculation, we're actually going to do a slight transform on this definition.\n",
    "Recall from a (quite possibly long ago) algebra class that you can bring exponentials out to the front of a logarithm.\n",
    "In this case we'll raise the probability to -1, changing the formula to:\n",
    "\n",
    "$$ H = \\sum_{i=1}^n P(x_i)log_2 \\frac{1}{P(x_i)} $$\n",
    "\n",
    "This removes the negative sign up front and will make it easier for us to implement this formula."
   ]
  },
  {
   "cell_type": "markdown",
   "metadata": {},
   "source": [
    "### Calculating Entropy\n",
    "\n",
    "Since this algorithm is based on entropy let's go over a quick example of how to calculate it.\n",
    "\n",
    "Let's say we have 20 students, and we're trying to classify them as male and female.\n",
    "The only attribute we have is whether their height is tall, medium, or short.\n",
    "- Of the 20 students, 12 are boys with and 8 are girls.\n",
    "- Of the 12 boys, 4 are tall, 6 are medium and 2 are short.\n",
    "- Of the 8 girls, 1 is tall, 2 are medium, and 5 are short.\n",
    "\n",
    "What is the entropy, both before any rule is applied and then after applying a rule for being tall?\n",
    "\n",
    "The initial entropy is just the formula plugged in over both the possible classes of interest:\n",
    "\n",
    "$$ H = P(male)*log_2 \\frac{1}{P(male)} + P(female)*log_2 \\frac{1}{P(female} $$\n",
    "\n",
    "\n",
    "$$ = \\frac{12}{20}*log_2 \\frac{20}{12} + \\frac{8}{20}*log_2 \\frac{20}{8} = 0.971 $$\n",
    "\n",
    "What if we apply the rule _height = short_? We need to calculate the weighted average of the two entropies, one for the short students and one for the non-short students.\n",
    "\n",
    "$$ H(sort) = P(male)*log_2 \\frac{1}{P(male)} + P(female)*log_2 \\frac{1}{P(female)} $$\n",
    "\n",
    "$$ = \\frac{2}{7}*log_2 \\frac{7}{2} + \\frac{5}{7}*log_2 \\frac{7}{5} = 0.863 $$\n",
    "\n",
    "$$ H(not\\_short) = P(male)*log_2 \\frac{1}{P(male)} + P(female)*log_2 \\frac{1}{P(female)}$$\n",
    "\n",
    "$$ = \\frac{10}{13}*log_2 \\frac{13}{10} + \\frac{3}{13}*log_2 \\frac{13}{3} = 0.779 $$\n",
    "\n",
    "Note that all the probabilities here are conditional on the criteria we're assuming (short or not short).\n",
    "Now the weighted average of the two is just:\n",
    "\n",
    "$$ P(short) * H(short) + P(not\\_short) * H(not\\_short) = \\frac{7}{20} * 0.863 + \\frac{13}{20} * 0.779 = 0.809 $$\n",
    "\n",
    "So our entropy from this question would go from .971 to .809.\n",
    "That's an improvement.\n",
    "Use the space below to calculate the entropy of the other criteria, for we asked whether the students were tall or medium."
   ]
  },
  {
   "cell_type": "code",
   "execution_count": 2,
   "metadata": {
    "collapsed": true
   },
   "outputs": [],
   "source": [
    "from math import log2\n",
    "\n",
    "# Put your calculations below\n"
   ]
  },
  {
   "cell_type": "code",
   "execution_count": 3,
   "metadata": {
    "collapsed": true
   },
   "outputs": [],
   "source": [
    "# Example solution is below here. Don't peek.\n"
   ]
  },
  {
   "cell_type": "markdown",
   "metadata": {},
   "source": [
    "You should have found entropies of .925 for medium and .928 for tall.\n",
    "Both of those entropies are higher.\n",
    "Now, we've previously said we want to prioritize questions with the most information gain.\n",
    "Which one of these would that be?\n",
    "\n",
    "It would be asking if an individual is short.\n",
    "You should also note that for all possible questions, we're still comparing with the same initial entropy value.\n",
    "So one way of seeing which question has the most information gain is to find the one with the lowest entropy.\n",
    "This should make sense when we think of entropy as uncertainty.\n",
    "The less uncertainty after a question, the more information we gained."
   ]
  },
  {
   "cell_type": "markdown",
   "metadata": {},
   "source": [
    "### Pseudocoding the Algorithm\n",
    "\n",
    "**Pseudocode** is the processes of writing the steps and logic you would implement in code, but in normal language rather than commands a programming language could execute.\n",
    "It can be a useful way to chart out how you want to build an algorithm and is a common topic for technical interviews.\n",
    "Here we'll use pseudocode to explain the ID3 algorithm.\n",
    "\n",
    "Here is reasonable pseudocode for ID3, which we'll then follow up with an explanation of the steps.\n",
    "The outcome for this variable will be A or B. An attribute is denoted a<sub>i</sub>. A value of that attribute is v<sub>i</sub>."
   ]
  },
  {
   "cell_type": "markdown",
   "metadata": {},
   "source": [
    "<pre>\n",
    "Algorithm(Observations, Outcome, Attributes):\n",
    "    Create Root Node.\n",
    "    If all Observations are 'A', label Root Node 'A' and return.\n",
    "    If all Observations are 'B', label Root Node 'B' and return.\n",
    "    If no Attributes return the Root Node labeled with the most common Outcome.\n",
    "    Otherwise, start:\n",
    "        For each Value v<sub>i</sub> of each Attribute a <sub>i</sub>, calculate the Entropy.\n",
    "        The Attribute a<sub>i</sub> and Value v<sub>i</sub> with the lowest Entropy is the best Rule.\n",
    "        The Attribute for this Node is then a<sub>i</sub>\n",
    "            Split the Tree to below based on the Rule a<sub>i</sub> = v<sub>i</sub>\n",
    "            Observations<sub>v<sub>i</sub></sub> is the subset of Observations with Value v<sub>i</sub>\n",
    "            If Observations<sub>v<sub>i</sub></sub> is empty cap with Node labeled with most common Outcome.\n",
    "            Else at the new Node start a subtree.\n",
    "(Observations<sub>v<sub>i</sub></sub>, Target Outcome, Attributes, - {a<sub>i</sub>}) and repeat the algorithm\n",
    "</pre>"
   ]
  },
  {
   "cell_type": "markdown",
   "metadata": {},
   "source": [
    "Now let's walk through this pseudocode algorithm in plain English piece by piece.\n",
    "\n",
    "1. First you create a root node. Simple enough, you have to start with something.\n",
    "\n",
    "2. The next two lines say that if you're already exclusively one class, just label with that class and you're done.\n",
    "\n",
    "3. The following line says that if you don't have any attributes left you're also done, labeling with the most common outcome.\n",
    "\n",
    "    Then we get into the _real_ algorithm.\n",
    "4. First you have to find the best attribute by calculating entropies for all possible values.\n",
    "5. The attribute-value pair with the lowest entropy is then the best attribute and the attribute you give to the node.\n",
    "\n",
    "6. You use that rule to split the node, creating subsets of observations. There are then two new nodes, each with a subset of the observations corresponding to the rule.\n",
    "7. If obsevations are null then label with the dominant outcome.\n",
    "\n",
    "8. Otherwise at each new node start the algorithm again.\n",
    "\n",
    "This is how a decision tree would actually function.\n",
    "Understanding this should give you some insight into how this algorithm works and reveals several attributes of the algorithm.\n",
    "Firstly, the solution is not necessarily optimal.\n",
    "The tree can get stuck in local optima, just like with the gradient descent algorithm.\n",
    "It also has no way to work backwards if it finds itself in an informationless space.\n",
    "You can add criteria to make it stop before the tree has grown to run out of attributes or all leaf nodes are single classes."
   ]
  },
  {
   "cell_type": "code",
   "execution_count": null,
   "metadata": {
    "collapsed": true
   },
   "outputs": [],
   "source": []
  }
 ],
 "metadata": {
  "kernelspec": {
   "display_name": "Python 3",
   "language": "python",
   "name": "python3"
  },
  "language_info": {
   "codemirror_mode": {
    "name": "ipython",
    "version": 3
   },
   "file_extension": ".py",
   "mimetype": "text/x-python",
   "name": "python",
   "nbconvert_exporter": "python",
   "pygments_lexer": "ipython3",
   "version": "3.7.1"
  }
 },
 "nbformat": 4,
 "nbformat_minor": 2
}
