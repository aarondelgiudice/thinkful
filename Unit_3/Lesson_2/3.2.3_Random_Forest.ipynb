{
 "cells": [
  {
   "cell_type": "markdown",
   "metadata": {
    "collapsed": true
   },
   "source": [
    "# Random forest\n",
    "Unit 3 / Lesson 2 / Assignment 3\n",
    "\n",
    "Decision trees are great, and their easily represented set of rules is a powerful feature for modeling and even more so for conveying that model to a more general audience.\n",
    "\n",
    "Though their high variance and propensity to overfit are serious problems.\n",
    "Luckily there is a way we can handle both of those issues and create an even more powerful kind of model."
   ]
  },
  {
   "cell_type": "markdown",
   "metadata": {},
   "source": [
    "### What is a Random Forest?\n",
    "\n",
    "What if instead of making one decision tree you made several.\n",
    "As many as you wanted, really, *a whole forest*.\n",
    "Then each tree in the forest got a vote on the outcome for a given observation.\n",
    "\n",
    "Then you'd have a new model type: **Random Forest**.\n",
    "Random forests have become an incredibly popular technique for data scientists because it tends to be a top performer in a huge number of circumstances, with low variance and high accuracy.\n",
    "\n",
    "Much like Decision Trees, Random Forest can be used for both classification and regression problems.\n",
    "\n",
    "The main difference is how the votes are aggregated.\n",
    "- As a classifier the most popular outcome (the mode) is returned.\n",
    "- As a regression it is typically the average or mean that is returned."
   ]
  },
  {
   "cell_type": "markdown",
   "metadata": {},
   "source": [
    "### Parameters\n",
    "\n",
    "When building a Random Forest you get to set parameters for both the tree and the forest.\n",
    "So for the tree you have the same parameters as before: you can set the depth of the tree and the number of features used in each rule or split.\n",
    "\n",
    "You can also specify how the tree is built, with using information gain and entropy like we did before, or other methods like [Gini impurity](https://www.garysieling.com/blog/sklearn-gini-vs-entropy-criteria).\n",
    "\n",
    "You also get to control the number of estimators you want to generate, or the number of trees in the forest.\n",
    "Here you have a tradeoff between how much variance you can explain and the computational complexity.\n",
    "\n",
    "This is pretty easy to tune.\n",
    "As you increase the number of trees in the forest the accuracy should converge as eventually the additional learning from another tree approaches zero.\n",
    "There isn't an infinite amount of information to learn, and at some point the trees have learned all they can.\n",
    "\n",
    "So when you have acceptable variance in accuracy you can stop adding trees.\n",
    "This becomes worthwhile when you're dealing with large datasets with many variables."
   ]
  },
  {
   "cell_type": "markdown",
   "metadata": {},
   "source": [
    "### Bagging and Random Subspace\n",
    "\n",
    "Now, Random Forest models don't just create a ton of trees using the same data again and again and again.\n",
    "Instead they use bagging and random subspace to generate trees that are different.\n",
    "\n",
    "Without this, the trees could be incredibly similar (even identical), leading to correlation between trees and vulnerability to bias in the trees from some highly predictive features dominating every tree, creating a series of very similar trees with very similar, and potentially biased, predictions.\n",
    "\n",
    "Firstly, Random Forests use **bagging**.\n",
    "Each tree selects a subset of observations with replacement to build the training set.\n",
    "Replacement here means it can simply choose the same observation multiple times, which is only really a problem when there are few observations.\n",
    "It puts the observation \"back in the bag\", if you will, where it can be pulled and chosen again.\n",
    "\n",
    "Random forests also typically use a random subset of features for each split.\n",
    "This means for each time it has to perform a split or generate a rule, it is only looking at the **random subspace** created by a random subset of _some_ of the features as possibilities to generate that rule.\n",
    "This will help avoid the aforementioned correlation problem because the trees will not be built with the same available features at every point.\n",
    "\n",
    "As a general rule, for a dataset with x features\n",
    "$\\sqrt{x}$ features are used for classifiers and $x/3$ for regression."
   ]
  },
  {
   "cell_type": "markdown",
   "metadata": {},
   "source": [
    "### Advantages and Disadvantages of Random Forest\n",
    "\n",
    "The biggest advantage of Random Forest is its tendency to be a very strong performer.\n",
    "It is reasonably accurate in a myriad of situations from regression to classification.\n",
    "Some people [really really love it](https://medium.com/rants-on-machine-learning/the-unreasonable-effectiveness-of-random-forests-f33c3ce28883#.rq8akkff1).\n",
    "However it is not without its disadvantages.\n",
    "\n",
    "Firstly in either classification or regression it will not predict outside of sample, meaning it will only return values that are within a range it has seen before.\n",
    "Random Forests can also get rather large and slow if you let them grow too wildly.\n",
    "\n",
    "The biggest disadvantage, however, is the lack of transparency in the process.\n",
    "Random Forest is often referred to as a \"**black box**\" model, meaning it will give you an output but very little insight into how it got there.\n",
    "You'll run into a few more of these throughout the course.\n",
    "\n",
    "Black box models often make the more statistically minded data scientists nervous as you don't get much insight into the process.\n",
    "You can't see the rules it's really applying or what variables it's prioritizing or how.\n",
    "You don't see any of the internal process or get to look \"inside the box\".\n",
    "Therefore you also can't represent that process in a simple visual form or learn about the underlying process.\n",
    "You have to trust in the algorithm building the trees and the lack of variance from a large number of them being generated.\n",
    "It usually works out pretty well, and you can of course evaluate the model via other methods to validate your conclusions."
   ]
  },
  {
   "cell_type": "markdown",
   "metadata": {
    "collapsed": true
   },
   "source": [
    "### Continued Reading\n",
    "\n",
    "Here’s a [paper](http://lowrank.net/nikos/pubs/empirical.pdf) by Leo Breiman, the inventor of the algorithms describing random forests.\n",
    "\n",
    "Here’s another amazing [paper](https://www.stat.berkeley.edu/~breiman/randomforest2001.pdf) by Rich Caruana et al. evaluating several supervised learning algorithms on many different datasets."
   ]
  },
  {
   "cell_type": "code",
   "execution_count": null,
   "metadata": {
    "collapsed": true
   },
   "outputs": [],
   "source": []
  }
 ],
 "metadata": {
  "kernelspec": {
   "display_name": "Python 3",
   "language": "python",
   "name": "python3"
  },
  "language_info": {
   "codemirror_mode": {
    "name": "ipython",
    "version": 3
   },
   "file_extension": ".py",
   "mimetype": "text/x-python",
   "name": "python",
   "nbconvert_exporter": "python",
   "pygments_lexer": "ipython3",
   "version": "3.7.1"
  }
 },
 "nbformat": 4,
 "nbformat_minor": 2
}
