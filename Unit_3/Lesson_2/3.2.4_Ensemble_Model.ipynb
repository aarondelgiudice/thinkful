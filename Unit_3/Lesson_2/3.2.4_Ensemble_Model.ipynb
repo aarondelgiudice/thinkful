{
 "cells": [
  {
   "cell_type": "markdown",
   "metadata": {
    "collapsed": true
   },
   "source": [
    "# Ensemble Modeling\n",
    "Unit 3 / Lesson 2 / Assignment 4\n",
    "\n",
    "Introducing Random Forests leads us to another, much larger, topic: Ensemble models.\n",
    "\n",
    "Ensemble models are essentially *models made up of other models*.\n",
    "These component models are often models that are simpler than would be necessary to accurately predict the desired outcome on their own.\n",
    "\n",
    "In the case of Random Forest, those sub models are Decision Trees.\n",
    "Random Forest generates many Decision Trees and combines them to generate a single prediction via a voting process."
   ]
  },
  {
   "cell_type": "markdown",
   "metadata": {},
   "source": [
    "### Methods of Ensemble Modeling\n",
    "There are many kinds of ensemble models.\n",
    "In fact, there are infinite kinds of ensemble models because you can combine most kinds of models together and create a new kind of ensemble model by mixing and re-mixing different component models.\n",
    "\n",
    "However, most ensemble models fall into three main categories, bagging, boosting, and stacking."
   ]
  },
  {
   "cell_type": "markdown",
   "metadata": {},
   "source": [
    "In **bagging** you take subsets of the data and train a model on each subset.\n",
    "Then the subsets are allowed to *simultaneously* vote on the outcome, either taking a majority or a mean.\n",
    "\n",
    "You just saw this in action with Random Forests, the most popular bagging technique."
   ]
  },
  {
   "cell_type": "markdown",
   "metadata": {},
   "source": [
    "Another ensemble technique is called **boosting**.\n",
    "\n",
    "Rather than build multiple models simultaneously like bagging, boosting uses the output of one model as an input into the next in a form of *serial processing*.\n",
    "\n",
    "These models then get daisy-chained together sequentially until some stopping condition is met. We’ll cover boosting methods later."
   ]
  },
  {
   "cell_type": "markdown",
   "metadata": {},
   "source": [
    "Lastly, **stacking** is a two phase process.\n",
    "In the first phase multiple models are trained in parallel and then in the second phase those models are used as inputs into a final model to give your prediction.\n",
    "\n",
    "This approach combines the parallel approach embodied by bagging with the serial approach of boosting to create a hybrid of the two."
   ]
  },
  {
   "cell_type": "markdown",
   "metadata": {},
   "source": [
    "You can create your own ensemble methods by manually combining models, but there are already several widely used forms of ensemble learning in use.\n",
    "We'll cover these later in the course.\n",
    "Random Forest is really just the tip of the iceberg."
   ]
  },
  {
   "cell_type": "markdown",
   "metadata": {},
   "source": [
    "### Think Like a Data Scientist\n",
    "There are advantages and disadvantages to ensemble models.\n",
    "Most notable is of course their performance.\n",
    "\n",
    "Ensemble models are often some of the most accurate techniques to apply to a problem.\n",
    "They also tend to have low variance because they're built from multiple internal models.\n",
    "\n",
    "However there are also downsides.\n",
    "Most notably, some ensemble techniques, particularly boosting, are prone to overfitting.\n",
    "You also lose a lot of the transparency that individual models offer.\n",
    "You saw this clearly in the Random Forest example, where the easy explanations offered by decision trees are abstracted away by the forest."
   ]
  }
 ],
 "metadata": {
  "kernelspec": {
   "display_name": "Python 3",
   "language": "python",
   "name": "python3"
  },
  "language_info": {
   "codemirror_mode": {
    "name": "ipython",
    "version": 3
   },
   "file_extension": ".py",
   "mimetype": "text/x-python",
   "name": "python",
   "nbconvert_exporter": "python",
   "pygments_lexer": "ipython3",
   "version": "3.7.1"
  }
 },
 "nbformat": 4,
 "nbformat_minor": 2
}
