{
 "cells": [
  {
   "cell_type": "markdown",
   "metadata": {},
   "source": [
    "# Challenge\n",
    "Unit 3 / Lesson 4 / Project 4\n",
    "\n",
    "We're going to look at recipes.\n",
    "Specifically we'll use the epicurious dataset, which has a collection of recipes, key terms and ingredients, and their ratings.\n",
    "\n",
    "What we want to see is if we can use the ingredient and keyword list to predict the rating.\n",
    "\n",
    "Transform this regression problem into a binary classifier and clean up the feature set.\n",
    "You can choose whether or not to include nutritional information, but try to cut your feature set down to the 30 most valuable features.\n",
    "\n",
    "When you've finished that, also take a moment to think about bias. Is there anything in this dataset that makes you think it could be biased, perhaps extremely so?\n",
    "\n",
    "There is. Several things in fact, but most glaringly is that we don't actually have a random sample. It could be, and probably is, that the people more likely to choose some kinds of recipes are more likely to give high reviews.\n",
    "\n",
    "After all, people who eat chocolate might just be happier people."
   ]
  },
  {
   "cell_type": "code",
   "execution_count": 1,
   "metadata": {
    "collapsed": true
   },
   "outputs": [],
   "source": [
    "import numpy as np\n",
    "import pandas as pd\n",
    "import scipy\n",
    "import matplotlib.pyplot as plt\n",
    "import seaborn as sns\n",
    "%matplotlib inline"
   ]
  },
  {
   "cell_type": "markdown",
   "metadata": {},
   "source": [
    "First let's load the dataset. It's [available on Kaggle](https://www.kaggle.com/hugodarwood/epirecipes)."
   ]
  },
  {
   "cell_type": "code",
   "execution_count": 2,
   "metadata": {},
   "outputs": [
    {
     "data": {
      "text/html": [
       "<div>\n",
       "<style scoped>\n",
       "    .dataframe tbody tr th:only-of-type {\n",
       "        vertical-align: middle;\n",
       "    }\n",
       "\n",
       "    .dataframe tbody tr th {\n",
       "        vertical-align: top;\n",
       "    }\n",
       "\n",
       "    .dataframe thead th {\n",
       "        text-align: right;\n",
       "    }\n",
       "</style>\n",
       "<table border=\"1\" class=\"dataframe\">\n",
       "  <thead>\n",
       "    <tr style=\"text-align: right;\">\n",
       "      <th></th>\n",
       "      <th>rating</th>\n",
       "      <th>calories</th>\n",
       "      <th>protein</th>\n",
       "      <th>fat</th>\n",
       "      <th>sodium</th>\n",
       "      <th>#cakeweek</th>\n",
       "      <th>#wasteless</th>\n",
       "      <th>22-minute meals</th>\n",
       "      <th>3-ingredient recipes</th>\n",
       "      <th>30 days of groceries</th>\n",
       "      <th>...</th>\n",
       "      <th>yellow squash</th>\n",
       "      <th>yogurt</th>\n",
       "      <th>yonkers</th>\n",
       "      <th>yuca</th>\n",
       "      <th>zucchini</th>\n",
       "      <th>cookbooks</th>\n",
       "      <th>leftovers</th>\n",
       "      <th>snack</th>\n",
       "      <th>snack week</th>\n",
       "      <th>turkey</th>\n",
       "    </tr>\n",
       "    <tr>\n",
       "      <th>title</th>\n",
       "      <th></th>\n",
       "      <th></th>\n",
       "      <th></th>\n",
       "      <th></th>\n",
       "      <th></th>\n",
       "      <th></th>\n",
       "      <th></th>\n",
       "      <th></th>\n",
       "      <th></th>\n",
       "      <th></th>\n",
       "      <th></th>\n",
       "      <th></th>\n",
       "      <th></th>\n",
       "      <th></th>\n",
       "      <th></th>\n",
       "      <th></th>\n",
       "      <th></th>\n",
       "      <th></th>\n",
       "      <th></th>\n",
       "      <th></th>\n",
       "      <th></th>\n",
       "    </tr>\n",
       "  </thead>\n",
       "  <tbody>\n",
       "    <tr>\n",
       "      <th>Lentil, Apple, and Turkey Wrap</th>\n",
       "      <td>2.500</td>\n",
       "      <td>426.0</td>\n",
       "      <td>30.0</td>\n",
       "      <td>7.0</td>\n",
       "      <td>559.0</td>\n",
       "      <td>0.0</td>\n",
       "      <td>0.0</td>\n",
       "      <td>0.0</td>\n",
       "      <td>0.0</td>\n",
       "      <td>0.0</td>\n",
       "      <td>...</td>\n",
       "      <td>0.0</td>\n",
       "      <td>0.0</td>\n",
       "      <td>0.0</td>\n",
       "      <td>0.0</td>\n",
       "      <td>0.0</td>\n",
       "      <td>0.0</td>\n",
       "      <td>0.0</td>\n",
       "      <td>0.0</td>\n",
       "      <td>0.0</td>\n",
       "      <td>1.0</td>\n",
       "    </tr>\n",
       "    <tr>\n",
       "      <th>Boudin Blanc Terrine with Red Onion Confit</th>\n",
       "      <td>4.375</td>\n",
       "      <td>403.0</td>\n",
       "      <td>18.0</td>\n",
       "      <td>23.0</td>\n",
       "      <td>1439.0</td>\n",
       "      <td>0.0</td>\n",
       "      <td>0.0</td>\n",
       "      <td>0.0</td>\n",
       "      <td>0.0</td>\n",
       "      <td>0.0</td>\n",
       "      <td>...</td>\n",
       "      <td>0.0</td>\n",
       "      <td>0.0</td>\n",
       "      <td>0.0</td>\n",
       "      <td>0.0</td>\n",
       "      <td>0.0</td>\n",
       "      <td>0.0</td>\n",
       "      <td>0.0</td>\n",
       "      <td>0.0</td>\n",
       "      <td>0.0</td>\n",
       "      <td>0.0</td>\n",
       "    </tr>\n",
       "    <tr>\n",
       "      <th>Potato and Fennel Soup Hodge</th>\n",
       "      <td>3.750</td>\n",
       "      <td>165.0</td>\n",
       "      <td>6.0</td>\n",
       "      <td>7.0</td>\n",
       "      <td>165.0</td>\n",
       "      <td>0.0</td>\n",
       "      <td>0.0</td>\n",
       "      <td>0.0</td>\n",
       "      <td>0.0</td>\n",
       "      <td>0.0</td>\n",
       "      <td>...</td>\n",
       "      <td>0.0</td>\n",
       "      <td>0.0</td>\n",
       "      <td>0.0</td>\n",
       "      <td>0.0</td>\n",
       "      <td>0.0</td>\n",
       "      <td>0.0</td>\n",
       "      <td>0.0</td>\n",
       "      <td>0.0</td>\n",
       "      <td>0.0</td>\n",
       "      <td>0.0</td>\n",
       "    </tr>\n",
       "    <tr>\n",
       "      <th>Mahi-Mahi in Tomato Olive Sauce</th>\n",
       "      <td>5.000</td>\n",
       "      <td>NaN</td>\n",
       "      <td>NaN</td>\n",
       "      <td>NaN</td>\n",
       "      <td>NaN</td>\n",
       "      <td>0.0</td>\n",
       "      <td>0.0</td>\n",
       "      <td>0.0</td>\n",
       "      <td>0.0</td>\n",
       "      <td>0.0</td>\n",
       "      <td>...</td>\n",
       "      <td>0.0</td>\n",
       "      <td>0.0</td>\n",
       "      <td>0.0</td>\n",
       "      <td>0.0</td>\n",
       "      <td>0.0</td>\n",
       "      <td>0.0</td>\n",
       "      <td>0.0</td>\n",
       "      <td>0.0</td>\n",
       "      <td>0.0</td>\n",
       "      <td>0.0</td>\n",
       "    </tr>\n",
       "    <tr>\n",
       "      <th>Spinach Noodle Casserole</th>\n",
       "      <td>3.125</td>\n",
       "      <td>547.0</td>\n",
       "      <td>20.0</td>\n",
       "      <td>32.0</td>\n",
       "      <td>452.0</td>\n",
       "      <td>0.0</td>\n",
       "      <td>0.0</td>\n",
       "      <td>0.0</td>\n",
       "      <td>0.0</td>\n",
       "      <td>0.0</td>\n",
       "      <td>...</td>\n",
       "      <td>0.0</td>\n",
       "      <td>0.0</td>\n",
       "      <td>0.0</td>\n",
       "      <td>0.0</td>\n",
       "      <td>0.0</td>\n",
       "      <td>0.0</td>\n",
       "      <td>0.0</td>\n",
       "      <td>0.0</td>\n",
       "      <td>0.0</td>\n",
       "      <td>0.0</td>\n",
       "    </tr>\n",
       "  </tbody>\n",
       "</table>\n",
       "<p>5 rows × 679 columns</p>\n",
       "</div>"
      ],
      "text/plain": [
       "                                             rating  calories  protein   fat  \\\n",
       "title                                                                          \n",
       "Lentil, Apple, and Turkey Wrap                2.500     426.0     30.0   7.0   \n",
       "Boudin Blanc Terrine with Red Onion Confit    4.375     403.0     18.0  23.0   \n",
       "Potato and Fennel Soup Hodge                  3.750     165.0      6.0   7.0   \n",
       "Mahi-Mahi in Tomato Olive Sauce               5.000       NaN      NaN   NaN   \n",
       "Spinach Noodle Casserole                      3.125     547.0     20.0  32.0   \n",
       "\n",
       "                                             sodium  #cakeweek  #wasteless  \\\n",
       "title                                                                        \n",
       "Lentil, Apple, and Turkey Wrap                559.0        0.0         0.0   \n",
       "Boudin Blanc Terrine with Red Onion Confit   1439.0        0.0         0.0   \n",
       "Potato and Fennel Soup Hodge                  165.0        0.0         0.0   \n",
       "Mahi-Mahi in Tomato Olive Sauce                 NaN        0.0         0.0   \n",
       "Spinach Noodle Casserole                      452.0        0.0         0.0   \n",
       "\n",
       "                                             22-minute meals  \\\n",
       "title                                                          \n",
       "Lentil, Apple, and Turkey Wrap                           0.0   \n",
       "Boudin Blanc Terrine with Red Onion Confit               0.0   \n",
       "Potato and Fennel Soup Hodge                             0.0   \n",
       "Mahi-Mahi in Tomato Olive Sauce                          0.0   \n",
       "Spinach Noodle Casserole                                 0.0   \n",
       "\n",
       "                                             3-ingredient recipes  \\\n",
       "title                                                               \n",
       "Lentil, Apple, and Turkey Wrap                                0.0   \n",
       "Boudin Blanc Terrine with Red Onion Confit                    0.0   \n",
       "Potato and Fennel Soup Hodge                                  0.0   \n",
       "Mahi-Mahi in Tomato Olive Sauce                               0.0   \n",
       "Spinach Noodle Casserole                                      0.0   \n",
       "\n",
       "                                             30 days of groceries   ...    \\\n",
       "title                                                               ...     \n",
       "Lentil, Apple, and Turkey Wrap                                0.0   ...     \n",
       "Boudin Blanc Terrine with Red Onion Confit                    0.0   ...     \n",
       "Potato and Fennel Soup Hodge                                  0.0   ...     \n",
       "Mahi-Mahi in Tomato Olive Sauce                               0.0   ...     \n",
       "Spinach Noodle Casserole                                      0.0   ...     \n",
       "\n",
       "                                             yellow squash  yogurt  yonkers  \\\n",
       "title                                                                         \n",
       "Lentil, Apple, and Turkey Wrap                         0.0     0.0      0.0   \n",
       "Boudin Blanc Terrine with Red Onion Confit             0.0     0.0      0.0   \n",
       "Potato and Fennel Soup Hodge                           0.0     0.0      0.0   \n",
       "Mahi-Mahi in Tomato Olive Sauce                        0.0     0.0      0.0   \n",
       "Spinach Noodle Casserole                               0.0     0.0      0.0   \n",
       "\n",
       "                                             yuca  zucchini  cookbooks  \\\n",
       "title                                                                    \n",
       "Lentil, Apple, and Turkey Wrap                0.0       0.0        0.0   \n",
       "Boudin Blanc Terrine with Red Onion Confit    0.0       0.0        0.0   \n",
       "Potato and Fennel Soup Hodge                  0.0       0.0        0.0   \n",
       "Mahi-Mahi in Tomato Olive Sauce               0.0       0.0        0.0   \n",
       "Spinach Noodle Casserole                      0.0       0.0        0.0   \n",
       "\n",
       "                                             leftovers  snack  snack week  \\\n",
       "title                                                                       \n",
       "Lentil, Apple, and Turkey Wrap                     0.0    0.0         0.0   \n",
       "Boudin Blanc Terrine with Red Onion Confit         0.0    0.0         0.0   \n",
       "Potato and Fennel Soup Hodge                       0.0    0.0         0.0   \n",
       "Mahi-Mahi in Tomato Olive Sauce                    0.0    0.0         0.0   \n",
       "Spinach Noodle Casserole                           0.0    0.0         0.0   \n",
       "\n",
       "                                             turkey  \n",
       "title                                                \n",
       "Lentil, Apple, and Turkey Wrap                  1.0  \n",
       "Boudin Blanc Terrine with Red Onion Confit      0.0  \n",
       "Potato and Fennel Soup Hodge                    0.0  \n",
       "Mahi-Mahi in Tomato Olive Sauce                 0.0  \n",
       "Spinach Noodle Casserole                        0.0  \n",
       "\n",
       "[5 rows x 679 columns]"
      ]
     },
     "execution_count": 2,
     "metadata": {},
     "output_type": "execute_result"
    }
   ],
   "source": [
    "PATH =('https://tf-assets-prod.s3.amazonaws.com/tf-curric/data-science/epi_r.csv'\n",
    ")\n",
    "# set title column as index\n",
    "raw_data = pd.read_csv(PATH, index_col=0)\n",
    "raw_data.head()"
   ]
  },
  {
   "cell_type": "markdown",
   "metadata": {},
   "source": [
    "### Visual EDA"
   ]
  },
  {
   "cell_type": "code",
   "execution_count": 21,
   "metadata": {},
   "outputs": [
    {
     "data": {
      "text/html": [
       "<div>\n",
       "<style scoped>\n",
       "    .dataframe tbody tr th:only-of-type {\n",
       "        vertical-align: middle;\n",
       "    }\n",
       "\n",
       "    .dataframe tbody tr th {\n",
       "        vertical-align: top;\n",
       "    }\n",
       "\n",
       "    .dataframe thead th {\n",
       "        text-align: right;\n",
       "    }\n",
       "</style>\n",
       "<table border=\"1\" class=\"dataframe\">\n",
       "  <thead>\n",
       "    <tr style=\"text-align: right;\">\n",
       "      <th></th>\n",
       "      <th>rating</th>\n",
       "      <th>calories</th>\n",
       "      <th>protein</th>\n",
       "      <th>fat</th>\n",
       "      <th>sodium</th>\n",
       "      <th>#cakeweek</th>\n",
       "      <th>#wasteless</th>\n",
       "      <th>22-minute meals</th>\n",
       "      <th>3-ingredient recipes</th>\n",
       "      <th>30 days of groceries</th>\n",
       "      <th>...</th>\n",
       "      <th>yonkers</th>\n",
       "      <th>yuca</th>\n",
       "      <th>zucchini</th>\n",
       "      <th>cookbooks</th>\n",
       "      <th>leftovers</th>\n",
       "      <th>snack</th>\n",
       "      <th>snack week</th>\n",
       "      <th>turkey</th>\n",
       "      <th>log_rating</th>\n",
       "      <th>high_rating</th>\n",
       "    </tr>\n",
       "    <tr>\n",
       "      <th>title</th>\n",
       "      <th></th>\n",
       "      <th></th>\n",
       "      <th></th>\n",
       "      <th></th>\n",
       "      <th></th>\n",
       "      <th></th>\n",
       "      <th></th>\n",
       "      <th></th>\n",
       "      <th></th>\n",
       "      <th></th>\n",
       "      <th></th>\n",
       "      <th></th>\n",
       "      <th></th>\n",
       "      <th></th>\n",
       "      <th></th>\n",
       "      <th></th>\n",
       "      <th></th>\n",
       "      <th></th>\n",
       "      <th></th>\n",
       "      <th></th>\n",
       "      <th></th>\n",
       "    </tr>\n",
       "  </thead>\n",
       "  <tbody>\n",
       "    <tr>\n",
       "      <th>Parmesan Puffs</th>\n",
       "      <td>3.125</td>\n",
       "      <td>28.0</td>\n",
       "      <td>2.0</td>\n",
       "      <td>2.0</td>\n",
       "      <td>64.0</td>\n",
       "      <td>0.0</td>\n",
       "      <td>0.0</td>\n",
       "      <td>0.0</td>\n",
       "      <td>0.0</td>\n",
       "      <td>0.0</td>\n",
       "      <td>...</td>\n",
       "      <td>0.0</td>\n",
       "      <td>0.0</td>\n",
       "      <td>0.0</td>\n",
       "      <td>0.0</td>\n",
       "      <td>0.0</td>\n",
       "      <td>0.0</td>\n",
       "      <td>0.0</td>\n",
       "      <td>0.0</td>\n",
       "      <td>1.417066</td>\n",
       "      <td>0</td>\n",
       "    </tr>\n",
       "    <tr>\n",
       "      <th>Artichoke and Parmesan Risotto</th>\n",
       "      <td>4.375</td>\n",
       "      <td>671.0</td>\n",
       "      <td>22.0</td>\n",
       "      <td>28.0</td>\n",
       "      <td>583.0</td>\n",
       "      <td>0.0</td>\n",
       "      <td>0.0</td>\n",
       "      <td>0.0</td>\n",
       "      <td>0.0</td>\n",
       "      <td>0.0</td>\n",
       "      <td>...</td>\n",
       "      <td>0.0</td>\n",
       "      <td>0.0</td>\n",
       "      <td>0.0</td>\n",
       "      <td>0.0</td>\n",
       "      <td>0.0</td>\n",
       "      <td>0.0</td>\n",
       "      <td>0.0</td>\n",
       "      <td>0.0</td>\n",
       "      <td>1.681759</td>\n",
       "      <td>1</td>\n",
       "    </tr>\n",
       "    <tr>\n",
       "      <th>Turkey Cream Puff Pie</th>\n",
       "      <td>4.375</td>\n",
       "      <td>563.0</td>\n",
       "      <td>31.0</td>\n",
       "      <td>38.0</td>\n",
       "      <td>652.0</td>\n",
       "      <td>0.0</td>\n",
       "      <td>0.0</td>\n",
       "      <td>0.0</td>\n",
       "      <td>0.0</td>\n",
       "      <td>0.0</td>\n",
       "      <td>...</td>\n",
       "      <td>0.0</td>\n",
       "      <td>0.0</td>\n",
       "      <td>0.0</td>\n",
       "      <td>0.0</td>\n",
       "      <td>0.0</td>\n",
       "      <td>0.0</td>\n",
       "      <td>0.0</td>\n",
       "      <td>1.0</td>\n",
       "      <td>1.681759</td>\n",
       "      <td>1</td>\n",
       "    </tr>\n",
       "    <tr>\n",
       "      <th>Snapper on Angel Hair with Citrus Cream</th>\n",
       "      <td>4.375</td>\n",
       "      <td>631.0</td>\n",
       "      <td>45.0</td>\n",
       "      <td>24.0</td>\n",
       "      <td>517.0</td>\n",
       "      <td>0.0</td>\n",
       "      <td>0.0</td>\n",
       "      <td>0.0</td>\n",
       "      <td>0.0</td>\n",
       "      <td>0.0</td>\n",
       "      <td>...</td>\n",
       "      <td>0.0</td>\n",
       "      <td>0.0</td>\n",
       "      <td>0.0</td>\n",
       "      <td>0.0</td>\n",
       "      <td>0.0</td>\n",
       "      <td>0.0</td>\n",
       "      <td>0.0</td>\n",
       "      <td>0.0</td>\n",
       "      <td>1.681759</td>\n",
       "      <td>1</td>\n",
       "    </tr>\n",
       "    <tr>\n",
       "      <th>Baked Ham with Marmalade-Horseradish Glaze</th>\n",
       "      <td>4.375</td>\n",
       "      <td>560.0</td>\n",
       "      <td>73.0</td>\n",
       "      <td>10.0</td>\n",
       "      <td>3698.0</td>\n",
       "      <td>0.0</td>\n",
       "      <td>0.0</td>\n",
       "      <td>0.0</td>\n",
       "      <td>0.0</td>\n",
       "      <td>0.0</td>\n",
       "      <td>...</td>\n",
       "      <td>0.0</td>\n",
       "      <td>0.0</td>\n",
       "      <td>0.0</td>\n",
       "      <td>0.0</td>\n",
       "      <td>0.0</td>\n",
       "      <td>0.0</td>\n",
       "      <td>0.0</td>\n",
       "      <td>0.0</td>\n",
       "      <td>1.681759</td>\n",
       "      <td>1</td>\n",
       "    </tr>\n",
       "  </tbody>\n",
       "</table>\n",
       "<p>5 rows × 681 columns</p>\n",
       "</div>"
      ],
      "text/plain": [
       "                                             rating  calories  protein   fat  \\\n",
       "title                                                                          \n",
       "Parmesan Puffs                                3.125      28.0      2.0   2.0   \n",
       "Artichoke and Parmesan Risotto                4.375     671.0     22.0  28.0   \n",
       "Turkey Cream Puff Pie                         4.375     563.0     31.0  38.0   \n",
       "Snapper on Angel Hair with Citrus Cream       4.375     631.0     45.0  24.0   \n",
       "Baked Ham with Marmalade-Horseradish Glaze    4.375     560.0     73.0  10.0   \n",
       "\n",
       "                                             sodium  #cakeweek  #wasteless  \\\n",
       "title                                                                        \n",
       "Parmesan Puffs                                 64.0        0.0         0.0   \n",
       "Artichoke and Parmesan Risotto                583.0        0.0         0.0   \n",
       "Turkey Cream Puff Pie                         652.0        0.0         0.0   \n",
       "Snapper on Angel Hair with Citrus Cream       517.0        0.0         0.0   \n",
       "Baked Ham with Marmalade-Horseradish Glaze   3698.0        0.0         0.0   \n",
       "\n",
       "                                             22-minute meals  \\\n",
       "title                                                          \n",
       "Parmesan Puffs                                           0.0   \n",
       "Artichoke and Parmesan Risotto                           0.0   \n",
       "Turkey Cream Puff Pie                                    0.0   \n",
       "Snapper on Angel Hair with Citrus Cream                  0.0   \n",
       "Baked Ham with Marmalade-Horseradish Glaze               0.0   \n",
       "\n",
       "                                             3-ingredient recipes  \\\n",
       "title                                                               \n",
       "Parmesan Puffs                                                0.0   \n",
       "Artichoke and Parmesan Risotto                                0.0   \n",
       "Turkey Cream Puff Pie                                         0.0   \n",
       "Snapper on Angel Hair with Citrus Cream                       0.0   \n",
       "Baked Ham with Marmalade-Horseradish Glaze                    0.0   \n",
       "\n",
       "                                             30 days of groceries  \\\n",
       "title                                                               \n",
       "Parmesan Puffs                                                0.0   \n",
       "Artichoke and Parmesan Risotto                                0.0   \n",
       "Turkey Cream Puff Pie                                         0.0   \n",
       "Snapper on Angel Hair with Citrus Cream                       0.0   \n",
       "Baked Ham with Marmalade-Horseradish Glaze                    0.0   \n",
       "\n",
       "                                                ...       yonkers  yuca  \\\n",
       "title                                           ...                       \n",
       "Parmesan Puffs                                  ...           0.0   0.0   \n",
       "Artichoke and Parmesan Risotto                  ...           0.0   0.0   \n",
       "Turkey Cream Puff Pie                           ...           0.0   0.0   \n",
       "Snapper on Angel Hair with Citrus Cream         ...           0.0   0.0   \n",
       "Baked Ham with Marmalade-Horseradish Glaze      ...           0.0   0.0   \n",
       "\n",
       "                                             zucchini  cookbooks  leftovers  \\\n",
       "title                                                                         \n",
       "Parmesan Puffs                                    0.0        0.0        0.0   \n",
       "Artichoke and Parmesan Risotto                    0.0        0.0        0.0   \n",
       "Turkey Cream Puff Pie                             0.0        0.0        0.0   \n",
       "Snapper on Angel Hair with Citrus Cream           0.0        0.0        0.0   \n",
       "Baked Ham with Marmalade-Horseradish Glaze        0.0        0.0        0.0   \n",
       "\n",
       "                                             snack  snack week  turkey  \\\n",
       "title                                                                    \n",
       "Parmesan Puffs                                 0.0         0.0     0.0   \n",
       "Artichoke and Parmesan Risotto                 0.0         0.0     0.0   \n",
       "Turkey Cream Puff Pie                          0.0         0.0     1.0   \n",
       "Snapper on Angel Hair with Citrus Cream        0.0         0.0     0.0   \n",
       "Baked Ham with Marmalade-Horseradish Glaze     0.0         0.0     0.0   \n",
       "\n",
       "                                             log_rating  high_rating  \n",
       "title                                                                 \n",
       "Parmesan Puffs                                 1.417066            0  \n",
       "Artichoke and Parmesan Risotto                 1.681759            1  \n",
       "Turkey Cream Puff Pie                          1.681759            1  \n",
       "Snapper on Angel Hair with Citrus Cream        1.681759            1  \n",
       "Baked Ham with Marmalade-Horseradish Glaze     1.681759            1  \n",
       "\n",
       "[5 rows x 681 columns]"
      ]
     },
     "execution_count": 21,
     "metadata": {},
     "output_type": "execute_result"
    }
   ],
   "source": [
    "#list(raw_data.columns)"
   ]
  },
  {
   "cell_type": "code",
   "execution_count": 4,
   "metadata": {},
   "outputs": [
    {
     "data": {
      "text/plain": [
       "count    20052.000000\n",
       "mean         3.714467\n",
       "std          1.340829\n",
       "min          0.000000\n",
       "25%          3.750000\n",
       "50%          4.375000\n",
       "75%          4.375000\n",
       "max          5.000000\n",
       "Name: rating, dtype: float64"
      ]
     },
     "execution_count": 4,
     "metadata": {},
     "output_type": "execute_result"
    }
   ],
   "source": [
    "raw_data.rating.describe()"
   ]
  },
  {
   "cell_type": "code",
   "execution_count": 5,
   "metadata": {
    "scrolled": false
   },
   "outputs": [
    {
     "data": {
      "image/png": "[encoded data removed]",
      "text/plain": [
       "<Figure size 432x288 with 1 Axes>"
      ]
     },
     "metadata": {
      "needs_background": "light"
     },
     "output_type": "display_data"
    }
   ],
   "source": [
    "raw_data.rating.hist(bins=20)\n",
    "plt.title('Recipe Ratings')\n",
    "plt.show()"
   ]
  },
  {
   "cell_type": "markdown",
   "metadata": {},
   "source": [
    "### Clean Data\n",
    "Let's see if we can transform the distribution of the rating data."
   ]
  },
  {
   "cell_type": "code",
   "execution_count": 6,
   "metadata": {},
   "outputs": [
    {
     "data": {
      "text/plain": [
       "count    20052.000000\n",
       "mean         1.468796\n",
       "std          0.487763\n",
       "min          0.000000\n",
       "25%          1.558145\n",
       "50%          1.681759\n",
       "75%          1.681759\n",
       "max          1.791759\n",
       "Name: log_rating, dtype: float64"
      ]
     },
     "execution_count": 6,
     "metadata": {},
     "output_type": "execute_result"
    }
   ],
   "source": [
    "# perform log transformation on ratings\n",
    "raw_data['log_rating'] = np.log1p(raw_data['rating'])\n",
    "raw_data['log_rating'].describe()"
   ]
  },
  {
   "cell_type": "code",
   "execution_count": 7,
   "metadata": {},
   "outputs": [
    {
     "data": {
      "image/png": "[encoded data removed]",
      "text/plain": [
       "<Figure size 432x288 with 1 Axes>"
      ]
     },
     "metadata": {
      "needs_background": "light"
     },
     "output_type": "display_data"
    }
   ],
   "source": [
    "raw_data.log_rating.hist(bins=20)\n",
    "plt.title('log(Recipe Ratings)')\n",
    "plt.show()"
   ]
  },
  {
   "cell_type": "markdown",
   "metadata": {},
   "source": [
    "That's better. Now the distribution of the ratings data looks more like a binomial distribution.\n",
    "We can see that the data clusters at either 0 or above 1.5.\n",
    "\n",
    "We can now convert our log(ratings) data to a binary feature where any rating over 1.5 is a 'high rating' and anything below it is a 'low rating'"
   ]
  },
  {
   "cell_type": "code",
   "execution_count": 8,
   "metadata": {},
   "outputs": [
    {
     "data": {
      "text/plain": [
       "1    15907\n",
       "0     4145\n",
       "Name: high_rating, dtype: int64"
      ]
     },
     "execution_count": 8,
     "metadata": {},
     "output_type": "execute_result"
    }
   ],
   "source": [
    "# define binary 'high rating' feature\n",
    "raw_data['high_rating'] = np.where(\n",
    "    raw_data['log_rating'] > 1.5, 1, 0\n",
    ")\n",
    "\n",
    "raw_data['high_rating'].value_counts()"
   ]
  },
  {
   "cell_type": "code",
   "execution_count": 9,
   "metadata": {},
   "outputs": [],
   "source": [
    "# view nutrional data\n",
    "#raw_data[['calories','protein','fat','sodium']].info()"
   ]
  },
  {
   "cell_type": "code",
   "execution_count": 10,
   "metadata": {},
   "outputs": [],
   "source": [
    "#fig, axarr = plt.subplots(2,2)\n",
    "\n",
    "#axarr[0,0].hist(raw_data['calories'], bins=20)\n",
    "#axarr[0,0].set_title('Calories')\n",
    "#axarr[0,1].hist(raw_data['protein'], bins=20)\n",
    "#axarr[0,1].set_title('Protein')\n",
    "#axarr[1,0].hist(raw_data['fat'], bins=20)\n",
    "#axarr[1,0].set_title('Fat')\n",
    "#axarr[1,1].hist(raw_data['sodium'], bins=20)\n",
    "#axarr[1,1].set_title('Sodium')\n",
    "\n",
    "#plt.tight_layout()\n",
    "#plt.show()"
   ]
  },
  {
   "cell_type": "code",
   "execution_count": 11,
   "metadata": {
    "scrolled": true
   },
   "outputs": [],
   "source": [
    "#raw_data['log_calories'] = np.log1p(raw_data['calories'])\n",
    "#raw_data['log_protein'] = np.log1p(raw_data['protein'])\n",
    "#raw_data['log_fat'] = np.log1p(raw_data['fat'])\n",
    "#raw_data['log_sodium'] = np.log1p(raw_data['sodium'])\n",
    "\n",
    "#fig, axarr = plt.subplots(2,2)\n",
    "\n",
    "#axarr[0,0].hist(raw_data['log_calories'], bins=20)\n",
    "#axarr[0,0].set_title('log(Calories)')\n",
    "#axarr[0,1].hist(raw_data['log_protein'], bins=20)\n",
    "#axarr[0,1].set_title('log(Protein)')\n",
    "#axarr[1,0].hist(raw_data['log_fat'], bins=20)\n",
    "#axarr[1,0].set_title('log(Fat)')\n",
    "#axarr[1,1].hist(raw_data['log_sodium'], bins=20)\n",
    "#axarr[1,1].set_title('log(Sodium)')\n",
    "\n",
    "#plt.tight_layout()\n",
    "#plt.show()"
   ]
  },
  {
   "cell_type": "code",
   "execution_count": 12,
   "metadata": {
    "scrolled": true
   },
   "outputs": [],
   "source": [
    "#for i in ['log_calories','log_protein','log_fat','log_sodium']:\n",
    "#    raw_data[i] = raw_data[i].fillna(raw_data[i].median())\n",
    "\n",
    "# view log transformed nutrional data\n",
    "#raw_data[['log_calories','log_protein','log_fat','log_sodium']].info()"
   ]
  },
  {
   "cell_type": "markdown",
   "metadata": {},
   "source": [
    "### Feature Selection\n",
    "\n",
    "Now that our ratings data is ready to go, let's select our features.\n",
    "\n",
    "Let's take the sum of each feature (excluding ratings and nutritional info), as each feature is binary and the sum will represent the frequency of those ingredients showing up in recipes."
   ]
  },
  {
   "cell_type": "code",
   "execution_count": 30,
   "metadata": {},
   "outputs": [],
   "source": [
    "drop_list = ['rating', 'log_rating',\n",
    "             #'log_calories', 'log_protein', 'log_fat', 'log_sodium',\n",
    "             'calories', 'protein', 'fat', 'sodium'\n",
    "            ]\n",
    "features = raw_data.drop(drop_list, axis=1)\n",
    "\n",
    "data = features.drop('high_rating', axis=1)\n",
    "target = features['high_rating']"
   ]
  },
  {
   "cell_type": "code",
   "execution_count": 52,
   "metadata": {
    "scrolled": true
   },
   "outputs": [],
   "source": [
    "counts = {}\n",
    "\n",
    "for i in data.columns:\n",
    "    counts[i] = data[i].sum()\n",
    "    \n",
    "counts = pd.DataFrame.from_dict(counts, orient='index', columns=['counts'])\n",
    "\n",
    "counts = counts.counts.sort_values(ascending=False).head(30)"
   ]
  },
  {
   "cell_type": "code",
   "execution_count": 53,
   "metadata": {
    "scrolled": false
   },
   "outputs": [],
   "source": [
    "col_list = ['high_rating']\n",
    "\n",
    "for i in counts.index:\n",
    "    col_list.append(i)\n",
    "\n",
    "features = features[col_list]"
   ]
  },
  {
   "cell_type": "markdown",
   "metadata": {},
   "source": [
    "Now we have the most frequently occuring ingredients as our feature list.\n",
    "\n",
    "Let's make sure there's no correlation between our features."
   ]
  },
  {
   "cell_type": "code",
   "execution_count": 54,
   "metadata": {},
   "outputs": [
    {
     "data": {
      "text/plain": [
       "<matplotlib.axes._subplots.AxesSubplot at 0x1d190860>"
      ]
     },
     "execution_count": 54,
     "metadata": {},
     "output_type": "execute_result"
    },
    {
     "data": {
      "image/png": "[encoded data removed]",
      "text/plain": [
       "<Figure size 432x288 with 2 Axes>"
      ]
     },
     "metadata": {
      "needs_background": "light"
     },
     "output_type": "display_data"
    }
   ],
   "source": [
    "data = features.drop('high_rating', axis=1)\n",
    "target = features['high_rating']\n",
    "\n",
    "# plot a heatmap\n",
    "sns.heatmap(data.corr())"
   ]
  },
  {
   "cell_type": "markdown",
   "metadata": {},
   "source": [
    "It looks like we have some correlated features.\n",
    "Let's drop anything with over a 90% correlation."
   ]
  },
  {
   "cell_type": "code",
   "execution_count": 55,
   "metadata": {},
   "outputs": [
    {
     "data": {
      "text/plain": [
       "(20052, 30)"
      ]
     },
     "metadata": {},
     "output_type": "display_data"
    },
    {
     "data": {
      "text/plain": [
       "(20052, 29)"
      ]
     },
     "execution_count": 55,
     "metadata": {},
     "output_type": "execute_result"
    }
   ],
   "source": [
    "# Create correlation matrix\n",
    "corr_matrix = data.corr().abs()\n",
    "\n",
    "# Select upper triangle of correlation matrix\n",
    "upper = corr_matrix.where(np.triu(np.ones(corr_matrix.shape), k=1).astype(np.bool))\n",
    "\n",
    "# Find index of feature columns with correlation greater than 0.90\n",
    "to_drop = [column for column in upper.columns if any(upper[column] > 0.90)]\n",
    "\n",
    "display(data.shape)\n",
    "\n",
    "# Drop correlated features \n",
    "for i in to_drop:\n",
    "    data = data.drop(i, axis=1)\n",
    "\n",
    "data.shape"
   ]
  },
  {
   "cell_type": "markdown",
   "metadata": {},
   "source": [
    "Now we've dropped our correlated features and we're ready to model."
   ]
  },
  {
   "cell_type": "markdown",
   "metadata": {},
   "source": [
    "### Model Data"
   ]
  },
  {
   "cell_type": "code",
   "execution_count": 56,
   "metadata": {},
   "outputs": [
    {
     "name": "stderr",
     "output_type": "stream",
     "text": [
      "C:\\Users\\Aaron\\AppData\\Local\\Programs\\Python\\Python37\\lib\\site-packages\\sklearn\\linear_model\\logistic.py:433: FutureWarning: Default solver will be changed to 'lbfgs' in 0.22. Specify a solver to silence this warning.\n",
      "  FutureWarning)\n"
     ]
    },
    {
     "name": "stdout",
     "output_type": "stream",
     "text": [
      "Logistic Regression\n",
      "\n",
      "Accuracy training set:\n",
      "0.7904120690730004\n",
      "\n",
      "Accuracy test set:\n",
      "0.8030416355023685\n"
     ]
    }
   ],
   "source": [
    "from sklearn.model_selection import train_test_split\n",
    "X_train, X_test, y_train, y_test = train_test_split(\n",
    "    data, target, test_size=0.2, random_state=42)\n",
    "\n",
    "from sklearn.linear_model import LogisticRegression\n",
    "# Declare a logistic regression classifier.\n",
    "lr = LogisticRegression()\n",
    "\n",
    "# Fit the model.\n",
    "fit = lr.fit(X_train,y_train)\n",
    "\n",
    "# Display.\n",
    "print('Logistic Regression')\n",
    "print('\\nAccuracy training set:')\n",
    "print(lr.score(X_train, y_train))\n",
    "\n",
    "#Store the parameter estimates.\n",
    "origparams = np.append(lr.coef_, lr.intercept_)\n",
    "#print('\\nParameter estimates:')\n",
    "#print(origparams)\n",
    "\n",
    "print('\\nAccuracy test set:')\n",
    "print(lr.score(X_test, y_test))"
   ]
  },
  {
   "cell_type": "markdown",
   "metadata": {},
   "source": [
    "Excellent, our binary classifier has a consistent accuracy across both the training and test sets."
   ]
  },
  {
   "cell_type": "markdown",
   "metadata": {},
   "source": [
    "### Conclusion\n",
    "Our binary classifier had approximately an 80% accuracy of predicting a high rating recipe based on our top 30 recipe ingredients.\n",
    "\n",
    "This means that we could make an informed recommendation to someone writing a blog, cookbook, or website about the topics to include to maximize web traffic or review ratings.\n",
    "\n",
    "Our classifier doesn't address potential bias in our model, though.\n",
    "We did randomly select our training and test sets, which can reduce bias and overfitting.\n",
    "Though it doesn't account for bias in the data collection method.\n",
    "\n",
    "In order to review a recipe, a user has to 'opt in', they can just as easily choose not to review the recipe.\n",
    "Therefore the reviewer must have a strong motivation, either positive or negative, to take time to rate a recipe.\n",
    "We can see this in the binary nature of the recipe reviews.\n",
    "The data was skewed to either extreme; recipes either received a high rating or a rating of 0.\n",
    "\n",
    "It's likely that the binary nature of the data biased the feature selection process.\n",
    "We can see that many of the features are dietary-specific, such as allergies (peanut, soy, tree nut, gluten) and dietary restrictions (kosher, no sugar added, pescatarian).\n",
    "It's possible people seeking this type of information are more likely to give a positive review to a recipe specific to their dietary needs rather than someone seeking a recipe to use up their leftover onions sitting in their pantry.\n",
    "\n",
    "This isn't totally useless information, though.\n",
    "Instead of recommending a static list of recipe ingredients for an author or blogger, we could recommend a list of topics to build recipes around.\n",
    "For example, a cookbook or blog dedicated to allergy-specific recipes, or a recipe list to use up pantry staples.\n",
    "\n",
    "If we wanted to fine tune our model even more, we could categorize our features based on type.\n",
    "Group allergens together, fresh ingredients such as fruits and vegetables together, and recipe descriptors such as 'kid-friendly' or 'vegan'.\n",
    "Then we can get could possibly adjust for bias in the data collecting methods, as recipes containing chocolate won't out rank recipes for raw, vegan, no bake gluten free fiber bars and vice versa."
   ]
  },
  {
   "cell_type": "code",
   "execution_count": null,
   "metadata": {
    "collapsed": true
   },
   "outputs": [],
   "source": []
  }
 ],
 "metadata": {
  "kernelspec": {
   "display_name": "Python 3",
   "language": "python",
   "name": "python3"
  },
  "language_info": {
   "codemirror_mode": {
    "name": "ipython",
    "version": 3
   },
   "file_extension": ".py",
   "mimetype": "text/x-python",
   "name": "python",
   "nbconvert_exporter": "python",
   "pygments_lexer": "ipython3",
   "version": "3.7.1"
  }
 },
 "nbformat": 4,
 "nbformat_minor": 2
}
