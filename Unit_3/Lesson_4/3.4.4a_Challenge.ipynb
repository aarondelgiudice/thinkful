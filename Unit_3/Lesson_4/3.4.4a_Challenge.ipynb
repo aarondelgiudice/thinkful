{
 "cells": [
  {
   "cell_type": "markdown",
   "metadata": {},
   "source": [
    "# Challenge\n",
    "Unit 3 / Lesson 4 / Project 4\n",
    "\n",
    "We're going to look at recipes.\n",
    "Specifically we'll use the epicurious dataset, which has a collection of recipes, key terms and ingredients, and their ratings.\n",
    "\n",
    "What we want to see is if we can use the ingredient and keyword list to predict the rating.\n",
    "\n",
    "Transform this regression problem into a binary classifier and clean up the feature set.\n",
    "You can choose whether or not to include nutritional information, but try to cut your feature set down to the 30 most valuable features.\n",
    "\n",
    "When you've finished that, also take a moment to think about bias. Is there anything in this dataset that makes you think it could be biased, perhaps extremely so?\n",
    "\n",
    "There is. Several things in fact, but most glaringly is that we don't actually have a random sample. It could be, and probably is, that the people more likely to choose some kinds of recipes are more likely to give high reviews.\n",
    "\n",
    "After all, people who eat chocolate might just be happier people."
   ]
  },
  {
   "cell_type": "code",
   "execution_count": 1,
   "metadata": {
    "collapsed": true
   },
   "outputs": [],
   "source": [
    "import numpy as np\n",
    "import pandas as pd\n",
    "import scipy\n",
    "import matplotlib.pyplot as plt\n",
    "import seaborn as sns\n",
    "%matplotlib inline"
   ]
  },
  {
   "cell_type": "markdown",
   "metadata": {},
   "source": [
    "First let's load the dataset. It's [available on Kaggle](https://www.kaggle.com/hugodarwood/epirecipes)."
   ]
  },
  {
   "cell_type": "code",
   "execution_count": 2,
   "metadata": {},
   "outputs": [
    {
     "data": {
      "text/html": [
       "<div>\n",
       "<style scoped>\n",
       "    .dataframe tbody tr th:only-of-type {\n",
       "        vertical-align: middle;\n",
       "    }\n",
       "\n",
       "    .dataframe tbody tr th {\n",
       "        vertical-align: top;\n",
       "    }\n",
       "\n",
       "    .dataframe thead th {\n",
       "        text-align: right;\n",
       "    }\n",
       "</style>\n",
       "<table border=\"1\" class=\"dataframe\">\n",
       "  <thead>\n",
       "    <tr style=\"text-align: right;\">\n",
       "      <th></th>\n",
       "      <th>rating</th>\n",
       "      <th>calories</th>\n",
       "      <th>protein</th>\n",
       "      <th>fat</th>\n",
       "      <th>sodium</th>\n",
       "      <th>#cakeweek</th>\n",
       "      <th>#wasteless</th>\n",
       "      <th>22-minute meals</th>\n",
       "      <th>3-ingredient recipes</th>\n",
       "      <th>30 days of groceries</th>\n",
       "      <th>...</th>\n",
       "      <th>yellow squash</th>\n",
       "      <th>yogurt</th>\n",
       "      <th>yonkers</th>\n",
       "      <th>yuca</th>\n",
       "      <th>zucchini</th>\n",
       "      <th>cookbooks</th>\n",
       "      <th>leftovers</th>\n",
       "      <th>snack</th>\n",
       "      <th>snack week</th>\n",
       "      <th>turkey</th>\n",
       "    </tr>\n",
       "    <tr>\n",
       "      <th>title</th>\n",
       "      <th></th>\n",
       "      <th></th>\n",
       "      <th></th>\n",
       "      <th></th>\n",
       "      <th></th>\n",
       "      <th></th>\n",
       "      <th></th>\n",
       "      <th></th>\n",
       "      <th></th>\n",
       "      <th></th>\n",
       "      <th></th>\n",
       "      <th></th>\n",
       "      <th></th>\n",
       "      <th></th>\n",
       "      <th></th>\n",
       "      <th></th>\n",
       "      <th></th>\n",
       "      <th></th>\n",
       "      <th></th>\n",
       "      <th></th>\n",
       "      <th></th>\n",
       "    </tr>\n",
       "  </thead>\n",
       "  <tbody>\n",
       "    <tr>\n",
       "      <th>Lentil, Apple, and Turkey Wrap</th>\n",
       "      <td>2.500</td>\n",
       "      <td>426.0</td>\n",
       "      <td>30.0</td>\n",
       "      <td>7.0</td>\n",
       "      <td>559.0</td>\n",
       "      <td>0.0</td>\n",
       "      <td>0.0</td>\n",
       "      <td>0.0</td>\n",
       "      <td>0.0</td>\n",
       "      <td>0.0</td>\n",
       "      <td>...</td>\n",
       "      <td>0.0</td>\n",
       "      <td>0.0</td>\n",
       "      <td>0.0</td>\n",
       "      <td>0.0</td>\n",
       "      <td>0.0</td>\n",
       "      <td>0.0</td>\n",
       "      <td>0.0</td>\n",
       "      <td>0.0</td>\n",
       "      <td>0.0</td>\n",
       "      <td>1.0</td>\n",
       "    </tr>\n",
       "    <tr>\n",
       "      <th>Boudin Blanc Terrine with Red Onion Confit</th>\n",
       "      <td>4.375</td>\n",
       "      <td>403.0</td>\n",
       "      <td>18.0</td>\n",
       "      <td>23.0</td>\n",
       "      <td>1439.0</td>\n",
       "      <td>0.0</td>\n",
       "      <td>0.0</td>\n",
       "      <td>0.0</td>\n",
       "      <td>0.0</td>\n",
       "      <td>0.0</td>\n",
       "      <td>...</td>\n",
       "      <td>0.0</td>\n",
       "      <td>0.0</td>\n",
       "      <td>0.0</td>\n",
       "      <td>0.0</td>\n",
       "      <td>0.0</td>\n",
       "      <td>0.0</td>\n",
       "      <td>0.0</td>\n",
       "      <td>0.0</td>\n",
       "      <td>0.0</td>\n",
       "      <td>0.0</td>\n",
       "    </tr>\n",
       "    <tr>\n",
       "      <th>Potato and Fennel Soup Hodge</th>\n",
       "      <td>3.750</td>\n",
       "      <td>165.0</td>\n",
       "      <td>6.0</td>\n",
       "      <td>7.0</td>\n",
       "      <td>165.0</td>\n",
       "      <td>0.0</td>\n",
       "      <td>0.0</td>\n",
       "      <td>0.0</td>\n",
       "      <td>0.0</td>\n",
       "      <td>0.0</td>\n",
       "      <td>...</td>\n",
       "      <td>0.0</td>\n",
       "      <td>0.0</td>\n",
       "      <td>0.0</td>\n",
       "      <td>0.0</td>\n",
       "      <td>0.0</td>\n",
       "      <td>0.0</td>\n",
       "      <td>0.0</td>\n",
       "      <td>0.0</td>\n",
       "      <td>0.0</td>\n",
       "      <td>0.0</td>\n",
       "    </tr>\n",
       "    <tr>\n",
       "      <th>Mahi-Mahi in Tomato Olive Sauce</th>\n",
       "      <td>5.000</td>\n",
       "      <td>NaN</td>\n",
       "      <td>NaN</td>\n",
       "      <td>NaN</td>\n",
       "      <td>NaN</td>\n",
       "      <td>0.0</td>\n",
       "      <td>0.0</td>\n",
       "      <td>0.0</td>\n",
       "      <td>0.0</td>\n",
       "      <td>0.0</td>\n",
       "      <td>...</td>\n",
       "      <td>0.0</td>\n",
       "      <td>0.0</td>\n",
       "      <td>0.0</td>\n",
       "      <td>0.0</td>\n",
       "      <td>0.0</td>\n",
       "      <td>0.0</td>\n",
       "      <td>0.0</td>\n",
       "      <td>0.0</td>\n",
       "      <td>0.0</td>\n",
       "      <td>0.0</td>\n",
       "    </tr>\n",
       "    <tr>\n",
       "      <th>Spinach Noodle Casserole</th>\n",
       "      <td>3.125</td>\n",
       "      <td>547.0</td>\n",
       "      <td>20.0</td>\n",
       "      <td>32.0</td>\n",
       "      <td>452.0</td>\n",
       "      <td>0.0</td>\n",
       "      <td>0.0</td>\n",
       "      <td>0.0</td>\n",
       "      <td>0.0</td>\n",
       "      <td>0.0</td>\n",
       "      <td>...</td>\n",
       "      <td>0.0</td>\n",
       "      <td>0.0</td>\n",
       "      <td>0.0</td>\n",
       "      <td>0.0</td>\n",
       "      <td>0.0</td>\n",
       "      <td>0.0</td>\n",
       "      <td>0.0</td>\n",
       "      <td>0.0</td>\n",
       "      <td>0.0</td>\n",
       "      <td>0.0</td>\n",
       "    </tr>\n",
       "  </tbody>\n",
       "</table>\n",
       "<p>5 rows × 679 columns</p>\n",
       "</div>"
      ],
      "text/plain": [
       "                                             rating  calories  protein   fat  \\\n",
       "title                                                                          \n",
       "Lentil, Apple, and Turkey Wrap                2.500     426.0     30.0   7.0   \n",
       "Boudin Blanc Terrine with Red Onion Confit    4.375     403.0     18.0  23.0   \n",
       "Potato and Fennel Soup Hodge                  3.750     165.0      6.0   7.0   \n",
       "Mahi-Mahi in Tomato Olive Sauce               5.000       NaN      NaN   NaN   \n",
       "Spinach Noodle Casserole                      3.125     547.0     20.0  32.0   \n",
       "\n",
       "                                             sodium  #cakeweek  #wasteless  \\\n",
       "title                                                                        \n",
       "Lentil, Apple, and Turkey Wrap                559.0        0.0         0.0   \n",
       "Boudin Blanc Terrine with Red Onion Confit   1439.0        0.0         0.0   \n",
       "Potato and Fennel Soup Hodge                  165.0        0.0         0.0   \n",
       "Mahi-Mahi in Tomato Olive Sauce                 NaN        0.0         0.0   \n",
       "Spinach Noodle Casserole                      452.0        0.0         0.0   \n",
       "\n",
       "                                             22-minute meals  \\\n",
       "title                                                          \n",
       "Lentil, Apple, and Turkey Wrap                           0.0   \n",
       "Boudin Blanc Terrine with Red Onion Confit               0.0   \n",
       "Potato and Fennel Soup Hodge                             0.0   \n",
       "Mahi-Mahi in Tomato Olive Sauce                          0.0   \n",
       "Spinach Noodle Casserole                                 0.0   \n",
       "\n",
       "                                             3-ingredient recipes  \\\n",
       "title                                                               \n",
       "Lentil, Apple, and Turkey Wrap                                0.0   \n",
       "Boudin Blanc Terrine with Red Onion Confit                    0.0   \n",
       "Potato and Fennel Soup Hodge                                  0.0   \n",
       "Mahi-Mahi in Tomato Olive Sauce                               0.0   \n",
       "Spinach Noodle Casserole                                      0.0   \n",
       "\n",
       "                                             30 days of groceries   ...    \\\n",
       "title                                                               ...     \n",
       "Lentil, Apple, and Turkey Wrap                                0.0   ...     \n",
       "Boudin Blanc Terrine with Red Onion Confit                    0.0   ...     \n",
       "Potato and Fennel Soup Hodge                                  0.0   ...     \n",
       "Mahi-Mahi in Tomato Olive Sauce                               0.0   ...     \n",
       "Spinach Noodle Casserole                                      0.0   ...     \n",
       "\n",
       "                                             yellow squash  yogurt  yonkers  \\\n",
       "title                                                                         \n",
       "Lentil, Apple, and Turkey Wrap                         0.0     0.0      0.0   \n",
       "Boudin Blanc Terrine with Red Onion Confit             0.0     0.0      0.0   \n",
       "Potato and Fennel Soup Hodge                           0.0     0.0      0.0   \n",
       "Mahi-Mahi in Tomato Olive Sauce                        0.0     0.0      0.0   \n",
       "Spinach Noodle Casserole                               0.0     0.0      0.0   \n",
       "\n",
       "                                             yuca  zucchini  cookbooks  \\\n",
       "title                                                                    \n",
       "Lentil, Apple, and Turkey Wrap                0.0       0.0        0.0   \n",
       "Boudin Blanc Terrine with Red Onion Confit    0.0       0.0        0.0   \n",
       "Potato and Fennel Soup Hodge                  0.0       0.0        0.0   \n",
       "Mahi-Mahi in Tomato Olive Sauce               0.0       0.0        0.0   \n",
       "Spinach Noodle Casserole                      0.0       0.0        0.0   \n",
       "\n",
       "                                             leftovers  snack  snack week  \\\n",
       "title                                                                       \n",
       "Lentil, Apple, and Turkey Wrap                     0.0    0.0         0.0   \n",
       "Boudin Blanc Terrine with Red Onion Confit         0.0    0.0         0.0   \n",
       "Potato and Fennel Soup Hodge                       0.0    0.0         0.0   \n",
       "Mahi-Mahi in Tomato Olive Sauce                    0.0    0.0         0.0   \n",
       "Spinach Noodle Casserole                           0.0    0.0         0.0   \n",
       "\n",
       "                                             turkey  \n",
       "title                                                \n",
       "Lentil, Apple, and Turkey Wrap                  1.0  \n",
       "Boudin Blanc Terrine with Red Onion Confit      0.0  \n",
       "Potato and Fennel Soup Hodge                    0.0  \n",
       "Mahi-Mahi in Tomato Olive Sauce                 0.0  \n",
       "Spinach Noodle Casserole                        0.0  \n",
       "\n",
       "[5 rows x 679 columns]"
      ]
     },
     "execution_count": 2,
     "metadata": {},
     "output_type": "execute_result"
    }
   ],
   "source": [
    "PATH =('https://tf-assets-prod.s3.amazonaws.com/tf-curric/data-science/epi_r.csv'\n",
    ")\n",
    "# set title column as index\n",
    "raw_data = pd.read_csv(PATH, index_col=0)\n",
    "raw_data.head()"
   ]
  },
  {
   "cell_type": "markdown",
   "metadata": {},
   "source": [
    "### Visual EDA"
   ]
  },
  {
   "cell_type": "code",
   "execution_count": 3,
   "metadata": {},
   "outputs": [],
   "source": [
    "#list(raw_data.columns)"
   ]
  },
  {
   "cell_type": "code",
   "execution_count": 4,
   "metadata": {},
   "outputs": [
    {
     "data": {
      "text/plain": [
       "count    20052.000000\n",
       "mean         3.714467\n",
       "std          1.340829\n",
       "min          0.000000\n",
       "25%          3.750000\n",
       "50%          4.375000\n",
       "75%          4.375000\n",
       "max          5.000000\n",
       "Name: rating, dtype: float64"
      ]
     },
     "execution_count": 4,
     "metadata": {},
     "output_type": "execute_result"
    }
   ],
   "source": [
    "raw_data.rating.describe()"
   ]
  },
  {
   "cell_type": "code",
   "execution_count": 5,
   "metadata": {
    "scrolled": false
   },
   "outputs": [
    {
     "data": {
      "image/png": "[encoded data removed]",
      "text/plain": [
       "<Figure size 432x288 with 1 Axes>"
      ]
     },
     "metadata": {
      "needs_background": "light"
     },
     "output_type": "display_data"
    }
   ],
   "source": [
    "raw_data.rating.hist(bins=20)\n",
    "plt.title('Recipe Ratings')\n",
    "plt.show()"
   ]
  },
  {
   "cell_type": "markdown",
   "metadata": {},
   "source": [
    "### Clean Data\n",
    "Let's see if we can transform the distribution of the rating data."
   ]
  },
  {
   "cell_type": "code",
   "execution_count": 6,
   "metadata": {},
   "outputs": [
    {
     "data": {
      "text/plain": [
       "count    20052.000000\n",
       "mean         1.468796\n",
       "std          0.487763\n",
       "min          0.000000\n",
       "25%          1.558145\n",
       "50%          1.681759\n",
       "75%          1.681759\n",
       "max          1.791759\n",
       "Name: log_rating, dtype: float64"
      ]
     },
     "execution_count": 6,
     "metadata": {},
     "output_type": "execute_result"
    }
   ],
   "source": [
    "# perform log transformation on ratings\n",
    "raw_data['log_rating'] = np.log1p(raw_data['rating'])\n",
    "raw_data['log_rating'].describe()"
   ]
  },
  {
   "cell_type": "code",
   "execution_count": 7,
   "metadata": {},
   "outputs": [
    {
     "data": {
      "image/png": "[encoded data removed]",
      "text/plain": [
       "<Figure size 432x288 with 1 Axes>"
      ]
     },
     "metadata": {
      "needs_background": "light"
     },
     "output_type": "display_data"
    }
   ],
   "source": [
    "raw_data.log_rating.hist(bins=20)\n",
    "plt.title('log(Recipe Ratings)')\n",
    "plt.show()"
   ]
  },
  {
   "cell_type": "markdown",
   "metadata": {},
   "source": [
    "That's better. Now the distribution of the ratings data looks more like a binomial distribution.\n",
    "We can see that the data clusters at either 0 or above 1.5.\n",
    "\n",
    "We can now convert our log(ratings) data to a binary feature where any rating over 1.5 is a 'high rating' and anything below it is a 'low rating'"
   ]
  },
  {
   "cell_type": "code",
   "execution_count": 8,
   "metadata": {},
   "outputs": [
    {
     "data": {
      "text/plain": [
       "1    15907\n",
       "0     4145\n",
       "Name: high_rating, dtype: int64"
      ]
     },
     "execution_count": 8,
     "metadata": {},
     "output_type": "execute_result"
    }
   ],
   "source": [
    "# define binary 'high rating' feature\n",
    "raw_data['high_rating'] = np.where(\n",
    "    raw_data['log_rating'] > 1.5, 1, 0\n",
    ")\n",
    "\n",
    "raw_data['high_rating'].value_counts()"
   ]
  },
  {
   "cell_type": "markdown",
   "metadata": {},
   "source": [
    "### Feature Selection\n",
    "\n",
    "Now that our ratings data is ready to go, let's select our features.\n",
    "\n",
    "Let's take the sum of each feature (excluding ratings and nutritional info), as each feature is binary and the sum will represent the frequency of those ingredients showing up in recipes."
   ]
  },
  {
   "cell_type": "code",
   "execution_count": 18,
   "metadata": {},
   "outputs": [],
   "source": [
    "drop_list = ['rating', 'log_rating',\n",
    "             #'log_calories', 'log_protein', 'log_fat', 'log_sodium',\n",
    "             'calories', 'protein', 'fat', 'sodium'\n",
    "            ]\n",
    "features = raw_data.drop(drop_list, axis=1)\n",
    "\n",
    "data = features.drop('high_rating', axis=1)\n",
    "target = features['high_rating']"
   ]
  },
  {
   "cell_type": "code",
   "execution_count": 74,
   "metadata": {},
   "outputs": [
    {
     "data": {
      "text/plain": [
       "(20052, 674)"
      ]
     },
     "metadata": {},
     "output_type": "display_data"
    }
   ],
   "source": [
    "# import select kbest\n",
    "# select top 30 features\n",
    "#from sklearn.datasets import load_digits\n",
    "from sklearn.feature_selection import SelectKBest, chi2\n",
    "\n",
    "display(data.shape)\n",
    "classifier = SelectKBest(chi2, k=30).fit(data, target)"
   ]
  },
  {
   "cell_type": "code",
   "execution_count": 75,
   "metadata": {},
   "outputs": [
    {
     "data": {
      "text/html": [
       "<div>\n",
       "<style scoped>\n",
       "    .dataframe tbody tr th:only-of-type {\n",
       "        vertical-align: middle;\n",
       "    }\n",
       "\n",
       "    .dataframe tbody tr th {\n",
       "        vertical-align: top;\n",
       "    }\n",
       "\n",
       "    .dataframe thead th {\n",
       "        text-align: right;\n",
       "    }\n",
       "</style>\n",
       "<table border=\"1\" class=\"dataframe\">\n",
       "  <thead>\n",
       "    <tr style=\"text-align: right;\">\n",
       "      <th></th>\n",
       "      <th>alcoholic</th>\n",
       "      <th>bake</th>\n",
       "      <th>bitters</th>\n",
       "      <th>bon appétit</th>\n",
       "      <th>brandy</th>\n",
       "      <th>cocktail</th>\n",
       "      <th>cocktail party</th>\n",
       "      <th>condiment</th>\n",
       "      <th>créme de cacao</th>\n",
       "      <th>drink</th>\n",
       "      <th>...</th>\n",
       "      <th>roast</th>\n",
       "      <th>rum</th>\n",
       "      <th>sauté</th>\n",
       "      <th>soy free</th>\n",
       "      <th>spirit</th>\n",
       "      <th>tomato</th>\n",
       "      <th>tree nut free</th>\n",
       "      <th>vegan</th>\n",
       "      <th>weelicious</th>\n",
       "      <th>winter</th>\n",
       "    </tr>\n",
       "    <tr>\n",
       "      <th>title</th>\n",
       "      <th></th>\n",
       "      <th></th>\n",
       "      <th></th>\n",
       "      <th></th>\n",
       "      <th></th>\n",
       "      <th></th>\n",
       "      <th></th>\n",
       "      <th></th>\n",
       "      <th></th>\n",
       "      <th></th>\n",
       "      <th></th>\n",
       "      <th></th>\n",
       "      <th></th>\n",
       "      <th></th>\n",
       "      <th></th>\n",
       "      <th></th>\n",
       "      <th></th>\n",
       "      <th></th>\n",
       "      <th></th>\n",
       "      <th></th>\n",
       "      <th></th>\n",
       "    </tr>\n",
       "  </thead>\n",
       "  <tbody>\n",
       "    <tr>\n",
       "      <th>Lentil, Apple, and Turkey Wrap</th>\n",
       "      <td>0.0</td>\n",
       "      <td>0.0</td>\n",
       "      <td>0.0</td>\n",
       "      <td>0.0</td>\n",
       "      <td>0.0</td>\n",
       "      <td>0.0</td>\n",
       "      <td>0.0</td>\n",
       "      <td>0.0</td>\n",
       "      <td>0.0</td>\n",
       "      <td>0.0</td>\n",
       "      <td>...</td>\n",
       "      <td>0.0</td>\n",
       "      <td>0.0</td>\n",
       "      <td>0.0</td>\n",
       "      <td>0.0</td>\n",
       "      <td>0.0</td>\n",
       "      <td>1.0</td>\n",
       "      <td>0.0</td>\n",
       "      <td>0.0</td>\n",
       "      <td>0.0</td>\n",
       "      <td>0.0</td>\n",
       "    </tr>\n",
       "    <tr>\n",
       "      <th>Boudin Blanc Terrine with Red Onion Confit</th>\n",
       "      <td>0.0</td>\n",
       "      <td>1.0</td>\n",
       "      <td>0.0</td>\n",
       "      <td>1.0</td>\n",
       "      <td>0.0</td>\n",
       "      <td>0.0</td>\n",
       "      <td>0.0</td>\n",
       "      <td>0.0</td>\n",
       "      <td>0.0</td>\n",
       "      <td>0.0</td>\n",
       "      <td>...</td>\n",
       "      <td>0.0</td>\n",
       "      <td>0.0</td>\n",
       "      <td>0.0</td>\n",
       "      <td>0.0</td>\n",
       "      <td>0.0</td>\n",
       "      <td>0.0</td>\n",
       "      <td>0.0</td>\n",
       "      <td>0.0</td>\n",
       "      <td>0.0</td>\n",
       "      <td>1.0</td>\n",
       "    </tr>\n",
       "    <tr>\n",
       "      <th>Potato and Fennel Soup Hodge</th>\n",
       "      <td>0.0</td>\n",
       "      <td>0.0</td>\n",
       "      <td>0.0</td>\n",
       "      <td>0.0</td>\n",
       "      <td>0.0</td>\n",
       "      <td>0.0</td>\n",
       "      <td>0.0</td>\n",
       "      <td>0.0</td>\n",
       "      <td>0.0</td>\n",
       "      <td>0.0</td>\n",
       "      <td>...</td>\n",
       "      <td>0.0</td>\n",
       "      <td>0.0</td>\n",
       "      <td>0.0</td>\n",
       "      <td>0.0</td>\n",
       "      <td>0.0</td>\n",
       "      <td>0.0</td>\n",
       "      <td>0.0</td>\n",
       "      <td>0.0</td>\n",
       "      <td>0.0</td>\n",
       "      <td>0.0</td>\n",
       "    </tr>\n",
       "    <tr>\n",
       "      <th>Mahi-Mahi in Tomato Olive Sauce</th>\n",
       "      <td>0.0</td>\n",
       "      <td>0.0</td>\n",
       "      <td>0.0</td>\n",
       "      <td>1.0</td>\n",
       "      <td>0.0</td>\n",
       "      <td>0.0</td>\n",
       "      <td>0.0</td>\n",
       "      <td>0.0</td>\n",
       "      <td>0.0</td>\n",
       "      <td>0.0</td>\n",
       "      <td>...</td>\n",
       "      <td>0.0</td>\n",
       "      <td>0.0</td>\n",
       "      <td>1.0</td>\n",
       "      <td>1.0</td>\n",
       "      <td>0.0</td>\n",
       "      <td>1.0</td>\n",
       "      <td>1.0</td>\n",
       "      <td>0.0</td>\n",
       "      <td>0.0</td>\n",
       "      <td>0.0</td>\n",
       "    </tr>\n",
       "    <tr>\n",
       "      <th>Spinach Noodle Casserole</th>\n",
       "      <td>0.0</td>\n",
       "      <td>1.0</td>\n",
       "      <td>0.0</td>\n",
       "      <td>1.0</td>\n",
       "      <td>0.0</td>\n",
       "      <td>0.0</td>\n",
       "      <td>0.0</td>\n",
       "      <td>0.0</td>\n",
       "      <td>0.0</td>\n",
       "      <td>0.0</td>\n",
       "      <td>...</td>\n",
       "      <td>0.0</td>\n",
       "      <td>0.0</td>\n",
       "      <td>0.0</td>\n",
       "      <td>0.0</td>\n",
       "      <td>0.0</td>\n",
       "      <td>0.0</td>\n",
       "      <td>0.0</td>\n",
       "      <td>0.0</td>\n",
       "      <td>0.0</td>\n",
       "      <td>0.0</td>\n",
       "    </tr>\n",
       "  </tbody>\n",
       "</table>\n",
       "<p>5 rows × 30 columns</p>\n",
       "</div>"
      ],
      "text/plain": [
       "                                             alcoholic  bake  bitters  \\\n",
       "title                                                                   \n",
       "Lentil, Apple, and Turkey Wrap                     0.0   0.0      0.0   \n",
       "Boudin Blanc Terrine with Red Onion Confit         0.0   1.0      0.0   \n",
       "Potato and Fennel Soup Hodge                       0.0   0.0      0.0   \n",
       "Mahi-Mahi in Tomato Olive Sauce                    0.0   0.0      0.0   \n",
       "Spinach Noodle Casserole                           0.0   1.0      0.0   \n",
       "\n",
       "                                             bon appétit  brandy  cocktail  \\\n",
       "title                                                                        \n",
       "Lentil, Apple, and Turkey Wrap                       0.0     0.0       0.0   \n",
       "Boudin Blanc Terrine with Red Onion Confit           1.0     0.0       0.0   \n",
       "Potato and Fennel Soup Hodge                         0.0     0.0       0.0   \n",
       "Mahi-Mahi in Tomato Olive Sauce                      1.0     0.0       0.0   \n",
       "Spinach Noodle Casserole                             1.0     0.0       0.0   \n",
       "\n",
       "                                             cocktail party  condiment  \\\n",
       "title                                                                    \n",
       "Lentil, Apple, and Turkey Wrap                          0.0        0.0   \n",
       "Boudin Blanc Terrine with Red Onion Confit              0.0        0.0   \n",
       "Potato and Fennel Soup Hodge                            0.0        0.0   \n",
       "Mahi-Mahi in Tomato Olive Sauce                         0.0        0.0   \n",
       "Spinach Noodle Casserole                                0.0        0.0   \n",
       "\n",
       "                                             créme de cacao  drink   ...    \\\n",
       "title                                                                ...     \n",
       "Lentil, Apple, and Turkey Wrap                          0.0    0.0   ...     \n",
       "Boudin Blanc Terrine with Red Onion Confit              0.0    0.0   ...     \n",
       "Potato and Fennel Soup Hodge                            0.0    0.0   ...     \n",
       "Mahi-Mahi in Tomato Olive Sauce                         0.0    0.0   ...     \n",
       "Spinach Noodle Casserole                                0.0    0.0   ...     \n",
       "\n",
       "                                             roast  rum  sauté  soy free  \\\n",
       "title                                                                      \n",
       "Lentil, Apple, and Turkey Wrap                 0.0  0.0    0.0       0.0   \n",
       "Boudin Blanc Terrine with Red Onion Confit     0.0  0.0    0.0       0.0   \n",
       "Potato and Fennel Soup Hodge                   0.0  0.0    0.0       0.0   \n",
       "Mahi-Mahi in Tomato Olive Sauce                0.0  0.0    1.0       1.0   \n",
       "Spinach Noodle Casserole                       0.0  0.0    0.0       0.0   \n",
       "\n",
       "                                             spirit  tomato  tree nut free  \\\n",
       "title                                                                        \n",
       "Lentil, Apple, and Turkey Wrap                  0.0     1.0            0.0   \n",
       "Boudin Blanc Terrine with Red Onion Confit      0.0     0.0            0.0   \n",
       "Potato and Fennel Soup Hodge                    0.0     0.0            0.0   \n",
       "Mahi-Mahi in Tomato Olive Sauce                 0.0     1.0            1.0   \n",
       "Spinach Noodle Casserole                        0.0     0.0            0.0   \n",
       "\n",
       "                                             vegan  weelicious  winter  \n",
       "title                                                                   \n",
       "Lentil, Apple, and Turkey Wrap                 0.0         0.0     0.0  \n",
       "Boudin Blanc Terrine with Red Onion Confit     0.0         0.0     1.0  \n",
       "Potato and Fennel Soup Hodge                   0.0         0.0     0.0  \n",
       "Mahi-Mahi in Tomato Olive Sauce                0.0         0.0     0.0  \n",
       "Spinach Noodle Casserole                       0.0         0.0     0.0  \n",
       "\n",
       "[5 rows x 30 columns]"
      ]
     },
     "execution_count": 75,
     "metadata": {},
     "output_type": "execute_result"
    }
   ],
   "source": [
    "# Create new dataframe with only desired columns, or overwrite existing\n",
    "feature_names = list(data.columns.values)\n",
    "\n",
    "# Get columns to keep\n",
    "mask = classifier.get_support() #list of booleans\n",
    "new_features = [] # The list of your K best features\n",
    "\n",
    "for bool, feature in zip(cols, feature_names):\n",
    "    if bool:\n",
    "        new_features.append(feature)\n",
    "        \n",
    "data_new = data[new_features]\n",
    "data_new.head()"
   ]
  },
  {
   "cell_type": "markdown",
   "metadata": {},
   "source": [
    "Now we have the most frequently occuring ingredients as our feature list.\n",
    "\n",
    "Let's make sure there's no correlation between our features."
   ]
  },
  {
   "cell_type": "code",
   "execution_count": 76,
   "metadata": {},
   "outputs": [
    {
     "data": {
      "image/png": "[encoded data removed]",
      "text/plain": [
       "<Figure size 432x288 with 2 Axes>"
      ]
     },
     "metadata": {
      "needs_background": "light"
     },
     "output_type": "display_data"
    }
   ],
   "source": [
    "# plot a heatmap\n",
    "sns.heatmap(data_new.corr());"
   ]
  },
  {
   "cell_type": "markdown",
   "metadata": {},
   "source": [
    "It looks like we have some correlated features.\n",
    "Let's drop anything with over a 90% correlation."
   ]
  },
  {
   "cell_type": "code",
   "execution_count": 77,
   "metadata": {},
   "outputs": [
    {
     "data": {
      "text/plain": [
       "(20052, 30)"
      ]
     },
     "metadata": {},
     "output_type": "display_data"
    },
    {
     "data": {
      "text/plain": [
       "(20052, 29)"
      ]
     },
     "execution_count": 77,
     "metadata": {},
     "output_type": "execute_result"
    }
   ],
   "source": [
    "# Create correlation matrix\n",
    "corr_matrix = data_new.corr().abs()\n",
    "\n",
    "# Select upper triangle of correlation matrix\n",
    "upper = corr_matrix.where(np.triu(np.ones(corr_matrix.shape), k=1).astype(np.bool))\n",
    "\n",
    "# Find index of feature columns with correlation greater than 0.90\n",
    "to_drop = [column for column in upper.columns if any(upper[column] > 0.90)]\n",
    "\n",
    "display(data_new.shape)\n",
    "\n",
    "# Drop correlated features \n",
    "for i in to_drop:\n",
    "    data_new = data_new.drop(i, axis=1)\n",
    "\n",
    "data_new.shape"
   ]
  },
  {
   "cell_type": "markdown",
   "metadata": {},
   "source": [
    "Now we've dropped our correlated features and we're ready to model."
   ]
  },
  {
   "cell_type": "markdown",
   "metadata": {},
   "source": [
    "### Model Data"
   ]
  },
  {
   "cell_type": "code",
   "execution_count": 78,
   "metadata": {},
   "outputs": [
    {
     "name": "stderr",
     "output_type": "stream",
     "text": [
      "C:\\Users\\Aaron\\AppData\\Local\\Programs\\Python\\Python37\\lib\\site-packages\\sklearn\\linear_model\\logistic.py:433: FutureWarning: Default solver will be changed to 'lbfgs' in 0.22. Specify a solver to silence this warning.\n",
      "  FutureWarning)\n"
     ]
    },
    {
     "name": "stdout",
     "output_type": "stream",
     "text": [
      "Logistic Regression\n",
      "\n",
      "Accuracy training set:\n",
      "0.8035035222243002\n",
      "\n",
      "Accuracy test set:\n",
      "0.8110196958364497\n"
     ]
    }
   ],
   "source": [
    "from sklearn.model_selection import train_test_split\n",
    "X_train, X_test, y_train, y_test = train_test_split(\n",
    "    data_new, target, test_size=0.2, random_state=42)\n",
    "\n",
    "from sklearn.linear_model import LogisticRegression\n",
    "# Declare a logistic regression classifier.\n",
    "lr = LogisticRegression()\n",
    "\n",
    "# Fit the model.\n",
    "fit = lr.fit(X_train,y_train)\n",
    "\n",
    "# Display.\n",
    "print('Logistic Regression')\n",
    "print('\\nAccuracy training set:')\n",
    "print(lr.score(X_train, y_train))\n",
    "\n",
    "#Store the parameter estimates.\n",
    "origparams = np.append(lr.coef_, lr.intercept_)\n",
    "#print('\\nParameter estimates:')\n",
    "#print(origparams)\n",
    "\n",
    "print('\\nAccuracy test set:')\n",
    "print(lr.score(X_test, y_test))"
   ]
  },
  {
   "cell_type": "markdown",
   "metadata": {},
   "source": [
    "Excellent, our binary classifier has a consistent accuracy across both the training and test sets."
   ]
  },
  {
   "cell_type": "markdown",
   "metadata": {},
   "source": [
    "### Conclusion"
   ]
  },
  {
   "cell_type": "code",
   "execution_count": 81,
   "metadata": {},
   "outputs": [
    {
     "name": "stdout",
     "output_type": "stream",
     "text": [
      "['alcoholic' 'bake' 'bitters' 'bon appétit' 'brandy' 'cocktail'\n",
      " 'cocktail party' 'condiment' 'créme de cacao' 'drink' 'fall'\n",
      " 'fortified wine' 'gin' 'harpercollins' 'house & garden' 'lime juice'\n",
      " 'liqueur' 'low carb' 'non-alcoholic' 'peanut free' 'roast' 'rum' 'sauté'\n",
      " 'spirit' 'tomato' 'tree nut free' 'vegan' 'weelicious' 'winter']\n"
     ]
    }
   ],
   "source": [
    "print(data_new.columns.values)"
   ]
  },
  {
   "cell_type": "markdown",
   "metadata": {},
   "source": [
    "Our binary classifier had approximately an 80% accuracy of predicting a high rating recipe based on our top 30 recipe ingredients.\n",
    "\n",
    "This means that we could make an informed recommendation to someone writing a blog, cookbook, or website about the topics to include to maximize web traffic or review ratings.\n",
    "\n",
    "Our classifier doesn't address potential bias in our model, though.\n",
    "We did randomly select our training and test sets, which can reduce bias and overfitting.\n",
    "Though it doesn't account for bias in the data collection method.\n",
    "\n",
    "In order to review a recipe, a user has to 'opt in', they can just as easily choose not to review the recipe.\n",
    "Therefore the reviewer must have a strong motivation, either positive or negative, to take time to rate a recipe.\n",
    "We can see this in the binary nature of the recipe reviews.\n",
    "The data was skewed to either extreme; recipes either received a high rating or a rating of 0.\n",
    "\n",
    "It's likely that the binary nature of the data biased the feature selection process.\n",
    "We can see that many of the features are dietary-specific, such as allergies (peanut, soy, tree nut, gluten) and dietary restrictions (kosher, no sugar added, pescatarian).\n",
    "It's possible people seeking this type of information are more likely to give a positive review to a recipe specific to their dietary needs rather than someone seeking a recipe to use up their leftover onions sitting in their pantry.\n",
    "\n",
    "This isn't totally useless information, though.\n",
    "Instead of recommending a static list of recipe ingredients for an author or blogger, we could recommend a list of topics to build recipes around.\n",
    "For example, a cookbook or blog dedicated to allergy-specific recipes, or a recipe list to use up pantry staples.\n",
    "\n",
    "If we wanted to fine tune our model even more, we could categorize our features based on type.\n",
    "Group allergens together, fresh ingredients such as fruits and vegetables together, and recipe descriptors such as 'kid-friendly' or 'vegan'.\n",
    "Then we can get could possibly adjust for bias in the data collecting methods, as recipes containing chocolate won't out rank recipes for raw, vegan, no bake gluten free fiber bars and vice versa."
   ]
  }
 ],
 "metadata": {
  "kernelspec": {
   "display_name": "Python 3",
   "language": "python",
   "name": "python3"
  },
  "language_info": {
   "codemirror_mode": {
    "name": "ipython",
    "version": 3
   },
   "file_extension": ".py",
   "mimetype": "text/x-python",
   "name": "python",
   "nbconvert_exporter": "python",
   "pygments_lexer": "ipython3",
   "version": "3.7.1"
  }
 },
 "nbformat": 4,
 "nbformat_minor": 2
}
