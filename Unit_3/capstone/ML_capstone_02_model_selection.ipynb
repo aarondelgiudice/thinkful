{
 "cells": [
  {
   "cell_type": "markdown",
   "metadata": {},
   "source": [
    "# Bank Transaction Classifier\n",
    "## Model Selection"
   ]
  },
  {
   "cell_type": "code",
   "execution_count": 1,
   "metadata": {
    "collapsed": true
   },
   "outputs": [],
   "source": [
    "import numpy as np\n",
    "import pandas as pd\n",
    "import matplotlib.pyplot as plt\n",
    "%matplotlib inline\n",
    "import seaborn as sns\n",
    "\n",
    "from sklearn.metrics import mean_squared_error, mean_absolute_error, accuracy_score\n",
    "\n",
    "# Area Under the Precision-Recall Curve \n",
    "from sklearn.metrics import roc_curve, roc_auc_score, precision_recall_curve\n",
    "from sklearn.metrics import f1_score, auc, average_precision_score"
   ]
  },
  {
   "cell_type": "markdown",
   "metadata": {},
   "source": [
    "### Import data"
   ]
  },
  {
   "cell_type": "code",
   "execution_count": 2,
   "metadata": {},
   "outputs": [
    {
     "data": {
      "text/html": [
       "<div>\n",
       "<style scoped>\n",
       "    .dataframe tbody tr th:only-of-type {\n",
       "        vertical-align: middle;\n",
       "    }\n",
       "\n",
       "    .dataframe tbody tr th {\n",
       "        vertical-align: top;\n",
       "    }\n",
       "\n",
       "    .dataframe thead th {\n",
       "        text-align: right;\n",
       "    }\n",
       "</style>\n",
       "<table border=\"1\" class=\"dataframe\">\n",
       "  <thead>\n",
       "    <tr style=\"text-align: right;\">\n",
       "      <th></th>\n",
       "      <th>target</th>\n",
       "      <th>0</th>\n",
       "      <th>1</th>\n",
       "      <th>2</th>\n",
       "      <th>3</th>\n",
       "      <th>4</th>\n",
       "      <th>5</th>\n",
       "      <th>6</th>\n",
       "      <th>7</th>\n",
       "      <th>8</th>\n",
       "      <th>...</th>\n",
       "      <th>76</th>\n",
       "      <th>77</th>\n",
       "      <th>78</th>\n",
       "      <th>79</th>\n",
       "      <th>80</th>\n",
       "      <th>81</th>\n",
       "      <th>82</th>\n",
       "      <th>83</th>\n",
       "      <th>84</th>\n",
       "      <th>85</th>\n",
       "    </tr>\n",
       "  </thead>\n",
       "  <tbody>\n",
       "    <tr>\n",
       "      <th>0</th>\n",
       "      <td>0</td>\n",
       "      <td>-0.027133</td>\n",
       "      <td>0.142831</td>\n",
       "      <td>-0.111250</td>\n",
       "      <td>0.143562</td>\n",
       "      <td>0.004239</td>\n",
       "      <td>-0.071815</td>\n",
       "      <td>0.337378</td>\n",
       "      <td>0.218159</td>\n",
       "      <td>0.189081</td>\n",
       "      <td>...</td>\n",
       "      <td>-0.005709</td>\n",
       "      <td>-0.129544</td>\n",
       "      <td>-0.099462</td>\n",
       "      <td>-0.012352</td>\n",
       "      <td>-0.045079</td>\n",
       "      <td>-0.046897</td>\n",
       "      <td>-0.043987</td>\n",
       "      <td>0.064105</td>\n",
       "      <td>-0.013727</td>\n",
       "      <td>-0.128452</td>\n",
       "    </tr>\n",
       "    <tr>\n",
       "      <th>1</th>\n",
       "      <td>0</td>\n",
       "      <td>0.150981</td>\n",
       "      <td>0.330123</td>\n",
       "      <td>0.089315</td>\n",
       "      <td>-0.192914</td>\n",
       "      <td>-0.170878</td>\n",
       "      <td>-0.151223</td>\n",
       "      <td>0.007596</td>\n",
       "      <td>-0.114647</td>\n",
       "      <td>-0.097730</td>\n",
       "      <td>...</td>\n",
       "      <td>0.040397</td>\n",
       "      <td>-0.153714</td>\n",
       "      <td>0.253848</td>\n",
       "      <td>0.214468</td>\n",
       "      <td>-0.036794</td>\n",
       "      <td>-0.130433</td>\n",
       "      <td>-0.061869</td>\n",
       "      <td>-0.079233</td>\n",
       "      <td>0.044787</td>\n",
       "      <td>-0.055746</td>\n",
       "    </tr>\n",
       "    <tr>\n",
       "      <th>2</th>\n",
       "      <td>0</td>\n",
       "      <td>0.054292</td>\n",
       "      <td>0.222968</td>\n",
       "      <td>0.016821</td>\n",
       "      <td>0.262956</td>\n",
       "      <td>0.025092</td>\n",
       "      <td>0.004047</td>\n",
       "      <td>0.179983</td>\n",
       "      <td>0.136441</td>\n",
       "      <td>0.014935</td>\n",
       "      <td>...</td>\n",
       "      <td>-0.010997</td>\n",
       "      <td>0.113560</td>\n",
       "      <td>0.022930</td>\n",
       "      <td>0.047859</td>\n",
       "      <td>0.127231</td>\n",
       "      <td>0.139168</td>\n",
       "      <td>-0.000719</td>\n",
       "      <td>-0.066721</td>\n",
       "      <td>0.103822</td>\n",
       "      <td>0.070443</td>\n",
       "    </tr>\n",
       "    <tr>\n",
       "      <th>3</th>\n",
       "      <td>0</td>\n",
       "      <td>-0.030226</td>\n",
       "      <td>-0.150338</td>\n",
       "      <td>0.325219</td>\n",
       "      <td>-0.326716</td>\n",
       "      <td>-0.101473</td>\n",
       "      <td>0.108594</td>\n",
       "      <td>-0.067955</td>\n",
       "      <td>-0.268760</td>\n",
       "      <td>-0.112723</td>\n",
       "      <td>...</td>\n",
       "      <td>-0.134556</td>\n",
       "      <td>0.025619</td>\n",
       "      <td>-0.177989</td>\n",
       "      <td>-0.049176</td>\n",
       "      <td>0.234301</td>\n",
       "      <td>-0.127792</td>\n",
       "      <td>0.001177</td>\n",
       "      <td>-0.036717</td>\n",
       "      <td>0.151785</td>\n",
       "      <td>-0.106692</td>\n",
       "    </tr>\n",
       "    <tr>\n",
       "      <th>4</th>\n",
       "      <td>0</td>\n",
       "      <td>0.015250</td>\n",
       "      <td>-0.142634</td>\n",
       "      <td>-0.316099</td>\n",
       "      <td>0.323023</td>\n",
       "      <td>0.001129</td>\n",
       "      <td>0.059206</td>\n",
       "      <td>-0.077948</td>\n",
       "      <td>0.238951</td>\n",
       "      <td>0.193648</td>\n",
       "      <td>...</td>\n",
       "      <td>0.192886</td>\n",
       "      <td>-0.106981</td>\n",
       "      <td>-0.200711</td>\n",
       "      <td>0.092928</td>\n",
       "      <td>0.127197</td>\n",
       "      <td>-0.018342</td>\n",
       "      <td>-0.071950</td>\n",
       "      <td>-0.000997</td>\n",
       "      <td>0.005745</td>\n",
       "      <td>-0.377629</td>\n",
       "    </tr>\n",
       "  </tbody>\n",
       "</table>\n",
       "<p>5 rows × 87 columns</p>\n",
       "</div>"
      ],
      "text/plain": [
       "   target         0         1         2         3         4         5  \\\n",
       "0       0 -0.027133  0.142831 -0.111250  0.143562  0.004239 -0.071815   \n",
       "1       0  0.150981  0.330123  0.089315 -0.192914 -0.170878 -0.151223   \n",
       "2       0  0.054292  0.222968  0.016821  0.262956  0.025092  0.004047   \n",
       "3       0 -0.030226 -0.150338  0.325219 -0.326716 -0.101473  0.108594   \n",
       "4       0  0.015250 -0.142634 -0.316099  0.323023  0.001129  0.059206   \n",
       "\n",
       "          6         7         8    ...           76        77        78  \\\n",
       "0  0.337378  0.218159  0.189081    ...    -0.005709 -0.129544 -0.099462   \n",
       "1  0.007596 -0.114647 -0.097730    ...     0.040397 -0.153714  0.253848   \n",
       "2  0.179983  0.136441  0.014935    ...    -0.010997  0.113560  0.022930   \n",
       "3 -0.067955 -0.268760 -0.112723    ...    -0.134556  0.025619 -0.177989   \n",
       "4 -0.077948  0.238951  0.193648    ...     0.192886 -0.106981 -0.200711   \n",
       "\n",
       "         79        80        81        82        83        84        85  \n",
       "0 -0.012352 -0.045079 -0.046897 -0.043987  0.064105 -0.013727 -0.128452  \n",
       "1  0.214468 -0.036794 -0.130433 -0.061869 -0.079233  0.044787 -0.055746  \n",
       "2  0.047859  0.127231  0.139168 -0.000719 -0.066721  0.103822  0.070443  \n",
       "3 -0.049176  0.234301 -0.127792  0.001177 -0.036717  0.151785 -0.106692  \n",
       "4  0.092928  0.127197 -0.018342 -0.071950 -0.000997  0.005745 -0.377629  \n",
       "\n",
       "[5 rows x 87 columns]"
      ]
     },
     "metadata": {},
     "output_type": "display_data"
    },
    {
     "name": "stdout",
     "output_type": "stream",
     "text": [
      "Wall time: 6min 37s\n"
     ]
    }
   ],
   "source": [
    "%%time\n",
    "\n",
    "# import training and test data\n",
    "PATH_train = (r'assets\\santander\\train_clean.csv')\n",
    "PATH_test = (r'assets\\santander\\test_clean.csv')\n",
    "\n",
    "train_data = pd.read_csv(PATH_train, index_col=0)\n",
    "test_data = pd.read_csv(PATH_test, index_col=0)\n",
    "\n",
    "df_train = pd.DataFrame(train_data)\n",
    "df_test = pd.DataFrame(test_data)\n",
    "\n",
    "display(df_train.head())"
   ]
  },
  {
   "cell_type": "markdown",
   "metadata": {},
   "source": [
    "### Reduce memory usage"
   ]
  },
  {
   "cell_type": "raw",
   "metadata": {
    "scrolled": true
   },
   "source": [
    "####################################\n",
    "# this cell intentionally disabled #\n",
    "####################################\n",
    "\n",
    "def reduce_mem_usage(df):\n",
    "    \"\"\" iterate through all the columns of a dataframe and modify the data type\n",
    "        to reduce memory usage.        \n",
    "    \"\"\"\n",
    "    start_mem = df.memory_usage().sum() / 1024**2\n",
    "    print('Memory usage of dataframe is {:.2f} MB'.format(start_mem))\n",
    "    \n",
    "    for col in df.columns:\n",
    "        col_type = df[col].dtype\n",
    "        \n",
    "        if col_type != object:\n",
    "            c_min = df[col].min()\n",
    "            c_max = df[col].max()\n",
    "            if str(col_type)[:3] == 'int':\n",
    "                if c_min > np.iinfo(np.int8).min and c_max < np.iinfo(np.int8).max:\n",
    "                    df[col] = df[col].astype(np.int8)\n",
    "                elif c_min > np.iinfo(np.int16).min and c_max < np.iinfo(np.int16).max:\n",
    "                    df[col] = df[col].astype(np.int16)\n",
    "                elif c_min > np.iinfo(np.int32).min and c_max < np.iinfo(np.int32).max:\n",
    "                    df[col] = df[col].astype(np.int32)\n",
    "                elif c_min > np.iinfo(np.int64).min and c_max < np.iinfo(np.int64).max:\n",
    "                    df[col] = df[col].astype(np.int64)  \n",
    "            else:\n",
    "                if c_min > np.finfo(np.float16).min and c_max < np.finfo(np.float16).max:\n",
    "                    df[col] = df[col].astype(np.float16)\n",
    "                elif c_min > np.finfo(np.float32).min and c_max < np.finfo(np.float32).max:\n",
    "                    df[col] = df[col].astype(np.float32)\n",
    "                else:\n",
    "                    df[col] = df[col].astype(np.float64)\n",
    "        else:\n",
    "            df[col] = df[col].astype('category')\n",
    "\n",
    "    end_mem = df.memory_usage().sum() / 1024**2\n",
    "    print('Memory usage after optimization is: {:.2f} MB'.format(end_mem))\n",
    "    print('Decreased by {:.1f}%'.format(100 * (start_mem - end_mem) / start_mem))\n",
    "    \n",
    "    return df\n",
    "\n",
    "df_train = reduce_mem_usage(df_train)\n",
    "df_test = reduce_mem_usage(df_test)"
   ]
  },
  {
   "cell_type": "code",
   "execution_count": 3,
   "metadata": {
    "collapsed": true
   },
   "outputs": [],
   "source": [
    "# plot confusion matrix\n",
    "from sklearn.metrics import confusion_matrix\n",
    "import itertools\n",
    "\n",
    "#\n",
    "def plot_confusion_matrix(cm, classes,\n",
    "                          normalize=False,\n",
    "                          title='Confusion matrix',\n",
    "                          cmap=plt.cm.Blues):\n",
    "    \"\"\"\n",
    "    This function prints and plots the confusion matrix.\n",
    "    Normalization can be applied by setting `normalize=True`.\n",
    "    \"\"\"\n",
    "    plt.imshow(cm, interpolation='nearest', cmap=cmap)\n",
    "    plt.title(title)\n",
    "    plt.colorbar()\n",
    "    tick_marks = np.arange(len(classes))\n",
    "    plt.xticks(tick_marks, classes, rotation=0)\n",
    "    plt.yticks(tick_marks, classes)\n",
    "\n",
    "    if normalize:\n",
    "        cm = cm.astype('float') / cm.sum(axis=1)[:, np.newaxis]\n",
    "        #print(\"Normalized confusion matrix\")\n",
    "    else:\n",
    "        1#print('Confusion matrix, without normalization')\n",
    "\n",
    "    #print(cm)\n",
    "\n",
    "    thresh = cm.max() / 2.\n",
    "    for i, j in itertools.product(range(cm.shape[0]), range(cm.shape[1])):\n",
    "        plt.text(j, i, cm[i, j],\n",
    "                 horizontalalignment=\"center\",\n",
    "                 color=\"white\" if cm[i, j] > thresh else \"black\")\n",
    "\n",
    "    plt.tight_layout()\n",
    "    plt.ylabel('True label')\n",
    "    plt.xlabel('Predicted label')"
   ]
  },
  {
   "cell_type": "markdown",
   "metadata": {},
   "source": [
    "### Train, test, split"
   ]
  },
  {
   "cell_type": "raw",
   "metadata": {
    "collapsed": true
   },
   "source": [
    "####################################\n",
    "# this cell intentionally disabled #\n",
    "####################################\n",
    "#\n",
    "data = df_train_raw.drop('target', axis=1)\n",
    "target = df_train_raw['target']\n",
    "features = [c for c in data.columns]\n",
    "#\n",
    "X_train = data\n",
    "y_train = target\n",
    "X_test = df_test\n",
    "y_test = pd.DataFrame()"
   ]
  },
  {
   "cell_type": "code",
   "execution_count": 4,
   "metadata": {
    "collapsed": true
   },
   "outputs": [],
   "source": [
    "#\n",
    "data = df_train.drop('target', axis=1)\n",
    "target = df_train['target']\n",
    "features = [c for c in data.columns]\n",
    "#\n",
    "from sklearn.model_selection import train_test_split\n",
    "X_train, X_test, y_train, y_test = train_test_split(\n",
    "    data, target, test_size=0.2, random_state=42)"
   ]
  },
  {
   "cell_type": "markdown",
   "metadata": {},
   "source": [
    "## Logistic Regression"
   ]
  },
  {
   "cell_type": "code",
   "execution_count": 5,
   "metadata": {},
   "outputs": [
    {
     "name": "stdout",
     "output_type": "stream",
     "text": [
      "Wall time: 18 s\n"
     ]
    }
   ],
   "source": [
    "%%time\n",
    "\n",
    "#\n",
    "from sklearn.linear_model import LogisticRegression\n",
    "LR = LogisticRegression(solver='lbfgs', random_state=42)\n",
    "# Train the classifier\n",
    "LR.fit(X_train, y_train)\n",
    "y_pred = LR.predict(X_test)\n",
    "# metrics\n",
    "lr_metrics = {}\n",
    "lr_metrics['Accuracy score'] = accuracy_score(y_test, y_pred)\n",
    "lr_metrics['Mean absolute error'] = mean_absolute_error(y_test, y_pred)\n",
    "lr_metrics['Mean squared error'] = mean_squared_error(y_test, y_pred)"
   ]
  },
  {
   "cell_type": "markdown",
   "metadata": {},
   "source": [
    "### Confusion matrix"
   ]
  },
  {
   "cell_type": "code",
   "execution_count": 6,
   "metadata": {},
   "outputs": [
    {
     "name": "stdout",
     "output_type": "stream",
     "text": [
      "Recall metric in the training dataset: 77.16962524654832%\n",
      "Precision metric in the training dataset: 76.76918293217248%\n"
     ]
    },
    {
     "data": {
      "image/png": "[encoded data removed]",
      "text/plain": [
       "<Figure size 432x288 with 2 Axes>"
      ]
     },
     "metadata": {
      "needs_background": "light"
     },
     "output_type": "display_data"
    }
   ],
   "source": [
    "# predict training values\n",
    "y_pred_train = LR.predict(X_train)\n",
    "# plot training values\n",
    "cnf_matrix = confusion_matrix(y_train, y_pred_train)\n",
    "# display and store metrics\n",
    "lr_metrics['Train Recall metric']=100*cnf_matrix[1,1]/(cnf_matrix[1,0]+cnf_matrix[1,1])\n",
    "print(\"Recall metric in the training dataset: {}%\".format(lr_metrics['Train Recall metric'])\n",
    "     )\n",
    "lr_metrics['Train Precision metric'] = 100*cnf_matrix[0,0]/(cnf_matrix[0,0]+cnf_matrix[1,0])\n",
    "print(\"Precision metric in the training dataset: {}%\".format(lr_metrics['Train Precision metric'])\n",
    "     )\n",
    "# Plot non-normalized confusion matrix\n",
    "class_names = [0,1]\n",
    "plt.figure()\n",
    "plot_confusion_matrix(cnf_matrix , classes=class_names, title='Confusion Matrix Train')\n",
    "plt.savefig('assets\\logistic_conf_train.png')\n",
    "plt.show()"
   ]
  },
  {
   "cell_type": "code",
   "execution_count": 7,
   "metadata": {},
   "outputs": [
    {
     "name": "stdout",
     "output_type": "stream",
     "text": [
      "Recall metric in the testing dataset: 76.39917580887676%\n",
      "Precision metric in the testing dataset: 76.29555052157619%\n"
     ]
    },
    {
     "data": {
      "image/png": "[encoded data removed]",
      "text/plain": [
       "<Figure size 432x288 with 2 Axes>"
      ]
     },
     "metadata": {
      "needs_background": "light"
     },
     "output_type": "display_data"
    }
   ],
   "source": [
    "# plot test values\n",
    "cnf_matrix = confusion_matrix(y_test, y_pred)\n",
    "# display and store metrics\n",
    "lr_metrics['Test Recall metric']=100*cnf_matrix[1,1]/(cnf_matrix[1,0]+cnf_matrix[1,1])\n",
    "print(\"Recall metric in the testing dataset: {}%\".format(lr_metrics['Test Recall metric'])\n",
    "     )\n",
    "lr_metrics['Test Precision metric'] = 100*cnf_matrix[0,0]/(cnf_matrix[0,0]+cnf_matrix[1,0])\n",
    "print(\"Precision metric in the testing dataset: {}%\".format(lr_metrics['Test Precision metric'])\n",
    "     )\n",
    "# Plot non-normalized confusion matrix\n",
    "class_names = [0,1]\n",
    "plt.figure()\n",
    "plot_confusion_matrix(cnf_matrix , classes=class_names, title='Confusion Matrix Test')\n",
    "plt.savefig('assets\\logistic_conf_test.png')\n",
    "plt.show()"
   ]
  },
  {
   "cell_type": "markdown",
   "metadata": {},
   "source": [
    "### ROC curve"
   ]
  },
  {
   "cell_type": "code",
   "execution_count": 8,
   "metadata": {
    "scrolled": true
   },
   "outputs": [
    {
     "name": "stdout",
     "output_type": "stream",
     "text": [
      "ROC-AUC: 0.760\n"
     ]
    },
    {
     "data": {
      "image/png": "[encoded data removed]",
      "text/plain": [
       "<Figure size 432x288 with 1 Axes>"
      ]
     },
     "metadata": {
      "needs_background": "light"
     },
     "output_type": "display_data"
    }
   ],
   "source": [
    "# calculate AUC\n",
    "lr_metrics['ROC-AUC'] = auc_score = roc_auc_score(y_test, y_pred)\n",
    "print('ROC-AUC: %.3f' % lr_metrics['ROC-AUC'])\n",
    "# calculate roc curve\n",
    "fpr, tpr, thresholds = roc_curve(y_test, y_pred)\n",
    "\n",
    "# plot no skill\n",
    "plt.plot([0, 1], [0, 1], linestyle='--')\n",
    "# plot the roc curve for the model\n",
    "plt.plot(fpr, tpr, marker='.', label='ROC Curve')\n",
    "plt.title('Logistic Regression')\n",
    "plt.ylabel('True Positive Rate')\n",
    "plt.xlabel('False Positive Rate')\n",
    "plt.legend()\n",
    "plt.savefig('assets\\logistic_ROC.png')\n",
    "plt.show()"
   ]
  },
  {
   "cell_type": "markdown",
   "metadata": {},
   "source": [
    "### Precision-recall curve"
   ]
  },
  {
   "cell_type": "code",
   "execution_count": 9,
   "metadata": {},
   "outputs": [
    {
     "name": "stdout",
     "output_type": "stream",
     "text": [
      "f1=0.761 auc=0.820 ap=0.697\n"
     ]
    },
    {
     "data": {
      "image/png": "[encoded data removed]",
      "text/plain": [
       "<Figure size 432x288 with 1 Axes>"
      ]
     },
     "metadata": {
      "needs_background": "light"
     },
     "output_type": "display_data"
    }
   ],
   "source": [
    "# calculate precision-recall curve\n",
    "precision, recall, thresholds = precision_recall_curve(y_test, y_pred)\n",
    "# calculate F1 score\n",
    "lr_metrics['F1 score'] = f1_score(y_test, y_pred)\n",
    "# calculate precision-recall AUC\n",
    "lr_metrics['Precision-Recall AUC'] = auc(recall, precision)\n",
    "# calculate average precision score\n",
    "lr_metrics['Average Precision'] = average_precision_score(y_test, y_pred)\n",
    "print('f1=%.3f auc=%.3f ap=%.3f' % (lr_metrics['F1 score'],\n",
    "                                    lr_metrics['Precision-Recall AUC'],\n",
    "                                    lr_metrics['Average Precision']))\n",
    "\n",
    "# plot no skill\n",
    "plt.plot([0, 1], [0.5, 0.5], linestyle='--')\n",
    "# plot the precision-recall curve for the model\n",
    "plt.plot(recall, precision, marker='.', label='Precision-Recall Curve')\n",
    "plt.title('Logistic Regression')\n",
    "plt.xlabel('Recall')\n",
    "plt.ylabel('Precision')\n",
    "plt.legend()\n",
    "plt.savefig('assets\\logistic_precision_recall.png')\n",
    "plt.show()"
   ]
  },
  {
   "cell_type": "markdown",
   "metadata": {},
   "source": [
    "### Metrics"
   ]
  },
  {
   "cell_type": "code",
   "execution_count": 10,
   "metadata": {
    "scrolled": true
   },
   "outputs": [
    {
     "name": "stdout",
     "output_type": "stream",
     "text": [
      "Logistic Regression\n",
      "('Accuracy score', 0.7603979933575131)\n",
      "('Mean absolute error', 0.2396020066424869)\n",
      "('Mean squared error', 0.2396020066424869)\n",
      "('Train Recall metric', 77.16962524654832)\n",
      "('Train Precision metric', 76.76918293217248)\n",
      "('Test Recall metric', 76.39917580887676)\n",
      "('Test Precision metric', 76.29555052157619)\n",
      "('ROC-AUC', 0.7604046231839793)\n",
      "('F1 score', 0.7609196039823622)\n",
      "('Precision-Recall AUC', 0.8198249197047677)\n",
      "('Average Precision', 0.6967940292392188)\n"
     ]
    }
   ],
   "source": [
    "# view metrics\n",
    "print('Logistic Regression')\n",
    "for i in lr_metrics.items():\n",
    "    print(i)"
   ]
  },
  {
   "cell_type": "markdown",
   "metadata": {},
   "source": [
    "## Random Forest"
   ]
  },
  {
   "cell_type": "code",
   "execution_count": 12,
   "metadata": {
    "collapsed": true
   },
   "outputs": [],
   "source": [
    "#\n",
    "from sklearn.ensemble import RandomForestClassifier\n",
    "RFC = RandomForestClassifier(n_estimators=100, random_state=42)\n",
    "# instantiate Random Forest Classifier\n",
    "RFC.fit(X_train, y_train)\n",
    "y_pred = RFC.predict(X_test)\n",
    "\n",
    "# metrics\n",
    "rfc_metrics = {}\n",
    "rfc_metrics['Accuracy score'] = accuracy_score(y_test, y_pred)\n",
    "rfc_metrics['Mean absolute error'] = mean_absolute_error(y_test, y_pred)\n",
    "rfc_metrics['Mean squared error'] = mean_squared_error(y_test, y_pred)"
   ]
  },
  {
   "cell_type": "markdown",
   "metadata": {},
   "source": [
    "### Confusion matrix"
   ]
  },
  {
   "cell_type": "code",
   "execution_count": 13,
   "metadata": {},
   "outputs": [
    {
     "name": "stdout",
     "output_type": "stream",
     "text": [
      "Recall metric in the training dataset: 100.0%\n",
      "Precision metric in the training dataset: 100.0%\n"
     ]
    },
    {
     "data": {
      "image/png": "[encoded data removed]",
      "text/plain": [
       "<Figure size 432x288 with 2 Axes>"
      ]
     },
     "metadata": {
      "needs_background": "light"
     },
     "output_type": "display_data"
    }
   ],
   "source": [
    "# predict training values\n",
    "y_pred_train = RFC.predict(X_train)\n",
    "# plot training values\n",
    "cnf_matrix = confusion_matrix(y_train, y_pred_train)\n",
    "# display and store metrics\n",
    "rfc_metrics['Train Recall metric']=100*cnf_matrix[1,1]/(cnf_matrix[1,0]+cnf_matrix[1,1])\n",
    "print(\"Recall metric in the training dataset: {}%\".format(rfc_metrics['Train Recall metric'])\n",
    "     )\n",
    "rfc_metrics['Train Precision metric'] = 100*cnf_matrix[0,0]/(cnf_matrix[0,0]+cnf_matrix[1,0])\n",
    "print(\"Precision metric in the training dataset: {}%\".format(rfc_metrics['Train Precision metric'])\n",
    "     )\n",
    "# Plot non-normalized confusion matrix\n",
    "class_names = [0,1]\n",
    "plt.figure()\n",
    "plot_confusion_matrix(cnf_matrix , classes=class_names, title='Confusion Matrix Train')\n",
    "plt.savefig('assets/random_forest_conf_train.png')\n",
    "plt.show()"
   ]
  },
  {
   "cell_type": "code",
   "execution_count": 14,
   "metadata": {},
   "outputs": [
    {
     "name": "stdout",
     "output_type": "stream",
     "text": [
      "Recall metric in the testing dataset: 92.39850754580387%\n",
      "Precision metric in the testing dataset: 92.15472153572044%\n"
     ]
    },
    {
     "data": {
      "image/png": "[encoded data removed]",
      "text/plain": [
       "<Figure size 432x288 with 2 Axes>"
      ]
     },
     "metadata": {
      "needs_background": "light"
     },
     "output_type": "display_data"
    }
   ],
   "source": [
    "# plot test values\n",
    "cnf_matrix = confusion_matrix(y_test, y_pred)\n",
    "# display and store metrics\n",
    "rfc_metrics['Test Recall metric']=100*cnf_matrix[1,1]/(cnf_matrix[1,0]+cnf_matrix[1,1])\n",
    "print(\"Recall metric in the testing dataset: {}%\".format(rfc_metrics['Test Recall metric'])\n",
    "     )\n",
    "rfc_metrics['Test Precision metric'] = 100*cnf_matrix[0,0]/(cnf_matrix[0,0]+cnf_matrix[1,0])\n",
    "print(\"Precision metric in the testing dataset: {}%\".format(rfc_metrics['Test Precision metric'])\n",
    "     )\n",
    "# Plot non-normalized confusion matrix\n",
    "class_names = [0,1]\n",
    "plt.figure()\n",
    "plot_confusion_matrix(cnf_matrix , classes=class_names, title='Confusion Matrix Test')\n",
    "plt.savefig('assets/random_forest_conf_test.png')\n",
    "plt.show()"
   ]
  },
  {
   "cell_type": "markdown",
   "metadata": {},
   "source": [
    "### ROC curve"
   ]
  },
  {
   "cell_type": "code",
   "execution_count": 15,
   "metadata": {
    "scrolled": true
   },
   "outputs": [
    {
     "name": "stdout",
     "output_type": "stream",
     "text": [
      "ROC-AUC: 0.907\n"
     ]
    },
    {
     "data": {
      "image/png": "[encoded data removed]",
      "text/plain": [
       "<Figure size 432x288 with 1 Axes>"
      ]
     },
     "metadata": {
      "needs_background": "light"
     },
     "output_type": "display_data"
    }
   ],
   "source": [
    "# calculate AUC\n",
    "rfc_metrics['ROC-AUC'] = auc_score = roc_auc_score(y_test, y_pred)\n",
    "print('ROC-AUC: %.3f' % rfc_metrics['ROC-AUC'])\n",
    "# calculate roc curve\n",
    "fpr, tpr, thresholds = roc_curve(y_test, y_pred)\n",
    "\n",
    "# plot no skill\n",
    "plt.plot([0, 1], [0, 1], linestyle='--')\n",
    "# plot the roc curve for the model\n",
    "plt.plot(fpr, tpr, marker='.', label='ROC Curve')\n",
    "plt.title('Random Forest')\n",
    "plt.ylabel('True Positive Rate')\n",
    "plt.xlabel('False Positive Rate')\n",
    "plt.legend()\n",
    "plt.savefig('assets/random_forest_ROC.png')\n",
    "plt.show()"
   ]
  },
  {
   "cell_type": "markdown",
   "metadata": {},
   "source": [
    "### Precision-recall curve"
   ]
  },
  {
   "cell_type": "code",
   "execution_count": 16,
   "metadata": {},
   "outputs": [
    {
     "name": "stdout",
     "output_type": "stream",
     "text": [
      "f1=0.908 auc=0.927 ap=0.863\n"
     ]
    },
    {
     "data": {
      "image/png": "[encoded data removed]",
      "text/plain": [
       "<Figure size 432x288 with 1 Axes>"
      ]
     },
     "metadata": {
      "needs_background": "light"
     },
     "output_type": "display_data"
    }
   ],
   "source": [
    "# calculate precision-recall curve\n",
    "precision, recall, thresholds = precision_recall_curve(y_test, y_pred)\n",
    "# calculate F1 score\n",
    "rfc_metrics['F1 score'] = f1_score(y_test, y_pred)\n",
    "# calculate precision-recall AUC\n",
    "rfc_metrics['Precision-Recall AUC'] = auc(recall, precision)\n",
    "# calculate average precision score\n",
    "rfc_metrics['Average Precision'] = average_precision_score(y_test, y_pred)\n",
    "print('f1=%.3f auc=%.3f ap=%.3f' % (rfc_metrics['F1 score'],\n",
    "                                    rfc_metrics['Precision-Recall AUC'],\n",
    "                                    rfc_metrics['Average Precision']))\n",
    "\n",
    "# plot no skill\n",
    "plt.plot([0, 1], [0.5, 0.5], linestyle='--')\n",
    "# plot the precision-recall curve for the model\n",
    "plt.plot(recall, precision, marker='.', label='Precision-Recall Curve')\n",
    "plt.title('Random Forest')\n",
    "plt.xlabel('Recall')\n",
    "plt.ylabel('Precision')\n",
    "plt.legend()\n",
    "plt.savefig('assets/random_forest_precision_recall.png')\n",
    "plt.show()"
   ]
  },
  {
   "cell_type": "markdown",
   "metadata": {},
   "source": [
    "### Metrics"
   ]
  },
  {
   "cell_type": "code",
   "execution_count": 17,
   "metadata": {
    "scrolled": true
   },
   "outputs": [
    {
     "name": "stdout",
     "output_type": "stream",
     "text": [
      "Random Forest\n",
      "('Accuracy score', 0.9067689442892678)\n",
      "('Mean absolute error', 0.0932310557107322)\n",
      "('Mean squared error', 0.0932310557107322)\n",
      "('Train Recall metric', 100.0)\n",
      "('Train Precision metric', 100.0)\n",
      "('Test Recall metric', 92.39850754580387)\n",
      "('Test Precision metric', 92.15472153572044)\n",
      "('ROC-AUC', 0.9068007048441744)\n",
      "('F1 score', 0.9081927282181808)\n",
      "('Precision-Recall AUC', 0.9274267163194255)\n",
      "('Average Precision', 0.8629922638621771)\n"
     ]
    }
   ],
   "source": [
    "# view metrics\n",
    "print('Random Forest')\n",
    "for i in rfc_metrics.items():\n",
    "    print(i)"
   ]
  },
  {
   "cell_type": "markdown",
   "metadata": {},
   "source": [
    "## Light Gradient Boosting"
   ]
  },
  {
   "cell_type": "code",
   "execution_count": 18,
   "metadata": {
    "collapsed": true
   },
   "outputs": [],
   "source": [
    "# instantiate Light GBM Classifier\n",
    "from lightgbm import LGBMClassifier\n",
    "CLF = LGBMClassifier(random_state=42)\n",
    "CLF.fit(X_train, y_train)\n",
    "y_pred = CLF.predict(X_test)\n",
    "# metrics\n",
    "lgbm_metrics = {}\n",
    "lgbm_metrics['Accuracy score'] = accuracy_score(y_test, y_pred)\n",
    "lgbm_metrics['Mean absolute error'] = mean_absolute_error(y_test, y_pred)\n",
    "lgbm_metrics['Mean squared error'] = mean_squared_error(y_test, y_pred)"
   ]
  },
  {
   "cell_type": "markdown",
   "metadata": {},
   "source": [
    "### Confusion matrix"
   ]
  },
  {
   "cell_type": "code",
   "execution_count": 19,
   "metadata": {},
   "outputs": [
    {
     "name": "stdout",
     "output_type": "stream",
     "text": [
      "Recall metric in the training dataset: 83.86948912409368%\n",
      "Precision metric in the training dataset: 83.74872304398326%\n"
     ]
    },
    {
     "data": {
      "image/png": "[encoded data removed]",
      "text/plain": [
       "<Figure size 432x288 with 2 Axes>"
      ]
     },
     "metadata": {
      "needs_background": "light"
     },
     "output_type": "display_data"
    }
   ],
   "source": [
    "# predict training values\n",
    "y_pred_train = CLF.predict(X_train)\n",
    "# plot training values\n",
    "cnf_matrix = confusion_matrix(y_train, y_pred_train)\n",
    "# display and store metrics\n",
    "lgbm_metrics['Train Recall metric']=100*cnf_matrix[1,1]/(cnf_matrix[1,0]+cnf_matrix[1,1])\n",
    "print(\"Recall metric in the training dataset: {}%\".format(lgbm_metrics['Train Recall metric'])\n",
    "     )\n",
    "lgbm_metrics['Train Precision metric'] = 100*cnf_matrix[0,0]/(cnf_matrix[0,0]+cnf_matrix[1,0])\n",
    "print(\"Precision metric in the training dataset: {}%\".format(lgbm_metrics['Train Precision metric'])\n",
    "     )\n",
    "# Plot non-normalized confusion matrix\n",
    "class_names = [0,1]\n",
    "plt.figure()\n",
    "plot_confusion_matrix(cnf_matrix , classes=class_names, title='Confusion Matrix Train')\n",
    "plt.savefig('assets\\light_gbm_conf_train.png')\n",
    "plt.show()"
   ]
  },
  {
   "cell_type": "code",
   "execution_count": 20,
   "metadata": {},
   "outputs": [
    {
     "name": "stdout",
     "output_type": "stream",
     "text": [
      "Recall metric in the testing dataset: 82.5388427911121%\n",
      "Precision metric in the testing dataset: 82.50913452151842%\n"
     ]
    },
    {
     "data": {
      "image/png": "[encoded data removed]",
      "text/plain": [
       "<Figure size 432x288 with 2 Axes>"
      ]
     },
     "metadata": {
      "needs_background": "light"
     },
     "output_type": "display_data"
    }
   ],
   "source": [
    "# plot test values\n",
    "cnf_matrix = confusion_matrix(y_test, y_pred)\n",
    "# display and store metrics\n",
    "lgbm_metrics['Test Recall metric']=100*cnf_matrix[1,1]/(cnf_matrix[1,0]+cnf_matrix[1,1])\n",
    "print(\"Recall metric in the testing dataset: {}%\".format(lgbm_metrics['Test Recall metric'])\n",
    "     )\n",
    "lgbm_metrics['Test Precision metric'] = 100*cnf_matrix[0,0]/(cnf_matrix[0,0]+cnf_matrix[1,0])\n",
    "print(\"Precision metric in the testing dataset: {}%\".format(lgbm_metrics['Test Precision metric'])\n",
    "     )\n",
    "# Plot non-normalized confusion matrix\n",
    "class_names = [0,1]\n",
    "plt.figure()\n",
    "plot_confusion_matrix(cnf_matrix , classes=class_names, title='Confusion Matrix Test')\n",
    "plt.savefig('assets\\light_gbm_conf_test.png')\n",
    "plt.show()"
   ]
  },
  {
   "cell_type": "markdown",
   "metadata": {},
   "source": [
    "### ROC curve"
   ]
  },
  {
   "cell_type": "code",
   "execution_count": 21,
   "metadata": {},
   "outputs": [
    {
     "name": "stdout",
     "output_type": "stream",
     "text": [
      "ROC-AUC: 0.823\n"
     ]
    },
    {
     "data": {
      "image/png": "[encoded data removed]",
      "text/plain": [
       "<Figure size 432x288 with 1 Axes>"
      ]
     },
     "metadata": {
      "needs_background": "light"
     },
     "output_type": "display_data"
    }
   ],
   "source": [
    "# calculate AUC\n",
    "lgbm_metrics['ROC-AUC'] = auc_score = roc_auc_score(y_test, y_pred)\n",
    "print('ROC-AUC: %.3f' % lgbm_metrics['ROC-AUC'])\n",
    "# calculate roc curve\n",
    "fpr, tpr, thresholds = roc_curve(y_test, y_pred)\n",
    "\n",
    "# plot no skill\n",
    "plt.plot([0, 1], [0, 1], linestyle='--')\n",
    "# plot the roc curve for the model\n",
    "plt.plot(fpr, tpr, marker='.', label='ROC Curve')\n",
    "plt.title('Light GBM')\n",
    "plt.ylabel('True Positive Rate')\n",
    "plt.xlabel('False Positive Rate')\n",
    "plt.legend()\n",
    "plt.savefig('assets\\light_gbm_ROC.png')\n",
    "plt.show()"
   ]
  },
  {
   "cell_type": "markdown",
   "metadata": {},
   "source": [
    "### Precision-recall curve"
   ]
  },
  {
   "cell_type": "code",
   "execution_count": 22,
   "metadata": {},
   "outputs": [
    {
     "name": "stdout",
     "output_type": "stream",
     "text": [
      "f1=0.823 auc=0.867 ap=0.765\n"
     ]
    },
    {
     "data": {
      "image/png": "[encoded data removed]",
      "text/plain": [
       "<Figure size 432x288 with 1 Axes>"
      ]
     },
     "metadata": {
      "needs_background": "light"
     },
     "output_type": "display_data"
    }
   ],
   "source": [
    "# calculate precision-recall curve\n",
    "precision, recall, thresholds = precision_recall_curve(y_test, y_pred)\n",
    "# calculate F1 score\n",
    "lgbm_metrics['F1 score'] = f1_score(y_test, y_pred)\n",
    "# calculate precision-recall AUC\n",
    "lgbm_metrics['Precision-Recall AUC'] = auc(recall, precision)\n",
    "# calculate average precision score\n",
    "lgbm_metrics['Average Precision'] = average_precision_score(y_test, y_pred)\n",
    "print('f1=%.3f auc=%.3f ap=%.3f' % (lgbm_metrics['F1 score'],\n",
    "                                    lgbm_metrics['Precision-Recall AUC'],\n",
    "                                    lgbm_metrics['Average Precision']))\n",
    "\n",
    "# plot no skill\n",
    "plt.plot([0, 1], [0.5, 0.5], linestyle='--')\n",
    "# plot the precision-recall curve for the model\n",
    "plt.plot(recall, precision, marker='.', label='Precision-Recall Curve')\n",
    "plt.title('Light GBM')\n",
    "plt.xlabel('Recall')\n",
    "plt.ylabel('Precision')\n",
    "plt.legend()\n",
    "plt.savefig('assets\\light_gbm_precision_recall.png')\n",
    "plt.show()"
   ]
  },
  {
   "cell_type": "markdown",
   "metadata": {},
   "source": [
    "### Metrics"
   ]
  },
  {
   "cell_type": "code",
   "execution_count": 23,
   "metadata": {},
   "outputs": [
    {
     "name": "stdout",
     "output_type": "stream",
     "text": [
      "Light GBM\n",
      "('Accuracy score', 0.8230152443684774)\n",
      "('Mean absolute error', 0.17698475563152263)\n",
      "('Mean squared error', 0.17698475563152263)\n",
      "('Train Recall metric', 83.86948912409368)\n",
      "('Train Precision metric', 83.74872304398326)\n",
      "('Test Recall metric', 82.5388427911121)\n",
      "('Test Precision metric', 82.50913452151842)\n",
      "('ROC-AUC', 0.8230196224500259)\n",
      "('F1 score', 0.8231651439837828)\n",
      "('Precision-Recall AUC', 0.8667433293073552)\n",
      "('Average Precision', 0.7647501961563802)\n"
     ]
    }
   ],
   "source": [
    "# view metrics\n",
    "print('Light GBM')\n",
    "for i in lgbm_metrics.items():\n",
    "    print(i)"
   ]
  },
  {
   "cell_type": "code",
   "execution_count": null,
   "metadata": {
    "collapsed": true
   },
   "outputs": [],
   "source": []
  }
 ],
 "metadata": {
  "kernelspec": {
   "display_name": "Python 3",
   "language": "python",
   "name": "python3"
  },
  "language_info": {
   "codemirror_mode": {
    "name": "ipython",
    "version": 3
   },
   "file_extension": ".py",
   "mimetype": "text/x-python",
   "name": "python",
   "nbconvert_exporter": "python",
   "pygments_lexer": "ipython3",
   "version": "3.7.1"
  }
 },
 "nbformat": 4,
 "nbformat_minor": 2
}
