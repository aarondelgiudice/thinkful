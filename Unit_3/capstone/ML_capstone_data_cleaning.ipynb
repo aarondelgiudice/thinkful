{
 "cells": [
  {
   "cell_type": "markdown",
   "metadata": {},
   "source": [
    "# Bank transaction classifier\n",
    "## Data cleaning"
   ]
  },
  {
   "cell_type": "code",
   "execution_count": 25,
   "metadata": {
    "collapsed": true
   },
   "outputs": [],
   "source": [
    "import numpy as np\n",
    "import pandas as pd\n",
    "import matplotlib.pyplot as plt\n",
    "%matplotlib inline\n",
    "import seaborn as sns"
   ]
  },
  {
   "cell_type": "code",
   "execution_count": 26,
   "metadata": {},
   "outputs": [
    {
     "data": {
      "text/html": [
       "<div>\n",
       "<style scoped>\n",
       "    .dataframe tbody tr th:only-of-type {\n",
       "        vertical-align: middle;\n",
       "    }\n",
       "\n",
       "    .dataframe tbody tr th {\n",
       "        vertical-align: top;\n",
       "    }\n",
       "\n",
       "    .dataframe thead th {\n",
       "        text-align: right;\n",
       "    }\n",
       "</style>\n",
       "<table border=\"1\" class=\"dataframe\">\n",
       "  <thead>\n",
       "    <tr style=\"text-align: right;\">\n",
       "      <th></th>\n",
       "      <th>ID_code</th>\n",
       "      <th>target</th>\n",
       "      <th>var_0</th>\n",
       "      <th>var_1</th>\n",
       "      <th>var_2</th>\n",
       "      <th>var_3</th>\n",
       "      <th>var_4</th>\n",
       "      <th>var_5</th>\n",
       "      <th>var_6</th>\n",
       "      <th>var_7</th>\n",
       "      <th>...</th>\n",
       "      <th>var_190</th>\n",
       "      <th>var_191</th>\n",
       "      <th>var_192</th>\n",
       "      <th>var_193</th>\n",
       "      <th>var_194</th>\n",
       "      <th>var_195</th>\n",
       "      <th>var_196</th>\n",
       "      <th>var_197</th>\n",
       "      <th>var_198</th>\n",
       "      <th>var_199</th>\n",
       "    </tr>\n",
       "  </thead>\n",
       "  <tbody>\n",
       "    <tr>\n",
       "      <th>0</th>\n",
       "      <td>train_0</td>\n",
       "      <td>0</td>\n",
       "      <td>8.9255</td>\n",
       "      <td>-6.7863</td>\n",
       "      <td>11.9081</td>\n",
       "      <td>5.0930</td>\n",
       "      <td>11.4607</td>\n",
       "      <td>-9.2834</td>\n",
       "      <td>5.1187</td>\n",
       "      <td>18.6266</td>\n",
       "      <td>...</td>\n",
       "      <td>4.4354</td>\n",
       "      <td>3.9642</td>\n",
       "      <td>3.1364</td>\n",
       "      <td>1.6910</td>\n",
       "      <td>18.5227</td>\n",
       "      <td>-2.3978</td>\n",
       "      <td>7.8784</td>\n",
       "      <td>8.5635</td>\n",
       "      <td>12.7803</td>\n",
       "      <td>-1.0914</td>\n",
       "    </tr>\n",
       "    <tr>\n",
       "      <th>1</th>\n",
       "      <td>train_1</td>\n",
       "      <td>0</td>\n",
       "      <td>11.5006</td>\n",
       "      <td>-4.1473</td>\n",
       "      <td>13.8588</td>\n",
       "      <td>5.3890</td>\n",
       "      <td>12.3622</td>\n",
       "      <td>7.0433</td>\n",
       "      <td>5.6208</td>\n",
       "      <td>16.5338</td>\n",
       "      <td>...</td>\n",
       "      <td>7.6421</td>\n",
       "      <td>7.7214</td>\n",
       "      <td>2.5837</td>\n",
       "      <td>10.9516</td>\n",
       "      <td>15.4305</td>\n",
       "      <td>2.0339</td>\n",
       "      <td>8.1267</td>\n",
       "      <td>8.7889</td>\n",
       "      <td>18.3560</td>\n",
       "      <td>1.9518</td>\n",
       "    </tr>\n",
       "    <tr>\n",
       "      <th>2</th>\n",
       "      <td>train_2</td>\n",
       "      <td>0</td>\n",
       "      <td>8.6093</td>\n",
       "      <td>-2.7457</td>\n",
       "      <td>12.0805</td>\n",
       "      <td>7.8928</td>\n",
       "      <td>10.5825</td>\n",
       "      <td>-9.0837</td>\n",
       "      <td>6.9427</td>\n",
       "      <td>14.6155</td>\n",
       "      <td>...</td>\n",
       "      <td>2.9057</td>\n",
       "      <td>9.7905</td>\n",
       "      <td>1.6704</td>\n",
       "      <td>1.6858</td>\n",
       "      <td>21.6042</td>\n",
       "      <td>3.1417</td>\n",
       "      <td>-6.5213</td>\n",
       "      <td>8.2675</td>\n",
       "      <td>14.7222</td>\n",
       "      <td>0.3965</td>\n",
       "    </tr>\n",
       "    <tr>\n",
       "      <th>3</th>\n",
       "      <td>train_3</td>\n",
       "      <td>0</td>\n",
       "      <td>11.0604</td>\n",
       "      <td>-2.1518</td>\n",
       "      <td>8.9522</td>\n",
       "      <td>7.1957</td>\n",
       "      <td>12.5846</td>\n",
       "      <td>-1.8361</td>\n",
       "      <td>5.8428</td>\n",
       "      <td>14.9250</td>\n",
       "      <td>...</td>\n",
       "      <td>4.4666</td>\n",
       "      <td>4.7433</td>\n",
       "      <td>0.7178</td>\n",
       "      <td>1.4214</td>\n",
       "      <td>23.0347</td>\n",
       "      <td>-1.2706</td>\n",
       "      <td>-2.9275</td>\n",
       "      <td>10.2922</td>\n",
       "      <td>17.9697</td>\n",
       "      <td>-8.9996</td>\n",
       "    </tr>\n",
       "    <tr>\n",
       "      <th>4</th>\n",
       "      <td>train_4</td>\n",
       "      <td>0</td>\n",
       "      <td>9.8369</td>\n",
       "      <td>-1.4834</td>\n",
       "      <td>12.8746</td>\n",
       "      <td>6.6375</td>\n",
       "      <td>12.2772</td>\n",
       "      <td>2.4486</td>\n",
       "      <td>5.9405</td>\n",
       "      <td>19.2514</td>\n",
       "      <td>...</td>\n",
       "      <td>-1.4905</td>\n",
       "      <td>9.5214</td>\n",
       "      <td>-0.1508</td>\n",
       "      <td>9.1942</td>\n",
       "      <td>13.2876</td>\n",
       "      <td>-1.5121</td>\n",
       "      <td>3.9267</td>\n",
       "      <td>9.5031</td>\n",
       "      <td>17.9974</td>\n",
       "      <td>-8.8104</td>\n",
       "    </tr>\n",
       "  </tbody>\n",
       "</table>\n",
       "<p>5 rows × 202 columns</p>\n",
       "</div>"
      ],
      "text/plain": [
       "   ID_code  target    var_0   var_1    var_2   var_3    var_4   var_5   var_6  \\\n",
       "0  train_0       0   8.9255 -6.7863  11.9081  5.0930  11.4607 -9.2834  5.1187   \n",
       "1  train_1       0  11.5006 -4.1473  13.8588  5.3890  12.3622  7.0433  5.6208   \n",
       "2  train_2       0   8.6093 -2.7457  12.0805  7.8928  10.5825 -9.0837  6.9427   \n",
       "3  train_3       0  11.0604 -2.1518   8.9522  7.1957  12.5846 -1.8361  5.8428   \n",
       "4  train_4       0   9.8369 -1.4834  12.8746  6.6375  12.2772  2.4486  5.9405   \n",
       "\n",
       "     var_7   ...     var_190  var_191  var_192  var_193  var_194  var_195  \\\n",
       "0  18.6266   ...      4.4354   3.9642   3.1364   1.6910  18.5227  -2.3978   \n",
       "1  16.5338   ...      7.6421   7.7214   2.5837  10.9516  15.4305   2.0339   \n",
       "2  14.6155   ...      2.9057   9.7905   1.6704   1.6858  21.6042   3.1417   \n",
       "3  14.9250   ...      4.4666   4.7433   0.7178   1.4214  23.0347  -1.2706   \n",
       "4  19.2514   ...     -1.4905   9.5214  -0.1508   9.1942  13.2876  -1.5121   \n",
       "\n",
       "   var_196  var_197  var_198  var_199  \n",
       "0   7.8784   8.5635  12.7803  -1.0914  \n",
       "1   8.1267   8.7889  18.3560   1.9518  \n",
       "2  -6.5213   8.2675  14.7222   0.3965  \n",
       "3  -2.9275  10.2922  17.9697  -8.9996  \n",
       "4   3.9267   9.5031  17.9974  -8.8104  \n",
       "\n",
       "[5 rows x 202 columns]"
      ]
     },
     "metadata": {},
     "output_type": "display_data"
    },
    {
     "name": "stdout",
     "output_type": "stream",
     "text": [
      "Wall time: 3min 16s\n",
      "Parser   : 258 ms\n"
     ]
    }
   ],
   "source": [
    "%%time\n",
    "\n",
    "#def import_data(file):\n",
    "#    \"\"\"create a dataframe and optimize its memory usage\"\"\"\n",
    "#    df = pd.read_csv(file, parse_dates=True, keep_date_col=True)\n",
    "#    df = reduce_mem_usage(df)\n",
    "#    return df\n",
    "\n",
    "# import training and test data\n",
    "PATH_train = (r'assets\\santander\\train.csv')\n",
    "PATH_test = (r'assets\\santander\\test.csv')\n",
    "\n",
    "train_data = pd.read_csv(PATH_train, index_col=None)\n",
    "test_data = pd.read_csv(PATH_test, index_col=None)\n",
    "\n",
    "df_train_raw = pd.DataFrame(train_data)\n",
    "df_test_raw = pd.DataFrame(test_data)\n",
    "\n",
    "display(df_train_raw.head())"
   ]
  },
  {
   "cell_type": "code",
   "execution_count": 27,
   "metadata": {
    "scrolled": false
   },
   "outputs": [
    {
     "name": "stdout",
     "output_type": "stream",
     "text": [
      "Memory usage of dataframe is 308.23 MB\n",
      "Memory usage after optimization is: 83.77 MB\n",
      "Decreased by 72.8%\n",
      "Memory usage of dataframe is 306.70 MB\n",
      "Memory usage after optimization is: 83.58 MB\n",
      "Decreased by 72.7%\n"
     ]
    }
   ],
   "source": [
    "def reduce_mem_usage(df):\n",
    "    \"\"\" iterate through all the columns of a dataframe and modify the data type\n",
    "        to reduce memory usage.        \n",
    "    \"\"\"\n",
    "    start_mem = df.memory_usage().sum() / 1024**2\n",
    "    print('Memory usage of dataframe is {:.2f} MB'.format(start_mem))\n",
    "    \n",
    "    for col in df.columns:\n",
    "        col_type = df[col].dtype\n",
    "        \n",
    "        if col_type != object:\n",
    "            c_min = df[col].min()\n",
    "            c_max = df[col].max()\n",
    "            if str(col_type)[:3] == 'int':\n",
    "                if c_min > np.iinfo(np.int8).min and c_max < np.iinfo(np.int8).max:\n",
    "                    df[col] = df[col].astype(np.int8)\n",
    "                elif c_min > np.iinfo(np.int16).min and c_max < np.iinfo(np.int16).max:\n",
    "                    df[col] = df[col].astype(np.int16)\n",
    "                elif c_min > np.iinfo(np.int32).min and c_max < np.iinfo(np.int32).max:\n",
    "                    df[col] = df[col].astype(np.int32)\n",
    "                elif c_min > np.iinfo(np.int64).min and c_max < np.iinfo(np.int64).max:\n",
    "                    df[col] = df[col].astype(np.int64)  \n",
    "            else:\n",
    "                if c_min > np.finfo(np.float16).min and c_max < np.finfo(np.float16).max:\n",
    "                    df[col] = df[col].astype(np.float16)\n",
    "                elif c_min > np.finfo(np.float32).min and c_max < np.finfo(np.float32).max:\n",
    "                    df[col] = df[col].astype(np.float32)\n",
    "                else:\n",
    "                    df[col] = df[col].astype(np.float64)\n",
    "        else:\n",
    "            df[col] = df[col].astype('category')\n",
    "\n",
    "    end_mem = df.memory_usage().sum() / 1024**2\n",
    "    print('Memory usage after optimization is: {:.2f} MB'.format(end_mem))\n",
    "    print('Decreased by {:.1f}%'.format(100 * (start_mem - end_mem) / start_mem))\n",
    "    \n",
    "    return df\n",
    "\n",
    "df_train_raw = reduce_mem_usage(df_train_raw)\n",
    "df_test_raw = reduce_mem_usage(df_test_raw)"
   ]
  },
  {
   "cell_type": "markdown",
   "metadata": {},
   "source": [
    "### EDA"
   ]
  },
  {
   "cell_type": "code",
   "execution_count": 28,
   "metadata": {},
   "outputs": [
    {
     "data": {
      "text/plain": [
       "(200000, 202)"
      ]
     },
     "metadata": {},
     "output_type": "display_data"
    },
    {
     "data": {
      "text/plain": [
       "(200000, 201)"
      ]
     },
     "metadata": {},
     "output_type": "display_data"
    }
   ],
   "source": [
    "display(df_train_raw.shape)\n",
    "display(df_test_raw.shape)"
   ]
  },
  {
   "cell_type": "code",
   "execution_count": 29,
   "metadata": {},
   "outputs": [
    {
     "name": "stdout",
     "output_type": "stream",
     "text": [
      "<class 'pandas.core.frame.DataFrame'>\n",
      "RangeIndex: 200000 entries, 0 to 199999\n",
      "Columns: 202 entries, ID_code to var_199\n",
      "dtypes: category(1), float16(200), int8(1)\n",
      "memory usage: 83.8 MB\n"
     ]
    },
    {
     "data": {
      "text/plain": [
       "None"
      ]
     },
     "metadata": {},
     "output_type": "display_data"
    },
    {
     "name": "stdout",
     "output_type": "stream",
     "text": [
      "<class 'pandas.core.frame.DataFrame'>\n",
      "RangeIndex: 200000 entries, 0 to 199999\n",
      "Columns: 201 entries, ID_code to var_199\n",
      "dtypes: category(1), float16(200)\n",
      "memory usage: 83.6 MB\n"
     ]
    },
    {
     "data": {
      "text/plain": [
       "None"
      ]
     },
     "metadata": {},
     "output_type": "display_data"
    }
   ],
   "source": [
    "display(df_train_raw.info())\n",
    "display(df_test_raw.info())"
   ]
  },
  {
   "cell_type": "code",
   "execution_count": 30,
   "metadata": {},
   "outputs": [
    {
     "data": {
      "text/html": [
       "<div>\n",
       "<style scoped>\n",
       "    .dataframe tbody tr th:only-of-type {\n",
       "        vertical-align: middle;\n",
       "    }\n",
       "\n",
       "    .dataframe tbody tr th {\n",
       "        vertical-align: top;\n",
       "    }\n",
       "\n",
       "    .dataframe thead th {\n",
       "        text-align: right;\n",
       "    }\n",
       "</style>\n",
       "<table border=\"1\" class=\"dataframe\">\n",
       "  <thead>\n",
       "    <tr style=\"text-align: right;\">\n",
       "      <th></th>\n",
       "      <th>target</th>\n",
       "      <th>var_0</th>\n",
       "      <th>var_1</th>\n",
       "      <th>var_2</th>\n",
       "      <th>var_3</th>\n",
       "      <th>var_4</th>\n",
       "      <th>var_5</th>\n",
       "      <th>var_6</th>\n",
       "      <th>var_7</th>\n",
       "      <th>var_8</th>\n",
       "      <th>...</th>\n",
       "      <th>var_190</th>\n",
       "      <th>var_191</th>\n",
       "      <th>var_192</th>\n",
       "      <th>var_193</th>\n",
       "      <th>var_194</th>\n",
       "      <th>var_195</th>\n",
       "      <th>var_196</th>\n",
       "      <th>var_197</th>\n",
       "      <th>var_198</th>\n",
       "      <th>var_199</th>\n",
       "    </tr>\n",
       "  </thead>\n",
       "  <tbody>\n",
       "    <tr>\n",
       "      <th>count</th>\n",
       "      <td>200000.000000</td>\n",
       "      <td>200000.000000</td>\n",
       "      <td>200000.000000</td>\n",
       "      <td>200000.000000</td>\n",
       "      <td>200000.000000</td>\n",
       "      <td>200000.000000</td>\n",
       "      <td>200000.000000</td>\n",
       "      <td>200000.000000</td>\n",
       "      <td>200000.000000</td>\n",
       "      <td>200000.000000</td>\n",
       "      <td>...</td>\n",
       "      <td>200000.000000</td>\n",
       "      <td>200000.000000</td>\n",
       "      <td>200000.000000</td>\n",
       "      <td>200000.000000</td>\n",
       "      <td>200000.000000</td>\n",
       "      <td>200000.000000</td>\n",
       "      <td>200000.000000</td>\n",
       "      <td>200000.000000</td>\n",
       "      <td>200000.000000</td>\n",
       "      <td>200000.000000</td>\n",
       "    </tr>\n",
       "    <tr>\n",
       "      <th>mean</th>\n",
       "      <td>0.100490</td>\n",
       "      <td>NaN</td>\n",
       "      <td>NaN</td>\n",
       "      <td>NaN</td>\n",
       "      <td>NaN</td>\n",
       "      <td>NaN</td>\n",
       "      <td>NaN</td>\n",
       "      <td>NaN</td>\n",
       "      <td>NaN</td>\n",
       "      <td>0.000000</td>\n",
       "      <td>...</td>\n",
       "      <td>NaN</td>\n",
       "      <td>NaN</td>\n",
       "      <td>NaN</td>\n",
       "      <td>NaN</td>\n",
       "      <td>NaN</td>\n",
       "      <td>-0.000000</td>\n",
       "      <td>NaN</td>\n",
       "      <td>NaN</td>\n",
       "      <td>NaN</td>\n",
       "      <td>NaN</td>\n",
       "    </tr>\n",
       "    <tr>\n",
       "      <th>std</th>\n",
       "      <td>0.300653</td>\n",
       "      <td>0.000000</td>\n",
       "      <td>0.000000</td>\n",
       "      <td>0.000000</td>\n",
       "      <td>0.000000</td>\n",
       "      <td>0.000000</td>\n",
       "      <td>0.000000</td>\n",
       "      <td>0.000000</td>\n",
       "      <td>0.000000</td>\n",
       "      <td>0.000000</td>\n",
       "      <td>...</td>\n",
       "      <td>0.000000</td>\n",
       "      <td>0.000000</td>\n",
       "      <td>0.000000</td>\n",
       "      <td>0.000000</td>\n",
       "      <td>0.000000</td>\n",
       "      <td>0.000000</td>\n",
       "      <td>0.000000</td>\n",
       "      <td>0.000000</td>\n",
       "      <td>0.000000</td>\n",
       "      <td>0.000000</td>\n",
       "    </tr>\n",
       "    <tr>\n",
       "      <th>min</th>\n",
       "      <td>0.000000</td>\n",
       "      <td>0.408447</td>\n",
       "      <td>-15.046875</td>\n",
       "      <td>2.117188</td>\n",
       "      <td>-0.040192</td>\n",
       "      <td>5.074219</td>\n",
       "      <td>-32.562500</td>\n",
       "      <td>2.347656</td>\n",
       "      <td>5.351562</td>\n",
       "      <td>-10.507812</td>\n",
       "      <td>...</td>\n",
       "      <td>-14.093750</td>\n",
       "      <td>-2.691406</td>\n",
       "      <td>-3.814453</td>\n",
       "      <td>-11.781250</td>\n",
       "      <td>8.695312</td>\n",
       "      <td>-5.261719</td>\n",
       "      <td>-14.210938</td>\n",
       "      <td>5.960938</td>\n",
       "      <td>6.300781</td>\n",
       "      <td>-38.843750</td>\n",
       "    </tr>\n",
       "    <tr>\n",
       "      <th>25%</th>\n",
       "      <td>0.000000</td>\n",
       "      <td>8.453125</td>\n",
       "      <td>-4.738281</td>\n",
       "      <td>8.718750</td>\n",
       "      <td>5.253906</td>\n",
       "      <td>9.882812</td>\n",
       "      <td>-11.203125</td>\n",
       "      <td>4.769531</td>\n",
       "      <td>13.945312</td>\n",
       "      <td>-2.318359</td>\n",
       "      <td>...</td>\n",
       "      <td>-0.058830</td>\n",
       "      <td>5.156250</td>\n",
       "      <td>0.889648</td>\n",
       "      <td>0.584473</td>\n",
       "      <td>15.632812</td>\n",
       "      <td>-1.170898</td>\n",
       "      <td>-1.947266</td>\n",
       "      <td>8.250000</td>\n",
       "      <td>13.828125</td>\n",
       "      <td>-11.210938</td>\n",
       "    </tr>\n",
       "    <tr>\n",
       "      <th>50%</th>\n",
       "      <td>0.000000</td>\n",
       "      <td>10.523438</td>\n",
       "      <td>-1.608398</td>\n",
       "      <td>10.578125</td>\n",
       "      <td>6.824219</td>\n",
       "      <td>11.109375</td>\n",
       "      <td>-4.832031</td>\n",
       "      <td>5.386719</td>\n",
       "      <td>16.453125</td>\n",
       "      <td>0.393799</td>\n",
       "      <td>...</td>\n",
       "      <td>3.203125</td>\n",
       "      <td>7.347656</td>\n",
       "      <td>1.901367</td>\n",
       "      <td>3.396484</td>\n",
       "      <td>17.953125</td>\n",
       "      <td>-0.172729</td>\n",
       "      <td>2.408203</td>\n",
       "      <td>8.890625</td>\n",
       "      <td>15.937500</td>\n",
       "      <td>-2.820312</td>\n",
       "    </tr>\n",
       "    <tr>\n",
       "      <th>75%</th>\n",
       "      <td>0.000000</td>\n",
       "      <td>12.757812</td>\n",
       "      <td>1.358398</td>\n",
       "      <td>12.515625</td>\n",
       "      <td>8.320312</td>\n",
       "      <td>12.257812</td>\n",
       "      <td>0.924805</td>\n",
       "      <td>6.003906</td>\n",
       "      <td>19.109375</td>\n",
       "      <td>2.937500</td>\n",
       "      <td>...</td>\n",
       "      <td>6.406250</td>\n",
       "      <td>9.515625</td>\n",
       "      <td>2.949219</td>\n",
       "      <td>6.207031</td>\n",
       "      <td>20.390625</td>\n",
       "      <td>0.829590</td>\n",
       "      <td>6.558594</td>\n",
       "      <td>9.593750</td>\n",
       "      <td>18.062500</td>\n",
       "      <td>4.835938</td>\n",
       "    </tr>\n",
       "    <tr>\n",
       "      <th>max</th>\n",
       "      <td>1.000000</td>\n",
       "      <td>20.312500</td>\n",
       "      <td>10.375000</td>\n",
       "      <td>19.359375</td>\n",
       "      <td>13.187500</td>\n",
       "      <td>16.671875</td>\n",
       "      <td>17.250000</td>\n",
       "      <td>8.445312</td>\n",
       "      <td>27.687500</td>\n",
       "      <td>10.148438</td>\n",
       "      <td>...</td>\n",
       "      <td>18.437500</td>\n",
       "      <td>16.718750</td>\n",
       "      <td>8.406250</td>\n",
       "      <td>18.281250</td>\n",
       "      <td>27.921875</td>\n",
       "      <td>4.273438</td>\n",
       "      <td>18.328125</td>\n",
       "      <td>12.000000</td>\n",
       "      <td>26.078125</td>\n",
       "      <td>28.500000</td>\n",
       "    </tr>\n",
       "  </tbody>\n",
       "</table>\n",
       "<p>8 rows × 201 columns</p>\n",
       "</div>"
      ],
      "text/plain": [
       "              target          var_0          var_1          var_2  \\\n",
       "count  200000.000000  200000.000000  200000.000000  200000.000000   \n",
       "mean        0.100490            NaN            NaN            NaN   \n",
       "std         0.300653       0.000000       0.000000       0.000000   \n",
       "min         0.000000       0.408447     -15.046875       2.117188   \n",
       "25%         0.000000       8.453125      -4.738281       8.718750   \n",
       "50%         0.000000      10.523438      -1.608398      10.578125   \n",
       "75%         0.000000      12.757812       1.358398      12.515625   \n",
       "max         1.000000      20.312500      10.375000      19.359375   \n",
       "\n",
       "               var_3          var_4          var_5          var_6  \\\n",
       "count  200000.000000  200000.000000  200000.000000  200000.000000   \n",
       "mean             NaN            NaN            NaN            NaN   \n",
       "std         0.000000       0.000000       0.000000       0.000000   \n",
       "min        -0.040192       5.074219     -32.562500       2.347656   \n",
       "25%         5.253906       9.882812     -11.203125       4.769531   \n",
       "50%         6.824219      11.109375      -4.832031       5.386719   \n",
       "75%         8.320312      12.257812       0.924805       6.003906   \n",
       "max        13.187500      16.671875      17.250000       8.445312   \n",
       "\n",
       "               var_7          var_8      ...              var_190  \\\n",
       "count  200000.000000  200000.000000      ...        200000.000000   \n",
       "mean             NaN       0.000000      ...                  NaN   \n",
       "std         0.000000       0.000000      ...             0.000000   \n",
       "min         5.351562     -10.507812      ...           -14.093750   \n",
       "25%        13.945312      -2.318359      ...            -0.058830   \n",
       "50%        16.453125       0.393799      ...             3.203125   \n",
       "75%        19.109375       2.937500      ...             6.406250   \n",
       "max        27.687500      10.148438      ...            18.437500   \n",
       "\n",
       "             var_191        var_192        var_193        var_194  \\\n",
       "count  200000.000000  200000.000000  200000.000000  200000.000000   \n",
       "mean             NaN            NaN            NaN            NaN   \n",
       "std         0.000000       0.000000       0.000000       0.000000   \n",
       "min        -2.691406      -3.814453     -11.781250       8.695312   \n",
       "25%         5.156250       0.889648       0.584473      15.632812   \n",
       "50%         7.347656       1.901367       3.396484      17.953125   \n",
       "75%         9.515625       2.949219       6.207031      20.390625   \n",
       "max        16.718750       8.406250      18.281250      27.921875   \n",
       "\n",
       "             var_195        var_196        var_197        var_198  \\\n",
       "count  200000.000000  200000.000000  200000.000000  200000.000000   \n",
       "mean       -0.000000            NaN            NaN            NaN   \n",
       "std         0.000000       0.000000       0.000000       0.000000   \n",
       "min        -5.261719     -14.210938       5.960938       6.300781   \n",
       "25%        -1.170898      -1.947266       8.250000      13.828125   \n",
       "50%        -0.172729       2.408203       8.890625      15.937500   \n",
       "75%         0.829590       6.558594       9.593750      18.062500   \n",
       "max         4.273438      18.328125      12.000000      26.078125   \n",
       "\n",
       "             var_199  \n",
       "count  200000.000000  \n",
       "mean             NaN  \n",
       "std         0.000000  \n",
       "min       -38.843750  \n",
       "25%       -11.210938  \n",
       "50%        -2.820312  \n",
       "75%         4.835938  \n",
       "max        28.500000  \n",
       "\n",
       "[8 rows x 201 columns]"
      ]
     },
     "execution_count": 30,
     "metadata": {},
     "output_type": "execute_result"
    }
   ],
   "source": [
    "df_train_raw.describe()"
   ]
  },
  {
   "cell_type": "code",
   "execution_count": 31,
   "metadata": {
    "collapsed": true
   },
   "outputs": [],
   "source": [
    "# drop ID_code feature\n",
    "df_train_raw = df_train_raw.drop('ID_code', axis=1)\n",
    "df_test_raw = df_test_raw.drop('ID_code', axis=1)"
   ]
  },
  {
   "cell_type": "code",
   "execution_count": 32,
   "metadata": {},
   "outputs": [
    {
     "data": {
      "text/plain": [
       "{dtype('int8'): Index(['target'], dtype='object'),\n",
       " dtype('float16'): Index(['var_0', 'var_1', 'var_2', 'var_3', 'var_4', 'var_5', 'var_6', 'var_7',\n",
       "        'var_8', 'var_9',\n",
       "        ...\n",
       "        'var_190', 'var_191', 'var_192', 'var_193', 'var_194', 'var_195',\n",
       "        'var_196', 'var_197', 'var_198', 'var_199'],\n",
       "       dtype='object', length=200)}"
      ]
     },
     "execution_count": 32,
     "metadata": {},
     "output_type": "execute_result"
    }
   ],
   "source": [
    "# view data types\n",
    "df_train_raw.columns.to_series().groupby(df_train_raw.dtypes).groups"
   ]
  },
  {
   "cell_type": "code",
   "execution_count": 33,
   "metadata": {},
   "outputs": [
    {
     "data": {
      "text/plain": [
       "0"
      ]
     },
     "execution_count": 33,
     "metadata": {},
     "output_type": "execute_result"
    }
   ],
   "source": [
    "# view sum of NaN values\n",
    "df_train_raw.isna().sum().sum()"
   ]
  },
  {
   "cell_type": "code",
   "execution_count": 34,
   "metadata": {
    "scrolled": true
   },
   "outputs": [
    {
     "data": {
      "image/png": "[encoded data removed]",
      "text/plain": [
       "<Figure size 432x288 with 1 Axes>"
      ]
     },
     "metadata": {
      "needs_background": "light"
     },
     "output_type": "display_data"
    }
   ],
   "source": [
    "df_train_raw['target'].hist()\n",
    "plt.title('Unbalanced Target Distribution')\n",
    "plt.savefig('assets\\ml_cap_target_unbal.png')\n",
    "plt.show()"
   ]
  },
  {
   "cell_type": "code",
   "execution_count": null,
   "metadata": {
    "collapsed": true
   },
   "outputs": [],
   "source": [
    "#plt.figure(figsize=(12,4))\n",
    "#plt.title(\"Average values of Features\")\n",
    "#sns.distplot(df_train_raw[features].mean(axis=0),color=\"magenta\", kde=True,bins=120, label='train')\n",
    "#sns.distplot(df_test_raw[features].mean(axis=0),color=\"darkblue\", kde=True,bins=120, label='test')\n",
    "#plt.legend()\n",
    "#plt.savefig('assets\\ml_cap_feature_dist_mean.png')\n",
    "#plt.show()"
   ]
  },
  {
   "cell_type": "code",
   "execution_count": null,
   "metadata": {},
   "outputs": [
    {
     "name": "stderr",
     "output_type": "stream",
     "text": [
      "C:\\Users\\Aaron\\AppData\\Local\\Programs\\Python\\Python37\\lib\\site-packages\\scipy\\stats\\stats.py:1713: FutureWarning: Using a non-tuple sequence for multidimensional indexing is deprecated; use `arr[tuple(seq)]` instead of `arr[seq]`. In the future this will be interpreted as an array index, `arr[np.array(seq)]`, which will result either in an error or a different result.\n",
      "  return np.add.reduce(sorted[indexer] * weights, axis=axis) / sumval\n"
     ]
    }
   ],
   "source": [
    "plt.figure(figsize=(12,4))\n",
    "features = df_train_raw.drop('target', axis=1).columns.values\n",
    "plt.title(\"Median values of Features\")\n",
    "sns.distplot(df_train_raw[features].median(axis=0),\n",
    "             color=\"green\",kde=True,bins=120, label='train')\n",
    "sns.distplot(df_test_raw[features].median(axis=0),\n",
    "             color=\"blue\", kde=True,bins=120, label='test')\n",
    "plt.legend()\n",
    "plt.savefig('assets\\ml_cap_feature_dist_mid.png')\n",
    "plt.show()"
   ]
  },
  {
   "cell_type": "code",
   "execution_count": null,
   "metadata": {},
   "outputs": [],
   "source": [
    "plt.figure(figsize=(12,4))\n",
    "features = df_train_raw.drop('target', axis=1).columns.values\n",
    "plt.title(\"Minimum values of Features\")\n",
    "sns.distplot(df_train_raw[features].min(axis=0),color=\"blue\",kde=True,bins=120, label='train')\n",
    "sns.distplot(df_test_raw[features].min(axis=0),color=\"red\", kde=True,bins=120, label='test')\n",
    "plt.legend()\n",
    "plt.savefig('assets\\ml_cap_feature_dist_min.png')\n",
    "plt.show()"
   ]
  },
  {
   "cell_type": "code",
   "execution_count": null,
   "metadata": {},
   "outputs": [],
   "source": [
    "plt.figure(figsize=(12,4))\n",
    "features = df_train_raw.drop('target', axis=1).columns.values\n",
    "plt.title(\"Max values of Features\")\n",
    "sns.distplot(df_train_raw[features].max(axis=0),color=\"magenta\",kde=True,bins=120, label='train')\n",
    "sns.distplot(df_test_raw[features].max(axis=0),color=\"green\", kde=True,bins=120, label='test')\n",
    "plt.legend()\n",
    "plt.savefig('assets\\ml_cap_feature_dist_max.png')\n",
    "plt.show()"
   ]
  },
  {
   "cell_type": "code",
   "execution_count": 61,
   "metadata": {},
   "outputs": [],
   "source": [
    "#plt.figure(figsize=(12,4))\n",
    "#plt.title(\"Skew of Features\")\n",
    "#sns.distplot(df_train_raw[features].skew(axis=0),color=\"magenta\", kde=True,bins=120, label='train')\n",
    "#sns.distplot(df_test_raw[features].skew(axis=0),color=\"darkblue\", kde=True,bins=120, label='test')\n",
    "#plt.legend()\n",
    "#plt.savefig('assets\\ml_cap_feature_dist_skew.png')\n",
    "#plt.show()"
   ]
  },
  {
   "cell_type": "code",
   "execution_count": 60,
   "metadata": {
    "scrolled": true
   },
   "outputs": [],
   "source": [
    "#plt.figure(figsize=(16,6))\n",
    "#plt.title(\"Kurtosis of Features\")\n",
    "#sns.distplot(df_train_raw[features].kurtosis(axis=0),color=\"magenta\", kde=True,bins=120, label='train')\n",
    "#sns.distplot(df_train_raw[features].kurtosis(axis=0),color=\"green\", kde=True,bins=120, label='test')\n",
    "#plt.legend()\n",
    "#plt.savefig('assets\\ml_cap_feature_dist_kurtosis.png')\n",
    "#plt.show()"
   ]
  },
  {
   "cell_type": "markdown",
   "metadata": {},
   "source": [
    "### Train, test, split"
   ]
  },
  {
   "cell_type": "code",
   "execution_count": 11,
   "metadata": {
    "collapsed": true
   },
   "outputs": [],
   "source": [
    "#\n",
    "data = df_train_raw.drop('target', axis=1)\n",
    "target = df_train_raw['target']\n",
    "features = [c for c in data.columns]\n",
    "#\n",
    "X_train = data\n",
    "y_train = target\n",
    "X_test = df_test_raw\n",
    "y_test = pd.DataFrame()"
   ]
  },
  {
   "cell_type": "code",
   "execution_count": 12,
   "metadata": {},
   "outputs": [
    {
     "data": {
      "text/plain": [
       "(200000, 200)"
      ]
     },
     "execution_count": 12,
     "metadata": {},
     "output_type": "execute_result"
    }
   ],
   "source": [
    "data.shape"
   ]
  },
  {
   "cell_type": "markdown",
   "metadata": {},
   "source": [
    "### Check for correlation"
   ]
  },
  {
   "cell_type": "code",
   "execution_count": 13,
   "metadata": {},
   "outputs": [
    {
     "data": {
      "image/png": "[encoded data removed]",
      "text/plain": [
       "<Figure size 432x288 with 2 Axes>"
      ]
     },
     "metadata": {
      "needs_background": "light"
     },
     "output_type": "display_data"
    },
    {
     "name": "stdout",
     "output_type": "stream",
     "text": [
      "Wall time: 39 s\n"
     ]
    }
   ],
   "source": [
    "%%time\n",
    "\n",
    "# plot a heatmap\n",
    "sns.heatmap(data.corr())\n",
    "plt.title('Correlation Heat Map')\n",
    "plt.savefig('assets\\ml_cap_corr_mat.png')\n",
    "plt.show()"
   ]
  },
  {
   "cell_type": "code",
   "execution_count": 14,
   "metadata": {},
   "outputs": [
    {
     "data": {
      "text/plain": [
       "(200000, 200)"
      ]
     },
     "metadata": {},
     "output_type": "display_data"
    },
    {
     "data": {
      "text/plain": [
       "(200000, 200)"
      ]
     },
     "execution_count": 14,
     "metadata": {},
     "output_type": "execute_result"
    }
   ],
   "source": [
    "# Create correlation matrix\n",
    "corr_matrix = data.corr().abs()\n",
    "\n",
    "# Select upper triangle of correlation matrix\n",
    "upper = corr_matrix.where(np.triu(np.ones(corr_matrix.shape), k=4).astype(np.bool))\n",
    "\n",
    "# Find index of feature columns with correlation greater than 0.90\n",
    "to_drop = [column for column in upper.columns if any(upper[column] > 0.90)]\n",
    "\n",
    "display(data.shape)\n",
    "\n",
    "# Drop correlated features \n",
    "for i in to_drop:\n",
    "    data = data.drop(i, axis=1)\n",
    "\n",
    "data.shape"
   ]
  },
  {
   "cell_type": "markdown",
   "metadata": {},
   "source": [
    "### T-Test filtering"
   ]
  },
  {
   "cell_type": "code",
   "execution_count": 15,
   "metadata": {},
   "outputs": [
    {
     "data": {
      "text/plain": [
       "(200000, 200)"
      ]
     },
     "metadata": {},
     "output_type": "display_data"
    },
    {
     "data": {
      "text/plain": [
       "(200000, 131)"
      ]
     },
     "metadata": {},
     "output_type": "display_data"
    },
    {
     "name": "stdout",
     "output_type": "stream",
     "text": [
      "Wall time: 31.4 s\n"
     ]
    }
   ],
   "source": [
    "%%time\n",
    "\n",
    "#\n",
    "from scipy.stats import chi2_contingency\n",
    "#\n",
    "def ttest_filter(data, target):\n",
    "    '''\n",
    "    '''\n",
    "    feature_list = []\n",
    "    for feature in data:\n",
    "        cont = pd.crosstab(data[feature], target)\n",
    "        chi2_res = chi2_contingency(cont)\n",
    "        # filter P-value\n",
    "        if chi2_res[1] <= 0.05:\n",
    "            feature_list.append(feature)\n",
    "    return data[feature_list]\n",
    "            \n",
    "#\n",
    "display(X_train.shape)\n",
    "X_train_filt = ttest_filter(X_train, y_train)\n",
    "X_test_filt = X_test[X_train_filt.columns.values]\n",
    "display(X_train_filt.shape)"
   ]
  },
  {
   "cell_type": "markdown",
   "metadata": {},
   "source": [
    "### Balance target variable"
   ]
  },
  {
   "cell_type": "code",
   "execution_count": 16,
   "metadata": {},
   "outputs": [
    {
     "name": "stdout",
     "output_type": "stream",
     "text": [
      "Target variable count: 20098\n",
      "Total observations: 200000\n",
      "Target class: 10.049 %\n"
     ]
    }
   ],
   "source": [
    "print('Target variable count:', target.sum())\n",
    "print('Total observations:', len(target))\n",
    "print('Target class:', target.sum()/len(target)*100, '%')"
   ]
  },
  {
   "cell_type": "code",
   "execution_count": 17,
   "metadata": {
    "scrolled": true
   },
   "outputs": [
    {
     "name": "stdout",
     "output_type": "stream",
     "text": [
      "Target variable count: 20098\n",
      "Total observations: 200000\n",
      "Target class: 10.049 %\n"
     ]
    },
    {
     "name": "stderr",
     "output_type": "stream",
     "text": [
      "C:\\Users\\Aaron\\AppData\\Local\\Programs\\Python\\Python37\\lib\\site-packages\\numpy\\core\\_methods.py:36: RuntimeWarning: overflow encountered in reduce\n",
      "  return umr_sum(a, axis, dtype, out, keepdims, initial)\n",
      "C:\\Users\\Aaron\\AppData\\Local\\Programs\\Python\\Python37\\lib\\site-packages\\numpy\\core\\_methods.py:36: RuntimeWarning: overflow encountered in reduce\n",
      "  return umr_sum(a, axis, dtype, out, keepdims, initial)\n",
      "C:\\Users\\Aaron\\AppData\\Local\\Programs\\Python\\Python37\\lib\\site-packages\\numpy\\core\\_methods.py:36: RuntimeWarning: overflow encountered in reduce\n",
      "  return umr_sum(a, axis, dtype, out, keepdims, initial)\n"
     ]
    },
    {
     "data": {
      "image/png": "[encoded data removed]",
      "text/plain": [
       "<Figure size 432x288 with 1 Axes>"
      ]
     },
     "metadata": {
      "needs_background": "light"
     },
     "output_type": "display_data"
    },
    {
     "name": "stdout",
     "output_type": "stream",
     "text": [
      "Wall time: 7min 38s\n"
     ]
    }
   ],
   "source": [
    "%%time\n",
    "print('Target variable count:', target.sum())\n",
    "print('Total observations:', len(target))\n",
    "print('Target class:', target.sum()/len(target)*100, '%')\n",
    "#\n",
    "from imblearn import over_sampling as os\n",
    "sm = os.SMOTE(random_state=42)\n",
    "features = [c for c in X_train_filt.columns]\n",
    "X_train_bal, y_train_bal = sm.fit_sample(X_train_filt, y_train.ravel())\n",
    "X_train_bal = pd.DataFrame(X_train_bal, columns=features)\n",
    "y_train_bal = pd.DataFrame(y_train_bal)\n",
    "\n",
    "#\n",
    "y_train_bal.hist()\n",
    "plt.title('Balanced Target Distribution')\n",
    "plt.savefig('assets\\ml_cap_target_bal.png')\n",
    "plt.show()"
   ]
  },
  {
   "cell_type": "markdown",
   "metadata": {},
   "source": [
    "### Scale data"
   ]
  },
  {
   "cell_type": "code",
   "execution_count": 18,
   "metadata": {},
   "outputs": [
    {
     "name": "stdout",
     "output_type": "stream",
     "text": [
      "Wall time: 4.48 s\n"
     ]
    }
   ],
   "source": [
    "%%time\n",
    "\n",
    "# scale data\n",
    "from sklearn.preprocessing import StandardScaler, MinMaxScaler\n",
    "scaler = MinMaxScaler()\n",
    "# fit transform X_train\n",
    "X_train_scaled = scaler.fit_transform(X_train_bal.astype(np.float64))\n",
    "# transform X_test\n",
    "X_test_scaled = scaler.transform(X_test_filt)"
   ]
  },
  {
   "cell_type": "markdown",
   "metadata": {},
   "source": [
    "### PCA"
   ]
  },
  {
   "cell_type": "code",
   "execution_count": 19,
   "metadata": {},
   "outputs": [],
   "source": [
    "%%time\n",
    "\n",
    "# import and apply PCA\n",
    "from sklearn.decomposition import PCA\n",
    "# Make an instance of the Model\n",
    "pca = PCA(.90)\n",
    "# fit PCA on training set\n",
    "X_train_pca = pca.fit_transform(X_train_scaled)\n",
    "# transform test set\n",
    "X_test_pca = pca.transform(X_test_scaled)\n",
    "# convert numpy arrays to dataframe\n",
    "X_train_pca = pd.DataFrame(X_train_pca)\n",
    "X_test_pca = pd.DataFrame(X_test_pca)\n",
    "#\n",
    "features_pca = [c for c in X_train_pca.columns]\n",
    "# find components\n",
    "print(pca.n_components_)"
   ]
  },
  {
   "cell_type": "markdown",
   "metadata": {},
   "source": [
    "### Store clean data"
   ]
  },
  {
   "cell_type": "code",
   "execution_count": 20,
   "metadata": {},
   "outputs": [
    {
     "name": "stdout",
     "output_type": "stream",
     "text": [
      "Wall time: 12min 49s\n",
      "Parser   : 244 ms\n"
     ]
    }
   ],
   "source": [
    "%%time\n",
    "\n",
    "#\n",
    "X_train = X_train_pca\n",
    "y_train = y_train_bal.rename(columns={0:'target'})\n",
    "X_test = X_test_pca\n",
    "y_test = y_test\n",
    "features = features_pca\n",
    "\n",
    "#\n",
    "df_train_clean = pd.concat([y_train, X_train], axis=1)\n",
    "df_test_clean = X_test\n",
    "\n",
    "#\n",
    "#df_train_clean.to_csv('assets/santander/train_clean.csv', index=True)\n",
    "#df_test_clean.to_csv('assets/santander/test_clean.csv', index=True)"
   ]
  }
 ],
 "metadata": {
  "kernelspec": {
   "display_name": "Python 3",
   "language": "python",
   "name": "python3"
  },
  "language_info": {
   "codemirror_mode": {
    "name": "ipython",
    "version": 3
   },
   "file_extension": ".py",
   "mimetype": "text/x-python",
   "name": "python",
   "nbconvert_exporter": "python",
   "pygments_lexer": "ipython3",
   "version": "3.7.1"
  }
 },
 "nbformat": 4,
 "nbformat_minor": 2
}
