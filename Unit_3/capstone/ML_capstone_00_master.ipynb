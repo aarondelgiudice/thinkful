{
 "cells": [
  {
   "cell_type": "markdown",
   "metadata": {},
   "source": [
    "# Customer Transaction Prediction\n",
    "## Can you identify who will make a transaction?\n",
    "\n",
    "__Aaron M. Del Giudice__\n",
    "\n",
    "__Machine learning capstone__"
   ]
  },
  {
   "cell_type": "markdown",
   "metadata": {},
   "source": [
    "# Capstone Presentation\n",
    "Unit 3 / Lesson 7 / Project 1\n",
    "\n",
    "You're ready to put into practice everything you've learned so far.\n",
    "\n",
    "### First: Go out and find a dataset of interest.\n",
    "It could be from one of our recommended resources, some other aggregation, or scraped yourself.\n",
    "Just make sure it has lots of variables in it, including an outcome of interest to you.\n",
    "\n",
    "### Second: Explore the data.\n",
    "Get to know the data.\n",
    "Spend a lot of time going over its quirks and peccadilloes.\n",
    "You should understand how it was gathered, what's in it, and what the variables look like.\n",
    "\n",
    "### Third: Model your outcome of interest.\n",
    "You should try several different approaches and really work to tune a variety of models before using the model evaluation techniques to choose what you consider to be the best performer.\n",
    "Make sure to think about explanatory versus predictive power and experiment with both.\n",
    "\n",
    "So, here is the deliverable: Prepare a slide deck and 15 minute presentation that guides viewers through your model.\n",
    "\n",
    "Be sure to cover a few specific things:\n",
    "- A specified research question your model addresses\n",
    "- How you chose your model specification and what alternatives you compared it to\n",
    "- The practical uses of your model for an audience of interest\n",
    "- Any weak points or shortcomings of your model\n",
    "\n",
    "This presentation is not a drill.\n",
    "You'll be presenting this slide deck live to a group as the culmination of your work in the last two supervised learning units.\n",
    "As a secondary matter, your slides and / or the Jupyter notebook you use or adapt them into should be worthy of inclusion as examples of your work product when applying to jobs."
   ]
  },
  {
   "cell_type": "markdown",
   "metadata": {},
   "source": [
    "## Context\n",
    "The data is provided by Banco Santander as part of a [Kaggle competition](https://www.kaggle.com/c/santander-customer-transaction-prediction) to develop a binary classification model.\n",
    "\n",
    "The model will identify which customers will make a specific transaction in the future, irrespective of the amount of money transacted.\n",
    "The data provided has the same structure as the real data available to Santander to solve this problem.\n",
    "\n",
    "The model (and competition submissions) will be evaluated by the area under the ROC curve.\n",
    "\n",
    "## Success Metric\n",
    "\n",
    "The measures  used  to evaluate the model: ROC AUC, F1 score, and Average Precision\n",
    "\n",
    "The ROC curve displays the diagnostic ability of a binary classifier.\n",
    "It plots the False Positive Rate (FPR)  versus the True Positive Rate (TPR) for a range of threshold values between 0.0 and 1.0.\n",
    "With it we can visually compare the false alarm rate versus the hit rate.\n",
    "\n",
    "The true positive rate  is how good the model is at predicting the positive class when the actual outcome is positive\n",
    "\n",
    "The false positive rate  summarizes how often a positive class is predicted when the actual outcome is negative.\n",
    "\n",
    "F1 Score is a measure of a model's accuracy. The F1 score is a computation of the model's precision and recall.\n",
    "\n",
    "Precision is the ratio of the number of true positives divided by the sum of the true positives and false positives.\n",
    "It describes how good a model is at predicting the positive class.\n",
    "\n",
    "Recall is the ratio of the number of true positives divided by the sum of the true positives and the false negatives. Recall is also called sensitivity.\n",
    "\n",
    "F1 summarizes model skill for a specific probability threshold, while average precision and area under curve summarize the skill of a model across thresholds."
   ]
  },
  {
   "cell_type": "code",
   "execution_count": 1,
   "metadata": {
    "collapsed": true
   },
   "outputs": [],
   "source": [
    "import numpy as np\n",
    "import pandas as pd\n",
    "import matplotlib.pyplot as plt\n",
    "%matplotlib inline\n",
    "import seaborn as sns\n",
    "sns.set_style(\"darkgrid\")\n",
    "\n",
    "from sklearn.metrics import mean_squared_error, mean_absolute_error, accuracy_score\n",
    "from sklearn.metrics import roc_curve, roc_auc_score, precision_recall_curve\n",
    "from sklearn.metrics import f1_score, auc, average_precision_score"
   ]
  },
  {
   "cell_type": "markdown",
   "metadata": {},
   "source": [
    "# Preprocessing"
   ]
  },
  {
   "cell_type": "code",
   "execution_count": 2,
   "metadata": {},
   "outputs": [
    {
     "data": {
      "text/html": [
       "<div>\n",
       "<style scoped>\n",
       "    .dataframe tbody tr th:only-of-type {\n",
       "        vertical-align: middle;\n",
       "    }\n",
       "\n",
       "    .dataframe tbody tr th {\n",
       "        vertical-align: top;\n",
       "    }\n",
       "\n",
       "    .dataframe thead th {\n",
       "        text-align: right;\n",
       "    }\n",
       "</style>\n",
       "<table border=\"1\" class=\"dataframe\">\n",
       "  <thead>\n",
       "    <tr style=\"text-align: right;\">\n",
       "      <th></th>\n",
       "      <th>Unnamed: 0</th>\n",
       "      <th>target</th>\n",
       "      <th>0</th>\n",
       "      <th>1</th>\n",
       "      <th>2</th>\n",
       "      <th>3</th>\n",
       "      <th>4</th>\n",
       "      <th>5</th>\n",
       "      <th>6</th>\n",
       "      <th>7</th>\n",
       "      <th>...</th>\n",
       "      <th>76</th>\n",
       "      <th>77</th>\n",
       "      <th>78</th>\n",
       "      <th>79</th>\n",
       "      <th>80</th>\n",
       "      <th>81</th>\n",
       "      <th>82</th>\n",
       "      <th>83</th>\n",
       "      <th>84</th>\n",
       "      <th>85</th>\n",
       "    </tr>\n",
       "  </thead>\n",
       "  <tbody>\n",
       "    <tr>\n",
       "      <th>0</th>\n",
       "      <td>0</td>\n",
       "      <td>0</td>\n",
       "      <td>-0.027133</td>\n",
       "      <td>0.142831</td>\n",
       "      <td>-0.111250</td>\n",
       "      <td>0.143562</td>\n",
       "      <td>0.004239</td>\n",
       "      <td>-0.071815</td>\n",
       "      <td>0.337378</td>\n",
       "      <td>0.218159</td>\n",
       "      <td>...</td>\n",
       "      <td>-0.005709</td>\n",
       "      <td>-0.129544</td>\n",
       "      <td>-0.099462</td>\n",
       "      <td>-0.012352</td>\n",
       "      <td>-0.045079</td>\n",
       "      <td>-0.046897</td>\n",
       "      <td>-0.043987</td>\n",
       "      <td>0.064105</td>\n",
       "      <td>-0.013727</td>\n",
       "      <td>-0.128452</td>\n",
       "    </tr>\n",
       "    <tr>\n",
       "      <th>1</th>\n",
       "      <td>1</td>\n",
       "      <td>0</td>\n",
       "      <td>0.150981</td>\n",
       "      <td>0.330123</td>\n",
       "      <td>0.089315</td>\n",
       "      <td>-0.192914</td>\n",
       "      <td>-0.170878</td>\n",
       "      <td>-0.151223</td>\n",
       "      <td>0.007596</td>\n",
       "      <td>-0.114647</td>\n",
       "      <td>...</td>\n",
       "      <td>0.040397</td>\n",
       "      <td>-0.153714</td>\n",
       "      <td>0.253848</td>\n",
       "      <td>0.214468</td>\n",
       "      <td>-0.036794</td>\n",
       "      <td>-0.130433</td>\n",
       "      <td>-0.061869</td>\n",
       "      <td>-0.079233</td>\n",
       "      <td>0.044787</td>\n",
       "      <td>-0.055746</td>\n",
       "    </tr>\n",
       "    <tr>\n",
       "      <th>2</th>\n",
       "      <td>2</td>\n",
       "      <td>0</td>\n",
       "      <td>0.054292</td>\n",
       "      <td>0.222968</td>\n",
       "      <td>0.016821</td>\n",
       "      <td>0.262956</td>\n",
       "      <td>0.025092</td>\n",
       "      <td>0.004047</td>\n",
       "      <td>0.179983</td>\n",
       "      <td>0.136441</td>\n",
       "      <td>...</td>\n",
       "      <td>-0.010997</td>\n",
       "      <td>0.113560</td>\n",
       "      <td>0.022930</td>\n",
       "      <td>0.047859</td>\n",
       "      <td>0.127231</td>\n",
       "      <td>0.139168</td>\n",
       "      <td>-0.000719</td>\n",
       "      <td>-0.066721</td>\n",
       "      <td>0.103822</td>\n",
       "      <td>0.070443</td>\n",
       "    </tr>\n",
       "    <tr>\n",
       "      <th>3</th>\n",
       "      <td>3</td>\n",
       "      <td>0</td>\n",
       "      <td>-0.030226</td>\n",
       "      <td>-0.150338</td>\n",
       "      <td>0.325219</td>\n",
       "      <td>-0.326716</td>\n",
       "      <td>-0.101473</td>\n",
       "      <td>0.108594</td>\n",
       "      <td>-0.067955</td>\n",
       "      <td>-0.268760</td>\n",
       "      <td>...</td>\n",
       "      <td>-0.134556</td>\n",
       "      <td>0.025619</td>\n",
       "      <td>-0.177989</td>\n",
       "      <td>-0.049176</td>\n",
       "      <td>0.234301</td>\n",
       "      <td>-0.127792</td>\n",
       "      <td>0.001177</td>\n",
       "      <td>-0.036717</td>\n",
       "      <td>0.151785</td>\n",
       "      <td>-0.106692</td>\n",
       "    </tr>\n",
       "    <tr>\n",
       "      <th>4</th>\n",
       "      <td>4</td>\n",
       "      <td>0</td>\n",
       "      <td>0.015250</td>\n",
       "      <td>-0.142634</td>\n",
       "      <td>-0.316099</td>\n",
       "      <td>0.323023</td>\n",
       "      <td>0.001129</td>\n",
       "      <td>0.059206</td>\n",
       "      <td>-0.077948</td>\n",
       "      <td>0.238951</td>\n",
       "      <td>...</td>\n",
       "      <td>0.192886</td>\n",
       "      <td>-0.106981</td>\n",
       "      <td>-0.200711</td>\n",
       "      <td>0.092928</td>\n",
       "      <td>0.127197</td>\n",
       "      <td>-0.018342</td>\n",
       "      <td>-0.071950</td>\n",
       "      <td>-0.000997</td>\n",
       "      <td>0.005745</td>\n",
       "      <td>-0.377629</td>\n",
       "    </tr>\n",
       "  </tbody>\n",
       "</table>\n",
       "<p>5 rows × 88 columns</p>\n",
       "</div>"
      ],
      "text/plain": [
       "   Unnamed: 0  target         0         1         2         3         4  \\\n",
       "0           0       0 -0.027133  0.142831 -0.111250  0.143562  0.004239   \n",
       "1           1       0  0.150981  0.330123  0.089315 -0.192914 -0.170878   \n",
       "2           2       0  0.054292  0.222968  0.016821  0.262956  0.025092   \n",
       "3           3       0 -0.030226 -0.150338  0.325219 -0.326716 -0.101473   \n",
       "4           4       0  0.015250 -0.142634 -0.316099  0.323023  0.001129   \n",
       "\n",
       "          5         6         7    ...           76        77        78  \\\n",
       "0 -0.071815  0.337378  0.218159    ...    -0.005709 -0.129544 -0.099462   \n",
       "1 -0.151223  0.007596 -0.114647    ...     0.040397 -0.153714  0.253848   \n",
       "2  0.004047  0.179983  0.136441    ...    -0.010997  0.113560  0.022930   \n",
       "3  0.108594 -0.067955 -0.268760    ...    -0.134556  0.025619 -0.177989   \n",
       "4  0.059206 -0.077948  0.238951    ...     0.192886 -0.106981 -0.200711   \n",
       "\n",
       "         79        80        81        82        83        84        85  \n",
       "0 -0.012352 -0.045079 -0.046897 -0.043987  0.064105 -0.013727 -0.128452  \n",
       "1  0.214468 -0.036794 -0.130433 -0.061869 -0.079233  0.044787 -0.055746  \n",
       "2  0.047859  0.127231  0.139168 -0.000719 -0.066721  0.103822  0.070443  \n",
       "3 -0.049176  0.234301 -0.127792  0.001177 -0.036717  0.151785 -0.106692  \n",
       "4  0.092928  0.127197 -0.018342 -0.071950 -0.000997  0.005745 -0.377629  \n",
       "\n",
       "[5 rows x 88 columns]"
      ]
     },
     "metadata": {},
     "output_type": "display_data"
    },
    {
     "name": "stdout",
     "output_type": "stream",
     "text": [
      "Wall time: 5min 15s\n"
     ]
    }
   ],
   "source": [
    "%%time\n",
    "# import raw training and test data\n",
    "PATH_train = (r'assets\\santander\\train.csv')\n",
    "PATH_test = (r'assets\\santander\\test.csv')\n",
    "\n",
    "train_data = pd.read_csv(PATH_train, index_col=None)\n",
    "test_data = pd.read_csv(PATH_test, index_col=None)\n",
    "\n",
    "df_train_raw = pd.DataFrame(train_data)\n",
    "df_test_raw = pd.DataFrame(test_data)\n",
    "\n",
    "display(df_train_raw.head())"
   ]
  },
  {
   "cell_type": "raw",
   "metadata": {
    "scrolled": false
   },
   "source": [
    "####################################\n",
    "# this cell intentionally disabled #\n",
    "####################################\n",
    "\n",
    "def reduce_mem_usage(df):\n",
    "    \"\"\" iterate through all the columns of a dataframe and modify the data type\n",
    "        to reduce memory usage.        \n",
    "    \"\"\"\n",
    "    start_mem = df.memory_usage().sum() / 1024**2\n",
    "    print('Memory usage of dataframe is {:.2f} MB'.format(start_mem))\n",
    "    \n",
    "    for col in df.columns:\n",
    "        col_type = df[col].dtype\n",
    "        \n",
    "        if col_type != object:\n",
    "            c_min = df[col].min()\n",
    "            c_max = df[col].max()\n",
    "            if str(col_type)[:3] == 'int':\n",
    "                if c_min > np.iinfo(np.int8).min and c_max < np.iinfo(np.int8).max:\n",
    "                    df[col] = df[col].astype(np.int8)\n",
    "                elif c_min > np.iinfo(np.int16).min and c_max < np.iinfo(np.int16).max:\n",
    "                    df[col] = df[col].astype(np.int16)\n",
    "                elif c_min > np.iinfo(np.int32).min and c_max < np.iinfo(np.int32).max:\n",
    "                    df[col] = df[col].astype(np.int32)\n",
    "                elif c_min > np.iinfo(np.int64).min and c_max < np.iinfo(np.int64).max:\n",
    "                    df[col] = df[col].astype(np.int64)  \n",
    "            else:\n",
    "                if c_min > np.finfo(np.float16).min and c_max < np.finfo(np.float16).max:\n",
    "                    df[col] = df[col].astype(np.float16)\n",
    "                elif c_min > np.finfo(np.float32).min and c_max < np.finfo(np.float32).max:\n",
    "                    df[col] = df[col].astype(np.float32)\n",
    "                else:\n",
    "                    df[col] = df[col].astype(np.float64)\n",
    "        else:\n",
    "            df[col] = df[col].astype('category')\n",
    "\n",
    "    end_mem = df.memory_usage().sum() / 1024**2\n",
    "    print('Memory usage after optimization is: {:.2f} MB'.format(end_mem))\n",
    "    print('Decreased by {:.1f}%'.format(100 * (start_mem - end_mem) / start_mem))\n",
    "    \n",
    "    return df\n",
    "\n",
    "df_train_raw = reduce_mem_usage(df_train_raw)\n",
    "df_test_raw = reduce_mem_usage(df_test_raw)"
   ]
  },
  {
   "cell_type": "markdown",
   "metadata": {},
   "source": [
    "### EDA"
   ]
  },
  {
   "cell_type": "code",
   "execution_count": 3,
   "metadata": {},
   "outputs": [
    {
     "data": {
      "text/plain": [
       "(359804, 88)"
      ]
     },
     "metadata": {},
     "output_type": "display_data"
    },
    {
     "data": {
      "text/plain": [
       "(200000, 87)"
      ]
     },
     "metadata": {},
     "output_type": "display_data"
    }
   ],
   "source": [
    "display(df_train_raw.shape)\n",
    "display(df_test_raw.shape)"
   ]
  },
  {
   "cell_type": "code",
   "execution_count": 4,
   "metadata": {},
   "outputs": [
    {
     "name": "stdout",
     "output_type": "stream",
     "text": [
      "<class 'pandas.core.frame.DataFrame'>\n",
      "RangeIndex: 200000 entries, 0 to 199999\n",
      "Columns: 202 entries, ID_code to var_199\n",
      "dtypes: float64(200), int64(1), object(1)\n",
      "memory usage: 308.2+ MB\n"
     ]
    },
    {
     "data": {
      "text/plain": [
       "None"
      ]
     },
     "metadata": {},
     "output_type": "display_data"
    },
    {
     "name": "stdout",
     "output_type": "stream",
     "text": [
      "<class 'pandas.core.frame.DataFrame'>\n",
      "RangeIndex: 200000 entries, 0 to 199999\n",
      "Columns: 201 entries, ID_code to var_199\n",
      "dtypes: float64(200), object(1)\n",
      "memory usage: 306.7+ MB\n"
     ]
    },
    {
     "data": {
      "text/plain": [
       "None"
      ]
     },
     "metadata": {},
     "output_type": "display_data"
    }
   ],
   "source": [
    "display(df_train_raw.info())\n",
    "display(df_test_raw.info())"
   ]
  },
  {
   "cell_type": "code",
   "execution_count": 5,
   "metadata": {},
   "outputs": [
    {
     "data": {
      "text/html": [
       "<div>\n",
       "<style scoped>\n",
       "    .dataframe tbody tr th:only-of-type {\n",
       "        vertical-align: middle;\n",
       "    }\n",
       "\n",
       "    .dataframe tbody tr th {\n",
       "        vertical-align: top;\n",
       "    }\n",
       "\n",
       "    .dataframe thead th {\n",
       "        text-align: right;\n",
       "    }\n",
       "</style>\n",
       "<table border=\"1\" class=\"dataframe\">\n",
       "  <thead>\n",
       "    <tr style=\"text-align: right;\">\n",
       "      <th></th>\n",
       "      <th>target</th>\n",
       "      <th>var_0</th>\n",
       "      <th>var_1</th>\n",
       "      <th>var_2</th>\n",
       "      <th>var_3</th>\n",
       "      <th>var_4</th>\n",
       "      <th>var_5</th>\n",
       "      <th>var_6</th>\n",
       "      <th>var_7</th>\n",
       "      <th>var_8</th>\n",
       "      <th>...</th>\n",
       "      <th>var_190</th>\n",
       "      <th>var_191</th>\n",
       "      <th>var_192</th>\n",
       "      <th>var_193</th>\n",
       "      <th>var_194</th>\n",
       "      <th>var_195</th>\n",
       "      <th>var_196</th>\n",
       "      <th>var_197</th>\n",
       "      <th>var_198</th>\n",
       "      <th>var_199</th>\n",
       "    </tr>\n",
       "  </thead>\n",
       "  <tbody>\n",
       "    <tr>\n",
       "      <th>count</th>\n",
       "      <td>200000.000000</td>\n",
       "      <td>200000.000000</td>\n",
       "      <td>200000.000000</td>\n",
       "      <td>200000.000000</td>\n",
       "      <td>200000.000000</td>\n",
       "      <td>200000.000000</td>\n",
       "      <td>200000.000000</td>\n",
       "      <td>200000.000000</td>\n",
       "      <td>200000.000000</td>\n",
       "      <td>200000.000000</td>\n",
       "      <td>...</td>\n",
       "      <td>200000.000000</td>\n",
       "      <td>200000.000000</td>\n",
       "      <td>200000.000000</td>\n",
       "      <td>200000.000000</td>\n",
       "      <td>200000.000000</td>\n",
       "      <td>200000.000000</td>\n",
       "      <td>200000.000000</td>\n",
       "      <td>200000.000000</td>\n",
       "      <td>200000.000000</td>\n",
       "      <td>200000.000000</td>\n",
       "    </tr>\n",
       "    <tr>\n",
       "      <th>mean</th>\n",
       "      <td>0.100490</td>\n",
       "      <td>10.679914</td>\n",
       "      <td>-1.627622</td>\n",
       "      <td>10.715192</td>\n",
       "      <td>6.796529</td>\n",
       "      <td>11.078333</td>\n",
       "      <td>-5.065317</td>\n",
       "      <td>5.408949</td>\n",
       "      <td>16.545850</td>\n",
       "      <td>0.284162</td>\n",
       "      <td>...</td>\n",
       "      <td>3.234440</td>\n",
       "      <td>7.438408</td>\n",
       "      <td>1.927839</td>\n",
       "      <td>3.331774</td>\n",
       "      <td>17.993784</td>\n",
       "      <td>-0.142088</td>\n",
       "      <td>2.303335</td>\n",
       "      <td>8.908158</td>\n",
       "      <td>15.870720</td>\n",
       "      <td>-3.326537</td>\n",
       "    </tr>\n",
       "    <tr>\n",
       "      <th>std</th>\n",
       "      <td>0.300653</td>\n",
       "      <td>3.040051</td>\n",
       "      <td>4.050044</td>\n",
       "      <td>2.640894</td>\n",
       "      <td>2.043319</td>\n",
       "      <td>1.623150</td>\n",
       "      <td>7.863267</td>\n",
       "      <td>0.866607</td>\n",
       "      <td>3.418076</td>\n",
       "      <td>3.332634</td>\n",
       "      <td>...</td>\n",
       "      <td>4.559922</td>\n",
       "      <td>3.023272</td>\n",
       "      <td>1.478423</td>\n",
       "      <td>3.992030</td>\n",
       "      <td>3.135162</td>\n",
       "      <td>1.429372</td>\n",
       "      <td>5.454369</td>\n",
       "      <td>0.921625</td>\n",
       "      <td>3.010945</td>\n",
       "      <td>10.438015</td>\n",
       "    </tr>\n",
       "    <tr>\n",
       "      <th>min</th>\n",
       "      <td>0.000000</td>\n",
       "      <td>0.408400</td>\n",
       "      <td>-15.043400</td>\n",
       "      <td>2.117100</td>\n",
       "      <td>-0.040200</td>\n",
       "      <td>5.074800</td>\n",
       "      <td>-32.562600</td>\n",
       "      <td>2.347300</td>\n",
       "      <td>5.349700</td>\n",
       "      <td>-10.505500</td>\n",
       "      <td>...</td>\n",
       "      <td>-14.093300</td>\n",
       "      <td>-2.691700</td>\n",
       "      <td>-3.814500</td>\n",
       "      <td>-11.783400</td>\n",
       "      <td>8.694400</td>\n",
       "      <td>-5.261000</td>\n",
       "      <td>-14.209600</td>\n",
       "      <td>5.960600</td>\n",
       "      <td>6.299300</td>\n",
       "      <td>-38.852800</td>\n",
       "    </tr>\n",
       "    <tr>\n",
       "      <th>25%</th>\n",
       "      <td>0.000000</td>\n",
       "      <td>8.453850</td>\n",
       "      <td>-4.740025</td>\n",
       "      <td>8.722475</td>\n",
       "      <td>5.254075</td>\n",
       "      <td>9.883175</td>\n",
       "      <td>-11.200350</td>\n",
       "      <td>4.767700</td>\n",
       "      <td>13.943800</td>\n",
       "      <td>-2.317800</td>\n",
       "      <td>...</td>\n",
       "      <td>-0.058825</td>\n",
       "      <td>5.157400</td>\n",
       "      <td>0.889775</td>\n",
       "      <td>0.584600</td>\n",
       "      <td>15.629800</td>\n",
       "      <td>-1.170700</td>\n",
       "      <td>-1.946925</td>\n",
       "      <td>8.252800</td>\n",
       "      <td>13.829700</td>\n",
       "      <td>-11.208475</td>\n",
       "    </tr>\n",
       "    <tr>\n",
       "      <th>50%</th>\n",
       "      <td>0.000000</td>\n",
       "      <td>10.524750</td>\n",
       "      <td>-1.608050</td>\n",
       "      <td>10.580000</td>\n",
       "      <td>6.825000</td>\n",
       "      <td>11.108250</td>\n",
       "      <td>-4.833150</td>\n",
       "      <td>5.385100</td>\n",
       "      <td>16.456800</td>\n",
       "      <td>0.393700</td>\n",
       "      <td>...</td>\n",
       "      <td>3.203600</td>\n",
       "      <td>7.347750</td>\n",
       "      <td>1.901300</td>\n",
       "      <td>3.396350</td>\n",
       "      <td>17.957950</td>\n",
       "      <td>-0.172700</td>\n",
       "      <td>2.408900</td>\n",
       "      <td>8.888200</td>\n",
       "      <td>15.934050</td>\n",
       "      <td>-2.819550</td>\n",
       "    </tr>\n",
       "    <tr>\n",
       "      <th>75%</th>\n",
       "      <td>0.000000</td>\n",
       "      <td>12.758200</td>\n",
       "      <td>1.358625</td>\n",
       "      <td>12.516700</td>\n",
       "      <td>8.324100</td>\n",
       "      <td>12.261125</td>\n",
       "      <td>0.924800</td>\n",
       "      <td>6.003000</td>\n",
       "      <td>19.102900</td>\n",
       "      <td>2.937900</td>\n",
       "      <td>...</td>\n",
       "      <td>6.406200</td>\n",
       "      <td>9.512525</td>\n",
       "      <td>2.949500</td>\n",
       "      <td>6.205800</td>\n",
       "      <td>20.396525</td>\n",
       "      <td>0.829600</td>\n",
       "      <td>6.556725</td>\n",
       "      <td>9.593300</td>\n",
       "      <td>18.064725</td>\n",
       "      <td>4.836800</td>\n",
       "    </tr>\n",
       "    <tr>\n",
       "      <th>max</th>\n",
       "      <td>1.000000</td>\n",
       "      <td>20.315000</td>\n",
       "      <td>10.376800</td>\n",
       "      <td>19.353000</td>\n",
       "      <td>13.188300</td>\n",
       "      <td>16.671400</td>\n",
       "      <td>17.251600</td>\n",
       "      <td>8.447700</td>\n",
       "      <td>27.691800</td>\n",
       "      <td>10.151300</td>\n",
       "      <td>...</td>\n",
       "      <td>18.440900</td>\n",
       "      <td>16.716500</td>\n",
       "      <td>8.402400</td>\n",
       "      <td>18.281800</td>\n",
       "      <td>27.928800</td>\n",
       "      <td>4.272900</td>\n",
       "      <td>18.321500</td>\n",
       "      <td>12.000400</td>\n",
       "      <td>26.079100</td>\n",
       "      <td>28.500700</td>\n",
       "    </tr>\n",
       "  </tbody>\n",
       "</table>\n",
       "<p>8 rows × 201 columns</p>\n",
       "</div>"
      ],
      "text/plain": [
       "              target          var_0          var_1          var_2  \\\n",
       "count  200000.000000  200000.000000  200000.000000  200000.000000   \n",
       "mean        0.100490      10.679914      -1.627622      10.715192   \n",
       "std         0.300653       3.040051       4.050044       2.640894   \n",
       "min         0.000000       0.408400     -15.043400       2.117100   \n",
       "25%         0.000000       8.453850      -4.740025       8.722475   \n",
       "50%         0.000000      10.524750      -1.608050      10.580000   \n",
       "75%         0.000000      12.758200       1.358625      12.516700   \n",
       "max         1.000000      20.315000      10.376800      19.353000   \n",
       "\n",
       "               var_3          var_4          var_5          var_6  \\\n",
       "count  200000.000000  200000.000000  200000.000000  200000.000000   \n",
       "mean        6.796529      11.078333      -5.065317       5.408949   \n",
       "std         2.043319       1.623150       7.863267       0.866607   \n",
       "min        -0.040200       5.074800     -32.562600       2.347300   \n",
       "25%         5.254075       9.883175     -11.200350       4.767700   \n",
       "50%         6.825000      11.108250      -4.833150       5.385100   \n",
       "75%         8.324100      12.261125       0.924800       6.003000   \n",
       "max        13.188300      16.671400      17.251600       8.447700   \n",
       "\n",
       "               var_7          var_8      ...              var_190  \\\n",
       "count  200000.000000  200000.000000      ...        200000.000000   \n",
       "mean       16.545850       0.284162      ...             3.234440   \n",
       "std         3.418076       3.332634      ...             4.559922   \n",
       "min         5.349700     -10.505500      ...           -14.093300   \n",
       "25%        13.943800      -2.317800      ...            -0.058825   \n",
       "50%        16.456800       0.393700      ...             3.203600   \n",
       "75%        19.102900       2.937900      ...             6.406200   \n",
       "max        27.691800      10.151300      ...            18.440900   \n",
       "\n",
       "             var_191        var_192        var_193        var_194  \\\n",
       "count  200000.000000  200000.000000  200000.000000  200000.000000   \n",
       "mean        7.438408       1.927839       3.331774      17.993784   \n",
       "std         3.023272       1.478423       3.992030       3.135162   \n",
       "min        -2.691700      -3.814500     -11.783400       8.694400   \n",
       "25%         5.157400       0.889775       0.584600      15.629800   \n",
       "50%         7.347750       1.901300       3.396350      17.957950   \n",
       "75%         9.512525       2.949500       6.205800      20.396525   \n",
       "max        16.716500       8.402400      18.281800      27.928800   \n",
       "\n",
       "             var_195        var_196        var_197        var_198  \\\n",
       "count  200000.000000  200000.000000  200000.000000  200000.000000   \n",
       "mean       -0.142088       2.303335       8.908158      15.870720   \n",
       "std         1.429372       5.454369       0.921625       3.010945   \n",
       "min        -5.261000     -14.209600       5.960600       6.299300   \n",
       "25%        -1.170700      -1.946925       8.252800      13.829700   \n",
       "50%        -0.172700       2.408900       8.888200      15.934050   \n",
       "75%         0.829600       6.556725       9.593300      18.064725   \n",
       "max         4.272900      18.321500      12.000400      26.079100   \n",
       "\n",
       "             var_199  \n",
       "count  200000.000000  \n",
       "mean       -3.326537  \n",
       "std        10.438015  \n",
       "min       -38.852800  \n",
       "25%       -11.208475  \n",
       "50%        -2.819550  \n",
       "75%         4.836800  \n",
       "max        28.500700  \n",
       "\n",
       "[8 rows x 201 columns]"
      ]
     },
     "execution_count": 5,
     "metadata": {},
     "output_type": "execute_result"
    }
   ],
   "source": [
    "df_train_raw.describe()"
   ]
  },
  {
   "cell_type": "code",
   "execution_count": 6,
   "metadata": {
    "collapsed": true
   },
   "outputs": [],
   "source": [
    "# drop ID_code feature\n",
    "df_train_raw = df_train_raw.drop('ID_code', axis=1)\n",
    "df_test_raw = df_test_raw.drop('ID_code', axis=1)"
   ]
  },
  {
   "cell_type": "code",
   "execution_count": 7,
   "metadata": {},
   "outputs": [
    {
     "data": {
      "text/plain": [
       "{dtype('int64'): Index(['target'], dtype='object'),\n",
       " dtype('float64'): Index(['var_0', 'var_1', 'var_2', 'var_3', 'var_4', 'var_5', 'var_6', 'var_7',\n",
       "        'var_8', 'var_9',\n",
       "        ...\n",
       "        'var_190', 'var_191', 'var_192', 'var_193', 'var_194', 'var_195',\n",
       "        'var_196', 'var_197', 'var_198', 'var_199'],\n",
       "       dtype='object', length=200)}"
      ]
     },
     "execution_count": 7,
     "metadata": {},
     "output_type": "execute_result"
    }
   ],
   "source": [
    "# view data types\n",
    "df_train_raw.columns.to_series().groupby(df_train_raw.dtypes).groups"
   ]
  },
  {
   "cell_type": "code",
   "execution_count": 8,
   "metadata": {},
   "outputs": [
    {
     "data": {
      "text/plain": [
       "0"
      ]
     },
     "execution_count": 8,
     "metadata": {},
     "output_type": "execute_result"
    }
   ],
   "source": [
    "# view sum of NaN values\n",
    "df_train_raw.isna().sum().sum()"
   ]
  },
  {
   "cell_type": "code",
   "execution_count": 27,
   "metadata": {},
   "outputs": [
    {
     "data": {
      "image/png": "[encoded data removed]",
      "text/plain": [
       "<Figure size 432x288 with 1 Axes>"
      ]
     },
     "metadata": {
      "needs_background": "light"
     },
     "output_type": "display_data"
    }
   ],
   "source": [
    "plt.figure(figsize=(6,4))\n",
    "plt.title(\"Target Variable Distribution\")\n",
    "sns.distplot(df_train_raw['target'],\n",
    "             color=\"red\", kde=False,bins=5, label='Unbalanced')\n",
    "plt.legend()\n",
    "plt.xlabel('Target')\n",
    "#plt.savefig('assets\\ml_cap_target_unbal.png')\n",
    "plt.show()"
   ]
  },
  {
   "cell_type": "code",
   "execution_count": 10,
   "metadata": {
    "collapsed": true
   },
   "outputs": [],
   "source": [
    "#\n",
    "features = df_train_raw.drop('target', axis=1).columns.values"
   ]
  },
  {
   "cell_type": "code",
   "execution_count": 11,
   "metadata": {},
   "outputs": [
    {
     "name": "stderr",
     "output_type": "stream",
     "text": [
      "C:\\Users\\Aaron\\AppData\\Local\\Programs\\Python\\Python37\\lib\\site-packages\\scipy\\stats\\stats.py:1713: FutureWarning: Using a non-tuple sequence for multidimensional indexing is deprecated; use `arr[tuple(seq)]` instead of `arr[seq]`. In the future this will be interpreted as an array index, `arr[np.array(seq)]`, which will result either in an error or a different result.\n",
      "  return np.add.reduce(sorted[indexer] * weights, axis=axis) / sumval\n"
     ]
    },
    {
     "data": {
      "image/png": "[encoded data removed]",
      "text/plain": [
       "<Figure size 576x288 with 1 Axes>"
      ]
     },
     "metadata": {
      "needs_background": "light"
     },
     "output_type": "display_data"
    }
   ],
   "source": [
    "plt.figure(figsize=(8,4))\n",
    "plt.title(\"Mean values of Features\")\n",
    "sns.distplot(df_train_raw[features].mean(axis=0),\n",
    "             color=\"blue\",kde=True,bins=120, label='train')\n",
    "sns.distplot(df_test_raw[features].mean(axis=0),\n",
    "             color=\"red\", kde=True,bins=120, label='test')\n",
    "plt.legend()\n",
    "#plt.savefig('assets\\ml_cap_feature_dist_mean.png')\n",
    "plt.show()"
   ]
  },
  {
   "cell_type": "code",
   "execution_count": 12,
   "metadata": {},
   "outputs": [
    {
     "data": {
      "image/png": "[encoded data removed]",
      "text/plain": [
       "<Figure size 576x288 with 1 Axes>"
      ]
     },
     "metadata": {
      "needs_background": "light"
     },
     "output_type": "display_data"
    }
   ],
   "source": [
    "plt.figure(figsize=(8,4))\n",
    "plt.title(\"Median values of Features\")\n",
    "sns.distplot(df_train_raw[features].median(axis=0),\n",
    "             color=\"blue\",kde=True,bins=120, label='train')\n",
    "sns.distplot(df_test_raw[features].median(axis=0),\n",
    "             color=\"green\", kde=True,bins=120, label='test')\n",
    "plt.legend()\n",
    "#plt.savefig('assets\\ml_cap_feature_dist_mid.png')\n",
    "plt.show()"
   ]
  },
  {
   "cell_type": "code",
   "execution_count": 13,
   "metadata": {},
   "outputs": [
    {
     "data": {
      "image/png": "[encoded data removed]",
      "text/plain": [
       "<Figure size 576x288 with 1 Axes>"
      ]
     },
     "metadata": {
      "needs_background": "light"
     },
     "output_type": "display_data"
    }
   ],
   "source": [
    "plt.figure(figsize=(8,4))\n",
    "plt.title(\"Minimum values of Features\")\n",
    "sns.distplot(df_train_raw[features].min(axis=0),color=\"green\",\n",
    "             kde=True,bins=120, label='train')\n",
    "sns.distplot(df_test_raw[features].min(axis=0),color=\"orange\",\n",
    "             kde=True,bins=120, label='test')\n",
    "plt.legend()\n",
    "#plt.savefig('assets\\ml_cap_feature_dist_min.png')\n",
    "plt.show()"
   ]
  },
  {
   "cell_type": "code",
   "execution_count": 14,
   "metadata": {},
   "outputs": [
    {
     "data": {
      "image/png": "[encoded data removed]",
      "text/plain": [
       "<Figure size 576x288 with 1 Axes>"
      ]
     },
     "metadata": {
      "needs_background": "light"
     },
     "output_type": "display_data"
    }
   ],
   "source": [
    "plt.figure(figsize=(8,4))\n",
    "plt.title(\"Max values of Features\")\n",
    "sns.distplot(df_train_raw[features].max(axis=0),\n",
    "             color=\"green\",kde=True,bins=120, label='train')\n",
    "sns.distplot(df_test_raw[features].max(axis=0),\n",
    "             color=\"blue\", kde=True,bins=120, label='test')\n",
    "plt.legend()\n",
    "#plt.savefig('assets\\ml_cap_feature_dist_max.png')\n",
    "plt.show()"
   ]
  },
  {
   "cell_type": "code",
   "execution_count": 15,
   "metadata": {},
   "outputs": [
    {
     "data": {
      "image/png": "[encoded data removed]",
      "text/plain": [
       "<Figure size 576x288 with 1 Axes>"
      ]
     },
     "metadata": {
      "needs_background": "light"
     },
     "output_type": "display_data"
    }
   ],
   "source": [
    "plt.figure(figsize=(8,4))\n",
    "plt.title(\"Skew of Features\")\n",
    "sns.distplot(df_train_raw[features].skew(axis=0),\n",
    "             color=\"red\",kde=True,bins=120, label='train')\n",
    "sns.distplot(df_test_raw[features].skew(axis=0),\n",
    "             color=\"blue\", kde=True,bins=120, label='test')\n",
    "plt.legend()\n",
    "#plt.savefig('assets\\ml_cap_feature_dist_skew.png')\n",
    "plt.show()"
   ]
  },
  {
   "cell_type": "code",
   "execution_count": 16,
   "metadata": {
    "scrolled": true
   },
   "outputs": [
    {
     "data": {
      "image/png": "[encoded data removed]",
      "text/plain": [
       "<Figure size 576x288 with 1 Axes>"
      ]
     },
     "metadata": {
      "needs_background": "light"
     },
     "output_type": "display_data"
    }
   ],
   "source": [
    "plt.figure(figsize=(8,4))\n",
    "plt.title(\"Kurtosis of Features\")\n",
    "sns.distplot(df_train_raw[features].kurtosis(axis=0),\n",
    "             color=\"orange\",kde=True,bins=120, label='train')\n",
    "sns.distplot(df_test_raw[features].kurtosis(axis=0),\n",
    "             color=\"green\", kde=True,bins=120, label='test')\n",
    "plt.legend()\n",
    "#plt.savefig('assets\\ml_cap_feature_dist_kurtosis.png')\n",
    "plt.show()"
   ]
  },
  {
   "cell_type": "markdown",
   "metadata": {},
   "source": [
    "### Train, test, split"
   ]
  },
  {
   "cell_type": "code",
   "execution_count": 17,
   "metadata": {
    "collapsed": true
   },
   "outputs": [],
   "source": [
    "#\n",
    "data = df_train_raw.drop('target', axis=1)\n",
    "target = df_train_raw['target']\n",
    "features = [c for c in data.columns]\n",
    "#\n",
    "X_train = data\n",
    "y_train = target\n",
    "X_test = df_test_raw\n",
    "y_test = pd.DataFrame()"
   ]
  },
  {
   "cell_type": "code",
   "execution_count": 18,
   "metadata": {},
   "outputs": [
    {
     "data": {
      "text/plain": [
       "(200000, 200)"
      ]
     },
     "execution_count": 18,
     "metadata": {},
     "output_type": "execute_result"
    }
   ],
   "source": [
    "data.shape"
   ]
  },
  {
   "cell_type": "markdown",
   "metadata": {},
   "source": [
    "### Check for correlation"
   ]
  },
  {
   "cell_type": "code",
   "execution_count": 19,
   "metadata": {},
   "outputs": [
    {
     "data": {
      "image/png": "[encoded data removed]",
      "text/plain": [
       "<Figure size 432x288 with 2 Axes>"
      ]
     },
     "metadata": {
      "needs_background": "light"
     },
     "output_type": "display_data"
    },
    {
     "name": "stdout",
     "output_type": "stream",
     "text": [
      "Wall time: 1min 15s\n",
      "Parser   : 295 ms\n"
     ]
    }
   ],
   "source": [
    "%%time\n",
    "\n",
    "# plot a heatmap\n",
    "sns.heatmap(data.corr())\n",
    "plt.title('Correlation Heat Map')\n",
    "#plt.savefig('assets\\ml_cap_corr_mat.png')\n",
    "plt.show()"
   ]
  },
  {
   "cell_type": "code",
   "execution_count": 20,
   "metadata": {},
   "outputs": [
    {
     "data": {
      "text/plain": [
       "(200000, 200)"
      ]
     },
     "metadata": {},
     "output_type": "display_data"
    },
    {
     "data": {
      "text/plain": [
       "(200000, 200)"
      ]
     },
     "execution_count": 20,
     "metadata": {},
     "output_type": "execute_result"
    }
   ],
   "source": [
    "# Create correlation matrix\n",
    "corr_matrix = data.corr().abs()\n",
    "\n",
    "# Select upper triangle of correlation matrix\n",
    "upper = corr_matrix.where(np.triu(np.ones(corr_matrix.shape), k=4).astype(np.bool))\n",
    "\n",
    "# Find index of feature columns with correlation greater than 0.90\n",
    "to_drop = [column for column in upper.columns if any(upper[column] > 0.90)]\n",
    "\n",
    "display(data.shape)\n",
    "\n",
    "# Drop correlated features \n",
    "for i in to_drop:\n",
    "    data = data.drop(i, axis=1)\n",
    "\n",
    "data.shape"
   ]
  },
  {
   "cell_type": "markdown",
   "metadata": {},
   "source": [
    "### T-Test filtering"
   ]
  },
  {
   "cell_type": "code",
   "execution_count": 21,
   "metadata": {},
   "outputs": [
    {
     "data": {
      "text/plain": [
       "(200000, 200)"
      ]
     },
     "metadata": {},
     "output_type": "display_data"
    },
    {
     "data": {
      "text/plain": [
       "(200000, 99)"
      ]
     },
     "metadata": {},
     "output_type": "display_data"
    },
    {
     "name": "stdout",
     "output_type": "stream",
     "text": [
      "Wall time: 2min 53s\n"
     ]
    }
   ],
   "source": [
    "%%time\n",
    "\n",
    "#\n",
    "from scipy.stats import chi2_contingency\n",
    "#\n",
    "def ttest_filter(data, target):\n",
    "    '''\n",
    "    '''\n",
    "    feature_list = []\n",
    "    for feature in data:\n",
    "        cont = pd.crosstab(data[feature], target)\n",
    "        chi2_res = chi2_contingency(cont)\n",
    "        # filter P-value\n",
    "        if chi2_res[1] <= 0.05:\n",
    "            feature_list.append(feature)\n",
    "    return data[feature_list]\n",
    "            \n",
    "#\n",
    "display(X_train.shape)\n",
    "X_train_filt = ttest_filter(X_train, y_train)\n",
    "X_test_filt = X_test[X_train_filt.columns.values]\n",
    "display(X_train_filt.shape)"
   ]
  },
  {
   "cell_type": "markdown",
   "metadata": {},
   "source": [
    "### Balance target variable"
   ]
  },
  {
   "cell_type": "code",
   "execution_count": 22,
   "metadata": {},
   "outputs": [
    {
     "name": "stdout",
     "output_type": "stream",
     "text": [
      "Target variable count: 20098\n",
      "Total observations: 200000\n",
      "Target class: 10.049 %\n"
     ]
    }
   ],
   "source": [
    "print('Target variable count:', target.sum())\n",
    "print('Total observations:', len(target))\n",
    "print('Target class:', target.sum()/len(target)*100, '%')"
   ]
  },
  {
   "cell_type": "code",
   "execution_count": 23,
   "metadata": {
    "scrolled": true
   },
   "outputs": [
    {
     "name": "stdout",
     "output_type": "stream",
     "text": [
      "Target variable count: 20098\n",
      "Total observations: 200000\n",
      "Target class: 10.049 %\n",
      "Wall time: 2min 11s\n"
     ]
    }
   ],
   "source": [
    "%%time\n",
    "print('Target variable count:', target.sum())\n",
    "print('Total observations:', len(target))\n",
    "print('Target class:', target.sum()/len(target)*100, '%')\n",
    "#\n",
    "from imblearn import over_sampling as os\n",
    "sm = os.SMOTE(random_state=42)\n",
    "features = [c for c in X_train_filt.columns]\n",
    "X_train_bal, y_train_bal = sm.fit_sample(X_train_filt, y_train.ravel())\n",
    "X_train_bal = pd.DataFrame(X_train_bal, columns=features)\n",
    "y_train_bal = pd.DataFrame(y_train_bal)"
   ]
  },
  {
   "cell_type": "code",
   "execution_count": 26,
   "metadata": {},
   "outputs": [
    {
     "data": {
      "image/png": "[encoded data removed]",
      "text/plain": [
       "<Figure size 432x288 with 1 Axes>"
      ]
     },
     "metadata": {
      "needs_background": "light"
     },
     "output_type": "display_data"
    }
   ],
   "source": [
    "plt.figure(figsize=(6,4))\n",
    "plt.title(\"Target Variable Distribution\")\n",
    "sns.distplot(y_train_bal,\n",
    "             color=\"blue\", kde=False,bins=5, label='Balanced')\n",
    "plt.legend()\n",
    "plt.xlabel('Target')\n",
    "#plt.savefig('assets\\ml_cap_target_bal.png')\n",
    "plt.show()"
   ]
  },
  {
   "cell_type": "markdown",
   "metadata": {},
   "source": [
    "### Scale data"
   ]
  },
  {
   "cell_type": "code",
   "execution_count": null,
   "metadata": {
    "collapsed": true
   },
   "outputs": [],
   "source": [
    "%%time\n",
    "\n",
    "# scale data\n",
    "from sklearn.preprocessing import StandardScaler, MinMaxScaler\n",
    "scaler = MinMaxScaler()\n",
    "# fit transform X_train\n",
    "X_train_scaled = scaler.fit_transform(X_train_bal.astype(np.float64))\n",
    "# transform X_test\n",
    "X_test_scaled = scaler.transform(X_test_filt)"
   ]
  },
  {
   "cell_type": "markdown",
   "metadata": {},
   "source": [
    "### PCA"
   ]
  },
  {
   "cell_type": "code",
   "execution_count": null,
   "metadata": {
    "collapsed": true
   },
   "outputs": [],
   "source": [
    "%%time\n",
    "\n",
    "# import and apply PCA\n",
    "from sklearn.decomposition import PCA\n",
    "# Make an instance of the Model\n",
    "pca = PCA(.90)\n",
    "# fit PCA on training set\n",
    "X_train_pca = pca.fit_transform(X_train_scaled)\n",
    "# transform test set\n",
    "X_test_pca = pca.transform(X_test_scaled)\n",
    "# convert numpy arrays to dataframe\n",
    "X_train_pca = pd.DataFrame(X_train_pca)\n",
    "X_test_pca = pd.DataFrame(X_test_pca)\n",
    "#\n",
    "features_pca = [c for c in X_train_pca.columns]"
   ]
  },
  {
   "cell_type": "code",
   "execution_count": null,
   "metadata": {
    "collapsed": true
   },
   "outputs": [],
   "source": [
    "# find components\n",
    "print(pca.n_components_)"
   ]
  },
  {
   "cell_type": "markdown",
   "metadata": {},
   "source": [
    "### Store clean data"
   ]
  },
  {
   "cell_type": "code",
   "execution_count": null,
   "metadata": {
    "collapsed": true
   },
   "outputs": [],
   "source": [
    "%%time\n",
    "\n",
    "#\n",
    "X_train = X_train_pca\n",
    "y_train = y_train_bal.rename(columns={0:'target'})\n",
    "X_test = X_test_pca\n",
    "y_test = y_test\n",
    "features = features_pca\n",
    "\n",
    "#\n",
    "df_train_clean = pd.concat([y_train, X_train], axis=1)\n",
    "df_test_clean = X_test\n",
    "\n",
    "#\n",
    "#df_train_clean.to_csv('assets/santander/train_clean.csv', index=True)\n",
    "#df_test_clean.to_csv('assets/santander/test_clean.csv', index=True)\n",
    "\n",
    "df_train = df_train_clean\n",
    "df_test = df_test_clean"
   ]
  },
  {
   "cell_type": "code",
   "execution_count": null,
   "metadata": {
    "collapsed": true
   },
   "outputs": [],
   "source": [
    "%%time\n",
    "\n",
    "# to skip data cleaning stage,\n",
    "# import clean training and test data\n",
    "PATH_train = (r'assets\\santander\\train_clean.csv')\n",
    "PATH_test = (r'assets\\santander\\test_clean.csv')\n",
    "\n",
    "train_data = pd.read_csv(PATH_train, index_col=None)\n",
    "test_data = pd.read_csv(PATH_test, index_col=None)\n",
    "\n",
    "df_train = pd.DataFrame(train_data)\n",
    "df_test = pd.DataFrame(test_data)\n",
    "\n",
    "display(df_train.head())"
   ]
  },
  {
   "cell_type": "markdown",
   "metadata": {},
   "source": [
    "# Model Selection"
   ]
  },
  {
   "cell_type": "code",
   "execution_count": null,
   "metadata": {
    "collapsed": true
   },
   "outputs": [],
   "source": [
    "# define confusion matrix function\n",
    "from sklearn.metrics import confusion_matrix\n",
    "import itertools\n",
    "\n",
    "#\n",
    "def plot_confusion_matrix(cm, classes,\n",
    "                          normalize=False,\n",
    "                          title='Confusion matrix',\n",
    "                          cmap=plt.cm.Blues):\n",
    "    \"\"\"\n",
    "    This function prints and plots the confusion matrix.\n",
    "    Normalization can be applied by setting `normalize=True`.\n",
    "    \"\"\"\n",
    "    plt.imshow(cm, interpolation='nearest', cmap=cmap)\n",
    "    plt.title(title)\n",
    "    plt.colorbar()\n",
    "    tick_marks = np.arange(len(classes))\n",
    "    plt.xticks(tick_marks, classes, rotation=0)\n",
    "    plt.yticks(tick_marks, classes)\n",
    "\n",
    "    if normalize:\n",
    "        cm = cm.astype('float') / cm.sum(axis=1)[:, np.newaxis]\n",
    "        #print(\"Normalized confusion matrix\")\n",
    "    else:\n",
    "        1#print('Confusion matrix, without normalization')\n",
    "\n",
    "    #print(cm)\n",
    "\n",
    "    thresh = cm.max() / 2.\n",
    "    for i, j in itertools.product(range(cm.shape[0]), range(cm.shape[1])):\n",
    "        plt.text(j, i, cm[i, j],\n",
    "                 horizontalalignment=\"center\",\n",
    "                 color=\"white\" if cm[i, j] > thresh else \"black\")\n",
    "\n",
    "    plt.tight_layout()\n",
    "    plt.ylabel('True label')\n",
    "    plt.xlabel('Predicted label')"
   ]
  },
  {
   "cell_type": "markdown",
   "metadata": {},
   "source": [
    "### Train, test, split"
   ]
  },
  {
   "cell_type": "code",
   "execution_count": null,
   "metadata": {
    "collapsed": true
   },
   "outputs": [],
   "source": [
    "#\n",
    "data = df_train.drop('target', axis=1)\n",
    "target = df_train['target']\n",
    "features = [c for c in data.columns]\n",
    "#\n",
    "from sklearn.model_selection import train_test_split\n",
    "X_train, X_test, y_train, y_test = train_test_split(\n",
    "    data, target, test_size=0.2, random_state=42)"
   ]
  },
  {
   "cell_type": "markdown",
   "metadata": {},
   "source": [
    "## Logistic Regression"
   ]
  },
  {
   "cell_type": "code",
   "execution_count": null,
   "metadata": {
    "collapsed": true
   },
   "outputs": [],
   "source": [
    "%%time\n",
    "\n",
    "#\n",
    "from sklearn.linear_model import LogisticRegression\n",
    "LR = LogisticRegression(solver='lbfgs', random_state=42)\n",
    "# Train the classifier\n",
    "LR.fit(X_train, y_train)\n",
    "y_pred = LR.predict(X_test)\n",
    "# metrics\n",
    "lr_metrics = {}\n",
    "lr_metrics['Accuracy score'] = accuracy_score(y_test, y_pred)\n",
    "lr_metrics['Mean absolute error'] = mean_absolute_error(y_test, y_pred)\n",
    "lr_metrics['Mean squared error'] = mean_squared_error(y_test, y_pred)"
   ]
  },
  {
   "cell_type": "markdown",
   "metadata": {},
   "source": [
    "### Confusion matrix"
   ]
  },
  {
   "cell_type": "code",
   "execution_count": null,
   "metadata": {
    "collapsed": true
   },
   "outputs": [],
   "source": [
    "# predict training values\n",
    "y_pred_train = LR.predict(X_train)\n",
    "# plot training values\n",
    "cnf_matrix = confusion_matrix(y_train, y_pred_train)\n",
    "# display and store metrics\n",
    "lr_metrics['Train Recall metric']=100*cnf_matrix[1,1]/(cnf_matrix[1,0]+cnf_matrix[1,1])\n",
    "print(\"Recall metric in the training dataset: {}%\".format(lr_metrics['Train Recall metric'])\n",
    "     )\n",
    "lr_metrics['Train Precision metric'] = 100*cnf_matrix[0,0]/(cnf_matrix[0,0]+cnf_matrix[1,0])\n",
    "print(\"Precision metric in the training dataset: {}%\".format(lr_metrics['Train Precision metric'])\n",
    "     )\n",
    "# Plot non-normalized confusion matrix\n",
    "class_names = [0,1]\n",
    "plt.figure()\n",
    "plot_confusion_matrix(cnf_matrix , classes=class_names, title='Confusion Matrix Train')\n",
    "plt.savefig('assets\\logistic_conf_train.png')\n",
    "plt.show()"
   ]
  },
  {
   "cell_type": "code",
   "execution_count": null,
   "metadata": {
    "collapsed": true
   },
   "outputs": [],
   "source": [
    "# plot test values\n",
    "cnf_matrix = confusion_matrix(y_test, y_pred)\n",
    "# display and store metrics\n",
    "lr_metrics['Test Recall metric']=100*cnf_matrix[1,1]/(cnf_matrix[1,0]+cnf_matrix[1,1])\n",
    "print(\"Recall metric in the testing dataset: {}%\".format(lr_metrics['Test Recall metric'])\n",
    "     )\n",
    "lr_metrics['Test Precision metric'] = 100*cnf_matrix[0,0]/(cnf_matrix[0,0]+cnf_matrix[1,0])\n",
    "print(\"Precision metric in the testing dataset: {}%\".format(lr_metrics['Test Precision metric'])\n",
    "     )\n",
    "# Plot non-normalized confusion matrix\n",
    "class_names = [0,1]\n",
    "plt.figure()\n",
    "plot_confusion_matrix(cnf_matrix , classes=class_names, title='Confusion Matrix Test')\n",
    "plt.savefig('assets\\logistic_conf_test.png')\n",
    "plt.show()"
   ]
  },
  {
   "cell_type": "markdown",
   "metadata": {},
   "source": [
    "### ROC curve"
   ]
  },
  {
   "cell_type": "code",
   "execution_count": null,
   "metadata": {
    "collapsed": true
   },
   "outputs": [],
   "source": [
    "# calculate AUC\n",
    "lr_metrics['ROC-AUC'] = auc_score = roc_auc_score(y_test, y_pred)\n",
    "print('ROC-AUC: %.3f' % lr_metrics['ROC-AUC'])\n",
    "# calculate roc curve\n",
    "fpr, tpr, thresholds = roc_curve(y_test, y_pred)\n",
    "\n",
    "# plot no skill\n",
    "plt.plot([0, 1], [0, 1], linestyle='--')\n",
    "# plot the roc curve for the model\n",
    "plt.plot(fpr, tpr, marker='.', label='ROC Curve')\n",
    "plt.title('Logistic Regression')\n",
    "plt.ylabel('True Positive Rate')\n",
    "plt.xlabel('False Positive Rate')\n",
    "plt.legend()\n",
    "plt.savefig('assets\\logistic_ROC.png')\n",
    "plt.show()"
   ]
  },
  {
   "cell_type": "markdown",
   "metadata": {},
   "source": [
    "### Precision-recall curve"
   ]
  },
  {
   "cell_type": "code",
   "execution_count": null,
   "metadata": {
    "collapsed": true
   },
   "outputs": [],
   "source": [
    "# calculate precision-recall curve\n",
    "precision, recall, thresholds = precision_recall_curve(y_test, y_pred)\n",
    "# calculate F1 score\n",
    "lr_metrics['F1 score'] = f1_score(y_test, y_pred)\n",
    "# calculate precision-recall AUC\n",
    "lr_metrics['Precision-Recall AUC'] = auc(recall, precision)\n",
    "# calculate average precision score\n",
    "lr_metrics['Average Precision'] = average_precision_score(y_test, y_pred)\n",
    "print('f1=%.3f auc=%.3f ap=%.3f' % (lr_metrics['F1 score'],\n",
    "                                    lr_metrics['Precision-Recall AUC'],\n",
    "                                    lr_metrics['Average Precision']))\n",
    "\n",
    "# plot no skill\n",
    "plt.plot([0, 1], [0.5, 0.5], linestyle='--')\n",
    "# plot the precision-recall curve for the model\n",
    "plt.plot(recall, precision, marker='.', label='Precision-Recall Curve')\n",
    "plt.title('Logistic Regression')\n",
    "plt.xlabel('Recall')\n",
    "plt.ylabel('Precision')\n",
    "plt.legend()\n",
    "plt.savefig('assets\\logistic_precision_recall.png')\n",
    "plt.show()"
   ]
  },
  {
   "cell_type": "markdown",
   "metadata": {},
   "source": [
    "### Metrics"
   ]
  },
  {
   "cell_type": "code",
   "execution_count": null,
   "metadata": {
    "collapsed": true
   },
   "outputs": [],
   "source": [
    "# view metrics\n",
    "print('Logistic Regression')\n",
    "for i in lr_metrics.items():\n",
    "    print(i)"
   ]
  },
  {
   "cell_type": "markdown",
   "metadata": {},
   "source": [
    "## Random Forest"
   ]
  },
  {
   "cell_type": "code",
   "execution_count": null,
   "metadata": {
    "collapsed": true
   },
   "outputs": [],
   "source": [
    "#\n",
    "from sklearn.ensemble import RandomForestClassifier\n",
    "RFC = RandomForestClassifier(n_estimators=100, random_state=42)\n",
    "# instantiate Random Forest Classifier\n",
    "RFC.fit(X_train, y_train)\n",
    "y_pred = RFC.predict(X_test)\n",
    "\n",
    "# metrics\n",
    "rfc_metrics = {}\n",
    "rfc_metrics['Accuracy score'] = accuracy_score(y_test, y_pred)\n",
    "rfc_metrics['Mean absolute error'] = mean_absolute_error(y_test, y_pred)\n",
    "rfc_metrics['Mean squared error'] = mean_squared_error(y_test, y_pred)"
   ]
  },
  {
   "cell_type": "markdown",
   "metadata": {},
   "source": [
    "### Confusion matrix"
   ]
  },
  {
   "cell_type": "code",
   "execution_count": null,
   "metadata": {
    "collapsed": true
   },
   "outputs": [],
   "source": [
    "# predict training values\n",
    "y_pred_train = RFC.predict(X_train)\n",
    "# plot training values\n",
    "cnf_matrix = confusion_matrix(y_train, y_pred_train)\n",
    "# display and store metrics\n",
    "rfc_metrics['Train Recall metric']=100*cnf_matrix[1,1]/(cnf_matrix[1,0]+cnf_matrix[1,1])\n",
    "print(\"Recall metric in the training dataset: {}%\".format(rfc_metrics['Train Recall metric'])\n",
    "     )\n",
    "rfc_metrics['Train Precision metric'] = 100*cnf_matrix[0,0]/(cnf_matrix[0,0]+cnf_matrix[1,0])\n",
    "print(\"Precision metric in the training dataset: {}%\".format(rfc_metrics['Train Precision metric'])\n",
    "     )\n",
    "# Plot non-normalized confusion matrix\n",
    "class_names = [0,1]\n",
    "plt.figure()\n",
    "plot_confusion_matrix(cnf_matrix , classes=class_names, title='Confusion Matrix Train')\n",
    "plt.savefig('assets/random_forest_conf_train.png')\n",
    "plt.show()"
   ]
  },
  {
   "cell_type": "code",
   "execution_count": null,
   "metadata": {
    "collapsed": true
   },
   "outputs": [],
   "source": [
    "# plot test values\n",
    "cnf_matrix = confusion_matrix(y_test, y_pred)\n",
    "# display and store metrics\n",
    "rfc_metrics['Test Recall metric']=100*cnf_matrix[1,1]/(cnf_matrix[1,0]+cnf_matrix[1,1])\n",
    "print(\"Recall metric in the testing dataset: {}%\".format(rfc_metrics['Test Recall metric'])\n",
    "     )\n",
    "rfc_metrics['Test Precision metric'] = 100*cnf_matrix[0,0]/(cnf_matrix[0,0]+cnf_matrix[1,0])\n",
    "print(\"Precision metric in the testing dataset: {}%\".format(rfc_metrics['Test Precision metric'])\n",
    "     )\n",
    "# Plot non-normalized confusion matrix\n",
    "class_names = [0,1]\n",
    "plt.figure()\n",
    "plot_confusion_matrix(cnf_matrix , classes=class_names, title='Confusion Matrix Test')\n",
    "plt.savefig('assets/random_forest_conf_test.png')\n",
    "plt.show()"
   ]
  },
  {
   "cell_type": "markdown",
   "metadata": {},
   "source": [
    "### ROC curve"
   ]
  },
  {
   "cell_type": "code",
   "execution_count": null,
   "metadata": {
    "collapsed": true
   },
   "outputs": [],
   "source": [
    "# calculate AUC\n",
    "rfc_metrics['ROC-AUC'] = auc_score = roc_auc_score(y_test, y_pred)\n",
    "print('ROC-AUC: %.3f' % rfc_metrics['ROC-AUC'])\n",
    "# calculate roc curve\n",
    "fpr, tpr, thresholds = roc_curve(y_test, y_pred)\n",
    "\n",
    "# plot no skill\n",
    "plt.plot([0, 1], [0, 1], linestyle='--')\n",
    "# plot the roc curve for the model\n",
    "plt.plot(fpr, tpr, marker='.', label='ROC Curve')\n",
    "plt.title('Random Forest')\n",
    "plt.ylabel('True Positive Rate')\n",
    "plt.xlabel('False Positive Rate')\n",
    "plt.legend()\n",
    "plt.savefig('assets/random_forest_ROC.png')\n",
    "plt.show()"
   ]
  },
  {
   "cell_type": "markdown",
   "metadata": {},
   "source": [
    "### Precision-recall curve"
   ]
  },
  {
   "cell_type": "code",
   "execution_count": null,
   "metadata": {
    "collapsed": true
   },
   "outputs": [],
   "source": [
    "# calculate precision-recall curve\n",
    "precision, recall, thresholds = precision_recall_curve(y_test, y_pred)\n",
    "# calculate F1 score\n",
    "rfc_metrics['F1 score'] = f1_score(y_test, y_pred)\n",
    "# calculate precision-recall AUC\n",
    "rfc_metrics['Precision-Recall AUC'] = auc(recall, precision)\n",
    "# calculate average precision score\n",
    "rfc_metrics['Average Precision'] = average_precision_score(y_test, y_pred)\n",
    "print('f1=%.3f auc=%.3f ap=%.3f' % (rfc_metrics['F1 score'],\n",
    "                                    rfc_metrics['Precision-Recall AUC'],\n",
    "                                    rfc_metrics['Average Precision']))\n",
    "\n",
    "# plot no skill\n",
    "plt.plot([0, 1], [0.5, 0.5], linestyle='--')\n",
    "# plot the precision-recall curve for the model\n",
    "plt.plot(recall, precision, marker='.', label='Precision-Recall Curve')\n",
    "plt.title('Random Forest')\n",
    "plt.xlabel('Recall')\n",
    "plt.ylabel('Precision')\n",
    "plt.legend()\n",
    "plt.savefig('assets/random_forest_precision_recall.png')\n",
    "plt.show()"
   ]
  },
  {
   "cell_type": "markdown",
   "metadata": {},
   "source": [
    "### Metrics"
   ]
  },
  {
   "cell_type": "code",
   "execution_count": null,
   "metadata": {
    "collapsed": true
   },
   "outputs": [],
   "source": [
    "# view metrics\n",
    "print('Random Forest')\n",
    "for i in rfc_metrics.items():\n",
    "    print(i)"
   ]
  },
  {
   "cell_type": "markdown",
   "metadata": {},
   "source": [
    "## Light Gradient Boosting"
   ]
  },
  {
   "cell_type": "code",
   "execution_count": null,
   "metadata": {
    "collapsed": true
   },
   "outputs": [],
   "source": [
    "# instantiate Light GBM Classifier\n",
    "from lightgbm import LGBMClassifier\n",
    "CLF = LGBMClassifier(random_state=42)\n",
    "CLF.fit(X_train, y_train)\n",
    "y_pred = CLF.predict(X_test)\n",
    "# metrics\n",
    "lgbm_metrics = {}\n",
    "lgbm_metrics['Accuracy score'] = accuracy_score(y_test, y_pred)\n",
    "lgbm_metrics['Mean absolute error'] = mean_absolute_error(y_test, y_pred)\n",
    "lgbm_metrics['Mean squared error'] = mean_squared_error(y_test, y_pred)"
   ]
  },
  {
   "cell_type": "markdown",
   "metadata": {},
   "source": [
    "### Confusion matrix"
   ]
  },
  {
   "cell_type": "code",
   "execution_count": null,
   "metadata": {
    "collapsed": true
   },
   "outputs": [],
   "source": [
    "# predict training values\n",
    "y_pred_train = CLF.predict(X_train)\n",
    "# plot training values\n",
    "cnf_matrix = confusion_matrix(y_train, y_pred_train)\n",
    "# display and store metrics\n",
    "lgbm_metrics['Train Recall metric']=100*cnf_matrix[1,1]/(cnf_matrix[1,0]+cnf_matrix[1,1])\n",
    "print(\"Recall metric in the training dataset: {}%\".format(lgbm_metrics['Train Recall metric'])\n",
    "     )\n",
    "lgbm_metrics['Train Precision metric'] = 100*cnf_matrix[0,0]/(cnf_matrix[0,0]+cnf_matrix[1,0])\n",
    "print(\"Precision metric in the training dataset: {}%\".format(lgbm_metrics['Train Precision metric'])\n",
    "     )\n",
    "# Plot non-normalized confusion matrix\n",
    "class_names = [0,1]\n",
    "plt.figure()\n",
    "plot_confusion_matrix(cnf_matrix , classes=class_names, title='Confusion Matrix Train')\n",
    "plt.savefig('assets\\light_gbm_conf_train.png')\n",
    "plt.show()"
   ]
  },
  {
   "cell_type": "code",
   "execution_count": null,
   "metadata": {
    "collapsed": true
   },
   "outputs": [],
   "source": [
    "# plot test values\n",
    "cnf_matrix = confusion_matrix(y_test, y_pred)\n",
    "# display and store metrics\n",
    "lgbm_metrics['Test Recall metric']=100*cnf_matrix[1,1]/(cnf_matrix[1,0]+cnf_matrix[1,1])\n",
    "print(\"Recall metric in the testing dataset: {}%\".format(lgbm_metrics['Test Recall metric'])\n",
    "     )\n",
    "lgbm_metrics['Test Precision metric'] = 100*cnf_matrix[0,0]/(cnf_matrix[0,0]+cnf_matrix[1,0])\n",
    "print(\"Precision metric in the testing dataset: {}%\".format(lgbm_metrics['Test Precision metric'])\n",
    "     )\n",
    "# Plot non-normalized confusion matrix\n",
    "class_names = [0,1]\n",
    "plt.figure()\n",
    "plot_confusion_matrix(cnf_matrix , classes=class_names, title='Confusion Matrix Test')\n",
    "plt.savefig('assets\\light_gbm_conf_test.png')\n",
    "plt.show()"
   ]
  },
  {
   "cell_type": "code",
   "execution_count": null,
   "metadata": {
    "collapsed": true
   },
   "outputs": [],
   "source": [
    "### ROC curve"
   ]
  },
  {
   "cell_type": "code",
   "execution_count": null,
   "metadata": {
    "collapsed": true
   },
   "outputs": [],
   "source": [
    "# calculate AUC\n",
    "lgbm_metrics['ROC-AUC'] = auc_score = roc_auc_score(y_test, y_pred)\n",
    "print('ROC-AUC: %.3f' % lgbm_metrics['ROC-AUC'])\n",
    "# calculate roc curve\n",
    "fpr, tpr, thresholds = roc_curve(y_test, y_pred)\n",
    "\n",
    "# plot no skill\n",
    "plt.plot([0, 1], [0, 1], linestyle='--')\n",
    "# plot the roc curve for the model\n",
    "plt.plot(fpr, tpr, marker='.', label='ROC Curve')\n",
    "plt.title('Light GBM')\n",
    "plt.ylabel('True Positive Rate')\n",
    "plt.xlabel('False Positive Rate')\n",
    "plt.legend()\n",
    "plt.savefig('assets\\light_gbm_ROC.png')\n",
    "plt.show()"
   ]
  },
  {
   "cell_type": "code",
   "execution_count": null,
   "metadata": {
    "collapsed": true
   },
   "outputs": [],
   "source": [
    "### Precision-recall curve"
   ]
  },
  {
   "cell_type": "code",
   "execution_count": null,
   "metadata": {
    "collapsed": true
   },
   "outputs": [],
   "source": [
    "# calculate precision-recall curve\n",
    "precision, recall, thresholds = precision_recall_curve(y_test, y_pred)\n",
    "# calculate F1 score\n",
    "lgbm_metrics['F1 score'] = f1_score(y_test, y_pred)\n",
    "# calculate precision-recall AUC\n",
    "lgbm_metrics['Precision-Recall AUC'] = auc(recall, precision)\n",
    "# calculate average precision score\n",
    "lgbm_metrics['Average Precision'] = average_precision_score(y_test, y_pred)\n",
    "print('f1=%.3f auc=%.3f ap=%.3f' % (lgbm_metrics['F1 score'],\n",
    "                                    lgbm_metrics['Precision-Recall AUC'],\n",
    "                                    lgbm_metrics['Average Precision']))\n",
    "\n",
    "# plot no skill\n",
    "plt.plot([0, 1], [0.5, 0.5], linestyle='--')\n",
    "# plot the precision-recall curve for the model\n",
    "plt.plot(recall, precision, marker='.', label='Precision-Recall Curve')\n",
    "plt.title('Light GBM')\n",
    "plt.xlabel('Recall')\n",
    "plt.ylabel('Precision')\n",
    "plt.legend()\n",
    "plt.savefig('assets\\light_gbm_precision_recall.png')\n",
    "plt.show()"
   ]
  },
  {
   "cell_type": "code",
   "execution_count": null,
   "metadata": {
    "collapsed": true
   },
   "outputs": [],
   "source": [
    "### Metrics"
   ]
  },
  {
   "cell_type": "code",
   "execution_count": null,
   "metadata": {
    "collapsed": true
   },
   "outputs": [],
   "source": [
    "# view metrics\n",
    "print('Light GBM')\n",
    "for i in lgbm_metrics.items():\n",
    "    print(i)"
   ]
  },
  {
   "cell_type": "markdown",
   "metadata": {},
   "source": [
    "# Model Tuning\n",
    "## Hyperparameter Optimization\n",
    "### Sample dataset\n",
    "Sample 50% of training data for model optimization."
   ]
  },
  {
   "cell_type": "code",
   "execution_count": null,
   "metadata": {
    "collapsed": true
   },
   "outputs": [],
   "source": [
    "# sample training data\n",
    "from sklearn.model_selection import train_test_split\n",
    "X_train_sample, X_test_sample, y_train_sample, y_test_sample = train_test_split(\n",
    "    X_train, y_train, test_size=0.5, random_state=42, stratify=y_train)"
   ]
  },
  {
   "cell_type": "code",
   "execution_count": null,
   "metadata": {
    "collapsed": true
   },
   "outputs": [],
   "source": [
    "#\n",
    "#feature_fraction=0.05 # select portion of features\n",
    "#colsample_bytree=feature_fraction\n",
    "lambda_l1=0\n",
    "lambda_l2=0\n",
    "reg_alpha=lambda_l1\n",
    "reg_lambda=lambda_l2\n",
    "early_stopping_rounds=3000\n",
    "valid_sets=[(X_train_sample,y_train_sample)]\n",
    "eval_names=['valid']\n",
    "boosting='gbdt'\n",
    "metric='auc'\n",
    "objective='binary'\n",
    "num_threads=4\n",
    "tree_learner='serial'\n",
    "\n",
    "fit_params={'lambda_l1':lambda_l1,\n",
    "            'lambda_l2':lambda_l2,\n",
    "            #'early_stopping_rounds':early_stopping_rounds,\n",
    "            #'valid_sets': valid_sets,\n",
    "            #'eval_names': eval_names,\n",
    "            'boosting':boosting,\n",
    "            'metric':metric,\n",
    "            'objective':objective,\n",
    "            'num_threads':num_threads,\n",
    "            'tree_learner':tree_learner\n",
    "           }\n",
    "# Initialize model.\n",
    "#from lightgbm import LGBMClassifier\n",
    "model = LGBMClassifier(**fit_params, random_state=42)"
   ]
  },
  {
   "cell_type": "code",
   "execution_count": null,
   "metadata": {
    "collapsed": true
   },
   "outputs": [],
   "source": [
    "%%time\n",
    "model.fit(X_train_sample, y_train_sample)"
   ]
  },
  {
   "cell_type": "raw",
   "metadata": {},
   "source": [
    "####################################\n",
    "# this cell intentionally disabled #\n",
    "# parameters are hard coded below  #\n",
    "####################################\n",
    "\n",
    "%%time\n",
    "\n",
    "# define our parameter ranges\n",
    "n_estimators=[int(x) for x in np.linspace(start = 100, stop = 1000, num = 3)]\n",
    "bagging_freq=[0,5]\n",
    "bagging_fraction=[x for x in np.linspace(.25, 1, num = 3)]\n",
    "subsample=bagging_fraction\n",
    "max_bin=[int(x) for x in np.linspace((255/2), 255, num = 3)]\n",
    "num_leaves=[int(x) for x in np.linspace(start = 13, stop = 62, num = 3)]\n",
    "max_depth=[int(x) for x in np.linspace(start = 3, stop = 15, num = 4)]\n",
    "max_depth.append(-1)\n",
    "min_data_in_leaf=[20, 80, 160]\n",
    "min_sum_hessian_in_leaf=[1e-5, 1e-3, 1e-1, 1, 10]\n",
    "min_child_weight=min_sum_hessian_in_leaf\n",
    "verbose=[0,1,1000]\n",
    "boost_from_average=[True, False]\n",
    "# Create the random grid\n",
    "param_grid = {'n_estimators': n_estimators,\n",
    "              'bagging_freq': bagging_freq,\n",
    "              'bagging_fraction': bagging_fraction,\n",
    "              'max_bin': max_bin,\n",
    "              'num_leaves': num_leaves,\n",
    "              'max_depth': max_depth,\n",
    "              'min_data_in_leaf': min_data_in_leaf,\n",
    "              'min_sum_hessian_in_leaf': min_sum_hessian_in_leaf,\n",
    "              'verbose': verbose,\n",
    "              #'boost_from_average': boost_from_average\n",
    "             }\n",
    "print(param_grid)\n",
    "# fit model\n",
    "from sklearn.model_selection import RandomizedSearchCV\n",
    "model = RandomizedSearchCV(model, param_grid, cv=3)\n",
    "model.fit(X_train_sample, y_train_sample)\n",
    "# get the best parameters\n",
    "best_params = model.best_params_\n",
    "print(best_params)"
   ]
  },
  {
   "cell_type": "code",
   "execution_count": null,
   "metadata": {
    "collapsed": true
   },
   "outputs": [],
   "source": [
    "# hard code optimized parameters\n",
    "best_params = {'verbose': 1,\n",
    "               'num_leaves': 62,\n",
    "               'n_estimators': 1000,\n",
    "               'min_sum_hessian_in_leaf': 1e-05,\n",
    "               'min_data_in_leaf': 20,\n",
    "               'max_depth': 11,\n",
    "               'max_bin': 255,\n",
    "               'bagging_freq': 0,\n",
    "               'bagging_fraction': 0.625}"
   ]
  },
  {
   "cell_type": "markdown",
   "metadata": {},
   "source": [
    "## Final Model"
   ]
  },
  {
   "cell_type": "code",
   "execution_count": null,
   "metadata": {
    "collapsed": true
   },
   "outputs": [],
   "source": [
    "%%time\n",
    "\n",
    "# refit model with best parameters\n",
    "model_best = LGBMClassifier(**best_params, random_state=42)\n",
    "# Train the classifier \n",
    "model_best.fit(X_train, y_train)\n",
    "# Test the classifier and get the prediction\n",
    "y_pred = model_best.predict(X_test)\n",
    "# metrics\n",
    "model_metrics = {}\n",
    "model_metrics['Accuracy score'] = accuracy_score(y_test, y_pred)\n",
    "model_metrics['Mean absolute error'] = mean_absolute_error(y_test, y_pred)\n",
    "model_metrics['Mean squared error'] = mean_squared_error(y_test, y_pred)"
   ]
  },
  {
   "cell_type": "markdown",
   "metadata": {},
   "source": [
    "### Confusion matrix"
   ]
  },
  {
   "cell_type": "code",
   "execution_count": null,
   "metadata": {
    "collapsed": true
   },
   "outputs": [],
   "source": [
    "y_pred_train = model_best.predict(X_train)\n",
    "cnf_matrix = confusion_matrix(y_train, y_pred_train)\n",
    "\n",
    "model_metrics['Train Recall metric'] = 100*cnf_matrix[1,1]/(cnf_matrix[1,0]+cnf_matrix[1,1])\n",
    "print(\"Recall metric in the train dataset: {}%\".format(model_metrics['Train Recall metric'])\n",
    "     )\n",
    "model_metrics['Train Precision metric'] = 100*cnf_matrix[0,0]/(cnf_matrix[0,0]+cnf_matrix[1,0])\n",
    "print(\"Precision metric in the train dataset: {}%\".format(model_metrics['Train Precision metric'])\n",
    "     )\n",
    "# Plot non-normalized confusion matrix\n",
    "class_names = [0,1]\n",
    "plt.figure()\n",
    "plot_confusion_matrix(cnf_matrix , classes=class_names, title='Confusion matrix')\n",
    "plt.savefig('assets\\opt_conf_train.png')\n",
    "plt.show()"
   ]
  },
  {
   "cell_type": "code",
   "execution_count": null,
   "metadata": {
    "collapsed": true
   },
   "outputs": [],
   "source": [
    "cnf_matrix = confusion_matrix(y_test, y_pred)\n",
    "\n",
    "model_metrics['Test Recall metric'] = 100*cnf_matrix[1,1]/(cnf_matrix[1,0]+cnf_matrix[1,1])\n",
    "print(\"Recall metric in the test dataset: {}%\".format(model_metrics['Test Recall metric'])\n",
    "     )\n",
    "model_metrics['Test Precision metric'] = 100*cnf_matrix[0,0]/(cnf_matrix[0,0]+cnf_matrix[1,0])\n",
    "print(\"Precision metric in the test dataset: {}%\".format(model_metrics['Test Precision metric'])\n",
    "     )\n",
    "# Plot non-normalized confusion matrix\n",
    "class_names = [0,1]\n",
    "plt.figure()\n",
    "plot_confusion_matrix(cnf_matrix , classes=class_names, title='Confusion matrix')\n",
    "plt.savefig('assets\\opt_conf_test.png')\n",
    "plt.show()"
   ]
  },
  {
   "cell_type": "markdown",
   "metadata": {},
   "source": [
    "### ROC curve"
   ]
  },
  {
   "cell_type": "code",
   "execution_count": null,
   "metadata": {
    "collapsed": true
   },
   "outputs": [],
   "source": [
    "# calculate AUC\n",
    "model_metrics['ROC-AUC'] = auc_score = roc_auc_score(y_test, y_pred)\n",
    "print('ROC-AUC: %.3f' % model_metrics['ROC-AUC'])\n",
    "# calculate roc curve\n",
    "fpr, tpr, thresholds = roc_curve(y_test, y_pred)\n",
    "\n",
    "# plot no skill\n",
    "plt.plot([0, 1], [0, 1], linestyle='--')\n",
    "# plot the roc curve for the model\n",
    "plt.plot(fpr, tpr, marker='.', label='ROC Curve')\n",
    "plt.title('Optimized Light GBM')\n",
    "plt.ylabel('True Positive Rate')\n",
    "plt.xlabel('False Positive Rate')\n",
    "plt.legend()\n",
    "plt.savefig('assets\\opt_roc.png')\n",
    "plt.show()"
   ]
  },
  {
   "cell_type": "markdown",
   "metadata": {},
   "source": [
    "### Precision-Recall curve"
   ]
  },
  {
   "cell_type": "code",
   "execution_count": null,
   "metadata": {
    "collapsed": true
   },
   "outputs": [],
   "source": [
    "# calculate precision-recall curve\n",
    "precision, recall, thresholds = precision_recall_curve(y_test, y_pred)\n",
    "# calculate F1 score\n",
    "model_metrics['F1 score'] = f1_score(y_test, y_pred)\n",
    "# calculate precision-recall AUC\n",
    "model_metrics['Precision-Recall AUC'] = auc(recall, precision)\n",
    "# calculate average precision score\n",
    "model_metrics['Average Precision'] = average_precision_score(y_test, y_pred)\n",
    "print('f1=%.3f auc=%.3f ap=%.3f' % (model_metrics['F1 score'],\n",
    "                                    model_metrics['Precision-Recall AUC'],\n",
    "                                    model_metrics['Average Precision']))\n",
    "\n",
    "# plot no skill\n",
    "plt.plot([0, 1], [0.5, 0.5], linestyle='--')\n",
    "# plot the precision-recall curve for the model\n",
    "plt.plot(recall, precision, marker='.', label='Precision-Recall Curve')\n",
    "plt.title('Optimized Light GBM')\n",
    "plt.xlabel('Recall')\n",
    "plt.ylabel('Precision')\n",
    "plt.legend()\n",
    "plt.savefig('assets\\opt_recall-precision.png')\n",
    "plt.show()"
   ]
  },
  {
   "cell_type": "markdown",
   "metadata": {},
   "source": [
    "### Metrics"
   ]
  },
  {
   "cell_type": "code",
   "execution_count": null,
   "metadata": {
    "collapsed": true
   },
   "outputs": [],
   "source": [
    "# view metrics\n",
    "print('Optimized Light GBM')\n",
    "for i in model_metrics.items():\n",
    "    print(i)"
   ]
  },
  {
   "cell_type": "code",
   "execution_count": null,
   "metadata": {
    "collapsed": true
   },
   "outputs": [],
   "source": [
    "# Compare performance after optimization\n",
    "prev_metrics=lgbm_metrics\n",
    "\n",
    "improv_dict = {}\n",
    "for i in model_metrics.keys():\n",
    "    improv_dict[i] = model_metrics[i]-prev_metrics[i]\n",
    "    \n",
    "for i in improv_dict.items():\n",
    "    print(i)"
   ]
  },
  {
   "cell_type": "markdown",
   "metadata": {},
   "source": [
    "# Analysis\n",
    "### Train, test, split"
   ]
  },
  {
   "cell_type": "code",
   "execution_count": null,
   "metadata": {
    "collapsed": true
   },
   "outputs": [],
   "source": [
    "#\n",
    "data = df_train.drop('target', axis=1)\n",
    "target = df_train['target']\n",
    "features = [c for c in data.columns]\n",
    "#\n",
    "X_train = data\n",
    "y_train = target\n",
    "X_test = df_test\n",
    "y_test = pd.DataFrame()"
   ]
  },
  {
   "cell_type": "markdown",
   "metadata": {},
   "source": [
    "## Final Model\n",
    "### Optimized Light Gradient Boosting"
   ]
  },
  {
   "cell_type": "code",
   "execution_count": null,
   "metadata": {
    "collapsed": true
   },
   "outputs": [],
   "source": [
    "# hard core optimized model parameters\n",
    "best_params = {# controls verbosity\n",
    "               'verbose': 1,\n",
    "               # Max number of leaves in one tree\n",
    "               'num_leaves': 62,\n",
    "               # Number of boosting iterations\n",
    "               'n_estimators': 1000,\n",
    "               # Minimal sum hessian in one leaf. Can be used to deal with over-fitting\n",
    "               # Hessian matrix is a square matrix of second-order partial derivatives\n",
    "               # of a scalar-valued function.\n",
    "               # It describes the local curvature of a function of many variables\n",
    "               'min_sum_hessian_in_leaf': 1e-05,\n",
    "               # Minimal number of data in one leaf. Can be used to deal with over-fitting\n",
    "               'min_data_in_leaf': 20,\n",
    "               # Limit the max depth for tree model. Tree still grows leaf-wise.\n",
    "               'max_depth': 11,\n",
    "               # Max number of bins that feature values will be bucketed in.\n",
    "               # Small number of bins may reduce training accuracy\n",
    "               # but may increase general power (deal with over-fitting)\n",
    "               'max_bin': 255,\n",
    "               # Frequency for bagging. Performs bagging at every k iteration\n",
    "               'bagging_freq': 0,\n",
    "               # This will randomly select (subsample) part of data without resampling.\n",
    "               # Can be used to speed up training and deal with over-fitting\n",
    "               'bagging_fraction': 0.625\n",
    "              }"
   ]
  },
  {
   "cell_type": "code",
   "execution_count": null,
   "metadata": {
    "collapsed": true
   },
   "outputs": [],
   "source": [
    "# instantiate Light GBM Classifier\n",
    "#from lightgbm import LGBMClassifier\n",
    "Model = LGBMClassifier(**best_params, random_state=42)\n",
    "Model.fit(X_train, y_train)\n",
    "# Test the classifier and get the prediction\n",
    "y_pred = Model.predict(X_train)\n",
    "# metrics\n",
    "model_metrics = {}\n",
    "model_metrics['Accuracy score'] = accuracy_score(y_train, y_pred)\n",
    "model_metrics['Mean absolute error'] = mean_absolute_error(y_train, y_pred)\n",
    "model_metrics['Mean squared error'] = mean_squared_error(y_train, y_pred)"
   ]
  },
  {
   "cell_type": "markdown",
   "metadata": {
    "collapsed": true
   },
   "source": [
    "### Confusion matrix"
   ]
  },
  {
   "cell_type": "code",
   "execution_count": null,
   "metadata": {
    "collapsed": true
   },
   "outputs": [],
   "source": [
    "#y_pred_train = Model.predict(X_train)\n",
    "#cnf_matrix = confusion_matrix(y_train, y_pred_train)\n",
    "cnf_matrix = confusion_matrix(y_train, y_pred)\n",
    "\n",
    "model_metrics['Train Recall metric'] = 100*cnf_matrix[1,1]/(cnf_matrix[1,0]+cnf_matrix[1,1])\n",
    "print(\"Recall metric in the train dataset: {}%\".format(model_metrics['Train Recall metric'])\n",
    "     )\n",
    "model_metrics['Train Precision metric'] = 100*cnf_matrix[0,0]/(cnf_matrix[0,0]+cnf_matrix[1,0])\n",
    "print(\"Precision metric in the train dataset: {}%\".format(model_metrics['Train Precision metric'])\n",
    "     )\n",
    "# Plot non-normalized confusion matrix\n",
    "class_names = [0,1]\n",
    "plt.figure()\n",
    "plot_confusion_matrix(cnf_matrix , classes=class_names, title='Confusion matrix')\n",
    "plt.savefig('assets\\model_conf_train.png')\n",
    "plt.show()"
   ]
  },
  {
   "cell_type": "markdown",
   "metadata": {
    "collapsed": true
   },
   "source": [
    "### ROC curve"
   ]
  },
  {
   "cell_type": "code",
   "execution_count": null,
   "metadata": {
    "collapsed": true
   },
   "outputs": [],
   "source": [
    "# calculate AUC\n",
    "model_metrics['ROC-AUC'] = auc_score = roc_auc_score(y_train, y_pred)\n",
    "print('ROC-AUC: %.3f' % model_metrics['ROC-AUC'])\n",
    "# calculate roc curve\n",
    "fpr, tpr, thresholds = roc_curve(y_train, y_pred)\n",
    "\n",
    "# plot no skill\n",
    "plt.plot([0, 1], [0, 1], linestyle='--')\n",
    "# plot the roc curve for the model\n",
    "plt.plot(fpr, tpr, marker='.', label='ROC Curve')\n",
    "plt.title('Optimized Light GBM')\n",
    "plt.ylabel('True Positive Rate')\n",
    "plt.xlabel('False Positive Rate')\n",
    "plt.legend()\n",
    "plt.savefig('assets\\model_ROC.png')\n",
    "plt.show()"
   ]
  },
  {
   "cell_type": "markdown",
   "metadata": {
    "collapsed": true
   },
   "source": [
    "### Precision-recall curve"
   ]
  },
  {
   "cell_type": "code",
   "execution_count": null,
   "metadata": {
    "collapsed": true
   },
   "outputs": [],
   "source": [
    "# calculate precision-recall curve\n",
    "precision, recall, thresholds = precision_recall_curve(y_train, y_pred)\n",
    "# calculate F1 score\n",
    "model_metrics['F1 score'] = f1_score(y_train, y_pred)\n",
    "# calculate precision-recall AUC\n",
    "model_metrics['Precision-Recall AUC'] = auc(recall, precision)\n",
    "# calculate average precision score\n",
    "model_metrics['Average Precision'] = average_precision_score(y_train, y_pred)\n",
    "print('f1=%.3f auc=%.3f ap=%.3f' % (model_metrics['F1 score'],\n",
    "                                    model_metrics['Precision-Recall AUC'],\n",
    "                                    model_metrics['Average Precision']))\n",
    "\n",
    "# plot no skill\n",
    "plt.plot([0, 1], [0.5, 0.5], linestyle='--')\n",
    "# plot the precision-recall curve for the model\n",
    "plt.plot(recall, precision, marker='.', label='Precision-Recall Curve')\n",
    "plt.title('Optimized Light GBM')\n",
    "plt.xlabel('Recall')\n",
    "plt.ylabel('Precision')\n",
    "plt.legend()\n",
    "plt.savefig('assets\\model_precision_recall.png')\n",
    "plt.show()"
   ]
  },
  {
   "cell_type": "markdown",
   "metadata": {},
   "source": [
    "### Feature importance"
   ]
  },
  {
   "cell_type": "code",
   "execution_count": null,
   "metadata": {
    "collapsed": true
   },
   "outputs": [],
   "source": [
    "# view top features\n",
    "feature_importance = Model.feature_importances_\n",
    "\n",
    "# Make importances relative to max importance.\n",
    "feature_importance = 100.0 * (feature_importance / feature_importance.max())\n",
    "sorted_idx = np.argsort(feature_importance[:19])\n",
    "pos = np.arange(sorted_idx.shape[0]) + 0.5\n",
    "\n",
    "#plt.subplot(1,2,2)\n",
    "#plt.barh(pos, feature_importance[sorted_idx], align='center')\n",
    "plt.figure(figsize=(6,4))\n",
    "sns.barplot(x=feature_importance[sorted_idx],\n",
    "            y=pos[::-1],\n",
    "            orient='h',\n",
    "            palette=\"cubehelix\",\n",
    "           )\n",
    "\n",
    "plt.yticks(pos, data.columns[sorted_idx])\n",
    "plt.xlabel('Relative Importance')\n",
    "plt.title('Variable Importance')\n",
    "plt.savefig('assets\\model_var_import.png')\n",
    "plt.show()"
   ]
  },
  {
   "cell_type": "code",
   "execution_count": null,
   "metadata": {
    "collapsed": true
   },
   "outputs": [],
   "source": [
    "# sort top features\n",
    "top_features = np.where(feature_importance > 57)\n",
    "top_features = data.columns[top_features].ravel()\n",
    "print(top_features)"
   ]
  },
  {
   "cell_type": "markdown",
   "metadata": {},
   "source": [
    "### Metrics"
   ]
  },
  {
   "cell_type": "code",
   "execution_count": null,
   "metadata": {
    "collapsed": true
   },
   "outputs": [],
   "source": [
    "# view metrics\n",
    "print('Optimized Light GBM')\n",
    "for i in model_metrics.items():\n",
    "    print(i)"
   ]
  },
  {
   "cell_type": "markdown",
   "metadata": {},
   "source": [
    "## Conclusion\n",
    "This data set was created to predict which bank customers will make a transaction, which we were able to predict with 97.58% success rate (ROC AUC score).\n",
    "\n",
    "This model can be applied in a business setting to determine which customers to direct specific services towards. By predicting which customers will make a transaction, businesses can advertise services related to those transactions directly to the customers making them. Businesses could also use this model to more intuitively anticipate the needs of customers by understanding what transactions they will make.\n",
    "\n",
    "This type of model could be more broadly applied outside the field of financial transactions and be used to predict customer conversion rates in other settings, such as retail, advertising click-through rates, or new customer sign up rates. The model would just require filed-specific features.\n",
    "\n",
    "Potential shortcomings of this model are the anonymous nature of the features. Both from the unlabeled nature of the data provided and from principal component analysis. The anonymous features can limit feature engineering; without context it’s difficult to determine which factors to manipulate. The lack of labels also prevents meaningful interpretation of the results. After principal component analysis it’s difficult to interpret the model’s top features.  This prevents any possible recommendations or business strategy decisions that could be gained from knowledge of feature efficacy. \n",
    "\n",
    "A possible solution to the anonymity of this model could be to use deep learning methods and apply a clustering algorithm for feature engineering. A more advanced approach such as this might create a more meaningful model that could be more versatile in its application."
   ]
  }
 ],
 "metadata": {
  "kernelspec": {
   "display_name": "Python 3",
   "language": "python",
   "name": "python3"
  },
  "language_info": {
   "codemirror_mode": {
    "name": "ipython",
    "version": 3
   },
   "file_extension": ".py",
   "mimetype": "text/x-python",
   "name": "python",
   "nbconvert_exporter": "python",
   "pygments_lexer": "ipython3",
   "version": "3.7.1"
  }
 },
 "nbformat": 4,
 "nbformat_minor": 2
}
