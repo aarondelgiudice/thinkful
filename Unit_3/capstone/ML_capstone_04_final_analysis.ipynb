{
 "cells": [
  {
   "cell_type": "markdown",
   "metadata": {},
   "source": [
    "# Bank Transaction Classifier\n",
    "## Final Analysis"
   ]
  },
  {
   "cell_type": "code",
   "execution_count": 1,
   "metadata": {
    "collapsed": true
   },
   "outputs": [],
   "source": [
    "import numpy as np\n",
    "import pandas as pd\n",
    "import matplotlib.pyplot as plt\n",
    "%matplotlib inline\n",
    "import seaborn as sns\n",
    "\n",
    "from sklearn.metrics import mean_squared_error, mean_absolute_error, accuracy_score\n",
    "\n",
    "# Area Under the Precision-Recall Curve \n",
    "from sklearn.metrics import roc_curve, roc_auc_score, precision_recall_curve\n",
    "from sklearn.metrics import f1_score, auc, average_precision_score"
   ]
  },
  {
   "cell_type": "markdown",
   "metadata": {},
   "source": [
    "### Import data"
   ]
  },
  {
   "cell_type": "code",
   "execution_count": 2,
   "metadata": {},
   "outputs": [
    {
     "data": {
      "text/html": [
       "<div>\n",
       "<style scoped>\n",
       "    .dataframe tbody tr th:only-of-type {\n",
       "        vertical-align: middle;\n",
       "    }\n",
       "\n",
       "    .dataframe tbody tr th {\n",
       "        vertical-align: top;\n",
       "    }\n",
       "\n",
       "    .dataframe thead th {\n",
       "        text-align: right;\n",
       "    }\n",
       "</style>\n",
       "<table border=\"1\" class=\"dataframe\">\n",
       "  <thead>\n",
       "    <tr style=\"text-align: right;\">\n",
       "      <th></th>\n",
       "      <th>target</th>\n",
       "      <th>0</th>\n",
       "      <th>1</th>\n",
       "      <th>2</th>\n",
       "      <th>3</th>\n",
       "      <th>4</th>\n",
       "      <th>5</th>\n",
       "      <th>6</th>\n",
       "      <th>7</th>\n",
       "      <th>8</th>\n",
       "      <th>...</th>\n",
       "      <th>103</th>\n",
       "      <th>104</th>\n",
       "      <th>105</th>\n",
       "      <th>106</th>\n",
       "      <th>107</th>\n",
       "      <th>108</th>\n",
       "      <th>109</th>\n",
       "      <th>110</th>\n",
       "      <th>111</th>\n",
       "      <th>112</th>\n",
       "    </tr>\n",
       "  </thead>\n",
       "  <tbody>\n",
       "    <tr>\n",
       "      <th>0</th>\n",
       "      <td>0</td>\n",
       "      <td>-0.030036</td>\n",
       "      <td>0.189206</td>\n",
       "      <td>-0.142440</td>\n",
       "      <td>-0.143565</td>\n",
       "      <td>-0.151003</td>\n",
       "      <td>0.048416</td>\n",
       "      <td>-0.006850</td>\n",
       "      <td>0.524275</td>\n",
       "      <td>-0.027437</td>\n",
       "      <td>...</td>\n",
       "      <td>0.049008</td>\n",
       "      <td>-0.105020</td>\n",
       "      <td>0.121585</td>\n",
       "      <td>-0.095700</td>\n",
       "      <td>-0.204164</td>\n",
       "      <td>-0.001877</td>\n",
       "      <td>-0.050741</td>\n",
       "      <td>0.139615</td>\n",
       "      <td>-0.158355</td>\n",
       "      <td>0.029863</td>\n",
       "    </tr>\n",
       "    <tr>\n",
       "      <th>1</th>\n",
       "      <td>0</td>\n",
       "      <td>0.106808</td>\n",
       "      <td>0.214185</td>\n",
       "      <td>0.110886</td>\n",
       "      <td>-0.330231</td>\n",
       "      <td>0.198607</td>\n",
       "      <td>0.066315</td>\n",
       "      <td>-0.007137</td>\n",
       "      <td>0.271827</td>\n",
       "      <td>0.035643</td>\n",
       "      <td>...</td>\n",
       "      <td>0.256393</td>\n",
       "      <td>0.002263</td>\n",
       "      <td>0.338595</td>\n",
       "      <td>-0.165596</td>\n",
       "      <td>0.119298</td>\n",
       "      <td>-0.018020</td>\n",
       "      <td>0.046759</td>\n",
       "      <td>-0.013597</td>\n",
       "      <td>0.114231</td>\n",
       "      <td>0.122277</td>\n",
       "    </tr>\n",
       "    <tr>\n",
       "      <th>2</th>\n",
       "      <td>0</td>\n",
       "      <td>0.076225</td>\n",
       "      <td>0.235300</td>\n",
       "      <td>-0.076227</td>\n",
       "      <td>-0.116202</td>\n",
       "      <td>-0.269336</td>\n",
       "      <td>0.047058</td>\n",
       "      <td>0.084512</td>\n",
       "      <td>0.128066</td>\n",
       "      <td>0.001696</td>\n",
       "      <td>...</td>\n",
       "      <td>-0.040279</td>\n",
       "      <td>0.115815</td>\n",
       "      <td>-0.076621</td>\n",
       "      <td>0.107429</td>\n",
       "      <td>-0.189526</td>\n",
       "      <td>-0.000845</td>\n",
       "      <td>-0.062543</td>\n",
       "      <td>-0.073197</td>\n",
       "      <td>-0.077206</td>\n",
       "      <td>0.085458</td>\n",
       "    </tr>\n",
       "    <tr>\n",
       "      <th>3</th>\n",
       "      <td>0</td>\n",
       "      <td>0.048793</td>\n",
       "      <td>0.238961</td>\n",
       "      <td>0.462174</td>\n",
       "      <td>-0.136540</td>\n",
       "      <td>0.150583</td>\n",
       "      <td>0.044177</td>\n",
       "      <td>-0.094569</td>\n",
       "      <td>-0.232034</td>\n",
       "      <td>-0.064521</td>\n",
       "      <td>...</td>\n",
       "      <td>0.123483</td>\n",
       "      <td>-0.145394</td>\n",
       "      <td>-0.072105</td>\n",
       "      <td>-0.174420</td>\n",
       "      <td>-0.030363</td>\n",
       "      <td>-0.003602</td>\n",
       "      <td>-0.068549</td>\n",
       "      <td>0.031388</td>\n",
       "      <td>0.084580</td>\n",
       "      <td>0.154636</td>\n",
       "    </tr>\n",
       "    <tr>\n",
       "      <th>4</th>\n",
       "      <td>0</td>\n",
       "      <td>0.023979</td>\n",
       "      <td>-0.271960</td>\n",
       "      <td>-0.424338</td>\n",
       "      <td>0.035767</td>\n",
       "      <td>-0.105605</td>\n",
       "      <td>-0.058718</td>\n",
       "      <td>-0.118066</td>\n",
       "      <td>0.027984</td>\n",
       "      <td>0.016761</td>\n",
       "      <td>...</td>\n",
       "      <td>0.035982</td>\n",
       "      <td>0.016627</td>\n",
       "      <td>0.117125</td>\n",
       "      <td>-0.109610</td>\n",
       "      <td>-0.110014</td>\n",
       "      <td>-0.324441</td>\n",
       "      <td>0.008335</td>\n",
       "      <td>0.083176</td>\n",
       "      <td>-0.084813</td>\n",
       "      <td>0.022294</td>\n",
       "    </tr>\n",
       "  </tbody>\n",
       "</table>\n",
       "<p>5 rows × 114 columns</p>\n",
       "</div>"
      ],
      "text/plain": [
       "   target         0         1         2         3         4         5  \\\n",
       "0       0 -0.030036  0.189206 -0.142440 -0.143565 -0.151003  0.048416   \n",
       "1       0  0.106808  0.214185  0.110886 -0.330231  0.198607  0.066315   \n",
       "2       0  0.076225  0.235300 -0.076227 -0.116202 -0.269336  0.047058   \n",
       "3       0  0.048793  0.238961  0.462174 -0.136540  0.150583  0.044177   \n",
       "4       0  0.023979 -0.271960 -0.424338  0.035767 -0.105605 -0.058718   \n",
       "\n",
       "          6         7         8    ...          103       104       105  \\\n",
       "0 -0.006850  0.524275 -0.027437    ...     0.049008 -0.105020  0.121585   \n",
       "1 -0.007137  0.271827  0.035643    ...     0.256393  0.002263  0.338595   \n",
       "2  0.084512  0.128066  0.001696    ...    -0.040279  0.115815 -0.076621   \n",
       "3 -0.094569 -0.232034 -0.064521    ...     0.123483 -0.145394 -0.072105   \n",
       "4 -0.118066  0.027984  0.016761    ...     0.035982  0.016627  0.117125   \n",
       "\n",
       "        106       107       108       109       110       111       112  \n",
       "0 -0.095700 -0.204164 -0.001877 -0.050741  0.139615 -0.158355  0.029863  \n",
       "1 -0.165596  0.119298 -0.018020  0.046759 -0.013597  0.114231  0.122277  \n",
       "2  0.107429 -0.189526 -0.000845 -0.062543 -0.073197 -0.077206  0.085458  \n",
       "3 -0.174420 -0.030363 -0.003602 -0.068549  0.031388  0.084580  0.154636  \n",
       "4 -0.109610 -0.110014 -0.324441  0.008335  0.083176 -0.084813  0.022294  \n",
       "\n",
       "[5 rows x 114 columns]"
      ]
     },
     "metadata": {},
     "output_type": "display_data"
    },
    {
     "name": "stdout",
     "output_type": "stream",
     "text": [
      "Wall time: 8min 24s\n"
     ]
    }
   ],
   "source": [
    "%%time\n",
    "\n",
    "# import training and test data\n",
    "PATH_train = (r'assets\\santander\\train_clean.csv')\n",
    "PATH_test = (r'assets\\santander\\test_clean.csv')\n",
    "\n",
    "train_data = pd.read_csv(PATH_train, index_col=0)\n",
    "test_data = pd.read_csv(PATH_test, index_col=0)\n",
    "\n",
    "df_train = pd.DataFrame(train_data)\n",
    "df_test = pd.DataFrame(test_data)\n",
    "\n",
    "display(df_train.head())"
   ]
  },
  {
   "cell_type": "markdown",
   "metadata": {},
   "source": [
    "### Reduce memory usage"
   ]
  },
  {
   "cell_type": "code",
   "execution_count": 3,
   "metadata": {},
   "outputs": [
    {
     "name": "stdout",
     "output_type": "stream",
     "text": [
      "Memory usage of dataframe is 315.68 MB\n",
      "Memory usage after optimization is: 80.64 MB\n",
      "Decreased by 74.5%\n",
      "Memory usage of dataframe is 173.95 MB\n",
      "Memory usage after optimization is: 44.63 MB\n",
      "Decreased by 74.3%\n"
     ]
    }
   ],
   "source": [
    "def reduce_mem_usage(df):\n",
    "    \"\"\" iterate through all the columns of a dataframe and modify the data type\n",
    "        to reduce memory usage.        \n",
    "    \"\"\"\n",
    "    start_mem = df.memory_usage().sum() / 1024**2\n",
    "    print('Memory usage of dataframe is {:.2f} MB'.format(start_mem))\n",
    "    \n",
    "    for col in df.columns:\n",
    "        col_type = df[col].dtype\n",
    "        \n",
    "        if col_type != object:\n",
    "            c_min = df[col].min()\n",
    "            c_max = df[col].max()\n",
    "            if str(col_type)[:3] == 'int':\n",
    "                if c_min > np.iinfo(np.int8).min and c_max < np.iinfo(np.int8).max:\n",
    "                    df[col] = df[col].astype(np.int8)\n",
    "                elif c_min > np.iinfo(np.int16).min and c_max < np.iinfo(np.int16).max:\n",
    "                    df[col] = df[col].astype(np.int16)\n",
    "                elif c_min > np.iinfo(np.int32).min and c_max < np.iinfo(np.int32).max:\n",
    "                    df[col] = df[col].astype(np.int32)\n",
    "                elif c_min > np.iinfo(np.int64).min and c_max < np.iinfo(np.int64).max:\n",
    "                    df[col] = df[col].astype(np.int64)  \n",
    "            else:\n",
    "                if c_min > np.finfo(np.float16).min and c_max < np.finfo(np.float16).max:\n",
    "                    df[col] = df[col].astype(np.float16)\n",
    "                elif c_min > np.finfo(np.float32).min and c_max < np.finfo(np.float32).max:\n",
    "                    df[col] = df[col].astype(np.float32)\n",
    "                else:\n",
    "                    df[col] = df[col].astype(np.float64)\n",
    "        else:\n",
    "            df[col] = df[col].astype('category')\n",
    "\n",
    "    end_mem = df.memory_usage().sum() / 1024**2\n",
    "    print('Memory usage after optimization is: {:.2f} MB'.format(end_mem))\n",
    "    print('Decreased by {:.1f}%'.format(100 * (start_mem - end_mem) / start_mem))\n",
    "    \n",
    "    return df\n",
    "\n",
    "df_train = reduce_mem_usage(df_train)\n",
    "df_test = reduce_mem_usage(df_test)"
   ]
  },
  {
   "cell_type": "code",
   "execution_count": 4,
   "metadata": {
    "collapsed": true
   },
   "outputs": [],
   "source": [
    "# plot confusion matrix\n",
    "from sklearn.metrics import confusion_matrix\n",
    "import itertools\n",
    "\n",
    "#\n",
    "def plot_confusion_matrix(cm, classes,\n",
    "                          normalize=False,\n",
    "                          title='Confusion matrix',\n",
    "                          cmap=plt.cm.Blues):\n",
    "    \"\"\"\n",
    "    This function prints and plots the confusion matrix.\n",
    "    Normalization can be applied by setting `normalize=True`.\n",
    "    \"\"\"\n",
    "    plt.imshow(cm, interpolation='nearest', cmap=cmap)\n",
    "    plt.title(title)\n",
    "    plt.colorbar()\n",
    "    tick_marks = np.arange(len(classes))\n",
    "    plt.xticks(tick_marks, classes, rotation=0)\n",
    "    plt.yticks(tick_marks, classes)\n",
    "\n",
    "    if normalize:\n",
    "        cm = cm.astype('float') / cm.sum(axis=1)[:, np.newaxis]\n",
    "        #print(\"Normalized confusion matrix\")\n",
    "    else:\n",
    "        1#print('Confusion matrix, without normalization')\n",
    "\n",
    "    #print(cm)\n",
    "\n",
    "    thresh = cm.max() / 2.\n",
    "    for i, j in itertools.product(range(cm.shape[0]), range(cm.shape[1])):\n",
    "        plt.text(j, i, cm[i, j],\n",
    "                 horizontalalignment=\"center\",\n",
    "                 color=\"white\" if cm[i, j] > thresh else \"black\")\n",
    "\n",
    "    plt.tight_layout()\n",
    "    plt.ylabel('True label')\n",
    "    plt.xlabel('Predicted label')"
   ]
  },
  {
   "cell_type": "markdown",
   "metadata": {},
   "source": [
    "### Train, test, split"
   ]
  },
  {
   "cell_type": "code",
   "execution_count": 5,
   "metadata": {
    "collapsed": true
   },
   "outputs": [],
   "source": [
    "#\n",
    "data = df_train.drop('target', axis=1)\n",
    "target = df_train['target']\n",
    "features = [c for c in data.columns]\n",
    "#\n",
    "X_train = data\n",
    "y_train = target\n",
    "X_test = df_test\n",
    "y_test = pd.DataFrame()"
   ]
  },
  {
   "cell_type": "code",
   "execution_count": 6,
   "metadata": {
    "collapsed": true
   },
   "outputs": [],
   "source": [
    "#\n",
    "#data = df_train.drop('target', axis=1)\n",
    "#target = df_train['target']\n",
    "#features = [c for c in data.columns]\n",
    "#\n",
    "#from sklearn.model_selection import train_test_split\n",
    "#X_train, X_test, y_train, y_test = train_test_split(\n",
    "#    data, target, test_size=0.2, random_state=42)"
   ]
  },
  {
   "cell_type": "markdown",
   "metadata": {},
   "source": [
    "## Final Model\n",
    "### Optimized Light Gradient Boosting"
   ]
  },
  {
   "cell_type": "code",
   "execution_count": 7,
   "metadata": {
    "collapsed": true
   },
   "outputs": [],
   "source": [
    "# hard core optimized model parameters\n",
    "best_params = {# controls verbosity\n",
    "               'verbose': 1,\n",
    "               # Max number of leaves in one tree\n",
    "               'num_leaves': 37,\n",
    "               # Number of boosting iterations\n",
    "               'n_estimators': 1000,\n",
    "               # Minimal sum hessian in one leaf. Can be used to deal with over-fitting\n",
    "               # Hessian matrix is a square matrix of second-order partial derivatives\n",
    "               # of a scalar-valued function.\n",
    "               # It describes the local curvature of a function of many variables\n",
    "               'min_sum_hessian_in_leaf': 10,\n",
    "               # Minimal number of data in one leaf. Can be used to deal with over-fitting\n",
    "               'min_data_in_leaf': 20,\n",
    "               # Limit the max depth for tree model. Tree still grows leaf-wise.\n",
    "               'max_depth': 11,\n",
    "               # Max number of bins that feature values will be bucketed in.\n",
    "               # Small number of bins may reduce training accuracy\n",
    "               # but may increase general power (deal with over-fitting)\n",
    "               'max_bin': 191,\n",
    "               # Frequency for bagging. Performs bagging at every k iteration\n",
    "               'bagging_freq': 0,\n",
    "               # This will randomly select (subsample) part of data without resampling.\n",
    "               # Can be used to speed up training and deal with over-fitting\n",
    "               'bagging_fraction': 0.625\n",
    "              }"
   ]
  },
  {
   "cell_type": "code",
   "execution_count": 8,
   "metadata": {
    "collapsed": true
   },
   "outputs": [],
   "source": [
    "# instantiate Light GBM Classifier\n",
    "from lightgbm import LGBMClassifier\n",
    "Model = LGBMClassifier(**best_params, random_state=42)\n",
    "Model.fit(X_train, y_train)\n",
    "# Test the classifier and get the prediction\n",
    "y_pred = Model.predict(X_train)\n",
    "# metrics\n",
    "model_metrics = {}\n",
    "model_metrics['Accuracy score'] = accuracy_score(y_train, y_pred)\n",
    "model_metrics['Mean absolute error'] = mean_absolute_error(y_train, y_pred)\n",
    "model_metrics['Mean squared error'] = mean_squared_error(y_train, y_pred)"
   ]
  },
  {
   "cell_type": "markdown",
   "metadata": {},
   "source": [
    "### Confusion matrix"
   ]
  },
  {
   "cell_type": "code",
   "execution_count": 9,
   "metadata": {},
   "outputs": [
    {
     "name": "stdout",
     "output_type": "stream",
     "text": [
      "Recall metric in the train dataset: 95.81994641527054%\n",
      "Precision metric in the train dataset: 95.78222364310433%\n"
     ]
    },
    {
     "data": {
      "image/png": "[encoded data removed]",
      "text/plain": [
       "<Figure size 432x288 with 2 Axes>"
      ]
     },
     "metadata": {
      "needs_background": "light"
     },
     "output_type": "display_data"
    }
   ],
   "source": [
    "#y_pred_train = Model.predict(X_train)\n",
    "#cnf_matrix = confusion_matrix(y_train, y_pred_train)\n",
    "cnf_matrix = confusion_matrix(y_train, y_pred)\n",
    "\n",
    "model_metrics['Train Recall metric'] = 100*cnf_matrix[1,1]/(cnf_matrix[1,0]+cnf_matrix[1,1])\n",
    "print(\"Recall metric in the train dataset: {}%\".format(model_metrics['Train Recall metric'])\n",
    "     )\n",
    "model_metrics['Train Precision metric'] = 100*cnf_matrix[0,0]/(cnf_matrix[0,0]+cnf_matrix[1,0])\n",
    "print(\"Precision metric in the train dataset: {}%\".format(model_metrics['Train Precision metric'])\n",
    "     )\n",
    "# Plot non-normalized confusion matrix\n",
    "class_names = [0,1]\n",
    "plt.figure()\n",
    "plot_confusion_matrix(cnf_matrix , classes=class_names, title='Confusion matrix')\n",
    "plt.savefig('assets\\model_conf_train.png')\n",
    "plt.show()"
   ]
  },
  {
   "cell_type": "code",
   "execution_count": 10,
   "metadata": {
    "collapsed": true
   },
   "outputs": [],
   "source": [
    "#cnf_matrix = confusion_matrix(y_test, y_pred)\n",
    "#\n",
    "#model_metrics['Test Recall metric'] = 100*cnf_matrix[1,1]/(cnf_matrix[1,0]+cnf_matrix[1,1])\n",
    "#print(\"Recall metric in the test dataset: {}%\".format(model_metrics['Test Recall metric'])\n",
    "#     )\n",
    "#model_metrics['Test Precision metric'] = 100*cnf_matrix[0,0]/(cnf_matrix[0,0]+cnf_matrix[1,0])\n",
    "#print(\"Precision metric in the test dataset: {}%\".format(model_metrics['Test Precision metric'])\n",
    "#     )\n",
    "# Plot non-normalized confusion matrix\n",
    "#class_names = [0,1]\n",
    "#plt.figure()\n",
    "#plot_confusion_matrix(cnf_matrix , classes=class_names, title='Confusion matrix')\n",
    "#plt.savefig('assets\\model_conf_test.png')\n",
    "#plt.show()"
   ]
  },
  {
   "cell_type": "markdown",
   "metadata": {},
   "source": [
    "### ROC curve"
   ]
  },
  {
   "cell_type": "code",
   "execution_count": 11,
   "metadata": {},
   "outputs": [
    {
     "name": "stdout",
     "output_type": "stream",
     "text": [
      "ROC-AUC: 0.954\n"
     ]
    },
    {
     "data": {
      "image/png": "[encoded data removed]",
      "text/plain": [
       "<Figure size 432x288 with 1 Axes>"
      ]
     },
     "metadata": {
      "needs_background": "light"
     },
     "output_type": "display_data"
    }
   ],
   "source": [
    "# calculate AUC\n",
    "model_metrics['ROC-AUC'] = auc_score = roc_auc_score(y_train, y_pred)\n",
    "print('ROC-AUC: %.3f' % model_metrics['ROC-AUC'])\n",
    "# calculate roc curve\n",
    "fpr, tpr, thresholds = roc_curve(y_train, y_pred)\n",
    "\n",
    "# plot no skill\n",
    "plt.plot([0, 1], [0, 1], linestyle='--')\n",
    "# plot the roc curve for the model\n",
    "plt.plot(fpr, tpr, marker='.', label='ROC Curve')\n",
    "plt.title('Optimized Light GBM')\n",
    "plt.ylabel('True Positive Rate')\n",
    "plt.xlabel('False Positive Rate')\n",
    "plt.legend()\n",
    "plt.savefig('assets\\model_ROC.png')\n",
    "plt.show()"
   ]
  },
  {
   "cell_type": "markdown",
   "metadata": {},
   "source": [
    "### Precision-recall curve"
   ]
  },
  {
   "cell_type": "code",
   "execution_count": 12,
   "metadata": {},
   "outputs": [
    {
     "name": "stdout",
     "output_type": "stream",
     "text": [
      "f1=0.954 auc=0.964 ap=0.931\n"
     ]
    },
    {
     "data": {
      "image/png": "[encoded data removed]",
      "text/plain": [
       "<Figure size 432x288 with 1 Axes>"
      ]
     },
     "metadata": {
      "needs_background": "light"
     },
     "output_type": "display_data"
    }
   ],
   "source": [
    "# calculate precision-recall curve\n",
    "precision, recall, thresholds = precision_recall_curve(y_train, y_pred)\n",
    "# calculate F1 score\n",
    "model_metrics['F1 score'] = f1_score(y_train, y_pred)\n",
    "# calculate precision-recall AUC\n",
    "model_metrics['Precision-Recall AUC'] = auc(recall, precision)\n",
    "# calculate average precision score\n",
    "model_metrics['Average Precision'] = average_precision_score(y_train, y_pred)\n",
    "print('f1=%.3f auc=%.3f ap=%.3f' % (model_metrics['F1 score'],\n",
    "                                    model_metrics['Precision-Recall AUC'],\n",
    "                                    model_metrics['Average Precision']))\n",
    "\n",
    "# plot no skill\n",
    "plt.plot([0, 1], [0.5, 0.5], linestyle='--')\n",
    "# plot the precision-recall curve for the model\n",
    "plt.plot(recall, precision, marker='.', label='Precision-Recall Curve')\n",
    "plt.title('Optimized Light GBM')\n",
    "plt.xlabel('Recall')\n",
    "plt.ylabel('Precision')\n",
    "plt.legend()\n",
    "plt.savefig('assets\\model_precision_recall.png')\n",
    "plt.show()"
   ]
  },
  {
   "cell_type": "markdown",
   "metadata": {},
   "source": [
    "### Feature importance"
   ]
  },
  {
   "cell_type": "code",
   "execution_count": 13,
   "metadata": {},
   "outputs": [
    {
     "data": {
      "image/png": "[encoded data removed]",
      "text/plain": [
       "<Figure size 432x288 with 1 Axes>"
      ]
     },
     "metadata": {
      "needs_background": "light"
     },
     "output_type": "display_data"
    }
   ],
   "source": [
    "# view top features\n",
    "feature_importance = Model.feature_importances_\n",
    "\n",
    "# Make importances relative to max importance.\n",
    "feature_importance = 100.0 * (feature_importance / feature_importance.max())\n",
    "sorted_idx = np.argsort(feature_importance[:19])\n",
    "pos = np.arange(sorted_idx.shape[0]) + 0.5\n",
    "\n",
    "#plt.subplot(1,2,2)\n",
    "plt.barh(pos, feature_importance[sorted_idx], align='center')\n",
    "\n",
    "plt.yticks(pos, data.columns[sorted_idx])\n",
    "plt.xlabel('Relative Importance')\n",
    "plt.title('Variable Importance')\n",
    "plt.savefig('assets\\model_var_import.png')\n",
    "plt.show()"
   ]
  },
  {
   "cell_type": "code",
   "execution_count": 26,
   "metadata": {},
   "outputs": [
    {
     "name": "stdout",
     "output_type": "stream",
     "text": [
      "['0' '7' '85' '86' '89' '105']\n"
     ]
    }
   ],
   "source": [
    "# sort top features\n",
    "top_features = np.where(feature_importance > 45.4)\n",
    "top_features = data.columns[top_features].ravel()\n",
    "print(top_features)"
   ]
  },
  {
   "cell_type": "markdown",
   "metadata": {},
   "source": [
    "### Metrics"
   ]
  },
  {
   "cell_type": "code",
   "execution_count": 15,
   "metadata": {},
   "outputs": [
    {
     "name": "stdout",
     "output_type": "stream",
     "text": [
      "Optimized Light GBM\n",
      "('Accuracy score', 0.9537275850185101)\n",
      "('Mean absolute error', 0.04627241498148992)\n",
      "('Mean squared error', 0.04627241498148992)\n",
      "('Train Recall metric', 95.81994641527054)\n",
      "('Train Precision metric', 95.78222364310433)\n",
      "('ROC-AUC', 0.9537275850185101)\n",
      "('F1 score', 0.9539335884431385)\n",
      "('Precision-Recall AUC', 0.9644026297825223)\n",
      "('Average Precision', 0.9309075954661746)\n"
     ]
    }
   ],
   "source": [
    "# view metrics\n",
    "print('Optimized Light GBM')\n",
    "for i in model_metrics.items():\n",
    "    print(i)"
   ]
  },
  {
   "cell_type": "markdown",
   "metadata": {},
   "source": [
    "## Analysis"
   ]
  }
 ],
 "metadata": {
  "kernelspec": {
   "display_name": "Python 3",
   "language": "python",
   "name": "python3"
  },
  "language_info": {
   "codemirror_mode": {
    "name": "ipython",
    "version": 3
   },
   "file_extension": ".py",
   "mimetype": "text/x-python",
   "name": "python",
   "nbconvert_exporter": "python",
   "pygments_lexer": "ipython3",
   "version": "3.7.1"
  }
 },
 "nbformat": 4,
 "nbformat_minor": 2
}
