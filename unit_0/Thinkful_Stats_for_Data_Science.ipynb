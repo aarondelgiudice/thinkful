{
 "cells": [
  {
   "cell_type": "code",
   "execution_count": null,
   "metadata": {
    "collapsed": true
   },
   "outputs": [],
   "source": [
    "import statistics as stats\n",
    "import numpy as np\n",
    "import pandas as pd\n",
    "import matplotlib.pyplot as plt\n",
    "%matplotlib inline"
   ]
  },
  {
   "cell_type": "code",
   "execution_count": null,
   "metadata": {
    "collapsed": true
   },
   "outputs": [],
   "source": [
    "# Statistics describes an individual variable or the relationships among two or more variables\n",
    "# A variable represents information about a particular measurable concept (temperature, price, size, etc)\n",
    "# Each measurement within a variable is called a datapoint"
   ]
  },
  {
   "cell_type": "code",
   "execution_count": null,
   "metadata": {
    "collapsed": true
   },
   "outputs": [],
   "source": [
    "# Make a dataframe with one variable, age\n",
    "\n",
    "# initialize empty DataFram\n",
    "df = pd.DataFrame()\n",
    "\n",
    "# populate the 'age' column\n",
    "df['age'] = [28, 42, 27, 24, 35, 54, 35, 37]"
   ]
  },
  {
   "cell_type": "code",
   "execution_count": null,
   "metadata": {
    "collapsed": true
   },
   "outputs": [],
   "source": [
    "# When describing variables, two characteristics of most interest are the central tendency and the variance\n",
    "# central tendency describes a point around which datapoints in a variable cluster\n",
    "# Central tendency can be measured in a number of ways. The most common measures are the mean, the median, and the mode"
   ]
  },
  {
   "cell_type": "code",
   "execution_count": null,
   "metadata": {
    "collapsed": true
   },
   "outputs": [],
   "source": [
    "# Mean, median and mode calculated from a sample are considered unbiased estimates of the population\n",
    "# An estimate is \"unbiased\" if, across multiple representative samples, the sample estimates converge on the population value\n",
    "# A \"biased\" estimate would converge on a value that was either higher or lower than the population value\n",
    "\n",
    "# Unbiased estimates let us use a small group of observations to make generalizations about a much larger group"
   ]
  },
  {
   "cell_type": "code",
   "execution_count": null,
   "metadata": {},
   "outputs": [],
   "source": [
    "# Mean represents the average value within a variable\n",
    "# it's computed as the sum of the individual datapoints in a variable x divided by the total number of values in a variable n\n",
    "# It is sometimes also referred to as the \"expected value\" of a variable\n",
    "\n",
    "# calculate the mean\n",
    "def mean_func(x):\n",
    "    n = len(x)\n",
    "    mean_val = sum(x) / n\n",
    "    return mean_val\n",
    "\n",
    "print(mean_func([10, 30, 45, 30, 50]))\n",
    "\n",
    "# or use numpy's built in functionality\n",
    "np_mean = np.mean([10, 30, 45, 30, 50])\n",
    "print(np_mean)"
   ]
  },
  {
   "cell_type": "code",
   "execution_count": null,
   "metadata": {},
   "outputs": [],
   "source": [
    "# Here are two ways you can compute the mean of our age data, first with built-in Python functionality and then with NumPy.\n",
    "\n",
    "# Using built-in Python functionality.\n",
    "sum(df['age']) / len(df['age'])\n",
    "\n",
    "# Using NumPy\n",
    "np.mean(df['age'])"
   ]
  },
  {
   "cell_type": "code",
   "execution_count": null,
   "metadata": {},
   "outputs": [],
   "source": [
    "# Median is the middle value in a variable when the values are ordered from least to greatest\n",
    "# Median, like the mean, is easy to understand, and has the added benefit that it isn't sensitive to extreme values and outliers\n",
    "\n",
    "#Here's how you can compute the median of our age data using the statistics module of the Python standard library or NumPy.\n",
    "\n",
    "# Vanilla Python, using the built-in statistics module.\n",
    "import statistics\n",
    "\n",
    "statistics.median(df['age'])\n",
    "\n",
    "# Using NumPy.\n",
    "np.median(df['age'])"
   ]
  },
  {
   "cell_type": "code",
   "execution_count": null,
   "metadata": {},
   "outputs": [],
   "source": [
    "# Mode represents the value in a variable that occurs the most frequently.\n",
    "\n",
    "# Return the mode using the statistics module.\n",
    "import statistics\n",
    "statistics.mode(df['age'])"
   ]
  },
  {
   "cell_type": "code",
   "execution_count": null,
   "metadata": {},
   "outputs": [],
   "source": [
    "# Note the code above will raise a StatisticsError if you run it on data containing multiple modes\n",
    "# Receiving this error or inspecting a list of counts beforehand, will show whether there is more than one mode to look for\n",
    "\n",
    "# Generate a list of unique elements along with how often they occur.\n",
    "# use numpy's .unique() function and pass return_counts=True\n",
    "(values, counts) = np.unique(df['age'], return_counts=True)\n",
    "\n",
    "# The location in the values list of the most-frequently-occurring element.\n",
    "# use numpy's .argmax() function to find the value with the maximum count, or highst frequency\n",
    "ind = np.argmax(counts)\n",
    "\n",
    "\n",
    "# The most frequent element.\n",
    "values[ind]\n",
    "\n",
    "# The code above will handle data with multiple modes without raising an exception, but you'll get back just the first mode"
   ]
  },
  {
   "cell_type": "code",
   "execution_count": null,
   "metadata": {},
   "outputs": [],
   "source": [
    "# push your understanding of Python you can challenge yourself to revise it to give you all of the modes\n",
    "\n"
   ]
  },
  {
   "cell_type": "code",
   "execution_count": null,
   "metadata": {
    "collapsed": true
   },
   "outputs": [],
   "source": [
    "# variance of a variable describes how much values differ from the central tendency and how much they differ from each other\n",
    "# If all the values in a variable are close to the central tendency, then variance is said to be low\n",
    "# If values in a variable vary widely, with some far away from the central tendency, variance is said to be high\n",
    "\n",
    "# Another way to think of variance is that it gives a clue to how valuable each individual datapoint is within a variable\n",
    "# If variance is low and most datapoints are similar to the central tendency,\n",
    "# then each datapoint provides little new information about the concept being measured.\n",
    "# If variance is high, then each datapoint is more likely to provide unique information about the concept being measured."
   ]
  },
  {
   "cell_type": "code",
   "execution_count": null,
   "metadata": {},
   "outputs": [],
   "source": [
    "# Variance is measured as the sum of the squared difference of each individual datapoint from the mean,\n",
    "# divided by the number of datapoints minus 1: v = sum((x - mean) ** 2) / (n - 1)\n",
    "\n",
    "# Sample variance is divide by n - 1 because dividing by n would underestimate the population variance and creating bias\n",
    "\n",
    "# calculate the variance\n",
    "def var_func(x):\n",
    "    n = len(x)\n",
    "    mean_x= sum(x) / n\n",
    "    var = sum((x - mean_x) ** 2) / (n - 1 )\n",
    "    return var\n",
    "\n",
    "print(var_func(df['age']))\n",
    "\n",
    "v = sum((df['age'] - np.mean(df['age'])) ** 2) / (len(df['age']) - 1)\n",
    "print(v)\n",
    "\n",
    "# we can also use numpy's variance function:\n",
    "np.var(df['age'])\n",
    "\n",
    "# or pandas built in syntax\n",
    "np.var(df.age)\n",
    "\n",
    "\n",
    "\n",
    "\n",
    "\n",
    "\n",
    "\n",
    "\"\"\"WHY DOES VARIANCE FUNCTION NOT EQUAL PANDAS AND NUMPY VARIANCE FUNCTION\"\"\""
   ]
  },
  {
   "cell_type": "code",
   "execution_count": null,
   "metadata": {},
   "outputs": [],
   "source": [
    "# The most common estimate of variability used by statisticians is the square root of the variance, called the standard deviation\n",
    "\n",
    "# Calculate the standard deviation: s = v ** 0.5\n",
    "def stand_dev(x):\n",
    "    n = len(x)\n",
    "    mean_x = sum(x) / n\n",
    "    var = sum((x - mean_x) ** 2) / (n - 1 )\n",
    "    st_dv = var ** 0.5\n",
    "    return st_dv\n",
    "\n",
    "stand_dev(df['age'])\n",
    "\n",
    "# or use NumPy's built in function np.std()\n",
    "# A tricky default in numpy is to calculate the population standard deviation, not the sample standard deviation\n",
    "# To calculate the sample standard deviation, set the \"delta degrees of freedom\" with the ddof=1 parameter\n",
    "np.std(df['age'], ddof=1)"
   ]
  },
  {
   "cell_type": "code",
   "execution_count": null,
   "metadata": {},
   "outputs": [],
   "source": [
    "# Another useful estimate of variance is the standard error, which quantifies uncertainty in the estimate of the sample mean\n",
    "# Standard error tells us about the precision of our sample mean estimate, also called \"margin of error\".\n",
    "\n",
    "# standard error is the standard deviation of the sample divided by the square root of the sample size: se = s / (n ** 0.5)\n",
    "\n",
    "def stand_err(x):\n",
    "    n = len(x)\n",
    "    mean_x = sum(x) / n\n",
    "    var = sum((x - mean_x) ** 2) / (n - 1 )\n",
    "    st_dv = var ** 0.5\n",
    "    se = st_dv / (n ** 0.5)\n",
    "    return se\n",
    "\n",
    "stand_err(df['age'])\n",
    "\n",
    "# or use numpy:\n",
    "np.std(df['age'] ,ddof=1) / np.sqrt(len(df['age']))"
   ]
  },
  {
   "cell_type": "code",
   "execution_count": null,
   "metadata": {},
   "outputs": [],
   "source": [
    "# Let's examine sampling from different distributions of low and high variance\n",
    "#We'll create two variables, one with low variability and one with high variability, and see how they differ\n",
    "\n",
    "# create an empty DataFrane\n",
    "pop = pd.DataFrame()\n",
    "\n",
    "# Then create two variables with mean = 60, one with a low standard\n",
    "# deviation (sd=10) and one with a high standard deviation (sd=100).\n",
    "pop['low_var'] = np.random.normal(60, 10, 10000)\n",
    "pop['high_var'] = np.random.normal(60, 100, 10000)\n",
    "\n",
    "# Finally, create histograms of the two variables.\n",
    "pop.hist(layout=(2,1), sharex=True) #sharex=\n",
    "plt.show()\n",
    "\n",
    "# Calculate and print the maximum and minimum values for each variable.\n",
    "print(pop.max())\n",
    "print(pop.min())\n",
    "\n",
    "# The variable with high variance has a much wider range of possible values than the variable with low variance\n",
    "# If these variables represented two populations we wanted to study, we would take samples from each,\n",
    "# then generalize from those samples to get information about the populations"
   ]
  },
  {
   "cell_type": "code",
   "execution_count": null,
   "metadata": {},
   "outputs": [],
   "source": [
    "# Take a random sample of 100 observations from each variable and store it in a new dataframe.\n",
    "sample = pd.DataFrame()\n",
    "sample['low_var'] = np.random.choice(pop['low_var'], 100)\n",
    "sample['high_var'] = np.random.choice(pop['high_var'], 100)\n",
    "\n",
    "# visualize the data\n",
    "sample.hist()\n",
    "plt.show()\n",
    "\n",
    "# Check how well the sample replicates the population.\n",
    "print(\"mean:\\n\" , sample.mean())\n",
    "print(\"\\nstandard deviation:\\n\" , sample.std(ddof=1))"
   ]
  },
  {
   "cell_type": "code",
   "execution_count": null,
   "metadata": {},
   "outputs": [],
   "source": [
    "# set up a DataFrame\n",
    "\n",
    "data = pd.DataFrame()\n",
    "data['gender'] = ['male'] * 100 + ['female'] * 100\n",
    "data['height'] = np.append(np.random.normal(69, 8, 100), np.random.normal(64, 5, 100))\n",
    "data['weight'] = np.append(np.random.normal(195, 25, 100), np.random.normal(166, 15, 100))\n",
    "\n",
    "data.head()\n",
    "data.tail()"
   ]
  },
  {
   "cell_type": "code",
   "execution_count": null,
   "metadata": {},
   "outputs": [],
   "source": [
    "# explore data\n",
    "data.height.mean()\n",
    "data.height.std()\n",
    "\n",
    "print(data.describe())\n",
    "print(data.groupby('gender').describe())\n",
    "\n",
    "print(data.gender.value_counts())\n",
    "# There are several reasons to use this method. Firstly, it gives you another way to make sense of your data.\n",
    "# In this case it shows us that our data is evenly balanced between males and females, with one hundred samples of each.\n",
    "# There are plenty of other ways this function could be useful. It can show outliers or possible malformed data.\n",
    "# For example, if we were to see something like 'Mal' with a single entry, we'd have found a typo in the data.\n",
    "# This method works over numerical and object data, though it is not valuable to run over the numeric columns in this example\n"
   ]
  },
  {
   "cell_type": "code",
   "execution_count": null,
   "metadata": {},
   "outputs": [],
   "source": []
  },
  {
   "cell_type": "code",
   "execution_count": null,
   "metadata": {},
   "outputs": [],
   "source": []
  },
  {
   "cell_type": "code",
   "execution_count": null,
   "metadata": {},
   "outputs": [],
   "source": []
  },
  {
   "cell_type": "code",
   "execution_count": null,
   "metadata": {},
   "outputs": [],
   "source": []
  },
  {
   "cell_type": "code",
   "execution_count": null,
   "metadata": {},
   "outputs": [],
   "source": []
  },
  {
   "cell_type": "code",
   "execution_count": null,
   "metadata": {},
   "outputs": [],
   "source": []
  },
  {
   "cell_type": "code",
   "execution_count": null,
   "metadata": {},
   "outputs": [],
   "source": []
  },
  {
   "cell_type": "code",
   "execution_count": null,
   "metadata": {},
   "outputs": [],
   "source": []
  },
  {
   "cell_type": "code",
   "execution_count": null,
   "metadata": {},
   "outputs": [],
   "source": []
  },
  {
   "cell_type": "code",
   "execution_count": null,
   "metadata": {
    "collapsed": true
   },
   "outputs": [],
   "source": []
  }
 ],
 "metadata": {
  "kernelspec": {
   "display_name": "Python 3",
   "language": "python",
   "name": "python3"
  },
  "language_info": {
   "codemirror_mode": {
    "name": "ipython",
    "version": 3
   },
   "file_extension": ".py",
   "mimetype": "text/x-python",
   "name": "python",
   "nbconvert_exporter": "python",
   "pygments_lexer": "ipython3",
   "version": "3.7.1"
  }
 },
 "nbformat": 4,
 "nbformat_minor": 2
}
