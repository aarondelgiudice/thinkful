{
 "cells": [
  {
   "cell_type": "code",
   "execution_count": 1,
   "metadata": {
    "collapsed": true
   },
   "outputs": [],
   "source": [
    "# You are on a game show and given the choice of whatever is behind three doors.\n",
    "# Behind one door is a fantastic prize (some examples use a car, others use cash)\n",
    "# while behind the other two doors is a dud (some examples say a goat, others say it's just empty).\n",
    "# You pick a door. Then the host opens one of the other two doors to reveal a dud.\n",
    "# But here's the wrinkle: the host now gives you the opportunity to switch your door.\n",
    "# What should you do?"
   ]
  },
  {
   "cell_type": "code",
   "execution_count": 2,
   "metadata": {
    "collapsed": true
   },
   "outputs": [],
   "source": [
    "# Logic seems to indicate that it doesn't matter if you switch your door.\n",
    "# It's a guarantee that one of the two doors left is a winner, so it's a 50/50 shot.\n",
    "# That means we have an equal opportunity to whether or not we change our door."
   ]
  },
  {
   "cell_type": "code",
   "execution_count": null,
   "metadata": {
    "collapsed": true
   },
   "outputs": [],
   "source": [
    "# This mind puzzle is an example of baye's rule.\n",
    "# if we switch our choice, we have a 2/3 chance of choosing the right door.\n",
    "# if we don't switch our choice, we only have a 1/3 chance of choosing the right door.\n",
    "# therefore, according to baye's rule, we should switch our choice."
   ]
  }
 ],
 "metadata": {
  "kernelspec": {
   "display_name": "Python 3",
   "language": "python",
   "name": "python3"
  },
  "language_info": {
   "codemirror_mode": {
    "name": "ipython",
    "version": 3
   },
   "file_extension": ".py",
   "mimetype": "text/x-python",
   "name": "python",
   "nbconvert_exporter": "python",
   "pygments_lexer": "ipython3",
   "version": "3.7.1"
  }
 },
 "nbformat": 4,
 "nbformat_minor": 2
}
