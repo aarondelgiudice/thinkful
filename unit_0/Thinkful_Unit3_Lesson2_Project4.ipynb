{
 "cells": [
  {
   "cell_type": "code",
   "execution_count": 1,
   "metadata": {
    "collapsed": true
   },
   "outputs": [],
   "source": [
    "import statistics as stats\n",
    "import numpy as np\n",
    "import pandas as pd\n",
    "import matplotlib.pyplot as plt\n",
    "%matplotlib inline"
   ]
  },
  {
   "cell_type": "code",
   "execution_count": 30,
   "metadata": {},
   "outputs": [
    {
     "name": "stdout",
     "output_type": "stream",
     "text": [
      "Each of thse outcomes have an equal probability if the probability of flipping a coin is 50/50 and the coin flips are\n",
      "independent of each other. Therefore if p(heads) = p(tails) then any possible combination of n coin flipsoutcomes is equal to\n",
      "p(coin flip)**n. In each case HTTH, HHHH, AND TTHH p(coin flip) = 0.5 and n = 4, thereforeeach probability is equal to 0.5 ** 4 or 0.0625 or 6.25%.\n"
     ]
    }
   ],
   "source": [
    "# Unit 3 Lesson 2 Project 4: Exercise Probability Drill\n",
    "\n",
    "# Calculate the probability of flipping a balanced coin four times and getting each pattern: HTTH, HHHH and TTHH.\n",
    "\n",
    "print(\"Each of thse outcomes have an equal probability if the probability of flipping a coin is 50/50 and the coin flips\"\n",
    "      \" are\\nindependent of each other. Therefore if p(heads) = p(tails) then any possible combination of n coin flips\"\n",
    "      \"outcomes is equal to\\np(coin flip)**n. In each case HTTH, HHHH, AND TTHH p(coin flip) = 0.5 and n = 4, therefore\"\n",
    "     \"each probability is equal to 0.5 ** 4 or 0.0625 or 6.25%.\")"
   ]
  },
  {
   "cell_type": "code",
   "execution_count": 4,
   "metadata": {},
   "outputs": [
    {
     "name": "stdout",
     "output_type": "stream",
     "text": [
      "The probability of not choosing a man from a list of 24 women and 21 men is 24/25\n"
     ]
    }
   ],
   "source": [
    "# If a list of people has 24 women and 21 men, then the probability of choosing a man from the list is 21/45.\n",
    "# What is the probability of not choosing a man?\n",
    "print(\"The probability of not choosing a man from a list of 24 women and 21 men is 24/25\")"
   ]
  },
  {
   "cell_type": "code",
   "execution_count": 2,
   "metadata": {},
   "outputs": [
    {
     "name": "stdout",
     "output_type": "stream",
     "text": [
      "The probability that Bernice will be in a plane crash sometime in the next year is the the probability of a plane crashing\n",
      "dependent on the probability of Bernice traveling by plane sometime next year: p(A|B) = p(A)*p(b).\n",
      "Where p(A) = the probabiity of traveling by plane = 1/100\n",
      "and p(B) = the probability of a plane crashing = 5/10000\n",
      "therefore p(A|B) = (1/100)*(5/10000)\n",
      "The probability of Bernice being a plane crash is .00005%\n"
     ]
    }
   ],
   "source": [
    "# The probability that Bernice will travel by plane sometime in the next year is 10%.\n",
    "# The probability of a plane crash at any time is .005%.\n",
    "# What is the probability that Bernice will be in a plane crash sometime in the next year?\n",
    "\n",
    "\n",
    "\n",
    "print(\"The probability that Bernice will be in a plane crash sometime in the next year is the the probability of a\"\n",
    "      \" plane crashing\\ndependent on the probability of Bernice traveling by plane sometime next year: p(A|B) = p(A)*p(b).\"\n",
    "      \"\\nWhere p(A) = the probabiity of traveling by plane = 1/100\"\n",
    "     \"\\nand p(B) = the probability of a plane crashing = 5/10000\"\n",
    "     \"\\ntherefore p(A|B) = (1/100)*(5/10000)\"\n",
    "      \"\\nThe probability of Bernice being a plane crash is .00005%\")"
   ]
  },
  {
   "cell_type": "code",
   "execution_count": 22,
   "metadata": {},
   "outputs": [
    {
     "name": "stdout",
     "output_type": "stream",
     "text": [
      "This is a an example of selection bias. The survey only samples users of a website who are willing to complete the survey.\n",
      "There are many reasons why a user would choose not to complete the survey, maybe it's an inconvenience or users chose not to\n",
      "divulge any personal information. More likely than not, the survey samples users who had felt comfortable sacrificing their\n",
      "time to complete the survey. It's possible that those people were more likely to spendmore time surfing the website before\n",
      "moving on. Whereas someone who did not have the time to fill out the survey perhaps would spend less time on the website.\n"
     ]
    }
   ],
   "source": [
    "# A data scientist wants to study the behavior of users on the company website.\n",
    "# Each time a user clicks on a link on the website, there is a 5% chance that the user will be asked to\n",
    "# complete a short survey about their behavior on the website. The data scientist uses the survey data to\n",
    "# conclude that, on average, users spend 15 minutes surfing the company website before moving on to other things.\n",
    "# What is wrong with this conclusion?\n",
    "\n",
    "print(\"This is a an example of selection bias. The survey only samples users of a website who are willing to complete the\"\n",
    "      \" survey.\\nThere are many reasons why a user would choose not to complete the survey, maybe it's an inconvenience or\"\n",
    "      \" users chose not to\\ndivulge any personal information. More likely than not, the survey samples users who had felt\"\n",
    "      \" comfortable sacrificing their\\ntime to complete the survey. It's possible that those people were more likely to spend\"\n",
    "      \"more time surfing the website before\\nmoving on. Whereas someone who did not have the time to fill out the survey perhaps\"\n",
    "     \" would spend less time on the website.\")"
   ]
  },
  {
   "cell_type": "code",
   "execution_count": null,
   "metadata": {
    "collapsed": true
   },
   "outputs": [],
   "source": []
  }
 ],
 "metadata": {
  "kernelspec": {
   "display_name": "Python 3",
   "language": "python",
   "name": "python3"
  },
  "language_info": {
   "codemirror_mode": {
    "name": "ipython",
    "version": 3
   },
   "file_extension": ".py",
   "mimetype": "text/x-python",
   "name": "python",
   "nbconvert_exporter": "python",
   "pygments_lexer": "ipython3",
   "version": "3.7.1"
  }
 },
 "nbformat": 4,
 "nbformat_minor": 2
}
