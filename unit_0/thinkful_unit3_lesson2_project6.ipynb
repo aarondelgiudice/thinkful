{
 "cells": [
  {
   "cell_type": "code",
   "execution_count": 5,
   "metadata": {
    "collapsed": true
   },
   "outputs": [],
   "source": [
    "import statistics as stats\n",
    "import numpy as np\n",
    "import pandas as pd\n",
    "import matplotlib.pyplot as plt\n",
    "%matplotlib inline"
   ]
  },
  {
   "cell_type": "code",
   "execution_count": 6,
   "metadata": {
    "collapsed": true
   },
   "outputs": [],
   "source": [
    "# A diagnostic test has a 98% probability of giving a positive result to a person suffering from Thripshaw's Disease,\n",
    "# and 10% probability of giving a false positive when applied to a non-sufferer.\n",
    "# It is estimated that 0.5 % of the population are sufferers.\n",
    "# Suppose that the test is now administered to a person whose disease status is unknown."
   ]
  },
  {
   "cell_type": "code",
   "execution_count": 12,
   "metadata": {},
   "outputs": [
    {
     "name": "stdout",
     "output_type": "stream",
     "text": [
      "the probability of receiving a positive result is p(positive result) * population of Thripshaw's sufferers + p(false positive) * population non-sufferers or p(.98) * 0.005 + p(.1) + (1-0.005) = 0.1044.\n"
     ]
    }
   ],
   "source": [
    "# Calculate the probability that the test will be positive:\n",
    "\n",
    "pos_per = .98 *.005 + .1 * (1-.005)\n",
    "\n",
    "print(\"the probability of receiving a positive result is p(positive result) * population of Thripshaw's sufferers +\"\n",
    "      \" p(false positive) * population non-sufferers or p(.98) * 0.005 + p(.1) + (1-0.005) = {}.\".format(pos_per))"
   ]
  },
  {
   "cell_type": "code",
   "execution_count": 16,
   "metadata": {},
   "outputs": [
    {
     "name": "stdout",
     "output_type": "stream",
     "text": [
      "The probability of the test correctly diagnosing a sufferer of Thripshaw's is 98%.\n"
     ]
    }
   ],
   "source": [
    "# Calculate the probability that the test will correctly diagnose a sufferer of Thripshaw's:\n",
    "\n",
    "print(\"The probability of the test correctly diagnosing a sufferer of Thripshaw's is 98%.\")"
   ]
  },
  {
   "cell_type": "code",
   "execution_count": 19,
   "metadata": {},
   "outputs": [
    {
     "name": "stdout",
     "output_type": "stream",
     "text": [
      "If the test has a 10% probability of a false positive, then it has a 90% probability of correctly identifyinga non-sufferer.\n"
     ]
    }
   ],
   "source": [
    "# Calculate the probability that the test will correctly identify a non-sufferer of Thripshaw's:\n",
    "\n",
    "print(\"If the test has a 10% probability of a false positive, then it has a 90% probability of correctly identifying\"\n",
    "      \"a non-sufferer.\")"
   ]
  },
  {
   "cell_type": "code",
   "execution_count": 20,
   "metadata": {},
   "outputs": [
    {
     "name": "stdout",
     "output_type": "stream",
     "text": [
      "The test has a 2% chance of misclassifying a sufferer and a 10% chance of misclassifying a non-sufferer. To calculate the total chance, we need to find the chance of misclassification adjusted by the population: p(sufferer) * 2% + p(nonsufferer) * 10% == 0.5% * 2% + (1-0.5%) * 10% = 9.6% or almost 1 out of 10.\n"
     ]
    }
   ],
   "source": [
    "# Calculate the probability that the test will misclassify the person:\n",
    "\n",
    "print(\"The test has a 2% chance of misclassifying a sufferer and a 10% chance of misclassifying a non-sufferer. To calculate\"\n",
    "     \" the total chance, we need to find the chance of misclassification adjusted by the population: \"\n",
    "     \"p(sufferer) * 2% + p(nonsufferer) * 10% == 0.5% * 2% + (1-0.5%) * 10% = 9.6% or almost 1 out of 10.\")"
   ]
  },
  {
   "cell_type": "code",
   "execution_count": null,
   "metadata": {
    "collapsed": true
   },
   "outputs": [],
   "source": []
  }
 ],
 "metadata": {
  "kernelspec": {
   "display_name": "Python 3",
   "language": "python",
   "name": "python3"
  },
  "language_info": {
   "codemirror_mode": {
    "name": "ipython",
    "version": 3
   },
   "file_extension": ".py",
   "mimetype": "text/x-python",
   "name": "python",
   "nbconvert_exporter": "python",
   "pygments_lexer": "ipython3",
   "version": "3.7.1"
  }
 },
 "nbformat": 4,
 "nbformat_minor": 2
}
