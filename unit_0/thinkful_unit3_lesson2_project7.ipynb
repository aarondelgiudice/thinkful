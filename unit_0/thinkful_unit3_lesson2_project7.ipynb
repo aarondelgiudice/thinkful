{
 "cells": [
  {
   "cell_type": "code",
   "execution_count": 1,
   "metadata": {
    "collapsed": true
   },
   "outputs": [],
   "source": [
    "import statistics as stats\n",
    "import numpy as np\n",
    "import pandas as pd\n",
    "import matplotlib.pyplot as plt\n",
    "%matplotlib inline"
   ]
  },
  {
   "cell_type": "code",
   "execution_count": 2,
   "metadata": {
    "collapsed": true
   },
   "outputs": [],
   "source": [
    "# In each of the scenarios, find possible shortcomings of the theoretical or actual data sources to answer the given question.\n",
    "# What could be done to either adjust the analysis or reframe the question so that you can answer it accurately?\n"
   ]
  },
  {
   "cell_type": "code",
   "execution_count": 2,
   "metadata": {},
   "outputs": [
    {
     "name": "stdout",
     "output_type": "stream",
     "text": [
      "The results will be skewed by the date of data collection.\n",
      "Either we should gather results from a different day, not as close to a major holiday.\n",
      "Or we could aggregate the results from the 24th of the month across each month and take the average.\n"
     ]
    }
   ],
   "source": [
    "# Data Source: Amsterdam availability data scraped from AirBnB on December 24th\n",
    "# Question: What are the popular neighborhoods in Amsterdam?\n",
    "\n",
    "print(\"The results will be skewed by the date of data collection.\"\n",
    "      \"\\nEither we should gather results from a different day, not as close to a major holiday.\"\n",
    "      \"\\nOr we could aggregate the results from the 24th of the month across each month and take the average.\")"
   ]
  },
  {
   "cell_type": "code",
   "execution_count": 4,
   "metadata": {},
   "outputs": [
    {
     "name": "stdout",
     "output_type": "stream",
     "text": [
      "The results from New York were collected the day after the 9/11 terrorist attacks.\n",
      "The data will surely not be indicative of the average mental health of a New Yorker\n"
     ]
    }
   ],
   "source": [
    "# Data Source: Mental health services use on September 12, 2001 in San Francisco, CA and New York City, NY.\n",
    "# Question: How do patterns of mental health service use vary between cities?\n",
    "\n",
    "print(\"The results from New York were collected the day after the 9/11 terrorist attacks.\"\n",
    "      \"\\nThe data will surely not be indicative of the average mental health of a New Yorker\")"
   ]
  },
  {
   "cell_type": "code",
   "execution_count": 3,
   "metadata": {},
   "outputs": [
    {
     "name": "stdout",
     "output_type": "stream",
     "text": [
      "The data is collected mostly from Armenian's in their late teens and twennties.\n",
      "We should re-focus the survey on young people visiting Armenian pubs\n"
     ]
    }
   ],
   "source": [
    "# Data Source: Armenian Pub Survey.\n",
    "# Question: What are the most common reasons Armenians visit local pubs?\n",
    "\n",
    "print(\"The data is collected mostly from Armenian's in their late teens and twennties.\"\n",
    "     \"\\nWe should re-focus the survey on young people visiting Armenian pubs\")"
   ]
  },
  {
   "cell_type": "code",
   "execution_count": null,
   "metadata": {
    "collapsed": true
   },
   "outputs": [],
   "source": []
  }
 ],
 "metadata": {
  "kernelspec": {
   "display_name": "Python 3",
   "language": "python",
   "name": "python3"
  },
  "language_info": {
   "codemirror_mode": {
    "name": "ipython",
    "version": 3
   },
   "file_extension": ".py",
   "mimetype": "text/x-python",
   "name": "python",
   "nbconvert_exporter": "python",
   "pygments_lexer": "ipython3",
   "version": "3.7.1"
  }
 },
 "nbformat": 4,
 "nbformat_minor": 2
}
