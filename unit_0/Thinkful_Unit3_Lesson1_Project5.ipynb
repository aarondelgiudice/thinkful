{
 "cells": [
  {
   "cell_type": "code",
   "execution_count": 15,
   "metadata": {
    "collapsed": true
   },
   "outputs": [],
   "source": [
    "import statistics as stats\n",
    "import numpy as np\n",
    "import pandas as pd\n",
    "import matplotlib.pyplot as plt\n",
    "%matplotlib inline"
   ]
  },
  {
   "cell_type": "code",
   "execution_count": 16,
   "metadata": {
    "collapsed": true
   },
   "outputs": [],
   "source": [
    "# Unit 3 Lesson 1 Project 5: Describing Data Drill\n",
    "\n",
    "# Greg was 14, Marcia was 12, Peter was 11, Jan was 10, Bobby was 8, and Cindy was 6 when they started playing\n",
    "# the Brady kids on The Brady Bunch. Cousin Oliver was 8 years old when he joined the show\n",
    "\n",
    "names = [\"Greg\", \"Marcia\", \"Peter\", \"Jan\", \"Bobby\", \"Cindy\", \"Oliver\"]\n",
    "ages = [14, 12, 11, 10, 8, 6, 8]\n",
    "\n",
    "assert len(names) == len(ages)"
   ]
  },
  {
   "cell_type": "code",
   "execution_count": 17,
   "metadata": {},
   "outputs": [
    {
     "name": "stdout",
     "output_type": "stream",
     "text": [
      "mean: 9.857142857142858 \n",
      "median: 10.0 \n",
      "mode: 8 \n",
      "variance: 6.408163265306122 \n",
      "standard deviation: 2.734262327610589 \n",
      "standard error: 1.0334540197243192\n"
     ]
    }
   ],
   "source": [
    "# What are the mean, median, and mode of the kids' ages when they first appeared on the show?\n",
    "# What are the variance, standard deviation, and standard error?\n",
    "\n",
    "print(\"mean:\" , np.mean(ages) , \n",
    "      \"\\nmedian:\" , np.median(ages) , \n",
    "      \"\\nmode:\" , stats.mode(ages) , \n",
    "      \"\\nvariance:\" , np.var(ages) , \n",
    "      \"\\nstandard deviation:\" , np.std(ages, ddof=1) , \n",
    "      \"\\nstandard error:\" , np.std(ages, ddof=1) / np.sqrt(len(ages))\n",
    ")"
   ]
  },
  {
   "cell_type": "code",
   "execution_count": 18,
   "metadata": {},
   "outputs": [
    {
     "data": {
      "text/html": [
       "<div>\n",
       "<style scoped>\n",
       "    .dataframe tbody tr th:only-of-type {\n",
       "        vertical-align: middle;\n",
       "    }\n",
       "\n",
       "    .dataframe tbody tr th {\n",
       "        vertical-align: top;\n",
       "    }\n",
       "\n",
       "    .dataframe thead th {\n",
       "        text-align: right;\n",
       "    }\n",
       "</style>\n",
       "<table border=\"1\" class=\"dataframe\">\n",
       "  <thead>\n",
       "    <tr style=\"text-align: right;\">\n",
       "      <th></th>\n",
       "      <th>age</th>\n",
       "    </tr>\n",
       "  </thead>\n",
       "  <tbody>\n",
       "    <tr>\n",
       "      <th>count</th>\n",
       "      <td>7.000000</td>\n",
       "    </tr>\n",
       "    <tr>\n",
       "      <th>mean</th>\n",
       "      <td>9.857143</td>\n",
       "    </tr>\n",
       "    <tr>\n",
       "      <th>std</th>\n",
       "      <td>2.734262</td>\n",
       "    </tr>\n",
       "    <tr>\n",
       "      <th>min</th>\n",
       "      <td>6.000000</td>\n",
       "    </tr>\n",
       "    <tr>\n",
       "      <th>25%</th>\n",
       "      <td>8.000000</td>\n",
       "    </tr>\n",
       "    <tr>\n",
       "      <th>50%</th>\n",
       "      <td>10.000000</td>\n",
       "    </tr>\n",
       "    <tr>\n",
       "      <th>75%</th>\n",
       "      <td>11.500000</td>\n",
       "    </tr>\n",
       "    <tr>\n",
       "      <th>max</th>\n",
       "      <td>14.000000</td>\n",
       "    </tr>\n",
       "  </tbody>\n",
       "</table>\n",
       "</div>"
      ],
      "text/plain": [
       "             age\n",
       "count   7.000000\n",
       "mean    9.857143\n",
       "std     2.734262\n",
       "min     6.000000\n",
       "25%     8.000000\n",
       "50%    10.000000\n",
       "75%    11.500000\n",
       "max    14.000000"
      ]
     },
     "execution_count": 18,
     "metadata": {},
     "output_type": "execute_result"
    }
   ],
   "source": [
    "# Construct a DataFrame\n",
    "df = pd.DataFrame()\n",
    "df['name'] = names\n",
    "df['age'] = ages\n",
    "df.head()\n",
    "df.describe()"
   ]
  },
  {
   "cell_type": "code",
   "execution_count": 19,
   "metadata": {},
   "outputs": [
    {
     "name": "stdout",
     "output_type": "stream",
     "text": [
      "The median is slightly higher than the mean. this is helpful, telling us that more than half of the data points are greater\n",
      "than the mean. The mode isn't very informative, 8 is not very representative of the dataset. A Variance of >6 seems rather high\n",
      "for a data set with an average value of almost 10. The standard deviation is relatively low, telling us that the data is\n",
      "tightly clustered around the range. The standard error is only helpful if we re-run calculations with a new data set. If we had\n",
      "to choose only one estimate, it would be the mean. That and the standard deviation shows that most of the data is clustered in the tight range of ages around 10 years old.\n"
     ]
    }
   ],
   "source": [
    "# Using these estimates, if you had to choose only one estimate of central tendency\n",
    "# and one estimate of variance to describe the data, which would you pick and why?\n",
    "\n",
    "print(\"The median is slightly higher than the mean. this is helpful, telling us that more than half of the data points\"\n",
    "      \" are greater\\nthan the mean. The mode isn't very informative, 8 is not very representative of the dataset. \"\n",
    "      \"A Variance of >6 seems rather high\\nfor a data set with an average value of almost 10. The standard deviation is\"\n",
    "      \" relatively low, telling us that the data is\\ntightly clustered around the range. The standard error is only helpful\"\n",
    "      \" if we re-run calculations with a new data set. If we had\\nto choose only one estimate, it would be the mean. That and\"\n",
    "      \" the standard deviation shows that most of the data is clustered in the tight range of ages around 10 years old.\")"
   ]
  },
  {
   "cell_type": "code",
   "execution_count": 20,
   "metadata": {
    "collapsed": true
   },
   "outputs": [],
   "source": [
    "#Cindy has a birthday. Update your estimates- what changed, and what didn't?\n",
    "df.iloc[-2,1] += 1"
   ]
  },
  {
   "cell_type": "code",
   "execution_count": 21,
   "metadata": {},
   "outputs": [
    {
     "name": "stdout",
     "output_type": "stream",
     "text": [
      "mean: 10.0 \n",
      "median: 10.0 \n",
      "mode: 8 \n",
      "variance: 5.428571428571429 \n",
      "standard deviation: 2.516611478423583 \n",
      "standard error: 0.9511897312113418\n"
     ]
    }
   ],
   "source": [
    "print(\"mean:\" , np.mean(df['age']) , \n",
    "      \"\\nmedian:\" , np.median(df['age']) , \n",
    "      \"\\nmode:\" , stats.mode(df['age']) , \n",
    "      \"\\nvariance:\" , np.var(df['age']) , \n",
    "      \"\\nstandard deviation:\" , np.std(df['age'], ddof=1) , \n",
    "      \"\\nstandard error:\" , np.std(df['age'], ddof=1) / np.sqrt(len(df['age']))\n",
    ")"
   ]
  },
  {
   "cell_type": "code",
   "execution_count": 22,
   "metadata": {},
   "outputs": [
    {
     "name": "stdout",
     "output_type": "stream",
     "text": [
      "With the new age data for Cindy, the mean increased from 9.86 to 10, while the median and the mode remained unchanged.The\n",
      "variance decreased to 5.43, the standard deviation decreased to 2.52, and the standard error decreased to 0.95.The updated\n",
      "statistical metrics tell us that the data now has a stronger central tendency. The data is more tightlyclustered around the\n",
      "mean value.\n"
     ]
    }
   ],
   "source": [
    "print(\"With the new age data for Cindy, the mean increased from 9.86 to 10, while the median and the mode remained unchanged.\"\n",
    "     \"The\\nvariance decreased to 5.43, the standard deviation decreased to 2.52, and the standard error decreased to 0.95.\"\n",
    "      \"The updated\\nstatistical metrics tell us that the data now has a stronger central tendency. The data is more tightly\"\n",
    "     \"clustered around the\\nmean value.\")"
   ]
  },
  {
   "cell_type": "code",
   "execution_count": 23,
   "metadata": {},
   "outputs": [
    {
     "data": {
      "text/html": [
       "<div>\n",
       "<style scoped>\n",
       "    .dataframe tbody tr th:only-of-type {\n",
       "        vertical-align: middle;\n",
       "    }\n",
       "\n",
       "    .dataframe tbody tr th {\n",
       "        vertical-align: top;\n",
       "    }\n",
       "\n",
       "    .dataframe thead th {\n",
       "        text-align: right;\n",
       "    }\n",
       "</style>\n",
       "<table border=\"1\" class=\"dataframe\">\n",
       "  <thead>\n",
       "    <tr style=\"text-align: right;\">\n",
       "      <th></th>\n",
       "      <th>name</th>\n",
       "      <th>age</th>\n",
       "    </tr>\n",
       "  </thead>\n",
       "  <tbody>\n",
       "    <tr>\n",
       "      <th>0</th>\n",
       "      <td>Greg</td>\n",
       "      <td>14</td>\n",
       "    </tr>\n",
       "    <tr>\n",
       "      <th>1</th>\n",
       "      <td>Marcia</td>\n",
       "      <td>12</td>\n",
       "    </tr>\n",
       "    <tr>\n",
       "      <th>2</th>\n",
       "      <td>Peter</td>\n",
       "      <td>11</td>\n",
       "    </tr>\n",
       "    <tr>\n",
       "      <th>3</th>\n",
       "      <td>Jan</td>\n",
       "      <td>10</td>\n",
       "    </tr>\n",
       "    <tr>\n",
       "      <th>4</th>\n",
       "      <td>Bobby</td>\n",
       "      <td>8</td>\n",
       "    </tr>\n",
       "    <tr>\n",
       "      <th>5</th>\n",
       "      <td>Cindy</td>\n",
       "      <td>7</td>\n",
       "    </tr>\n",
       "    <tr>\n",
       "      <th>6</th>\n",
       "      <td>Oliver</td>\n",
       "      <td>8</td>\n",
       "    </tr>\n",
       "  </tbody>\n",
       "</table>\n",
       "</div>"
      ],
      "text/plain": [
       "     name  age\n",
       "0    Greg   14\n",
       "1  Marcia   12\n",
       "2   Peter   11\n",
       "3     Jan   10\n",
       "4   Bobby    8\n",
       "5   Cindy    7\n",
       "6  Oliver    8"
      ]
     },
     "execution_count": 23,
     "metadata": {},
     "output_type": "execute_result"
    }
   ],
   "source": [
    "df"
   ]
  },
  {
   "cell_type": "code",
   "execution_count": 24,
   "metadata": {},
   "outputs": [
    {
     "data": {
      "text/plain": [
       "0    14\n",
       "1    12\n",
       "2    11\n",
       "3    10\n",
       "4     8\n",
       "5     7\n",
       "6     1\n",
       "Name: age, dtype: int64"
      ]
     },
     "execution_count": 24,
     "metadata": {},
     "output_type": "execute_result"
    }
   ],
   "source": [
    "# Replace Cousin Oliver with 1-year-old Jessica. Does this change your choice of central tendency or variance estimation methods?\n",
    "\n",
    "new_df = pd.DataFrame(['Jessica', 1])\n",
    "#df.replace(6, new_df)\n",
    "df.iloc[6,:] = ['Jessica', 1]\n",
    "df['age']"
   ]
  },
  {
   "cell_type": "code",
   "execution_count": 25,
   "metadata": {},
   "outputs": [
    {
     "data": {
      "text/plain": [
       "1"
      ]
     },
     "execution_count": 25,
     "metadata": {},
     "output_type": "execute_result"
    }
   ],
   "source": [
    "(values, counts) = np.unique(df['age'], return_counts=True)\n",
    "\n",
    "ind = np.argmax(counts)\n",
    "\n",
    "values[ind]"
   ]
  },
  {
   "cell_type": "code",
   "execution_count": 26,
   "metadata": {},
   "outputs": [
    {
     "name": "stdout",
     "output_type": "stream",
     "text": [
      "mean: 9.0 \n",
      "median: 10.0 \n",
      "mode: N/A all values are equally common \n",
      "variance: 15.428571428571429 \n",
      "standard deviation: 4.242640687119285 \n",
      "standard error: 1.6035674514745462\n"
     ]
    }
   ],
   "source": [
    "print(\"mean:\" , np.mean(df['age']) , \n",
    "      \"\\nmedian:\" , np.median(df['age']) , \n",
    "      \"\\nmode: N/A all values are equally common\" , \n",
    "      \"\\nvariance:\" , np.var(df['age']) , \n",
    "      \"\\nstandard deviation:\" , np.std(df['age'], ddof=1) , \n",
    "      \"\\nstandard error:\" , np.std(df['age'], ddof=1) / np.sqrt(len(df['age']))\n",
    ")"
   ]
  },
  {
   "cell_type": "code",
   "execution_count": 27,
   "metadata": {},
   "outputs": [
    {
     "name": "stdout",
     "output_type": "stream",
     "text": [
      "Based on the sample mean of 16.25 we can estimate that a total of 16.25 of the population are Brady Bunch fans.\n",
      "With a margin of error of 3.944933459514875\n"
     ]
    }
   ],
   "source": [
    "magazines = ['tv_guide', 'entertainment_weekly', 'pop_culture_today', 'sci_phi_phanatics']\n",
    "percentages = [20, 23, 17, 5]\n",
    "\n",
    "mean_fans = sum(percentages) / len(percentages)\n",
    "stand_err = np.std(percentages ,ddof=1) / np.sqrt(len(percentages))\n",
    "\n",
    "print(\"Based on the sample mean of {} we can estimate that a total of {} of the population are Brady Bunch fans.\"\n",
    "      \"\\nWith a margin of error of {}\".format(mean_fans, mean_fans, stand_err))"
   ]
  },
  {
   "cell_type": "code",
   "execution_count": 31,
   "metadata": {},
   "outputs": [
    {
     "name": "stdout",
     "output_type": "stream",
     "text": [
      "SciPhi fantantis is a specialty magazine and could be skewing the results. If we adjust the sample to excludeSciPhi fantantics\n",
      "we get a more accurate mean of 20.0. Therefore we can estimate that a total of 20.0 of the population are Brady Bunch fans.\n",
      "With a margin of error of 1.7320508075688774\n"
     ]
    }
   ],
   "source": [
    "magazines = ['tv_guide', 'entertainment_weekly', 'pop_culture_today']\n",
    "percentages = [20, 23, 17]\n",
    "\n",
    "mean_fans = sum(percentages) / len(percentages)\n",
    "stand_err = np.std(percentages ,ddof=1) / np.sqrt(len(percentages))\n",
    "\n",
    "print(\"SciPhi fantantis is a specialty magazine and could be skewing the results. If we adjust the sample to exclude\"\n",
    "      \"SciPhi fantantics\\nwe get a more accurate mean of {}. Therefore we can estimate that a total of {} of the population are Brady Bunch fans.\"\n",
    "      \"\\nWith a margin of error of {}\".format(mean_fans, mean_fans, stand_err))"
   ]
  },
  {
   "cell_type": "code",
   "execution_count": null,
   "metadata": {
    "collapsed": true
   },
   "outputs": [],
   "source": []
  }
 ],
 "metadata": {
  "kernelspec": {
   "display_name": "Python 3",
   "language": "python",
   "name": "python3"
  },
  "language_info": {
   "codemirror_mode": {
    "name": "ipython",
    "version": 3
   },
   "file_extension": ".py",
   "mimetype": "text/x-python",
   "name": "python",
   "nbconvert_exporter": "python",
   "pygments_lexer": "ipython3",
   "version": "3.7.1"
  }
 },
 "nbformat": 4,
 "nbformat_minor": 2
}
