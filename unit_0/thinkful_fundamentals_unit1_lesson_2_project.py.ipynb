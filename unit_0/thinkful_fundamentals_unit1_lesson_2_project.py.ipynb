{
 "cells": [
  {
   "cell_type": "code",
   "execution_count": 1,
   "metadata": {
    "collapsed": true
   },
   "outputs": [],
   "source": [
    "# import packages\n",
    "import numpy as np\n",
    "import pandas as pd\n",
    "import matplotlib.pyplot as plt\n",
    "%matplotlib inline"
   ]
  },
  {
   "cell_type": "code",
   "execution_count": 2,
   "metadata": {},
   "outputs": [],
   "source": [
    "# import titanic.csv as a DataFrame\n",
    "df = pd.read_csv(r'c:\\users\\aaron\\appdata\\local\\programs\\python\\python37\\titanic.csv')"
   ]
  },
  {
   "cell_type": "code",
   "execution_count": 3,
   "metadata": {},
   "outputs": [
    {
     "data": {
      "text/html": [
       "<div>\n",
       "<style scoped>\n",
       "    .dataframe tbody tr th:only-of-type {\n",
       "        vertical-align: middle;\n",
       "    }\n",
       "\n",
       "    .dataframe tbody tr th {\n",
       "        vertical-align: top;\n",
       "    }\n",
       "\n",
       "    .dataframe thead th {\n",
       "        text-align: right;\n",
       "    }\n",
       "</style>\n",
       "<table border=\"1\" class=\"dataframe\">\n",
       "  <thead>\n",
       "    <tr style=\"text-align: right;\">\n",
       "      <th></th>\n",
       "      <th>PassengerId</th>\n",
       "      <th>Survived</th>\n",
       "      <th>Pclass</th>\n",
       "      <th>Name</th>\n",
       "      <th>Sex</th>\n",
       "      <th>Age</th>\n",
       "      <th>SibSp</th>\n",
       "      <th>Parch</th>\n",
       "      <th>Ticket</th>\n",
       "      <th>Fare</th>\n",
       "      <th>Cabin</th>\n",
       "      <th>Embarked</th>\n",
       "    </tr>\n",
       "  </thead>\n",
       "  <tbody>\n",
       "    <tr>\n",
       "      <th>0</th>\n",
       "      <td>1</td>\n",
       "      <td>0</td>\n",
       "      <td>3</td>\n",
       "      <td>Braund, Mr. Owen Harris</td>\n",
       "      <td>male</td>\n",
       "      <td>22.0</td>\n",
       "      <td>1</td>\n",
       "      <td>0</td>\n",
       "      <td>A/5 21171</td>\n",
       "      <td>7.2500</td>\n",
       "      <td>NaN</td>\n",
       "      <td>S</td>\n",
       "    </tr>\n",
       "    <tr>\n",
       "      <th>1</th>\n",
       "      <td>2</td>\n",
       "      <td>1</td>\n",
       "      <td>1</td>\n",
       "      <td>Cumings, Mrs. John Bradley (Florence Briggs Th...</td>\n",
       "      <td>female</td>\n",
       "      <td>38.0</td>\n",
       "      <td>1</td>\n",
       "      <td>0</td>\n",
       "      <td>PC 17599</td>\n",
       "      <td>71.2833</td>\n",
       "      <td>C85</td>\n",
       "      <td>C</td>\n",
       "    </tr>\n",
       "    <tr>\n",
       "      <th>2</th>\n",
       "      <td>3</td>\n",
       "      <td>1</td>\n",
       "      <td>3</td>\n",
       "      <td>Heikkinen, Miss. Laina</td>\n",
       "      <td>female</td>\n",
       "      <td>26.0</td>\n",
       "      <td>0</td>\n",
       "      <td>0</td>\n",
       "      <td>STON/O2. 3101282</td>\n",
       "      <td>7.9250</td>\n",
       "      <td>NaN</td>\n",
       "      <td>S</td>\n",
       "    </tr>\n",
       "    <tr>\n",
       "      <th>3</th>\n",
       "      <td>4</td>\n",
       "      <td>1</td>\n",
       "      <td>1</td>\n",
       "      <td>Futrelle, Mrs. Jacques Heath (Lily May Peel)</td>\n",
       "      <td>female</td>\n",
       "      <td>35.0</td>\n",
       "      <td>1</td>\n",
       "      <td>0</td>\n",
       "      <td>113803</td>\n",
       "      <td>53.1000</td>\n",
       "      <td>C123</td>\n",
       "      <td>S</td>\n",
       "    </tr>\n",
       "    <tr>\n",
       "      <th>4</th>\n",
       "      <td>5</td>\n",
       "      <td>0</td>\n",
       "      <td>3</td>\n",
       "      <td>Allen, Mr. William Henry</td>\n",
       "      <td>male</td>\n",
       "      <td>35.0</td>\n",
       "      <td>0</td>\n",
       "      <td>0</td>\n",
       "      <td>373450</td>\n",
       "      <td>8.0500</td>\n",
       "      <td>NaN</td>\n",
       "      <td>S</td>\n",
       "    </tr>\n",
       "  </tbody>\n",
       "</table>\n",
       "</div>"
      ],
      "text/plain": [
       "   PassengerId  Survived  Pclass  \\\n",
       "0            1         0       3   \n",
       "1            2         1       1   \n",
       "2            3         1       3   \n",
       "3            4         1       1   \n",
       "4            5         0       3   \n",
       "\n",
       "                                                Name     Sex   Age  SibSp  \\\n",
       "0                            Braund, Mr. Owen Harris    male  22.0      1   \n",
       "1  Cumings, Mrs. John Bradley (Florence Briggs Th...  female  38.0      1   \n",
       "2                             Heikkinen, Miss. Laina  female  26.0      0   \n",
       "3       Futrelle, Mrs. Jacques Heath (Lily May Peel)  female  35.0      1   \n",
       "4                           Allen, Mr. William Henry    male  35.0      0   \n",
       "\n",
       "   Parch            Ticket     Fare Cabin Embarked  \n",
       "0      0         A/5 21171   7.2500   NaN        S  \n",
       "1      0          PC 17599  71.2833   C85        C  \n",
       "2      0  STON/O2. 3101282   7.9250   NaN        S  \n",
       "3      0            113803  53.1000  C123        S  \n",
       "4      0            373450   8.0500   NaN        S  "
      ]
     },
     "execution_count": 3,
     "metadata": {},
     "output_type": "execute_result"
    }
   ],
   "source": [
    "df.head()"
   ]
  },
  {
   "cell_type": "code",
   "execution_count": 4,
   "metadata": {},
   "outputs": [],
   "source": [
    "# explore data set\n",
    "\n",
    "np.max(df['Age']) # age of eldest passenger\n",
    "len(df['Fare'].unique()) # number of different fares\n",
    "df['Survived'].sum() # number of survivors\n",
    "len((df.loc[lambda x: df['Sex'] == 'female', :])) # number of female passengers\n",
    "len((df.loc[lambda x: df['Sex'] == 'male', :])) # number of male passengers\n",
    "df_survived = df.loc[lambda x: df['Survived'] > 0, :] # subset df by only surviving passengers\n",
    "df_deceased = df.loc[lambda x: df['Survived'] == 0, :] # subset df by not surviving passengers"
   ]
  },
  {
   "cell_type": "code",
   "execution_count": 59,
   "metadata": {},
   "outputs": [
    {
     "data": {
      "image/png": "[encoded data removed]",
      "text/plain": [
       "<Figure size 432x288 with 3 Axes>"
      ]
     },
     "metadata": {
      "needs_background": "light"
     },
     "output_type": "display_data"
    },
    {
     "name": "stdout",
     "output_type": "stream",
     "text": [
      "Not surprisingly, you had a far better chance of surviving the Titanic if you booked a first class fare.\n",
      "With a total number of 891 passengers, 216 had first class fares, 184 had second class fares,\n",
      "and 491 had third class fares. Of those, 136 first class passengers survived (that's roughly two thirds),\n",
      " 87 second class passengers survived (less than half), and 119 third class passengers survived (or 1 out of 4).\n"
     ]
    }
   ],
   "source": [
    "# plot of a histogram of percentage of total passengers based on class\n",
    "# plot of histogram of percentage of total surviving passengers based on class\n",
    "# compare histograms\n",
    "\n",
    "plt.subplot(1,3,1)\n",
    "plt.hist(df['Pclass'], bins=np.arange(1,5), color='blue', alpha=.5, rwidth=0.5)\n",
    "plt.ylim(0,500)\n",
    "plt.xlabel('Class')\n",
    "plt.ylabel('Passengers')\n",
    "plt.title('Total Passengers')\n",
    "\n",
    "plt.subplot(1,3,2)\n",
    "plt.hist(df_survived['Pclass'], bins=np.arange(1,5), color='red', alpha=.5, rwidth=0.5)\n",
    "plt.ylim(0,500)\n",
    "plt.xlabel('Class')\n",
    "plt.ylabel('Passengers')\n",
    "plt.title('Surviors')\n",
    "\n",
    "plt.subplot(1,3,3)\n",
    "plt.hist(df['Pclass'], bins=np.arange(1,5), color='blue', alpha=.5, rwidth=0.5)\n",
    "plt.hist(df_survived['Pclass'], bins=np.arange(1,5), color='red', alpha=.5, rwidth=0.5)\n",
    "plt.ylim(0,500)\n",
    "plt.xlabel('Class')\n",
    "plt.ylabel('Passengers')\n",
    "plt.title('Passengers vs Survivors')\n",
    "\n",
    "plt.tight_layout()\n",
    "plt.show()\n",
    "\n",
    "print(\"Not surprisingly, you had a far better chance of surviving the Titanic if you booked a first class fare.\"\n",
    "      \"\\nWith a total number of\" , np.max(df['PassengerId']) , \"passengers,\" , len(df[df['Pclass']==1]) ,\n",
    "      \"had first class fares,\" , len(df[df['Pclass']==2]) , \"had second class fares,\\nand\" , len(df[df['Pclass']==3])\n",
    "      , \"had third class fares. Of those,\" , len(df_survived[df_survived['Pclass']==1]) , \"first class passengers survived\"\n",
    "      \" (that's roughly two thirds),\\n\" , len(df_survived[df_survived['Pclass']==2]) , \"second class passengers survived\"\n",
    "      \" (less than half), and\" , len(df_survived[df_survived['Pclass']==3]) , \"third class passengers survived (or 1 out of 4).\"\n",
    "     )"
   ]
  },
  {
   "cell_type": "code",
   "execution_count": 56,
   "metadata": {},
   "outputs": [
    {
     "data": {
      "image/png": "[encoded data removed]",
      "text/plain": [
       "<Figure size 432x288 with 2 Axes>"
      ]
     },
     "metadata": {
      "needs_background": "light"
     },
     "output_type": "display_data"
    },
    {
     "name": "stdout",
     "output_type": "stream",
     "text": [
      "Every man for himself: we would expect the most able-bodied people to have the highest likelyhood of surviving, right?\n",
      "Surprisingly, no. In Figure 1, we can see the total age distribution in red compared to the age distribution of\n",
      "surviving passengers in blue. The majority of passengers are in the 20-40 range, but the majority of deceased passengers\n",
      "also happens to be in the 20-40 range as we can see in Figure 2. It appears being able bodied was not a guarantee of survival\n",
      "aboard the Titanic.\n"
     ]
    }
   ],
   "source": [
    "# plot a histogram of the ages of the passengers\n",
    "# compare age data for surving passengers\n",
    "\n",
    "plt.subplot(1,2,1)\n",
    "plt.hist(df['Age'], bins=np.arange(80), color='red', alpha=.5)\n",
    "plt.hist(df_survived['Age'], bins=np.arange(80), color='blue', alpha=.5)\n",
    "plt.ylim(0,30)\n",
    "plt.xlabel('Age')\n",
    "plt.ylabel('Percentage')\n",
    "plt.title('Fig. 1: Total vs Surviving')\n",
    "\n",
    "plt.subplot(1,2,2)\n",
    "plt.hist(df['Age'], bins=np.arange(80), color='red', alpha=.5)\n",
    "plt.hist(df_deceased['Age'], bins=np.arange(80), color='teal', alpha=.5)\n",
    "plt.ylim(0,30)\n",
    "plt.xlabel('Age')\n",
    "plt.ylabel('Percentage')\n",
    "plt.title('Fig. 2: Total vs Deceased')\n",
    "\n",
    "plt.tight_layout()\n",
    "plt.show()\n",
    "\n",
    "print(\"Every man for himself: we would expect the most able-bodied people to have the highest likelyhood of surviving, right?\"\n",
    "      \"\\n\"\"Surprisingly, no. In Figure 1, we can see the total age distribution in red compared to the age distribution of\"\n",
    "      \"\\n\"\"surviving passengers in blue. The majority of passengers are in the 20-40 range, but the majority of deceased\"\n",
    "      \" passengers\"\"\\n\"\"also happens to be in the 20-40 range as we can see in Figure 2. It appears being able bodied\"\n",
    "      \" was not a guarantee of survival\"\"\\n\"\"aboard the Titanic.\"\n",
    ")"
   ]
  },
  {
   "cell_type": "code",
   "execution_count": 55,
   "metadata": {},
   "outputs": [],
   "source": [
    "df_s_w = df_survived.loc[lambda x: df['Sex'] == 'female', :]\n",
    "df_s_c = df_survived.loc[lambda x: df['Age'] < 16, :]"
   ]
  },
  {
   "cell_type": "code",
   "execution_count": 68,
   "metadata": {},
   "outputs": [
    {
     "data": {
      "image/png": "[encoded data removed]",
      "text/plain": [
       "<Figure size 432x288 with 2 Axes>"
      ]
     },
     "metadata": {
      "needs_background": "light"
     },
     "output_type": "display_data"
    },
    {
     "name": "stdout",
     "output_type": "stream",
     "text": [
      "What about women and children, did they have a higher chance of survival? In this case, yes (mostly). In Figure 1 we can see\n",
      "the total number of female passengers in red compared to the total number of surviving female passengers in blue.\n",
      "In the same manner, we can see the total number of childen under in the age of 16 in red in Figure 2 compared to the total\n",
      "number of surviving children in blue. Of the 314 women on board, 233 survived (aproximately 75%) and of the 83 children on\n",
      "board, 49 survived (almost 60%). Turns out the movies got it right, women and children must have gotten on the lifeboats first.\n"
     ]
    }
   ],
   "source": [
    "# plot a histogram comparing surving women and children\n",
    "\n",
    "x = df[df['Age'] < 16]\n",
    "y = df[df['Sex'] == 'female']\n",
    "\n",
    "plt.subplot(1,2,1)\n",
    "plt.hist(y['Age'], bins=np.arange(65), color='red', alpha=.5)\n",
    "plt.hist(df_s_w['Age'], bins=np.arange(65), color='blue', alpha=.5)\n",
    "plt.ylim(0,20)\n",
    "plt.xlabel('Age')\n",
    "plt.ylabel('Percentage')\n",
    "plt.title('Fig 1: Women')\n",
    "\n",
    "plt.subplot(1,2,2)\n",
    "plt.hist(x['Age'], bins=np.arange(16), color='red', alpha=.5, rwidth=.5)\n",
    "plt.hist(df_s_c['Age'], bins=np.arange(16), color='blue', alpha=.5, rwidth=.5)\n",
    "plt.ylim(0,20)\n",
    "plt.xlabel('Age')\n",
    "plt.ylabel('Percentage')\n",
    "plt.title('Fig 2: Children (<16)')\n",
    "\n",
    "plt.tight_layout()\n",
    "plt.show()\n",
    "\n",
    "print(\"What about women and children, did they have a higher chance of survival? In this case, yes (mostly).\"\n",
    "      \" In Figure 1 we can see\"\"\\n\"\"the total number of female passengers in red compared to the total number of surviving\"\n",
    "      \" female passengers in blue.\"\"\\n\"\"In the same manner, we can see the total number of childen under in the age\"\n",
    "      \" of 16 in red in Figure 2 compared to the total\"\"\\n\"\"number of surviving children in blue. Of the\"\n",
    "      , len(df[df['Sex']=='female']) , \"women on board,\" , len(df_survived[df_survived['Sex']=='female']) ,\n",
    "      \"survived (aproximately 75%) and of the\" , len(df[df['Age'] < 16]) , \"children on\"\"\\n\"\"board,\" , \n",
    "      len(df_survived[df_survived['Age'] < 16]) , \"survived (almost 60%). Turns out the movies got it right, women and\"\n",
    "      \" children must have gotten on the lifeboats first.\"\n",
    "     )"
   ]
  },
  {
   "cell_type": "code",
   "execution_count": 103,
   "metadata": {},
   "outputs": [
    {
     "data": {
      "image/png": "[encoded data removed]",
      "text/plain": [
       "<Figure size 432x288 with 3 Axes>"
      ]
     },
     "metadata": {
      "needs_background": "light"
     },
     "output_type": "display_data"
    },
    {
     "name": "stdout",
     "output_type": "stream",
     "text": [
      "With 248 different fares for 891 passengers, we can be sure to expect a wide variance in fare price. Figure 1 shows that\n",
      "first class fares ranged from as high as 512.3292 to as low as 5.0 , while fares in the second class ranged from 73.5 to 10.5 \n",
      "(Figure 2), and from 69.55 to 4.0125 in third class (Figure 3). Though this is a bit more variance than we should expect.\n",
      "Also, it's unlikely that the minimum first class fare is less than the minimum second class fare andonly slightly higher\n",
      "than the minimum first class fare. This is likely a sign that the data needs cleaning or requires further inspection before\n",
      "we conduct any analysis.\n"
     ]
    }
   ],
   "source": [
    "# plot a series of boxplots comparing fare prices\n",
    "\n",
    "x = df[df['Pclass'] == 1]\n",
    "x = x[x['Fare'] != 0]\n",
    "\n",
    "y = df[df['Pclass'] == 2]\n",
    "y = y[y['Fare'] != 0]\n",
    "\n",
    "z = df[df['Pclass'] == 3]\n",
    "z = z[z['Fare'] != 0]\n",
    "\n",
    "plt.subplot(1,3,1)\n",
    "plt.boxplot(x['Fare'])\n",
    "plt.xlabel('First Class')\n",
    "plt.ylabel('Price')\n",
    "plt.title('Fig 1')\n",
    "\n",
    "plt.subplot(1,3,2)\n",
    "plt.boxplot(y['Fare'])\n",
    "plt.xlabel('Second Class')\n",
    "plt.ylabel('Price')\n",
    "plt.title('Fig 2')\n",
    "\n",
    "plt.subplot(1,3,3)\n",
    "plt.boxplot(z['Fare'])\n",
    "plt.xlabel('Third Class')\n",
    "plt.ylabel('Price')\n",
    "plt.title('Fig 3')\n",
    "\n",
    "plt.tight_layout()\n",
    "plt.show()\n",
    "\n",
    "print(\"With\" , len(df['Fare'].unique()) , \"different fares for\" , np.max(df['PassengerId']) , \"passengers, we can be sure\"\n",
    "      \" to expect a wide variance in fare price. Figure 1 shows that\"\"\\n\"\"first class fares ranged from as high as\"\n",
    "      , np.max(x['Fare']) , \"to as low as\" , np.min(x['Fare']) , \", while fares in the second class ranged from\"\n",
    "      , np.max(y['Fare']) , \"to\" , np.min(y['Fare']) , \"\\n\"\"(Figure 2), and from\" , np.max(z['Fare']) , \"to\"\n",
    "      , np.min(z['Fare']) , \"in third class (Figure 3). Though this is a bit more variance than we should expect.\"\n",
    "      \"\\n\"\"Also, it's unlikely that the minimum first class fare is less than the minimum second class fare and\"\n",
    "      \"only slightly higher\"\"\\n\"\"than the minimum first class fare. This is likely a sign that the data needs cleaning\"\n",
    "      \" or requires further inspection before\"\"\\n\"\"we conduct any analysis.\"\n",
    " )"
   ]
  },
  {
   "cell_type": "code",
   "execution_count": null,
   "metadata": {
    "collapsed": true
   },
   "outputs": [],
   "source": []
  },
  {
   "cell_type": "code",
   "execution_count": null,
   "metadata": {
    "collapsed": true
   },
   "outputs": [],
   "source": []
  }
 ],
 "metadata": {
  "kernelspec": {
   "display_name": "Python 3",
   "language": "python",
   "name": "python3"
  },
  "language_info": {
   "codemirror_mode": {
    "name": "ipython",
    "version": 3
   },
   "file_extension": ".py",
   "mimetype": "text/x-python",
   "name": "python",
   "nbconvert_exporter": "python",
   "pygments_lexer": "ipython3",
   "version": "3.7.1"
  }
 },
 "nbformat": 4,
 "nbformat_minor": 2
}
