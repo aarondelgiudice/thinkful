{
 "cells": [
  {
   "cell_type": "code",
   "execution_count": 1,
   "metadata": {
    "collapsed": true
   },
   "outputs": [],
   "source": [
    "import numpy as np\n",
    "import pandas as pd\n",
    "import matplotlib.pyplot as plt\n",
    "%matplotlib inline"
   ]
  },
  {
   "cell_type": "code",
   "execution_count": 2,
   "metadata": {
    "scrolled": true
   },
   "outputs": [
    {
     "data": {
      "text/html": [
       "<div>\n",
       "<style scoped>\n",
       "    .dataframe tbody tr th:only-of-type {\n",
       "        vertical-align: middle;\n",
       "    }\n",
       "\n",
       "    .dataframe tbody tr th {\n",
       "        vertical-align: top;\n",
       "    }\n",
       "\n",
       "    .dataframe thead th {\n",
       "        text-align: right;\n",
       "    }\n",
       "</style>\n",
       "<table border=\"1\" class=\"dataframe\">\n",
       "  <thead>\n",
       "    <tr style=\"text-align: right;\">\n",
       "      <th></th>\n",
       "      <th>24h_volume_usd</th>\n",
       "      <th>available_supply</th>\n",
       "      <th>id</th>\n",
       "      <th>last_updated</th>\n",
       "      <th>market_cap_usd</th>\n",
       "      <th>max_supply</th>\n",
       "      <th>name</th>\n",
       "      <th>percent_change_1h</th>\n",
       "      <th>percent_change_24h</th>\n",
       "      <th>percent_change_7d</th>\n",
       "      <th>price_btc</th>\n",
       "      <th>price_usd</th>\n",
       "      <th>rank</th>\n",
       "      <th>symbol</th>\n",
       "      <th>total_supply</th>\n",
       "    </tr>\n",
       "  </thead>\n",
       "  <tbody>\n",
       "    <tr>\n",
       "      <th>0</th>\n",
       "      <td>5.650980e+09</td>\n",
       "      <td>17449487</td>\n",
       "      <td>bitcoin</td>\n",
       "      <td>1546028544</td>\n",
       "      <td>68543998468</td>\n",
       "      <td>2.100000e+07</td>\n",
       "      <td>Bitcoin</td>\n",
       "      <td>-0.60</td>\n",
       "      <td>6.50</td>\n",
       "      <td>-0.46</td>\n",
       "      <td>1.000000</td>\n",
       "      <td>3928.138315</td>\n",
       "      <td>1</td>\n",
       "      <td>BTC</td>\n",
       "      <td>17449487</td>\n",
       "    </tr>\n",
       "    <tr>\n",
       "      <th>1</th>\n",
       "      <td>8.101865e+08</td>\n",
       "      <td>40794121066</td>\n",
       "      <td>ripple</td>\n",
       "      <td>1546028524</td>\n",
       "      <td>15318921018</td>\n",
       "      <td>1.000000e+11</td>\n",
       "      <td>XRP</td>\n",
       "      <td>-0.77</td>\n",
       "      <td>6.82</td>\n",
       "      <td>3.66</td>\n",
       "      <td>0.000096</td>\n",
       "      <td>0.375518</td>\n",
       "      <td>2</td>\n",
       "      <td>XRP</td>\n",
       "      <td>99991738974</td>\n",
       "    </tr>\n",
       "    <tr>\n",
       "      <th>2</th>\n",
       "      <td>3.077113e+09</td>\n",
       "      <td>104064011</td>\n",
       "      <td>ethereum</td>\n",
       "      <td>1546028537</td>\n",
       "      <td>14051805566</td>\n",
       "      <td>NaN</td>\n",
       "      <td>Ethereum</td>\n",
       "      <td>-1.33</td>\n",
       "      <td>13.80</td>\n",
       "      <td>21.86</td>\n",
       "      <td>0.034344</td>\n",
       "      <td>135.030405</td>\n",
       "      <td>3</td>\n",
       "      <td>ETH</td>\n",
       "      <td>104064011</td>\n",
       "    </tr>\n",
       "    <tr>\n",
       "      <th>3</th>\n",
       "      <td>4.839237e+08</td>\n",
       "      <td>17536000</td>\n",
       "      <td>bitcoin-cash</td>\n",
       "      <td>1546028532</td>\n",
       "      <td>3021947867</td>\n",
       "      <td>2.100000e+07</td>\n",
       "      <td>Bitcoin Cash</td>\n",
       "      <td>-2.09</td>\n",
       "      <td>12.18</td>\n",
       "      <td>-9.39</td>\n",
       "      <td>0.043831</td>\n",
       "      <td>172.328231</td>\n",
       "      <td>4</td>\n",
       "      <td>BCH</td>\n",
       "      <td>17536000</td>\n",
       "    </tr>\n",
       "    <tr>\n",
       "      <th>4</th>\n",
       "      <td>9.200758e+08</td>\n",
       "      <td>906245118</td>\n",
       "      <td>eos</td>\n",
       "      <td>1546028532</td>\n",
       "      <td>2429563446</td>\n",
       "      <td>NaN</td>\n",
       "      <td>EOS</td>\n",
       "      <td>-0.30</td>\n",
       "      <td>12.75</td>\n",
       "      <td>2.24</td>\n",
       "      <td>0.000682</td>\n",
       "      <td>2.680912</td>\n",
       "      <td>5</td>\n",
       "      <td>EOS</td>\n",
       "      <td>1006245120</td>\n",
       "    </tr>\n",
       "  </tbody>\n",
       "</table>\n",
       "</div>"
      ],
      "text/plain": [
       "   24h_volume_usd  available_supply            id  last_updated  \\\n",
       "0    5.650980e+09          17449487       bitcoin    1546028544   \n",
       "1    8.101865e+08       40794121066        ripple    1546028524   \n",
       "2    3.077113e+09         104064011      ethereum    1546028537   \n",
       "3    4.839237e+08          17536000  bitcoin-cash    1546028532   \n",
       "4    9.200758e+08         906245118           eos    1546028532   \n",
       "\n",
       "   market_cap_usd    max_supply          name  percent_change_1h  \\\n",
       "0     68543998468  2.100000e+07       Bitcoin              -0.60   \n",
       "1     15318921018  1.000000e+11           XRP              -0.77   \n",
       "2     14051805566           NaN      Ethereum              -1.33   \n",
       "3      3021947867  2.100000e+07  Bitcoin Cash              -2.09   \n",
       "4      2429563446           NaN           EOS              -0.30   \n",
       "\n",
       "   percent_change_24h  percent_change_7d  price_btc    price_usd  rank symbol  \\\n",
       "0                6.50              -0.46   1.000000  3928.138315     1    BTC   \n",
       "1                6.82               3.66   0.000096     0.375518     2    XRP   \n",
       "2               13.80              21.86   0.034344   135.030405     3    ETH   \n",
       "3               12.18              -9.39   0.043831   172.328231     4    BCH   \n",
       "4               12.75               2.24   0.000682     2.680912     5    EOS   \n",
       "\n",
       "   total_supply  \n",
       "0      17449487  \n",
       "1   99991738974  \n",
       "2     104064011  \n",
       "3      17536000  \n",
       "4    1006245120  "
      ]
     },
     "execution_count": 2,
     "metadata": {},
     "output_type": "execute_result"
    }
   ],
   "source": [
    "# Load https://api.coinmarketcap.com/v1/ticker/?limit=0 into a DataFrame named df using read_json() from pandas.\n",
    "path = 'https://api.coinmarketcap.com/v1/ticker/?limit=0'\n",
    "df = pd.read_json(path)\n",
    "\n",
    "df.head()"
   ]
  },
  {
   "cell_type": "code",
   "execution_count": 3,
   "metadata": {
    "scrolled": true
   },
   "outputs": [
    {
     "data": {
      "text/html": [
       "<div>\n",
       "<style scoped>\n",
       "    .dataframe tbody tr th:only-of-type {\n",
       "        vertical-align: middle;\n",
       "    }\n",
       "\n",
       "    .dataframe tbody tr th {\n",
       "        vertical-align: top;\n",
       "    }\n",
       "\n",
       "    .dataframe thead th {\n",
       "        text-align: right;\n",
       "    }\n",
       "</style>\n",
       "<table border=\"1\" class=\"dataframe\">\n",
       "  <thead>\n",
       "    <tr style=\"text-align: right;\">\n",
       "      <th></th>\n",
       "      <th>id</th>\n",
       "      <th>market_cap_usd</th>\n",
       "    </tr>\n",
       "  </thead>\n",
       "  <tbody>\n",
       "    <tr>\n",
       "      <th>0</th>\n",
       "      <td>bitcoin</td>\n",
       "      <td>68543998468</td>\n",
       "    </tr>\n",
       "    <tr>\n",
       "      <th>1</th>\n",
       "      <td>ripple</td>\n",
       "      <td>15318921018</td>\n",
       "    </tr>\n",
       "    <tr>\n",
       "      <th>2</th>\n",
       "      <td>ethereum</td>\n",
       "      <td>14051805566</td>\n",
       "    </tr>\n",
       "    <tr>\n",
       "      <th>3</th>\n",
       "      <td>bitcoin-cash</td>\n",
       "      <td>3021947867</td>\n",
       "    </tr>\n",
       "    <tr>\n",
       "      <th>4</th>\n",
       "      <td>eos</td>\n",
       "      <td>2429563446</td>\n",
       "    </tr>\n",
       "  </tbody>\n",
       "</table>\n",
       "</div>"
      ],
      "text/plain": [
       "             id  market_cap_usd\n",
       "0       bitcoin     68543998468\n",
       "1        ripple     15318921018\n",
       "2      ethereum     14051805566\n",
       "3  bitcoin-cash      3021947867\n",
       "4           eos      2429563446"
      ]
     },
     "execution_count": 3,
     "metadata": {},
     "output_type": "execute_result"
    }
   ],
   "source": [
    "# Select the columns id and market_cap_usd\n",
    "market_cap_raw = df.loc[:,['id','market_cap_usd']]\n",
    "\n",
    "market_cap_raw.head()"
   ]
  },
  {
   "cell_type": "code",
   "execution_count": 4,
   "metadata": {},
   "outputs": [
    {
     "name": "stdout",
     "output_type": "stream",
     "text": [
      "id                100\n",
      "market_cap_usd    100\n",
      "dtype: int64\n",
      "id                100\n",
      "market_cap_usd    100\n",
      "dtype: int64\n"
     ]
    }
   ],
   "source": [
    "print(market_cap_raw.count())\n",
    "\n",
    "# filter out all coins with no market cap\n",
    "cap = market_cap_raw.query('market_cap_usd > 0')\n",
    "\n",
    "print(cap.count())"
   ]
  },
  {
   "cell_type": "code",
   "execution_count": 5,
   "metadata": {},
   "outputs": [
    {
     "data": {
      "text/html": [
       "<div>\n",
       "<style scoped>\n",
       "    .dataframe tbody tr th:only-of-type {\n",
       "        vertical-align: middle;\n",
       "    }\n",
       "\n",
       "    .dataframe tbody tr th {\n",
       "        vertical-align: top;\n",
       "    }\n",
       "\n",
       "    .dataframe thead th {\n",
       "        text-align: right;\n",
       "    }\n",
       "</style>\n",
       "<table border=\"1\" class=\"dataframe\">\n",
       "  <thead>\n",
       "    <tr style=\"text-align: right;\">\n",
       "      <th></th>\n",
       "      <th>market_cap_usd</th>\n",
       "    </tr>\n",
       "    <tr>\n",
       "      <th>id</th>\n",
       "      <th></th>\n",
       "    </tr>\n",
       "  </thead>\n",
       "  <tbody>\n",
       "    <tr>\n",
       "      <th>bitcoin</th>\n",
       "      <td>68543998468</td>\n",
       "    </tr>\n",
       "    <tr>\n",
       "      <th>ripple</th>\n",
       "      <td>15318921018</td>\n",
       "    </tr>\n",
       "    <tr>\n",
       "      <th>ethereum</th>\n",
       "      <td>14051805566</td>\n",
       "    </tr>\n",
       "    <tr>\n",
       "      <th>bitcoin-cash</th>\n",
       "      <td>3021947867</td>\n",
       "    </tr>\n",
       "    <tr>\n",
       "      <th>eos</th>\n",
       "      <td>2429563446</td>\n",
       "    </tr>\n",
       "    <tr>\n",
       "      <th>stellar</th>\n",
       "      <td>2332686418</td>\n",
       "    </tr>\n",
       "    <tr>\n",
       "      <th>litecoin</th>\n",
       "      <td>1947313596</td>\n",
       "    </tr>\n",
       "    <tr>\n",
       "      <th>tether</th>\n",
       "      <td>1911409635</td>\n",
       "    </tr>\n",
       "    <tr>\n",
       "      <th>bitcoin-sv</th>\n",
       "      <td>1634988359</td>\n",
       "    </tr>\n",
       "    <tr>\n",
       "      <th>tron</th>\n",
       "      <td>1383661387</td>\n",
       "    </tr>\n",
       "  </tbody>\n",
       "</table>\n",
       "</div>"
      ],
      "text/plain": [
       "              market_cap_usd\n",
       "id                          \n",
       "bitcoin          68543998468\n",
       "ripple           15318921018\n",
       "ethereum         14051805566\n",
       "bitcoin-cash      3021947867\n",
       "eos               2429563446\n",
       "stellar           2332686418\n",
       "litecoin          1947313596\n",
       "tether            1911409635\n",
       "bitcoin-sv        1634988359\n",
       "tron              1383661387"
      ]
     },
     "execution_count": 5,
     "metadata": {},
     "output_type": "execute_result"
    }
   ],
   "source": [
    "# cap10 == first 10 coins w/ id as index\n",
    "cap10 = cap.head(10).set_index('id')\n",
    "cap10"
   ]
  },
  {
   "cell_type": "code",
   "execution_count": 6,
   "metadata": {},
   "outputs": [
    {
     "data": {
      "text/html": [
       "<div>\n",
       "<style scoped>\n",
       "    .dataframe tbody tr th:only-of-type {\n",
       "        vertical-align: middle;\n",
       "    }\n",
       "\n",
       "    .dataframe tbody tr th {\n",
       "        vertical-align: top;\n",
       "    }\n",
       "\n",
       "    .dataframe thead th {\n",
       "        text-align: right;\n",
       "    }\n",
       "</style>\n",
       "<table border=\"1\" class=\"dataframe\">\n",
       "  <thead>\n",
       "    <tr style=\"text-align: right;\">\n",
       "      <th></th>\n",
       "      <th>market_cap_usd</th>\n",
       "      <th>market_cap_perc</th>\n",
       "    </tr>\n",
       "    <tr>\n",
       "      <th>id</th>\n",
       "      <th></th>\n",
       "      <th></th>\n",
       "    </tr>\n",
       "  </thead>\n",
       "  <tbody>\n",
       "    <tr>\n",
       "      <th>bitcoin</th>\n",
       "      <td>68543998468</td>\n",
       "      <td>53.907528</td>\n",
       "    </tr>\n",
       "    <tr>\n",
       "      <th>ripple</th>\n",
       "      <td>15318921018</td>\n",
       "      <td>12.047811</td>\n",
       "    </tr>\n",
       "    <tr>\n",
       "      <th>ethereum</th>\n",
       "      <td>14051805566</td>\n",
       "      <td>11.051268</td>\n",
       "    </tr>\n",
       "    <tr>\n",
       "      <th>bitcoin-cash</th>\n",
       "      <td>3021947867</td>\n",
       "      <td>2.376659</td>\n",
       "    </tr>\n",
       "    <tr>\n",
       "      <th>eos</th>\n",
       "      <td>2429563446</td>\n",
       "      <td>1.910769</td>\n",
       "    </tr>\n",
       "  </tbody>\n",
       "</table>\n",
       "</div>"
      ],
      "text/plain": [
       "              market_cap_usd  market_cap_perc\n",
       "id                                           \n",
       "bitcoin          68543998468        53.907528\n",
       "ripple           15318921018        12.047811\n",
       "ethereum         14051805566        11.051268\n",
       "bitcoin-cash      3021947867         2.376659\n",
       "eos               2429563446         1.910769"
      ]
     },
     "execution_count": 6,
     "metadata": {},
     "output_type": "execute_result"
    }
   ],
   "source": [
    "# Calculate the percentage of market capitalization\n",
    "cap10 = cap10.assign(market_cap_perc =\n",
    "    lambda x: (x.market_cap_usd / cap.market_cap_usd.sum()) * 100)\n",
    "\n",
    "cap10.head()"
   ]
  },
  {
   "cell_type": "code",
   "execution_count": 7,
   "metadata": {},
   "outputs": [
    {
     "data": {
      "text/plain": [
       "Text(0, 0.5, '% of total cap')"
      ]
     },
     "execution_count": 7,
     "metadata": {},
     "output_type": "execute_result"
    },
    {
     "data": {
      "image/png": "[encoded data removed]",
      "text/plain": [
       "<Figure size 432x288 with 1 Axes>"
      ]
     },
     "metadata": {
      "needs_background": "light"
     },
     "output_type": "display_data"
    }
   ],
   "source": [
    "# Plot market_cap_perc\n",
    "xy = cap10['market_cap_perc'].plot.bar(title='Top 10 market capitalization')\n",
    "\n",
    "xy.set_ylabel('% of total cap')"
   ]
  },
  {
   "cell_type": "code",
   "execution_count": 8,
   "metadata": {
    "scrolled": true
   },
   "outputs": [
    {
     "data": {
      "text/plain": [
       "Text(0.5, 0, '')"
      ]
     },
     "execution_count": 8,
     "metadata": {},
     "output_type": "execute_result"
    },
    {
     "data": {
      "image/png": "[encoded data removed]",
      "text/plain": [
       "<Figure size 432x288 with 1 Axes>"
      ]
     },
     "metadata": {
      "needs_background": "light"
     },
     "output_type": "display_data"
    }
   ],
   "source": [
    "# Plot market_cap_usd with log scaled y-axis  \n",
    "xy = cap10['market_cap_usd'].plot.bar(title='Top 10 market capitalization')\n",
    "xy.set_yscale('log')\n",
    "xy.set_ylabel('USD')\n",
    "xy.set_xlabel('') # xlabel is not very informative"
   ]
  },
  {
   "cell_type": "code",
   "execution_count": 9,
   "metadata": {},
   "outputs": [
    {
     "data": {
      "text/html": [
       "<div>\n",
       "<style scoped>\n",
       "    .dataframe tbody tr th:only-of-type {\n",
       "        vertical-align: middle;\n",
       "    }\n",
       "\n",
       "    .dataframe tbody tr th {\n",
       "        vertical-align: top;\n",
       "    }\n",
       "\n",
       "    .dataframe thead th {\n",
       "        text-align: right;\n",
       "    }\n",
       "</style>\n",
       "<table border=\"1\" class=\"dataframe\">\n",
       "  <thead>\n",
       "    <tr style=\"text-align: right;\">\n",
       "      <th></th>\n",
       "      <th>percent_change_24h</th>\n",
       "      <th>percent_change_7d</th>\n",
       "    </tr>\n",
       "    <tr>\n",
       "      <th>id</th>\n",
       "      <th></th>\n",
       "      <th></th>\n",
       "    </tr>\n",
       "  </thead>\n",
       "  <tbody>\n",
       "    <tr>\n",
       "      <th>odem</th>\n",
       "      <td>-8.25</td>\n",
       "      <td>40.39</td>\n",
       "    </tr>\n",
       "    <tr>\n",
       "      <th>qash</th>\n",
       "      <td>-6.56</td>\n",
       "      <td>-23.03</td>\n",
       "    </tr>\n",
       "    <tr>\n",
       "      <th>dentacoin</th>\n",
       "      <td>-2.47</td>\n",
       "      <td>-9.88</td>\n",
       "    </tr>\n",
       "    <tr>\n",
       "      <th>usd-coin</th>\n",
       "      <td>-0.78</td>\n",
       "      <td>-0.17</td>\n",
       "    </tr>\n",
       "    <tr>\n",
       "      <th>trueusd</th>\n",
       "      <td>-0.58</td>\n",
       "      <td>-0.13</td>\n",
       "    </tr>\n",
       "  </tbody>\n",
       "</table>\n",
       "</div>"
      ],
      "text/plain": [
       "           percent_change_24h  percent_change_7d\n",
       "id                                              \n",
       "odem                    -8.25              40.39\n",
       "qash                    -6.56             -23.03\n",
       "dentacoin               -2.47              -9.88\n",
       "usd-coin                -0.78              -0.17\n",
       "trueusd                 -0.58              -0.13"
      ]
     },
     "execution_count": 9,
     "metadata": {},
     "output_type": "execute_result"
    }
   ],
   "source": [
    "# volatility DataFrame == id, percent_change_24h and percent_change_7d columns\n",
    "volatility = df.loc[:,['id', 'percent_change_24h', 'percent_change_7d']]\n",
    "\n",
    "# set the index to id and drop all NAs\n",
    "volatility = volatility.set_index('id').dropna()\n",
    "\n",
    "# sort volatility by percent_change_24h\n",
    "volatility = volatility.sort_values('percent_change_24h', ascending=True)\n",
    "\n",
    "\n",
    "volatility.head()"
   ]
  },
  {
   "cell_type": "code",
   "execution_count": 10,
   "metadata": {
    "scrolled": true
   },
   "outputs": [
    {
     "data": {
      "image/png": "[encoded data removed]",
      "text/plain": [
       "<Figure size 720x432 with 2 Axes>"
      ]
     },
     "metadata": {
      "needs_background": "light"
     },
     "output_type": "display_data"
    }
   ],
   "source": [
    "#Defining a function with 2 parameters, the series to plot and the title\n",
    "def top10_subplot(volatility_series, title):\n",
    "    \n",
    "    \"\"\"The function assumes that volatility_series is sorted\n",
    "    volatility_series[:10] will return the top 10 losers\n",
    "    and volatility_series[-10:] will return the top 10 winners.\"\"\"\n",
    "    \n",
    "    fig, axes = plt.subplots(nrows=1, ncols=2, figsize=(10, 6))\n",
    "    \n",
    "    xy = (volatility_series[:10].plot.bar(color=\"darkred\", ax=axes[0]))\n",
    "    \n",
    "    fig.suptitle(title)\n",
    "    \n",
    "    xy.set_ylabel('% change')\n",
    "    xy.set_xlabel('')\n",
    "    \n",
    "    xy = (volatility_series[-10:].plot.bar(color='darkblue', ax=axes[1]))\n",
    "    xy.set_xlabel('')\n",
    "    \n",
    "    return fig, xy\n",
    "\n",
    "TITLE = \"Daily Top Losers and Winners\"\n",
    "\n",
    "fig, xy = top10_subplot(volatility.percent_change_24h, TITLE)"
   ]
  },
  {
   "cell_type": "code",
   "execution_count": 11,
   "metadata": {},
   "outputs": [
    {
     "data": {
      "image/png": "[encoded data removed]",
      "text/plain": [
       "<Figure size 720x432 with 2 Axes>"
      ]
     },
     "metadata": {
      "needs_background": "light"
     },
     "output_type": "display_data"
    }
   ],
   "source": [
    "# Sort volatility by percent_change_7d\n",
    "volatility7d = volatility.sort_values('percent_change_7d', ascending=True)\n",
    "\n",
    "TITLE = 'Weekly Losers and Winners'\n",
    "fig, xy = top10_subplot(volatility7d.percent_change_7d, TITLE)"
   ]
  },
  {
   "cell_type": "code",
   "execution_count": 12,
   "metadata": {
    "scrolled": true
   },
   "outputs": [
    {
     "name": "stdout",
     "output_type": "stream",
     "text": [
      "         id  market_cap_usd\n",
      "0   bitcoin     68543998468\n",
      "1    ripple     15318921018\n",
      "2  ethereum     14051805566\n"
     ]
    }
   ],
   "source": [
    "# select all \"large cap\" coins in cap. large cap stocks have a market_cap_usd > +10 billion USD\n",
    "largecaps = cap.query('market_cap_usd > 10000000000')\n",
    "\n",
    "print(largecaps)"
   ]
  },
  {
   "cell_type": "code",
   "execution_count": 13,
   "metadata": {
    "collapsed": true
   },
   "outputs": [],
   "source": [
    "# Market cap definitions from Investopedia:\n",
    "\n",
    "# Large cap: +10 billion\n",
    "# Mid cap: 2 billion - 10 billion\n",
    "# Small cap: 300 million - 2 billion\n",
    "# Micro cap: 50 million - 300 million\n",
    "# Nano cap: Below 50 million"
   ]
  },
  {
   "cell_type": "code",
   "execution_count": 14,
   "metadata": {},
   "outputs": [
    {
     "data": {
      "text/plain": [
       "Text(0, 0.5, 'Billions (USD)')"
      ]
     },
     "execution_count": 14,
     "metadata": {},
     "output_type": "execute_result"
    },
    {
     "data": {
      "image/png": "[encoded data removed]",
      "text/plain": [
       "<Figure size 432x288 with 1 Axes>"
      ]
     },
     "metadata": {
      "needs_background": "light"
     },
     "output_type": "display_data"
    }
   ],
   "source": [
    "def capcount(query):\n",
    "    \"\"\"This function counts the different marketcaps of cap DataFrame\n",
    "    .query() takes a string\n",
    "    function returns an integer\"\"\"\n",
    "    return cap.query(query).count().id\n",
    "\n",
    "LABELS = [\"big\", \"micro\", \"nano\"]\n",
    "\n",
    "q_big = 'market_cap_usd > 300000000'\n",
    "big = capcount(q_big)\n",
    "\n",
    "q_micro = '300000000 > market_cap_usd > 50000000'\n",
    "micro = capcount(q_micro)\n",
    "\n",
    "q_nano = 'market_cap_usd < 50000000'\n",
    "nano =  capcount(q_nano)\n",
    "\n",
    "VALUES = [big, micro, nano]\n",
    "\n",
    "# plot \n",
    "plt.bar(range(len(VALUES)), VALUES, tick_label=LABELS)\n",
    "plt.title('Cryto Currency Market Cap by Category')\n",
    "plt.ylabel('Billions (USD)')"
   ]
  },
  {
   "cell_type": "code",
   "execution_count": 15,
   "metadata": {
    "scrolled": true
   },
   "outputs": [
    {
     "name": "stdout",
     "output_type": "stream",
     "text": [
      "24h_volume_usd        22\n",
      "available_supply      22\n",
      "id                    22\n",
      "last_updated          22\n",
      "market_cap_usd        22\n",
      "max_supply             9\n",
      "name                  22\n",
      "percent_change_1h     22\n",
      "percent_change_24h    22\n",
      "percent_change_7d     22\n",
      "price_btc             22\n",
      "price_usd             22\n",
      "rank                  22\n",
      "symbol                22\n",
      "total_supply          22\n",
      "dtype: int64\n"
     ]
    },
    {
     "data": {
      "text/html": [
       "<div>\n",
       "<style scoped>\n",
       "    .dataframe tbody tr th:only-of-type {\n",
       "        vertical-align: middle;\n",
       "    }\n",
       "\n",
       "    .dataframe tbody tr th {\n",
       "        vertical-align: top;\n",
       "    }\n",
       "\n",
       "    .dataframe thead th {\n",
       "        text-align: right;\n",
       "    }\n",
       "</style>\n",
       "<table border=\"1\" class=\"dataframe\">\n",
       "  <thead>\n",
       "    <tr style=\"text-align: right;\">\n",
       "      <th></th>\n",
       "      <th>24h_volume_usd</th>\n",
       "      <th>available_supply</th>\n",
       "      <th>id</th>\n",
       "      <th>last_updated</th>\n",
       "      <th>market_cap_usd</th>\n",
       "      <th>max_supply</th>\n",
       "      <th>name</th>\n",
       "      <th>percent_change_1h</th>\n",
       "      <th>percent_change_24h</th>\n",
       "      <th>percent_change_7d</th>\n",
       "      <th>price_btc</th>\n",
       "      <th>price_usd</th>\n",
       "      <th>rank</th>\n",
       "      <th>symbol</th>\n",
       "      <th>total_supply</th>\n",
       "    </tr>\n",
       "  </thead>\n",
       "  <tbody>\n",
       "    <tr>\n",
       "      <th>0</th>\n",
       "      <td>5.650980e+09</td>\n",
       "      <td>17449487</td>\n",
       "      <td>bitcoin</td>\n",
       "      <td>1546028544</td>\n",
       "      <td>68543998468</td>\n",
       "      <td>2.100000e+07</td>\n",
       "      <td>Bitcoin</td>\n",
       "      <td>-0.60</td>\n",
       "      <td>6.50</td>\n",
       "      <td>-0.46</td>\n",
       "      <td>1.000000</td>\n",
       "      <td>3928.138315</td>\n",
       "      <td>1</td>\n",
       "      <td>BTC</td>\n",
       "      <td>17449487</td>\n",
       "    </tr>\n",
       "    <tr>\n",
       "      <th>1</th>\n",
       "      <td>8.101865e+08</td>\n",
       "      <td>40794121066</td>\n",
       "      <td>ripple</td>\n",
       "      <td>1546028524</td>\n",
       "      <td>15318921018</td>\n",
       "      <td>1.000000e+11</td>\n",
       "      <td>XRP</td>\n",
       "      <td>-0.77</td>\n",
       "      <td>6.82</td>\n",
       "      <td>3.66</td>\n",
       "      <td>0.000096</td>\n",
       "      <td>0.375518</td>\n",
       "      <td>2</td>\n",
       "      <td>XRP</td>\n",
       "      <td>99991738974</td>\n",
       "    </tr>\n",
       "    <tr>\n",
       "      <th>2</th>\n",
       "      <td>3.077113e+09</td>\n",
       "      <td>104064011</td>\n",
       "      <td>ethereum</td>\n",
       "      <td>1546028537</td>\n",
       "      <td>14051805566</td>\n",
       "      <td>NaN</td>\n",
       "      <td>Ethereum</td>\n",
       "      <td>-1.33</td>\n",
       "      <td>13.80</td>\n",
       "      <td>21.86</td>\n",
       "      <td>0.034344</td>\n",
       "      <td>135.030405</td>\n",
       "      <td>3</td>\n",
       "      <td>ETH</td>\n",
       "      <td>104064011</td>\n",
       "    </tr>\n",
       "    <tr>\n",
       "      <th>3</th>\n",
       "      <td>4.839237e+08</td>\n",
       "      <td>17536000</td>\n",
       "      <td>bitcoin-cash</td>\n",
       "      <td>1546028532</td>\n",
       "      <td>3021947867</td>\n",
       "      <td>2.100000e+07</td>\n",
       "      <td>Bitcoin Cash</td>\n",
       "      <td>-2.09</td>\n",
       "      <td>12.18</td>\n",
       "      <td>-9.39</td>\n",
       "      <td>0.043831</td>\n",
       "      <td>172.328231</td>\n",
       "      <td>4</td>\n",
       "      <td>BCH</td>\n",
       "      <td>17536000</td>\n",
       "    </tr>\n",
       "    <tr>\n",
       "      <th>4</th>\n",
       "      <td>9.200758e+08</td>\n",
       "      <td>906245118</td>\n",
       "      <td>eos</td>\n",
       "      <td>1546028532</td>\n",
       "      <td>2429563446</td>\n",
       "      <td>NaN</td>\n",
       "      <td>EOS</td>\n",
       "      <td>-0.30</td>\n",
       "      <td>12.75</td>\n",
       "      <td>2.24</td>\n",
       "      <td>0.000682</td>\n",
       "      <td>2.680912</td>\n",
       "      <td>5</td>\n",
       "      <td>EOS</td>\n",
       "      <td>1006245120</td>\n",
       "    </tr>\n",
       "  </tbody>\n",
       "</table>\n",
       "</div>"
      ],
      "text/plain": [
       "   24h_volume_usd  available_supply            id  last_updated  \\\n",
       "0    5.650980e+09          17449487       bitcoin    1546028544   \n",
       "1    8.101865e+08       40794121066        ripple    1546028524   \n",
       "2    3.077113e+09         104064011      ethereum    1546028537   \n",
       "3    4.839237e+08          17536000  bitcoin-cash    1546028532   \n",
       "4    9.200758e+08         906245118           eos    1546028532   \n",
       "\n",
       "   market_cap_usd    max_supply          name  percent_change_1h  \\\n",
       "0     68543998468  2.100000e+07       Bitcoin              -0.60   \n",
       "1     15318921018  1.000000e+11           XRP              -0.77   \n",
       "2     14051805566           NaN      Ethereum              -1.33   \n",
       "3      3021947867  2.100000e+07  Bitcoin Cash              -2.09   \n",
       "4      2429563446           NaN           EOS              -0.30   \n",
       "\n",
       "   percent_change_24h  percent_change_7d  price_btc    price_usd  rank symbol  \\\n",
       "0                6.50              -0.46   1.000000  3928.138315     1    BTC   \n",
       "1                6.82               3.66   0.000096     0.375518     2    XRP   \n",
       "2               13.80              21.86   0.034344   135.030405     3    ETH   \n",
       "3               12.18              -9.39   0.043831   172.328231     4    BCH   \n",
       "4               12.75               2.24   0.000682     2.680912     5    EOS   \n",
       "\n",
       "   total_supply  \n",
       "0      17449487  \n",
       "1   99991738974  \n",
       "2     104064011  \n",
       "3      17536000  \n",
       "4    1006245120  "
      ]
     },
     "execution_count": 15,
     "metadata": {},
     "output_type": "execute_result"
    }
   ],
   "source": [
    "# query() the DataFrame and filter out all the micro and nano-cap cryptocurrencies  \n",
    "# save DataFrame of \"big\" cap cryptos as big_cap\n",
    "big_cap = df.query('market_cap_usd > 300000000')\n",
    "\n",
    "# view big_cap\n",
    "print(big_cap.count())\n",
    "big_cap.head()"
   ]
  },
  {
   "cell_type": "code",
   "execution_count": 16,
   "metadata": {},
   "outputs": [
    {
     "data": {
      "text/html": [
       "<div>\n",
       "<style scoped>\n",
       "    .dataframe tbody tr th:only-of-type {\n",
       "        vertical-align: middle;\n",
       "    }\n",
       "\n",
       "    .dataframe tbody tr th {\n",
       "        vertical-align: top;\n",
       "    }\n",
       "\n",
       "    .dataframe thead th {\n",
       "        text-align: right;\n",
       "    }\n",
       "</style>\n",
       "<table border=\"1\" class=\"dataframe\">\n",
       "  <thead>\n",
       "    <tr style=\"text-align: right;\">\n",
       "      <th></th>\n",
       "      <th>percent_change_24h</th>\n",
       "      <th>percent_change_7d</th>\n",
       "    </tr>\n",
       "    <tr>\n",
       "      <th>id</th>\n",
       "      <th></th>\n",
       "      <th></th>\n",
       "    </tr>\n",
       "  </thead>\n",
       "  <tbody>\n",
       "    <tr>\n",
       "      <th>bitcoin</th>\n",
       "      <td>6.50</td>\n",
       "      <td>-0.46</td>\n",
       "    </tr>\n",
       "    <tr>\n",
       "      <th>ripple</th>\n",
       "      <td>6.82</td>\n",
       "      <td>3.66</td>\n",
       "    </tr>\n",
       "    <tr>\n",
       "      <th>ethereum</th>\n",
       "      <td>13.80</td>\n",
       "      <td>21.86</td>\n",
       "    </tr>\n",
       "    <tr>\n",
       "      <th>bitcoin-cash</th>\n",
       "      <td>12.18</td>\n",
       "      <td>-9.39</td>\n",
       "    </tr>\n",
       "    <tr>\n",
       "      <th>eos</th>\n",
       "      <td>12.75</td>\n",
       "      <td>2.24</td>\n",
       "    </tr>\n",
       "  </tbody>\n",
       "</table>\n",
       "</div>"
      ],
      "text/plain": [
       "              percent_change_24h  percent_change_7d\n",
       "id                                                 \n",
       "bitcoin                     6.50              -0.46\n",
       "ripple                      6.82               3.66\n",
       "ethereum                   13.80              21.86\n",
       "bitcoin-cash               12.18              -9.39\n",
       "eos                        12.75               2.24"
      ]
     },
     "execution_count": 16,
     "metadata": {},
     "output_type": "execute_result"
    }
   ],
   "source": [
    "# Create a DataFrame that contains volatility information on cryptocurrencies.\n",
    "\n",
    "# Selecting the id, percent_change_24h and percent_change_7d columns\n",
    "big_cap_v = big_cap.loc[:,['id', 'percent_change_24h', 'percent_change_7d']]\n",
    "\n",
    "# Set the index to id and drop all rows that contain NaNs.\n",
    "big_cap_v = big_cap_v.set_index('id').dropna()\n",
    "\n",
    "#Sort volatility by percent_change_24h in ascending order.\n",
    "big_cap_v_24h = big_cap_v.sort_values('percent_change_24h', ascending=True)\n",
    "\n",
    "# view the .head() of volatility\n",
    "big_cap_v.head()"
   ]
  },
  {
   "cell_type": "code",
   "execution_count": 17,
   "metadata": {},
   "outputs": [
    {
     "data": {
      "image/png": "[encoded data removed]",
      "text/plain": [
       "<Figure size 720x432 with 2 Axes>"
      ]
     },
     "metadata": {
      "needs_background": "light"
     },
     "output_type": "display_data"
    },
    {
     "data": {
      "image/png": "[encoded data removed]",
      "text/plain": [
       "<Figure size 720x432 with 2 Axes>"
      ]
     },
     "metadata": {
      "needs_background": "light"
     },
     "output_type": "display_data"
    }
   ],
   "source": [
    "# \n",
    "\n",
    "TITLE24h1 = 'Fig 1. Big Cap Daily Losers and Winners'\n",
    "TITLE24h2 = 'Fig 2. Total Daily Losers and Winners'\n",
    "\n",
    "#\n",
    "fig, xy = top10_subplot(big_cap_v_24h.percent_change_24h, TITLE24h1)\n",
    "fig, xy = top10_subplot(volatility.percent_change_24h, TITLE24h2)"
   ]
  },
  {
   "cell_type": "code",
   "execution_count": 18,
   "metadata": {},
   "outputs": [
    {
     "data": {
      "image/png": "[encoded data removed]",
      "text/plain": [
       "<Figure size 720x432 with 2 Axes>"
      ]
     },
     "metadata": {
      "needs_background": "light"
     },
     "output_type": "display_data"
    },
    {
     "data": {
      "image/png": "[encoded data removed]",
      "text/plain": [
       "<Figure size 720x432 with 2 Axes>"
      ]
     },
     "metadata": {
      "needs_background": "light"
     },
     "output_type": "display_data"
    }
   ],
   "source": [
    "#\n",
    "\n",
    "#Sort volatility by percent_change_24h in ascending order.\n",
    "big_cap_v_7d = big_cap_v.sort_values('percent_change_7d', ascending=True)\n",
    "\n",
    "TITLEw1 = 'Fig 1. Big Cap Weekly Losers and Winners'\n",
    "TITLEw2 = 'Fig 2. Total Weekly Losers and Winners'\n",
    "\n",
    "#\n",
    "fig, xy = top10_subplot(big_cap_v_7d.percent_change_7d, TITLEw1)\n",
    "fig, xy = top10_subplot(volatility7d.percent_change_7d, TITLEw2)"
   ]
  },
  {
   "cell_type": "code",
   "execution_count": null,
   "metadata": {
    "collapsed": true
   },
   "outputs": [],
   "source": []
  }
 ],
 "metadata": {
  "kernelspec": {
   "display_name": "Python 3",
   "language": "python",
   "name": "python3"
  },
  "language_info": {
   "codemirror_mode": {
    "name": "ipython",
    "version": 3
   },
   "file_extension": ".py",
   "mimetype": "text/x-python",
   "name": "python",
   "nbconvert_exporter": "python",
   "pygments_lexer": "ipython3",
   "version": "3.7.1"
  }
 },
 "nbformat": 4,
 "nbformat_minor": 2
}
