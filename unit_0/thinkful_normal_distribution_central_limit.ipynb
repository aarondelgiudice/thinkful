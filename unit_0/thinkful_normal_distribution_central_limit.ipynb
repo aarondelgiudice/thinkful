{
 "cells": [
  {
   "cell_type": "code",
   "execution_count": 24,
   "metadata": {
    "collapsed": true
   },
   "outputs": [],
   "source": [
    "import numpy as np\n",
    "import pandas as pd\n",
    "import statistics as stats\n",
    "import matplotlib.pyplot as plt\n",
    "%matplotlib inline"
   ]
  },
  {
   "cell_type": "code",
   "execution_count": 19,
   "metadata": {
    "collapsed": true
   },
   "outputs": [],
   "source": [
    "# Data is described as \"normal\" if most values cluster in the center of the range, with the rest tapering off symmetrically\n",
    "# to the left and the right. The mean and median of a normally distributed variable are equal\n",
    "\n",
    "# The information in a normal distribution can be summarized by the mean μ (\"mu\") and standard deviation σ (\"sigma\")."
   ]
  },
  {
   "cell_type": "code",
   "execution_count": 21,
   "metadata": {
    "collapsed": true
   },
   "outputs": [],
   "source": [
    "# The probability density function for a normally distributed variable is:\n",
    "\n",
    "# f(x|μ,σ**2) = (1 / (2(σ**2)π)**0.5)*e**(-((x-μ)**2)/2(σ**2))\n",
    "\n",
    "# e is Euler’s number (e=2.71828…), a mathematical constant"
   ]
  },
  {
   "cell_type": "code",
   "execution_count": 23,
   "metadata": {
    "collapsed": true
   },
   "outputs": [],
   "source": [
    "# Approximately 68% of the values in a normally-distributed variable fall within 1 standard deviation above or below the mean,\n",
    "# 95% of values fall within two standard deviations of the mean,\n",
    "# and 99.7% of values fall within three standard deviations of the mean"
   ]
  },
  {
   "cell_type": "code",
   "execution_count": 25,
   "metadata": {},
   "outputs": [
    {
     "data": {
      "image/png": "[encoded data removed]",
      "text/plain": [
       "<Figure size 432x288 with 1 Axes>"
      ]
     },
     "metadata": {
      "needs_background": "light"
     },
     "output_type": "display_data"
    }
   ],
   "source": [
    "# We can use Python to generate a normally distributed variable by providing a mean and standard deviation\n",
    "\n",
    "# Making a standard normally distributed variable with 1000 observations, a mean of 0, and \n",
    "# a standard deviation of 1, and putting it in a data frame.\n",
    "mean = 0\n",
    "sd = 1\n",
    "n = 1000\n",
    "\n",
    "df = pd.DataFrame({'rand': np.random.normal(mean, sd, n)})\n",
    "\n",
    "df.hist()\n",
    "plt.show()"
   ]
  },
  {
   "cell_type": "code",
   "execution_count": 27,
   "metadata": {
    "collapsed": true
   },
   "outputs": [],
   "source": [
    "# The normal distribution is useful for data scientists because:\n",
    "\n",
    "# It is easily summarized using just two statistics, mean and standard deviation\n",
    "# The area under the curve is 1, making it easy to calculate the probability of individual outcomes within the distribution\n",
    "# Any variable that measures an outcome produced by aggregating many small independent effects will have a normal distribution\n",
    "# Many statistical tests (percentiles, z-scores, t-tests, ANOVAs, bell-curve grading) assume a normal distribution"
   ]
  },
  {
   "cell_type": "code",
   "execution_count": 29,
   "metadata": {
    "collapsed": true
   },
   "outputs": [],
   "source": [
    "# there are statistical tests of non-normality, but they are sensitive to sample size.\n",
    "# meaning that whether or not the test says your data is normal has more to do with how much data you have\n",
    "# the best method of deciding if your data is normal is to inspect the data visually"
   ]
  },
  {
   "cell_type": "code",
   "execution_count": 30,
   "metadata": {
    "collapsed": true
   },
   "outputs": [],
   "source": [
    "# QQ plots graph a variable with an unknown distribution against a variable with a known distribution\n",
    "# Values for each variable are sorted into ascending order, then plotted against each other\n",
    "# the known variable is the x-axis and the unknown variable as the y-axis\n",
    "# If the mystery variable shares the same distribution as the known variable, the result is linear\n",
    "# Deviations from linear distribution indicate that the data does not fit a normal distribution"
   ]
  },
  {
   "cell_type": "code",
   "execution_count": 25,
   "metadata": {
    "collapsed": true
   },
   "outputs": [],
   "source": [
    "# Let’s try a QQ plot to check if data is normally distributed:\n",
    "\n",
    "# make two variables\n",
    "# random noraml distribution with a mean of 50, a sigma of 300, and 1000 observations\n",
    "rand1 = np.random.normal(50, 300, 1000)\n",
    "# random poisson distribution with 1 and 10000 observations\n",
    "rand2 = np.random.poisson(1, 1000)\n",
    "\n",
    "# sort values in ascending order\n",
    "rand1.sort()\n",
    "rand2.sort()\n",
    "\n",
    "# make a normally distributed variable with 1000 observations, a mean of 0, and a sigma of 1 that will be our comparison\n",
    "norm = np.random.normal(0, 1, 1000)\n",
    "#sort values in ascending order\n",
    "norm.sort()"
   ]
  },
  {
   "cell_type": "code",
   "execution_count": 26,
   "metadata": {},
   "outputs": [
    {
     "data": {
      "image/png": "[encoded data removed]",
      "text/plain": [
       "<Figure size 432x288 with 1 Axes>"
      ]
     },
     "metadata": {
      "needs_background": "light"
     },
     "output_type": "display_data"
    },
    {
     "data": {
      "text/plain": [
       "<Figure size 432x288 with 0 Axes>"
      ]
     },
     "metadata": {},
     "output_type": "display_data"
    }
   ],
   "source": [
    "# Plot the variable rand1 against norm in qqplots.\n",
    "\n",
    "plt.plot(norm, rand1, 'o') \n",
    "plt.show()\n",
    "plt.clf()"
   ]
  },
  {
   "cell_type": "code",
   "execution_count": 28,
   "metadata": {},
   "outputs": [
    {
     "data": {
      "text/html": [
       "<div>\n",
       "<style scoped>\n",
       "    .dataframe tbody tr th:only-of-type {\n",
       "        vertical-align: middle;\n",
       "    }\n",
       "\n",
       "    .dataframe tbody tr th {\n",
       "        vertical-align: top;\n",
       "    }\n",
       "\n",
       "    .dataframe thead th {\n",
       "        text-align: right;\n",
       "    }\n",
       "</style>\n",
       "<table border=\"1\" class=\"dataframe\">\n",
       "  <thead>\n",
       "    <tr style=\"text-align: right;\">\n",
       "      <th></th>\n",
       "      <th>norm</th>\n",
       "    </tr>\n",
       "  </thead>\n",
       "  <tbody>\n",
       "    <tr>\n",
       "      <th>0</th>\n",
       "      <td>-3.793531</td>\n",
       "    </tr>\n",
       "    <tr>\n",
       "      <th>1</th>\n",
       "      <td>-3.247414</td>\n",
       "    </tr>\n",
       "    <tr>\n",
       "      <th>2</th>\n",
       "      <td>-3.229298</td>\n",
       "    </tr>\n",
       "    <tr>\n",
       "      <th>3</th>\n",
       "      <td>-3.218813</td>\n",
       "    </tr>\n",
       "    <tr>\n",
       "      <th>4</th>\n",
       "      <td>-3.006871</td>\n",
       "    </tr>\n",
       "  </tbody>\n",
       "</table>\n",
       "</div>"
      ],
      "text/plain": [
       "       norm\n",
       "0 -3.793531\n",
       "1 -3.247414\n",
       "2 -3.229298\n",
       "3 -3.218813\n",
       "4 -3.006871"
      ]
     },
     "execution_count": 28,
     "metadata": {},
     "output_type": "execute_result"
    }
   ],
   "source": [
    "# visualize the distributions\n",
    "\n",
    "# convert to DataFrame\n",
    "df1 = pd.DataFrame({'rand1': rand1})\n",
    "df2 = pd.DataFrame({'rand2': rand2})\n",
    "df_norm = pd.DataFrame({'norm': norm})\n",
    "\n",
    "df_norm.head()"
   ]
  },
  {
   "cell_type": "code",
   "execution_count": 36,
   "metadata": {},
   "outputs": [
    {
     "data": {
      "image/png": "[encoded data removed]",
      "text/plain": [
       "<Figure size 720x360 with 3 Axes>"
      ]
     },
     "metadata": {
      "needs_background": "light"
     },
     "output_type": "display_data"
    }
   ],
   "source": [
    "plt.figure(figsize=(10, 5))\n",
    "\n",
    "plt.subplot(2, 4, 1)\n",
    "plt.hist(rand1, bins=20, color='c')\n",
    "\n",
    "plt.subplot(2, 4, 2)\n",
    "plt.hist(rand2, bins=20, color='b')\n",
    "\n",
    "plt.subplot(2, 4, 3)\n",
    "plt.hist(norm, bins=20, color='k')\n",
    "\n",
    "plt.tight_layout()\n",
    "plt.show()"
   ]
  },
  {
   "cell_type": "code",
   "execution_count": null,
   "metadata": {
    "collapsed": true
   },
   "outputs": [],
   "source": [
    "# Plot the variable rand2 against norm in qqplots.\n",
    "\n",
    "plt.plot(norm, rand2, \"o\")\n",
    "plt.show()\n",
    "\n",
    "# Looking at the QQ plot, it is clear that the values of \"rand1\" are normally distributed,\n",
    "# while the values of \"rand2\" are not normally distributed\n",
    "# You may notice that with a QQ plot, the scales of the known and unknown variables do not have to match.\n",
    "# What matters is the relationships between datapoints within each variable."
   ]
  },
  {
   "cell_type": "code",
   "execution_count": null,
   "metadata": {
    "collapsed": true
   },
   "outputs": [],
   "source": [
    "# When data are not normal, the mean and standard deviation are no longer accurate or informative summaries\n",
    "# Let's make histograms of rand1 and rand2, then compute descriptive statistics to see how well they match up."
   ]
  },
  {
   "cell_type": "code",
   "execution_count": 37,
   "metadata": {},
   "outputs": [
    {
     "data": {
      "image/png": "[encoded data removed]",
      "text/plain": [
       "<Figure size 432x288 with 1 Axes>"
      ]
     },
     "metadata": {
      "needs_background": "light"
     },
     "output_type": "display_data"
    }
   ],
   "source": [
    "#Plot a histogram for rand1.\n",
    "plt.hist(rand1, bins=20, color='c')\n",
    "\n",
    "# Add a vertical line at the mean.\n",
    "plt.axvline(rand1.mean(), color='b', linestyle='solid', linewidth=2)\n",
    "\n",
    "# Add a vertical line at one standard deviation above the mean.\n",
    "plt.axvline(rand1.mean() + rand1.std(), color='b', linestyle='dashed', linewidth=2)\n",
    "\n",
    "# Add a vertical line at one standard deviation below the mean.\n",
    "plt.axvline(rand1.mean()-rand1.std(), color='b', linestyle='dashed', linewidth=2) \n",
    "\n",
    "# Print the histogram.\n",
    "plt.show()"
   ]
  },
  {
   "cell_type": "code",
   "execution_count": 38,
   "metadata": {},
   "outputs": [
    {
     "data": {
      "image/png": "[encoded data removed]",
      "text/plain": [
       "<Figure size 432x288 with 1 Axes>"
      ]
     },
     "metadata": {
      "needs_background": "light"
     },
     "output_type": "display_data"
    }
   ],
   "source": [
    "# Plot the same histogram for rand2.\n",
    "plt.hist(rand2, bins=20, color = 'c')\n",
    "\n",
    "# Add a vertical line at the mean.\n",
    "plt.axvline(rand2.mean(), color='b', linestyle='solid', linewidth=2)\n",
    "\n",
    "# Add a vertical line at one standard deviation above the mean.\n",
    "plt.axvline(rand2.mean() + rand2.std(), color='b', linestyle='dashed', linewidth=2)\n",
    "\n",
    "#Add a vertical line at one standard deviation below the mean.\n",
    "plt.axvline(rand2.mean() - rand2.std(), color='b', linestyle='dashed', linewidth=2)\n",
    "\n",
    "# Print the histogram.\n",
    "plt.show()"
   ]
  },
  {
   "cell_type": "code",
   "execution_count": null,
   "metadata": {
    "collapsed": true
   },
   "outputs": [],
   "source": [
    "# Because rand1 is normal, the mean is placed where the data clusters\n",
    "# with approximately 50% of the data falling on either side\n",
    "# and approximately 67% of the data falling within one standard deviation of the mean\n",
    "# For rand2, the mean is still placed where the data clusters, but the cluster is not centered\n",
    "# the standard deviation does not encompass the same amount of data on each side of the mean\n",
    "# Put another way, for rand2 the mean is no longer a measure of \"central\" tendency\n",
    "# it does not fall in the center, and the standard deviation no longer describes how much variance there is\n",
    "# Asymmetric probability distributions are described as \"skewed.\""
   ]
  },
  {
   "cell_type": "code",
   "execution_count": null,
   "metadata": {
    "collapsed": true
   },
   "outputs": [],
   "source": [
    "# there are many other probability distributions that are useful for particular statistical problems\n",
    "# Note that when a distribution is discrete (only takes integers)\n",
    "# it has a probability mass function, while a continuous distribution has a probability density function"
   ]
  },
  {
   "cell_type": "code",
   "execution_count": null,
   "metadata": {
    "collapsed": true
   },
   "outputs": [],
   "source": [
    "# The Bernoulli distribution represents two possible outcomes of an event (such as a coin flip)\n",
    "# Summarized by p, the probability of the outcome k\n",
    "# f(k|p) = { p,  if k = 1\n",
    "#           1-P, if k = 0"
   ]
  },
  {
   "cell_type": "code",
   "execution_count": 40,
   "metadata": {},
   "outputs": [
    {
     "data": {
      "image/png": "[encoded data removed]",
      "text/plain": [
       "<Figure size 432x288 with 1 Axes>"
      ]
     },
     "metadata": {
      "needs_background": "light"
     },
     "output_type": "display_data"
    }
   ],
   "source": [
    "# Generate a bernoulli distribution with p =0.5.\n",
    "bernoulli= np.random.binomial(1, .5, 1000)\n",
    "\n",
    "#Plot a histogram.\n",
    "plt.hist(bernoulli)\n",
    "\n",
    "# Print the histogram\n",
    "plt.show()"
   ]
  },
  {
   "cell_type": "code",
   "execution_count": null,
   "metadata": {
    "collapsed": true
   },
   "outputs": [],
   "source": [
    "# A binomial distribution counts the number of successes when an event with two possible outcomes\n",
    "# the event is repeated many times (such as many coin flips). \n",
    "# Summarized by p, the probability of getting k successes during n repetitions of the event"
   ]
  },
  {
   "cell_type": "code",
   "execution_count": 41,
   "metadata": {},
   "outputs": [
    {
     "data": {
      "image/png": "[encoded data removed]",
      "text/plain": [
       "<Figure size 432x288 with 1 Axes>"
      ]
     },
     "metadata": {
      "needs_background": "light"
     },
     "output_type": "display_data"
    }
   ],
   "source": [
    "# Generate a binomial distribution with n=20 and p=0.5.\n",
    "binomial = np.random.binomial(20, 0.5, 1000)\n",
    "\n",
    "# Plot a histogram.\n",
    "plt.hist(binomial)\n",
    "\n",
    "# Print the histogram.\n",
    "plt.show()"
   ]
  },
  {
   "cell_type": "code",
   "execution_count": null,
   "metadata": {
    "collapsed": true
   },
   "outputs": [],
   "source": [
    "# The gamma distribution represents the time until an event (such as lifespan until death)\n",
    "# when the event starts out unlikely (few people die in youth), becomes more likely (more people die in old age)\n",
    "# then becomes less likely again (few people die in extreme old age because most have already died)\n",
    "# Summarized by a shape parameter ( αα ) and an inverse-scale parameter ( ββ )"
   ]
  },
  {
   "cell_type": "code",
   "execution_count": 42,
   "metadata": {},
   "outputs": [
    {
     "data": {
      "image/png": "[encoded data removed]",
      "text/plain": [
       "<Figure size 432x288 with 1 Axes>"
      ]
     },
     "metadata": {
      "needs_background": "light"
     },
     "output_type": "display_data"
    }
   ],
   "source": [
    "# Generate a gamma distribution with shape =5 and scale = 1\n",
    "gamma = np.random.gamma(5,1, 1000)\n",
    "\n",
    "# Plot a histogram.\n",
    "plt.hist(gamma)\n",
    "\n",
    "# Print the histogram.\n",
    "plt.show()"
   ]
  },
  {
   "cell_type": "code",
   "execution_count": 43,
   "metadata": {
    "collapsed": true
   },
   "outputs": [],
   "source": [
    "# The poisson distribution represents the number of times a given event will occur during a given time interval\n",
    "# Data can range from 0 to approaching infinity\n",
    "# Summarized by  λλ  (“lambda”), the rate that events occur during a given time period\n",
    "# example: phones call to a radio show. there can either never occur no phone calls during the time period"
   ]
  },
  {
   "cell_type": "code",
   "execution_count": 44,
   "metadata": {},
   "outputs": [
    {
     "data": {
      "image/png": "[encoded data removed]",
      "text/plain": [
       "<Figure size 432x288 with 1 Axes>"
      ]
     },
     "metadata": {
      "needs_background": "light"
     },
     "output_type": "display_data"
    }
   ],
   "source": [
    "# Generate a Poisson distribution with lambda = 3\n",
    "poisson = np.random.poisson(3, 1000)\n",
    "\n",
    "# Plot a histogram.\n",
    "plt.hist(poisson)\n",
    "\n",
    "# Print the histogram.\n",
    "plt.show()"
   ]
  },
  {
   "cell_type": "code",
   "execution_count": 45,
   "metadata": {
    "collapsed": true
   },
   "outputs": [],
   "source": [
    "# Identifying data distribution requires visualizing the data through histograms and QQ plots\n",
    "# as well as knowing the source of the data (counts, probabilities, times, etc)"
   ]
  },
  {
   "cell_type": "code",
   "execution_count": 46,
   "metadata": {},
   "outputs": [
    {
     "data": {
      "image/png": "[encoded data removed]",
      "text/plain": [
       "<Figure size 432x288 with 1 Axes>"
      ]
     },
     "metadata": {
      "needs_background": "light"
     },
     "output_type": "display_data"
    }
   ],
   "source": [
    "# Distributions can also be conditional\n",
    "\n",
    "# Creating a data frame to hold the simulated ecommerce data, and populating it with a\n",
    "# normally distributed variable with mean 75 and standard deviation 25.\n",
    "\n",
    "ecommerce = pd.DataFrame()\n",
    "ecommerce['spending'] = np.random.normal(75, 25, 1000)\n",
    "\n",
    "# Plot a histogram.\n",
    "plt.hist(ecommerce['spending'])\n",
    "plt.show()"
   ]
  },
  {
   "cell_type": "code",
   "execution_count": 47,
   "metadata": {},
   "outputs": [
    {
     "data": {
      "image/png": "[encoded data removed]",
      "text/plain": [
       "<Figure size 432x288 with 1 Axes>"
      ]
     },
     "metadata": {
      "needs_background": "light"
     },
     "output_type": "display_data"
    }
   ],
   "source": [
    "# But let's say we're actually interested in a subset of that population\n",
    "# for instance visitors who visited the site more than twice. That data may look like this:\n",
    "\n",
    "# Adding a variable with counts of number of times visiting the site.\n",
    "ecommerce['visit_count'] = np.random.randint(0, 5, 1000)\n",
    "\n",
    "# Selecting only the cases where the visit count is greater than two and plotting those.\n",
    "plt.hist(ecommerce[ecommerce['visit_count'] > 2]['spending'])\n",
    "plt.show()"
   ]
  },
  {
   "cell_type": "code",
   "execution_count": null,
   "metadata": {
    "collapsed": true
   },
   "outputs": [],
   "source": []
  }
 ],
 "metadata": {
  "kernelspec": {
   "display_name": "Python 3",
   "language": "python",
   "name": "python3"
  },
  "language_info": {
   "codemirror_mode": {
    "name": "ipython",
    "version": 3
   },
   "file_extension": ".py",
   "mimetype": "text/x-python",
   "name": "python",
   "nbconvert_exporter": "python",
   "pygments_lexer": "ipython3",
   "version": "3.7.1"
  }
 },
 "nbformat": 4,
 "nbformat_minor": 2
}
