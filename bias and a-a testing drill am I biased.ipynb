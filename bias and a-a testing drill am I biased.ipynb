{
 "cells": [
  {
   "cell_type": "markdown",
   "metadata": {},
   "source": [
    "# Bias and A/A Testing\n",
    "\n",
    "Unit 1 / Lesson 4 / Project 3\n",
    "\n",
    "# Drill: Am I Biased?\n",
    "\n",
    "For each of the following scenarios, call out the potential biases in the proposed experiment.\n",
    "Do your best to try to discover not only the bias, but the initial design.\n",
    "There is plenty of room for interpretation here, so make sure to state what assumptions you're making.\n",
    "\n",
    "- You're testing advertising emails for a bathing suit company and you test one version of the email in February and the other in May.\n",
    "- You open a clinic to treat anxiety and find that the people who visit show a higher rate of anxiety than the general population.\n",
    "- You launch a new ad billboard based campaign and see an increase in website visits in the first week.\n",
    "- You launch a loyalty program but see no change in visits in the first week."
   ]
  },
  {
   "cell_type": "markdown",
   "metadata": {},
   "source": [
    "### You're testing advertising emails for a bathing suit company and you test one version of the email in February and the other in May\n",
    "\n",
    "Depending on the demographics of the sample, you'll have more success in May rather than February for subjects in the Northen Hemisphere.\n",
    "If the emails are directed to people who live in Australia, you'll have a greater response in February.\n",
    "In this case there's a study context bias of the seasonality of the product and time of the test.\n",
    "\n",
    "Unless the purpose of the test is the see how much seasonality affects swim suit sales, then the test could be a good place to start."
   ]
  },
  {
   "cell_type": "markdown",
   "metadata": {},
   "source": [
    "### You open a clinic to treat anxiety and find that the people who visit show a higher rate of anxiety than the general population\n",
    "\n",
    "This is like saying people who show up to the emergency room are more likely to suffer traumatic injuries.\n",
    "It's sampling bias, or sample shows a higher concentration of people experiencing anxiety because we're only sampling from people who are visiting a clinic to treat anxiety."
   ]
  },
  {
   "cell_type": "markdown",
   "metadata": {},
   "source": [
    "### You launch a new ad billboard based campaign and see an increase in website visits in the first week.\n",
    "\n",
    "This is an example of bias in assignment conditions.\n",
    "We could assume that an ad campaign to promote a website would do better placing ads on the internet, rather than on a billboard.\n",
    "It would be easier to access the site from an online ad, so we could assume interaction rate would be higher.\n",
    "A billboard we could assume would be less effective if it's facing a highway full of motorists who can't readily browse the internet because they're driving.\n",
    "If we measured the outcome compared to dollars spent, and online ad campaign would likely be more successful.\n",
    "That's not because the ad is betters, it's because the test was more suited to the outcome we desired."
   ]
  },
  {
   "cell_type": "markdown",
   "metadata": {},
   "source": [
    "### You launch a loyalty program but see no change in visits in the first week.\n",
    "\n",
    "This could be an example of sampling bias or even observer bias.\n",
    "If you're sampling from a group of customers only after the first week of the launch of a loyalty program, it's possible many of your customers haven't even heard of the loyalty program yet.\n",
    "It's also possible that the person conduction the survey doesn't want the loyalty program to be successful and is intentionally conducting the survy early to demonstrate an artificially low conversion rate."
   ]
  }
 ],
 "metadata": {
  "kernelspec": {
   "display_name": "Python 3",
   "language": "python",
   "name": "python3"
  },
  "language_info": {
   "codemirror_mode": {
    "name": "ipython",
    "version": 3
   },
   "file_extension": ".py",
   "mimetype": "text/x-python",
   "name": "python",
   "nbconvert_exporter": "python",
   "pygments_lexer": "ipython3",
   "version": "3.7.1"
  }
 },
 "nbformat": 4,
 "nbformat_minor": 2
}
